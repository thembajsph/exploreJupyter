{
 "cells": [
  {
   "cell_type": "markdown",
   "metadata": {},
   "source": [
    "# Basic SQL Queries: TMDb Database\n",
    "© Explore Data Science Academy"
   ]
  },
  {
   "cell_type": "markdown",
   "metadata": {},
   "source": [
    "## Instructions to Students\n",
    "\n",
    "This challenge is designed to determine how much you have learned so far and will test your knowledge on Basic SQL queries.\n",
    "\n",
    "The answers for this challenge should be selected on Athena for each corresponding Multiple Choice Question. The questions are included in this notebook and are numbered according to the Athena Questions. The options to choose from for each question has also been included.\n",
    "\n",
    "*NOTE:*\n",
    "Do not add or remove cells in this notebook. Do not edit or remove the `%%sql` comment as it is required to run each cell.\n",
    "\n",
    "**_Good Luck!_**"
   ]
  },
  {
   "cell_type": "markdown",
   "metadata": {},
   "source": [
    "## Honour Code\n",
    "\n",
    "I YOUR NAME, YOUR SURNAME, confirm - by submitting this document - that the solutions in this notebook are a result of my own work and that I abide by the EDSA honour code (https://drive.google.com/file/d/1QDCjGZJ8-FmJE3bZdIQNwnJyQKPhHZBn/view?usp=sharing).\n",
    "\n",
    "Non-compliance with the honour code constitutes a material breach of contract."
   ]
  },
  {
   "cell_type": "markdown",
   "metadata": {},
   "source": [
    "## The TMDb Database\n",
    "\n",
    "In this challenge you will be exploring the [The Movie Database](https://www.themoviedb.org/): an online movie and TV show database, which houses some of the most popular movies and TV shows at your finger tips. The TMDb database supports 39 official languages used in over 180 countries daily and dates all the way back to 2008. \n",
    "\n",
    "\n",
    "<img src=\"https://github.com/Explore-AI/Pictures/blob/master/sql_tmdb.jpg?raw=true\" width=80%/>\n",
    "\n",
    "\n",
    "Below is an Entity Relationship Diagram (ERD) of the TMDb database:\n",
    "\n",
    "<img src=\"https://github.com/Explore-AI/Pictures/blob/master/TMDB_ER_diagram.png?raw=true\" width=70%/>\n",
    "\n",
    "As can be seen from the ER diagram, the TMDb database consists of `12 tables` containing information about movies, cast, genre and so much more.  \n",
    "\n",
    "For this challenge we will only be making use of the Movies table from the TMDb database. We will be applying the use of basic SQL queries to gain insightful information from the Movies table. The Movie table consists of: \n",
    "- 15 columns\n",
    "- 4804 rows\n",
    "- Includes information on movie revenue, release date, popularity and so much more ! \n",
    "\n",
    "Let's get started!"
   ]
  },
  {
   "cell_type": "markdown",
   "metadata": {},
   "source": [
    "## Loading the database\n",
    "\n",
    "To begin and start making use of SQL queries you need to prepare your SQL environment you can do this by loading in the magic command `%load_ext sql`, next you can go ahead and load in your database. To do this you will need to ensure you have downloaded the `TMDB.db`sqlite file from Athena and have stored it in a known location. Now that you have all the prerequistes you can go ahead and load it into the notebook. "
   ]
  },
  {
   "cell_type": "code",
   "execution_count": 1,
   "metadata": {},
   "outputs": [],
   "source": [
    "%load_ext sql"
   ]
  },
  {
   "cell_type": "code",
   "execution_count": 2,
   "metadata": {},
   "outputs": [],
   "source": [
    "%%sql \n",
    "\n",
    "sqlite:///TMDB.db"
   ]
  },
  {
   "cell_type": "markdown",
   "metadata": {},
   "source": [
    "## Questions on Basic SQL Queries \n",
    "\n",
    "Use the given cell below each question to execute your SQL queries to find the correct input from the options provided for the multiple choice questions on Athena.\n",
    "\n",
    "To attempt this you will use what you have learned about the following functions and statements:\n",
    "\n",
    "- SELECT\n",
    "- FROM\n",
    "- WHERE\n",
    "- LIKE\n",
    "- COUNT\n",
    "- OR\n",
    "- AND\n",
    "- BETWEEN"
   ]
  },
  {
   "cell_type": "markdown",
   "metadata": {},
   "source": [
    "**Question 1**\n",
    "\n",
    "What is the SQL code to see the whole movies table?\n",
    "\n",
    "**Options:** \n",
    "- SELECT ALL FROM Movies\n",
    "- SELECT TABLE FROM Movies\n",
    "- SELECT * FROM Movies\n",
    "- SELECT % FROM Movies"
   ]
  },
  {
   "cell_type": "code",
   "execution_count": 10,
   "metadata": {},
   "outputs": [
    {
     "name": "stdout",
     "output_type": "stream",
     "text": [
      " * sqlite:///TMDB.db\n",
      "Done.\n"
     ]
    },
    {
     "data": {
      "text/html": [
       "<table>\n",
       "    <thead>\n",
       "        <tr>\n",
       "            <th>movie_id</th>\n",
       "            <th>title</th>\n",
       "            <th>release_date</th>\n",
       "            <th>budget</th>\n",
       "            <th>homepage</th>\n",
       "            <th>original_language</th>\n",
       "            <th>original_title</th>\n",
       "            <th>overview</th>\n",
       "            <th>popularity</th>\n",
       "            <th>revenue</th>\n",
       "            <th>runtime</th>\n",
       "            <th>release_status</th>\n",
       "            <th>tagline</th>\n",
       "            <th>vote_average</th>\n",
       "            <th>vote_count</th>\n",
       "        </tr>\n",
       "    </thead>\n",
       "    <tbody>\n",
       "        <tr>\n",
       "            <td>5</td>\n",
       "            <td>Four Rooms</td>\n",
       "            <td>1995-12-09 00:00:00.000000</td>\n",
       "            <td>4000000</td>\n",
       "            <td>None</td>\n",
       "            <td>en</td>\n",
       "            <td>Four Rooms</td>\n",
       "            <td>It&#x27;s Ted the Bellhop&#x27;s first night on the job...and the hotel&#x27;s very unusual guests are about to place him in some outrageous predicaments. It seems that this evening&#x27;s room service is serving up one unbelievable happening after another.</td>\n",
       "            <td>22.87623</td>\n",
       "            <td>4300000.0</td>\n",
       "            <td>98.0</td>\n",
       "            <td>Released</td>\n",
       "            <td>Twelve outrageous guests. Four scandalous requests. And one lone bellhop, in his first day on the job, who&#x27;s in for the wildest New year&#x27;s Eve of his life.</td>\n",
       "            <td>6.5</td>\n",
       "            <td>530</td>\n",
       "        </tr>\n",
       "        <tr>\n",
       "            <td>11</td>\n",
       "            <td>Star Wars</td>\n",
       "            <td>1977-05-25 00:00:00.000000</td>\n",
       "            <td>11000000</td>\n",
       "            <td>http://www.starwars.com/films/star-wars-episode-iv-a-new-hope</td>\n",
       "            <td>en</td>\n",
       "            <td>Star Wars</td>\n",
       "            <td>Princess Leia is captured and held hostage by the evil Imperial forces in their effort to take over the galactic Empire. Venturesome Luke Skywalker and dashing captain Han Solo team together with the loveable robot duo R2-D2 and C-3PO to rescue the beautiful princess and restore peace and justice in the Empire.</td>\n",
       "            <td>126.393695</td>\n",
       "            <td>775398007.0</td>\n",
       "            <td>121.0</td>\n",
       "            <td>Released</td>\n",
       "            <td>A long time ago in a galaxy far, far away...</td>\n",
       "            <td>8.1</td>\n",
       "            <td>6624</td>\n",
       "        </tr>\n",
       "        <tr>\n",
       "            <td>12</td>\n",
       "            <td>Finding Nemo</td>\n",
       "            <td>2003-05-30 00:00:00.000000</td>\n",
       "            <td>94000000</td>\n",
       "            <td>http://movies.disney.com/finding-nemo</td>\n",
       "            <td>en</td>\n",
       "            <td>Finding Nemo</td>\n",
       "            <td>Nemo, an adventurous young clownfish, is unexpectedly taken from his Great Barrier Reef home to a dentist&#x27;s office aquarium. It&#x27;s up to his worrisome father Marlin and a friendly but forgetful fish Dory to bring Nemo home -- meeting vegetarian sharks, surfer dude turtles, hypnotic jellyfish, hungry seagulls, and more along the way.</td>\n",
       "            <td>85.688789</td>\n",
       "            <td>940335536.0</td>\n",
       "            <td>100.0</td>\n",
       "            <td>Released</td>\n",
       "            <td>There are 3.7 trillion fish in the ocean, they&#x27;re looking for one.</td>\n",
       "            <td>7.6</td>\n",
       "            <td>6122</td>\n",
       "        </tr>\n",
       "        <tr>\n",
       "            <td>13</td>\n",
       "            <td>Forrest Gump</td>\n",
       "            <td>1994-07-06 00:00:00.000000</td>\n",
       "            <td>55000000</td>\n",
       "            <td>None</td>\n",
       "            <td>en</td>\n",
       "            <td>Forrest Gump</td>\n",
       "            <td>A man with a low IQ has accomplished great things in his life and been present during significant historic events - in each case, far exceeding what anyone imagined he could do. Yet, despite all the things he has attained, his one true love eludes him. &#x27;Forrest Gump&#x27; is the story of a man who rose above his challenges, and who proved that determination, courage, and love are more important than ability.</td>\n",
       "            <td>138.133331</td>\n",
       "            <td>677945399.0</td>\n",
       "            <td>142.0</td>\n",
       "            <td>Released</td>\n",
       "            <td>The world will never be the same, once you&#x27;ve seen it through the eyes of Forrest Gump.</td>\n",
       "            <td>8.2</td>\n",
       "            <td>7927</td>\n",
       "        </tr>\n",
       "        <tr>\n",
       "            <td>14</td>\n",
       "            <td>American Beauty</td>\n",
       "            <td>1999-09-15 00:00:00.000000</td>\n",
       "            <td>15000000</td>\n",
       "            <td>http://www.dreamworks.com/ab/</td>\n",
       "            <td>en</td>\n",
       "            <td>American Beauty</td>\n",
       "            <td>Lester Burnham, a depressed suburban father in a mid-life crisis, decides to turn his hectic life around after developing an infatuation with his daughter&#x27;s attractive friend.</td>\n",
       "            <td>80.878605</td>\n",
       "            <td>356296601.0</td>\n",
       "            <td>122.0</td>\n",
       "            <td>Released</td>\n",
       "            <td>Look closer.</td>\n",
       "            <td>7.9</td>\n",
       "            <td>3313</td>\n",
       "        </tr>\n",
       "        <tr>\n",
       "            <td>16</td>\n",
       "            <td>Dancer in the Dark</td>\n",
       "            <td>2000-05-17 00:00:00.000000</td>\n",
       "            <td>12800000</td>\n",
       "            <td>None</td>\n",
       "            <td>en</td>\n",
       "            <td>Dancer in the Dark</td>\n",
       "            <td>Selma, a Czech immigrant on the verge of blindness, struggles to make ends meet for herself and her son, who has inherited the same genetic disorder and will suffer the same fate without an expensive operation. When life gets too difficult, Selma learns to cope through her love of musicals, escaping life&#x27;s troubles - even if just for a moment - by dreaming up little numbers to the rhythmic beats of her surroundings.</td>\n",
       "            <td>22.022228</td>\n",
       "            <td>40031879.0</td>\n",
       "            <td>140.0</td>\n",
       "            <td>Released</td>\n",
       "            <td>You don&#x27;t need eyes to see.</td>\n",
       "            <td>7.6</td>\n",
       "            <td>377</td>\n",
       "        </tr>\n",
       "        <tr>\n",
       "            <td>18</td>\n",
       "            <td>The Fifth Element</td>\n",
       "            <td>1997-05-07 00:00:00.000000</td>\n",
       "            <td>90000000</td>\n",
       "            <td>None</td>\n",
       "            <td>en</td>\n",
       "            <td>The Fifth Element</td>\n",
       "            <td>In 2257, a taxi driver is unintentionally given the task of saving a young girl who is part of the key that will ensure the survival of humanity.</td>\n",
       "            <td>109.528572</td>\n",
       "            <td>263920180.0</td>\n",
       "            <td>126.0</td>\n",
       "            <td>Released</td>\n",
       "            <td>There is no future without it.</td>\n",
       "            <td>7.3</td>\n",
       "            <td>3885</td>\n",
       "        </tr>\n",
       "        <tr>\n",
       "            <td>19</td>\n",
       "            <td>Metropolis</td>\n",
       "            <td>1927-01-10 00:00:00.000000</td>\n",
       "            <td>92620000</td>\n",
       "            <td>None</td>\n",
       "            <td>de</td>\n",
       "            <td>Metropolis</td>\n",
       "            <td>In a futuristic city sharply divided between the working class and the city planners, the son of the city&#x27;s mastermind falls in love with a working class prophet who predicts the coming of a savior to mediate their differences.</td>\n",
       "            <td>32.351527</td>\n",
       "            <td>650422.0</td>\n",
       "            <td>153.0</td>\n",
       "            <td>Released</td>\n",
       "            <td>There can be no understanding between the hands and the brain unless the heart acts as mediator.</td>\n",
       "            <td>8.0</td>\n",
       "            <td>657</td>\n",
       "        </tr>\n",
       "        <tr>\n",
       "            <td>20</td>\n",
       "            <td>My Life Without Me</td>\n",
       "            <td>2003-03-07 00:00:00.000000</td>\n",
       "            <td>0</td>\n",
       "            <td>http://www.clubcultura.com/clubcine/clubcineastas/isabelcoixet/mividasinmi/index.htm</td>\n",
       "            <td>en</td>\n",
       "            <td>My Life Without Me</td>\n",
       "            <td>A Pedro Almodovar production in which a fatally ill mother with only two months to live creates a list of things she wants to do before she dies with out telling her family of her illness.</td>\n",
       "            <td>7.958831</td>\n",
       "            <td>9726954.0</td>\n",
       "            <td>106.0</td>\n",
       "            <td>Released</td>\n",
       "            <td>None</td>\n",
       "            <td>7.2</td>\n",
       "            <td>77</td>\n",
       "        </tr>\n",
       "        <tr>\n",
       "            <td>22</td>\n",
       "            <td>Pirates of the Caribbean: The Curse of the Black Pearl</td>\n",
       "            <td>2003-07-09 00:00:00.000000</td>\n",
       "            <td>140000000</td>\n",
       "            <td>http://disney.go.com/disneyvideos/liveaction/pirates/main_site/main.html</td>\n",
       "            <td>en</td>\n",
       "            <td>Pirates of the Caribbean: The Curse of the Black Pearl</td>\n",
       "            <td>Jack Sparrow, a freewheeling 17th-century pirate who roams the Caribbean Sea, butts heads with a rival pirate bent on pillaging the village of Port Royal. When the governor&#x27;s daughter is kidnapped, Sparrow decides to help the girl&#x27;s love save her. But their seafaring mission is hardly simple.</td>\n",
       "            <td>271.972889</td>\n",
       "            <td>655011224.0</td>\n",
       "            <td>143.0</td>\n",
       "            <td>Released</td>\n",
       "            <td>Prepare to be blown out of the water.</td>\n",
       "            <td>7.5</td>\n",
       "            <td>6985</td>\n",
       "        </tr>\n",
       "    </tbody>\n",
       "</table>"
      ],
      "text/plain": [
       "[(5, 'Four Rooms', '1995-12-09 00:00:00.000000', 4000000, None, 'en', 'Four Rooms', \"It's Ted the Bellhop's first night on the job...and the hotel's very unusual guests are about to place him in some outrageous predicaments. It seems that this evening's room service is serving up one unbelievable happening after another.\", 22.87623, 4300000.0, 98.0, 'Released', \"Twelve outrageous guests. Four scandalous requests. And one lone bellhop, in his first day on the job, who's in for the wildest New year's Eve of his life.\", 6.5, 530),\n",
       " (11, 'Star Wars', '1977-05-25 00:00:00.000000', 11000000, 'http://www.starwars.com/films/star-wars-episode-iv-a-new-hope', 'en', 'Star Wars', 'Princess Leia is captured and held hostage by the evil Imperial forces in their effort to take over the galactic Empire. Venturesome Luke Skywalker a ... (14 characters truncated) ... tain Han Solo team together with the loveable robot duo R2-D2 and C-3PO to rescue the beautiful princess and restore peace and justice in the Empire.', 126.393695, 775398007.0, 121.0, 'Released', 'A long time ago in a galaxy far, far away...', 8.1, 6624),\n",
       " (12, 'Finding Nemo', '2003-05-30 00:00:00.000000', 94000000, 'http://movies.disney.com/finding-nemo', 'en', 'Finding Nemo', \"Nemo, an adventurous young clownfish, is unexpectedly taken from his Great Barrier Reef home to a dentist's office aquarium. It's up to his worrisome ... (35 characters truncated) ... orgetful fish Dory to bring Nemo home -- meeting vegetarian sharks, surfer dude turtles, hypnotic jellyfish, hungry seagulls, and more along the way.\", 85.688789, 940335536.0, 100.0, 'Released', \"There are 3.7 trillion fish in the ocean, they're looking for one.\", 7.6, 6122),\n",
       " (13, 'Forrest Gump', '1994-07-06 00:00:00.000000', 55000000, None, 'en', 'Forrest Gump', \"A man with a low IQ has accomplished great things in his life and been present during significant historic events - in each case, far exceeding what  ... (108 characters truncated) ... rest Gump' is the story of a man who rose above his challenges, and who proved that determination, courage, and love are more important than ability.\", 138.133331, 677945399.0, 142.0, 'Released', \"The world will never be the same, once you've seen it through the eyes of Forrest Gump.\", 8.2, 7927),\n",
       " (14, 'American Beauty', '1999-09-15 00:00:00.000000', 15000000, 'http://www.dreamworks.com/ab/', 'en', 'American Beauty', \"Lester Burnham, a depressed suburban father in a mid-life crisis, decides to turn his hectic life around after developing an infatuation with his daughter's attractive friend.\", 80.878605, 356296601.0, 122.0, 'Released', 'Look closer.', 7.9, 3313),\n",
       " (16, 'Dancer in the Dark', '2000-05-17 00:00:00.000000', 12800000, None, 'en', 'Dancer in the Dark', \"Selma, a Czech immigrant on the verge of blindness, struggles to make ends meet for herself and her son, who has inherited the same genetic disorder  ... (121 characters truncated) ... her love of musicals, escaping life's troubles - even if just for a moment - by dreaming up little numbers to the rhythmic beats of her surroundings.\", 22.022228, 40031879.0, 140.0, 'Released', \"You don't need eyes to see.\", 7.6, 377),\n",
       " (18, 'The Fifth Element', '1997-05-07 00:00:00.000000', 90000000, None, 'en', 'The Fifth Element', 'In 2257, a taxi driver is unintentionally given the task of saving a young girl who is part of the key that will ensure the survival of humanity.', 109.528572, 263920180.0, 126.0, 'Released', 'There is no future without it.', 7.3, 3885),\n",
       " (19, 'Metropolis', '1927-01-10 00:00:00.000000', 92620000, None, 'de', 'Metropolis', \"In a futuristic city sharply divided between the working class and the city planners, the son of the city's mastermind falls in love with a working class prophet who predicts the coming of a savior to mediate their differences.\", 32.351527, 650422.0, 153.0, 'Released', 'There can be no understanding between the hands and the brain unless the heart acts as mediator.', 8.0, 657),\n",
       " (20, 'My Life Without Me', '2003-03-07 00:00:00.000000', 0, 'http://www.clubcultura.com/clubcine/clubcineastas/isabelcoixet/mividasinmi/index.htm', 'en', 'My Life Without Me', 'A Pedro Almodovar production in which a fatally ill mother with only two months to live creates a list of things she wants to do before she dies with out telling her family of her illness.', 7.958831, 9726954.0, 106.0, 'Released', None, 7.2, 77),\n",
       " (22, 'Pirates of the Caribbean: The Curse of the Black Pearl', '2003-07-09 00:00:00.000000', 140000000, 'http://disney.go.com/disneyvideos/liveaction/pirates/main_site/main.html', 'en', 'Pirates of the Caribbean: The Curse of the Black Pearl', \"Jack Sparrow, a freewheeling 17th-century pirate who roams the Caribbean Sea, butts heads with a rival pirate bent on pillaging the village of Port Royal. When the governor's daughter is kidnapped, Sparrow decides to help the girl's love save her. But their seafaring mission is hardly simple.\", 271.972889, 655011224.0, 143.0, 'Released', 'Prepare to be blown out of the water.', 7.5, 6985)]"
      ]
     },
     "execution_count": 10,
     "metadata": {},
     "output_type": "execute_result"
    }
   ],
   "source": [
    "%%sql \n",
    "\n",
    "SELECT * FROM Movies\n",
    "LIMIT 10;"
   ]
  },
  {
   "cell_type": "markdown",
   "metadata": {},
   "source": [
    "**Question 2**\n",
    "\n",
    "What was the budget for the movie “Inception”?\n",
    "\n",
    "**Options:**\n",
    "- $224 000 000\n",
    "\n",
    "- $160 000 000\n",
    "\n",
    "- $344 000 000\n",
    "\n",
    "- $115 000 000\n"
   ]
  },
  {
   "cell_type": "code",
   "execution_count": 6,
   "metadata": {},
   "outputs": [
    {
     "name": "stdout",
     "output_type": "stream",
     "text": [
      " * sqlite:///TMDB.db\n",
      "Done.\n"
     ]
    },
    {
     "data": {
      "text/html": [
       "<table>\n",
       "    <thead>\n",
       "        <tr>\n",
       "            <th>budget</th>\n",
       "        </tr>\n",
       "    </thead>\n",
       "    <tbody>\n",
       "        <tr>\n",
       "            <td>160000000</td>\n",
       "        </tr>\n",
       "    </tbody>\n",
       "</table>"
      ],
      "text/plain": [
       "[(160000000,)]"
      ]
     },
     "execution_count": 6,
     "metadata": {},
     "output_type": "execute_result"
    }
   ],
   "source": [
    "%%sql \n",
    "SELECT budget FROM Movies\n",
    "WHERE title = \"Inception\";"
   ]
  },
  {
   "cell_type": "markdown",
   "metadata": {},
   "source": [
    "**Question 3**\n",
    "\n",
    "What is the runtime of the movie \"Titanic\"?\n",
    "\n",
    "**Options:**\n",
    "- 146\n",
    "- 158\n",
    "- 122\n",
    "- 194"
   ]
  },
  {
   "cell_type": "code",
   "execution_count": 6,
   "metadata": {},
   "outputs": [
    {
     "name": "stdout",
     "output_type": "stream",
     "text": [
      " * sqlite:///TMDB.db\n",
      "Done.\n"
     ]
    },
    {
     "data": {
      "text/html": [
       "<table>\n",
       "    <thead>\n",
       "        <tr>\n",
       "            <th>runtime</th>\n",
       "        </tr>\n",
       "    </thead>\n",
       "    <tbody>\n",
       "        <tr>\n",
       "            <td>194.0</td>\n",
       "        </tr>\n",
       "    </tbody>\n",
       "</table>"
      ],
      "text/plain": [
       "[(194.0,)]"
      ]
     },
     "execution_count": 6,
     "metadata": {},
     "output_type": "execute_result"
    }
   ],
   "source": [
    "%%sql \n",
    "SELECT runtime FROM Movies\n",
    "WHERE title = \"Titanic\";"
   ]
  },
  {
   "cell_type": "markdown",
   "metadata": {},
   "source": [
    "**Question 4**\n",
    "\n",
    "How many movies do not have English as their original language? (Hint: “en” is the abbreviation for English)\n",
    "\n",
    "**Options:**\n",
    "- 492\n",
    "- 298\n",
    "- 387\n",
    "- 315"
   ]
  },
  {
   "cell_type": "code",
   "execution_count": 13,
   "metadata": {},
   "outputs": [
    {
     "name": "stdout",
     "output_type": "stream",
     "text": [
      " * sqlite:///TMDB.db\n",
      "Done.\n"
     ]
    },
    {
     "data": {
      "text/html": [
       "<table>\n",
       "    <thead>\n",
       "        <tr>\n",
       "            <th>COUNT(*)</th>\n",
       "        </tr>\n",
       "    </thead>\n",
       "    <tbody>\n",
       "        <tr>\n",
       "            <td>298</td>\n",
       "        </tr>\n",
       "    </tbody>\n",
       "</table>"
      ],
      "text/plain": [
       "[(298,)]"
      ]
     },
     "execution_count": 13,
     "metadata": {},
     "output_type": "execute_result"
    }
   ],
   "source": [
    "%%sql \n",
    "SELECT COUNT(*) FROM Movies\n",
    "WHERE original_language != \"en\";"
   ]
  },
  {
   "cell_type": "markdown",
   "metadata": {},
   "source": [
    "**Question 5**\n",
    "\n",
    "How many movies are there that have a popularity score of more than 250?\n",
    "\n",
    "**Options:**\n",
    "- 7\n",
    "- 5\n",
    "- 9\n",
    "- 11"
   ]
  },
  {
   "cell_type": "code",
   "execution_count": 14,
   "metadata": {},
   "outputs": [
    {
     "name": "stdout",
     "output_type": "stream",
     "text": [
      " * sqlite:///TMDB.db\n",
      "Done.\n"
     ]
    },
    {
     "data": {
      "text/html": [
       "<table>\n",
       "    <thead>\n",
       "        <tr>\n",
       "            <th>COUNT(*)</th>\n",
       "        </tr>\n",
       "    </thead>\n",
       "    <tbody>\n",
       "        <tr>\n",
       "            <td>7</td>\n",
       "        </tr>\n",
       "    </tbody>\n",
       "</table>"
      ],
      "text/plain": [
       "[(7,)]"
      ]
     },
     "execution_count": 14,
     "metadata": {},
     "output_type": "execute_result"
    }
   ],
   "source": [
    "%%sql \n",
    "\n",
    "SELECT COUNT(*) FROM Movies\n",
    "WHERE popularity >= 250;"
   ]
  },
  {
   "cell_type": "markdown",
   "metadata": {},
   "source": [
    "**Question 6**\n",
    "\n",
    " How many movies are there where the title is not the same as the original title?\n",
    " \n",
    " **Options:**\n",
    " -  187\n",
    " - 261\n",
    " - 74\n",
    " - 24"
   ]
  },
  {
   "cell_type": "code",
   "execution_count": 15,
   "metadata": {},
   "outputs": [
    {
     "name": "stdout",
     "output_type": "stream",
     "text": [
      " * sqlite:///TMDB.db\n",
      "Done.\n"
     ]
    },
    {
     "data": {
      "text/html": [
       "<table>\n",
       "    <thead>\n",
       "        <tr>\n",
       "            <th>COUNT(*)</th>\n",
       "        </tr>\n",
       "    </thead>\n",
       "    <tbody>\n",
       "        <tr>\n",
       "            <td>261</td>\n",
       "        </tr>\n",
       "    </tbody>\n",
       "</table>"
      ],
      "text/plain": [
       "[(261,)]"
      ]
     },
     "execution_count": 15,
     "metadata": {},
     "output_type": "execute_result"
    }
   ],
   "source": [
    "%%sql\n",
    "SELECT COUNT(*) FROM Movies\n",
    "WHERE original_title != title;"
   ]
  },
  {
   "cell_type": "markdown",
   "metadata": {},
   "source": [
    "**Question 7**\n",
    "\n",
    " How many movies are there that managed to get a popularity rating of more than 100 with a budget of less than $10 000 000?\n",
    " \n",
    "**Options:**\n",
    " - 11\n",
    " - 18\n",
    " - 5\n",
    " - 15"
   ]
  },
  {
   "cell_type": "code",
   "execution_count": 17,
   "metadata": {},
   "outputs": [
    {
     "name": "stdout",
     "output_type": "stream",
     "text": [
      " * sqlite:///TMDB.db\n",
      "Done.\n"
     ]
    },
    {
     "data": {
      "text/html": [
       "<table>\n",
       "    <thead>\n",
       "        <tr>\n",
       "            <th>COUNT(*)</th>\n",
       "        </tr>\n",
       "    </thead>\n",
       "    <tbody>\n",
       "        <tr>\n",
       "            <td>5</td>\n",
       "        </tr>\n",
       "    </tbody>\n",
       "</table>"
      ],
      "text/plain": [
       "[(5,)]"
      ]
     },
     "execution_count": 17,
     "metadata": {},
     "output_type": "execute_result"
    }
   ],
   "source": [
    "%%sql \n",
    "SELECT COUNT(*) FROM Movies\n",
    "WHERE popularity >= 100 AND budget <= 10000000;"
   ]
  },
  {
   "cell_type": "markdown",
   "metadata": {},
   "source": [
    "**Question 8** \n",
    "\n",
    "How many movies are there that have the word ‘love’ anywhere in the title? (Hint: The L in the word love can be upper or lower case and can be included in words such as ‘lovers’.)\n",
    "\n",
    "**Options:**\n",
    "- 67\n",
    "- 58\n",
    "- 71\n",
    "- 49"
   ]
  },
  {
   "cell_type": "code",
   "execution_count": 16,
   "metadata": {},
   "outputs": [
    {
     "name": "stdout",
     "output_type": "stream",
     "text": [
      " * sqlite:///TMDB.db\n",
      "Done.\n"
     ]
    },
    {
     "data": {
      "text/html": [
       "<table>\n",
       "    <thead>\n",
       "        <tr>\n",
       "            <th>COUNT(*)</th>\n",
       "        </tr>\n",
       "    </thead>\n",
       "    <tbody>\n",
       "        <tr>\n",
       "            <td>71</td>\n",
       "        </tr>\n",
       "    </tbody>\n",
       "</table>"
      ],
      "text/plain": [
       "[(71,)]"
      ]
     },
     "execution_count": 16,
     "metadata": {},
     "output_type": "execute_result"
    }
   ],
   "source": [
    "%%sql\n",
    "\n",
    "SELECT COUNT(*) FROM Movies\n",
    "WHERE title LIKE '%love%';"
   ]
  },
  {
   "cell_type": "markdown",
   "metadata": {},
   "source": [
    "**Question 9**\n",
    "\n",
    "How many movies were released between the dates 1 August 2012 and 31 July 2013?  \n",
    "\n",
    "**Options:**\n",
    "- 227 \n",
    "- 295\n",
    "- 3\n",
    "- 208"
   ]
  },
  {
   "cell_type": "code",
   "execution_count": 7,
   "metadata": {},
   "outputs": [
    {
     "name": "stdout",
     "output_type": "stream",
     "text": [
      " * sqlite:///TMDB.db\n",
      "Done.\n"
     ]
    },
    {
     "data": {
      "text/html": [
       "<table>\n",
       "    <thead>\n",
       "        <tr>\n",
       "            <th>COUNT(*)</th>\n",
       "        </tr>\n",
       "    </thead>\n",
       "    <tbody>\n",
       "        <tr>\n",
       "            <td>227</td>\n",
       "        </tr>\n",
       "    </tbody>\n",
       "</table>"
      ],
      "text/plain": [
       "[(227,)]"
      ]
     },
     "execution_count": 7,
     "metadata": {},
     "output_type": "execute_result"
    }
   ],
   "source": [
    "%%sql \n",
    "\n",
    "SELECT COUNT(*) FROM Movies\n",
    "WHERE release_date BETWEEN \"2012-08-01 00:00:00.000000\" AND \"2013-07-31 00:00:00.000000\";"
   ]
  },
  {
   "cell_type": "markdown",
   "metadata": {},
   "source": [
    "**Question 10**\n",
    "\n",
    "You have had a long day and want to sit back and enjoy a movie.  Unfortunately, today you are only in the mood for a very specific type of movie. It definitely needs to be in English. It should also be new, something after 1 Jan 2010, but not too new as you might have seen it recently, so it must have been released before 1 Jan 2016. It should also be a romantic movie, so make sure it has the word love somewhere in the title.  You also want it to be a big blockbuster, so the budget of the move must be more than $10 000 000.\n",
    "\n",
    "What is the movie with the highest popularity that meets all of your requirements?\n",
    "\n",
    "**Options:**\n",
    "-  Love & Other Drugs\n",
    "- From Paris with Love\n",
    "-  Crazy, Stupid, Love\n",
    "- Eat Pray Love"
   ]
  },
  {
   "cell_type": "code",
   "execution_count": 46,
   "metadata": {},
   "outputs": [
    {
     "name": "stdout",
     "output_type": "stream",
     "text": [
      " * sqlite:///TMDB.db\n",
      "Done.\n"
     ]
    },
    {
     "data": {
      "text/html": [
       "<table>\n",
       "    <thead>\n",
       "        <tr>\n",
       "            <th>movie_id</th>\n",
       "            <th>title</th>\n",
       "            <th>release_date</th>\n",
       "            <th>budget</th>\n",
       "            <th>homepage</th>\n",
       "            <th>original_language</th>\n",
       "            <th>original_title</th>\n",
       "            <th>overview</th>\n",
       "            <th>popularity</th>\n",
       "            <th>revenue</th>\n",
       "            <th>runtime</th>\n",
       "            <th>release_status</th>\n",
       "            <th>tagline</th>\n",
       "            <th>vote_average</th>\n",
       "            <th>vote_count</th>\n",
       "        </tr>\n",
       "    </thead>\n",
       "    <tbody>\n",
       "        <tr>\n",
       "            <td>26389</td>\n",
       "            <td>From Paris with Love</td>\n",
       "            <td>2010-02-05 00:00:00.000000</td>\n",
       "            <td>52000000</td>\n",
       "            <td>http://www.frompariswithlovefilm.com/</td>\n",
       "            <td>en</td>\n",
       "            <td>From Paris with Love</td>\n",
       "            <td>James Reese has a good job as an ambassador&#x27;s aid in France, but his real passion is a side gig, working in a minor role in the CIA. He would love to be a full-fledged agent and can&#x27;t believe his luck when he lands an assignment with Charlie Wax. Trigger-happy Charlie soon has James crying for his desk job, but when he learns that the same guys they&#x27;re trying to catch are after him, James realizes that Charlie may be his only hope of survival.</td>\n",
       "            <td>27.916284</td>\n",
       "            <td>52826594.0</td>\n",
       "            <td>92.0</td>\n",
       "            <td>Released</td>\n",
       "            <td>Two agents. One city. No merci.</td>\n",
       "            <td>6.1</td>\n",
       "            <td>675</td>\n",
       "        </tr>\n",
       "        <tr>\n",
       "            <td>38167</td>\n",
       "            <td>Eat Pray Love</td>\n",
       "            <td>2010-08-12 00:00:00.000000</td>\n",
       "            <td>60000000</td>\n",
       "            <td>http://www.sonypictures.com/movies/eatpraylove/</td>\n",
       "            <td>en</td>\n",
       "            <td>Eat Pray Love</td>\n",
       "            <td>Liz Gilbert had everything a modern woman is supposed to dream of having û a husband, a house and a successful career û yet like so many others, she found herself lost, confused and searching for what she really wanted in life. Newly divorced and at a crossroads, Gilbert steps out of her comfort zone, risking everything to change her life, embarking on a journey around the world that becomes a quest for self-discovery. In her travels, she discovers the true pleasure of nourishment by eating in Italy, the power of prayer in India and, finally and unexpectedly, the inner peace and balance of true love in Bali.</td>\n",
       "            <td>28.800112</td>\n",
       "            <td>204594016.0</td>\n",
       "            <td>133.0</td>\n",
       "            <td>Released</td>\n",
       "            <td>Let Yourself GO</td>\n",
       "            <td>5.8</td>\n",
       "            <td>636</td>\n",
       "        </tr>\n",
       "        <tr>\n",
       "            <td>43347</td>\n",
       "            <td>Love &amp; Other Drugs</td>\n",
       "            <td>2010-11-22 00:00:00.000000</td>\n",
       "            <td>30000000</td>\n",
       "            <td>http://www.loveandotherdrugsthemovie.com/</td>\n",
       "            <td>en</td>\n",
       "            <td>Love &amp; Other Drugs</td>\n",
       "            <td>Maggie, an alluring free spirit who won&#x27;t let anyone - or anything - tie her down. But she meets her match in Jamie, whose relentless and nearly infallible charm serve him well with the ladies and in the cutthroat world of pharmaceutical sales. Maggie and Jamie&#x27;s evolving relationship takes them both by surprise, as they find themselves under the influence of the ultimate drug: love.</td>\n",
       "            <td>20.236951</td>\n",
       "            <td>102820008.0</td>\n",
       "            <td>112.0</td>\n",
       "            <td>Released</td>\n",
       "            <td>Addicted to one-night stands or dependent on one another?</td>\n",
       "            <td>6.6</td>\n",
       "            <td>1233</td>\n",
       "        </tr>\n",
       "        <tr>\n",
       "            <td>50646</td>\n",
       "            <td>Crazy, Stupid, Love.</td>\n",
       "            <td>2011-07-29 00:00:00.000000</td>\n",
       "            <td>50000000</td>\n",
       "            <td>http://crazystupidlove.warnerbros.com/index.html</td>\n",
       "            <td>en</td>\n",
       "            <td>Crazy, Stupid, Love.</td>\n",
       "            <td>Cal Weaver is living the American dream. He has a good job, a beautiful house, great children and a beautiful wife, named Emily. Cal&#x27;s seemingly perfect life unravels, however, when he learns that Emily has been unfaithful and wants a divorce. Over 40 and suddenly single, Cal is adrift in the fickle world of dating. Enter, Jacob Palmer, a self-styled player who takes Cal under his wing and teaches him how to be a hit with the ladies.</td>\n",
       "            <td>37.990705</td>\n",
       "            <td>142851197.0</td>\n",
       "            <td>118.0</td>\n",
       "            <td>Released</td>\n",
       "            <td>This Is Stupid</td>\n",
       "            <td>7.0</td>\n",
       "            <td>2443</td>\n",
       "        </tr>\n",
       "        <tr>\n",
       "            <td>79698</td>\n",
       "            <td>The Lovers</td>\n",
       "            <td>2015-02-13 00:00:00.000000</td>\n",
       "            <td>27000000</td>\n",
       "            <td>None</td>\n",
       "            <td>en</td>\n",
       "            <td>The Lovers</td>\n",
       "            <td>The Lovers is an epic romance time travel adventure film. Helmed by Roland JoffT from a story by Ajey Jhankar, the film is a sweeping tale of an impossible love set against the backdrop of the first Anglo-Maratha war across two time periods and continents and centred around four characters ù a British officer in 18th century colonial India, the Indian woman he falls deeply in love with, an American present-day marine biologist and his wife.</td>\n",
       "            <td>2.418535</td>\n",
       "            <td>0.0</td>\n",
       "            <td>109.0</td>\n",
       "            <td>Released</td>\n",
       "            <td>Love is longer than life.</td>\n",
       "            <td>4.8</td>\n",
       "            <td>34</td>\n",
       "        </tr>\n",
       "        <tr>\n",
       "            <td>81836</td>\n",
       "            <td>To Rome with Love</td>\n",
       "            <td>2012-04-20 00:00:00.000000</td>\n",
       "            <td>17000000</td>\n",
       "            <td>None</td>\n",
       "            <td>en</td>\n",
       "            <td>To Rome with Love</td>\n",
       "            <td>Four tales unfold in the Eternal City: While vacationing in Rome, architect John encounters a young man whose romantic woes remind him of a painful incident from his own youth; retired opera director Jerry discovers a mortician with an amazing voice, and he seizes the opportunity to rejuvenate his own flagging career; a young couple have separate romantic interludes; a spotlight shines on an ordinary man.</td>\n",
       "            <td>15.013386</td>\n",
       "            <td>73244881.0</td>\n",
       "            <td>111.0</td>\n",
       "            <td>Released</td>\n",
       "            <td>None</td>\n",
       "            <td>5.6</td>\n",
       "            <td>546</td>\n",
       "        </tr>\n",
       "        <tr>\n",
       "            <td>226857</td>\n",
       "            <td>Endless Love</td>\n",
       "            <td>2014-02-12 00:00:00.000000</td>\n",
       "            <td>20000000</td>\n",
       "            <td>None</td>\n",
       "            <td>en</td>\n",
       "            <td>Endless Love</td>\n",
       "            <td>A privileged girl and a charismatic boy&#x27;s instant desire sparks a love affair made only more reckless by parents trying to keep them apart.</td>\n",
       "            <td>27.256849</td>\n",
       "            <td>34077920.0</td>\n",
       "            <td>103.0</td>\n",
       "            <td>Released</td>\n",
       "            <td>Say Goodbye to Innocence</td>\n",
       "            <td>6.7</td>\n",
       "            <td>542</td>\n",
       "        </tr>\n",
       "        <tr>\n",
       "            <td>316002</td>\n",
       "            <td>Accidental Love</td>\n",
       "            <td>2015-02-10 00:00:00.000000</td>\n",
       "            <td>26000000</td>\n",
       "            <td>None</td>\n",
       "            <td>en</td>\n",
       "            <td>Accidental Love</td>\n",
       "            <td>A small town waitress gets a nail accidentally lodged in her head causing unpredictable behavior that leads her to Washington, DC.  Sparks fly when she meets a clueless young senator who takes up her cause - but what happens when love interferes with what you stand for?</td>\n",
       "            <td>5.644844</td>\n",
       "            <td>0.0</td>\n",
       "            <td>100.0</td>\n",
       "            <td>Released</td>\n",
       "            <td>Sometimes you nail love. Sometimes it nails you.</td>\n",
       "            <td>3.9</td>\n",
       "            <td>95</td>\n",
       "        </tr>\n",
       "        <tr>\n",
       "            <td>333348</td>\n",
       "            <td>Love the Coopers</td>\n",
       "            <td>2015-11-12 00:00:00.000000</td>\n",
       "            <td>17000000</td>\n",
       "            <td>http://www.cbsfilms.com/love-the-coopers/</td>\n",
       "            <td>en</td>\n",
       "            <td>Love the Coopers</td>\n",
       "            <td>When four generations of the Cooper clan come together for their annual Christmas Eve celebration, a series of unexpected visitors and unlikely events turn the night upside down, leading them all toward a surprising rediscovery of family bonds and the spirit of the holiday.</td>\n",
       "            <td>9.191187</td>\n",
       "            <td>24000000.0</td>\n",
       "            <td>107.0</td>\n",
       "            <td>Released</td>\n",
       "            <td>Christmas means comfort, joy and chaos.</td>\n",
       "            <td>5.4</td>\n",
       "            <td>167</td>\n",
       "        </tr>\n",
       "    </tbody>\n",
       "</table>"
      ],
      "text/plain": [
       "[(26389, 'From Paris with Love', '2010-02-05 00:00:00.000000', 52000000, 'http://www.frompariswithlovefilm.com/', 'en', 'From Paris with Love', \"James Reese has a good job as an ambassador's aid in France, but his real passion is a side gig, working in a minor role in the CIA. He would love to ... (149 characters truncated) ...  desk job, but when he learns that the same guys they're trying to catch are after him, James realizes that Charlie may be his only hope of survival.\", 27.916284, 52826594.0, 92.0, 'Released', 'Two agents. One city. No merci.', 6.1, 675),\n",
       " (38167, 'Eat Pray Love', '2010-08-12 00:00:00.000000', 60000000, 'http://www.sonypictures.com/movies/eatpraylove/', 'en', 'Eat Pray Love', 'Liz Gilbert had everything a modern woman is supposed to dream of having û a husband, a house and a successful career û yet like so many others, she  ... (317 characters truncated) ... sure of nourishment by eating in Italy, the power of prayer in India and, finally and unexpectedly, the inner peace and balance of true love in Bali.', 28.800112, 204594016.0, 133.0, 'Released', 'Let Yourself GO', 5.8, 636),\n",
       " (43347, 'Love & Other Drugs', '2010-11-22 00:00:00.000000', 30000000, 'http://www.loveandotherdrugsthemovie.com/', 'en', 'Love & Other Drugs', \"Maggie, an alluring free spirit who won't let anyone - or anything - tie her down. But she meets her match in Jamie, whose relentless and nearly infa ... (88 characters truncated) ...  sales. Maggie and Jamie's evolving relationship takes them both by surprise, as they find themselves under the influence of the ultimate drug: love.\", 20.236951, 102820008.0, 112.0, 'Released', 'Addicted to one-night stands or dependent on one another?', 6.6, 1233),\n",
       " (50646, 'Crazy, Stupid, Love.', '2011-07-29 00:00:00.000000', 50000000, 'http://crazystupidlove.warnerbros.com/index.html', 'en', 'Crazy, Stupid, Love.', \"Cal Weaver is living the American dream. He has a good job, a beautiful house, great children and a beautiful wife, named Emily. Cal's seemingly perf ... (139 characters truncated) ... n the fickle world of dating. Enter, Jacob Palmer, a self-styled player who takes Cal under his wing and teaches him how to be a hit with the ladies.\", 37.990705, 142851197.0, 118.0, 'Released', 'This Is Stupid', 7.0, 2443),\n",
       " (79698, 'The Lovers', '2015-02-13 00:00:00.000000', 27000000, None, 'en', 'The Lovers', 'The Lovers is an epic romance time travel adventure film. Helmed by Roland JoffT from a story by Ajey Jhankar, the film is a sweeping tale of an impo ... (146 characters truncated) ... British officer in 18th century colonial India, the Indian woman he falls deeply in love with, an American present-day marine biologist and his wife.', 2.418535, 0.0, 109.0, 'Released', 'Love is longer than life.', 4.8, 34),\n",
       " (81836, 'To Rome with Love', '2012-04-20 00:00:00.000000', 17000000, None, 'en', 'To Rome with Love', 'Four tales unfold in the Eternal City: While vacationing in Rome, architect John encounters a young man whose romantic woes remind him of a painful i ... (110 characters truncated) ... eizes the opportunity to rejuvenate his own flagging career; a young couple have separate romantic interludes; a spotlight shines on an ordinary man.', 15.013386, 73244881.0, 111.0, 'Released', None, 5.6, 546),\n",
       " (226857, 'Endless Love', '2014-02-12 00:00:00.000000', 20000000, None, 'en', 'Endless Love', \"A privileged girl and a charismatic boy's instant desire sparks a love affair made only more reckless by parents trying to keep them apart.\", 27.256849, 34077920.0, 103.0, 'Released', 'Say Goodbye to Innocence', 6.7, 542),\n",
       " (316002, 'Accidental Love', '2015-02-10 00:00:00.000000', 26000000, None, 'en', 'Accidental Love', 'A small town waitress gets a nail accidentally lodged in her head causing unpredictable behavior that leads her to Washington, DC.  Sparks fly when she meets a clueless young senator who takes up her cause - but what happens when love interferes with what you stand for?', 5.644844, 0.0, 100.0, 'Released', 'Sometimes you nail love. Sometimes it nails you.', 3.9, 95),\n",
       " (333348, 'Love the Coopers', '2015-11-12 00:00:00.000000', 17000000, 'http://www.cbsfilms.com/love-the-coopers/', 'en', 'Love the Coopers', 'When four generations of the Cooper clan come together for their annual Christmas Eve celebration, a series of unexpected visitors and unlikely events turn the night upside down, leading them all toward a surprising rediscovery of family bonds and the spirit of the holiday.', 9.191187, 24000000.0, 107.0, 'Released', 'Christmas means comfort, joy and chaos.', 5.4, 167)]"
      ]
     },
     "execution_count": 46,
     "metadata": {},
     "output_type": "execute_result"
    }
   ],
   "source": [
    "%%sql\n",
    "\n",
    "SELECT * FROM Movies WHERE release_date\n",
    "BETWEEN \"2010-01-01 00:00:00.000000\" AND \"2016-01-01 00:00:00.000000\" AND\n",
    "title LIKE \"%love%\" And budget >= 10000000 AND original_language = \"en\";\n"
   ]
  },
  {
   "cell_type": "code",
   "execution_count": null,
   "metadata": {},
   "outputs": [],
   "source": []
  }
 ],
 "metadata": {
  "kernelspec": {
   "display_name": "Python 3 (ipykernel)",
   "language": "python",
   "name": "python3"
  },
  "language_info": {
   "codemirror_mode": {
    "name": "ipython",
    "version": 3
   },
   "file_extension": ".py",
   "mimetype": "text/x-python",
   "name": "python",
   "nbconvert_exporter": "python",
   "pygments_lexer": "ipython3",
   "version": "3.9.13"
  }
 },
 "nbformat": 4,
 "nbformat_minor": 2
}
