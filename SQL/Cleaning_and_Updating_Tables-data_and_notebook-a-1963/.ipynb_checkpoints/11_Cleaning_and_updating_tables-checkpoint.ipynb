{
 "cells": [
  {
   "cell_type": "markdown",
   "metadata": {},
   "source": [
    "# Updating and Cleaning Tables\n",
    "© Explore Data Science Academy\n",
    "\n",
    "## Learning Objectives\n",
    "\n",
    "In this train, you will learn:\n",
    "- How to modify the data entries of a SQL table;\n",
    "- How to remove one or more rows in a SQL table; and\n",
    "- How to delete SQL tables.\n",
    "\n",
    "## Outline\n",
    "\n",
    "This train is structured as follows: \n",
    "\n",
    "- The UPDATE Statement\n",
    "    - Updating tables rows\n",
    "    - Updating tables rows with a condition\n",
    "- The DELETE Statement\n",
    "    - Deleting table entries\n",
    "    - Deleting table entries with a condition\n",
    "- The DROP statement\n",
    "    - Deleting tables"
   ]
  },
  {
   "cell_type": "markdown",
   "metadata": {},
   "source": [
    "## Overview"
   ]
  },
  {
   "cell_type": "markdown",
   "metadata": {},
   "source": [
    "So far, we have covered SQL statements for creating databases and reading data from them. However, we have yet to discuss how they can be modified. Particularly, how we can update existing information in a database table, delete rows in a database table, and delete entire database tables. \n",
    "In this train we cover the three statements can be used to achieve these outcomes.\n",
    "\n",
    "Let's begin!"
   ]
  },
  {
   "cell_type": "markdown",
   "metadata": {},
   "source": [
    "\n",
    "Load SQL magics and database:"
   ]
  },
  {
   "cell_type": "code",
   "execution_count": 1,
   "metadata": {},
   "outputs": [],
   "source": [
    "%load_ext sql\n",
    "\n",
    "# Load SQLite database\n",
    "%sql sqlite:///chinook.db"
   ]
  },
  {
   "cell_type": "markdown",
   "metadata": {},
   "source": [
    "For your convenience, the [ER (Entity Relationship) diagram](https://www.lucidchart.com/pages/er-diagrams) of the chinook database:\n",
    "\n",
    "<img src=\"https://github.com/Explore-AI/Pictures/blob/master/sqlite-sample-database-color.jpg?raw=true\" width=70%/>\n",
    "\n",
    "_[Image source](https://www.sqlitetutorial.net/sqlite-sample-database/)_\n"
   ]
  },
  {
   "cell_type": "markdown",
   "metadata": {},
   "source": [
    "## 1. The Update Statement\n",
    "Databases in SQL are mutable, this means that at any time, we can update the information stored in them. For this purpose, SQL has the `UPDATE` statement which can be used to update the values in a table column. \n",
    "\n",
    "**Syntax:**\n",
    "\n",
    "```SQL\n",
    "UPDATE table_name \n",
    "   SET column1 = value1, \n",
    "       column2 = value2, ...\n",
    "```\n",
    "\n",
    "### 1.1. Updating tables rows \n",
    "Suppose the Chinook media company had a sale where all media items cost 50 cents. To implement this, we need to change the UnitPrice of **all items** to 0.50 in the tracks table, an ideal problem for the update statement:"
   ]
  },
  {
   "cell_type": "code",
   "execution_count": 2,
   "metadata": {},
   "outputs": [
    {
     "name": "stdout",
     "output_type": "stream",
     "text": [
      " * sqlite:///chinook.db\n",
      "3503 rows affected.\n"
     ]
    },
    {
     "data": {
      "text/plain": [
       "[]"
      ]
     },
     "execution_count": 2,
     "metadata": {},
     "output_type": "execute_result"
    }
   ],
   "source": [
    "%%sql\n",
    "\n",
    "UPDATE tracks \n",
    "   SET UnitPrice = 0.50;"
   ]
  },
  {
   "cell_type": "markdown",
   "metadata": {},
   "source": [
    "Note that we can update multiple columns this way, as indicated in the syntax. Let's check to see if our query worked as expected: "
   ]
  },
  {
   "cell_type": "code",
   "execution_count": 3,
   "metadata": {},
   "outputs": [
    {
     "name": "stdout",
     "output_type": "stream",
     "text": [
      " * sqlite:///chinook.db\n",
      "Done.\n"
     ]
    },
    {
     "data": {
      "text/html": [
       "<table>\n",
       "    <tr>\n",
       "        <th>Name</th>\n",
       "        <th>UnitPrice</th>\n",
       "    </tr>\n",
       "    <tr>\n",
       "        <td>For Those About To Rock (We Salute You)</td>\n",
       "        <td>0.5</td>\n",
       "    </tr>\n",
       "    <tr>\n",
       "        <td>Balls to the Wall</td>\n",
       "        <td>0.5</td>\n",
       "    </tr>\n",
       "    <tr>\n",
       "        <td>Fast As a Shark</td>\n",
       "        <td>0.5</td>\n",
       "    </tr>\n",
       "    <tr>\n",
       "        <td>Restless and Wild</td>\n",
       "        <td>0.5</td>\n",
       "    </tr>\n",
       "    <tr>\n",
       "        <td>Princess of the Dawn</td>\n",
       "        <td>0.5</td>\n",
       "    </tr>\n",
       "    <tr>\n",
       "        <td>Put The Finger On You</td>\n",
       "        <td>0.5</td>\n",
       "    </tr>\n",
       "    <tr>\n",
       "        <td>Let&#x27;s Get It Up</td>\n",
       "        <td>0.5</td>\n",
       "    </tr>\n",
       "    <tr>\n",
       "        <td>Inject The Venom</td>\n",
       "        <td>0.5</td>\n",
       "    </tr>\n",
       "    <tr>\n",
       "        <td>Snowballed</td>\n",
       "        <td>0.5</td>\n",
       "    </tr>\n",
       "    <tr>\n",
       "        <td>Evil Walks</td>\n",
       "        <td>0.5</td>\n",
       "    </tr>\n",
       "</table>"
      ],
      "text/plain": [
       "[('For Those About To Rock (We Salute You)', 0.5),\n",
       " ('Balls to the Wall', 0.5),\n",
       " ('Fast As a Shark', 0.5),\n",
       " ('Restless and Wild', 0.5),\n",
       " ('Princess of the Dawn', 0.5),\n",
       " ('Put The Finger On You', 0.5),\n",
       " (\"Let's Get It Up\", 0.5),\n",
       " ('Inject The Venom', 0.5),\n",
       " ('Snowballed', 0.5),\n",
       " ('Evil Walks', 0.5)]"
      ]
     },
     "execution_count": 3,
     "metadata": {},
     "output_type": "execute_result"
    }
   ],
   "source": [
    "%%sql\n",
    "\n",
    "Select Name, UnitPrice\n",
    "FROM tracks\n",
    "LIMIT 10;"
   ]
  },
  {
   "cell_type": "markdown",
   "metadata": {},
   "source": [
    "As you can see, everything now costs [50 cent](https://en.wikipedia.org/wiki/50_Cent)! "
   ]
  },
  {
   "cell_type": "markdown",
   "metadata": {},
   "source": [
    "### 1.2. Updating tables rows with condition\n",
    "The `UPDATE` statement can also be used to update table rows according to a given condition. This is useful in cases where we want to update a single or multiple specific rows. The syntax for this is as follows:\n",
    "\n",
    "```SQL\n",
    "UPDATE table_name \n",
    "   SET column1 = value1, \n",
    "       column2 = value2, ...\n",
    "   WHERE\n",
    "       search_condition\n",
    "```\n",
    "Let's do an example. \n",
    "\n",
    "As part of the data cleaning process, we sometimes need to get rid of NULL values in a given table column. Because we don't know what values are supposed to go in their place, we take a guess. This process of guessing is formally referred to as **data imputation**. \n",
    "\n",
    "Let's put this in practice by **imputing** the missing values in the Composer column of the tracks table. Our strategy here is to replace all missing values by the most common composer in the tracks table, i.e., we are making the assumption that all tracks without a composer were composed by the composer with the most tracks in the table. \n",
    "\n",
    "1. Finding the most common composer (i.e. the mode of the Composer column):"
   ]
  },
  {
   "cell_type": "code",
   "execution_count": 4,
   "metadata": {},
   "outputs": [
    {
     "name": "stdout",
     "output_type": "stream",
     "text": [
      " * sqlite:///chinook.db\n",
      "Done.\n"
     ]
    },
    {
     "data": {
      "text/html": [
       "<table>\n",
       "    <tr>\n",
       "        <th>Composer</th>\n",
       "        <th>Number of Compositions</th>\n",
       "    </tr>\n",
       "    <tr>\n",
       "        <td>Steve Harris</td>\n",
       "        <td>80</td>\n",
       "    </tr>\n",
       "    <tr>\n",
       "        <td>U2</td>\n",
       "        <td>44</td>\n",
       "    </tr>\n",
       "    <tr>\n",
       "        <td>Jagger/Richards</td>\n",
       "        <td>35</td>\n",
       "    </tr>\n",
       "    <tr>\n",
       "        <td>Billy Corgan</td>\n",
       "        <td>31</td>\n",
       "    </tr>\n",
       "    <tr>\n",
       "        <td>Kurt Cobain</td>\n",
       "        <td>26</td>\n",
       "    </tr>\n",
       "    <tr>\n",
       "        <td>Bill Berry-Peter Buck-Mike Mills-Michael Stipe</td>\n",
       "        <td>25</td>\n",
       "    </tr>\n",
       "    <tr>\n",
       "        <td>The Tea Party</td>\n",
       "        <td>24</td>\n",
       "    </tr>\n",
       "    <tr>\n",
       "        <td>Miles Davis</td>\n",
       "        <td>23</td>\n",
       "    </tr>\n",
       "    <tr>\n",
       "        <td>Gilberto Gil</td>\n",
       "        <td>23</td>\n",
       "    </tr>\n",
       "    <tr>\n",
       "        <td>Chris Cornell</td>\n",
       "        <td>23</td>\n",
       "    </tr>\n",
       "</table>"
      ],
      "text/plain": [
       "[('Steve Harris', 80),\n",
       " ('U2', 44),\n",
       " ('Jagger/Richards', 35),\n",
       " ('Billy Corgan', 31),\n",
       " ('Kurt Cobain', 26),\n",
       " ('Bill Berry-Peter Buck-Mike Mills-Michael Stipe', 25),\n",
       " ('The Tea Party', 24),\n",
       " ('Miles Davis', 23),\n",
       " ('Gilberto Gil', 23),\n",
       " ('Chris Cornell', 23)]"
      ]
     },
     "execution_count": 4,
     "metadata": {},
     "output_type": "execute_result"
    }
   ],
   "source": [
    "%%sql\n",
    "\n",
    "SELECT Composer, count(Composer) AS \"Number of Compositions\" \n",
    "FROM tracks\n",
    "GROUP BY Composer\n",
    "ORDER BY 2 DESC\n",
    "Limit 10;"
   ]
  },
  {
   "cell_type": "markdown",
   "metadata": {},
   "source": [
    "Our query has tells us that Steve Harris is the Composer With the most tracks (i.e. 80 tracks). \n",
    "\n",
    "2. Now let's replace all None values in the Composer column with Steve Harris:"
   ]
  },
  {
   "cell_type": "code",
   "execution_count": 5,
   "metadata": {},
   "outputs": [
    {
     "name": "stdout",
     "output_type": "stream",
     "text": [
      " * sqlite:///chinook.db\n",
      "978 rows affected.\n"
     ]
    },
    {
     "data": {
      "text/plain": [
       "[]"
      ]
     },
     "execution_count": 5,
     "metadata": {},
     "output_type": "execute_result"
    }
   ],
   "source": [
    "%%sql\n",
    "\n",
    "UPDATE tracks\n",
    "       SET Composer = \"Steve Harris\"\n",
    "     WHERE Composer IS NULL;"
   ]
  },
  {
   "cell_type": "markdown",
   "metadata": {},
   "source": [
    "We have replaced all missing values in the Composers column with \"Steve Harris\". We can also verify that there are no more missing values in the column as follows: "
   ]
  },
  {
   "cell_type": "code",
   "execution_count": 6,
   "metadata": {},
   "outputs": [
    {
     "name": "stdout",
     "output_type": "stream",
     "text": [
      " * sqlite:///chinook.db\n",
      "Done.\n"
     ]
    },
    {
     "data": {
      "text/html": [
       "<table>\n",
       "    <tr>\n",
       "        <th>TrackId</th>\n",
       "        <th>Name</th>\n",
       "        <th>AlbumId</th>\n",
       "        <th>MediaTypeId</th>\n",
       "        <th>GenreId</th>\n",
       "        <th>Composer</th>\n",
       "        <th>Milliseconds</th>\n",
       "        <th>Bytes</th>\n",
       "        <th>UnitPrice</th>\n",
       "    </tr>\n",
       "</table>"
      ],
      "text/plain": [
       "[]"
      ]
     },
     "execution_count": 6,
     "metadata": {},
     "output_type": "execute_result"
    }
   ],
   "source": [
    "%%sql\n",
    "\n",
    "SELECT *\n",
    "FROM tracks\n",
    "WHERE Composer IS NULL;"
   ]
  },
  {
   "cell_type": "markdown",
   "metadata": {},
   "source": [
    "Success!"
   ]
  },
  {
   "cell_type": "markdown",
   "metadata": {},
   "source": [
    "## 2. The Delete Statement\n",
    "\n",
    "SQL would not be complete without the ability to remove data from the database. The `DELETE` statement is used to permanently delete rows in a given database table. \n",
    "\n",
    "**Syntax (this may vary in other SQL engines):**\n",
    "\n",
    "```SQL\n",
    "DELETE FROM table_name;\n",
    "```\n",
    "Let's do some examples:\n",
    "\n",
    "### 2.1. Deleting table entries\n",
    "The default behaviour of the `DELETE` statement is that it will delete all the rows of the given database table. To see it in action, let's attempt to delete all entries in the playlists table. "
   ]
  },
  {
   "cell_type": "code",
   "execution_count": 7,
   "metadata": {},
   "outputs": [
    {
     "name": "stdout",
     "output_type": "stream",
     "text": [
      " * sqlite:///chinook.db\n",
      "18 rows affected.\n"
     ]
    },
    {
     "data": {
      "text/plain": [
       "[]"
      ]
     },
     "execution_count": 7,
     "metadata": {},
     "output_type": "execute_result"
    }
   ],
   "source": [
    "%%sql \n",
    "\n",
    "DELETE FROM playlists;"
   ]
  },
  {
   "cell_type": "markdown",
   "metadata": {},
   "source": [
    "Let's verify that all rows in the playlists table have indeed been deleted:"
   ]
  },
  {
   "cell_type": "code",
   "execution_count": 8,
   "metadata": {},
   "outputs": [
    {
     "name": "stdout",
     "output_type": "stream",
     "text": [
      " * sqlite:///chinook.db\n",
      "Done.\n"
     ]
    },
    {
     "data": {
      "text/html": [
       "<table>\n",
       "    <tr>\n",
       "        <th>PlaylistId</th>\n",
       "        <th>Name</th>\n",
       "    </tr>\n",
       "</table>"
      ],
      "text/plain": [
       "[]"
      ]
     },
     "execution_count": 8,
     "metadata": {},
     "output_type": "execute_result"
    }
   ],
   "source": [
    "%%sql\n",
    "\n",
    "SELECT *\n",
    "FROM playlists;"
   ]
  },
  {
   "cell_type": "markdown",
   "metadata": {},
   "source": [
    "Success! ... Well, we hope that we didn't accidentally remove something important!"
   ]
  },
  {
   "cell_type": "markdown",
   "metadata": {},
   "source": [
    "### 2.2. Deleting table entries with a condition\n",
    "As with the `UPDATE` statement, the `DELETE` can also be used with a condition in cases where we don't want to get rid of all the rows in a given table. The syntax for this is as follows:\n",
    "\n",
    "```SQL\n",
    "DELETE FROM table_name \n",
    "WHERE condition\n",
    "```\n",
    "\n",
    "Let's do an example:\n",
    "\n",
    "Suppose that due to hosting platform issues, Chinook has decided to only host audio media types. Write a query that will remove all non-audio tracks from the database. \n",
    "\n",
    "1. Let's first take a look at the media_types table to see what media types exist:"
   ]
  },
  {
   "cell_type": "code",
   "execution_count": 9,
   "metadata": {},
   "outputs": [
    {
     "name": "stdout",
     "output_type": "stream",
     "text": [
      " * sqlite:///chinook.db\n",
      "Done.\n"
     ]
    },
    {
     "data": {
      "text/html": [
       "<table>\n",
       "    <tr>\n",
       "        <th>MediaTypeId</th>\n",
       "        <th>Name</th>\n",
       "    </tr>\n",
       "    <tr>\n",
       "        <td>1</td>\n",
       "        <td>MPEG audio file</td>\n",
       "    </tr>\n",
       "    <tr>\n",
       "        <td>2</td>\n",
       "        <td>Protected AAC audio file</td>\n",
       "    </tr>\n",
       "    <tr>\n",
       "        <td>3</td>\n",
       "        <td>Protected MPEG-4 video file</td>\n",
       "    </tr>\n",
       "    <tr>\n",
       "        <td>4</td>\n",
       "        <td>Purchased AAC audio file</td>\n",
       "    </tr>\n",
       "    <tr>\n",
       "        <td>5</td>\n",
       "        <td>AAC audio file</td>\n",
       "    </tr>\n",
       "</table>"
      ],
      "text/plain": [
       "[(1, 'MPEG audio file'),\n",
       " (2, 'Protected AAC audio file'),\n",
       " (3, 'Protected MPEG-4 video file'),\n",
       " (4, 'Purchased AAC audio file'),\n",
       " (5, 'AAC audio file')]"
      ]
     },
     "execution_count": 9,
     "metadata": {},
     "output_type": "execute_result"
    }
   ],
   "source": [
    "%%sql\n",
    "\n",
    "SELECT * \n",
    "FROM media_types;"
   ]
  },
  {
   "cell_type": "markdown",
   "metadata": {},
   "source": [
    "The only non-audio media-type here is the \"Protected MPEG-4 video file\", i.e. MediaTypeId = 3. \n",
    "\n",
    "2. Let's remove all tracks that are Protected MPEG-4 video files:"
   ]
  },
  {
   "cell_type": "code",
   "execution_count": 10,
   "metadata": {},
   "outputs": [
    {
     "name": "stdout",
     "output_type": "stream",
     "text": [
      " * sqlite:///chinook.db\n",
      "214 rows affected.\n"
     ]
    },
    {
     "data": {
      "text/plain": [
       "[]"
      ]
     },
     "execution_count": 10,
     "metadata": {},
     "output_type": "execute_result"
    }
   ],
   "source": [
    "%%sql\n",
    "\n",
    "DELETE FROM tracks\n",
    "WHERE MediaTypeId = 3;"
   ]
  },
  {
   "cell_type": "markdown",
   "metadata": {},
   "source": [
    "Let's verify:"
   ]
  },
  {
   "cell_type": "code",
   "execution_count": 11,
   "metadata": {},
   "outputs": [
    {
     "name": "stdout",
     "output_type": "stream",
     "text": [
      " * sqlite:///chinook.db\n",
      "Done.\n"
     ]
    },
    {
     "data": {
      "text/html": [
       "<table>\n",
       "    <tr>\n",
       "        <th>Name</th>\n",
       "        <th>Number of tracks</th>\n",
       "    </tr>\n",
       "    <tr>\n",
       "        <td>AAC audio file</td>\n",
       "        <td>11</td>\n",
       "    </tr>\n",
       "    <tr>\n",
       "        <td>MPEG audio file</td>\n",
       "        <td>3034</td>\n",
       "    </tr>\n",
       "    <tr>\n",
       "        <td>Protected AAC audio file</td>\n",
       "        <td>237</td>\n",
       "    </tr>\n",
       "    <tr>\n",
       "        <td>Purchased AAC audio file</td>\n",
       "        <td>7</td>\n",
       "    </tr>\n",
       "</table>"
      ],
      "text/plain": [
       "[('AAC audio file', 11),\n",
       " ('MPEG audio file', 3034),\n",
       " ('Protected AAC audio file', 237),\n",
       " ('Purchased AAC audio file', 7)]"
      ]
     },
     "execution_count": 11,
     "metadata": {},
     "output_type": "execute_result"
    }
   ],
   "source": [
    "%%sql\n",
    "\n",
    "SELECT m.Name, count(t.MediaTypeId) AS \"Number of tracks\" \n",
    "FROM tracks t\n",
    "LEFT JOIN media_types m\n",
    "ON m.MediaTypeId = t.MediaTypeId\n",
    "GROUP BY 1;"
   ]
  },
  {
   "cell_type": "markdown",
   "metadata": {},
   "source": [
    "As shown in the resulting table, all Protected MPEG-4 video tracks have been removed."
   ]
  },
  {
   "cell_type": "markdown",
   "metadata": {},
   "source": [
    "## 3. The Drop Statement\n",
    "The `DROP` statement is a versatile deletion statement that can be used to remove various database or SQL elements. Unlike the `DELETE` statement which targets the rows in a table, the `DROP` statement can delete entire tables. \n",
    "\n",
    "**Syntax:**\n",
    "\n",
    "```SQL\n",
    "DROP TABLE table_name;\n",
    "```\n",
    "The `DROP` statement will produce an error in cases where we try to delete tables that are used in a [view](https://www.w3schools.com/sql/sql_view.asp) or when we try to delete tables that are referenced in the trigger actions of other tables. If none of these conditions are violated, then we are free to delete the table in question.\n",
    "\n",
    "Let's do an example:\n",
    "\n",
    "### 3.1. Deleting tables\n",
    "Let's delete the playlists and playlist_track tables:\n",
    "\n",
    "1. Deleting playlists:"
   ]
  },
  {
   "cell_type": "code",
   "execution_count": 12,
   "metadata": {},
   "outputs": [
    {
     "name": "stdout",
     "output_type": "stream",
     "text": [
      " * sqlite:///chinook.db\n",
      "Done.\n"
     ]
    },
    {
     "data": {
      "text/plain": [
       "[]"
      ]
     },
     "execution_count": 12,
     "metadata": {},
     "output_type": "execute_result"
    }
   ],
   "source": [
    "%%sql\n",
    "\n",
    "DROP TABLE playlists;"
   ]
  },
  {
   "cell_type": "markdown",
   "metadata": {},
   "source": [
    "Let's verify to see if our query worked:"
   ]
  },
  {
   "cell_type": "code",
   "execution_count": 13,
   "metadata": {},
   "outputs": [
    {
     "name": "stdout",
     "output_type": "stream",
     "text": [
      " * sqlite:///chinook.db\n",
      "(sqlite3.OperationalError) no such table: playlists\n",
      "[SQL: SELECT * FROM playlists;]\n",
      "(Background on this error at: http://sqlalche.me/e/e3q8)\n"
     ]
    }
   ],
   "source": [
    "%%sql\n",
    "\n",
    "SELECT *\n",
    "FROM playlists;"
   ]
  },
  {
   "cell_type": "markdown",
   "metadata": {},
   "source": [
    "Success! SQL generates the `no such table` error.\n",
    "\n",
    "2. Deleting playlist_track:"
   ]
  },
  {
   "cell_type": "code",
   "execution_count": 14,
   "metadata": {},
   "outputs": [
    {
     "name": "stdout",
     "output_type": "stream",
     "text": [
      " * sqlite:///chinook.db\n",
      "Done.\n"
     ]
    },
    {
     "data": {
      "text/plain": [
       "[]"
      ]
     },
     "execution_count": 14,
     "metadata": {},
     "output_type": "execute_result"
    }
   ],
   "source": [
    "%%sql\n",
    "\n",
    "DROP TABLE playlist_track;"
   ]
  },
  {
   "cell_type": "markdown",
   "metadata": {},
   "source": [
    "And that's it for this train!"
   ]
  },
  {
   "cell_type": "markdown",
   "metadata": {},
   "source": [
    "## Conclusion\n",
    "In this train we presented some of the elements required for cleaning data in a database. Particularly, how to modify the data entries of a SQL table, how to remove one or more rows in a SQL table, and finally How to delete SQL tables. We introduced the `UPDATE`, `DELETE`, and `DROP` SQL statements and provided examples highlighting their usage.\n",
    "\n",
    "## Additional links\n",
    "- [The Update statement](https://www.dofactory.com/sql/update)\n",
    "- [SQL DELETE Examples](https://www.dofactory.com/sql/delete)\n",
    "- [The DROP TABLE statement](https://db.apache.org/derby/docs/10.13/ref/rrefsqlj34148.html)\n"
   ]
  }
 ],
 "metadata": {
  "colab": {
   "collapsed_sections": [],
   "name": "SQL_Experimentation.ipynb",
   "provenance": []
  },
  "kernelspec": {
   "display_name": "Python 3 (ipykernel)",
   "language": "python",
   "name": "python3"
  },
  "language_info": {
   "codemirror_mode": {
    "name": "ipython",
    "version": 3
   },
   "file_extension": ".py",
   "mimetype": "text/x-python",
   "name": "python",
   "nbconvert_exporter": "python",
   "pygments_lexer": "ipython3",
   "version": "3.9.13"
  }
 },
 "nbformat": 4,
 "nbformat_minor": 1
}
