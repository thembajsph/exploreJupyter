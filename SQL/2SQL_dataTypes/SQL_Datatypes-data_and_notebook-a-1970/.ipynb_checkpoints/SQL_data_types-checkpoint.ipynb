{
 "cells": [
  {
   "cell_type": "markdown",
   "metadata": {},
   "source": [
    "# Working with different datatypes in SQL\n",
    "© Explore Data Science Academy"
   ]
  },
  {
   "cell_type": "markdown",
   "metadata": {},
   "source": [
    "## Learning Objectives\n",
    "\n",
    "In this train we will learn:\n",
    "- Querying numerical data;\n",
    "- Querying Datetime data; and\n",
    "- Querying text data.\n",
    "\n",
    "## Outline\n",
    "\n",
    "This train is structured as follows:\n",
    "- Assessing the datatypes of table columns\n",
    "- Numeric data\n",
    "    - Integers \n",
    "    - Decimals\n",
    "- Text data\n",
    "    - LIKE operator\n",
    "    - Case\n",
    "    - Concatenation\n",
    "- Date/Time data\n",
    "    - The interval datatype\n",
    "    - Getting portions of datetime objects\n",
    "    - Between"
   ]
  },
  {
   "cell_type": "markdown",
   "metadata": {},
   "source": [
    "## Introduction\n",
    "\n",
    "SQL databases consist of tables which in turn consist of columns. Each column is allowed to store a single datatype. This datatype is allocated to a given column based on:\n",
    "\n",
    "1. The **type** of data that needs to be stored in the column.\n",
    "2. The **size** (in bytes) required to store each datum in the column.\n",
    "\n",
    "\n",
    "As such, the general rule of thumb is to use the smallest version of the data type that also has enough capacity to reliably support the data to be stored.\n",
    "\n",
    "For this train, we will discuss some of the common datatypes in databases and SQL queries that will be useful when working with them.  "
   ]
  },
  {
   "cell_type": "markdown",
   "metadata": {},
   "source": [
    "## Assessing the datatypes of table columns"
   ]
  },
  {
   "cell_type": "markdown",
   "metadata": {},
   "source": [
    "In this section, we discuss how to find out the datatypes of columns in a given table. This will be useful when we want to use the WHERE clause (i.e. to verify the type of data in the column) or when we need to modify or add information to a given database table. \n",
    "\n",
    "First, let's load our sample database:"
   ]
  },
  {
   "cell_type": "code",
   "execution_count": 1,
   "metadata": {},
   "outputs": [],
   "source": [
    "# load sql magics\n",
    "%load_ext sql\n",
    "\n",
    "# load chinook database\n",
    "%sql sqlite:///chinook.db"
   ]
  },
  {
   "cell_type": "markdown",
   "metadata": {},
   "source": [
    "Chinook db ER diagram:\n",
    "\n",
    "![Chinook ERD](https://github.com/Explore-AI/Pictures/blob/master/sqlite-sample-database-color.jpg?raw=true)\n",
    "\n",
    "_[Image source](https://www.sqlitetutorial.net/sqlite-sample-database/)_"
   ]
  },
  {
   "cell_type": "markdown",
   "metadata": {},
   "source": [
    "We can show information (including column types) about a table in the database as follows:\n",
    "\n",
    "**SQLite:**"
   ]
  },
  {
   "cell_type": "code",
   "execution_count": 2,
   "metadata": {},
   "outputs": [
    {
     "name": "stdout",
     "output_type": "stream",
     "text": [
      " * sqlite:///chinook.db\n",
      "Done.\n"
     ]
    },
    {
     "data": {
      "text/html": [
       "<table>\n",
       "    <tr>\n",
       "        <th>cid</th>\n",
       "        <th>name</th>\n",
       "        <th>type</th>\n",
       "        <th>notnull</th>\n",
       "        <th>dflt_value</th>\n",
       "        <th>pk</th>\n",
       "    </tr>\n",
       "    <tr>\n",
       "        <td>0</td>\n",
       "        <td>EmployeeId</td>\n",
       "        <td>INTEGER</td>\n",
       "        <td>1</td>\n",
       "        <td>None</td>\n",
       "        <td>1</td>\n",
       "    </tr>\n",
       "    <tr>\n",
       "        <td>1</td>\n",
       "        <td>LastName</td>\n",
       "        <td>NVARCHAR(20)</td>\n",
       "        <td>1</td>\n",
       "        <td>None</td>\n",
       "        <td>0</td>\n",
       "    </tr>\n",
       "    <tr>\n",
       "        <td>2</td>\n",
       "        <td>FirstName</td>\n",
       "        <td>NVARCHAR(20)</td>\n",
       "        <td>1</td>\n",
       "        <td>None</td>\n",
       "        <td>0</td>\n",
       "    </tr>\n",
       "    <tr>\n",
       "        <td>3</td>\n",
       "        <td>Title</td>\n",
       "        <td>NVARCHAR(30)</td>\n",
       "        <td>0</td>\n",
       "        <td>None</td>\n",
       "        <td>0</td>\n",
       "    </tr>\n",
       "    <tr>\n",
       "        <td>4</td>\n",
       "        <td>ReportsTo</td>\n",
       "        <td>INTEGER</td>\n",
       "        <td>0</td>\n",
       "        <td>None</td>\n",
       "        <td>0</td>\n",
       "    </tr>\n",
       "    <tr>\n",
       "        <td>5</td>\n",
       "        <td>BirthDate</td>\n",
       "        <td>DATETIME</td>\n",
       "        <td>0</td>\n",
       "        <td>None</td>\n",
       "        <td>0</td>\n",
       "    </tr>\n",
       "    <tr>\n",
       "        <td>6</td>\n",
       "        <td>HireDate</td>\n",
       "        <td>DATETIME</td>\n",
       "        <td>0</td>\n",
       "        <td>None</td>\n",
       "        <td>0</td>\n",
       "    </tr>\n",
       "    <tr>\n",
       "        <td>7</td>\n",
       "        <td>Address</td>\n",
       "        <td>NVARCHAR(70)</td>\n",
       "        <td>0</td>\n",
       "        <td>None</td>\n",
       "        <td>0</td>\n",
       "    </tr>\n",
       "    <tr>\n",
       "        <td>8</td>\n",
       "        <td>City</td>\n",
       "        <td>NVARCHAR(40)</td>\n",
       "        <td>0</td>\n",
       "        <td>None</td>\n",
       "        <td>0</td>\n",
       "    </tr>\n",
       "    <tr>\n",
       "        <td>9</td>\n",
       "        <td>State</td>\n",
       "        <td>NVARCHAR(40)</td>\n",
       "        <td>0</td>\n",
       "        <td>None</td>\n",
       "        <td>0</td>\n",
       "    </tr>\n",
       "    <tr>\n",
       "        <td>10</td>\n",
       "        <td>Country</td>\n",
       "        <td>NVARCHAR(40)</td>\n",
       "        <td>0</td>\n",
       "        <td>None</td>\n",
       "        <td>0</td>\n",
       "    </tr>\n",
       "    <tr>\n",
       "        <td>11</td>\n",
       "        <td>PostalCode</td>\n",
       "        <td>NVARCHAR(10)</td>\n",
       "        <td>0</td>\n",
       "        <td>None</td>\n",
       "        <td>0</td>\n",
       "    </tr>\n",
       "    <tr>\n",
       "        <td>12</td>\n",
       "        <td>Phone</td>\n",
       "        <td>NVARCHAR(24)</td>\n",
       "        <td>0</td>\n",
       "        <td>None</td>\n",
       "        <td>0</td>\n",
       "    </tr>\n",
       "    <tr>\n",
       "        <td>13</td>\n",
       "        <td>Fax</td>\n",
       "        <td>NVARCHAR(24)</td>\n",
       "        <td>0</td>\n",
       "        <td>None</td>\n",
       "        <td>0</td>\n",
       "    </tr>\n",
       "    <tr>\n",
       "        <td>14</td>\n",
       "        <td>Email</td>\n",
       "        <td>NVARCHAR(60)</td>\n",
       "        <td>0</td>\n",
       "        <td>None</td>\n",
       "        <td>0</td>\n",
       "    </tr>\n",
       "</table>"
      ],
      "text/plain": [
       "[(0, 'EmployeeId', 'INTEGER', 1, None, 1),\n",
       " (1, 'LastName', 'NVARCHAR(20)', 1, None, 0),\n",
       " (2, 'FirstName', 'NVARCHAR(20)', 1, None, 0),\n",
       " (3, 'Title', 'NVARCHAR(30)', 0, None, 0),\n",
       " (4, 'ReportsTo', 'INTEGER', 0, None, 0),\n",
       " (5, 'BirthDate', 'DATETIME', 0, None, 0),\n",
       " (6, 'HireDate', 'DATETIME', 0, None, 0),\n",
       " (7, 'Address', 'NVARCHAR(70)', 0, None, 0),\n",
       " (8, 'City', 'NVARCHAR(40)', 0, None, 0),\n",
       " (9, 'State', 'NVARCHAR(40)', 0, None, 0),\n",
       " (10, 'Country', 'NVARCHAR(40)', 0, None, 0),\n",
       " (11, 'PostalCode', 'NVARCHAR(10)', 0, None, 0),\n",
       " (12, 'Phone', 'NVARCHAR(24)', 0, None, 0),\n",
       " (13, 'Fax', 'NVARCHAR(24)', 0, None, 0),\n",
       " (14, 'Email', 'NVARCHAR(60)', 0, None, 0)]"
      ]
     },
     "execution_count": 2,
     "metadata": {},
     "output_type": "execute_result"
    }
   ],
   "source": [
    "%%sql\n",
    "\n",
    "PRAGMA table_info(employees);"
   ]
  },
  {
   "cell_type": "markdown",
   "metadata": {},
   "source": [
    "This query uses the [PRAGMA](https://www.sqlite.org/pragma.html) statement. This is useful for querying metadata of a database."
   ]
  },
  {
   "cell_type": "markdown",
   "metadata": {},
   "source": [
    "## 1. Numeric data\n",
    "When using SQL in the context of data science, we will need to be familiar with numerical data in the form of integers and floats.\n",
    "\n",
    "### 1.1. Integers\n",
    "SQL offers multiple datatypes for storing integer values (negative and positive whole numbers). These integer datatypes will vary depending on the range, i.e., the interval of supported integers, and the nature of the table column. While it only supports 4 bytes of memory and integers between a given range (i.e. roughly $-2^{31}$ to $2^{31}$ ) it is sufficient for most datasets. SQL has other integer data types that vary depending on the storage size such as:\n",
    "\n",
    "- `INTEGER` (or `INT` depending on the SQL engine used) - allocates 4 bytes of memory per integer and supports integers between the range $-2^{31}$ to $2^{31}-1$.\n",
    "- `BIGINT`  - allocates 8 bytes of memory per integer and supports integers between the range $-2^{63}$ to $2^{63}-1$.\n",
    "- `SMALLINT` - allocates 2 bytes of memory per integer and supports integers between the range $-2^{15}$ to $2^{15}-1$. For example, the employee age (this value will always be positive and seldom exceed 100).\n",
    "- `SERIAL` - a special integer datatype that auto increments when rows are added to the table (useful for creating id columns). Like the `INTEGER` data type, the `SERIAL` data type is 4 bytes in size but only supports integers from $1$ to $2^{63}-1$. Furthermore, it also has `BIGSERIAL` and `SMALLSERIAL` variants which correspond to the `BIGINT` and `SMALLINT` data types respectively."
   ]
  },
  {
   "cell_type": "markdown",
   "metadata": {},
   "source": [
    "With this knowledge, let's look at the tracks table in the Chinook database:"
   ]
  },
  {
   "cell_type": "code",
   "execution_count": 3,
   "metadata": {},
   "outputs": [
    {
     "name": "stdout",
     "output_type": "stream",
     "text": [
      " * sqlite:///chinook.db\n",
      "Done.\n"
     ]
    },
    {
     "data": {
      "text/html": [
       "<table>\n",
       "    <tr>\n",
       "        <th>cid</th>\n",
       "        <th>name</th>\n",
       "        <th>type</th>\n",
       "        <th>notnull</th>\n",
       "        <th>dflt_value</th>\n",
       "        <th>pk</th>\n",
       "    </tr>\n",
       "    <tr>\n",
       "        <td>0</td>\n",
       "        <td>TrackId</td>\n",
       "        <td>INTEGER</td>\n",
       "        <td>1</td>\n",
       "        <td>None</td>\n",
       "        <td>1</td>\n",
       "    </tr>\n",
       "    <tr>\n",
       "        <td>1</td>\n",
       "        <td>Name</td>\n",
       "        <td>NVARCHAR(200)</td>\n",
       "        <td>1</td>\n",
       "        <td>None</td>\n",
       "        <td>0</td>\n",
       "    </tr>\n",
       "    <tr>\n",
       "        <td>2</td>\n",
       "        <td>AlbumId</td>\n",
       "        <td>INTEGER</td>\n",
       "        <td>0</td>\n",
       "        <td>None</td>\n",
       "        <td>0</td>\n",
       "    </tr>\n",
       "    <tr>\n",
       "        <td>3</td>\n",
       "        <td>MediaTypeId</td>\n",
       "        <td>INTEGER</td>\n",
       "        <td>1</td>\n",
       "        <td>None</td>\n",
       "        <td>0</td>\n",
       "    </tr>\n",
       "    <tr>\n",
       "        <td>4</td>\n",
       "        <td>GenreId</td>\n",
       "        <td>INTEGER</td>\n",
       "        <td>0</td>\n",
       "        <td>None</td>\n",
       "        <td>0</td>\n",
       "    </tr>\n",
       "    <tr>\n",
       "        <td>5</td>\n",
       "        <td>Composer</td>\n",
       "        <td>NVARCHAR(220)</td>\n",
       "        <td>0</td>\n",
       "        <td>None</td>\n",
       "        <td>0</td>\n",
       "    </tr>\n",
       "    <tr>\n",
       "        <td>6</td>\n",
       "        <td>Milliseconds</td>\n",
       "        <td>INTEGER</td>\n",
       "        <td>1</td>\n",
       "        <td>None</td>\n",
       "        <td>0</td>\n",
       "    </tr>\n",
       "    <tr>\n",
       "        <td>7</td>\n",
       "        <td>Bytes</td>\n",
       "        <td>INTEGER</td>\n",
       "        <td>0</td>\n",
       "        <td>None</td>\n",
       "        <td>0</td>\n",
       "    </tr>\n",
       "    <tr>\n",
       "        <td>8</td>\n",
       "        <td>UnitPrice</td>\n",
       "        <td>NUMERIC(10,2)</td>\n",
       "        <td>1</td>\n",
       "        <td>None</td>\n",
       "        <td>0</td>\n",
       "    </tr>\n",
       "</table>"
      ],
      "text/plain": [
       "[(0, 'TrackId', 'INTEGER', 1, None, 1),\n",
       " (1, 'Name', 'NVARCHAR(200)', 1, None, 0),\n",
       " (2, 'AlbumId', 'INTEGER', 0, None, 0),\n",
       " (3, 'MediaTypeId', 'INTEGER', 1, None, 0),\n",
       " (4, 'GenreId', 'INTEGER', 0, None, 0),\n",
       " (5, 'Composer', 'NVARCHAR(220)', 0, None, 0),\n",
       " (6, 'Milliseconds', 'INTEGER', 1, None, 0),\n",
       " (7, 'Bytes', 'INTEGER', 0, None, 0),\n",
       " (8, 'UnitPrice', 'NUMERIC(10,2)', 1, None, 0)]"
      ]
     },
     "execution_count": 3,
     "metadata": {},
     "output_type": "execute_result"
    }
   ],
   "source": [
    "%%sql\n",
    "\n",
    "PRAGMA table_info(tracks);"
   ]
  },
  {
   "cell_type": "markdown",
   "metadata": {},
   "source": [
    "We can see that it contains 6 integer columns, the `TrackId`, `AlbumId`, `MediaTypeId`, `GenreId`, `Milliseconds`, and `Bytes` columns. \n",
    "\n",
    "Let's take a closer look at what these columns contain:\n",
    "\n",
    "**Note, we limit our results to 10 rows for legibility.*"
   ]
  },
  {
   "cell_type": "code",
   "execution_count": 4,
   "metadata": {},
   "outputs": [
    {
     "name": "stdout",
     "output_type": "stream",
     "text": [
      " * sqlite:///chinook.db\n",
      "Done.\n"
     ]
    },
    {
     "data": {
      "text/html": [
       "<table>\n",
       "    <tr>\n",
       "        <th>TrackId</th>\n",
       "        <th>AlbumId</th>\n",
       "        <th>MediaTypeId</th>\n",
       "        <th>GenreId</th>\n",
       "        <th>Milliseconds</th>\n",
       "        <th>Bytes</th>\n",
       "    </tr>\n",
       "    <tr>\n",
       "        <td>1</td>\n",
       "        <td>1</td>\n",
       "        <td>1</td>\n",
       "        <td>1</td>\n",
       "        <td>343719</td>\n",
       "        <td>11170334</td>\n",
       "    </tr>\n",
       "    <tr>\n",
       "        <td>2</td>\n",
       "        <td>2</td>\n",
       "        <td>2</td>\n",
       "        <td>1</td>\n",
       "        <td>342562</td>\n",
       "        <td>5510424</td>\n",
       "    </tr>\n",
       "    <tr>\n",
       "        <td>3</td>\n",
       "        <td>3</td>\n",
       "        <td>2</td>\n",
       "        <td>1</td>\n",
       "        <td>230619</td>\n",
       "        <td>3990994</td>\n",
       "    </tr>\n",
       "    <tr>\n",
       "        <td>4</td>\n",
       "        <td>3</td>\n",
       "        <td>2</td>\n",
       "        <td>1</td>\n",
       "        <td>252051</td>\n",
       "        <td>4331779</td>\n",
       "    </tr>\n",
       "    <tr>\n",
       "        <td>5</td>\n",
       "        <td>3</td>\n",
       "        <td>2</td>\n",
       "        <td>1</td>\n",
       "        <td>375418</td>\n",
       "        <td>6290521</td>\n",
       "    </tr>\n",
       "    <tr>\n",
       "        <td>6</td>\n",
       "        <td>1</td>\n",
       "        <td>1</td>\n",
       "        <td>1</td>\n",
       "        <td>205662</td>\n",
       "        <td>6713451</td>\n",
       "    </tr>\n",
       "    <tr>\n",
       "        <td>7</td>\n",
       "        <td>1</td>\n",
       "        <td>1</td>\n",
       "        <td>1</td>\n",
       "        <td>233926</td>\n",
       "        <td>7636561</td>\n",
       "    </tr>\n",
       "    <tr>\n",
       "        <td>8</td>\n",
       "        <td>1</td>\n",
       "        <td>1</td>\n",
       "        <td>1</td>\n",
       "        <td>210834</td>\n",
       "        <td>6852860</td>\n",
       "    </tr>\n",
       "    <tr>\n",
       "        <td>9</td>\n",
       "        <td>1</td>\n",
       "        <td>1</td>\n",
       "        <td>1</td>\n",
       "        <td>203102</td>\n",
       "        <td>6599424</td>\n",
       "    </tr>\n",
       "    <tr>\n",
       "        <td>10</td>\n",
       "        <td>1</td>\n",
       "        <td>1</td>\n",
       "        <td>1</td>\n",
       "        <td>263497</td>\n",
       "        <td>8611245</td>\n",
       "    </tr>\n",
       "</table>"
      ],
      "text/plain": [
       "[(1, 1, 1, 1, 343719, 11170334),\n",
       " (2, 2, 2, 1, 342562, 5510424),\n",
       " (3, 3, 2, 1, 230619, 3990994),\n",
       " (4, 3, 2, 1, 252051, 4331779),\n",
       " (5, 3, 2, 1, 375418, 6290521),\n",
       " (6, 1, 1, 1, 205662, 6713451),\n",
       " (7, 1, 1, 1, 233926, 7636561),\n",
       " (8, 1, 1, 1, 210834, 6852860),\n",
       " (9, 1, 1, 1, 203102, 6599424),\n",
       " (10, 1, 1, 1, 263497, 8611245)]"
      ]
     },
     "execution_count": 4,
     "metadata": {},
     "output_type": "execute_result"
    }
   ],
   "source": [
    "%%sql\n",
    "\n",
    "SELECT TrackId, AlbumId, MediaTypeId, GenreId, Milliseconds, Bytes\n",
    "FROM tracks\n",
    "LIMIT 10;"
   ]
  },
  {
   "cell_type": "markdown",
   "metadata": {},
   "source": [
    "As expected all these columns contain integers. However, most of them are column IDs, this means that we could generate them ourselves using the `SERIAL` integer types if we had to rebuild the database. A good way to analyse the properties of a given numerical column is to use summary statistics. \n",
    "\n",
    "Let's do this for the Bytes and the Milliseconds columns. "
   ]
  },
  {
   "cell_type": "code",
   "execution_count": 5,
   "metadata": {},
   "outputs": [
    {
     "name": "stdout",
     "output_type": "stream",
     "text": [
      " * sqlite:///chinook.db\n",
      "Done.\n"
     ]
    },
    {
     "data": {
      "text/html": [
       "<table>\n",
       "    <tr>\n",
       "        <th>Name</th>\n",
       "        <th>Bytes_Max</th>\n",
       "        <th>Bytes_Min</th>\n",
       "        <th>Bytes_Mean</th>\n",
       "        <th>Milliseconds_Max</th>\n",
       "        <th>Milliseconds_Min</th>\n",
       "        <th>Milliseconds_Mean</th>\n",
       "    </tr>\n",
       "    <tr>\n",
       "        <td>AAC audio file</td>\n",
       "        <td>6034098</td>\n",
       "        <td>2775071</td>\n",
       "        <td>4476793.818181818</td>\n",
       "        <td>366085</td>\n",
       "        <td>172710</td>\n",
       "        <td>276506.9090909091</td>\n",
       "    </tr>\n",
       "    <tr>\n",
       "        <td>MPEG audio file</td>\n",
       "        <td>52490554</td>\n",
       "        <td>38747</td>\n",
       "        <td>8630428.7656559</td>\n",
       "        <td>1612329</td>\n",
       "        <td>1071</td>\n",
       "        <td>265574.28872775217</td>\n",
       "    </tr>\n",
       "    <tr>\n",
       "        <td>Protected AAC audio file</td>\n",
       "        <td>11157785</td>\n",
       "        <td>1189062</td>\n",
       "        <td>4663795.573839663</td>\n",
       "        <td>672773</td>\n",
       "        <td>66639</td>\n",
       "        <td>281723.87341772154</td>\n",
       "    </tr>\n",
       "    <tr>\n",
       "        <td>Protected MPEG-4 video file</td>\n",
       "        <td>1059546140</td>\n",
       "        <td>20831818</td>\n",
       "        <td>420493713.0140187</td>\n",
       "        <td>5286953</td>\n",
       "        <td>112712</td>\n",
       "        <td>2342940.425233645</td>\n",
       "    </tr>\n",
       "    <tr>\n",
       "        <td>Purchased AAC audio file</td>\n",
       "        <td>16454937</td>\n",
       "        <td>2229617</td>\n",
       "        <td>8759372.42857143</td>\n",
       "        <td>493573</td>\n",
       "        <td>51780</td>\n",
       "        <td>260894.7142857143</td>\n",
       "    </tr>\n",
       "</table>"
      ],
      "text/plain": [
       "[('AAC audio file', 6034098, 2775071, 4476793.818181818, 366085, 172710, 276506.9090909091),\n",
       " ('MPEG audio file', 52490554, 38747, 8630428.7656559, 1612329, 1071, 265574.28872775217),\n",
       " ('Protected AAC audio file', 11157785, 1189062, 4663795.573839663, 672773, 66639, 281723.87341772154),\n",
       " ('Protected MPEG-4 video file', 1059546140, 20831818, 420493713.0140187, 5286953, 112712, 2342940.425233645),\n",
       " ('Purchased AAC audio file', 16454937, 2229617, 8759372.42857143, 493573, 51780, 260894.7142857143)]"
      ]
     },
     "execution_count": 5,
     "metadata": {},
     "output_type": "execute_result"
    }
   ],
   "source": [
    "%%sql\n",
    "\n",
    "SELECT mt.Name, max(t.Bytes) AS \"Bytes_Max\", min(t.Bytes) AS \"Bytes_Min\", avg(t.Bytes) AS \"Bytes_Mean\", \n",
    "       max(t.Milliseconds) AS \"Milliseconds_Max\", min(t.Milliseconds) AS \"Milliseconds_Min\", avg(t.Milliseconds) \"Milliseconds_Mean\" \n",
    "FROM tracks AS t\n",
    "LEFT JOIN media_types AS mt\n",
    "ON mt.MediaTypeId = t.MediaTypeId\n",
    "GROUP BY mt.Name;"
   ]
  },
  {
   "cell_type": "markdown",
   "metadata": {},
   "source": [
    "Since the Bytes and Milliseconds are the same data type, the same limit applies to both of them. This means that we can't store tracks that are greater than $2^{31}-1$ bytes in size (i.e., 2 147 483 647 bytes or 2.15 gigabytes) and tracks that are longer than $2^{31}-1$ milliseconds (i.e., 597 hours). As you will see in later trains, it is important to know the datatypes of the columns we want to insert data into as well as the supported range of values."
   ]
  },
  {
   "cell_type": "markdown",
   "metadata": {},
   "source": [
    "### 1.2. Decimals"
   ]
  },
  {
   "cell_type": "markdown",
   "metadata": {},
   "source": [
    "SQL also has datatypes for storing decimal numbers. These include:\n",
    "\n",
    "- `DECIMAL` or `NUMERIC` - can store column values to user-specified precision (number of digits to the left and right of the decimal point) and variable storage size (based on specified precision). \n",
    "- `REAL` - allocates 4 bytes of memory per decimal and supports 7 decimal digits of fractional precision.\n",
    "- `DOUBLE PRECISION` - allocates 8 bytes of memory per decimal and supports up to 15 decimal digits of fractional precision.\n",
    "\n",
    "Let's take a look at the meta information of the invoices table:"
   ]
  },
  {
   "cell_type": "code",
   "execution_count": 6,
   "metadata": {},
   "outputs": [
    {
     "name": "stdout",
     "output_type": "stream",
     "text": [
      " * sqlite:///chinook.db\n",
      "Done.\n"
     ]
    },
    {
     "data": {
      "text/html": [
       "<table>\n",
       "    <tr>\n",
       "        <th>cid</th>\n",
       "        <th>name</th>\n",
       "        <th>type</th>\n",
       "        <th>notnull</th>\n",
       "        <th>dflt_value</th>\n",
       "        <th>pk</th>\n",
       "    </tr>\n",
       "    <tr>\n",
       "        <td>0</td>\n",
       "        <td>InvoiceId</td>\n",
       "        <td>INTEGER</td>\n",
       "        <td>1</td>\n",
       "        <td>None</td>\n",
       "        <td>1</td>\n",
       "    </tr>\n",
       "    <tr>\n",
       "        <td>1</td>\n",
       "        <td>CustomerId</td>\n",
       "        <td>INTEGER</td>\n",
       "        <td>1</td>\n",
       "        <td>None</td>\n",
       "        <td>0</td>\n",
       "    </tr>\n",
       "    <tr>\n",
       "        <td>2</td>\n",
       "        <td>InvoiceDate</td>\n",
       "        <td>DATETIME</td>\n",
       "        <td>1</td>\n",
       "        <td>None</td>\n",
       "        <td>0</td>\n",
       "    </tr>\n",
       "    <tr>\n",
       "        <td>3</td>\n",
       "        <td>BillingAddress</td>\n",
       "        <td>NVARCHAR(70)</td>\n",
       "        <td>0</td>\n",
       "        <td>None</td>\n",
       "        <td>0</td>\n",
       "    </tr>\n",
       "    <tr>\n",
       "        <td>4</td>\n",
       "        <td>BillingCity</td>\n",
       "        <td>NVARCHAR(40)</td>\n",
       "        <td>0</td>\n",
       "        <td>None</td>\n",
       "        <td>0</td>\n",
       "    </tr>\n",
       "    <tr>\n",
       "        <td>5</td>\n",
       "        <td>BillingState</td>\n",
       "        <td>NVARCHAR(40)</td>\n",
       "        <td>0</td>\n",
       "        <td>None</td>\n",
       "        <td>0</td>\n",
       "    </tr>\n",
       "    <tr>\n",
       "        <td>6</td>\n",
       "        <td>BillingCountry</td>\n",
       "        <td>NVARCHAR(40)</td>\n",
       "        <td>0</td>\n",
       "        <td>None</td>\n",
       "        <td>0</td>\n",
       "    </tr>\n",
       "    <tr>\n",
       "        <td>7</td>\n",
       "        <td>BillingPostalCode</td>\n",
       "        <td>NVARCHAR(10)</td>\n",
       "        <td>0</td>\n",
       "        <td>None</td>\n",
       "        <td>0</td>\n",
       "    </tr>\n",
       "    <tr>\n",
       "        <td>8</td>\n",
       "        <td>Total</td>\n",
       "        <td>NUMERIC(10,2)</td>\n",
       "        <td>1</td>\n",
       "        <td>None</td>\n",
       "        <td>0</td>\n",
       "    </tr>\n",
       "</table>"
      ],
      "text/plain": [
       "[(0, 'InvoiceId', 'INTEGER', 1, None, 1),\n",
       " (1, 'CustomerId', 'INTEGER', 1, None, 0),\n",
       " (2, 'InvoiceDate', 'DATETIME', 1, None, 0),\n",
       " (3, 'BillingAddress', 'NVARCHAR(70)', 0, None, 0),\n",
       " (4, 'BillingCity', 'NVARCHAR(40)', 0, None, 0),\n",
       " (5, 'BillingState', 'NVARCHAR(40)', 0, None, 0),\n",
       " (6, 'BillingCountry', 'NVARCHAR(40)', 0, None, 0),\n",
       " (7, 'BillingPostalCode', 'NVARCHAR(10)', 0, None, 0),\n",
       " (8, 'Total', 'NUMERIC(10,2)', 1, None, 0)]"
      ]
     },
     "execution_count": 6,
     "metadata": {},
     "output_type": "execute_result"
    }
   ],
   "source": [
    "%%sql\n",
    "\n",
    "PRAGMA table_info(invoices);"
   ]
  },
  {
   "cell_type": "markdown",
   "metadata": {},
   "source": [
    "Evidently, the Total column is the only decimal column in the table. Its data type `NUMERIC(10,2)`, means that the column supports 10 digits to the left of the decimal point and 2 digits to the right of the decimal point.\n",
    "\n",
    "Let's confirm this:"
   ]
  },
  {
   "cell_type": "code",
   "execution_count": 7,
   "metadata": {},
   "outputs": [
    {
     "name": "stdout",
     "output_type": "stream",
     "text": [
      " * sqlite:///chinook.db\n",
      "Done.\n"
     ]
    },
    {
     "data": {
      "text/html": [
       "<table>\n",
       "    <tr>\n",
       "        <th>Total</th>\n",
       "    </tr>\n",
       "    <tr>\n",
       "        <td>1.98</td>\n",
       "    </tr>\n",
       "    <tr>\n",
       "        <td>3.96</td>\n",
       "    </tr>\n",
       "    <tr>\n",
       "        <td>5.94</td>\n",
       "    </tr>\n",
       "    <tr>\n",
       "        <td>8.91</td>\n",
       "    </tr>\n",
       "    <tr>\n",
       "        <td>13.86</td>\n",
       "    </tr>\n",
       "    <tr>\n",
       "        <td>0.99</td>\n",
       "    </tr>\n",
       "    <tr>\n",
       "        <td>1.98</td>\n",
       "    </tr>\n",
       "    <tr>\n",
       "        <td>1.98</td>\n",
       "    </tr>\n",
       "    <tr>\n",
       "        <td>3.96</td>\n",
       "    </tr>\n",
       "    <tr>\n",
       "        <td>5.94</td>\n",
       "    </tr>\n",
       "</table>"
      ],
      "text/plain": [
       "[(1.98,),\n",
       " (3.96,),\n",
       " (5.94,),\n",
       " (8.91,),\n",
       " (13.86,),\n",
       " (0.99,),\n",
       " (1.98,),\n",
       " (1.98,),\n",
       " (3.96,),\n",
       " (5.94,)]"
      ]
     },
     "execution_count": 7,
     "metadata": {},
     "output_type": "execute_result"
    }
   ],
   "source": [
    "%%sql\n",
    "\n",
    "SELECT Total\n",
    "FROM invoices\n",
    "LIMIT 10;"
   ]
  },
  {
   "cell_type": "markdown",
   "metadata": {},
   "source": [
    "The `NUMERIC` column type is a convenient choice for decimals since it allows the user to specify the desired precision, i.e., we can ask to store more or less numbers before or after the decimal point."
   ]
  },
  {
   "cell_type": "markdown",
   "metadata": {},
   "source": [
    "*Note: size is an extremely important factor when considering what data type to use for a given column. Particularly when dealing with numeric data. Using bigger datatypes not only affects the size of the database itself, but also the speed of calculations. This is especially true when dealing with high precision decimal values.*"
   ]
  },
  {
   "cell_type": "markdown",
   "metadata": {},
   "source": [
    "## 2. Text data\n",
    "\n",
    "This family of datatypes stores text data in the form of characters or sequences of characters (i.e. strings). Common datatypes for text are:\n",
    "\n",
    "- `CHAR(n)` - supports sequences of fixed-length characters up to length `n`. Shorter strings are padded with whitespaces until they have length `n`.\n",
    "- `VARCHAR(n)` - supports strings of varying lengths up to length `n`. \n",
    "- `VARCHAR` or `VARYING TEXT` - supports strings of any length.\n",
    "\n",
    "Let's Look at the metainformation of the customers table:"
   ]
  },
  {
   "cell_type": "code",
   "execution_count": 8,
   "metadata": {},
   "outputs": [
    {
     "name": "stdout",
     "output_type": "stream",
     "text": [
      " * sqlite:///chinook.db\n",
      "Done.\n"
     ]
    },
    {
     "data": {
      "text/html": [
       "<table>\n",
       "    <tr>\n",
       "        <th>cid</th>\n",
       "        <th>name</th>\n",
       "        <th>type</th>\n",
       "        <th>notnull</th>\n",
       "        <th>dflt_value</th>\n",
       "        <th>pk</th>\n",
       "    </tr>\n",
       "    <tr>\n",
       "        <td>0</td>\n",
       "        <td>CustomerId</td>\n",
       "        <td>INTEGER</td>\n",
       "        <td>1</td>\n",
       "        <td>None</td>\n",
       "        <td>1</td>\n",
       "    </tr>\n",
       "    <tr>\n",
       "        <td>1</td>\n",
       "        <td>FirstName</td>\n",
       "        <td>NVARCHAR(40)</td>\n",
       "        <td>1</td>\n",
       "        <td>None</td>\n",
       "        <td>0</td>\n",
       "    </tr>\n",
       "    <tr>\n",
       "        <td>2</td>\n",
       "        <td>LastName</td>\n",
       "        <td>NVARCHAR(20)</td>\n",
       "        <td>1</td>\n",
       "        <td>None</td>\n",
       "        <td>0</td>\n",
       "    </tr>\n",
       "    <tr>\n",
       "        <td>3</td>\n",
       "        <td>Company</td>\n",
       "        <td>NVARCHAR(80)</td>\n",
       "        <td>0</td>\n",
       "        <td>None</td>\n",
       "        <td>0</td>\n",
       "    </tr>\n",
       "    <tr>\n",
       "        <td>4</td>\n",
       "        <td>Address</td>\n",
       "        <td>NVARCHAR(70)</td>\n",
       "        <td>0</td>\n",
       "        <td>None</td>\n",
       "        <td>0</td>\n",
       "    </tr>\n",
       "    <tr>\n",
       "        <td>5</td>\n",
       "        <td>City</td>\n",
       "        <td>NVARCHAR(40)</td>\n",
       "        <td>0</td>\n",
       "        <td>None</td>\n",
       "        <td>0</td>\n",
       "    </tr>\n",
       "    <tr>\n",
       "        <td>6</td>\n",
       "        <td>State</td>\n",
       "        <td>NVARCHAR(40)</td>\n",
       "        <td>0</td>\n",
       "        <td>None</td>\n",
       "        <td>0</td>\n",
       "    </tr>\n",
       "    <tr>\n",
       "        <td>7</td>\n",
       "        <td>Country</td>\n",
       "        <td>NVARCHAR(40)</td>\n",
       "        <td>0</td>\n",
       "        <td>None</td>\n",
       "        <td>0</td>\n",
       "    </tr>\n",
       "    <tr>\n",
       "        <td>8</td>\n",
       "        <td>PostalCode</td>\n",
       "        <td>NVARCHAR(10)</td>\n",
       "        <td>0</td>\n",
       "        <td>None</td>\n",
       "        <td>0</td>\n",
       "    </tr>\n",
       "    <tr>\n",
       "        <td>9</td>\n",
       "        <td>Phone</td>\n",
       "        <td>NVARCHAR(24)</td>\n",
       "        <td>0</td>\n",
       "        <td>None</td>\n",
       "        <td>0</td>\n",
       "    </tr>\n",
       "    <tr>\n",
       "        <td>10</td>\n",
       "        <td>Fax</td>\n",
       "        <td>NVARCHAR(24)</td>\n",
       "        <td>0</td>\n",
       "        <td>None</td>\n",
       "        <td>0</td>\n",
       "    </tr>\n",
       "    <tr>\n",
       "        <td>11</td>\n",
       "        <td>Email</td>\n",
       "        <td>NVARCHAR(60)</td>\n",
       "        <td>1</td>\n",
       "        <td>None</td>\n",
       "        <td>0</td>\n",
       "    </tr>\n",
       "    <tr>\n",
       "        <td>12</td>\n",
       "        <td>SupportRepId</td>\n",
       "        <td>INTEGER</td>\n",
       "        <td>0</td>\n",
       "        <td>None</td>\n",
       "        <td>0</td>\n",
       "    </tr>\n",
       "</table>"
      ],
      "text/plain": [
       "[(0, 'CustomerId', 'INTEGER', 1, None, 1),\n",
       " (1, 'FirstName', 'NVARCHAR(40)', 1, None, 0),\n",
       " (2, 'LastName', 'NVARCHAR(20)', 1, None, 0),\n",
       " (3, 'Company', 'NVARCHAR(80)', 0, None, 0),\n",
       " (4, 'Address', 'NVARCHAR(70)', 0, None, 0),\n",
       " (5, 'City', 'NVARCHAR(40)', 0, None, 0),\n",
       " (6, 'State', 'NVARCHAR(40)', 0, None, 0),\n",
       " (7, 'Country', 'NVARCHAR(40)', 0, None, 0),\n",
       " (8, 'PostalCode', 'NVARCHAR(10)', 0, None, 0),\n",
       " (9, 'Phone', 'NVARCHAR(24)', 0, None, 0),\n",
       " (10, 'Fax', 'NVARCHAR(24)', 0, None, 0),\n",
       " (11, 'Email', 'NVARCHAR(60)', 1, None, 0),\n",
       " (12, 'SupportRepId', 'INTEGER', 0, None, 0)]"
      ]
     },
     "execution_count": 8,
     "metadata": {},
     "output_type": "execute_result"
    }
   ],
   "source": [
    "%%sql\n",
    "\n",
    "PRAGMA table_info(customers);"
   ]
  },
  {
   "cell_type": "markdown",
   "metadata": {},
   "source": [
    "As shown above, the table has multiple `VARCHAR(n)` column types of different lengths."
   ]
  },
  {
   "cell_type": "markdown",
   "metadata": {},
   "source": [
    "### 2.1. The LIKE operator\n",
    "One of the most useful string operators in SQL is the `LIKE` operator. This allows us to search for a pattern of text within a table column.`LIKE` is used in the `WHERE` clause in conjunction with **wildcards**. Examples include:\n",
    "- `%` - represents zero, one, or multiple characters\n",
    "- `_` - represents a single character\n",
    "\n",
    "Let's illustrate its use through some examples. \n",
    "\n",
    "1) Let's write a query that will return all tracks that contain the word love. "
   ]
  },
  {
   "cell_type": "code",
   "execution_count": 9,
   "metadata": {},
   "outputs": [
    {
     "name": "stdout",
     "output_type": "stream",
     "text": [
      " * sqlite:///chinook.db\n",
      "Done.\n"
     ]
    },
    {
     "data": {
      "text/html": [
       "<table>\n",
       "    <tr>\n",
       "        <th>TrackId</th>\n",
       "        <th>Name</th>\n",
       "        <th>AlbumId</th>\n",
       "        <th>MediaTypeId</th>\n",
       "        <th>GenreId</th>\n",
       "        <th>Composer</th>\n",
       "        <th>Milliseconds</th>\n",
       "        <th>Bytes</th>\n",
       "        <th>UnitPrice</th>\n",
       "    </tr>\n",
       "    <tr>\n",
       "        <td>24</td>\n",
       "        <td>Love In An Elevator</td>\n",
       "        <td>5</td>\n",
       "        <td>1</td>\n",
       "        <td>1</td>\n",
       "        <td>Steven Tyler, Joe Perry</td>\n",
       "        <td>321828</td>\n",
       "        <td>10552051</td>\n",
       "        <td>0.99</td>\n",
       "    </tr>\n",
       "    <tr>\n",
       "        <td>56</td>\n",
       "        <td>Love, Hate, Love</td>\n",
       "        <td>7</td>\n",
       "        <td>1</td>\n",
       "        <td>1</td>\n",
       "        <td>Jerry Cantrell, Layne Staley</td>\n",
       "        <td>387134</td>\n",
       "        <td>12575396</td>\n",
       "        <td>0.99</td>\n",
       "    </tr>\n",
       "    <tr>\n",
       "        <td>195</td>\n",
       "        <td>Let Me Love You Baby</td>\n",
       "        <td>20</td>\n",
       "        <td>1</td>\n",
       "        <td>6</td>\n",
       "        <td>Willie Dixon</td>\n",
       "        <td>175386</td>\n",
       "        <td>5716994</td>\n",
       "        <td>0.99</td>\n",
       "    </tr>\n",
       "    <tr>\n",
       "        <td>335</td>\n",
       "        <td>My Love</td>\n",
       "        <td>29</td>\n",
       "        <td>1</td>\n",
       "        <td>9</td>\n",
       "        <td>Jauperi/Zeu Góes</td>\n",
       "        <td>203493</td>\n",
       "        <td>6772813</td>\n",
       "        <td>0.99</td>\n",
       "    </tr>\n",
       "    <tr>\n",
       "        <td>341</td>\n",
       "        <td>The Girl I Love She Got Long Black Wavy Hair</td>\n",
       "        <td>30</td>\n",
       "        <td>1</td>\n",
       "        <td>1</td>\n",
       "        <td>Jimmy Page/John Bonham/John Estes/John Paul Jones/Robert Plant</td>\n",
       "        <td>183327</td>\n",
       "        <td>5995686</td>\n",
       "        <td>0.99</td>\n",
       "    </tr>\n",
       "    <tr>\n",
       "        <td>345</td>\n",
       "        <td>Whole Lotta Love</td>\n",
       "        <td>30</td>\n",
       "        <td>1</td>\n",
       "        <td>1</td>\n",
       "        <td>Jimmy Page/John Bonham/John Paul Jones/Robert Plant/Willie Dixon</td>\n",
       "        <td>373394</td>\n",
       "        <td>12258175</td>\n",
       "        <td>0.99</td>\n",
       "    </tr>\n",
       "    <tr>\n",
       "        <td>413</td>\n",
       "        <td>Loverman</td>\n",
       "        <td>35</td>\n",
       "        <td>1</td>\n",
       "        <td>3</td>\n",
       "        <td>Cave</td>\n",
       "        <td>472764</td>\n",
       "        <td>15446975</td>\n",
       "        <td>0.99</td>\n",
       "    </tr>\n",
       "    <tr>\n",
       "        <td>440</td>\n",
       "        <td>Love Gun</td>\n",
       "        <td>37</td>\n",
       "        <td>1</td>\n",
       "        <td>1</td>\n",
       "        <td>Paul Stanley</td>\n",
       "        <td>196257</td>\n",
       "        <td>6424915</td>\n",
       "        <td>0.99</td>\n",
       "    </tr>\n",
       "    <tr>\n",
       "        <td>444</td>\n",
       "        <td>Do You Love Me</td>\n",
       "        <td>37</td>\n",
       "        <td>1</td>\n",
       "        <td>1</td>\n",
       "        <td>Paul Stanley, B. Ezrin, K. Fowley</td>\n",
       "        <td>214987</td>\n",
       "        <td>6976194</td>\n",
       "        <td>0.99</td>\n",
       "    </tr>\n",
       "    <tr>\n",
       "        <td>449</td>\n",
       "        <td>Calling Dr. Love</td>\n",
       "        <td>37</td>\n",
       "        <td>1</td>\n",
       "        <td>1</td>\n",
       "        <td>Gene Simmons</td>\n",
       "        <td>225332</td>\n",
       "        <td>7395034</td>\n",
       "        <td>0.99</td>\n",
       "    </tr>\n",
       "</table>"
      ],
      "text/plain": [
       "[(24, 'Love In An Elevator', 5, 1, 1, 'Steven Tyler, Joe Perry', 321828, 10552051, 0.99),\n",
       " (56, 'Love, Hate, Love', 7, 1, 1, 'Jerry Cantrell, Layne Staley', 387134, 12575396, 0.99),\n",
       " (195, 'Let Me Love You Baby', 20, 1, 6, 'Willie Dixon', 175386, 5716994, 0.99),\n",
       " (335, 'My Love', 29, 1, 9, 'Jauperi/Zeu Góes', 203493, 6772813, 0.99),\n",
       " (341, 'The Girl I Love She Got Long Black Wavy Hair', 30, 1, 1, 'Jimmy Page/John Bonham/John Estes/John Paul Jones/Robert Plant', 183327, 5995686, 0.99),\n",
       " (345, 'Whole Lotta Love', 30, 1, 1, 'Jimmy Page/John Bonham/John Paul Jones/Robert Plant/Willie Dixon', 373394, 12258175, 0.99),\n",
       " (413, 'Loverman', 35, 1, 3, 'Cave', 472764, 15446975, 0.99),\n",
       " (440, 'Love Gun', 37, 1, 1, 'Paul Stanley', 196257, 6424915, 0.99),\n",
       " (444, 'Do You Love Me', 37, 1, 1, 'Paul Stanley, B. Ezrin, K. Fowley', 214987, 6976194, 0.99),\n",
       " (449, 'Calling Dr. Love', 37, 1, 1, 'Gene Simmons', 225332, 7395034, 0.99)]"
      ]
     },
     "execution_count": 9,
     "metadata": {},
     "output_type": "execute_result"
    }
   ],
   "source": [
    "%%sql \n",
    "\n",
    "SELECT * \n",
    "FROM tracks AS t\n",
    "WHERE t.Name LIKE \"%love%\"\n",
    "LIMIT 10;"
   ]
  },
  {
   "cell_type": "markdown",
   "metadata": {},
   "source": [
    "2) Next, we can write a query that returns all customers whose name starts with the letter D."
   ]
  },
  {
   "cell_type": "code",
   "execution_count": 11,
   "metadata": {},
   "outputs": [
    {
     "name": "stdout",
     "output_type": "stream",
     "text": [
      " * sqlite:///chinook.db\n",
      "Done.\n"
     ]
    },
    {
     "data": {
      "text/html": [
       "<table>\n",
       "    <tr>\n",
       "        <th>CustomerId</th>\n",
       "        <th>FirstName</th>\n",
       "        <th>LastName</th>\n",
       "        <th>Company</th>\n",
       "        <th>Address</th>\n",
       "        <th>City</th>\n",
       "        <th>State</th>\n",
       "        <th>Country</th>\n",
       "        <th>PostalCode</th>\n",
       "        <th>Phone</th>\n",
       "        <th>Fax</th>\n",
       "        <th>Email</th>\n",
       "        <th>SupportRepId</th>\n",
       "    </tr>\n",
       "    <tr>\n",
       "        <td>8</td>\n",
       "        <td>Daan</td>\n",
       "        <td>Peeters</td>\n",
       "        <td>None</td>\n",
       "        <td>Grétrystraat 63</td>\n",
       "        <td>Brussels</td>\n",
       "        <td>None</td>\n",
       "        <td>Belgium</td>\n",
       "        <td>1000</td>\n",
       "        <td>+32 02 219 03 03</td>\n",
       "        <td>None</td>\n",
       "        <td>daan_peeters@apple.be</td>\n",
       "        <td>4</td>\n",
       "    </tr>\n",
       "    <tr>\n",
       "        <td>20</td>\n",
       "        <td>Dan</td>\n",
       "        <td>Miller</td>\n",
       "        <td>None</td>\n",
       "        <td>541 Del Medio Avenue</td>\n",
       "        <td>Mountain View</td>\n",
       "        <td>CA</td>\n",
       "        <td>USA</td>\n",
       "        <td>94040-111</td>\n",
       "        <td>+1 (650) 644-3358</td>\n",
       "        <td>None</td>\n",
       "        <td>dmiller@comcast.com</td>\n",
       "        <td>4</td>\n",
       "    </tr>\n",
       "    <tr>\n",
       "        <td>40</td>\n",
       "        <td>Dominique</td>\n",
       "        <td>Lefebvre</td>\n",
       "        <td>None</td>\n",
       "        <td>8, Rue Hanovre</td>\n",
       "        <td>Paris</td>\n",
       "        <td>None</td>\n",
       "        <td>France</td>\n",
       "        <td>75002</td>\n",
       "        <td>+33 01 47 42 71 71</td>\n",
       "        <td>None</td>\n",
       "        <td>dominiquelefebvre@gmail.com</td>\n",
       "        <td>4</td>\n",
       "    </tr>\n",
       "    <tr>\n",
       "        <td>56</td>\n",
       "        <td>Diego</td>\n",
       "        <td>Gutiérrez</td>\n",
       "        <td>None</td>\n",
       "        <td>307 Macacha Güemes</td>\n",
       "        <td>Buenos Aires</td>\n",
       "        <td>None</td>\n",
       "        <td>Argentina</td>\n",
       "        <td>1106</td>\n",
       "        <td>+54 (0)11 4311 4333</td>\n",
       "        <td>None</td>\n",
       "        <td>diego.gutierrez@yahoo.ar</td>\n",
       "        <td>4</td>\n",
       "    </tr>\n",
       "</table>"
      ],
      "text/plain": [
       "[(8, 'Daan', 'Peeters', None, 'Grétrystraat 63', 'Brussels', None, 'Belgium', '1000', '+32 02 219 03 03', None, 'daan_peeters@apple.be', 4),\n",
       " (20, 'Dan', 'Miller', None, '541 Del Medio Avenue', 'Mountain View', 'CA', 'USA', '94040-111', '+1 (650) 644-3358', None, 'dmiller@comcast.com', 4),\n",
       " (40, 'Dominique', 'Lefebvre', None, '8, Rue Hanovre', 'Paris', None, 'France', '75002', '+33 01 47 42 71 71', None, 'dominiquelefebvre@gmail.com', 4),\n",
       " (56, 'Diego', 'Gutiérrez', None, '307 Macacha Güemes', 'Buenos Aires', None, 'Argentina', '1106', '+54 (0)11 4311 4333', None, 'diego.gutierrez@yahoo.ar', 4)]"
      ]
     },
     "execution_count": 11,
     "metadata": {},
     "output_type": "execute_result"
    }
   ],
   "source": [
    "%%sql\n",
    "\n",
    "SELECT *\n",
    "FROM customers AS c\n",
    "WHERE c.FirstName LIKE \"D%\";"
   ]
  },
  {
   "cell_type": "markdown",
   "metadata": {},
   "source": [
    "3) Thirdly, let's formulate a query that returns customers with email addresses that have domains that end in three letters."
   ]
  },
  {
   "cell_type": "code",
   "execution_count": 13,
   "metadata": {},
   "outputs": [
    {
     "name": "stdout",
     "output_type": "stream",
     "text": [
      " * sqlite:///chinook.db\n",
      "Done.\n"
     ]
    },
    {
     "data": {
      "text/html": [
       "<table>\n",
       "    <tr>\n",
       "        <th>CustomerId</th>\n",
       "        <th>FirstName</th>\n",
       "        <th>LastName</th>\n",
       "        <th>Company</th>\n",
       "        <th>Address</th>\n",
       "        <th>City</th>\n",
       "        <th>State</th>\n",
       "        <th>Country</th>\n",
       "        <th>PostalCode</th>\n",
       "        <th>Phone</th>\n",
       "        <th>Fax</th>\n",
       "        <th>Email</th>\n",
       "        <th>SupportRepId</th>\n",
       "    </tr>\n",
       "    <tr>\n",
       "        <td>3</td>\n",
       "        <td>François</td>\n",
       "        <td>Tremblay</td>\n",
       "        <td>None</td>\n",
       "        <td>1498 rue Bélanger</td>\n",
       "        <td>Montréal</td>\n",
       "        <td>QC</td>\n",
       "        <td>Canada</td>\n",
       "        <td>H2G 1A7</td>\n",
       "        <td>+1 (514) 721-4711</td>\n",
       "        <td>None</td>\n",
       "        <td>ftremblay@gmail.com</td>\n",
       "        <td>3</td>\n",
       "    </tr>\n",
       "    <tr>\n",
       "        <td>5</td>\n",
       "        <td>František</td>\n",
       "        <td>Wichterlová</td>\n",
       "        <td>JetBrains s.r.o.</td>\n",
       "        <td>Klanova 9/506</td>\n",
       "        <td>Prague</td>\n",
       "        <td>None</td>\n",
       "        <td>Czech Republic</td>\n",
       "        <td>14700</td>\n",
       "        <td>+420 2 4172 5555</td>\n",
       "        <td>+420 2 4172 5555</td>\n",
       "        <td>frantisekw@jetbrains.com</td>\n",
       "        <td>4</td>\n",
       "    </tr>\n",
       "    <tr>\n",
       "        <td>6</td>\n",
       "        <td>Helena</td>\n",
       "        <td>Holý</td>\n",
       "        <td>None</td>\n",
       "        <td>Rilská 3174/6</td>\n",
       "        <td>Prague</td>\n",
       "        <td>None</td>\n",
       "        <td>Czech Republic</td>\n",
       "        <td>14300</td>\n",
       "        <td>+420 2 4177 0449</td>\n",
       "        <td>None</td>\n",
       "        <td>hholy@gmail.com</td>\n",
       "        <td>5</td>\n",
       "    </tr>\n",
       "    <tr>\n",
       "        <td>16</td>\n",
       "        <td>Frank</td>\n",
       "        <td>Harris</td>\n",
       "        <td>Google Inc.</td>\n",
       "        <td>1600 Amphitheatre Parkway</td>\n",
       "        <td>Mountain View</td>\n",
       "        <td>CA</td>\n",
       "        <td>USA</td>\n",
       "        <td>94043-1351</td>\n",
       "        <td>+1 (650) 253-0000</td>\n",
       "        <td>+1 (650) 253-0000</td>\n",
       "        <td>fharris@google.com</td>\n",
       "        <td>4</td>\n",
       "    </tr>\n",
       "    <tr>\n",
       "        <td>17</td>\n",
       "        <td>Jack</td>\n",
       "        <td>Smith</td>\n",
       "        <td>Microsoft Corporation</td>\n",
       "        <td>1 Microsoft Way</td>\n",
       "        <td>Redmond</td>\n",
       "        <td>WA</td>\n",
       "        <td>USA</td>\n",
       "        <td>98052-8300</td>\n",
       "        <td>+1 (425) 882-8080</td>\n",
       "        <td>+1 (425) 882-8081</td>\n",
       "        <td>jacksmith@microsoft.com</td>\n",
       "        <td>5</td>\n",
       "    </tr>\n",
       "</table>"
      ],
      "text/plain": [
       "[(3, 'François', 'Tremblay', None, '1498 rue Bélanger', 'Montréal', 'QC', 'Canada', 'H2G 1A7', '+1 (514) 721-4711', None, 'ftremblay@gmail.com', 3),\n",
       " (5, 'František', 'Wichterlová', 'JetBrains s.r.o.', 'Klanova 9/506', 'Prague', None, 'Czech Republic', '14700', '+420 2 4172 5555', '+420 2 4172 5555', 'frantisekw@jetbrains.com', 4),\n",
       " (6, 'Helena', 'Holý', None, 'Rilská 3174/6', 'Prague', None, 'Czech Republic', '14300', '+420 2 4177 0449', None, 'hholy@gmail.com', 5),\n",
       " (16, 'Frank', 'Harris', 'Google Inc.', '1600 Amphitheatre Parkway', 'Mountain View', 'CA', 'USA', '94043-1351', '+1 (650) 253-0000', '+1 (650) 253-0000', 'fharris@google.com', 4),\n",
       " (17, 'Jack', 'Smith', 'Microsoft Corporation', '1 Microsoft Way', 'Redmond', 'WA', 'USA', '98052-8300', '+1 (425) 882-8080', '+1 (425) 882-8081', 'jacksmith@microsoft.com', 5)]"
      ]
     },
     "execution_count": 13,
     "metadata": {},
     "output_type": "execute_result"
    }
   ],
   "source": [
    "%%sql\n",
    "\n",
    "SELECT *\n",
    "FROM customers AS c\n",
    "WHERE c.Email LIKE \"%.___\"\n",
    "LIMIT 5;"
   ]
  },
  {
   "cell_type": "markdown",
   "metadata": {},
   "source": [
    "### 2.2. Case\n",
    "\n",
    "Depending on how the text data in a column were collected, we may need to consider the case. This is especially relevant when constructing queries that have comparison operators. SQL has the `lower()` and `upper()` for converting between upper and lowercase. \n",
    "\n",
    "For example, let's write a query that shows all customers  who live in the UK."
   ]
  },
  {
   "cell_type": "code",
   "execution_count": 14,
   "metadata": {},
   "outputs": [
    {
     "name": "stdout",
     "output_type": "stream",
     "text": [
      " * sqlite:///chinook.db\n",
      "Done.\n"
     ]
    },
    {
     "data": {
      "text/html": [
       "<table>\n",
       "    <tr>\n",
       "        <th>CustomerId</th>\n",
       "        <th>FirstName</th>\n",
       "        <th>LastName</th>\n",
       "        <th>Company</th>\n",
       "        <th>Address</th>\n",
       "        <th>City</th>\n",
       "        <th>State</th>\n",
       "        <th>Country</th>\n",
       "        <th>PostalCode</th>\n",
       "        <th>Phone</th>\n",
       "        <th>Fax</th>\n",
       "        <th>Email</th>\n",
       "        <th>SupportRepId</th>\n",
       "    </tr>\n",
       "</table>"
      ],
      "text/plain": [
       "[]"
      ]
     },
     "execution_count": 14,
     "metadata": {},
     "output_type": "execute_result"
    }
   ],
   "source": [
    "%%sql\n",
    "\n",
    "SELECT *\n",
    "FROM customers\n",
    "WHERE country = \"United kingdom\";"
   ]
  },
  {
   "cell_type": "markdown",
   "metadata": {},
   "source": [
    "What went wrong here? If you have keen eyes, you would have noticed that the \"K\" in \"United Kingdom\" is in lowercase. An easy to fix problem. However, this kind of problem will also occur for data that's already in the column. As such, a better approach here, is to use the `upper()` and `lower()` functions as follows:"
   ]
  },
  {
   "cell_type": "code",
   "execution_count": 15,
   "metadata": {},
   "outputs": [
    {
     "name": "stdout",
     "output_type": "stream",
     "text": [
      " * sqlite:///chinook.db\n",
      "Done.\n"
     ]
    },
    {
     "data": {
      "text/html": [
       "<table>\n",
       "    <tr>\n",
       "        <th>CustomerId</th>\n",
       "        <th>FirstName</th>\n",
       "        <th>LastName</th>\n",
       "        <th>Company</th>\n",
       "        <th>Address</th>\n",
       "        <th>City</th>\n",
       "        <th>State</th>\n",
       "        <th>Country</th>\n",
       "        <th>PostalCode</th>\n",
       "        <th>Phone</th>\n",
       "        <th>Fax</th>\n",
       "        <th>Email</th>\n",
       "        <th>SupportRepId</th>\n",
       "    </tr>\n",
       "    <tr>\n",
       "        <td>52</td>\n",
       "        <td>Emma</td>\n",
       "        <td>Jones</td>\n",
       "        <td>None</td>\n",
       "        <td>202 Hoxton Street</td>\n",
       "        <td>London</td>\n",
       "        <td>None</td>\n",
       "        <td>United Kingdom</td>\n",
       "        <td>N1 5LH</td>\n",
       "        <td>+44 020 7707 0707</td>\n",
       "        <td>None</td>\n",
       "        <td>emma_jones@hotmail.com</td>\n",
       "        <td>3</td>\n",
       "    </tr>\n",
       "    <tr>\n",
       "        <td>53</td>\n",
       "        <td>Phil</td>\n",
       "        <td>Hughes</td>\n",
       "        <td>None</td>\n",
       "        <td>113 Lupus St</td>\n",
       "        <td>London</td>\n",
       "        <td>None</td>\n",
       "        <td>United Kingdom</td>\n",
       "        <td>SW1V 3EN</td>\n",
       "        <td>+44 020 7976 5722</td>\n",
       "        <td>None</td>\n",
       "        <td>phil.hughes@gmail.com</td>\n",
       "        <td>3</td>\n",
       "    </tr>\n",
       "    <tr>\n",
       "        <td>54</td>\n",
       "        <td>Steve</td>\n",
       "        <td>Murray</td>\n",
       "        <td>None</td>\n",
       "        <td>110 Raeburn Pl</td>\n",
       "        <td>Edinburgh </td>\n",
       "        <td>None</td>\n",
       "        <td>United Kingdom</td>\n",
       "        <td>EH4 1HH</td>\n",
       "        <td>+44 0131 315 3300</td>\n",
       "        <td>None</td>\n",
       "        <td>steve.murray@yahoo.uk</td>\n",
       "        <td>5</td>\n",
       "    </tr>\n",
       "</table>"
      ],
      "text/plain": [
       "[(52, 'Emma', 'Jones', None, '202 Hoxton Street', 'London', None, 'United Kingdom', 'N1 5LH', '+44 020 7707 0707', None, 'emma_jones@hotmail.com', 3),\n",
       " (53, 'Phil', 'Hughes', None, '113 Lupus St', 'London', None, 'United Kingdom', 'SW1V 3EN', '+44 020 7976 5722', None, 'phil.hughes@gmail.com', 3),\n",
       " (54, 'Steve', 'Murray', None, '110 Raeburn Pl', 'Edinburgh ', None, 'United Kingdom', 'EH4 1HH', '+44 0131 315 3300', None, 'steve.murray@yahoo.uk', 5)]"
      ]
     },
     "execution_count": 15,
     "metadata": {},
     "output_type": "execute_result"
    }
   ],
   "source": [
    "%%sql\n",
    "\n",
    "SELECT *\n",
    "FROM customers\n",
    "WHERE lower(country) = \"united kingdom\";"
   ]
  },
  {
   "cell_type": "markdown",
   "metadata": {},
   "source": [
    "### 2.3. Concatenation\n",
    "\n",
    "Concatenating two or more strings in SQL can be achieved using the `concat()` function. However, SQLite does not support this function, instead we use the concatenation operator `||`. For example:  \n",
    "\n",
    "Write a query that shows employee first and last names in the same column."
   ]
  },
  {
   "cell_type": "code",
   "execution_count": 16,
   "metadata": {},
   "outputs": [
    {
     "name": "stdout",
     "output_type": "stream",
     "text": [
      " * sqlite:///chinook.db\n",
      "Done.\n"
     ]
    },
    {
     "data": {
      "text/html": [
       "<table>\n",
       "    <tr>\n",
       "        <th>Full Name</th>\n",
       "    </tr>\n",
       "    <tr>\n",
       "        <td>Andrew Adams</td>\n",
       "    </tr>\n",
       "    <tr>\n",
       "        <td>Nancy Edwards</td>\n",
       "    </tr>\n",
       "    <tr>\n",
       "        <td>Jane Peacock</td>\n",
       "    </tr>\n",
       "    <tr>\n",
       "        <td>Margaret Park</td>\n",
       "    </tr>\n",
       "    <tr>\n",
       "        <td>Steve Johnson</td>\n",
       "    </tr>\n",
       "    <tr>\n",
       "        <td>Michael Mitchell</td>\n",
       "    </tr>\n",
       "    <tr>\n",
       "        <td>Robert King</td>\n",
       "    </tr>\n",
       "    <tr>\n",
       "        <td>Laura Callahan</td>\n",
       "    </tr>\n",
       "</table>"
      ],
      "text/plain": [
       "[('Andrew Adams',),\n",
       " ('Nancy Edwards',),\n",
       " ('Jane Peacock',),\n",
       " ('Margaret Park',),\n",
       " ('Steve Johnson',),\n",
       " ('Michael Mitchell',),\n",
       " ('Robert King',),\n",
       " ('Laura Callahan',)]"
      ]
     },
     "execution_count": 16,
     "metadata": {},
     "output_type": "execute_result"
    }
   ],
   "source": [
    "%%sql\n",
    "\n",
    "SELECT FirstName || \" \" || LastName AS \"Full Name\"\n",
    "FROM employees;"
   ]
  },
  {
   "cell_type": "markdown",
   "metadata": {},
   "source": [
    "## 3. Date/Time data\n",
    "\n",
    "Date and time values in SQL are stored under the hood as numbers (some combination of `ints` and `floats`), but they are represented as strings. In the value, units are ordered in descending order from the largest length of time to the smallest, i.e.: year, then month, day, hour, and so on. Common data types for storing dates and times in SQL include:\n",
    "\n",
    "- `DATE` - stores dates in the format `YYYY-MM-DD`. \n",
    "- `DATETIME` -  stores the date and time in the format `YYYY-MM-DD HH:MI:SS`.  \n",
    "- `TIMESTAMP` - stores the date and time in the format `YYYY-MM-DD HH:MI:SS` (or a unique number depending on the SQL engine).\n",
    "\n",
    "Let's take a look at the meta information of the employees table:"
   ]
  },
  {
   "cell_type": "code",
   "execution_count": 17,
   "metadata": {},
   "outputs": [
    {
     "name": "stdout",
     "output_type": "stream",
     "text": [
      " * sqlite:///chinook.db\n",
      "Done.\n"
     ]
    },
    {
     "data": {
      "text/html": [
       "<table>\n",
       "    <tr>\n",
       "        <th>cid</th>\n",
       "        <th>name</th>\n",
       "        <th>type</th>\n",
       "        <th>notnull</th>\n",
       "        <th>dflt_value</th>\n",
       "        <th>pk</th>\n",
       "    </tr>\n",
       "    <tr>\n",
       "        <td>0</td>\n",
       "        <td>EmployeeId</td>\n",
       "        <td>INTEGER</td>\n",
       "        <td>1</td>\n",
       "        <td>None</td>\n",
       "        <td>1</td>\n",
       "    </tr>\n",
       "    <tr>\n",
       "        <td>1</td>\n",
       "        <td>LastName</td>\n",
       "        <td>NVARCHAR(20)</td>\n",
       "        <td>1</td>\n",
       "        <td>None</td>\n",
       "        <td>0</td>\n",
       "    </tr>\n",
       "    <tr>\n",
       "        <td>2</td>\n",
       "        <td>FirstName</td>\n",
       "        <td>NVARCHAR(20)</td>\n",
       "        <td>1</td>\n",
       "        <td>None</td>\n",
       "        <td>0</td>\n",
       "    </tr>\n",
       "    <tr>\n",
       "        <td>3</td>\n",
       "        <td>Title</td>\n",
       "        <td>NVARCHAR(30)</td>\n",
       "        <td>0</td>\n",
       "        <td>None</td>\n",
       "        <td>0</td>\n",
       "    </tr>\n",
       "    <tr>\n",
       "        <td>4</td>\n",
       "        <td>ReportsTo</td>\n",
       "        <td>INTEGER</td>\n",
       "        <td>0</td>\n",
       "        <td>None</td>\n",
       "        <td>0</td>\n",
       "    </tr>\n",
       "    <tr>\n",
       "        <td>5</td>\n",
       "        <td>BirthDate</td>\n",
       "        <td>DATETIME</td>\n",
       "        <td>0</td>\n",
       "        <td>None</td>\n",
       "        <td>0</td>\n",
       "    </tr>\n",
       "    <tr>\n",
       "        <td>6</td>\n",
       "        <td>HireDate</td>\n",
       "        <td>DATETIME</td>\n",
       "        <td>0</td>\n",
       "        <td>None</td>\n",
       "        <td>0</td>\n",
       "    </tr>\n",
       "    <tr>\n",
       "        <td>7</td>\n",
       "        <td>Address</td>\n",
       "        <td>NVARCHAR(70)</td>\n",
       "        <td>0</td>\n",
       "        <td>None</td>\n",
       "        <td>0</td>\n",
       "    </tr>\n",
       "    <tr>\n",
       "        <td>8</td>\n",
       "        <td>City</td>\n",
       "        <td>NVARCHAR(40)</td>\n",
       "        <td>0</td>\n",
       "        <td>None</td>\n",
       "        <td>0</td>\n",
       "    </tr>\n",
       "    <tr>\n",
       "        <td>9</td>\n",
       "        <td>State</td>\n",
       "        <td>NVARCHAR(40)</td>\n",
       "        <td>0</td>\n",
       "        <td>None</td>\n",
       "        <td>0</td>\n",
       "    </tr>\n",
       "    <tr>\n",
       "        <td>10</td>\n",
       "        <td>Country</td>\n",
       "        <td>NVARCHAR(40)</td>\n",
       "        <td>0</td>\n",
       "        <td>None</td>\n",
       "        <td>0</td>\n",
       "    </tr>\n",
       "    <tr>\n",
       "        <td>11</td>\n",
       "        <td>PostalCode</td>\n",
       "        <td>NVARCHAR(10)</td>\n",
       "        <td>0</td>\n",
       "        <td>None</td>\n",
       "        <td>0</td>\n",
       "    </tr>\n",
       "    <tr>\n",
       "        <td>12</td>\n",
       "        <td>Phone</td>\n",
       "        <td>NVARCHAR(24)</td>\n",
       "        <td>0</td>\n",
       "        <td>None</td>\n",
       "        <td>0</td>\n",
       "    </tr>\n",
       "    <tr>\n",
       "        <td>13</td>\n",
       "        <td>Fax</td>\n",
       "        <td>NVARCHAR(24)</td>\n",
       "        <td>0</td>\n",
       "        <td>None</td>\n",
       "        <td>0</td>\n",
       "    </tr>\n",
       "    <tr>\n",
       "        <td>14</td>\n",
       "        <td>Email</td>\n",
       "        <td>NVARCHAR(60)</td>\n",
       "        <td>0</td>\n",
       "        <td>None</td>\n",
       "        <td>0</td>\n",
       "    </tr>\n",
       "</table>"
      ],
      "text/plain": [
       "[(0, 'EmployeeId', 'INTEGER', 1, None, 1),\n",
       " (1, 'LastName', 'NVARCHAR(20)', 1, None, 0),\n",
       " (2, 'FirstName', 'NVARCHAR(20)', 1, None, 0),\n",
       " (3, 'Title', 'NVARCHAR(30)', 0, None, 0),\n",
       " (4, 'ReportsTo', 'INTEGER', 0, None, 0),\n",
       " (5, 'BirthDate', 'DATETIME', 0, None, 0),\n",
       " (6, 'HireDate', 'DATETIME', 0, None, 0),\n",
       " (7, 'Address', 'NVARCHAR(70)', 0, None, 0),\n",
       " (8, 'City', 'NVARCHAR(40)', 0, None, 0),\n",
       " (9, 'State', 'NVARCHAR(40)', 0, None, 0),\n",
       " (10, 'Country', 'NVARCHAR(40)', 0, None, 0),\n",
       " (11, 'PostalCode', 'NVARCHAR(10)', 0, None, 0),\n",
       " (12, 'Phone', 'NVARCHAR(24)', 0, None, 0),\n",
       " (13, 'Fax', 'NVARCHAR(24)', 0, None, 0),\n",
       " (14, 'Email', 'NVARCHAR(60)', 0, None, 0)]"
      ]
     },
     "execution_count": 17,
     "metadata": {},
     "output_type": "execute_result"
    }
   ],
   "source": [
    "%%sql\n",
    "\n",
    "PRAGMA table_info(employees);"
   ]
  },
  {
   "cell_type": "markdown",
   "metadata": {},
   "source": [
    "The table has two `DATETIME` columns; `HireDate` and `BirthDate`. Let's use these to explore queries for date and time data."
   ]
  },
  {
   "cell_type": "markdown",
   "metadata": {},
   "source": [
    "### 3.1. The interval datatype\n",
    "In addition to the above listed data types, SQL also has the `INTERVAL` data type. Intervals are used for measuring the period between dates and times. We can get an interval column through declaration (i.e. when creating the table) and through performing arithmetic on existing date and time columns. For example:\n",
    "\n",
    "We write a query that shows the age of all employees when they were hired:"
   ]
  },
  {
   "cell_type": "code",
   "execution_count": 18,
   "metadata": {},
   "outputs": [
    {
     "name": "stdout",
     "output_type": "stream",
     "text": [
      " * sqlite:///chinook.db\n",
      "Done.\n"
     ]
    },
    {
     "data": {
      "text/html": [
       "<table>\n",
       "    <tr>\n",
       "        <th>FirstName</th>\n",
       "        <th>LastName</th>\n",
       "        <th>Age when hired</th>\n",
       "    </tr>\n",
       "    <tr>\n",
       "        <td>Jane</td>\n",
       "        <td>Peacock</td>\n",
       "        <td>29</td>\n",
       "    </tr>\n",
       "    <tr>\n",
       "        <td>Michael</td>\n",
       "        <td>Mitchell</td>\n",
       "        <td>30</td>\n",
       "    </tr>\n",
       "    <tr>\n",
       "        <td>Robert</td>\n",
       "        <td>King</td>\n",
       "        <td>34</td>\n",
       "    </tr>\n",
       "    <tr>\n",
       "        <td>Laura</td>\n",
       "        <td>Callahan</td>\n",
       "        <td>36</td>\n",
       "    </tr>\n",
       "    <tr>\n",
       "        <td>Steve</td>\n",
       "        <td>Johnson</td>\n",
       "        <td>38</td>\n",
       "    </tr>\n",
       "    <tr>\n",
       "        <td>Andrew</td>\n",
       "        <td>Adams</td>\n",
       "        <td>40</td>\n",
       "    </tr>\n",
       "    <tr>\n",
       "        <td>Nancy</td>\n",
       "        <td>Edwards</td>\n",
       "        <td>44</td>\n",
       "    </tr>\n",
       "    <tr>\n",
       "        <td>Margaret</td>\n",
       "        <td>Park</td>\n",
       "        <td>56</td>\n",
       "    </tr>\n",
       "</table>"
      ],
      "text/plain": [
       "[('Jane', 'Peacock', 29),\n",
       " ('Michael', 'Mitchell', 30),\n",
       " ('Robert', 'King', 34),\n",
       " ('Laura', 'Callahan', 36),\n",
       " ('Steve', 'Johnson', 38),\n",
       " ('Andrew', 'Adams', 40),\n",
       " ('Nancy', 'Edwards', 44),\n",
       " ('Margaret', 'Park', 56)]"
      ]
     },
     "execution_count": 18,
     "metadata": {},
     "output_type": "execute_result"
    }
   ],
   "source": [
    "%%sql\n",
    "\n",
    "SELECT FirstName, LastName, HireDate - BirthDate AS \"Age when hired\"\n",
    "FROM employees\n",
    "ORDER BY 3;"
   ]
  },
  {
   "cell_type": "markdown",
   "metadata": {},
   "source": [
    "The \"Age when hired\" column contains `INTERVAL` type data, i.e., in years in this case. In other words, we subtracted two dates to obtain an interval value. However, this is not true in the case of addition."
   ]
  },
  {
   "cell_type": "code",
   "execution_count": 19,
   "metadata": {},
   "outputs": [
    {
     "name": "stdout",
     "output_type": "stream",
     "text": [
      " * sqlite:///chinook.db\n",
      "Done.\n"
     ]
    },
    {
     "data": {
      "text/html": [
       "<table>\n",
       "    <tr>\n",
       "        <th>FirstName</th>\n",
       "        <th>LastName</th>\n",
       "        <th>Hiredate + 5</th>\n",
       "    </tr>\n",
       "    <tr>\n",
       "        <td>Andrew</td>\n",
       "        <td>Adams</td>\n",
       "        <td>2007</td>\n",
       "    </tr>\n",
       "</table>"
      ],
      "text/plain": [
       "[('Andrew', 'Adams', 2007)]"
      ]
     },
     "execution_count": 19,
     "metadata": {},
     "output_type": "execute_result"
    }
   ],
   "source": [
    "%%sql\n",
    "\n",
    "SELECT FirstName, LastName, Hiredate + 5\n",
    "FROM employees\n",
    "Limit 1"
   ]
  },
  {
   "cell_type": "markdown",
   "metadata": {},
   "source": [
    "### 3.2. Getting portions of datetime objects\n",
    "In the context of datetime SQL objects, the `substr()` (and `left()` in some SQL engines) function allows us to trim or extract certain information within the date or time. We use it by specifying the string and the indices for which to show data from, i.e.:\n",
    "\n",
    "```sql\n",
    "substr(datetime_column,start_index, end_index)\n",
    "```\n",
    "\n",
    "For example. Let's write a query for calculating the month to month revenue at Chinook:"
   ]
  },
  {
   "cell_type": "code",
   "execution_count": 22,
   "metadata": {},
   "outputs": [
    {
     "name": "stdout",
     "output_type": "stream",
     "text": [
      " * sqlite:///chinook.db\n",
      "Done.\n"
     ]
    },
    {
     "data": {
      "text/html": [
       "<table>\n",
       "    <tr>\n",
       "        <th>Month</th>\n",
       "        <th>Revenue</th>\n",
       "    </tr>\n",
       "    <tr>\n",
       "        <td>2009-01</td>\n",
       "        <td>35.64</td>\n",
       "    </tr>\n",
       "    <tr>\n",
       "        <td>2009-02</td>\n",
       "        <td>37.62</td>\n",
       "    </tr>\n",
       "    <tr>\n",
       "        <td>2009-03</td>\n",
       "        <td>37.62</td>\n",
       "    </tr>\n",
       "    <tr>\n",
       "        <td>2009-04</td>\n",
       "        <td>37.62</td>\n",
       "    </tr>\n",
       "    <tr>\n",
       "        <td>2009-05</td>\n",
       "        <td>37.62</td>\n",
       "    </tr>\n",
       "    <tr>\n",
       "        <td>2009-06</td>\n",
       "        <td>37.62</td>\n",
       "    </tr>\n",
       "    <tr>\n",
       "        <td>2009-07</td>\n",
       "        <td>37.62</td>\n",
       "    </tr>\n",
       "    <tr>\n",
       "        <td>2009-08</td>\n",
       "        <td>37.62</td>\n",
       "    </tr>\n",
       "    <tr>\n",
       "        <td>2009-09</td>\n",
       "        <td>37.62</td>\n",
       "    </tr>\n",
       "    <tr>\n",
       "        <td>2009-10</td>\n",
       "        <td>37.62</td>\n",
       "    </tr>\n",
       "</table>"
      ],
      "text/plain": [
       "[('2009-01', 35.64),\n",
       " ('2009-02', 37.62),\n",
       " ('2009-03', 37.62),\n",
       " ('2009-04', 37.62),\n",
       " ('2009-05', 37.62),\n",
       " ('2009-06', 37.62),\n",
       " ('2009-07', 37.62),\n",
       " ('2009-08', 37.62),\n",
       " ('2009-09', 37.62),\n",
       " ('2009-10', 37.62)]"
      ]
     },
     "execution_count": 22,
     "metadata": {},
     "output_type": "execute_result"
    }
   ],
   "source": [
    "%%sql\n",
    "\n",
    "SELECT substr(InvoiceDate,1,7) AS \"Month\", round(sum(Total),2) AS \"Revenue\"\n",
    "FROM invoices\n",
    "GROUP BY 1\n",
    "ORDER BY 1\n",
    "LIMIT 10;"
   ]
  },
  {
   "cell_type": "markdown",
   "metadata": {},
   "source": [
    "We can do the year to year revenue in a similar way:"
   ]
  },
  {
   "cell_type": "code",
   "execution_count": 23,
   "metadata": {},
   "outputs": [
    {
     "name": "stdout",
     "output_type": "stream",
     "text": [
      " * sqlite:///chinook.db\n",
      "Done.\n"
     ]
    },
    {
     "data": {
      "text/html": [
       "<table>\n",
       "    <tr>\n",
       "        <th>Year</th>\n",
       "        <th>Revenue</th>\n",
       "    </tr>\n",
       "    <tr>\n",
       "        <td>2009</td>\n",
       "        <td>449.46</td>\n",
       "    </tr>\n",
       "    <tr>\n",
       "        <td>2010</td>\n",
       "        <td>481.45</td>\n",
       "    </tr>\n",
       "    <tr>\n",
       "        <td>2011</td>\n",
       "        <td>469.58</td>\n",
       "    </tr>\n",
       "    <tr>\n",
       "        <td>2012</td>\n",
       "        <td>477.53</td>\n",
       "    </tr>\n",
       "    <tr>\n",
       "        <td>2013</td>\n",
       "        <td>450.58</td>\n",
       "    </tr>\n",
       "</table>"
      ],
      "text/plain": [
       "[('2009', 449.46),\n",
       " ('2010', 481.45),\n",
       " ('2011', 469.58),\n",
       " ('2012', 477.53),\n",
       " ('2013', 450.58)]"
      ]
     },
     "execution_count": 23,
     "metadata": {},
     "output_type": "execute_result"
    }
   ],
   "source": [
    "%%sql\n",
    "\n",
    "SELECT substr(InvoiceDate,1,4) AS \"Year\", round(sum(Total),2) AS \"Revenue\"\n",
    "FROM invoices\n",
    "GROUP BY 1\n",
    "ORDER BY 1;"
   ]
  },
  {
   "cell_type": "markdown",
   "metadata": {},
   "source": [
    "### 3.3. Between\n",
    "\n",
    "`BETWEEN` is boolean operator is used to find out if a value is within a range of values or not. \n",
    "\n",
    "For example:\n",
    "\n",
    "Let's write a query that returns employees that were hired after `2002-08-14` and before `2003-10-17`."
   ]
  },
  {
   "cell_type": "code",
   "execution_count": 24,
   "metadata": {},
   "outputs": [
    {
     "name": "stdout",
     "output_type": "stream",
     "text": [
      " * sqlite:///chinook.db\n",
      "Done.\n"
     ]
    },
    {
     "data": {
      "text/html": [
       "<table>\n",
       "    <tr>\n",
       "        <th>EmployeeId</th>\n",
       "        <th>LastName</th>\n",
       "        <th>FirstName</th>\n",
       "        <th>Title</th>\n",
       "        <th>ReportsTo</th>\n",
       "        <th>BirthDate</th>\n",
       "        <th>HireDate</th>\n",
       "        <th>Address</th>\n",
       "        <th>City</th>\n",
       "        <th>State</th>\n",
       "        <th>Country</th>\n",
       "        <th>PostalCode</th>\n",
       "        <th>Phone</th>\n",
       "        <th>Fax</th>\n",
       "        <th>Email</th>\n",
       "    </tr>\n",
       "    <tr>\n",
       "        <td>1</td>\n",
       "        <td>Adams</td>\n",
       "        <td>Andrew</td>\n",
       "        <td>General Manager</td>\n",
       "        <td>None</td>\n",
       "        <td>1962-02-18 00:00:00</td>\n",
       "        <td>2002-08-14 00:00:00</td>\n",
       "        <td>11120 Jasper Ave NW</td>\n",
       "        <td>Edmonton</td>\n",
       "        <td>AB</td>\n",
       "        <td>Canada</td>\n",
       "        <td>T5K 2N1</td>\n",
       "        <td>+1 (780) 428-9482</td>\n",
       "        <td>+1 (780) 428-3457</td>\n",
       "        <td>andrew@chinookcorp.com</td>\n",
       "    </tr>\n",
       "    <tr>\n",
       "        <td>4</td>\n",
       "        <td>Park</td>\n",
       "        <td>Margaret</td>\n",
       "        <td>Sales Support Agent</td>\n",
       "        <td>2</td>\n",
       "        <td>1947-09-19 00:00:00</td>\n",
       "        <td>2003-05-03 00:00:00</td>\n",
       "        <td>683 10 Street SW</td>\n",
       "        <td>Calgary</td>\n",
       "        <td>AB</td>\n",
       "        <td>Canada</td>\n",
       "        <td>T2P 5G3</td>\n",
       "        <td>+1 (403) 263-4423</td>\n",
       "        <td>+1 (403) 263-4289</td>\n",
       "        <td>margaret@chinookcorp.com</td>\n",
       "    </tr>\n",
       "</table>"
      ],
      "text/plain": [
       "[(1, 'Adams', 'Andrew', 'General Manager', None, '1962-02-18 00:00:00', '2002-08-14 00:00:00', '11120 Jasper Ave NW', 'Edmonton', 'AB', 'Canada', 'T5K 2N1', '+1 (780) 428-9482', '+1 (780) 428-3457', 'andrew@chinookcorp.com'),\n",
       " (4, 'Park', 'Margaret', 'Sales Support Agent', 2, '1947-09-19 00:00:00', '2003-05-03 00:00:00', '683 10 Street SW', 'Calgary', 'AB', 'Canada', 'T2P 5G3', '+1 (403) 263-4423', '+1 (403) 263-4289', 'margaret@chinookcorp.com')]"
      ]
     },
     "execution_count": 24,
     "metadata": {},
     "output_type": "execute_result"
    }
   ],
   "source": [
    "%%sql \n",
    "\n",
    "SELECT *\n",
    "FROM employees\n",
    "WHERE HireDate between '2002-08-14' AND '2003-10-17'"
   ]
  },
  {
   "cell_type": "markdown",
   "metadata": {},
   "source": [
    "We can achieve the same result using standard comparison operators such as `<`, `>`, and `=`."
   ]
  },
  {
   "cell_type": "code",
   "execution_count": 25,
   "metadata": {},
   "outputs": [
    {
     "name": "stdout",
     "output_type": "stream",
     "text": [
      " * sqlite:///chinook.db\n",
      "Done.\n"
     ]
    },
    {
     "data": {
      "text/html": [
       "<table>\n",
       "    <tr>\n",
       "        <th>EmployeeId</th>\n",
       "        <th>LastName</th>\n",
       "        <th>FirstName</th>\n",
       "        <th>Title</th>\n",
       "        <th>ReportsTo</th>\n",
       "        <th>BirthDate</th>\n",
       "        <th>HireDate</th>\n",
       "        <th>Address</th>\n",
       "        <th>City</th>\n",
       "        <th>State</th>\n",
       "        <th>Country</th>\n",
       "        <th>PostalCode</th>\n",
       "        <th>Phone</th>\n",
       "        <th>Fax</th>\n",
       "        <th>Email</th>\n",
       "    </tr>\n",
       "    <tr>\n",
       "        <td>1</td>\n",
       "        <td>Adams</td>\n",
       "        <td>Andrew</td>\n",
       "        <td>General Manager</td>\n",
       "        <td>None</td>\n",
       "        <td>1962-02-18 00:00:00</td>\n",
       "        <td>2002-08-14 00:00:00</td>\n",
       "        <td>11120 Jasper Ave NW</td>\n",
       "        <td>Edmonton</td>\n",
       "        <td>AB</td>\n",
       "        <td>Canada</td>\n",
       "        <td>T5K 2N1</td>\n",
       "        <td>+1 (780) 428-9482</td>\n",
       "        <td>+1 (780) 428-3457</td>\n",
       "        <td>andrew@chinookcorp.com</td>\n",
       "    </tr>\n",
       "    <tr>\n",
       "        <td>4</td>\n",
       "        <td>Park</td>\n",
       "        <td>Margaret</td>\n",
       "        <td>Sales Support Agent</td>\n",
       "        <td>2</td>\n",
       "        <td>1947-09-19 00:00:00</td>\n",
       "        <td>2003-05-03 00:00:00</td>\n",
       "        <td>683 10 Street SW</td>\n",
       "        <td>Calgary</td>\n",
       "        <td>AB</td>\n",
       "        <td>Canada</td>\n",
       "        <td>T2P 5G3</td>\n",
       "        <td>+1 (403) 263-4423</td>\n",
       "        <td>+1 (403) 263-4289</td>\n",
       "        <td>margaret@chinookcorp.com</td>\n",
       "    </tr>\n",
       "</table>"
      ],
      "text/plain": [
       "[(1, 'Adams', 'Andrew', 'General Manager', None, '1962-02-18 00:00:00', '2002-08-14 00:00:00', '11120 Jasper Ave NW', 'Edmonton', 'AB', 'Canada', 'T5K 2N1', '+1 (780) 428-9482', '+1 (780) 428-3457', 'andrew@chinookcorp.com'),\n",
       " (4, 'Park', 'Margaret', 'Sales Support Agent', 2, '1947-09-19 00:00:00', '2003-05-03 00:00:00', '683 10 Street SW', 'Calgary', 'AB', 'Canada', 'T2P 5G3', '+1 (403) 263-4423', '+1 (403) 263-4289', 'margaret@chinookcorp.com')]"
      ]
     },
     "execution_count": 25,
     "metadata": {},
     "output_type": "execute_result"
    }
   ],
   "source": [
    "%%sql \n",
    "\n",
    "SELECT *\n",
    "FROM employees\n",
    "WHERE HireDate > '2002-08-14' AND\n",
    "      HireDate < '2003-10-17';"
   ]
  },
  {
   "cell_type": "markdown",
   "metadata": {},
   "source": [
    "That's it for date-time data types!"
   ]
  },
  {
   "cell_type": "markdown",
   "metadata": {},
   "source": [
    "## Conclusion\n",
    "\n",
    "The concepts covered in this train will be more useful in cases where you have to create your own database tables. Although not comprehensively, we have covered: \n",
    "\n",
    "- How to view table meta information in SQLite - this is particularly useful in cases where we need to assess the datatypes of table columns.\n",
    "- Common column data types in SQL such as: \n",
    "    - numerical data - `INTEGER`,`SERIAL`,`DECIMAL`, `REAL`, `DOUBLE PRECISION` \n",
    "    - text data - `CHAR(n)`,`VARCHAR(n)`, `VARCHAR`\n",
    "    - date/time data - `DATE`, `DATETIME`, `INTERVAL`.\n",
    "- How to construct queries around the above listed datatypes and useful built-in functions for each datatype.\n"
   ]
  },
  {
   "cell_type": "markdown",
   "metadata": {},
   "source": [
    "## Additional Links\n",
    "\n",
    "- [General SQL Datatypes](https://www.sqlite.org/datatype3.html)\n",
    "- [LIKE operator](https://www.w3schools.com/sql/sql_like.asp)"
   ]
  }
 ],
 "metadata": {
  "kernelspec": {
   "display_name": "Python 3 (ipykernel)",
   "language": "python",
   "name": "python3"
  },
  "language_info": {
   "codemirror_mode": {
    "name": "ipython",
    "version": 3
   },
   "file_extension": ".py",
   "mimetype": "text/x-python",
   "name": "python",
   "nbconvert_exporter": "python",
   "pygments_lexer": "ipython3",
   "version": "3.9.13"
  }
 },
 "nbformat": 4,
 "nbformat_minor": 4
}
