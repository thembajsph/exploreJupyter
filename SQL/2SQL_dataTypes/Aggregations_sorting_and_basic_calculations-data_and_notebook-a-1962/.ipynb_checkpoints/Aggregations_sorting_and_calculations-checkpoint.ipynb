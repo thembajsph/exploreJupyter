{
 "cells": [
  {
   "cell_type": "markdown",
   "metadata": {},
   "source": [
    "# Aggregations, Sorting, and Basic Calculations\n",
    "© Explore Data Science Academy"
   ]
  },
  {
   "cell_type": "markdown",
   "metadata": {},
   "source": [
    "## Learning Objectives\n",
    "\n",
    "In this train we will explore:\n",
    "- Built-in functions\n",
    "- Grouping data\n",
    "- Sorting data\n",
    "\n",
    "## Outline\n",
    "\n",
    "- Built-in functions\n",
    "    - Counting\n",
    "    - Basic Arithmetic\n",
    "    - Sum and AVG\n",
    "    - max and min\n",
    "- ORDER BY\n",
    "- GROUP BY\n",
    "- HAVING"
   ]
  },
  {
   "cell_type": "markdown",
   "metadata": {},
   "source": [
    "### Loading the database\n",
    "Load SQL magic commands"
   ]
  },
  {
   "cell_type": "code",
   "execution_count": 1,
   "metadata": {},
   "outputs": [],
   "source": [
    "%load_ext sql"
   ]
  },
  {
   "cell_type": "markdown",
   "metadata": {},
   "source": [
    "Load Chinook SQLite database"
   ]
  },
  {
   "cell_type": "code",
   "execution_count": 2,
   "metadata": {},
   "outputs": [],
   "source": [
    "%%sql \n",
    "\n",
    "sqlite:///chinook.db"
   ]
  },
  {
   "cell_type": "markdown",
   "metadata": {},
   "source": [
    "Chinook database ER diagram:\n",
    "\n",
    "<img src=\"https://github.com/Explore-AI/Pictures/blob/master/sqlite-sample-database-color.jpg?raw=true\" width=70%/>\n",
    "\n",
    "_[Image source](https://www.sqlitetutorial.net/sqlite-sample-database/)_"
   ]
  },
  {
   "cell_type": "markdown",
   "metadata": {},
   "source": [
    "## [Built-in functions](https://db.apache.org/derby/docs/10.13/ref/rrefsqlj29026.html)\n",
    "\n",
    "In this section, we demonstrate some of the useful SQL built-in functions for data analysis.\n",
    "\n",
    "### 1. Counting\n",
    "One of the most common built-in functions you'll encounter is the `count()` function. As the name implies, this function will count the number of rows of the column specified in its arguments. In the simplest case, it can be used as follows:\n",
    "\n",
    "    SELECT count(column_name)\n",
    "    FROM table_name\n",
    "\n",
    "where the column whose rows we want to count is supplied as an argument into the count function.\n",
    "\n",
    "Great, let's do some examples:\n",
    "\n",
    "### 1.1. Counting rows of a given column\n",
    "\n",
    "Let's write a query that counts the number of albums and the number of artists in the albums table. In English:\n",
    "\n",
    "    return a count of the AlbumId column and a count of the ArtistId column from the albums table\n",
    "\n",
    "In SQL:"
   ]
  },
  {
   "cell_type": "code",
   "execution_count": 3,
   "metadata": {},
   "outputs": [
    {
     "name": "stdout",
     "output_type": "stream",
     "text": [
      " * sqlite:///chinook.db\n",
      "Done.\n"
     ]
    },
    {
     "data": {
      "text/html": [
       "<table>\n",
       "    <thead>\n",
       "        <tr>\n",
       "            <th>Number of Albums</th>\n",
       "            <th>Number of Artists</th>\n",
       "        </tr>\n",
       "    </thead>\n",
       "    <tbody>\n",
       "        <tr>\n",
       "            <td>347</td>\n",
       "            <td>347</td>\n",
       "        </tr>\n",
       "    </tbody>\n",
       "</table>"
      ],
      "text/plain": [
       "[(347, 347)]"
      ]
     },
     "execution_count": 3,
     "metadata": {},
     "output_type": "execute_result"
    }
   ],
   "source": [
    "%%sql\n",
    "\n",
    "SELECT count(AlbumId) AS \"Number of Albums\", count(ArtistId) AS \"Number of Artists\"\n",
    "FROM albums;"
   ]
  },
  {
   "cell_type": "markdown",
   "metadata": {},
   "source": [
    "Notice that we've added aliases for the counts for better readability. Try removing them and see what happens.\n",
    "\n",
    "The above query seems to be successful right? However, those with a keen eye may be wondering why we have the same number of artists as albums, surely the number of albums should be greater than the number of artists. We'll discuss how to resolve this in the next example, in the meantime, do a `SELECT *` query on the albums table to see if you can understand where the problem is. "
   ]
  },
  {
   "cell_type": "code",
   "execution_count": 4,
   "metadata": {},
   "outputs": [
    {
     "name": "stdout",
     "output_type": "stream",
     "text": [
      " * sqlite:///chinook.db\n",
      "0 rows affected.\n"
     ]
    },
    {
     "data": {
      "text/plain": [
       "[]"
      ]
     },
     "execution_count": 4,
     "metadata": {},
     "output_type": "execute_result"
    }
   ],
   "source": [
    "%%sql\n",
    "\n",
    "-- your code here"
   ]
  },
  {
   "cell_type": "markdown",
   "metadata": {},
   "source": [
    "### 1.2. Counting unique values in a given column\n",
    "If you take a closer look at the albums table (i.e. in your SELECT query above), you will notice that some of the ArtistIds have been duplicated. This makes sense because some Artists will have written multiple albums. Now the question is, how do we reflect this in SQL?\n",
    "\n",
    "This brings us to the `DISTINCT` keyword, which eliminates duplicates in a column. We can use this keyword together with the count function to only consider distinct values. \n",
    "\n",
    "Following from the previous example, write a query that counts the number of albums and the number of unique artists in the albums table. In English:\n",
    "\n",
    "    return a count of the AlbumId column and a count of the unique rows in the ArtistId column from the albums table\n",
    "\n",
    "In SQL:"
   ]
  },
  {
   "cell_type": "code",
   "execution_count": 5,
   "metadata": {},
   "outputs": [
    {
     "name": "stdout",
     "output_type": "stream",
     "text": [
      " * sqlite:///chinook.db\n",
      "Done.\n"
     ]
    },
    {
     "data": {
      "text/html": [
       "<table>\n",
       "    <tr>\n",
       "        <th>Number of Albums</th>\n",
       "        <th>Number of Unique Artists</th>\n",
       "    </tr>\n",
       "    <tr>\n",
       "        <td>347</td>\n",
       "        <td>204</td>\n",
       "    </tr>\n",
       "</table>"
      ],
      "text/plain": [
       "[(347, 204)]"
      ]
     },
     "execution_count": 5,
     "metadata": {},
     "output_type": "execute_result"
    }
   ],
   "source": [
    "%%sql\n",
    "\n",
    "SELECT count(AlbumId) AS \"Number of Albums\", count(DISTINCT ArtistId) AS \"Number of Unique Artists\"\n",
    "FROM albums;"
   ]
  },
  {
   "cell_type": "markdown",
   "metadata": {},
   "source": [
    "This looks more realistic, to achieve this we used the `DISTINCT` keyword in the argument of the count function. In other words, we supplied the count function with a new column (i.e. `DISTINCT ArtistId`) which only contains unique ArtistIds."
   ]
  },
  {
   "cell_type": "markdown",
   "metadata": {},
   "source": [
    "### 2. Max and Min\n",
    "\n",
    "SQL has built-in functions for calculating the maximum value of column (i.e. `max()`) and the minimum value of column (i.e. `min()`). These functions can be applied on all numerical type columns and DATETIME columns. \n",
    "\n",
    "Let's do some examples.\n",
    "### 2.1. Calculating the minimum of a column\n",
    "Write a query that returns the name of the shortest song in the database. In English:\n",
    "\n",
    "    return data from the Name column and the minimum of the Milliseconds column from the tracks table \n",
    "    \n",
    "In SQL:"
   ]
  },
  {
   "cell_type": "code",
   "execution_count": 6,
   "metadata": {},
   "outputs": [
    {
     "name": "stdout",
     "output_type": "stream",
     "text": [
      " * sqlite:///chinook.db\n",
      "Done.\n"
     ]
    },
    {
     "data": {
      "text/html": [
       "<table>\n",
       "    <tr>\n",
       "        <th>Name</th>\n",
       "        <th>Length in Millisecs</th>\n",
       "    </tr>\n",
       "    <tr>\n",
       "        <td>É Uma Partida De Futebol</td>\n",
       "        <td>1071</td>\n",
       "    </tr>\n",
       "</table>"
      ],
      "text/plain": [
       "[('É Uma Partida De Futebol', 1071)]"
      ]
     },
     "execution_count": 6,
     "metadata": {},
     "output_type": "execute_result"
    }
   ],
   "source": [
    "%%sql\n",
    "\n",
    "SELECT Name, min(Milliseconds) AS \"Length in Millisecs\"\n",
    "FROM tracks;"
   ]
  },
  {
   "cell_type": "markdown",
   "metadata": {},
   "source": [
    "Easy peasy, lemon squeezy. However, aside from the fact that this song is in Portuguese, nothing else makes sense. For example, how long is this song in minutes? \n",
    "\n",
    "Before we answer this question, let's do another example."
   ]
  },
  {
   "cell_type": "markdown",
   "metadata": {},
   "source": [
    "### 2.2. Calculating the maximum of a column\n",
    "Write a query that returns the name of the most recently hired employee. In English:\n",
    "\n",
    "    return the FirstName column,LastName column and maximum of the HireDate column from the employees table\n",
    "\n",
    "In SQL:"
   ]
  },
  {
   "cell_type": "code",
   "execution_count": 7,
   "metadata": {},
   "outputs": [
    {
     "name": "stdout",
     "output_type": "stream",
     "text": [
      " * sqlite:///chinook.db\n",
      "Done.\n"
     ]
    },
    {
     "data": {
      "text/html": [
       "<table>\n",
       "    <tr>\n",
       "        <th>FirstName</th>\n",
       "        <th>LastName</th>\n",
       "        <th>Hire Date</th>\n",
       "    </tr>\n",
       "    <tr>\n",
       "        <td>Laura</td>\n",
       "        <td>Callahan</td>\n",
       "        <td>2004-03-04 00:00:00</td>\n",
       "    </tr>\n",
       "</table>"
      ],
      "text/plain": [
       "[('Laura', 'Callahan', '2004-03-04 00:00:00')]"
      ]
     },
     "execution_count": 7,
     "metadata": {},
     "output_type": "execute_result"
    }
   ],
   "source": [
    "%%sql\n",
    "\n",
    "SELECT FirstName, LastName, max(Hiredate) AS \"Hire Date\"\n",
    "FROM employees;"
   ]
  },
  {
   "cell_type": "markdown",
   "metadata": {},
   "source": [
    "As you can see, we can find the max (later) or min (earlier) dates in the same way as we do with numerical columns."
   ]
  },
  {
   "cell_type": "markdown",
   "metadata": {},
   "source": [
    "### 3. Basic arithmetic\n",
    "\n",
    "We can perform basic calculations in SQL using standard math operators:\n",
    "- `+` - addition\n",
    "- `-` - subtraction\n",
    "- `*` - multiplication\n",
    "- `/` - division\n",
    "\n",
    "Let's see some examples (since all these operators work in the same way, we will only demonstrate multiplication and division here):\n"
   ]
  },
  {
   "cell_type": "markdown",
   "metadata": {},
   "source": [
    "### 3.1. Multiplication\n",
    "Suppose chinook hired a South African accountant and needed to send them all company invoices. As such, each invoice total has to be converted from dollars to rands. Write a query that will achieve this (assumming that 1 Canadian dollar = 13.18 rands). In English:\n",
    "\n",
    "    return data in all columns, the Total column multiplied by 13.18 from the invoices table\n",
    "\n",
    "In SQL:"
   ]
  },
  {
   "cell_type": "code",
   "execution_count": 8,
   "metadata": {
    "jupyter": {
     "outputs_hidden": true
    }
   },
   "outputs": [
    {
     "name": "stdout",
     "output_type": "stream",
     "text": [
      " * sqlite:///chinook.db\n",
      "Done.\n"
     ]
    },
    {
     "data": {
      "text/html": [
       "<table>\n",
       "    <tr>\n",
       "        <th>InvoiceId</th>\n",
       "        <th>CustomerId</th>\n",
       "        <th>InvoiceDate</th>\n",
       "        <th>BillingAddress</th>\n",
       "        <th>BillingCity</th>\n",
       "        <th>BillingState</th>\n",
       "        <th>BillingCountry</th>\n",
       "        <th>BillingPostalCode</th>\n",
       "        <th>Total</th>\n",
       "        <th>Total in Rands</th>\n",
       "    </tr>\n",
       "    <tr>\n",
       "        <td>1</td>\n",
       "        <td>2</td>\n",
       "        <td>2009-01-01 00:00:00</td>\n",
       "        <td>Theodor-Heuss-Straße 34</td>\n",
       "        <td>Stuttgart</td>\n",
       "        <td>None</td>\n",
       "        <td>Germany</td>\n",
       "        <td>70174</td>\n",
       "        <td>1.98</td>\n",
       "        <td>27.3438</td>\n",
       "    </tr>\n",
       "    <tr>\n",
       "        <td>2</td>\n",
       "        <td>4</td>\n",
       "        <td>2009-01-02 00:00:00</td>\n",
       "        <td>Ullevålsveien 14</td>\n",
       "        <td>Oslo</td>\n",
       "        <td>None</td>\n",
       "        <td>Norway</td>\n",
       "        <td>0171</td>\n",
       "        <td>3.96</td>\n",
       "        <td>54.6876</td>\n",
       "    </tr>\n",
       "    <tr>\n",
       "        <td>3</td>\n",
       "        <td>8</td>\n",
       "        <td>2009-01-03 00:00:00</td>\n",
       "        <td>Grétrystraat 63</td>\n",
       "        <td>Brussels</td>\n",
       "        <td>None</td>\n",
       "        <td>Belgium</td>\n",
       "        <td>1000</td>\n",
       "        <td>5.94</td>\n",
       "        <td>82.0314</td>\n",
       "    </tr>\n",
       "    <tr>\n",
       "        <td>4</td>\n",
       "        <td>14</td>\n",
       "        <td>2009-01-06 00:00:00</td>\n",
       "        <td>8210 111 ST NW</td>\n",
       "        <td>Edmonton</td>\n",
       "        <td>AB</td>\n",
       "        <td>Canada</td>\n",
       "        <td>T6G 2C7</td>\n",
       "        <td>8.91</td>\n",
       "        <td>123.0471</td>\n",
       "    </tr>\n",
       "    <tr>\n",
       "        <td>5</td>\n",
       "        <td>23</td>\n",
       "        <td>2009-01-11 00:00:00</td>\n",
       "        <td>69 Salem Street</td>\n",
       "        <td>Boston</td>\n",
       "        <td>MA</td>\n",
       "        <td>USA</td>\n",
       "        <td>2113</td>\n",
       "        <td>13.86</td>\n",
       "        <td>191.4066</td>\n",
       "    </tr>\n",
       "    <tr>\n",
       "        <td>6</td>\n",
       "        <td>37</td>\n",
       "        <td>2009-01-19 00:00:00</td>\n",
       "        <td>Berger Straße 10</td>\n",
       "        <td>Frankfurt</td>\n",
       "        <td>None</td>\n",
       "        <td>Germany</td>\n",
       "        <td>60316</td>\n",
       "        <td>0.99</td>\n",
       "        <td>13.6719</td>\n",
       "    </tr>\n",
       "    <tr>\n",
       "        <td>7</td>\n",
       "        <td>38</td>\n",
       "        <td>2009-02-01 00:00:00</td>\n",
       "        <td>Barbarossastraße 19</td>\n",
       "        <td>Berlin</td>\n",
       "        <td>None</td>\n",
       "        <td>Germany</td>\n",
       "        <td>10779</td>\n",
       "        <td>1.98</td>\n",
       "        <td>27.3438</td>\n",
       "    </tr>\n",
       "    <tr>\n",
       "        <td>8</td>\n",
       "        <td>40</td>\n",
       "        <td>2009-02-01 00:00:00</td>\n",
       "        <td>8, Rue Hanovre</td>\n",
       "        <td>Paris</td>\n",
       "        <td>None</td>\n",
       "        <td>France</td>\n",
       "        <td>75002</td>\n",
       "        <td>1.98</td>\n",
       "        <td>27.3438</td>\n",
       "    </tr>\n",
       "    <tr>\n",
       "        <td>9</td>\n",
       "        <td>42</td>\n",
       "        <td>2009-02-02 00:00:00</td>\n",
       "        <td>9, Place Louis Barthou</td>\n",
       "        <td>Bordeaux</td>\n",
       "        <td>None</td>\n",
       "        <td>France</td>\n",
       "        <td>33000</td>\n",
       "        <td>3.96</td>\n",
       "        <td>54.6876</td>\n",
       "    </tr>\n",
       "    <tr>\n",
       "        <td>10</td>\n",
       "        <td>46</td>\n",
       "        <td>2009-02-03 00:00:00</td>\n",
       "        <td>3 Chatham Street</td>\n",
       "        <td>Dublin</td>\n",
       "        <td>Dublin</td>\n",
       "        <td>Ireland</td>\n",
       "        <td>None</td>\n",
       "        <td>5.94</td>\n",
       "        <td>82.0314</td>\n",
       "    </tr>\n",
       "</table>"
      ],
      "text/plain": [
       "[(1, 2, '2009-01-01 00:00:00', 'Theodor-Heuss-Straße 34', 'Stuttgart', None, 'Germany', '70174', 1.98, 27.3438),\n",
       " (2, 4, '2009-01-02 00:00:00', 'Ullevålsveien 14', 'Oslo', None, 'Norway', '0171', 3.96, 54.6876),\n",
       " (3, 8, '2009-01-03 00:00:00', 'Grétrystraat 63', 'Brussels', None, 'Belgium', '1000', 5.94, 82.0314),\n",
       " (4, 14, '2009-01-06 00:00:00', '8210 111 ST NW', 'Edmonton', 'AB', 'Canada', 'T6G 2C7', 8.91, 123.0471),\n",
       " (5, 23, '2009-01-11 00:00:00', '69 Salem Street', 'Boston', 'MA', 'USA', '2113', 13.86, 191.4066),\n",
       " (6, 37, '2009-01-19 00:00:00', 'Berger Straße 10', 'Frankfurt', None, 'Germany', '60316', 0.99, 13.6719),\n",
       " (7, 38, '2009-02-01 00:00:00', 'Barbarossastraße 19', 'Berlin', None, 'Germany', '10779', 1.98, 27.3438),\n",
       " (8, 40, '2009-02-01 00:00:00', '8, Rue Hanovre', 'Paris', None, 'France', '75002', 1.98, 27.3438),\n",
       " (9, 42, '2009-02-02 00:00:00', '9, Place Louis Barthou', 'Bordeaux', None, 'France', '33000', 3.96, 54.6876),\n",
       " (10, 46, '2009-02-03 00:00:00', '3 Chatham Street', 'Dublin', 'Dublin', 'Ireland', None, 5.94, 82.0314)]"
      ]
     },
     "execution_count": 8,
     "metadata": {},
     "output_type": "execute_result"
    }
   ],
   "source": [
    "%%sql\n",
    "\n",
    "SELECT *, Total*13.81 AS \"Total in Rands\"\n",
    "FROM invoices\n",
    "LIMIT 10;"
   ]
  },
  {
   "cell_type": "markdown",
   "metadata": {},
   "source": [
    "### 3.2. Division\n",
    "To follow up on the query in subsection 2.1. Write a query that returns the name of the longest song in the database but converts the song length from Milliseconds to Minutes. In English:\n",
    "\n",
    "    return data from the Name column and the maximum of the Milliseconds column divided by 60000 from the tracks table \n",
    "\n",
    "In SQL:   "
   ]
  },
  {
   "cell_type": "code",
   "execution_count": 9,
   "metadata": {},
   "outputs": [
    {
     "name": "stdout",
     "output_type": "stream",
     "text": [
      " * sqlite:///chinook.db\n",
      "Done.\n"
     ]
    },
    {
     "data": {
      "text/html": [
       "<table>\n",
       "    <tr>\n",
       "        <th>Name</th>\n",
       "        <th>Length in Minutes</th>\n",
       "    </tr>\n",
       "    <tr>\n",
       "        <td>Occupation / Precipice</td>\n",
       "        <td>88</td>\n",
       "    </tr>\n",
       "</table>"
      ],
      "text/plain": [
       "[('Occupation / Precipice', 88)]"
      ]
     },
     "execution_count": 9,
     "metadata": {},
     "output_type": "execute_result"
    }
   ],
   "source": [
    "%%sql\n",
    "\n",
    "SELECT Name, max(Milliseconds)/60000 AS \"Length in Minutes\"\n",
    "FROM tracks;"
   ]
  },
  {
   "cell_type": "markdown",
   "metadata": {},
   "source": [
    "Although our query does its job, we have stumbled upon a suspicious entry. An 88 minute song? \n",
    "Not exactly, before we jump to conclusions, notice that there is a MediaTypeId in the tracks table. If we trace that back to the media_types table:"
   ]
  },
  {
   "cell_type": "code",
   "execution_count": 10,
   "metadata": {},
   "outputs": [
    {
     "name": "stdout",
     "output_type": "stream",
     "text": [
      " * sqlite:///chinook.db\n",
      "Done.\n"
     ]
    },
    {
     "data": {
      "text/html": [
       "<table>\n",
       "    <tr>\n",
       "        <th>MediaTypeId</th>\n",
       "        <th>Name</th>\n",
       "    </tr>\n",
       "    <tr>\n",
       "        <td>1</td>\n",
       "        <td>MPEG audio file</td>\n",
       "    </tr>\n",
       "    <tr>\n",
       "        <td>2</td>\n",
       "        <td>Protected AAC audio file</td>\n",
       "    </tr>\n",
       "    <tr>\n",
       "        <td>3</td>\n",
       "        <td>Protected MPEG-4 video file</td>\n",
       "    </tr>\n",
       "    <tr>\n",
       "        <td>4</td>\n",
       "        <td>Purchased AAC audio file</td>\n",
       "    </tr>\n",
       "    <tr>\n",
       "        <td>5</td>\n",
       "        <td>AAC audio file</td>\n",
       "    </tr>\n",
       "</table>"
      ],
      "text/plain": [
       "[(1, 'MPEG audio file'),\n",
       " (2, 'Protected AAC audio file'),\n",
       " (3, 'Protected MPEG-4 video file'),\n",
       " (4, 'Purchased AAC audio file'),\n",
       " (5, 'AAC audio file')]"
      ]
     },
     "execution_count": 10,
     "metadata": {},
     "output_type": "execute_result"
    }
   ],
   "source": [
    "%%sql\n",
    "\n",
    "SELECT *\n",
    "FROM media_types"
   ]
  },
  {
   "cell_type": "markdown",
   "metadata": {},
   "source": [
    "We can see that the database (particularly the tracks table) also stores videos :) so false alarm. That said, the `max()` and `min()` functions are also an ok way to find outliers in the data."
   ]
  },
  {
   "cell_type": "markdown",
   "metadata": {},
   "source": [
    "### 4. Summing and Averaging\n",
    "Next to `max` and `min`, the `sum` and `avg` functions are the most common aggregator functions you will need in your SQL queries. It is worth noting that all these aggregator functions will ignore NULL values (i.e. missing entries in a column).\n",
    "\n",
    "Let's do some examples.\n",
    "\n",
    "### 4.1 Calculating the sum of a column\n",
    "Write a query that calculates how long (in hours) it would take to go through all chinook media (i.e. music, videos, etc). In English:\n",
    "\n",
    "    return the sum of the Milliseconds column divided by 3600000 from the tracks table\n",
    "\n",
    "In SQL:"
   ]
  },
  {
   "cell_type": "code",
   "execution_count": 11,
   "metadata": {},
   "outputs": [
    {
     "name": "stdout",
     "output_type": "stream",
     "text": [
      " * sqlite:///chinook.db\n",
      "Done.\n"
     ]
    },
    {
     "data": {
      "text/html": [
       "<table>\n",
       "    <tr>\n",
       "        <th>Time in Hours</th>\n",
       "    </tr>\n",
       "    <tr>\n",
       "        <td>38</td>\n",
       "    </tr>\n",
       "</table>"
      ],
      "text/plain": [
       "[(38,)]"
      ]
     },
     "execution_count": 11,
     "metadata": {},
     "output_type": "execute_result"
    }
   ],
   "source": [
    "%%sql\n",
    "\n",
    "SELECT sum(Milliseconds)/36000000 AS \"Time in Hours\"\n",
    "FROM tracks;"
   ]
  },
  {
   "cell_type": "markdown",
   "metadata": {},
   "source": [
    "### 4.2 Calculating the average of a column\n",
    "\n",
    "Write a query that returns the average purchase total per invoice. In English:\n",
    "\n",
    "    return the average of the Total column from the invoices table\n",
    "\n",
    "In SQL:"
   ]
  },
  {
   "cell_type": "code",
   "execution_count": 12,
   "metadata": {},
   "outputs": [
    {
     "name": "stdout",
     "output_type": "stream",
     "text": [
      " * sqlite:///chinook.db\n",
      "Done.\n"
     ]
    },
    {
     "data": {
      "text/html": [
       "<table>\n",
       "    <tr>\n",
       "        <th>Average purchase in dollars</th>\n",
       "    </tr>\n",
       "    <tr>\n",
       "        <td>5.65</td>\n",
       "    </tr>\n",
       "</table>"
      ],
      "text/plain": [
       "[(5.65,)]"
      ]
     },
     "execution_count": 12,
     "metadata": {},
     "output_type": "execute_result"
    }
   ],
   "source": [
    "%%sql\n",
    "\n",
    "SELECT round(avg(Total),2) AS \"Average purchase in dollars\"\n",
    "FROM invoices;"
   ]
  },
  {
   "cell_type": "markdown",
   "metadata": {},
   "source": [
    "Note that we have also used the `round` in this query to round of our answer to 2 decimal places."
   ]
  },
  {
   "cell_type": "markdown",
   "metadata": {},
   "source": [
    "## Grouping and Ordering data\n",
    "\n",
    "In this section we cover how to group and order data, we also explore how these operations can be combined with aggregator functions to produce more insightful queries."
   ]
  },
  {
   "cell_type": "markdown",
   "metadata": {},
   "source": [
    "### 1.  The ORDER BY clause\n",
    "The ORDER BY clause is used to sort SQL query results by a given column. This clause can be applied to a standard query as follows:\n",
    "\n",
    "```sql\n",
    "SELECT columns\n",
    "FROM tables\n",
    "WHERE boolean expression\n",
    "ORDER BY column DESC\n",
    "```\n",
    "\n",
    "We can also specify whether we want the rows to be sorted in ascending order (default) or descending order (`DESC`) using `DESC` keyword. \n",
    "\n",
    "Let's do some examples\n"
   ]
  },
  {
   "cell_type": "markdown",
   "metadata": {},
   "source": [
    "### 1.1. Sorting in ascending order\n",
    "Write a query that returns the top 10 shortest media (in seconds) items in the database. In English:\n",
    "\n",
    "    return the Name, Milliseconds column divided by 1000 from the tracks table, sort by the Milliseconds column in ascending order, and only output the first 10 rows\n",
    "    \n",
    "In SQL:"
   ]
  },
  {
   "cell_type": "code",
   "execution_count": 13,
   "metadata": {
    "jupyter": {
     "outputs_hidden": true
    }
   },
   "outputs": [
    {
     "name": "stdout",
     "output_type": "stream",
     "text": [
      " * sqlite:///chinook.db\n",
      "Done.\n"
     ]
    },
    {
     "data": {
      "text/html": [
       "<table>\n",
       "    <tr>\n",
       "        <th>Name</th>\n",
       "        <th>Length in Seconds</th>\n",
       "    </tr>\n",
       "    <tr>\n",
       "        <td>É Uma Partida De Futebol</td>\n",
       "        <td>1.07</td>\n",
       "    </tr>\n",
       "    <tr>\n",
       "        <td>Now Sports</td>\n",
       "        <td>4.88</td>\n",
       "    </tr>\n",
       "    <tr>\n",
       "        <td>A Statistic</td>\n",
       "        <td>6.37</td>\n",
       "    </tr>\n",
       "    <tr>\n",
       "        <td>Oprah</td>\n",
       "        <td>6.63</td>\n",
       "    </tr>\n",
       "    <tr>\n",
       "        <td>Commercial 1</td>\n",
       "        <td>7.94</td>\n",
       "    </tr>\n",
       "    <tr>\n",
       "        <td>The Real Problem</td>\n",
       "        <td>11.65</td>\n",
       "    </tr>\n",
       "    <tr>\n",
       "        <td>Commercial 2</td>\n",
       "        <td>21.21</td>\n",
       "    </tr>\n",
       "    <tr>\n",
       "        <td>Bossa</td>\n",
       "        <td>29.05</td>\n",
       "    </tr>\n",
       "    <tr>\n",
       "        <td>Casinha Feliz</td>\n",
       "        <td>32.29</td>\n",
       "    </tr>\n",
       "    <tr>\n",
       "        <td>Mateus Enter</td>\n",
       "        <td>33.15</td>\n",
       "    </tr>\n",
       "</table>"
      ],
      "text/plain": [
       "[('É Uma Partida De Futebol', 1.07),\n",
       " ('Now Sports', 4.88),\n",
       " ('A Statistic', 6.37),\n",
       " ('Oprah', 6.63),\n",
       " ('Commercial 1', 7.94),\n",
       " ('The Real Problem', 11.65),\n",
       " ('Commercial 2', 21.21),\n",
       " ('Bossa', 29.05),\n",
       " ('Casinha Feliz', 32.29),\n",
       " ('Mateus Enter', 33.15)]"
      ]
     },
     "execution_count": 13,
     "metadata": {},
     "output_type": "execute_result"
    }
   ],
   "source": [
    "%%sql\n",
    "\n",
    "SELECT Name, round(Milliseconds/1000.0,2) AS \"Length in Seconds\"\n",
    "FROM tracks\n",
    "ORDER BY Milliseconds\n",
    "LIMIT 10;"
   ]
  },
  {
   "cell_type": "markdown",
   "metadata": {},
   "source": [
    "In this query, we divided by 1000.0 (i.e. adding the `.0`) to avoid integer division (which ignores the fractional parts). "
   ]
  },
  {
   "cell_type": "markdown",
   "metadata": {},
   "source": [
    "### 1.2. Sorting in descending order\n",
    "Write a query that returns the Names of top 10 best customers and how much they spend on chinook media. In English:\n",
    "\n",
    "    return the first and last name from the customers table, the Total column from the invoices table, align both tables by the customerId and sort the rows by the invoice Total column in descending order, and limit results to 10 rows\n",
    "\n",
    "In SQL:"
   ]
  },
  {
   "cell_type": "code",
   "execution_count": 14,
   "metadata": {},
   "outputs": [
    {
     "name": "stdout",
     "output_type": "stream",
     "text": [
      " * sqlite:///chinook.db\n",
      "Done.\n"
     ]
    },
    {
     "data": {
      "text/html": [
       "<table>\n",
       "    <tr>\n",
       "        <th>FirstName</th>\n",
       "        <th>LastName</th>\n",
       "        <th>Purchase Total</th>\n",
       "    </tr>\n",
       "    <tr>\n",
       "        <td>Helena</td>\n",
       "        <td>Holý</td>\n",
       "        <td>25.86</td>\n",
       "    </tr>\n",
       "    <tr>\n",
       "        <td>Richard</td>\n",
       "        <td>Cunningham</td>\n",
       "        <td>23.86</td>\n",
       "    </tr>\n",
       "    <tr>\n",
       "        <td>Ladislav</td>\n",
       "        <td>Kovács</td>\n",
       "        <td>21.86</td>\n",
       "    </tr>\n",
       "    <tr>\n",
       "        <td>Hugh</td>\n",
       "        <td>O&#x27;Reilly</td>\n",
       "        <td>21.86</td>\n",
       "    </tr>\n",
       "    <tr>\n",
       "        <td>Astrid</td>\n",
       "        <td>Gruber</td>\n",
       "        <td>18.86</td>\n",
       "    </tr>\n",
       "    <tr>\n",
       "        <td>Victor</td>\n",
       "        <td>Stevens</td>\n",
       "        <td>18.86</td>\n",
       "    </tr>\n",
       "    <tr>\n",
       "        <td>Luis</td>\n",
       "        <td>Rojas</td>\n",
       "        <td>17.91</td>\n",
       "    </tr>\n",
       "    <tr>\n",
       "        <td>František</td>\n",
       "        <td>Wichterlová</td>\n",
       "        <td>16.86</td>\n",
       "    </tr>\n",
       "    <tr>\n",
       "        <td>Isabelle</td>\n",
       "        <td>Mercier</td>\n",
       "        <td>16.86</td>\n",
       "    </tr>\n",
       "    <tr>\n",
       "        <td>Bjørn</td>\n",
       "        <td>Hansen</td>\n",
       "        <td>15.86</td>\n",
       "    </tr>\n",
       "</table>"
      ],
      "text/plain": [
       "[('Helena', 'Holý', 25.86),\n",
       " ('Richard', 'Cunningham', 23.86),\n",
       " ('Ladislav', 'Kovács', 21.86),\n",
       " ('Hugh', \"O'Reilly\", 21.86),\n",
       " ('Astrid', 'Gruber', 18.86),\n",
       " ('Victor', 'Stevens', 18.86),\n",
       " ('Luis', 'Rojas', 17.91),\n",
       " ('František', 'Wichterlová', 16.86),\n",
       " ('Isabelle', 'Mercier', 16.86),\n",
       " ('Bjørn', 'Hansen', 15.86)]"
      ]
     },
     "execution_count": 14,
     "metadata": {},
     "output_type": "execute_result"
    }
   ],
   "source": [
    "%%sql\n",
    "\n",
    "SELECT c.FirstName, c.LastName, i.Total AS \"Purchase Total\"\n",
    "FROM customers c, invoices i\n",
    "WHERE c.CustomerId = i.CustomerId\n",
    "ORDER BY i.Total DESC\n",
    "LIMIT 10;"
   ]
  },
  {
   "cell_type": "markdown",
   "metadata": {},
   "source": [
    "### 2. The GROUP BY clause\n",
    "\n",
    "The GROUP BY clause is used to group rows together which share the same value. In SQL we typically group rows by columns, which creates a group for each unique value in that column(s). As such, we typically use the GROUP BY clause with an aggregator function which will then operate on each group in the result set. A standard GROUP BY clause will take on the following format:\n",
    "\n",
    "```\n",
    "SELECT columns\n",
    "FROM tables\n",
    "WHERE boolean expression\n",
    "GROUP BY columns \n",
    "```\n",
    "\n",
    "The GROUP BY clause should always follow a WHERE clause (if it is present) and precede an ORDER BY clause (if it is present).\n",
    "\n",
    "Let's do some examples:"
   ]
  },
  {
   "cell_type": "markdown",
   "metadata": {},
   "source": [
    "### 2.1. Grouping by a single column\n",
    "\n",
    "To start off, let's revisit the query from section 1.2 above. We tried to sort customers by their purchase totals. However, we forgot one crucial thing, customers generally make more than one purchase. As such, the best customers will be the ones with the highest sum of individual invoice totals.\n",
    "\n",
    "Let's massage our query to reflect this, again write a query that returns the Names of top 10 best customers and how much they spend on chinook media. In English:\n",
    "\n",
    "    return the first and last name from the customers table, the summed Total column from the invoices table, align both tables by the customerId and sort the rows by the invoice Total column in descending order, and group results by the CustomerId from the invoices table, and limit results to 10 rows\n",
    "In SQL:"
   ]
  },
  {
   "cell_type": "code",
   "execution_count": 15,
   "metadata": {
    "jupyter": {
     "outputs_hidden": true
    }
   },
   "outputs": [
    {
     "name": "stdout",
     "output_type": "stream",
     "text": [
      " * sqlite:///chinook.db\n",
      "Done.\n"
     ]
    },
    {
     "data": {
      "text/html": [
       "<table>\n",
       "    <tr>\n",
       "        <th>FirstName</th>\n",
       "        <th>LastName</th>\n",
       "        <th>Total Spend</th>\n",
       "    </tr>\n",
       "    <tr>\n",
       "        <td>Helena</td>\n",
       "        <td>Holý</td>\n",
       "        <td>49.62</td>\n",
       "    </tr>\n",
       "    <tr>\n",
       "        <td>Richard</td>\n",
       "        <td>Cunningham</td>\n",
       "        <td>47.62</td>\n",
       "    </tr>\n",
       "    <tr>\n",
       "        <td>Luis</td>\n",
       "        <td>Rojas</td>\n",
       "        <td>46.62</td>\n",
       "    </tr>\n",
       "    <tr>\n",
       "        <td>Ladislav</td>\n",
       "        <td>Kovács</td>\n",
       "        <td>45.62</td>\n",
       "    </tr>\n",
       "    <tr>\n",
       "        <td>Hugh</td>\n",
       "        <td>O&#x27;Reilly</td>\n",
       "        <td>45.62</td>\n",
       "    </tr>\n",
       "    <tr>\n",
       "        <td>Frank</td>\n",
       "        <td>Ralston</td>\n",
       "        <td>43.62</td>\n",
       "    </tr>\n",
       "    <tr>\n",
       "        <td>Julia</td>\n",
       "        <td>Barnett</td>\n",
       "        <td>43.62</td>\n",
       "    </tr>\n",
       "    <tr>\n",
       "        <td>Fynn</td>\n",
       "        <td>Zimmermann</td>\n",
       "        <td>43.62</td>\n",
       "    </tr>\n",
       "    <tr>\n",
       "        <td>Astrid</td>\n",
       "        <td>Gruber</td>\n",
       "        <td>42.62</td>\n",
       "    </tr>\n",
       "    <tr>\n",
       "        <td>Victor</td>\n",
       "        <td>Stevens</td>\n",
       "        <td>42.62</td>\n",
       "    </tr>\n",
       "</table>"
      ],
      "text/plain": [
       "[('Helena', 'Holý', 49.62),\n",
       " ('Richard', 'Cunningham', 47.62),\n",
       " ('Luis', 'Rojas', 46.62),\n",
       " ('Ladislav', 'Kovács', 45.62),\n",
       " ('Hugh', \"O'Reilly\", 45.62),\n",
       " ('Frank', 'Ralston', 43.62),\n",
       " ('Julia', 'Barnett', 43.62),\n",
       " ('Fynn', 'Zimmermann', 43.62),\n",
       " ('Astrid', 'Gruber', 42.62),\n",
       " ('Victor', 'Stevens', 42.62)]"
      ]
     },
     "execution_count": 15,
     "metadata": {},
     "output_type": "execute_result"
    }
   ],
   "source": [
    "%%sql\n",
    "\n",
    "SELECT c.FirstName, c.LastName, round(sum(i.Total),2) AS \"Total Spend\"\n",
    "FROM customers c, invoices i\n",
    "WHERE c.CustomerId = i.CustomerId\n",
    "GROUP BY i.CustomerId\n",
    "ORDER BY [Total Spend] DESC\n",
    "LIMIT 10; -- Remove this line to see the full output "
   ]
  },
  {
   "cell_type": "markdown",
   "metadata": {},
   "source": [
    "Now note that some of the customers that we initially thought were great customers (e.g. `Astrid Gruber`) are no longer there. "
   ]
  },
  {
   "cell_type": "markdown",
   "metadata": {},
   "source": [
    "### 2.2. Grouping by multiple columns\n",
    "Write a query that returns the average unit price of media items in each genre. In English:\n",
    "\n",
    "    return the genre Name column and an average of the unitprice column from the genre and tracks tables, where the genreId in the genre table matches the genreId in the tracks table, and the trackId in the tracks table matches the trackId in the invoice_items table, then group the results first by the track's genreId, and then group the results by the invoice_items unitprice\n",
    "    \n",
    "In SQL:"
   ]
  },
  {
   "cell_type": "code",
   "execution_count": 16,
   "metadata": {
    "jupyter": {
     "outputs_hidden": true
    }
   },
   "outputs": [
    {
     "name": "stdout",
     "output_type": "stream",
     "text": [
      " * sqlite:///chinook.db\n",
      "Done.\n"
     ]
    },
    {
     "data": {
      "text/html": [
       "<table>\n",
       "    <tr>\n",
       "        <th>Name</th>\n",
       "        <th>AVG Price per unit</th>\n",
       "    </tr>\n",
       "    <tr>\n",
       "        <td>Rock</td>\n",
       "        <td>0.99</td>\n",
       "    </tr>\n",
       "    <tr>\n",
       "        <td>Jazz</td>\n",
       "        <td>0.99</td>\n",
       "    </tr>\n",
       "    <tr>\n",
       "        <td>Metal</td>\n",
       "        <td>0.99</td>\n",
       "    </tr>\n",
       "    <tr>\n",
       "        <td>Alternative &amp; Punk</td>\n",
       "        <td>0.99</td>\n",
       "    </tr>\n",
       "    <tr>\n",
       "        <td>Rock And Roll</td>\n",
       "        <td>0.99</td>\n",
       "    </tr>\n",
       "    <tr>\n",
       "        <td>Blues</td>\n",
       "        <td>0.99</td>\n",
       "    </tr>\n",
       "    <tr>\n",
       "        <td>Latin</td>\n",
       "        <td>0.99</td>\n",
       "    </tr>\n",
       "    <tr>\n",
       "        <td>Reggae</td>\n",
       "        <td>0.99</td>\n",
       "    </tr>\n",
       "    <tr>\n",
       "        <td>Pop</td>\n",
       "        <td>0.99</td>\n",
       "    </tr>\n",
       "    <tr>\n",
       "        <td>Soundtrack</td>\n",
       "        <td>0.99</td>\n",
       "    </tr>\n",
       "</table>"
      ],
      "text/plain": [
       "[('Rock', 0.99),\n",
       " ('Jazz', 0.99),\n",
       " ('Metal', 0.99),\n",
       " ('Alternative & Punk', 0.99),\n",
       " ('Rock And Roll', 0.99),\n",
       " ('Blues', 0.99),\n",
       " ('Latin', 0.99),\n",
       " ('Reggae', 0.99),\n",
       " ('Pop', 0.99),\n",
       " ('Soundtrack', 0.99)]"
      ]
     },
     "execution_count": 16,
     "metadata": {},
     "output_type": "execute_result"
    }
   ],
   "source": [
    "%%sql\n",
    "\n",
    "SELECT g.Name, round(avg(i.UnitPrice),2) AS \"AVG Price per unit\"\n",
    "FROM genres g, tracks t, invoice_items i\n",
    "WHERE g.GenreId = t.GenreId\n",
    "    AND t.TrackId = i.TrackId\n",
    "GROUP BY t.GenreId, i.UnitPrice\n",
    "LIMIT 10; -- Remove this line to see the full output "
   ]
  },
  {
   "cell_type": "markdown",
   "metadata": {},
   "source": [
    "In this query, the information we need is spread across 3 tables. As such, we have used the WHERE clause to connect and align the information between them. When the GROUP BY clause is supplied with multiple columns with, it will group by each column consecutively starting with the leftmost column to the right. "
   ]
  },
  {
   "cell_type": "markdown",
   "metadata": {},
   "source": [
    "### 3. The HAVING Clause\n",
    "\n",
    "Until now, we've been using the WHERE clause to return only the rows that meet a set of conditions. However, what we haven't been able to do is to specify conditions on aggregated rows (particularly rows that result from a GROUP BY clause), this is where the HAVING clause comes in. It works exactly like the WHERE clause but will operate on aggregated rows. As such, the HAVING clause always has to follow the GROUP BY clause, not the other way round. A standard HAVING clause will take on the following format:\n",
    "\n",
    "```\n",
    "SELECT columns\n",
    "FROM tables\n",
    "WHERE boolean expression\n",
    "GROUP BY columns \n",
    "HAVING boolean expression\n",
    "```\n",
    "\n",
    "Let's see some examples:"
   ]
  },
  {
   "cell_type": "markdown",
   "metadata": {},
   "source": [
    "### 3.1. Filtering the results of the group by clause\n",
    "\n",
    "Write a query that returns the countries with 5 or more customers. In English:\n",
    "\n",
    "    return a count of the CustomerId column, the country column from the customers table, group the results by the country name, and display only the countries with a count greater than or equal to 5\n",
    "    \n",
    "In SQL:"
   ]
  },
  {
   "cell_type": "code",
   "execution_count": 17,
   "metadata": {},
   "outputs": [
    {
     "name": "stdout",
     "output_type": "stream",
     "text": [
      " * sqlite:///chinook.db\n",
      "Done.\n"
     ]
    },
    {
     "data": {
      "text/html": [
       "<table>\n",
       "    <tr>\n",
       "        <th>count(CustomerId)</th>\n",
       "        <th>Country</th>\n",
       "    </tr>\n",
       "    <tr>\n",
       "        <td>5</td>\n",
       "        <td>Brazil</td>\n",
       "    </tr>\n",
       "    <tr>\n",
       "        <td>8</td>\n",
       "        <td>Canada</td>\n",
       "    </tr>\n",
       "    <tr>\n",
       "        <td>5</td>\n",
       "        <td>France</td>\n",
       "    </tr>\n",
       "    <tr>\n",
       "        <td>13</td>\n",
       "        <td>USA</td>\n",
       "    </tr>\n",
       "</table>"
      ],
      "text/plain": [
       "[(5, 'Brazil'), (8, 'Canada'), (5, 'France'), (13, 'USA')]"
      ]
     },
     "execution_count": 17,
     "metadata": {},
     "output_type": "execute_result"
    }
   ],
   "source": [
    "%%sql \n",
    "\n",
    "SELECT count(CustomerId), Country\n",
    "FROM customers\n",
    "GROUP BY Country\n",
    "HAVING COUNT(CustomerId) >= 5;"
   ]
  },
  {
   "cell_type": "markdown",
   "metadata": {},
   "source": [
    "## Conclusion\n",
    "\n",
    "In this train we have learned how to perform basic calculations within our SQL queries, how to sort query results in ascending or descending order, how to group data by the unique values of one or more columns, and lastly, how to place conditions on grouped rows of data."
   ]
  },
  {
   "cell_type": "markdown",
   "metadata": {},
   "source": [
    "## Additional Links "
   ]
  },
  {
   "cell_type": "markdown",
   "metadata": {},
   "source": [
    "- [Built-in Functions](https://db.apache.org/derby/docs/10.13/ref/rrefsqlj29026.html) \n",
    "- [The GROUP BY clause](https://db.apache.org/derby/docs/10.13/ref/rrefsqlj32654.html)\n",
    "- [The ORDER BY clause](https://db.apache.org/derby/docs/10.13/ref/rrefsqlj13658.html)\n",
    "- [The HAVING clause](https://db.apache.org/derby/docs/10.13/ref/rrefsqlj14854.html)"
   ]
  }
 ],
 "metadata": {
  "kernelspec": {
   "display_name": "Python 3 (ipykernel)",
   "language": "python",
   "name": "python3"
  },
  "language_info": {
   "codemirror_mode": {
    "name": "ipython",
    "version": 3
   },
   "file_extension": ".py",
   "mimetype": "text/x-python",
   "name": "python",
   "nbconvert_exporter": "python",
   "pygments_lexer": "ipython3",
   "version": "3.9.13"
  }
 },
 "nbformat": 4,
 "nbformat_minor": 4
}
