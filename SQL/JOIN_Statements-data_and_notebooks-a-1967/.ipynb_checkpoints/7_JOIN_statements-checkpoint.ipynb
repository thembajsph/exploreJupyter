{
 "cells": [
  {
   "cell_type": "markdown",
   "metadata": {},
   "source": [
    "# JOIN statements\n",
    "© Explore Data Science Academy"
   ]
  },
  {
   "cell_type": "markdown",
   "metadata": {},
   "source": [
    "## Learning Objectives\n",
    "\n",
    "In this train we will explore different SQL JOIN statements:\n",
    "\n",
    "- Inner JOIN \n",
    "- Left JOIN\n",
    "- Cross JOIN\n",
    "- Full outer JOIN\n",
    "- Union operator\n",
    "\n",
    "## Outline\n",
    "This train is structured as follows:\n",
    "\n",
    "- Inner JOIN - Finding common information between tables\n",
    "- Left JOIN - Checking for missing information\n",
    "- Cross JOIN - Finding combinations of table rows\n",
    "- Union operator - Stacking the rows of similar tables\n",
    "- Full outer JOIN - Finding the column-wise Union of two tables"
   ]
  },
  {
   "cell_type": "markdown",
   "metadata": {},
   "source": [
    "### Loading the database\n",
    "Load SQL magic commands"
   ]
  },
  {
   "cell_type": "code",
   "execution_count": 1,
   "metadata": {},
   "outputs": [],
   "source": [
    "%load_ext sql"
   ]
  },
  {
   "cell_type": "markdown",
   "metadata": {},
   "source": [
    "Load Chinook SQLite database"
   ]
  },
  {
   "cell_type": "code",
   "execution_count": 2,
   "metadata": {},
   "outputs": [],
   "source": [
    "%%sql \n",
    "\n",
    "sqlite:///chinook.db"
   ]
  },
  {
   "cell_type": "markdown",
   "metadata": {},
   "source": [
    "Chinook database ER diagram:\n",
    "\n",
    "<img src=\"https://github.com/Explore-AI/Pictures/blob/master/sqlite-sample-database-color.jpg?raw=true\" width=70%/>\n",
    "\n",
    "_[Image source](https://www.sqlitetutorial.net/sqlite-sample-database/)_"
   ]
  },
  {
   "cell_type": "markdown",
   "metadata": {},
   "source": [
    "## JOIN Statements\n",
    "\n",
    "A JOIN statement is a query that returns records from two tables in the form of a single table. Joins are performed using **keys** as the link. There are four main join statements, namely: the left, right, inner and outer join. In this train, we explore them in detail and provide examples of what the SQL queries for implementing them look like. \n",
    "Previously, to write queries spanning multiple tables we had to connect the designated tables through adding conditions in the `WHERE` clause that aligned data (i.e. records) between tables that shared the same value for a given column. JOIN statements are a much faster and efficient way of connecting tables in the same way. We also don't have to worry about in-between connections over the tables.\n",
    "\n",
    "Join statements in SQL are closely related to **set operations** where we regard each of the tables to be joined as a set, and then define the JOIN as an a set operation around overlapping data between the two tables. \n",
    "\n",
    "The general syntax of a JOIN statement is as follows:\n",
    "\n",
    "```sql\n",
    "SELECT column(s)\n",
    "FROM table1\n",
    "<join_type> JOIN table2\n",
    "ON <Join condition>\n",
    "```"
   ]
  },
  {
   "cell_type": "markdown",
   "metadata": {},
   "source": [
    "## 1. INNER JOIN\n",
    "\n",
    "An INNER JOIN gives the intersection of the two tables, returning the records that have matching values along a given column in both tables. \n",
    "\n",
    "Finding the INNER JOIN of two tables is the same as finding the intersection of the two tables. \n",
    "\n",
    "Let's consider some examples:\n",
    "\n",
    "### 1.1 Finding common information between tables\n",
    "Sometimes artists add a title track to their albums. This is a track that has the same title as the album. Let' write a query that returns albums that have a title track. In English:\n",
    "\n",
    "    Return rows in the AlbumId column from the albums table, Title from the albums table, and the Name from the tracks table, where the album table Title column matches the tracks table Name column.\n",
    "    \n",
    "In SQL:"
   ]
  },
  {
   "cell_type": "code",
   "execution_count": 4,
   "metadata": {},
   "outputs": [
    {
     "name": "stdout",
     "output_type": "stream",
     "text": [
      " * sqlite:///chinook.db\n",
      "Done.\n"
     ]
    },
    {
     "data": {
      "text/html": [
       "<table>\n",
       "    <tr>\n",
       "        <th>AlbumId</th>\n",
       "        <th>Album Title</th>\n",
       "        <th>Track Name</th>\n",
       "    </tr>\n",
       "    <tr>\n",
       "        <td>2</td>\n",
       "        <td>Balls to the Wall</td>\n",
       "        <td>Balls to the Wall</td>\n",
       "    </tr>\n",
       "    <tr>\n",
       "        <td>3</td>\n",
       "        <td>Restless and Wild</td>\n",
       "        <td>Restless and Wild</td>\n",
       "    </tr>\n",
       "    <tr>\n",
       "        <td>4</td>\n",
       "        <td>Let There Be Rock</td>\n",
       "        <td>Let There Be Rock</td>\n",
       "    </tr>\n",
       "    <tr>\n",
       "        <td>152</td>\n",
       "        <td>Master Of Puppets</td>\n",
       "        <td>Master Of Puppets</td>\n",
       "    </tr>\n",
       "    <tr>\n",
       "        <td>11</td>\n",
       "        <td>Out Of Exile</td>\n",
       "        <td>Out Of Exile</td>\n",
       "    </tr>\n",
       "    <tr>\n",
       "        <td>16</td>\n",
       "        <td>Black Sabbath</td>\n",
       "        <td>Black Sabbath</td>\n",
       "    </tr>\n",
       "    <tr>\n",
       "        <td>18</td>\n",
       "        <td>Body Count</td>\n",
       "        <td>Body Count</td>\n",
       "    </tr>\n",
       "    <tr>\n",
       "        <td>19</td>\n",
       "        <td>Chemical Wedding</td>\n",
       "        <td>Chemical Wedding</td>\n",
       "    </tr>\n",
       "    <tr>\n",
       "        <td>21</td>\n",
       "        <td>Prenda Minha</td>\n",
       "        <td>Prenda Minha</td>\n",
       "    </tr>\n",
       "    <tr>\n",
       "        <td>23</td>\n",
       "        <td>Minha Historia</td>\n",
       "        <td>Minha Historia</td>\n",
       "    </tr>\n",
       "</table>"
      ],
      "text/plain": [
       "[(2, 'Balls to the Wall', 'Balls to the Wall'),\n",
       " (3, 'Restless and Wild', 'Restless and Wild'),\n",
       " (4, 'Let There Be Rock', 'Let There Be Rock'),\n",
       " (152, 'Master Of Puppets', 'Master Of Puppets'),\n",
       " (11, 'Out Of Exile', 'Out Of Exile'),\n",
       " (16, 'Black Sabbath', 'Black Sabbath'),\n",
       " (18, 'Body Count', 'Body Count'),\n",
       " (19, 'Chemical Wedding', 'Chemical Wedding'),\n",
       " (21, 'Prenda Minha', 'Prenda Minha'),\n",
       " (23, 'Minha Historia', 'Minha Historia')]"
      ]
     },
     "execution_count": 4,
     "metadata": {},
     "output_type": "execute_result"
    }
   ],
   "source": [
    "%%sql\n",
    "\n",
    "SELECT a.AlbumId, a.Title AS \"Album Title\", t.Name AS \"Track Name\" \n",
    "FROM albums a\n",
    "INNER JOIN tracks AS t\n",
    "ON a.Title = t.Name\n",
    "LIMIT 10;  -- Remove this line to see the full query output"
   ]
  },
  {
   "cell_type": "markdown",
   "metadata": {},
   "source": [
    "As expected, our query returned only the rows from both tables that have the same value on the joining column. Another way to state this is that the query has excluded albums that don't have a title track and tracks that don't have the same name as the album."
   ]
  },
  {
   "cell_type": "markdown",
   "metadata": {},
   "source": [
    "### 1.2. Joining multiple tables\n",
    "Suppose that in the previous example, we were additionally interested in knowing who the artists of the listed albums are. Let's write a query that can achieve this. In English:\n",
    "\n",
    "    Return rows in the AlbumId from the albums table, Title from the albums table, the Name from the tracks table, and the Name from the artists table, where the album table Title column matches the tracks table Name column, and the artists table Name column where the artists table ArtistId is equal to the album table ArtistId.\n",
    "    \n",
    "In SQL:"
   ]
  },
  {
   "cell_type": "code",
   "execution_count": 5,
   "metadata": {},
   "outputs": [
    {
     "name": "stdout",
     "output_type": "stream",
     "text": [
      " * sqlite:///chinook.db\n",
      "Done.\n"
     ]
    },
    {
     "data": {
      "text/html": [
       "<table>\n",
       "    <tr>\n",
       "        <th>AlbumId</th>\n",
       "        <th>Album Title</th>\n",
       "        <th>Track Name</th>\n",
       "        <th>Artist Name</th>\n",
       "    </tr>\n",
       "    <tr>\n",
       "        <td>2</td>\n",
       "        <td>Balls to the Wall</td>\n",
       "        <td>Balls to the Wall</td>\n",
       "        <td>Accept</td>\n",
       "    </tr>\n",
       "    <tr>\n",
       "        <td>3</td>\n",
       "        <td>Restless and Wild</td>\n",
       "        <td>Restless and Wild</td>\n",
       "        <td>Accept</td>\n",
       "    </tr>\n",
       "    <tr>\n",
       "        <td>4</td>\n",
       "        <td>Let There Be Rock</td>\n",
       "        <td>Let There Be Rock</td>\n",
       "        <td>AC/DC</td>\n",
       "    </tr>\n",
       "    <tr>\n",
       "        <td>11</td>\n",
       "        <td>Out Of Exile</td>\n",
       "        <td>Out Of Exile</td>\n",
       "        <td>Audioslave</td>\n",
       "    </tr>\n",
       "    <tr>\n",
       "        <td>16</td>\n",
       "        <td>Black Sabbath</td>\n",
       "        <td>Black Sabbath</td>\n",
       "        <td>Black Sabbath</td>\n",
       "    </tr>\n",
       "    <tr>\n",
       "        <td>16</td>\n",
       "        <td>Black Sabbath</td>\n",
       "        <td>Black Sabbath</td>\n",
       "        <td>Black Sabbath</td>\n",
       "    </tr>\n",
       "    <tr>\n",
       "        <td>18</td>\n",
       "        <td>Body Count</td>\n",
       "        <td>Body Count</td>\n",
       "        <td>Body Count</td>\n",
       "    </tr>\n",
       "    <tr>\n",
       "        <td>19</td>\n",
       "        <td>Chemical Wedding</td>\n",
       "        <td>Chemical Wedding</td>\n",
       "        <td>Bruce Dickinson</td>\n",
       "    </tr>\n",
       "    <tr>\n",
       "        <td>21</td>\n",
       "        <td>Prenda Minha</td>\n",
       "        <td>Prenda Minha</td>\n",
       "        <td>Caetano Veloso</td>\n",
       "    </tr>\n",
       "    <tr>\n",
       "        <td>23</td>\n",
       "        <td>Minha Historia</td>\n",
       "        <td>Minha Historia</td>\n",
       "        <td>Chico Buarque</td>\n",
       "    </tr>\n",
       "</table>"
      ],
      "text/plain": [
       "[(2, 'Balls to the Wall', 'Balls to the Wall', 'Accept'),\n",
       " (3, 'Restless and Wild', 'Restless and Wild', 'Accept'),\n",
       " (4, 'Let There Be Rock', 'Let There Be Rock', 'AC/DC'),\n",
       " (11, 'Out Of Exile', 'Out Of Exile', 'Audioslave'),\n",
       " (16, 'Black Sabbath', 'Black Sabbath', 'Black Sabbath'),\n",
       " (16, 'Black Sabbath', 'Black Sabbath', 'Black Sabbath'),\n",
       " (18, 'Body Count', 'Body Count', 'Body Count'),\n",
       " (19, 'Chemical Wedding', 'Chemical Wedding', 'Bruce Dickinson'),\n",
       " (21, 'Prenda Minha', 'Prenda Minha', 'Caetano Veloso'),\n",
       " (23, 'Minha Historia', 'Minha Historia', 'Chico Buarque')]"
      ]
     },
     "execution_count": 5,
     "metadata": {},
     "output_type": "execute_result"
    }
   ],
   "source": [
    "%%sql\n",
    "\n",
    "SELECT a.AlbumId, a.Title AS \"Album Title\", t.Name AS \"Track Name\", ar.Name AS \"Artist Name\"\n",
    "FROM albums AS a\n",
    "INNER JOIN tracks AS t\n",
    "ON a.Title = t.Name\n",
    "INNER JOIN artists AS ar\n",
    "ON ar.ArtistId = a.ArtistId\n",
    "LIMIT 10;  -- Remove this line to see the full query output"
   ]
  },
  {
   "cell_type": "markdown",
   "metadata": {},
   "source": [
    "Other types of JOINS can be concatenated in the same way. "
   ]
  },
  {
   "cell_type": "markdown",
   "metadata": {},
   "source": [
    "## 2. LEFT JOIN\n",
    "\n",
    "When joining two tables, A LEFT JOIN returns all records from the left table (table 1) and matched records from the right table (table 2).\n",
    "\n",
    "If no match is found, then the result from the right table is NULL on that row. \n",
    "\n",
    "### 2.1. Checking for missing information\n",
    "One use case for a LEFT JOIN is that it can be used to check for missing information. In this case, let's try to find out what media items have not been bought yet (i.e. are not an item in any invoice). \n",
    "\n",
    "**Note that we limit our query results to 10 rows in order to make our output more legible*"
   ]
  },
  {
   "cell_type": "code",
   "execution_count": 6,
   "metadata": {},
   "outputs": [
    {
     "name": "stdout",
     "output_type": "stream",
     "text": [
      " * sqlite:///chinook.db\n",
      "Done.\n"
     ]
    },
    {
     "data": {
      "text/html": [
       "<table>\n",
       "    <tr>\n",
       "        <th>TrackId</th>\n",
       "        <th>InvoiceId</th>\n",
       "    </tr>\n",
       "    <tr>\n",
       "        <td>1</td>\n",
       "        <td>108</td>\n",
       "    </tr>\n",
       "    <tr>\n",
       "        <td>6</td>\n",
       "        <td>2</td>\n",
       "    </tr>\n",
       "    <tr>\n",
       "        <td>7</td>\n",
       "        <td>None</td>\n",
       "    </tr>\n",
       "    <tr>\n",
       "        <td>8</td>\n",
       "        <td>2</td>\n",
       "    </tr>\n",
       "    <tr>\n",
       "        <td>8</td>\n",
       "        <td>214</td>\n",
       "    </tr>\n",
       "    <tr>\n",
       "        <td>9</td>\n",
       "        <td>108</td>\n",
       "    </tr>\n",
       "    <tr>\n",
       "        <td>9</td>\n",
       "        <td>319</td>\n",
       "    </tr>\n",
       "    <tr>\n",
       "        <td>10</td>\n",
       "        <td>2</td>\n",
       "    </tr>\n",
       "    <tr>\n",
       "        <td>11</td>\n",
       "        <td>None</td>\n",
       "    </tr>\n",
       "    <tr>\n",
       "        <td>12</td>\n",
       "        <td>2</td>\n",
       "    </tr>\n",
       "</table>"
      ],
      "text/plain": [
       "[(1, 108),\n",
       " (6, 2),\n",
       " (7, None),\n",
       " (8, 2),\n",
       " (8, 214),\n",
       " (9, 108),\n",
       " (9, 319),\n",
       " (10, 2),\n",
       " (11, None),\n",
       " (12, 2)]"
      ]
     },
     "execution_count": 6,
     "metadata": {},
     "output_type": "execute_result"
    }
   ],
   "source": [
    "%%sql\n",
    "\n",
    "SELECT t.TrackId, ii.InvoiceId \n",
    "FROM tracks t\n",
    "LEFT JOIN invoice_items ii\n",
    "ON t.TrackId = ii.TrackId\n",
    "LIMIT 10;  -- Remove this line to see the full query output"
   ]
  },
  {
   "cell_type": "markdown",
   "metadata": {},
   "source": [
    "In the results, the tracks that have a value of `None` (i.e. `NULL`) for InvoiceId are the ones that have not been purchased yet. If we want to only focus on these 'unpopular' tracks, we can do that by adding a WHERE clause as follows:"
   ]
  },
  {
   "cell_type": "code",
   "execution_count": 7,
   "metadata": {},
   "outputs": [
    {
     "name": "stdout",
     "output_type": "stream",
     "text": [
      " * sqlite:///chinook.db\n",
      "Done.\n"
     ]
    },
    {
     "data": {
      "text/html": [
       "<table>\n",
       "    <tr>\n",
       "        <th>TrackId</th>\n",
       "        <th>InvoiceId</th>\n",
       "    </tr>\n",
       "    <tr>\n",
       "        <td>7</td>\n",
       "        <td>None</td>\n",
       "    </tr>\n",
       "    <tr>\n",
       "        <td>11</td>\n",
       "        <td>None</td>\n",
       "    </tr>\n",
       "    <tr>\n",
       "        <td>17</td>\n",
       "        <td>None</td>\n",
       "    </tr>\n",
       "    <tr>\n",
       "        <td>18</td>\n",
       "        <td>None</td>\n",
       "    </tr>\n",
       "    <tr>\n",
       "        <td>22</td>\n",
       "        <td>None</td>\n",
       "    </tr>\n",
       "    <tr>\n",
       "        <td>23</td>\n",
       "        <td>None</td>\n",
       "    </tr>\n",
       "    <tr>\n",
       "        <td>27</td>\n",
       "        <td>None</td>\n",
       "    </tr>\n",
       "    <tr>\n",
       "        <td>29</td>\n",
       "        <td>None</td>\n",
       "    </tr>\n",
       "    <tr>\n",
       "        <td>33</td>\n",
       "        <td>None</td>\n",
       "    </tr>\n",
       "    <tr>\n",
       "        <td>34</td>\n",
       "        <td>None</td>\n",
       "    </tr>\n",
       "</table>"
      ],
      "text/plain": [
       "[(7, None),\n",
       " (11, None),\n",
       " (17, None),\n",
       " (18, None),\n",
       " (22, None),\n",
       " (23, None),\n",
       " (27, None),\n",
       " (29, None),\n",
       " (33, None),\n",
       " (34, None)]"
      ]
     },
     "execution_count": 7,
     "metadata": {},
     "output_type": "execute_result"
    }
   ],
   "source": [
    "%%sql\n",
    "\n",
    "SELECT t.TrackId, ii.InvoiceId \n",
    "FROM tracks AS t\n",
    "LEFT JOIN invoice_items AS ii\n",
    "ON t.TrackId = ii.TrackId\n",
    "WHERE ii.InvoiceId IS NULL\n",
    "LIMIT 10;  -- Remove this line to see the full query output"
   ]
  },
  {
   "cell_type": "markdown",
   "metadata": {},
   "source": [
    "Armed with this information, Chinook can either take down  these 'unpopular' tracks or promote them by recommending them to their customers.\n",
    "\n",
    "A RIGHT JOIN works exactly the same way as a LEFT JOIN except that it keeps all information in the right table instead of the left. We can also easily implement a RIGHT JOIN by swapping the tables around in a LEFT JOIN statement."
   ]
  },
  {
   "cell_type": "markdown",
   "metadata": {},
   "source": [
    "## 3. CROSS JOIN\n",
    "\n",
    "Taking the CROSS JOIN of two or more tables is similar to taking their **cartesian product**. The result is a set of rows containing all possible ordered combinations of rows from the two tables. \n",
    "\n",
    "Let's illustrate this with an example.\n",
    "\n",
    "### 3.1. Finding combinations of table rows\n",
    "Let's suppose that, as part of a new business strategy, Chinook wants to develop new product categories for their media items that are based on genre and media type. To do this, we write a query that will list all possible product categories (i.e. all possible genre and media type combinations)."
   ]
  },
  {
   "cell_type": "code",
   "execution_count": 9,
   "metadata": {},
   "outputs": [
    {
     "name": "stdout",
     "output_type": "stream",
     "text": [
      " * sqlite:///chinook.db\n",
      "Done.\n"
     ]
    },
    {
     "data": {
      "text/html": [
       "<table>\n",
       "    <tr>\n",
       "        <th>Genre</th>\n",
       "        <th>Media Type</th>\n",
       "    </tr>\n",
       "    <tr>\n",
       "        <td>Rock</td>\n",
       "        <td>MPEG audio file</td>\n",
       "    </tr>\n",
       "    <tr>\n",
       "        <td>Rock</td>\n",
       "        <td>Protected AAC audio file</td>\n",
       "    </tr>\n",
       "    <tr>\n",
       "        <td>Rock</td>\n",
       "        <td>Protected MPEG-4 video file</td>\n",
       "    </tr>\n",
       "    <tr>\n",
       "        <td>Rock</td>\n",
       "        <td>Purchased AAC audio file</td>\n",
       "    </tr>\n",
       "    <tr>\n",
       "        <td>Rock</td>\n",
       "        <td>AAC audio file</td>\n",
       "    </tr>\n",
       "    <tr>\n",
       "        <td>Jazz</td>\n",
       "        <td>MPEG audio file</td>\n",
       "    </tr>\n",
       "    <tr>\n",
       "        <td>Jazz</td>\n",
       "        <td>Protected AAC audio file</td>\n",
       "    </tr>\n",
       "    <tr>\n",
       "        <td>Jazz</td>\n",
       "        <td>Protected MPEG-4 video file</td>\n",
       "    </tr>\n",
       "    <tr>\n",
       "        <td>Jazz</td>\n",
       "        <td>Purchased AAC audio file</td>\n",
       "    </tr>\n",
       "    <tr>\n",
       "        <td>Jazz</td>\n",
       "        <td>AAC audio file</td>\n",
       "    </tr>\n",
       "</table>"
      ],
      "text/plain": [
       "[('Rock', 'MPEG audio file'),\n",
       " ('Rock', 'Protected AAC audio file'),\n",
       " ('Rock', 'Protected MPEG-4 video file'),\n",
       " ('Rock', 'Purchased AAC audio file'),\n",
       " ('Rock', 'AAC audio file'),\n",
       " ('Jazz', 'MPEG audio file'),\n",
       " ('Jazz', 'Protected AAC audio file'),\n",
       " ('Jazz', 'Protected MPEG-4 video file'),\n",
       " ('Jazz', 'Purchased AAC audio file'),\n",
       " ('Jazz', 'AAC audio file')]"
      ]
     },
     "execution_count": 9,
     "metadata": {},
     "output_type": "execute_result"
    }
   ],
   "source": [
    "%%sql \n",
    "\n",
    "SELECT g.Name AS \"Genre\", m.Name AS \"Media Type\"\n",
    "FROM genres AS g\n",
    "CROSS JOIN media_types AS m\n",
    "LIMIT 10;  -- Remove this line to see the full query output"
   ]
  },
  {
   "cell_type": "markdown",
   "metadata": {},
   "source": [
    "## 4. UNION\n",
    "The UNION operator is useful for when we need to join tables or query result tables along the vertical axis, i.e., when we want to combine/stack rows from the two tables. However, there are a few rules that we have to follow:\n",
    "\n",
    "1. The number of columns in both tables needs to be equal.\n",
    "2. The columns that we want to combine need to have compatible datatypes.\n",
    "3. We can only apply the ORDER BY clause to the combined (i.e. UNIONised) table and not to the individual tables.\n",
    "4. The GROUP BY clause can only be applied the individual tables (i.e. before the UNION operation) and not the combined result.\n",
    "\n",
    "Let's see what this looks like in practice.\n",
    "\n",
    "### 4.1. Stacking the rows of similar tables\n",
    "We can use the UNION operator to combine information from the tracks and albums tables into a single list as follows:"
   ]
  },
  {
   "cell_type": "code",
   "execution_count": 11,
   "metadata": {},
   "outputs": [
    {
     "name": "stdout",
     "output_type": "stream",
     "text": [
      " * sqlite:///chinook.db\n",
      "Done.\n"
     ]
    },
    {
     "data": {
      "text/html": [
       "<table>\n",
       "    <tr>\n",
       "        <th>AlbumId</th>\n",
       "        <th>Name</th>\n",
       "        <th>Category</th>\n",
       "    </tr>\n",
       "    <tr>\n",
       "        <td>1</td>\n",
       "        <td>Breaking The Rules</td>\n",
       "        <td>Artist</td>\n",
       "    </tr>\n",
       "    <tr>\n",
       "        <td>1</td>\n",
       "        <td>C.O.D.</td>\n",
       "        <td>Artist</td>\n",
       "    </tr>\n",
       "    <tr>\n",
       "        <td>1</td>\n",
       "        <td>Evil Walks</td>\n",
       "        <td>Artist</td>\n",
       "    </tr>\n",
       "    <tr>\n",
       "        <td>1</td>\n",
       "        <td>For Those About To Rock (We Salute You)</td>\n",
       "        <td>Artist</td>\n",
       "    </tr>\n",
       "    <tr>\n",
       "        <td>1</td>\n",
       "        <td>For Those About To Rock We Salute You</td>\n",
       "        <td>Album</td>\n",
       "    </tr>\n",
       "    <tr>\n",
       "        <td>1</td>\n",
       "        <td>Inject The Venom</td>\n",
       "        <td>Artist</td>\n",
       "    </tr>\n",
       "    <tr>\n",
       "        <td>1</td>\n",
       "        <td>Let&#x27;s Get It Up</td>\n",
       "        <td>Artist</td>\n",
       "    </tr>\n",
       "    <tr>\n",
       "        <td>1</td>\n",
       "        <td>Night Of The Long Knives</td>\n",
       "        <td>Artist</td>\n",
       "    </tr>\n",
       "    <tr>\n",
       "        <td>1</td>\n",
       "        <td>Put The Finger On You</td>\n",
       "        <td>Artist</td>\n",
       "    </tr>\n",
       "    <tr>\n",
       "        <td>1</td>\n",
       "        <td>Snowballed</td>\n",
       "        <td>Artist</td>\n",
       "    </tr>\n",
       "</table>"
      ],
      "text/plain": [
       "[(1, 'Breaking The Rules', 'Artist'),\n",
       " (1, 'C.O.D.', 'Artist'),\n",
       " (1, 'Evil Walks', 'Artist'),\n",
       " (1, 'For Those About To Rock (We Salute You)', 'Artist'),\n",
       " (1, 'For Those About To Rock We Salute You', 'Album'),\n",
       " (1, 'Inject The Venom', 'Artist'),\n",
       " (1, \"Let's Get It Up\", 'Artist'),\n",
       " (1, 'Night Of The Long Knives', 'Artist'),\n",
       " (1, 'Put The Finger On You', 'Artist'),\n",
       " (1, 'Snowballed', 'Artist')]"
      ]
     },
     "execution_count": 11,
     "metadata": {},
     "output_type": "execute_result"
    }
   ],
   "source": [
    "%%sql\n",
    "\n",
    "SELECT t.AlbumId, t.Name, \"Artist\" AS \"Category\"\n",
    "FROM tracks AS t\n",
    "\n",
    "UNION\n",
    "\n",
    "SELECT a.AlbumId, a.Title, \"Album\" AS \"Category\"\n",
    "FROM albums AS a\n",
    "\n",
    "LIMIT 10;  -- Remove this line to see the full query output"
   ]
  },
  {
   "cell_type": "markdown",
   "metadata": {},
   "source": [
    "As you can see, the two result tables have been combined into one longer table containing rows from both of them. We aso used a trick here to label where each row came from. First we used `SELECT` on a constant string, which returned a column that has that string for every row in the table. For example: "
   ]
  },
  {
   "cell_type": "code",
   "execution_count": 12,
   "metadata": {},
   "outputs": [
    {
     "name": "stdout",
     "output_type": "stream",
     "text": [
      " * sqlite:///chinook.db\n",
      "Done.\n"
     ]
    },
    {
     "data": {
      "text/html": [
       "<table>\n",
       "    <tr>\n",
       "        <th>Name</th>\n",
       "        <th>Label</th>\n",
       "    </tr>\n",
       "    <tr>\n",
       "        <td>Rock</td>\n",
       "        <td>A string to broadcast</td>\n",
       "    </tr>\n",
       "    <tr>\n",
       "        <td>Jazz</td>\n",
       "        <td>A string to broadcast</td>\n",
       "    </tr>\n",
       "    <tr>\n",
       "        <td>Metal</td>\n",
       "        <td>A string to broadcast</td>\n",
       "    </tr>\n",
       "    <tr>\n",
       "        <td>Alternative &amp; Punk</td>\n",
       "        <td>A string to broadcast</td>\n",
       "    </tr>\n",
       "    <tr>\n",
       "        <td>Rock And Roll</td>\n",
       "        <td>A string to broadcast</td>\n",
       "    </tr>\n",
       "    <tr>\n",
       "        <td>Blues</td>\n",
       "        <td>A string to broadcast</td>\n",
       "    </tr>\n",
       "    <tr>\n",
       "        <td>Latin</td>\n",
       "        <td>A string to broadcast</td>\n",
       "    </tr>\n",
       "    <tr>\n",
       "        <td>Reggae</td>\n",
       "        <td>A string to broadcast</td>\n",
       "    </tr>\n",
       "    <tr>\n",
       "        <td>Pop</td>\n",
       "        <td>A string to broadcast</td>\n",
       "    </tr>\n",
       "    <tr>\n",
       "        <td>Soundtrack</td>\n",
       "        <td>A string to broadcast</td>\n",
       "    </tr>\n",
       "</table>"
      ],
      "text/plain": [
       "[('Rock', 'A string to broadcast'),\n",
       " ('Jazz', 'A string to broadcast'),\n",
       " ('Metal', 'A string to broadcast'),\n",
       " ('Alternative & Punk', 'A string to broadcast'),\n",
       " ('Rock And Roll', 'A string to broadcast'),\n",
       " ('Blues', 'A string to broadcast'),\n",
       " ('Latin', 'A string to broadcast'),\n",
       " ('Reggae', 'A string to broadcast'),\n",
       " ('Pop', 'A string to broadcast'),\n",
       " ('Soundtrack', 'A string to broadcast')]"
      ]
     },
     "execution_count": 12,
     "metadata": {},
     "output_type": "execute_result"
    }
   ],
   "source": [
    "%%sql \n",
    "\n",
    "SELECT Name, \"A string to broadcast\" AS \"Label\"\n",
    "FROM genres\n",
    "LIMIT 10;  -- Remove this line to see the full query output"
   ]
  },
  {
   "cell_type": "markdown",
   "metadata": {},
   "source": [
    "**Broadcasting** a string to all rows of each resulting table in this way means that we can 'label' each row when using the UNION operator."
   ]
  },
  {
   "cell_type": "markdown",
   "metadata": {},
   "source": [
    "The UNION operator will not emit any duplicate rows between the two tables. However, we can include these duplicate rows by adding the `ALL` keyword to the UNION clause, i.e., `UNION ALL`. "
   ]
  },
  {
   "cell_type": "markdown",
   "metadata": {},
   "source": [
    "## 5. OUTER JOIN\n",
    "\n",
    "We perform an OUTER JOIN of two tables when we want to keep all rows from at least one of the tables. There are three types of outer joins:\n",
    "\n",
    "- LEFT OUTER JOIN - this is exactly the same as a LEFT JOIN, it retains all the rows in the left table and only returns values in the right table where the rows have a match on the joining column. Rows without such matches will have NULL values.\n",
    "\n",
    "- RIGHT OUTER JOIN - this is exactly the same as a RIGHT JOIN, it retains all the rows in the right table and only returns values in the left table where the rows have a match on the joining column. Rows without such matches will have NULL values.\n",
    "\n",
    "- FULL OUTER JOIN - this will retain all the rows from both tables where there is a match on the joining column. In other words, a FULL OUTER JOIN is the same as taking the left and right joins of two tables simultaneously. This particular type of join statement is similar to the union set operator. \n",
    "\n",
    "Let's do an example.\n",
    "\n",
    "### 5.1.  FULL OUTER JOIN\n",
    "In some cases, artists will create eponymous albums, i.e., albums with the same name as the artist. Write a query that will highlight all eponymous albums as well as non-eponymous albums.\n",
    "\n",
    "At the moment SQLite does not support the `FULL OUTER JOIN` statement. As such, we will emulate it using a LEFT JOIN and a UNION operator."
   ]
  },
  {
   "cell_type": "code",
   "execution_count": 13,
   "metadata": {},
   "outputs": [
    {
     "name": "stdout",
     "output_type": "stream",
     "text": [
      " * sqlite:///chinook.db\n",
      "Done.\n"
     ]
    },
    {
     "data": {
      "text/html": [
       "<table>\n",
       "    <tr>\n",
       "        <th>Name</th>\n",
       "        <th>Title</th>\n",
       "    </tr>\n",
       "    <tr>\n",
       "        <td>AC/DC</td>\n",
       "        <td>None</td>\n",
       "    </tr>\n",
       "    <tr>\n",
       "        <td>Accept</td>\n",
       "        <td>None</td>\n",
       "    </tr>\n",
       "    <tr>\n",
       "        <td>Aerosmith</td>\n",
       "        <td>None</td>\n",
       "    </tr>\n",
       "    <tr>\n",
       "        <td>Alanis Morissette</td>\n",
       "        <td>None</td>\n",
       "    </tr>\n",
       "    <tr>\n",
       "        <td>Alice In Chains</td>\n",
       "        <td>None</td>\n",
       "    </tr>\n",
       "    <tr>\n",
       "        <td>Antônio Carlos Jobim</td>\n",
       "        <td>None</td>\n",
       "    </tr>\n",
       "    <tr>\n",
       "        <td>Apocalyptica</td>\n",
       "        <td>None</td>\n",
       "    </tr>\n",
       "    <tr>\n",
       "        <td>Audioslave</td>\n",
       "        <td>Audioslave</td>\n",
       "    </tr>\n",
       "    <tr>\n",
       "        <td>BackBeat</td>\n",
       "        <td>None</td>\n",
       "    </tr>\n",
       "    <tr>\n",
       "        <td>Billy Cobham</td>\n",
       "        <td>None</td>\n",
       "    </tr>\n",
       "</table>"
      ],
      "text/plain": [
       "[('AC/DC', None),\n",
       " ('Accept', None),\n",
       " ('Aerosmith', None),\n",
       " ('Alanis Morissette', None),\n",
       " ('Alice In Chains', None),\n",
       " ('Antônio Carlos Jobim', None),\n",
       " ('Apocalyptica', None),\n",
       " ('Audioslave', 'Audioslave'),\n",
       " ('BackBeat', None),\n",
       " ('Billy Cobham', None)]"
      ]
     },
     "execution_count": 13,
     "metadata": {},
     "output_type": "execute_result"
    }
   ],
   "source": [
    "%%sql\n",
    "\n",
    "SELECT ar.Name, a.Title\n",
    "FROM artists ar\n",
    "LEFT JOIN albums AS a\n",
    "ON ar.Name = a.Title\n",
    "\n",
    "UNION ALL\n",
    "\n",
    "SELECT ar.Name, a.Title\n",
    "FROM albums AS a \n",
    "LEFT JOIN artists AS ar\n",
    "ON ar.Name = a.Title\n",
    "\n",
    "LIMIT 10;  -- Remove this line to see the full query output"
   ]
  },
  {
   "cell_type": "markdown",
   "metadata": {},
   "source": [
    "As you can see, this query combines information from both tables. But only has complete information only on rows where the joining condition is satisfied. "
   ]
  },
  {
   "cell_type": "markdown",
   "metadata": {},
   "source": [
    "## Conclusion\n",
    "\n",
    "In this train, we discussed how different tables can be combined along the horizontal and vertical axis using JOIN statements, particularly:\n",
    "- LEFT JOIN\n",
    "- INNER JOIN\n",
    "- CROSS JOIN\n",
    "- UNION\n",
    "- FULL OUTER JOIN\n",
    "\n",
    "JOIN statements can be a powerful tool in SQL when used correctly. It is important to note that key columns are a good starting point when thinking about which columns to join any two tables on."
   ]
  },
  {
   "cell_type": "markdown",
   "metadata": {},
   "source": [
    "## Additional Links "
   ]
  },
  {
   "cell_type": "markdown",
   "metadata": {},
   "source": [
    "- [SQL JOIN statement quick reference](https://db.apache.org/derby/docs/10.13/ref/rrefsqlj29840.html)\n",
    "- [The UNION operator](https://www.sqlitetutorial.net/sqlite-union/)\n",
    "- [Emulating the FULL OUTER JOIN in SQLite](https://www.sqlitetutorial.net/sqlite-full-outer-join/)"
   ]
  }
 ],
 "metadata": {
  "kernelspec": {
   "display_name": "Python 3 (ipykernel)",
   "language": "python",
   "name": "python3"
  },
  "language_info": {
   "codemirror_mode": {
    "name": "ipython",
    "version": 3
   },
   "file_extension": ".py",
   "mimetype": "text/x-python",
   "name": "python",
   "nbconvert_exporter": "python",
   "pygments_lexer": "ipython3",
   "version": "3.9.13"
  }
 },
 "nbformat": 4,
 "nbformat_minor": 4
}
