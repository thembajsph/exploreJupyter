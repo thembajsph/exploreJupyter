{
 "cells": [
  {
   "cell_type": "markdown",
   "metadata": {},
   "source": [
    "# Introduction to Set Theory \n",
    "© Explore Data Science Academy"
   ]
  },
  {
   "cell_type": "markdown",
   "metadata": {},
   "source": [
    "## Objectives\n",
    "In this train you will learn how to:\n",
    "- Understand the use of set theory in SQL;\n",
    "- Learn how to apply the UNION, INTERSECT, and EXCEPT operators on a database;\n",
    "- Understand the rules of set operations in SQL.\n",
    "\n",
    "\n",
    "## Outline\n",
    "This train is structured as follows:\n",
    "- An introduction to set theory \n",
    "- The UNION Operators \n",
    "- The INTERSECT Operators\n",
    "- The EXCEPT Operators "
   ]
  },
  {
   "cell_type": "markdown",
   "metadata": {},
   "source": [
    "## An introduction to set theory \n",
    "\n",
    "Although you can interact with the rows of data from a database table or from multiple tables joined together using JOIN statements, relational databases are really centered around sets. In this train we will be learning about set theory operators namely, `UNION`, `INTERSECT` and `EXCEPT` in SQL. These fundamental operators have been derived from [set theory](https://www.youtube.com/watch?v=tyDKR4FG3Yw) and are used to perform various operations on a database. Before we jump into the use of set operators in SQL, let's go ahead and look at the theory behind it all. \n",
    "\n",
    "### What is a set?\n",
    "\n",
    "- A *set* is a collection of *objects*, each of which is an element of the set. For example:\n",
    "\n",
    "    - The set of outcomes of a single dice roll is {1, 2, 3, 4, 5, 6}. 1 is an element of this set, but 7 is not.\n",
    "\n",
    "    - The set of possible traffic light signals is {Red, Amber, Green}. Green is an element of this set, but Purple is not.\n",
    "    \n",
    "    \n",
    "### Subsets\n",
    "\n",
    "- A subset is a set which is wholly contained in another set.\n",
    "\n",
    "    - In the case of traffic light signal possibilities, i.e., the set: {Red, Amber, Green},  {Red, Green} is a subset of the full set, as are {Amber} and {Amber, Green}.\n",
    "    \n",
    "    - However, {Red, Purple} is not a subset.\n",
    "    \n",
    "    \n",
    "From a set theory perspective, you can consider a database table as a set and each of its rows as individual elements. This way, queries are a way of selecting a desired **subset** or portion of rows of data in the database. In general, the result set of a query can be considered as a new table that has similar characteristics to a standard database table – this query result is now a set and can be used to write new queries. \n",
    "\n",
    "\n",
    "### Set operators\n",
    "\n",
    "**Union**\n",
    "* $A \\cup B$ – union of sets $A$ and $B$; \n",
    "* Combines Table $A$ and Table $B$ removing all duplicates \n",
    "\n",
    "**Intercept**\n",
    "* $A \\cap B$ – intersection of sets $A$ and $B$; \n",
    "* Returns subset found in Table $A$ and Table $B$\n",
    "\n",
    "**Except**\n",
    "* $A$ – $B$ –  everything in set $A$ except set $B$;\n",
    "* Returns Table $A$ minus any overlap with Table $B$.  \n",
    "\n",
    "We are almost there, we just need to go over some rules before we can start using set operators. \n",
    "\n",
    "### Set operation rules\n",
    "\n",
    "These are the set operation rules that must be followed when using the above listed set operators in a query:\n",
    "\n",
    "1. The number of columns in both tables needs to be equal.\n",
    "2. The columns from each table that we want to combine must contain compatible datatypes.\n",
    "3. We can only apply the ORDER BY clause to the combined (i.e. UNIONised) table and not to the individual tables.\n",
    "4. The GROUP BY clause can only be applied the individual tables (i.e. before the UNION operation) and not the combined result.\n",
    "\n",
    "Now that we have all our bases covered, let's explore how each operator works using the Northwind database. "
   ]
  },
  {
   "cell_type": "markdown",
   "metadata": {},
   "source": [
    "## Loading the database\n",
    "Load SQL magic command to set up SQL environment for operations. "
   ]
  },
  {
   "cell_type": "code",
   "execution_count": 1,
   "metadata": {},
   "outputs": [],
   "source": [
    "%load_ext sql"
   ]
  },
  {
   "cell_type": "markdown",
   "metadata": {},
   "source": [
    "Load Northwind SQLite database"
   ]
  },
  {
   "cell_type": "code",
   "execution_count": 2,
   "metadata": {},
   "outputs": [],
   "source": [
    "%%sql \n",
    "\n",
    "sqlite:///Northwind_small.sqlite"
   ]
  },
  {
   "cell_type": "markdown",
   "metadata": {},
   "source": [
    "In this train we will be using the Northwind database, which contains the sales data for a fictitious company called “Northwind Traders,\". The primary operations of the company include global imports and exports of specialty foods. \n",
    "\n",
    "For your convenience, below is an ER diagram of the Northwind database:\n",
    "\n",
    "<img src= \"https://github.com/Explore-AI/Pictures/blob/master/Northwind_ERD.png?raw=true\" width=100%/>\n",
    "\n",
    "\n",
    "\n",
    "_[Source](https://github.com/jpwhite3/northwind-SQLite3)_"
   ]
  },
  {
   "cell_type": "markdown",
   "metadata": {},
   "source": [
    "## The UNION Operator\n",
    "The UNION operator is used to combine table rows from two or more different queries into one result. \n",
    "  \n",
    "Below is a VENN diagram that will help illustrate how the UNION operator works: \n",
    "\n",
    "<img src= \"https://github.com/Explore-AI/Pictures/blob/master/set_union.png?raw=true\" width=70%/>\n",
    "\n",
    "\n",
    "We can define the **union** between Table $A$ and $B$ as $A \\cup B$ - the set of all elements that belong in *either* $A$ or $B$.\n",
    "\n",
    "When a UNION operator is employed, it systematically combines two or more sets together removing any duplication of rows by elimination. However, if you want to keep all rows from both tables (i.e. including duplicates) you can use the `ALL` keyword. We will see how this works in a bit. \n",
    "\n",
    "The general syntax of a `UNION` operator is as follows:\n",
    "\n",
    "```sql\n",
    "SELECT column(s) FROM table 1\n",
    "UNION \n",
    "SELECT column(s) FROM table 2 \n",
    "\n",
    "``` "
   ]
  },
  {
   "cell_type": "markdown",
   "metadata": {},
   "source": [
    "## The UNION of Tables \n",
    "Now that we have learnt the basics of UNION operators let's see what it looks like in practice. \n",
    "\n",
    "We can use the UNION operator to combine information from the customer and supplier tables into a single table. \n"
   ]
  },
  {
   "cell_type": "code",
   "execution_count": 6,
   "metadata": {
    "jupyter": {
     "outputs_hidden": true
    }
   },
   "outputs": [
    {
     "name": "stdout",
     "output_type": "stream",
     "text": [
      " * sqlite:///Northwind_small.sqlite\n",
      "Done.\n"
     ]
    },
    {
     "data": {
      "text/html": [
       "<table>\n",
       "    <tr>\n",
       "        <th>Id</th>\n",
       "        <th>Address</th>\n",
       "        <th>Region</th>\n",
       "        <th>Country</th>\n",
       "        <th>ContactTitle</th>\n",
       "        <th>ContactName</th>\n",
       "    </tr>\n",
       "    <tr>\n",
       "        <td>1</td>\n",
       "        <td>49 Gilbert St.</td>\n",
       "        <td>British Isles</td>\n",
       "        <td>UK</td>\n",
       "        <td>Purchasing Manager</td>\n",
       "        <td>Charlotte Cooper</td>\n",
       "    </tr>\n",
       "    <tr>\n",
       "        <td>2</td>\n",
       "        <td>P.O. Box 78934</td>\n",
       "        <td>North America</td>\n",
       "        <td>USA</td>\n",
       "        <td>Order Administrator</td>\n",
       "        <td>Shelley Burke</td>\n",
       "    </tr>\n",
       "    <tr>\n",
       "        <td>3</td>\n",
       "        <td>707 Oxford Rd.</td>\n",
       "        <td>North America</td>\n",
       "        <td>USA</td>\n",
       "        <td>Sales Representative</td>\n",
       "        <td>Regina Murphy</td>\n",
       "    </tr>\n",
       "    <tr>\n",
       "        <td>4</td>\n",
       "        <td>9-8 Sekimai Musashino-shi</td>\n",
       "        <td>Eastern Asia</td>\n",
       "        <td>Japan</td>\n",
       "        <td>Marketing Manager</td>\n",
       "        <td>Yoshi Nagase</td>\n",
       "    </tr>\n",
       "    <tr>\n",
       "        <td>5</td>\n",
       "        <td>Calle del Rosal 4</td>\n",
       "        <td>Southern Europe</td>\n",
       "        <td>Spain</td>\n",
       "        <td>Export Administrator</td>\n",
       "        <td>Antonio del Valle Saavedra</td>\n",
       "    </tr>\n",
       "    <tr>\n",
       "        <td>6</td>\n",
       "        <td>92 Setsuko Chuo-ku</td>\n",
       "        <td>Eastern Asia</td>\n",
       "        <td>Japan</td>\n",
       "        <td>Marketing Representative</td>\n",
       "        <td>Mayumi Ohno</td>\n",
       "    </tr>\n",
       "    <tr>\n",
       "        <td>7</td>\n",
       "        <td>74 Rose St. Moonie Ponds</td>\n",
       "        <td>Victoria</td>\n",
       "        <td>Australia</td>\n",
       "        <td>Marketing Manager</td>\n",
       "        <td>Ian Devling</td>\n",
       "    </tr>\n",
       "    <tr>\n",
       "        <td>8</td>\n",
       "        <td>29 King&#x27;s Way</td>\n",
       "        <td>British Isles</td>\n",
       "        <td>UK</td>\n",
       "        <td>Sales Representative</td>\n",
       "        <td>Peter Wilson</td>\n",
       "    </tr>\n",
       "    <tr>\n",
       "        <td>9</td>\n",
       "        <td>Kaloadagatan 13</td>\n",
       "        <td>Northern Europe</td>\n",
       "        <td>Sweden</td>\n",
       "        <td>Sales Agent</td>\n",
       "        <td>Lars Peterson</td>\n",
       "    </tr>\n",
       "    <tr>\n",
       "        <td>10</td>\n",
       "        <td>Av. das Americanas 12.890</td>\n",
       "        <td>South America</td>\n",
       "        <td>Brazil</td>\n",
       "        <td>Marketing Manager</td>\n",
       "        <td>Carlos Diaz</td>\n",
       "    </tr>\n",
       "</table>"
      ],
      "text/plain": [
       "[(1, '49 Gilbert St.', 'British Isles', 'UK', 'Purchasing Manager', 'Charlotte Cooper'),\n",
       " (2, 'P.O. Box 78934', 'North America', 'USA', 'Order Administrator', 'Shelley Burke'),\n",
       " (3, '707 Oxford Rd.', 'North America', 'USA', 'Sales Representative', 'Regina Murphy'),\n",
       " (4, '9-8 Sekimai Musashino-shi', 'Eastern Asia', 'Japan', 'Marketing Manager', 'Yoshi Nagase'),\n",
       " (5, 'Calle del Rosal 4', 'Southern Europe', 'Spain', 'Export Administrator', 'Antonio del Valle Saavedra'),\n",
       " (6, '92 Setsuko Chuo-ku', 'Eastern Asia', 'Japan', 'Marketing Representative', 'Mayumi Ohno'),\n",
       " (7, '74 Rose St. Moonie Ponds', 'Victoria', 'Australia', 'Marketing Manager', 'Ian Devling'),\n",
       " (8, \"29 King's Way\", 'British Isles', 'UK', 'Sales Representative', 'Peter Wilson'),\n",
       " (9, 'Kaloadagatan 13', 'Northern Europe', 'Sweden', 'Sales Agent', 'Lars Peterson'),\n",
       " (10, 'Av. das Americanas 12.890', 'South America', 'Brazil', 'Marketing Manager', 'Carlos Diaz')]"
      ]
     },
     "execution_count": 6,
     "metadata": {},
     "output_type": "execute_result"
    }
   ],
   "source": [
    "%%sql \n",
    "\n",
    "SELECT ID, address, region, country, ContactTitle, ContactName  FROM Customer\n",
    "UNION \n",
    "SELECT ID, address, region, country, ContactTitle, ContactName FROM Supplier\n",
    "LIMIT 10; -- Remove this line to see the full query output"
   ]
  },
  {
   "cell_type": "markdown",
   "metadata": {},
   "source": [
    "### Sorting UNION query results\n",
    "We can sort the result of a query by adding the `ORDER` clause after the last query. When specifying column names in the `ORDER BY` clause you will need to choose from the column names in the first table of the query. Let's give this a try. "
   ]
  },
  {
   "cell_type": "code",
   "execution_count": 8,
   "metadata": {
    "jupyter": {
     "outputs_hidden": true
    }
   },
   "outputs": [
    {
     "name": "stdout",
     "output_type": "stream",
     "text": [
      " * sqlite:///Northwind_small.sqlite\n",
      "Done.\n"
     ]
    },
    {
     "data": {
      "text/html": [
       "<table>\n",
       "    <tr>\n",
       "        <th>City</th>\n",
       "        <th>Region</th>\n",
       "    </tr>\n",
       "    <tr>\n",
       "        <td>Albuquerque</td>\n",
       "        <td>North America</td>\n",
       "    </tr>\n",
       "    <tr>\n",
       "        <td>Anchorage</td>\n",
       "        <td>North America</td>\n",
       "    </tr>\n",
       "    <tr>\n",
       "        <td>Ann Arbor</td>\n",
       "        <td>North America</td>\n",
       "    </tr>\n",
       "    <tr>\n",
       "        <td>Bend</td>\n",
       "        <td>North America</td>\n",
       "    </tr>\n",
       "    <tr>\n",
       "        <td>Boise</td>\n",
       "        <td>North America</td>\n",
       "    </tr>\n",
       "    <tr>\n",
       "        <td>Boston</td>\n",
       "        <td>North America</td>\n",
       "    </tr>\n",
       "    <tr>\n",
       "        <td>Butte</td>\n",
       "        <td>North America</td>\n",
       "    </tr>\n",
       "    <tr>\n",
       "        <td>Elgin</td>\n",
       "        <td>North America</td>\n",
       "    </tr>\n",
       "    <tr>\n",
       "        <td>Eugene</td>\n",
       "        <td>North America</td>\n",
       "    </tr>\n",
       "    <tr>\n",
       "        <td>Kirkland</td>\n",
       "        <td>North America</td>\n",
       "    </tr>\n",
       "</table>"
      ],
      "text/plain": [
       "[('Albuquerque', 'North America'),\n",
       " ('Anchorage', 'North America'),\n",
       " ('Ann Arbor', 'North America'),\n",
       " ('Bend', 'North America'),\n",
       " ('Boise', 'North America'),\n",
       " ('Boston', 'North America'),\n",
       " ('Butte', 'North America'),\n",
       " ('Elgin', 'North America'),\n",
       " ('Eugene', 'North America'),\n",
       " ('Kirkland', 'North America')]"
      ]
     },
     "execution_count": 8,
     "metadata": {},
     "output_type": "execute_result"
    }
   ],
   "source": [
    "%%sql \n",
    "\n",
    "SELECT City, Region FROM Customer\n",
    "WHERE Region='North America'\n",
    "UNION\n",
    "SELECT City, Region FROM Supplier\n",
    "WHERE Region='North America'\n",
    "ORDER BY City\n",
    "LIMIT 10; -- Remove this line to see the full query output"
   ]
  },
  {
   "cell_type": "markdown",
   "metadata": {},
   "source": [
    "As mentioned, an extension of the UNION operator is the addition of the `ALL` keyword i.e `UNION ALL` let's put this to practice. "
   ]
  },
  {
   "cell_type": "code",
   "execution_count": 10,
   "metadata": {
    "jupyter": {
     "outputs_hidden": true
    }
   },
   "outputs": [
    {
     "name": "stdout",
     "output_type": "stream",
     "text": [
      " * sqlite:///Northwind_small.sqlite\n",
      "Done.\n"
     ]
    },
    {
     "data": {
      "text/html": [
       "<table>\n",
       "    <tr>\n",
       "        <th>City</th>\n",
       "        <th>Region</th>\n",
       "        <th>Country</th>\n",
       "    </tr>\n",
       "    <tr>\n",
       "        <td>Seattle</td>\n",
       "        <td>North America</td>\n",
       "        <td>USA</td>\n",
       "    </tr>\n",
       "    <tr>\n",
       "        <td>Tacoma</td>\n",
       "        <td>North America</td>\n",
       "        <td>USA</td>\n",
       "    </tr>\n",
       "    <tr>\n",
       "        <td>Kirkland</td>\n",
       "        <td>North America</td>\n",
       "        <td>USA</td>\n",
       "    </tr>\n",
       "    <tr>\n",
       "        <td>Redmond</td>\n",
       "        <td>North America</td>\n",
       "        <td>USA</td>\n",
       "    </tr>\n",
       "    <tr>\n",
       "        <td>London</td>\n",
       "        <td>British Isles</td>\n",
       "        <td>UK</td>\n",
       "    </tr>\n",
       "    <tr>\n",
       "        <td>London</td>\n",
       "        <td>British Isles</td>\n",
       "        <td>UK</td>\n",
       "    </tr>\n",
       "    <tr>\n",
       "        <td>London</td>\n",
       "        <td>British Isles</td>\n",
       "        <td>UK</td>\n",
       "    </tr>\n",
       "    <tr>\n",
       "        <td>Seattle</td>\n",
       "        <td>North America</td>\n",
       "        <td>USA</td>\n",
       "    </tr>\n",
       "    <tr>\n",
       "        <td>London</td>\n",
       "        <td>British Isles</td>\n",
       "        <td>UK</td>\n",
       "    </tr>\n",
       "    <tr>\n",
       "        <td>London</td>\n",
       "        <td>British Isles</td>\n",
       "        <td>UK</td>\n",
       "    </tr>\n",
       "</table>"
      ],
      "text/plain": [
       "[('Seattle', 'North America', 'USA'),\n",
       " ('Tacoma', 'North America', 'USA'),\n",
       " ('Kirkland', 'North America', 'USA'),\n",
       " ('Redmond', 'North America', 'USA'),\n",
       " ('London', 'British Isles', 'UK'),\n",
       " ('London', 'British Isles', 'UK'),\n",
       " ('London', 'British Isles', 'UK'),\n",
       " ('Seattle', 'North America', 'USA'),\n",
       " ('London', 'British Isles', 'UK'),\n",
       " ('London', 'British Isles', 'UK')]"
      ]
     },
     "execution_count": 10,
     "metadata": {},
     "output_type": "execute_result"
    }
   ],
   "source": [
    "%%sql \n",
    "\n",
    "SELECT city, region, country FROM Employee\n",
    "UNION ALL \n",
    "SELECT city, region, country FROM Supplier\n",
    "LIMIT 10; -- Remove this line to see the full query output"
   ]
  },
  {
   "cell_type": "markdown",
   "metadata": {},
   "source": [
    "It's clear to see that this new table contains information combined from the Employee and Supplier tables but unlike the `UNION` operator the `UNION ALL` statement includes all the duplicate entries of Cities taken from both tables.  "
   ]
  },
  {
   "cell_type": "markdown",
   "metadata": {},
   "source": [
    "## The INTERSECT Operator\n",
    "\n",
    "An INTERSECT operator is used to returns rows that are in common between two tables; it returns only the unique rows that are in both Table A *and* Table B. This operator proves imperative when you want to find results that are in common between two queries, saving the subset to a new table.  \n",
    "\n",
    "Below is a VENN diagram that will help illustrate how the INTERSECT operator works: \n",
    "\n",
    "<img src= \"https://github.com/Explore-AI/Pictures/blob/master/intersect.png?raw=true\" width=70%/>\n",
    "\n",
    "$A \\cap B$ – intersection of sets $A$ and $B$- An intersection results in a new table containing only the shared rows from Table A and Table B. \n",
    "\n",
    "The general syntax of a INTERSECT operator is as follows:\n",
    "\n",
    "```sql\n",
    "SELECT column(s) FROM table 1\n",
    "INTERSECT\n",
    "SELECT column(s) FROM table 2 \n",
    "\n",
    "```"
   ]
  },
  {
   "cell_type": "markdown",
   "metadata": {},
   "source": [
    "## The INTERSECTION of Tables \n",
    "\n",
    "Often there is correlation in the supply and demand of goods when customers and employees are from the same Region and City. Let's verify this fact using the INTERSECT operator:"
   ]
  },
  {
   "cell_type": "code",
   "execution_count": 11,
   "metadata": {},
   "outputs": [
    {
     "name": "stdout",
     "output_type": "stream",
     "text": [
      " * sqlite:///Northwind_small.sqlite\n",
      "Done.\n"
     ]
    },
    {
     "data": {
      "text/html": [
       "<table>\n",
       "    <tr>\n",
       "        <th>Region</th>\n",
       "        <th>City</th>\n",
       "    </tr>\n",
       "    <tr>\n",
       "        <td>North America</td>\n",
       "        <td>Kirkland</td>\n",
       "    </tr>\n",
       "    <tr>\n",
       "        <td>British Isles</td>\n",
       "        <td>London</td>\n",
       "    </tr>\n",
       "    <tr>\n",
       "        <td>North America</td>\n",
       "        <td>Seattle</td>\n",
       "    </tr>\n",
       "</table>"
      ],
      "text/plain": [
       "[('North America', 'Kirkland'),\n",
       " ('British Isles', 'London'),\n",
       " ('North America', 'Seattle')]"
      ]
     },
     "execution_count": 11,
     "metadata": {},
     "output_type": "execute_result"
    }
   ],
   "source": [
    "%%sql \n",
    "\n",
    "SELECT Region, City\n",
    "FROM Customer\n",
    "INTERSECT \n",
    "SELECT Region, City\n",
    "FROM Employee\n",
    "ORDER BY City"
   ]
  },
  {
   "cell_type": "markdown",
   "metadata": {},
   "source": [
    "In a similar way, we can find the Countries where there is a correlation between customers and employees. "
   ]
  },
  {
   "cell_type": "code",
   "execution_count": 12,
   "metadata": {},
   "outputs": [
    {
     "name": "stdout",
     "output_type": "stream",
     "text": [
      " * sqlite:///Northwind_small.sqlite\n",
      "Done.\n"
     ]
    },
    {
     "data": {
      "text/html": [
       "<table>\n",
       "    <tr>\n",
       "        <th>Country</th>\n",
       "    </tr>\n",
       "    <tr>\n",
       "        <td>UK</td>\n",
       "    </tr>\n",
       "    <tr>\n",
       "        <td>USA</td>\n",
       "    </tr>\n",
       "</table>"
      ],
      "text/plain": [
       "[('UK',), ('USA',)]"
      ]
     },
     "execution_count": 12,
     "metadata": {},
     "output_type": "execute_result"
    }
   ],
   "source": [
    "%%sql \n",
    "\n",
    "SELECT Country FROM Customer\n",
    "INTERSECT \n",
    "SELECT Country FROM Employee"
   ]
  },
  {
   "cell_type": "markdown",
   "metadata": {},
   "source": [
    "As expected, there is a correlation in employees and customers from the UK and USA, this may be due to larger companies taking on more employees in these regions where there is a high demand for goods by customers. Now that we have learned about the UNION and INTERSECT operator, let's discuss the EXCEPT operator next."
   ]
  },
  {
   "cell_type": "markdown",
   "metadata": {},
   "source": [
    "## The EXCEPT Operator \n",
    "\n",
    "Just like the UNION and INTERSECT operator, the EXCEPT operator has its own set of uses in SQL queries. \n",
    "\n",
    "The EXCEPT operator is employed to return all records from one table, while excluding all alike records from another. It returns rows that are unique to one table.  When an EXCEPT operator is executed, it will include all rows in TABLE A, excluding all the rows it has in common with TABLE B. \n",
    "\n",
    "Below is a VENN diagram that will help illustrate how the EXCEPT operator works:\n",
    "\n",
    "<img src= \"https://github.com/Explore-AI/Pictures/blob/master/Except.png?raw=true\" width=70%/> \n",
    "\n",
    "The general syntax of the EXCEPT operator is as follows:\n",
    "\n",
    "```sql\n",
    "SELECT column(s) FROM table 1\n",
    "EXCEPT\n",
    "SELECT column(s) FROM table 2 \n",
    "```"
   ]
  },
  {
   "cell_type": "markdown",
   "metadata": {},
   "source": [
    "## The EXCEPTION between Tables\n",
    "\n",
    "We can use the EXCEPT statement to exclude commonly shared postal codes, regions and cities between the customer and employee tables. The information generated from this query may highlight the regional areas in a Country where potential company branches can be opened to meet the needs of customers. "
   ]
  },
  {
   "cell_type": "code",
   "execution_count": 14,
   "metadata": {
    "jupyter": {
     "outputs_hidden": true
    }
   },
   "outputs": [
    {
     "name": "stdout",
     "output_type": "stream",
     "text": [
      " * sqlite:///Northwind_small.sqlite\n",
      "Done.\n"
     ]
    },
    {
     "data": {
      "text/html": [
       "<table>\n",
       "    <tr>\n",
       "        <th>PostalCode</th>\n",
       "        <th>Regional area</th>\n",
       "        <th>City</th>\n",
       "    </tr>\n",
       "    <tr>\n",
       "        <td>52066</td>\n",
       "        <td>Western Europe</td>\n",
       "        <td>Aachen</td>\n",
       "    </tr>\n",
       "    <tr>\n",
       "        <td>87110</td>\n",
       "        <td>North America</td>\n",
       "        <td>Albuquerque</td>\n",
       "    </tr>\n",
       "    <tr>\n",
       "        <td>99508</td>\n",
       "        <td>North America</td>\n",
       "        <td>Anchorage</td>\n",
       "    </tr>\n",
       "    <tr>\n",
       "        <td>08022</td>\n",
       "        <td>Southern Europe</td>\n",
       "        <td>Barcelona</td>\n",
       "    </tr>\n",
       "    <tr>\n",
       "        <td>3508</td>\n",
       "        <td>South America</td>\n",
       "        <td>Barquisimeto</td>\n",
       "    </tr>\n",
       "    <tr>\n",
       "        <td>24100</td>\n",
       "        <td>Southern Europe</td>\n",
       "        <td>Bergamo</td>\n",
       "    </tr>\n",
       "    <tr>\n",
       "        <td>12209</td>\n",
       "        <td>Western Europe</td>\n",
       "        <td>Berlin</td>\n",
       "    </tr>\n",
       "    <tr>\n",
       "        <td>3012</td>\n",
       "        <td>Western Europe</td>\n",
       "        <td>Bern</td>\n",
       "    </tr>\n",
       "    <tr>\n",
       "        <td>83720</td>\n",
       "        <td>North America</td>\n",
       "        <td>Boise</td>\n",
       "    </tr>\n",
       "    <tr>\n",
       "        <td>14776</td>\n",
       "        <td>Western Europe</td>\n",
       "        <td>Brandenburg</td>\n",
       "    </tr>\n",
       "</table>"
      ],
      "text/plain": [
       "[('52066', 'Western Europe', 'Aachen'),\n",
       " ('87110', 'North America', 'Albuquerque'),\n",
       " ('99508', 'North America', 'Anchorage'),\n",
       " ('08022', 'Southern Europe', 'Barcelona'),\n",
       " ('3508', 'South America', 'Barquisimeto'),\n",
       " ('24100', 'Southern Europe', 'Bergamo'),\n",
       " ('12209', 'Western Europe', 'Berlin'),\n",
       " ('3012', 'Western Europe', 'Bern'),\n",
       " ('83720', 'North America', 'Boise'),\n",
       " ('14776', 'Western Europe', 'Brandenburg')]"
      ]
     },
     "execution_count": 14,
     "metadata": {},
     "output_type": "execute_result"
    }
   ],
   "source": [
    "%%sql \n",
    "\n",
    "SELECT Postalcode, region AS 'Regional area', city \n",
    "FROM Customer\n",
    "EXCEPT\n",
    "SELECT Postalcode, region, city \n",
    "FROM Employee\n",
    "ORDER BY City\n",
    "LIMIT 10; -- Remove this line to see the full query output"
   ]
  },
  {
   "cell_type": "markdown",
   "metadata": {},
   "source": [
    "The supplier company wants to find out all the companies it deals excluding the companies it uses specifically for the shipment of goods. Let's see how we can help them by using the EXCEPT statement. "
   ]
  },
  {
   "cell_type": "code",
   "execution_count": 16,
   "metadata": {
    "jupyter": {
     "outputs_hidden": true
    }
   },
   "outputs": [
    {
     "name": "stdout",
     "output_type": "stream",
     "text": [
      " * sqlite:///Northwind_small.sqlite\n",
      "Done.\n"
     ]
    },
    {
     "data": {
      "text/html": [
       "<table>\n",
       "    <tr>\n",
       "        <th>Company</th>\n",
       "    </tr>\n",
       "    <tr>\n",
       "        <td>Aux joyeux ecclésiastiques</td>\n",
       "    </tr>\n",
       "    <tr>\n",
       "        <td>Bigfoot Breweries</td>\n",
       "    </tr>\n",
       "    <tr>\n",
       "        <td>Cooperativa de Quesos &#x27;Las Cabras&#x27;</td>\n",
       "    </tr>\n",
       "    <tr>\n",
       "        <td>Escargots Nouveaux</td>\n",
       "    </tr>\n",
       "    <tr>\n",
       "        <td>Exotic Liquids</td>\n",
       "    </tr>\n",
       "    <tr>\n",
       "        <td>Formaggi Fortini s.r.l.</td>\n",
       "    </tr>\n",
       "    <tr>\n",
       "        <td>Forêts d&#x27;érables</td>\n",
       "    </tr>\n",
       "    <tr>\n",
       "        <td>G&#x27;day, Mate</td>\n",
       "    </tr>\n",
       "    <tr>\n",
       "        <td>Gai pâturage</td>\n",
       "    </tr>\n",
       "    <tr>\n",
       "        <td>Grandma Kelly&#x27;s Homestead</td>\n",
       "    </tr>\n",
       "</table>"
      ],
      "text/plain": [
       "[('Aux joyeux ecclésiastiques',),\n",
       " ('Bigfoot Breweries',),\n",
       " (\"Cooperativa de Quesos 'Las Cabras'\",),\n",
       " ('Escargots Nouveaux',),\n",
       " ('Exotic Liquids',),\n",
       " ('Formaggi Fortini s.r.l.',),\n",
       " (\"Forêts d'érables\",),\n",
       " (\"G'day, Mate\",),\n",
       " ('Gai pâturage',),\n",
       " (\"Grandma Kelly's Homestead\",)]"
      ]
     },
     "execution_count": 16,
     "metadata": {},
     "output_type": "execute_result"
    }
   ],
   "source": [
    "%%sql \n",
    "\n",
    "SELECT CompanyName AS 'Company' FROM Supplier\n",
    "EXCEPT \n",
    "SELECT CompanyName FROM Shipper\n",
    "LIMIT 10; -- Remove this line to see the full query output"
   ]
  },
  {
   "cell_type": "markdown",
   "metadata": {},
   "source": [
    "## Conclusion \n",
    "\n",
    "In this train we learned about set theory in the context of SQL. We went on to learn about set operations namely UNION, UNION ALL, EXCEPT, and INTERSECT operators which work on complete rows from two queries to generate one result. We learned the basic syntax used for each operator and the set theory rules that must be adhered to, to create successful queries. \n",
    "\n",
    "Set operations provide an ingenious way to work with different result sets in SQL. Set operators are integral for comparing all columns involved in the query at once. We encourage you to test yourself and the knowledge you have learned by performing more SQL queries using set operations. "
   ]
  },
  {
   "cell_type": "markdown",
   "metadata": {},
   "source": [
    "## Appendix\n",
    "Links to additional resources to help with the understanding of concepts presented in this train:\n",
    "\n",
    "- [Set Operators](https://docs.oracle.com/cd/A87860_01/doc/server.817/a85397/operator.htm)\n",
    "- [EXCEPT and INTERSECT operators in SQL](https://www.red-gate.com/simple-talk/sql/performance/the-except-and-intersect-operators-in-sql-server/)"
   ]
  }
 ],
 "metadata": {
  "kernelspec": {
   "display_name": "Python 3 (ipykernel)",
   "language": "python",
   "name": "python3"
  },
  "language_info": {
   "codemirror_mode": {
    "name": "ipython",
    "version": 3
   },
   "file_extension": ".py",
   "mimetype": "text/x-python",
   "name": "python",
   "nbconvert_exporter": "python",
   "pygments_lexer": "ipython3",
   "version": "3.9.13"
  }
 },
 "nbformat": 4,
 "nbformat_minor": 4
}
