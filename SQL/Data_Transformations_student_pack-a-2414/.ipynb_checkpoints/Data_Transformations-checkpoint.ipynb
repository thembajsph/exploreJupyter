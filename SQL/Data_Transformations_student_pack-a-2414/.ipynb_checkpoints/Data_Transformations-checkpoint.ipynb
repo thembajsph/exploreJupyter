{
 "cells": [
  {
   "cell_type": "markdown",
   "metadata": {},
   "source": [
    "# SQL Data Transformation\n",
    "© Explore Data Science Academy\n",
    "\n",
    "## Learning Objectives\n",
    "\n",
    "In this train, you will learn to:\n",
    "* Use the **`DISTINCT`** statement to unearth underlying categories.\n",
    "* Make use of the **`CASE`** statement and **`IIF()`** function to create conditional logic within queries.\n",
    "* Make use of the **`COALESCE()`** function to get rid of null values.\n",
    "* Make use of the **`NULLIF()`** function to remove unwanted values.\n",
    "* Cast variables to suitable data types.\n",
    "\n",
    "## Outline\n",
    "\n",
    "This train is structured as follows: \n",
    "* Imports and DB connections.\n",
    "* The **`DISTINCT`**  statement.\n",
    "* The **`CASE`** and **`IIF()`** functions.\n",
    "* The **`COALESCE()`** function.\n",
    "* The **`NULLIF()`** function. \n",
    "* Casting of variables.\n"
   ]
  },
  {
   "cell_type": "markdown",
   "metadata": {},
   "source": [
    "## Introduction\n",
    "\n",
    "In this train you will learn how to transform your data into a usable format. We will achieve this by using control flow statements and functions in sqlite. To achieve these learning objectives, we will be using the ***SoftDevEmployees.db*** database which contains basic employee data from the ***SoftDev*** company which specialises in Mobile and Software development.\n",
    "\n",
    "Data preparation and transformation is just as important as the downstream techniques used to gain data insights from data, such as machine learning algorithms or visualisation. In fact, if your data are not organised and structured in an appropriate manner, chances are that any results you produce will be spurious. With this in mind, let's learn how to transform our data appropriately within SQL!"
   ]
  },
  {
   "cell_type": "markdown",
   "metadata": {},
   "source": [
    "## Imports and DB Connections\n",
    "\n",
    "Please use the below command to install **sql_magic** if you do not already have it. We will use this package to assist us with SQL syntax hightlighting.\n",
    "* `pip install sql_magic`\n",
    "\n",
    "Remember to start each new cell with:  **`%%read_sql`**"
   ]
  },
  {
   "cell_type": "code",
   "execution_count": 1,
   "metadata": {},
   "outputs": [
    {
     "data": {
      "application/javascript": [
       "\n",
       "    require(['notebook/js/codecell'], function(codecell) {\n",
       "      // https://github.com/jupyter/notebook/issues/2453\n",
       "      codecell.CodeCell.options_default.highlight_modes['magic_text/x-sql'] = {'reg':[/^%read_sql/, /.*=\\s*%read_sql/,\n",
       "                                                                                      /^%%read_sql/]};\n",
       "      Jupyter.notebook.events.one('kernel_ready.Kernel', function(){\n",
       "          console.log('BBBBB');\n",
       "          Jupyter.notebook.get_cells().map(function(cell){\n",
       "              if (cell.cell_type == 'code'){ cell.auto_highlight(); } }) ;\n",
       "      });\n",
       "    });\n",
       "    "
      ]
     },
     "metadata": {},
     "output_type": "display_data"
    }
   ],
   "source": [
    "import sqlite3\n",
    "import csv\n",
    "from sqlalchemy import create_engine\n",
    "%load_ext sql_magic\n",
    "\n",
    "# Create engine instance using sqlalchemy\n",
    "engine = create_engine(\"sqlite:///SoftDevEmployees.db\")\n",
    "%config SQL.conn_name = 'engine'\n",
    "\n",
    "# Create connection object using sqlite3\n",
    "conn = sqlite3.connect('SoftDevEmployees.db')\n",
    "cursor = conn.cursor()"
   ]
  },
  {
   "cell_type": "markdown",
   "metadata": {},
   "source": [
    "## DISTINCT\n",
    "\n",
    "The first statement that we introduce is the **`DISTINCT`** statement. `DISTINCT` allows us to identify unqinue values that exist in a database table, assisting with the removal of duplicate data which may exist. Alternatively, it is also helpful when trying to discern the number of categories present in our data for a particular attribute. \n",
    "\n",
    "The statement is used in conjuction with the **`SELECT`** statement, and the syntax takes the following form:\n",
    "\n",
    "```SQL\n",
    "SELECT \n",
    "    DISTINCT column_1, \n",
    "    column_2, \n",
    "    column_3,\n",
    "    .\n",
    "    .\n",
    "    .,\n",
    "    column_n\n",
    "FROM TableName\n",
    "```\n",
    "\n",
    "Let's make use of the **`DISTINCT`** statement to help us identify the catergoies that exist in our table!"
   ]
  },
  {
   "cell_type": "code",
   "execution_count": null,
   "metadata": {},
   "outputs": [],
   "source": [
    "%%read_sql\n",
    "\n",
    "SELECT DISTINCT Department FROM Employees;"
   ]
  },
  {
   "cell_type": "code",
   "execution_count": null,
   "metadata": {},
   "outputs": [],
   "source": [
    "%%read_sql\n",
    "\n",
    "SELECT DISTINCT Level FROM Employees;"
   ]
  },
  {
   "cell_type": "code",
   "execution_count": null,
   "metadata": {},
   "outputs": [],
   "source": [
    "%%read_sql\n",
    "\n",
    "SELECT DISTINCT role FROM Employees;"
   ]
  },
  {
   "cell_type": "markdown",
   "metadata": {},
   "source": [
    "The usage of the **`DISTINCT`** statement is quite simple, but one needs be cognisant of the data that is contained in the column when trying to find categories. This is because values that are obviously the same to us - humans, will not be obvious to a machine and we sometimes have to cater for these instances. One example is: \n",
    "\n",
    "```SQL\n",
    "'Mr' <> 'mr' <> 'MR' <> 'mR'\n",
    "```\n",
    "\n",
    "All the above variations of 'Mr' will be seen as a separate category which leads to duplicated categories. Let's see how we can get around this."
   ]
  },
  {
   "cell_type": "code",
   "execution_count": null,
   "metadata": {},
   "outputs": [],
   "source": [
    "%%read_sql\n",
    "\n",
    "SELECT DISTINCT UPPER(Title) FROM Employees;\n",
    "-- REMOVE the UPPER function from the query. How many categories does our query now return? "
   ]
  },
  {
   "cell_type": "markdown",
   "metadata": {},
   "source": [
    "## CASE Statement\n",
    "\n",
    "The **`CASE`** statement is used to assign/associate a condition with a particular result. We can use this to create conditional logic that maps our input (column data) to our desired output.\n",
    "\n",
    "The syntax for the **`CASE`** statement takes the following form:\n",
    "\n",
    "```sql\n",
    "CASE \n",
    "    WHEN conditon_1 THEN result_1\n",
    "    WHEN conditon_2 THEN result_2\n",
    "    .\n",
    "    .\n",
    "    .\n",
    "    WHEN conditon_n THEN result_n\n",
    "[ELSE result_n+1]\n",
    "END AS ColumnName\n",
    "```\n",
    "The else condition is optional. If, however, it is not specified and none of the conditions in the case statement are met, then it will default the result to `NULL`.\n",
    "\n",
    "Let's put this theory to the test by using the case statement to determine if an employee from SoftDev is male or female, based upon their assigned titles:"
   ]
  },
  {
   "cell_type": "code",
   "execution_count": null,
   "metadata": {},
   "outputs": [],
   "source": [
    "%%read_sql\n",
    "\n",
    "SELECT \n",
    "    Name, \n",
    "    Title, \n",
    "    CASE \n",
    "        WHEN UPPER(Title) IN ('MS','MRS','MISS') THEN 'Female'\n",
    "        WHEN UPPER(Title) IN ('MR') THEN 'Male'\n",
    "        WHEN UPPER(Title) IS NULL THEN 'Value not specified'\n",
    "    ELSE\n",
    "        'Cannot Determine from Title'\n",
    "    END AS Gender\n",
    "FROM\n",
    "    Employees\n",
    "ORDER BY Name\n",
    "LIMIT 5;"
   ]
  },
  {
   "cell_type": "markdown",
   "metadata": {},
   "source": [
    "## IIF() Function\n",
    "\n",
    "The **`IIF()`** function also allows you to to create conditional 'if-else' logic within your SQL quries.\n",
    "\n",
    "The syntax for the **`IIF()`** function takes the following form:\n",
    "\n",
    "\n",
    "```sql\n",
    "IIF(condition_x,result_1,result_2)\n",
    "```\n",
    "\n",
    "Given `condition_x`, the function will return `result_1` if the condition is **TRUE** else it will return `result2` if the condition is **FALSE**\n",
    "\n",
    "This function call is equivalent to:\n",
    "\n",
    "```sql\n",
    "CASE\n",
    "    WHEN condition_x THEN result_1\n",
    "    ELSE result_2\n",
    "END\n",
    "```\n",
    "\n",
    "Let's use the **`IIF()`** function to recreate the geneder column.\n",
    "\n",
    "**NB: The `IIF()` function is available from version 3.32.0 of SQLite onwards. If the below cell returns an error, you may need to update your SQLite installation. Also note that this cell will not run in Colab, as it uses a deprecated version of sqlite3.**"
   ]
  },
  {
   "cell_type": "code",
   "execution_count": null,
   "metadata": {},
   "outputs": [],
   "source": [
    "%%read_sql\n",
    "\n",
    "SELECT \n",
    "    Name, \n",
    "    Title, \n",
    "    IIF(UPPER(Title) IN ('MS','MRS','MISS'),'Female',\n",
    "        IIF(UPPER(Title) IN ('MR'),'Male','Cannot Determine from Title'))AS Gender\n",
    "FROM\n",
    "    Employees\n",
    "ORDER BY Name\n",
    "LIMIT 5;"
   ]
  },
  {
   "cell_type": "markdown",
   "metadata": {},
   "source": [
    "## COALESCE() function\n",
    "\n",
    "Given a set of input arguments, the **`COALESCE()`** function works by returning the first non-null argument value. While this functionality may seem strange, `COALESCE()` is extremely versatile and can be used for many tricky tasks, including exception handling and creating compact conditional statements (see [here](https://www.sqltutorial.org/sql-comparison-functions/sql-coalesce/) for some examples).  \n",
    "\n",
    "In our case, we'll use the function to ensure that a particular column does not have a null value - providing a fallback or default entry within our query result.\n",
    "\n",
    "The syntax of the **`COALESCE()`** function takes the following form:\n",
    "\n",
    "```sql\n",
    "   COALESCE(value_1,value_2,value_3,...,value_n)\n",
    "```\n",
    "And will return the first non-null value in `[value_1,value_2,value_3,...,value_n]`. For example: \n",
    "\n",
    "```sql \n",
    "value_1 = NULL and value_2 = NULL and value_3 = 'EXPLORE EDSA'\n",
    "```\n",
    "then \n",
    "\n",
    "```sql\n",
    "   COALESCE(value_1,value_2,value_3)\n",
    "```\n",
    "\n",
    "will return '***EXPLORE EDSA***'."
   ]
  },
  {
   "cell_type": "code",
   "execution_count": 16,
   "metadata": {},
   "outputs": [
    {
     "name": "stdout",
     "output_type": "stream",
     "text": [
      "Query started at 12:50:25 PM SAST; Query executed in 0.00 m"
     ]
    },
    {
     "data": {
      "text/html": [
       "<div>\n",
       "<style scoped>\n",
       "    .dataframe tbody tr th:only-of-type {\n",
       "        vertical-align: middle;\n",
       "    }\n",
       "\n",
       "    .dataframe tbody tr th {\n",
       "        vertical-align: top;\n",
       "    }\n",
       "\n",
       "    .dataframe thead th {\n",
       "        text-align: right;\n",
       "    }\n",
       "</style>\n",
       "<table border=\"1\" class=\"dataframe\">\n",
       "  <thead>\n",
       "    <tr style=\"text-align: right;\">\n",
       "      <th></th>\n",
       "      <th>Name</th>\n",
       "      <th>Surname</th>\n",
       "      <th>Level</th>\n",
       "      <th>Title</th>\n",
       "      <th>Title_Coalesce</th>\n",
       "    </tr>\n",
       "  </thead>\n",
       "  <tbody>\n",
       "    <tr>\n",
       "      <td>0</td>\n",
       "      <td>Dumisani</td>\n",
       "      <td>Thwala</td>\n",
       "      <td>Graduate</td>\n",
       "      <td>None</td>\n",
       "      <td>No title available</td>\n",
       "    </tr>\n",
       "    <tr>\n",
       "      <td>1</td>\n",
       "      <td>Tony</td>\n",
       "      <td>Horn</td>\n",
       "      <td>Graduate</td>\n",
       "      <td>Mr</td>\n",
       "      <td>Mr</td>\n",
       "    </tr>\n",
       "    <tr>\n",
       "      <td>2</td>\n",
       "      <td>Vuyokazi</td>\n",
       "      <td>barnes</td>\n",
       "      <td>Graduate</td>\n",
       "      <td>Mr</td>\n",
       "      <td>Mr</td>\n",
       "    </tr>\n",
       "    <tr>\n",
       "      <td>3</td>\n",
       "      <td>sello</td>\n",
       "      <td>Details</td>\n",
       "      <td>Graduate</td>\n",
       "      <td>Mr</td>\n",
       "      <td>Mr</td>\n",
       "    </tr>\n",
       "    <tr>\n",
       "      <td>4</td>\n",
       "      <td>Jacqueline</td>\n",
       "      <td>fredericks</td>\n",
       "      <td>Graduate</td>\n",
       "      <td>None</td>\n",
       "      <td>No title available</td>\n",
       "    </tr>\n",
       "  </tbody>\n",
       "</table>\n",
       "</div>"
      ],
      "text/plain": [
       "         Name     Surname     Level Title      Title_Coalesce\n",
       "0    Dumisani      Thwala  Graduate  None  No title available\n",
       "1        Tony        Horn  Graduate    Mr                  Mr\n",
       "2    Vuyokazi      barnes  Graduate    Mr                  Mr\n",
       "3       sello     Details  Graduate    Mr                  Mr\n",
       "4  Jacqueline  fredericks  Graduate  None  No title available"
      ]
     },
     "execution_count": 16,
     "metadata": {},
     "output_type": "execute_result"
    }
   ],
   "source": [
    "%%read_sql\n",
    "\n",
    "SELECT \n",
    "    Name,\n",
    "    Surname,\n",
    "    Level,\n",
    "    Title,\n",
    "    COALESCE(Title,'No title available') as Title_Coalesce\n",
    "FROM Employees\n",
    "LIMIT 5;"
   ]
  },
  {
   "cell_type": "markdown",
   "metadata": {},
   "source": [
    "## NULLIF() function\n",
    "\n",
    "The **`NULLIF()`** function is used when we want to insert `null` for particular values that exist in our database. \n",
    "\n",
    "The syntax of the NULLIF() function takes the following form:\n",
    "\n",
    "```sql\n",
    "NULLIF(value_1, value_2)\n",
    "```\n",
    "If `value_1 = value_2` (the values or expressions are equal), then the function will return `null`, else it will return the contents of `value_1`\n",
    "\n",
    "Imagine the Soft Dev CEO declared that no role should be given to interns as they are expected to rotate through the different roles available in the company for the period of their internship. To accommodate for this, we could decide to assign null value for all interns where the role is concerned. Let's write the query for this in the below cell:"
   ]
  },
  {
   "cell_type": "code",
   "execution_count": 17,
   "metadata": {},
   "outputs": [
    {
     "name": "stdout",
     "output_type": "stream",
     "text": [
      "Query started at 12:54:00 PM SAST; Query executed in 0.00 m"
     ]
    },
    {
     "data": {
      "text/html": [
       "<div>\n",
       "<style scoped>\n",
       "    .dataframe tbody tr th:only-of-type {\n",
       "        vertical-align: middle;\n",
       "    }\n",
       "\n",
       "    .dataframe tbody tr th {\n",
       "        vertical-align: top;\n",
       "    }\n",
       "\n",
       "    .dataframe thead th {\n",
       "        text-align: right;\n",
       "    }\n",
       "</style>\n",
       "<table border=\"1\" class=\"dataframe\">\n",
       "  <thead>\n",
       "    <tr style=\"text-align: right;\">\n",
       "      <th></th>\n",
       "      <th>Name</th>\n",
       "      <th>Surname</th>\n",
       "      <th>Level</th>\n",
       "      <th>Role</th>\n",
       "    </tr>\n",
       "  </thead>\n",
       "  <tbody>\n",
       "    <tr>\n",
       "      <td>0</td>\n",
       "      <td>Jan</td>\n",
       "      <td>Ngwenya</td>\n",
       "      <td>Intern</td>\n",
       "      <td>None</td>\n",
       "    </tr>\n",
       "    <tr>\n",
       "      <td>1</td>\n",
       "      <td>Patience</td>\n",
       "      <td>Willemse</td>\n",
       "      <td>Intern</td>\n",
       "      <td>None</td>\n",
       "    </tr>\n",
       "    <tr>\n",
       "      <td>2</td>\n",
       "      <td>Dirk</td>\n",
       "      <td>Banda</td>\n",
       "      <td>Intern</td>\n",
       "      <td>None</td>\n",
       "    </tr>\n",
       "    <tr>\n",
       "      <td>3</td>\n",
       "      <td>Janine</td>\n",
       "      <td>De Villiers</td>\n",
       "      <td>Intern</td>\n",
       "      <td>None</td>\n",
       "    </tr>\n",
       "    <tr>\n",
       "      <td>4</td>\n",
       "      <td>barend</td>\n",
       "      <td>Edwards</td>\n",
       "      <td>Intern</td>\n",
       "      <td>None</td>\n",
       "    </tr>\n",
       "    <tr>\n",
       "      <td>5</td>\n",
       "      <td>Jabulani</td>\n",
       "      <td>Horn</td>\n",
       "      <td>Intern</td>\n",
       "      <td>None</td>\n",
       "    </tr>\n",
       "    <tr>\n",
       "      <td>6</td>\n",
       "      <td>kelly</td>\n",
       "      <td>Manuel</td>\n",
       "      <td>Intern</td>\n",
       "      <td>None</td>\n",
       "    </tr>\n",
       "    <tr>\n",
       "      <td>7</td>\n",
       "      <td>Claire</td>\n",
       "      <td>Morris</td>\n",
       "      <td>Intern</td>\n",
       "      <td>None</td>\n",
       "    </tr>\n",
       "    <tr>\n",
       "      <td>8</td>\n",
       "      <td>Janet</td>\n",
       "      <td>Patel</td>\n",
       "      <td>Intern</td>\n",
       "      <td>None</td>\n",
       "    </tr>\n",
       "    <tr>\n",
       "      <td>9</td>\n",
       "      <td>Pearl</td>\n",
       "      <td>Stewart</td>\n",
       "      <td>Intern</td>\n",
       "      <td>None</td>\n",
       "    </tr>\n",
       "  </tbody>\n",
       "</table>\n",
       "</div>"
      ],
      "text/plain": [
       "       Name      Surname   Level  Role\n",
       "0       Jan      Ngwenya  Intern  None\n",
       "1  Patience     Willemse  Intern  None\n",
       "2      Dirk        Banda  Intern  None\n",
       "3    Janine  De Villiers  Intern  None\n",
       "4    barend      Edwards  Intern  None\n",
       "5  Jabulani         Horn  Intern  None\n",
       "6     kelly       Manuel  Intern  None\n",
       "7    Claire       Morris  Intern  None\n",
       "8     Janet        Patel  Intern  None\n",
       "9     Pearl      Stewart  Intern  None"
      ]
     },
     "execution_count": 17,
     "metadata": {},
     "output_type": "execute_result"
    }
   ],
   "source": [
    "%%read_sql\n",
    "SELECT \n",
    "    Name,\n",
    "    Surname,\n",
    "    Level,\n",
    "    NULLIF(Level,'Intern') as Role \n",
    "FROM Employees\n",
    "WHERE Level = 'Intern'"
   ]
  },
  {
   "cell_type": "markdown",
   "metadata": {},
   "source": [
    "## Casting\n",
    "\n",
    "Casting allows us to change the data type of variable into one that you wish to work with. \n",
    "\n",
    "The syntax for casting takes the following form:\n",
    "\n",
    "```sql\n",
    "CAST(value AS datatype)\n",
    "```\n",
    "\n",
    "All major SQL flavours have comprehensive documentation around the datatypes they support. You can visit [here](https://www.sqlite.org/datatype3.html) for a quick review of these types for SQLite. \n",
    "\n",
    "One example of when casting our data could be useful is when we need to obtain the correct precision for a calculation we've performed. The salaries in the current database are stored as integers. Here it's important to note that when we perfom arithmetic on integer values, the final results may not always be a 100% correct. Suppose if all employees had to contribue a 3rd of their salaries to both their pension and prodivent fund. \n",
    "\n",
    "Let's see how the computation gets truncated if we do not convert to the correct formats. We'll also show the correct answers by using ``CAST()``"
   ]
  },
  {
   "cell_type": "code",
   "execution_count": 19,
   "metadata": {},
   "outputs": [
    {
     "name": "stdout",
     "output_type": "stream",
     "text": [
      "Query started at 01:08:34 PM SAST; Query executed in 0.00 m"
     ]
    },
    {
     "data": {
      "text/html": [
       "<div>\n",
       "<style scoped>\n",
       "    .dataframe tbody tr th:only-of-type {\n",
       "        vertical-align: middle;\n",
       "    }\n",
       "\n",
       "    .dataframe tbody tr th {\n",
       "        vertical-align: top;\n",
       "    }\n",
       "\n",
       "    .dataframe thead th {\n",
       "        text-align: right;\n",
       "    }\n",
       "</style>\n",
       "<table border=\"1\" class=\"dataframe\">\n",
       "  <thead>\n",
       "    <tr style=\"text-align: right;\">\n",
       "      <th></th>\n",
       "      <th>Salary</th>\n",
       "      <th>Pension_INT</th>\n",
       "      <th>Pension_REAL</th>\n",
       "    </tr>\n",
       "  </thead>\n",
       "  <tbody>\n",
       "    <tr>\n",
       "      <td>0</td>\n",
       "      <td>52171</td>\n",
       "      <td>17390</td>\n",
       "      <td>17390.333333</td>\n",
       "    </tr>\n",
       "    <tr>\n",
       "      <td>1</td>\n",
       "      <td>103397</td>\n",
       "      <td>34465</td>\n",
       "      <td>34465.666667</td>\n",
       "    </tr>\n",
       "    <tr>\n",
       "      <td>2</td>\n",
       "      <td>69220</td>\n",
       "      <td>23073</td>\n",
       "      <td>23073.333333</td>\n",
       "    </tr>\n",
       "    <tr>\n",
       "      <td>3</td>\n",
       "      <td>54945</td>\n",
       "      <td>18315</td>\n",
       "      <td>18315.000000</td>\n",
       "    </tr>\n",
       "    <tr>\n",
       "      <td>4</td>\n",
       "      <td>51104</td>\n",
       "      <td>17034</td>\n",
       "      <td>17034.666667</td>\n",
       "    </tr>\n",
       "  </tbody>\n",
       "</table>\n",
       "</div>"
      ],
      "text/plain": [
       "   Salary  Pension_INT  Pension_REAL\n",
       "0   52171        17390  17390.333333\n",
       "1  103397        34465  34465.666667\n",
       "2   69220        23073  23073.333333\n",
       "3   54945        18315  18315.000000\n",
       "4   51104        17034  17034.666667"
      ]
     },
     "execution_count": 19,
     "metadata": {},
     "output_type": "execute_result"
    }
   ],
   "source": [
    "%%read_sql\n",
    "select \n",
    "    Salary,\n",
    "    Salary/3 Pension_INT,\n",
    "    CAST(Salary as REAL)/3 AS Pension_REAL\n",
    "FROM\n",
    "    Employees\n",
    "limit 5;"
   ]
  },
  {
   "cell_type": "markdown",
   "metadata": {},
   "source": [
    "## Conclusion\n",
    "\n",
    "In this train we've learned a few tricks on how to transform our data using new SQL functions and syntax. While these statements are fairly simple and easy to use, they become powerful when combined with additional functionality such as string manipulation techniques. As a future Data Scientist, the ability to transform your data to a usable format will be pertinent for your preprocessing efforts; allowing you to clean, prepare, and give your data desirable properties that will assist in your modeling pipeline."
   ]
  },
  {
   "cell_type": "markdown",
   "metadata": {},
   "source": [
    "## Appendix\n",
    "\n",
    "<a href=\"https://www.sqlite.org/datatype3.html\">Data types in SQLite</a>\n",
    "\n",
    "<a href=\"\">Data type Casting</a>\n",
    "\n",
    "<a href=\"https://www.sqltutorial.org/sql-comparison-functions/sql-coalesce/\"> Exception</a>"
   ]
  }
 ],
 "metadata": {
  "kernelspec": {
   "display_name": "Python 3 (ipykernel)",
   "language": "python",
   "name": "python3"
  },
  "language_info": {
   "codemirror_mode": {
    "name": "ipython",
    "version": 3
   },
   "file_extension": ".py",
   "mimetype": "text/x-python",
   "name": "python",
   "nbconvert_exporter": "python",
   "pygments_lexer": "ipython3",
   "version": "3.9.13"
  }
 },
 "nbformat": 4,
 "nbformat_minor": 4
}
