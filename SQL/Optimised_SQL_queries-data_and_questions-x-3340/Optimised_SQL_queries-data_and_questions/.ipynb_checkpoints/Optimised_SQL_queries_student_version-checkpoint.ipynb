{
 "cells": [
  {
   "cell_type": "markdown",
   "metadata": {},
   "source": [
    "# Optimised SQL Queries: Flights Database\n",
    "© Explore Data Science Academy"
   ]
  },
  {
   "cell_type": "markdown",
   "metadata": {},
   "source": [
    "## Instructions to Students\n",
    "\n",
    "This challenge is designed to determine how much you have learned so far and will test your knowledge on Optimised SQL queries.\n",
    "\n",
    "The answers for this challenge should be selected on Athena for each corresponding Multiple Choice Question. The questions are included in this notebook and are numbered according to the Athena Questions, the options to choose from for each question has also been included.\n",
    "\n",
    "Do not add or remove cells in this notebook. Do not edit or remove the `%%sql` comment as it is required to run each cell.\n",
    "\n",
    "**_Good Luck!_**"
   ]
  },
  {
   "cell_type": "markdown",
   "metadata": {},
   "source": [
    "## Honour Code\n",
    "\n",
    "I YOUR NAME, YOUR SURNAME, confirm - by submitting this document - that the solutions in this notebook are a result of my own work and that I abide by the EDSA honour code (https://drive.google.com/file/d/1QDCjGZJ8-FmJE3bZdIQNwnJyQKPhHZBn/view?usp=sharing).\n",
    "\n",
    "Non-compliance with the honour code constitutes a material breach of contract."
   ]
  },
  {
   "cell_type": "markdown",
   "metadata": {},
   "source": [
    "## The flights database\n",
    "\n",
    "Optimised queries are vital for increasing database performance, saving resources and reducing network overhead. In this challenge we will be  using actual US flights data to illustrate the use of optimisation techniques with large amounts of data. This database consists of information relating to flights, carriers, airports and planes. \n",
    "\n",
    "<img src=\"https://github.com/Explore-AI/Pictures/blob/master/Flights.jpg?raw=true\" width=50%/> \n",
    "\n",
    "\n",
    "Below is an Entity Relationship Diagram (ERD) of the flights database:\n",
    "\n",
    "<img src=\"https://github.com/Explore-AI/Pictures/blob/master/flights_ER_diagram.png?raw=true\" width=40%/>\n",
    "\n",
    "As can be seen from the ERD, the flights database consists of four tables:\n",
    "- **flights**: all domestic flights in the USA in 2008\n",
    "- **carriers**: lookup table for all the carriers\n",
    "- **planes**: lookup table for all the planes \n",
    "- **airports**: lookup table for all the airports\n",
    "\n",
    "For this challenge you will apply the use of optimised SQL queries to gain insight into the flights database. "
   ]
  },
  {
   "cell_type": "markdown",
   "metadata": {},
   "source": [
    "## Loading the database\n",
    "\n",
    "Before you start producing optimised SQL queries, you need to prepare your SQL environment. You can do this by loading in the magic command `%load_ext sql` as we've seen in previous trains. Next you can go ahead and load in your database. To do this you will need to ensure you have downloaded the `flight.db`sqlite file from Athena and have stored it in a known location.  "
   ]
  },
  {
   "cell_type": "code",
   "execution_count": 3,
   "metadata": {},
   "outputs": [
    {
     "name": "stdout",
     "output_type": "stream",
     "text": [
      "Collecting sqlalchemy==2.0\n",
      "  Using cached SQLAlchemy-2.0.0-cp39-cp39-manylinux_2_17_x86_64.manylinux2014_x86_64.whl (2.8 MB)\n",
      "Requirement already satisfied: typing-extensions>=4.2.0 in /home/thembajsph/anaconda3/lib/python3.9/site-packages (from sqlalchemy==2.0) (4.3.0)\n",
      "Requirement already satisfied: greenlet!=0.4.17 in /home/thembajsph/anaconda3/lib/python3.9/site-packages (from sqlalchemy==2.0) (1.1.1)\n",
      "Installing collected packages: sqlalchemy\n",
      "  Attempting uninstall: sqlalchemy\n",
      "    Found existing installation: SQLAlchemy 1.4.47\n",
      "    Uninstalling SQLAlchemy-1.4.47:\n",
      "      Successfully uninstalled SQLAlchemy-1.4.47\n",
      "Successfully installed sqlalchemy-2.0.0\n",
      "Note: you may need to restart the kernel to use updated packages.\n"
     ]
    }
   ],
   "source": [
    "pip install sqlalchemy==2.0"
   ]
  },
  {
   "cell_type": "code",
   "execution_count": 1,
   "metadata": {},
   "outputs": [],
   "source": [
    "%load_ext sql"
   ]
  },
  {
   "cell_type": "code",
   "execution_count": 2,
   "metadata": {},
   "outputs": [],
   "source": [
    "%%sql \n",
    "\n",
    "sqlite:///flights.db"
   ]
  },
  {
   "cell_type": "code",
   "execution_count": 13,
   "metadata": {},
   "outputs": [
    {
     "name": "stdout",
     "output_type": "stream",
     "text": [
      " * sqlite:///flights.db\n",
      "Done.\n"
     ]
    },
    {
     "data": {
      "text/html": [
       "<table>\n",
       "    <thead>\n",
       "        <tr>\n",
       "            <th>index</th>\n",
       "            <th>Date</th>\n",
       "            <th>DayOfWeek</th>\n",
       "            <th>DepTime</th>\n",
       "            <th>CRSDepTime</th>\n",
       "            <th>ArrTime</th>\n",
       "            <th>CRSArrTime</th>\n",
       "            <th>UniqueCarrier</th>\n",
       "            <th>FlightNum</th>\n",
       "            <th>TailNum</th>\n",
       "            <th>ActualElapsedTime</th>\n",
       "            <th>CRSElapsedTime</th>\n",
       "            <th>AirTime</th>\n",
       "            <th>ArrDelay</th>\n",
       "            <th>DepDelay</th>\n",
       "            <th>Origin</th>\n",
       "            <th>Dest</th>\n",
       "            <th>Distance</th>\n",
       "            <th>TaxiIn</th>\n",
       "            <th>TaxiOut</th>\n",
       "            <th>Cancelled</th>\n",
       "            <th>CancellationCode</th>\n",
       "            <th>Diverted</th>\n",
       "            <th>CarrierDelay</th>\n",
       "            <th>WeatherDelay</th>\n",
       "            <th>NASDelay</th>\n",
       "            <th>SecurityDelay</th>\n",
       "            <th>LateAircraftDelay</th>\n",
       "        </tr>\n",
       "    </thead>\n",
       "    <tbody>\n",
       "        <tr>\n",
       "            <td>0</td>\n",
       "            <td>2008/1/3</td>\n",
       "            <td>4</td>\n",
       "            <td>2003.0</td>\n",
       "            <td>1955</td>\n",
       "            <td>2211.0</td>\n",
       "            <td>2225</td>\n",
       "            <td>WN</td>\n",
       "            <td>335</td>\n",
       "            <td>N712SW</td>\n",
       "            <td>128.0</td>\n",
       "            <td>150</td>\n",
       "            <td>116.0</td>\n",
       "            <td>-14.0</td>\n",
       "            <td>8.0</td>\n",
       "            <td>IAD</td>\n",
       "            <td>TPA</td>\n",
       "            <td>810</td>\n",
       "            <td>4</td>\n",
       "            <td>8</td>\n",
       "            <td>0</td>\n",
       "            <td>None</td>\n",
       "            <td>0</td>\n",
       "            <td>None</td>\n",
       "            <td>None</td>\n",
       "            <td>None</td>\n",
       "            <td>None</td>\n",
       "            <td>None</td>\n",
       "        </tr>\n",
       "        <tr>\n",
       "            <td>1</td>\n",
       "            <td>2008/1/3</td>\n",
       "            <td>4</td>\n",
       "            <td>754.0</td>\n",
       "            <td>735</td>\n",
       "            <td>1002.0</td>\n",
       "            <td>1000</td>\n",
       "            <td>WN</td>\n",
       "            <td>3231</td>\n",
       "            <td>N772SW</td>\n",
       "            <td>128.0</td>\n",
       "            <td>145</td>\n",
       "            <td>113.0</td>\n",
       "            <td>2.0</td>\n",
       "            <td>19.0</td>\n",
       "            <td>IAD</td>\n",
       "            <td>TPA</td>\n",
       "            <td>810</td>\n",
       "            <td>5</td>\n",
       "            <td>10</td>\n",
       "            <td>0</td>\n",
       "            <td>None</td>\n",
       "            <td>0</td>\n",
       "            <td>None</td>\n",
       "            <td>None</td>\n",
       "            <td>None</td>\n",
       "            <td>None</td>\n",
       "            <td>None</td>\n",
       "        </tr>\n",
       "        <tr>\n",
       "            <td>2</td>\n",
       "            <td>2008/1/3</td>\n",
       "            <td>4</td>\n",
       "            <td>628.0</td>\n",
       "            <td>620</td>\n",
       "            <td>804.0</td>\n",
       "            <td>750</td>\n",
       "            <td>WN</td>\n",
       "            <td>448</td>\n",
       "            <td>N428WN</td>\n",
       "            <td>96.0</td>\n",
       "            <td>90</td>\n",
       "            <td>76.0</td>\n",
       "            <td>14.0</td>\n",
       "            <td>8.0</td>\n",
       "            <td>IND</td>\n",
       "            <td>BWI</td>\n",
       "            <td>515</td>\n",
       "            <td>3</td>\n",
       "            <td>17</td>\n",
       "            <td>0</td>\n",
       "            <td>None</td>\n",
       "            <td>0</td>\n",
       "            <td>None</td>\n",
       "            <td>None</td>\n",
       "            <td>None</td>\n",
       "            <td>None</td>\n",
       "            <td>None</td>\n",
       "        </tr>\n",
       "    </tbody>\n",
       "</table>"
      ],
      "text/plain": [
       "[(0, '2008/1/3', 4, 2003.0, '1955', 2211.0, '2225', 'WN', '335', 'N712SW', 128.0, '150', '116.0', -14.0, 8.0, 'IAD', 'TPA', 810, '4', '8', '0', None, '0', None, None, None, None, None),\n",
       " (1, '2008/1/3', 4, 754.0, '735', 1002.0, '1000', 'WN', '3231', 'N772SW', 128.0, '145', '113.0', 2.0, 19.0, 'IAD', 'TPA', 810, '5', '10', '0', None, '0', None, None, None, None, None),\n",
       " (2, '2008/1/3', 4, 628.0, '620', 804.0, '750', 'WN', '448', 'N428WN', 96.0, '90', '76.0', 14.0, 8.0, 'IND', 'BWI', 515, '3', '17', '0', None, '0', None, None, None, None, None)]"
      ]
     },
     "execution_count": 13,
     "metadata": {},
     "output_type": "execute_result"
    }
   ],
   "source": [
    "%%sql\n",
    "\n",
    "SELECT * FROM flights\n",
    "LIMIT 3;"
   ]
  },
  {
   "cell_type": "code",
   "execution_count": 39,
   "metadata": {},
   "outputs": [
    {
     "name": "stdout",
     "output_type": "stream",
     "text": [
      " * sqlite:///flights.db\n",
      "Done.\n"
     ]
    },
    {
     "data": {
      "text/html": [
       "<table>\n",
       "    <thead>\n",
       "        <tr>\n",
       "            <th>Code</th>\n",
       "            <th>Description</th>\n",
       "        </tr>\n",
       "    </thead>\n",
       "    <tbody>\n",
       "        <tr>\n",
       "            <td>02Q</td>\n",
       "            <td>Titan Airways\r",
       "</td>\n",
       "        </tr>\n",
       "        <tr>\n",
       "            <td>04Q</td>\n",
       "            <td>Tradewind Aviation\r",
       "</td>\n",
       "        </tr>\n",
       "        <tr>\n",
       "            <td>05Q</td>\n",
       "            <td>Comlux Aviation, AG\r",
       "</td>\n",
       "        </tr>\n",
       "    </tbody>\n",
       "</table>"
      ],
      "text/plain": [
       "[('02Q', 'Titan Airways\\r'),\n",
       " ('04Q', 'Tradewind Aviation\\r'),\n",
       " ('05Q', 'Comlux Aviation, AG\\r')]"
      ]
     },
     "execution_count": 39,
     "metadata": {},
     "output_type": "execute_result"
    }
   ],
   "source": [
    "%%sql\n",
    "\n",
    "SELECT * FROM carriers\n",
    "LIMIT 3;"
   ]
  },
  {
   "cell_type": "code",
   "execution_count": 37,
   "metadata": {},
   "outputs": [
    {
     "name": "stdout",
     "output_type": "stream",
     "text": [
      " * sqlite:///flights.db\n",
      "Done.\n"
     ]
    },
    {
     "data": {
      "text/html": [
       "<table>\n",
       "    <thead>\n",
       "        <tr>\n",
       "            <th>iata</th>\n",
       "            <th>airport</th>\n",
       "            <th>city</th>\n",
       "            <th>state</th>\n",
       "            <th>country</th>\n",
       "            <th>lat</th>\n",
       "            <th>long</th>\n",
       "        </tr>\n",
       "    </thead>\n",
       "    <tbody>\n",
       "        <tr>\n",
       "            <td>00M</td>\n",
       "            <td>Thigpen </td>\n",
       "            <td>Bay Springs</td>\n",
       "            <td>MS</td>\n",
       "            <td>USA</td>\n",
       "            <td>32.0</td>\n",
       "            <td>-89.0</td>\n",
       "        </tr>\n",
       "        <tr>\n",
       "            <td>00R</td>\n",
       "            <td>Livingston Municipal</td>\n",
       "            <td>Livingston</td>\n",
       "            <td>TX</td>\n",
       "            <td>USA</td>\n",
       "            <td>31.0</td>\n",
       "            <td>-95.0</td>\n",
       "        </tr>\n",
       "        <tr>\n",
       "            <td>00V</td>\n",
       "            <td>Meadow Lake</td>\n",
       "            <td>Colorado Springs</td>\n",
       "            <td>CO</td>\n",
       "            <td>USA</td>\n",
       "            <td>39.0</td>\n",
       "            <td>-105.0</td>\n",
       "        </tr>\n",
       "    </tbody>\n",
       "</table>"
      ],
      "text/plain": [
       "[('00M', 'Thigpen ', 'Bay Springs', 'MS', 'USA', 32.0, -89.0),\n",
       " ('00R', 'Livingston Municipal', 'Livingston', 'TX', 'USA', 31.0, -95.0),\n",
       " ('00V', 'Meadow Lake', 'Colorado Springs', 'CO', 'USA', 39.0, -105.0)]"
      ]
     },
     "execution_count": 37,
     "metadata": {},
     "output_type": "execute_result"
    }
   ],
   "source": [
    "%%sql\n",
    "\n",
    "SELECT * FROM airports\n",
    "LIMIT 3;"
   ]
  },
  {
   "cell_type": "code",
   "execution_count": 28,
   "metadata": {},
   "outputs": [
    {
     "name": "stdout",
     "output_type": "stream",
     "text": [
      " * sqlite:///flights.db\n",
      "Done.\n"
     ]
    },
    {
     "data": {
      "text/html": [
       "<table>\n",
       "    <thead>\n",
       "        <tr>\n",
       "            <th>tailnum</th>\n",
       "            <th>type</th>\n",
       "            <th>manufacturer</th>\n",
       "            <th>issue_date</th>\n",
       "            <th>model</th>\n",
       "            <th>status</th>\n",
       "            <th>aircraft_type</th>\n",
       "            <th>engine_type</th>\n",
       "            <th>year</th>\n",
       "        </tr>\n",
       "    </thead>\n",
       "    <tbody>\n",
       "        <tr>\n",
       "            <td>N050AA</td>\n",
       "            <td>None</td>\n",
       "            <td>None</td>\n",
       "            <td>None</td>\n",
       "            <td>None</td>\n",
       "            <td>None</td>\n",
       "            <td>None</td>\n",
       "            <td>None</td>\n",
       "            <td>None</td>\n",
       "        </tr>\n",
       "    </tbody>\n",
       "</table>"
      ],
      "text/plain": [
       "[('N050AA', None, None, None, None, None, None, None, None)]"
      ]
     },
     "execution_count": 28,
     "metadata": {},
     "output_type": "execute_result"
    }
   ],
   "source": [
    "%%sql\n",
    "\n",
    "SELECT * FROM planes\n",
    "LIMIT 1;"
   ]
  },
  {
   "cell_type": "markdown",
   "metadata": {},
   "source": [
    "## Exploring the database \n",
    "\n",
    "Before we begin this challenge we can go ahead and take a look at the composition of each table in the flights database"
   ]
  },
  {
   "cell_type": "code",
   "execution_count": 3,
   "metadata": {},
   "outputs": [
    {
     "name": "stdout",
     "output_type": "stream",
     "text": [
      " * sqlite:///flights.db\n",
      "Done.\n"
     ]
    },
    {
     "data": {
      "text/html": [
       "<table>\n",
       "    <thead>\n",
       "        <tr>\n",
       "            <th>cid</th>\n",
       "            <th>name</th>\n",
       "            <th>type</th>\n",
       "            <th>notnull</th>\n",
       "            <th>dflt_value</th>\n",
       "            <th>pk</th>\n",
       "        </tr>\n",
       "    </thead>\n",
       "    <tbody>\n",
       "        <tr>\n",
       "            <td>0</td>\n",
       "            <td>index</td>\n",
       "            <td>INTEGER</td>\n",
       "            <td>0</td>\n",
       "            <td>NULL</td>\n",
       "            <td>0</td>\n",
       "        </tr>\n",
       "        <tr>\n",
       "            <td>1</td>\n",
       "            <td>Date</td>\n",
       "            <td>longtext</td>\n",
       "            <td>0</td>\n",
       "            <td>None</td>\n",
       "            <td>0</td>\n",
       "        </tr>\n",
       "        <tr>\n",
       "            <td>2</td>\n",
       "            <td>DayOfWeek</td>\n",
       "            <td>INTEGER</td>\n",
       "            <td>0</td>\n",
       "            <td>NULL</td>\n",
       "            <td>0</td>\n",
       "        </tr>\n",
       "        <tr>\n",
       "            <td>3</td>\n",
       "            <td>DepTime</td>\n",
       "            <td>double</td>\n",
       "            <td>0</td>\n",
       "            <td>NULL</td>\n",
       "            <td>0</td>\n",
       "        </tr>\n",
       "        <tr>\n",
       "            <td>4</td>\n",
       "            <td>CRSDepTime</td>\n",
       "            <td>longtext</td>\n",
       "            <td>0</td>\n",
       "            <td>None</td>\n",
       "            <td>0</td>\n",
       "        </tr>\n",
       "        <tr>\n",
       "            <td>5</td>\n",
       "            <td>ArrTime</td>\n",
       "            <td>double</td>\n",
       "            <td>0</td>\n",
       "            <td>NULL</td>\n",
       "            <td>0</td>\n",
       "        </tr>\n",
       "        <tr>\n",
       "            <td>6</td>\n",
       "            <td>CRSArrTime</td>\n",
       "            <td>longtext</td>\n",
       "            <td>0</td>\n",
       "            <td>None</td>\n",
       "            <td>0</td>\n",
       "        </tr>\n",
       "        <tr>\n",
       "            <td>7</td>\n",
       "            <td>UniqueCarrier</td>\n",
       "            <td>longtext</td>\n",
       "            <td>0</td>\n",
       "            <td>None</td>\n",
       "            <td>0</td>\n",
       "        </tr>\n",
       "        <tr>\n",
       "            <td>8</td>\n",
       "            <td>FlightNum</td>\n",
       "            <td>longtext</td>\n",
       "            <td>0</td>\n",
       "            <td>None</td>\n",
       "            <td>0</td>\n",
       "        </tr>\n",
       "        <tr>\n",
       "            <td>9</td>\n",
       "            <td>TailNum</td>\n",
       "            <td>longtext</td>\n",
       "            <td>0</td>\n",
       "            <td>None</td>\n",
       "            <td>0</td>\n",
       "        </tr>\n",
       "        <tr>\n",
       "            <td>10</td>\n",
       "            <td>ActualElapsedTime</td>\n",
       "            <td>double</td>\n",
       "            <td>0</td>\n",
       "            <td>NULL</td>\n",
       "            <td>0</td>\n",
       "        </tr>\n",
       "        <tr>\n",
       "            <td>11</td>\n",
       "            <td>CRSElapsedTime</td>\n",
       "            <td>longtext</td>\n",
       "            <td>0</td>\n",
       "            <td>None</td>\n",
       "            <td>0</td>\n",
       "        </tr>\n",
       "        <tr>\n",
       "            <td>12</td>\n",
       "            <td>AirTime</td>\n",
       "            <td>longtext</td>\n",
       "            <td>0</td>\n",
       "            <td>None</td>\n",
       "            <td>0</td>\n",
       "        </tr>\n",
       "        <tr>\n",
       "            <td>13</td>\n",
       "            <td>ArrDelay</td>\n",
       "            <td>double</td>\n",
       "            <td>0</td>\n",
       "            <td>NULL</td>\n",
       "            <td>0</td>\n",
       "        </tr>\n",
       "        <tr>\n",
       "            <td>14</td>\n",
       "            <td>DepDelay</td>\n",
       "            <td>double</td>\n",
       "            <td>0</td>\n",
       "            <td>NULL</td>\n",
       "            <td>0</td>\n",
       "        </tr>\n",
       "        <tr>\n",
       "            <td>15</td>\n",
       "            <td>Origin</td>\n",
       "            <td>longtext</td>\n",
       "            <td>0</td>\n",
       "            <td>None</td>\n",
       "            <td>0</td>\n",
       "        </tr>\n",
       "        <tr>\n",
       "            <td>16</td>\n",
       "            <td>Dest</td>\n",
       "            <td>longtext</td>\n",
       "            <td>0</td>\n",
       "            <td>None</td>\n",
       "            <td>0</td>\n",
       "        </tr>\n",
       "        <tr>\n",
       "            <td>17</td>\n",
       "            <td>Distance</td>\n",
       "            <td>INTEGER</td>\n",
       "            <td>0</td>\n",
       "            <td>NULL</td>\n",
       "            <td>0</td>\n",
       "        </tr>\n",
       "        <tr>\n",
       "            <td>18</td>\n",
       "            <td>TaxiIn</td>\n",
       "            <td>longtext</td>\n",
       "            <td>0</td>\n",
       "            <td>None</td>\n",
       "            <td>0</td>\n",
       "        </tr>\n",
       "        <tr>\n",
       "            <td>19</td>\n",
       "            <td>TaxiOut</td>\n",
       "            <td>longtext</td>\n",
       "            <td>0</td>\n",
       "            <td>None</td>\n",
       "            <td>0</td>\n",
       "        </tr>\n",
       "        <tr>\n",
       "            <td>20</td>\n",
       "            <td>Cancelled</td>\n",
       "            <td>longtext</td>\n",
       "            <td>0</td>\n",
       "            <td>None</td>\n",
       "            <td>0</td>\n",
       "        </tr>\n",
       "        <tr>\n",
       "            <td>21</td>\n",
       "            <td>CancellationCode</td>\n",
       "            <td>longtext</td>\n",
       "            <td>0</td>\n",
       "            <td>None</td>\n",
       "            <td>0</td>\n",
       "        </tr>\n",
       "        <tr>\n",
       "            <td>22</td>\n",
       "            <td>Diverted</td>\n",
       "            <td>longtext</td>\n",
       "            <td>0</td>\n",
       "            <td>None</td>\n",
       "            <td>0</td>\n",
       "        </tr>\n",
       "        <tr>\n",
       "            <td>23</td>\n",
       "            <td>CarrierDelay</td>\n",
       "            <td>longtext</td>\n",
       "            <td>0</td>\n",
       "            <td>None</td>\n",
       "            <td>0</td>\n",
       "        </tr>\n",
       "        <tr>\n",
       "            <td>24</td>\n",
       "            <td>WeatherDelay</td>\n",
       "            <td>longtext</td>\n",
       "            <td>0</td>\n",
       "            <td>None</td>\n",
       "            <td>0</td>\n",
       "        </tr>\n",
       "        <tr>\n",
       "            <td>25</td>\n",
       "            <td>NASDelay</td>\n",
       "            <td>longtext</td>\n",
       "            <td>0</td>\n",
       "            <td>None</td>\n",
       "            <td>0</td>\n",
       "        </tr>\n",
       "        <tr>\n",
       "            <td>26</td>\n",
       "            <td>SecurityDelay</td>\n",
       "            <td>longtext</td>\n",
       "            <td>0</td>\n",
       "            <td>None</td>\n",
       "            <td>0</td>\n",
       "        </tr>\n",
       "        <tr>\n",
       "            <td>27</td>\n",
       "            <td>LateAircraftDelay</td>\n",
       "            <td>longtext</td>\n",
       "            <td>0</td>\n",
       "            <td>None</td>\n",
       "            <td>0</td>\n",
       "        </tr>\n",
       "    </tbody>\n",
       "</table>"
      ],
      "text/plain": [
       "[(0, 'index', 'INTEGER', 0, 'NULL', 0),\n",
       " (1, 'Date', 'longtext', 0, None, 0),\n",
       " (2, 'DayOfWeek', 'INTEGER', 0, 'NULL', 0),\n",
       " (3, 'DepTime', 'double', 0, 'NULL', 0),\n",
       " (4, 'CRSDepTime', 'longtext', 0, None, 0),\n",
       " (5, 'ArrTime', 'double', 0, 'NULL', 0),\n",
       " (6, 'CRSArrTime', 'longtext', 0, None, 0),\n",
       " (7, 'UniqueCarrier', 'longtext', 0, None, 0),\n",
       " (8, 'FlightNum', 'longtext', 0, None, 0),\n",
       " (9, 'TailNum', 'longtext', 0, None, 0),\n",
       " (10, 'ActualElapsedTime', 'double', 0, 'NULL', 0),\n",
       " (11, 'CRSElapsedTime', 'longtext', 0, None, 0),\n",
       " (12, 'AirTime', 'longtext', 0, None, 0),\n",
       " (13, 'ArrDelay', 'double', 0, 'NULL', 0),\n",
       " (14, 'DepDelay', 'double', 0, 'NULL', 0),\n",
       " (15, 'Origin', 'longtext', 0, None, 0),\n",
       " (16, 'Dest', 'longtext', 0, None, 0),\n",
       " (17, 'Distance', 'INTEGER', 0, 'NULL', 0),\n",
       " (18, 'TaxiIn', 'longtext', 0, None, 0),\n",
       " (19, 'TaxiOut', 'longtext', 0, None, 0),\n",
       " (20, 'Cancelled', 'longtext', 0, None, 0),\n",
       " (21, 'CancellationCode', 'longtext', 0, None, 0),\n",
       " (22, 'Diverted', 'longtext', 0, None, 0),\n",
       " (23, 'CarrierDelay', 'longtext', 0, None, 0),\n",
       " (24, 'WeatherDelay', 'longtext', 0, None, 0),\n",
       " (25, 'NASDelay', 'longtext', 0, None, 0),\n",
       " (26, 'SecurityDelay', 'longtext', 0, None, 0),\n",
       " (27, 'LateAircraftDelay', 'longtext', 0, None, 0)]"
      ]
     },
     "execution_count": 3,
     "metadata": {},
     "output_type": "execute_result"
    }
   ],
   "source": [
    "%%sql \n",
    "\n",
    "PRAGMA table_info(flights);"
   ]
  },
  {
   "cell_type": "code",
   "execution_count": 4,
   "metadata": {},
   "outputs": [
    {
     "name": "stdout",
     "output_type": "stream",
     "text": [
      " * sqlite:///flights.db\n",
      "Done.\n"
     ]
    },
    {
     "data": {
      "text/html": [
       "<table>\n",
       "    <tr>\n",
       "        <th>cid</th>\n",
       "        <th>name</th>\n",
       "        <th>type</th>\n",
       "        <th>notnull</th>\n",
       "        <th>dflt_value</th>\n",
       "        <th>pk</th>\n",
       "    </tr>\n",
       "    <tr>\n",
       "        <td>0</td>\n",
       "        <td>Code</td>\n",
       "        <td>varchar(10)</td>\n",
       "        <td>0</td>\n",
       "        <td>NULL</td>\n",
       "        <td>0</td>\n",
       "    </tr>\n",
       "    <tr>\n",
       "        <td>1</td>\n",
       "        <td>Description</td>\n",
       "        <td>varchar(100)</td>\n",
       "        <td>0</td>\n",
       "        <td>NULL</td>\n",
       "        <td>0</td>\n",
       "    </tr>\n",
       "</table>"
      ],
      "text/plain": [
       "[(0, 'Code', 'varchar(10)', 0, 'NULL', 0),\n",
       " (1, 'Description', 'varchar(100)', 0, 'NULL', 0)]"
      ]
     },
     "execution_count": 4,
     "metadata": {},
     "output_type": "execute_result"
    }
   ],
   "source": [
    "%%sql \n",
    "\n",
    "PRAGMA table_info(carriers);"
   ]
  },
  {
   "cell_type": "code",
   "execution_count": 5,
   "metadata": {},
   "outputs": [
    {
     "name": "stdout",
     "output_type": "stream",
     "text": [
      " * sqlite:///flights.db\n",
      "Done.\n"
     ]
    },
    {
     "data": {
      "text/html": [
       "<table>\n",
       "    <tr>\n",
       "        <th>cid</th>\n",
       "        <th>name</th>\n",
       "        <th>type</th>\n",
       "        <th>notnull</th>\n",
       "        <th>dflt_value</th>\n",
       "        <th>pk</th>\n",
       "    </tr>\n",
       "    <tr>\n",
       "        <td>0</td>\n",
       "        <td>iata</td>\n",
       "        <td>varchar(10)</td>\n",
       "        <td>0</td>\n",
       "        <td>NULL</td>\n",
       "        <td>0</td>\n",
       "    </tr>\n",
       "    <tr>\n",
       "        <td>1</td>\n",
       "        <td>airport</td>\n",
       "        <td>varchar(100)</td>\n",
       "        <td>0</td>\n",
       "        <td>NULL</td>\n",
       "        <td>0</td>\n",
       "    </tr>\n",
       "    <tr>\n",
       "        <td>2</td>\n",
       "        <td>city</td>\n",
       "        <td>varchar(100)</td>\n",
       "        <td>0</td>\n",
       "        <td>NULL</td>\n",
       "        <td>0</td>\n",
       "    </tr>\n",
       "    <tr>\n",
       "        <td>3</td>\n",
       "        <td>state</td>\n",
       "        <td>varchar(50)</td>\n",
       "        <td>0</td>\n",
       "        <td>NULL</td>\n",
       "        <td>0</td>\n",
       "    </tr>\n",
       "    <tr>\n",
       "        <td>4</td>\n",
       "        <td>country</td>\n",
       "        <td>varchar(50)</td>\n",
       "        <td>0</td>\n",
       "        <td>NULL</td>\n",
       "        <td>0</td>\n",
       "    </tr>\n",
       "    <tr>\n",
       "        <td>5</td>\n",
       "        <td>lat</td>\n",
       "        <td>float(24,0)</td>\n",
       "        <td>0</td>\n",
       "        <td>NULL</td>\n",
       "        <td>0</td>\n",
       "    </tr>\n",
       "    <tr>\n",
       "        <td>6</td>\n",
       "        <td>long</td>\n",
       "        <td>float(24,0)</td>\n",
       "        <td>0</td>\n",
       "        <td>NULL</td>\n",
       "        <td>0</td>\n",
       "    </tr>\n",
       "</table>"
      ],
      "text/plain": [
       "[(0, 'iata', 'varchar(10)', 0, 'NULL', 0),\n",
       " (1, 'airport', 'varchar(100)', 0, 'NULL', 0),\n",
       " (2, 'city', 'varchar(100)', 0, 'NULL', 0),\n",
       " (3, 'state', 'varchar(50)', 0, 'NULL', 0),\n",
       " (4, 'country', 'varchar(50)', 0, 'NULL', 0),\n",
       " (5, 'lat', 'float(24,0)', 0, 'NULL', 0),\n",
       " (6, 'long', 'float(24,0)', 0, 'NULL', 0)]"
      ]
     },
     "execution_count": 5,
     "metadata": {},
     "output_type": "execute_result"
    }
   ],
   "source": [
    "%%sql \n",
    "\n",
    "PRAGMA table_info(airports);"
   ]
  },
  {
   "cell_type": "code",
   "execution_count": 6,
   "metadata": {},
   "outputs": [
    {
     "name": "stdout",
     "output_type": "stream",
     "text": [
      " * sqlite:///flights.db\n",
      "Done.\n"
     ]
    },
    {
     "data": {
      "text/html": [
       "<table>\n",
       "    <tr>\n",
       "        <th>cid</th>\n",
       "        <th>name</th>\n",
       "        <th>type</th>\n",
       "        <th>notnull</th>\n",
       "        <th>dflt_value</th>\n",
       "        <th>pk</th>\n",
       "    </tr>\n",
       "    <tr>\n",
       "        <td>0</td>\n",
       "        <td>tailnum</td>\n",
       "        <td>varchar(10)</td>\n",
       "        <td>0</td>\n",
       "        <td>NULL</td>\n",
       "        <td>0</td>\n",
       "    </tr>\n",
       "    <tr>\n",
       "        <td>1</td>\n",
       "        <td>type</td>\n",
       "        <td>varchar(100)</td>\n",
       "        <td>0</td>\n",
       "        <td>NULL</td>\n",
       "        <td>0</td>\n",
       "    </tr>\n",
       "    <tr>\n",
       "        <td>2</td>\n",
       "        <td>manufacturer</td>\n",
       "        <td>varchar(100)</td>\n",
       "        <td>0</td>\n",
       "        <td>NULL</td>\n",
       "        <td>0</td>\n",
       "    </tr>\n",
       "    <tr>\n",
       "        <td>3</td>\n",
       "        <td>issue_date</td>\n",
       "        <td>varchar(100)</td>\n",
       "        <td>0</td>\n",
       "        <td>NULL</td>\n",
       "        <td>0</td>\n",
       "    </tr>\n",
       "    <tr>\n",
       "        <td>4</td>\n",
       "        <td>model</td>\n",
       "        <td>varchar(50)</td>\n",
       "        <td>0</td>\n",
       "        <td>NULL</td>\n",
       "        <td>0</td>\n",
       "    </tr>\n",
       "    <tr>\n",
       "        <td>5</td>\n",
       "        <td>status</td>\n",
       "        <td>varchar(100)</td>\n",
       "        <td>0</td>\n",
       "        <td>NULL</td>\n",
       "        <td>0</td>\n",
       "    </tr>\n",
       "    <tr>\n",
       "        <td>6</td>\n",
       "        <td>aircraft_type</td>\n",
       "        <td>varchar(100)</td>\n",
       "        <td>0</td>\n",
       "        <td>NULL</td>\n",
       "        <td>0</td>\n",
       "    </tr>\n",
       "    <tr>\n",
       "        <td>7</td>\n",
       "        <td>engine_type</td>\n",
       "        <td>varchar(100)</td>\n",
       "        <td>0</td>\n",
       "        <td>NULL</td>\n",
       "        <td>0</td>\n",
       "    </tr>\n",
       "    <tr>\n",
       "        <td>8</td>\n",
       "        <td>year</td>\n",
       "        <td>longtext</td>\n",
       "        <td>0</td>\n",
       "        <td>None</td>\n",
       "        <td>0</td>\n",
       "    </tr>\n",
       "</table>"
      ],
      "text/plain": [
       "[(0, 'tailnum', 'varchar(10)', 0, 'NULL', 0),\n",
       " (1, 'type', 'varchar(100)', 0, 'NULL', 0),\n",
       " (2, 'manufacturer', 'varchar(100)', 0, 'NULL', 0),\n",
       " (3, 'issue_date', 'varchar(100)', 0, 'NULL', 0),\n",
       " (4, 'model', 'varchar(50)', 0, 'NULL', 0),\n",
       " (5, 'status', 'varchar(100)', 0, 'NULL', 0),\n",
       " (6, 'aircraft_type', 'varchar(100)', 0, 'NULL', 0),\n",
       " (7, 'engine_type', 'varchar(100)', 0, 'NULL', 0),\n",
       " (8, 'year', 'longtext', 0, None, 0)]"
      ]
     },
     "execution_count": 6,
     "metadata": {},
     "output_type": "execute_result"
    }
   ],
   "source": [
    "%%sql \n",
    "\n",
    "PRAGMA table_info(planes);"
   ]
  },
  {
   "cell_type": "markdown",
   "metadata": {},
   "source": [
    "## Questions on Optimised SQL Queries \n",
    "\n",
    "Now that you have an idea of what information each table contains, you can use the given cell below each question to execute your optimised SQL queries to find the correct output from the options provided for the multiple choice questions on Athena."
   ]
  },
  {
   "cell_type": "markdown",
   "metadata": {},
   "source": [
    "**Question 1**\n",
    "\n",
    "How many different carriers are there in total in the database?\n",
    "\n",
    "**Options:**\n",
    "- 1 252\n",
    "- 1491\n",
    "- 20\n",
    "- 37"
   ]
  },
  {
   "cell_type": "code",
   "execution_count": 11,
   "metadata": {},
   "outputs": [
    {
     "name": "stdout",
     "output_type": "stream",
     "text": [
      " * sqlite:///flights.db\n",
      "Done.\n"
     ]
    },
    {
     "data": {
      "text/html": [
       "<table>\n",
       "    <thead>\n",
       "        <tr>\n",
       "            <th>COUNT(*)</th>\n",
       "        </tr>\n",
       "    </thead>\n",
       "    <tbody>\n",
       "        <tr>\n",
       "            <td>1491</td>\n",
       "        </tr>\n",
       "    </tbody>\n",
       "</table>"
      ],
      "text/plain": [
       "[(1491,)]"
      ]
     },
     "execution_count": 11,
     "metadata": {},
     "output_type": "execute_result"
    }
   ],
   "source": [
    "%%sql\n",
    "SELECT COUNT(*)\n",
    "FROM carriers;\n",
    "\n"
   ]
  },
  {
   "cell_type": "markdown",
   "metadata": {},
   "source": [
    "**Question 2** \n",
    "\n",
    "How long was the longest delay before departure? \n",
    "\n",
    "**Options:**\n",
    "- 1355 min\n",
    "- 999 min\n",
    "- 1099 min\n",
    "- 588 min"
   ]
  },
  {
   "cell_type": "code",
   "execution_count": 17,
   "metadata": {},
   "outputs": [
    {
     "name": "stdout",
     "output_type": "stream",
     "text": [
      " * sqlite:///flights.db\n",
      "Done.\n"
     ]
    },
    {
     "data": {
      "text/html": [
       "<table>\n",
       "    <thead>\n",
       "        <tr>\n",
       "            <th>MAX(DepDelay)</th>\n",
       "        </tr>\n",
       "    </thead>\n",
       "    <tbody>\n",
       "        <tr>\n",
       "            <td>1355.0</td>\n",
       "        </tr>\n",
       "    </tbody>\n",
       "</table>"
      ],
      "text/plain": [
       "[(1355.0,)]"
      ]
     },
     "execution_count": 17,
     "metadata": {},
     "output_type": "execute_result"
    }
   ],
   "source": [
    "%%sql \n",
    "\n",
    "SELECT MAX(DepDelay) FROM\n",
    "flights;"
   ]
  },
  {
   "cell_type": "markdown",
   "metadata": {},
   "source": [
    "**Question 3** \n",
    "\n",
    "How many flights departed on the 28th of January 2008?\n",
    "\n",
    "**Options:**\n",
    "- 540 908\n",
    "- 20 149\n",
    "- 19 495\n",
    "- 18 056"
   ]
  },
  {
   "cell_type": "code",
   "execution_count": 19,
   "metadata": {},
   "outputs": [
    {
     "name": "stdout",
     "output_type": "stream",
     "text": [
      " * sqlite:///flights.db\n",
      "Done.\n"
     ]
    },
    {
     "data": {
      "text/html": [
       "<table>\n",
       "    <thead>\n",
       "        <tr>\n",
       "            <th>COUNT(*)</th>\n",
       "        </tr>\n",
       "    </thead>\n",
       "    <tbody>\n",
       "        <tr>\n",
       "            <td>19495</td>\n",
       "        </tr>\n",
       "    </tbody>\n",
       "</table>"
      ],
      "text/plain": [
       "[(19495,)]"
      ]
     },
     "execution_count": 19,
     "metadata": {},
     "output_type": "execute_result"
    }
   ],
   "source": [
    "%%sql \n",
    "SELECT COUNT(*) FROM\n",
    "flights WHERE Date = \"2008/1/28\"\n",
    "AND cancelled = 0;\n"
   ]
  },
  {
   "cell_type": "markdown",
   "metadata": {},
   "source": [
    "**Question 4**\n",
    " \n",
    " What is the distance between Midway Airport (MDW) and Houston Airport (HOU)?\n",
    " \n",
    " **Options:**\n",
    " - 611 km\n",
    " - 972 km\n",
    " - 1 121 km\n",
    " - 937 km"
   ]
  },
  {
   "cell_type": "code",
   "execution_count": 21,
   "metadata": {},
   "outputs": [
    {
     "name": "stdout",
     "output_type": "stream",
     "text": [
      " * sqlite:///flights.db\n",
      "Done.\n"
     ]
    },
    {
     "data": {
      "text/html": [
       "<table>\n",
       "    <thead>\n",
       "        <tr>\n",
       "            <th>Distance</th>\n",
       "        </tr>\n",
       "    </thead>\n",
       "    <tbody>\n",
       "        <tr>\n",
       "            <td>937</td>\n",
       "        </tr>\n",
       "    </tbody>\n",
       "</table>"
      ],
      "text/plain": [
       "[(937,)]"
      ]
     },
     "execution_count": 21,
     "metadata": {},
     "output_type": "execute_result"
    }
   ],
   "source": [
    "%%sql\n",
    "\n",
    "SELECT DISTINCT Distance FROM flights\n",
    "WHERE Origin = \"MDW\" AND Dest\n",
    "= \"HOU\";\n"
   ]
  },
  {
   "cell_type": "markdown",
   "metadata": {},
   "source": [
    "**Question 5**\n",
    "\n",
    "Which day of the week had the highest number of cancelled flights?(Note 1 = cancelled , 0 = not cancelled;)\n",
    "\n",
    "\n",
    "**Options:**\n",
    "- Monday(1)\n",
    "- Wednesday(3) \n",
    "- Saturday(6) \n",
    "- Thursday (4) "
   ]
  },
  {
   "cell_type": "code",
   "execution_count": 7,
   "metadata": {},
   "outputs": [
    {
     "name": "stdout",
     "output_type": "stream",
     "text": [
      " * sqlite:///flights.db\n",
      "Done.\n"
     ]
    },
    {
     "data": {
      "text/html": [
       "<table>\n",
       "    <thead>\n",
       "        <tr>\n",
       "            <th>DayOfWeek</th>\n",
       "            <th>COUNT(DayOfWeek)</th>\n",
       "        </tr>\n",
       "    </thead>\n",
       "    <tbody>\n",
       "        <tr>\n",
       "            <td>4</td>\n",
       "            <td>17308</td>\n",
       "        </tr>\n",
       "    </tbody>\n",
       "</table>"
      ],
      "text/plain": [
       "[(4, 17308)]"
      ]
     },
     "execution_count": 7,
     "metadata": {},
     "output_type": "execute_result"
    }
   ],
   "source": [
    "%%sql \n",
    "SELECT DayOfWeek,COUNT(DayOfWeek) FROM flights\n",
    "WHERE cancelled = 1;\n"
   ]
  },
  {
   "cell_type": "markdown",
   "metadata": {},
   "source": [
    "**Question 6**\n",
    "\n",
    "How many airports have the word \"International\" in their name?\n",
    "\n",
    "**Options:**\n",
    "- 110\n",
    "- 124\n",
    "- 8\n",
    "- 2"
   ]
  },
  {
   "cell_type": "code",
   "execution_count": 11,
   "metadata": {},
   "outputs": [
    {
     "name": "stdout",
     "output_type": "stream",
     "text": [
      " * sqlite:///flights.db\n",
      "Done.\n"
     ]
    },
    {
     "data": {
      "text/html": [
       "<table>\n",
       "    <thead>\n",
       "        <tr>\n",
       "            <th>COUNT(airport)</th>\n",
       "        </tr>\n",
       "    </thead>\n",
       "    <tbody>\n",
       "        <tr>\n",
       "            <td>124</td>\n",
       "        </tr>\n",
       "    </tbody>\n",
       "</table>"
      ],
      "text/plain": [
       "[(124,)]"
      ]
     },
     "execution_count": 11,
     "metadata": {},
     "output_type": "execute_result"
    }
   ],
   "source": [
    "%%sql\n",
    "SELECT COUNT(airport) FROM airports\n",
    "WHERE  airport LIKE '%International%' \n",
    "LIMIT 3; \n"
   ]
  },
  {
   "cell_type": "markdown",
   "metadata": {},
   "source": [
    "**Question 7**\n",
    "\n",
    "What is the most produced model for the manufacturer \"BOEING\"?\n",
    "\n",
    "**Options:**\n",
    "- 717-200\n",
    "- 737-7H4\n",
    "- 757-222\n",
    "- 737-3H4"
   ]
  },
  {
   "cell_type": "code",
   "execution_count": 20,
   "metadata": {},
   "outputs": [
    {
     "name": "stdout",
     "output_type": "stream",
     "text": [
      " * sqlite:///flights.db\n",
      "Done.\n"
     ]
    },
    {
     "data": {
      "text/html": [
       "<table>\n",
       "    <thead>\n",
       "        <tr>\n",
       "            <th>Max(model)</th>\n",
       "        </tr>\n",
       "    </thead>\n",
       "    <tbody>\n",
       "        <tr>\n",
       "            <td>777-232LR</td>\n",
       "        </tr>\n",
       "    </tbody>\n",
       "</table>"
      ],
      "text/plain": [
       "[('777-232LR',)]"
      ]
     },
     "execution_count": 20,
     "metadata": {},
     "output_type": "execute_result"
    }
   ],
   "source": [
    "%%sql\n",
    "\n",
    "WITH CTE AS\n",
    "(SELECT manufacturer, model FROM planes)\n",
    "\n",
    "SELECT Max(model) FROM CTE WHERE manufacturer = \"BOEING\"\n",
    "LIMIT 7000;"
   ]
  },
  {
   "cell_type": "markdown",
   "metadata": {},
   "source": [
    "**Question 8**\n",
    "\n",
    "What manufacturer had the highest average delay time (DepDelay + ArrDelay)? \n",
    "\n",
    "**Options:**\n",
    "- PAIR MIKE E\n",
    "- AERONCA\n",
    "- AVIAT AIRCRAFT INC\n",
    "- BOEING OF CANADA LTD"
   ]
  },
  {
   "cell_type": "code",
   "execution_count": 66,
   "metadata": {},
   "outputs": [
    {
     "name": "stdout",
     "output_type": "stream",
     "text": [
      " * sqlite:///flights.db\n",
      "Done.\n"
     ]
    },
    {
     "data": {
      "text/html": [
       "<table>\n",
       "    <thead>\n",
       "        <tr>\n",
       "            <th>manufacturer</th>\n",
       "            <th>totalDelay</th>\n",
       "        </tr>\n",
       "    </thead>\n",
       "    <tbody>\n",
       "        <tr>\n",
       "            <td>BOEING</td>\n",
       "            <td>1400.0</td>\n",
       "        </tr>\n",
       "    </tbody>\n",
       "</table>"
      ],
      "text/plain": [
       "[('BOEING', 1400.0)]"
      ]
     },
     "execution_count": 66,
     "metadata": {},
     "output_type": "execute_result"
    }
   ],
   "source": [
    "%%sql\n",
    "WITH CTE AS\n",
    "(SELECT manufacturer, MAX((DepDelay + ArrDelay)/2) as totalDelay FROM flights\n",
    "INNER JOIN planes\n",
    "ON planes.tailnum = flights.tailnum)\n",
    "\n",
    "SELECT * FROM CTE WHERE CTE.totalDelay = CTE.totalDelay;"
   ]
  },
  {
   "cell_type": "code",
   "execution_count": null,
   "metadata": {},
   "outputs": [],
   "source": [
    "WITH CTE AS \n",
    "(SELECT AirTime/5 as fifth_time, DepDelay, TailNum FROM flights)\n",
    "\n",
    "SELECT TailNum, DepDelay \n",
    "FROM CTE\n",
    "WHERE CTE.fifth_time < CTE.DepDelay\n",
    "LIMIT 5000;"
   ]
  },
  {
   "cell_type": "markdown",
   "metadata": {},
   "source": [
    "**Question 9**\n",
    "\n",
    "How many planes landed at Los Angeles International Airport? \n",
    "\n",
    "**Options:**\n",
    "- 215 608\n",
    "- 18 514\n",
    "- 41 258\n",
    "- 39 422"
   ]
  },
  {
   "cell_type": "code",
   "execution_count": 36,
   "metadata": {},
   "outputs": [
    {
     "name": "stdout",
     "output_type": "stream",
     "text": [
      " * sqlite:///flights.db\n",
      "Done.\n"
     ]
    },
    {
     "data": {
      "text/html": [
       "<table>\n",
       "    <thead>\n",
       "        <tr>\n",
       "            <th>COUNT(*)</th>\n",
       "        </tr>\n",
       "    </thead>\n",
       "    <tbody>\n",
       "        <tr>\n",
       "            <td>18514</td>\n",
       "        </tr>\n",
       "    </tbody>\n",
       "</table>"
      ],
      "text/plain": [
       "[(18514,)]"
      ]
     },
     "execution_count": 36,
     "metadata": {},
     "output_type": "execute_result"
    }
   ],
   "source": [
    "%%sql\n",
    "\n",
    "SELECT COUNT(*) FROM flights\n",
    "INNER JOIN airports\n",
    "ON airports.iata = flights.Dest\n",
    "WHERE cancelled = 0 AND iata = \"LAX\"\n",
    "LIMIT 100;"
   ]
  },
  {
   "cell_type": "markdown",
   "metadata": {},
   "source": [
    "**Question 10**\n",
    "\n",
    "Which domestic carrier had the best on-time performance (OTP), where OTP is defined as the rate of on time flights with a 15min buffer on departure and arrival?\n",
    "\n",
    "**Options:**\n",
    "- American Airlines Inc\n",
    "- Hawaiian Airlines Inc\n",
    "- Comair Inc\n",
    "- Aloha Airlines Inc"
   ]
  },
  {
   "cell_type": "code",
   "execution_count": 27,
   "metadata": {},
   "outputs": [
    {
     "name": "stdout",
     "output_type": "stream",
     "text": [
      " * sqlite:///flights.db\n",
      "Done.\n"
     ]
    },
    {
     "data": {
      "text/html": [
       "<table>\n",
       "    <thead>\n",
       "        <tr>\n",
       "            <th>Max(Description)</th>\n",
       "            <th>ArrDifference</th>\n",
       "            <th>DepDifference</th>\n",
       "        </tr>\n",
       "    </thead>\n",
       "    <tbody>\n",
       "        <tr>\n",
       "            <td>US Airways Inc. (Merged with America West 9/05. Reporting for both starting 10/07.)\r",
       "</td>\n",
       "            <td>15.0</td>\n",
       "            <td>15.0</td>\n",
       "        </tr>\n",
       "    </tbody>\n",
       "</table>"
      ],
      "text/plain": [
       "[('US Airways Inc. (Merged with America West 9/05. Reporting for both starting 10/07.)\\r', 15.0, 15.0)]"
      ]
     },
     "execution_count": 27,
     "metadata": {},
     "output_type": "execute_result"
    }
   ],
   "source": [
    "%%sql \n",
    "SELECT Max(Description), CRSArrTime - ArrTime as ArrDifference, CRSDepTime - DepTime\n",
    "as DepDifference FROM flights\n",
    "INNER JOIN carriers\n",
    "ON carriers.Code = flights.UniqueCarrier\n",
    "WHERE DepDifference = 15 AND\n",
    "ArrDifference = 15 AND cancelled = 0;\n"
   ]
  }
 ],
 "metadata": {
  "kernelspec": {
   "display_name": "Python 3 (ipykernel)",
   "language": "python",
   "name": "python3"
  },
  "language_info": {
   "codemirror_mode": {
    "name": "ipython",
    "version": 3
   },
   "file_extension": ".py",
   "mimetype": "text/x-python",
   "name": "python",
   "nbconvert_exporter": "python",
   "pygments_lexer": "ipython3",
   "version": "3.9.13"
  }
 },
 "nbformat": 4,
 "nbformat_minor": 2
}
