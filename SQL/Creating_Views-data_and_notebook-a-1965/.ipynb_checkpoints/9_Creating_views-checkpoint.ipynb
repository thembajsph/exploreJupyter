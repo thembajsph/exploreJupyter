{
 "cells": [
  {
   "cell_type": "markdown",
   "metadata": {},
   "source": [
    "# Views in SQL\n",
    "\n",
    "© Explore Data Science Academy"
   ]
  },
  {
   "cell_type": "markdown",
   "metadata": {},
   "source": [
    "## Learning Objectives\n",
    "\n",
    "In this train, we will learn how to:\n",
    "\n",
    "- Define and describe what views are;\n",
    "- Understand the function of a view in SQL relational databases;\n",
    "- Distinguish between different types of views in SQL relational databases; and\n",
    "- Create views using SQL."
   ]
  },
  {
   "cell_type": "markdown",
   "metadata": {},
   "source": [
    "## Outline\n",
    "\n",
    "To meet our objectives, this train is structured as follows:\n",
    "\n",
    "- Train dependencies.\n",
    "- Views: What is a view and why are they necessary?\n",
    "- Exploring and creating different view types.\n",
    "- Dropping a view.\n",
    "- Best practices for setting up a view.\n",
    "- Practice questions.\n",
    "- Conclusion\n",
    "- Appendix"
   ]
  },
  {
   "cell_type": "markdown",
   "metadata": {},
   "source": [
    "#### A quick note:\n",
    "\n",
    "Within this train we will make several changes to our underlying dataset. If at any point you wish to reset these changes, please run the following SQL query: \n",
    "\n",
    "```SQL\n",
    "DROP VIEW Customer_Germany;\n",
    "DROP VIEW Customer_Support_View;\n",
    "DROP VIEW Customer_View;\n",
    "DROP VIEW Customer_per_Country_View;\n",
    "DROP VIEW Employee_View;\n",
    "DROP VIEW Support_Person_Stats;\n",
    "```"
   ]
  },
  {
   "cell_type": "markdown",
   "metadata": {},
   "source": [
    "## Views: What is a 'view' and why are they necessary?\n",
    "\n",
    "In SQL, you may have hundreds of tables all linking up with each other. Some or most of the data they contain many not necessarily be informative. This results in complex queries which are needed to extract the informative parts. The underlying complexity also makes it difficult to navigate through all of the database and its multiple relationships.\n",
    "\n",
    "Bearing this dilemma in mind, imagine suddenly that you are on holiday and need to take a photograph of the beautiful landscape you find yourself in. Now unfortunately you can't take a 360-degree photo, which is possibly a good thing as you might want to omit certain aspects that don't make the photo as appealing as you would like. Instead, you would need to frame the photo for the best possible view that captures the landscape. \n",
    "\n",
    "We observe that an analogous process can be achieved in SQL. Just as we could frame our view of the landscape, a view in SQL allows a user to view a snapshot of selected data from a table or many tables - presenting only desired information while hiding the underlying complexity/scale of the full dataset. \n",
    "\n",
    "Formally speaking, a view is a virtual table that is created within SQL which does not hold any physical storage. Rather, it is stored under \"data dictionary\" memory. A view is similar to a table with regards to how it can be constructed. Furthermore, like tables you can apply many functions to a view such as joins, aggregative operations and filtering.\n",
    "\n",
    "Below is a diagram showing how two tables (employee table & customer table) can be filtered to select certain columns of the data. The view (the table on the right) shows the columns deemed important from the two tables."
   ]
  },
  {
   "cell_type": "markdown",
   "metadata": {},
   "source": [
    "![SQL Views Introduction](https://github.com/Explore-AI/Public-Data/blob/master/Notebook-images/View_intro.jpg?raw=true)"
   ]
  },
  {
   "cell_type": "markdown",
   "metadata": {},
   "source": [
    "So if we have the tables, why not just write all the queries and save their results as a new summarised table that can be accessed later?\n",
    "\n",
    "To understand why this is a bad idea, its important to note that tables in SQL can permanently occupy physical memory and influence the underlying schema of the database. This introduces problems of _complexity_ and _security access_. \n",
    "\n",
    "A view address these problems with its <b>two main functions</b>, namely:\n",
    "\n",
    "1. Reducing and/or hiding complexity.\n",
    "2. Controlling security access to the database.\n",
    "\n",
    "A view can _reduce and/or hide complexity_ by combining queries needed to summarise data and make it accessible in a quick manner. Furthermore, by not affecting the underlying schema of the database, there is not need to further normalise the data or create new relationship fields - saving precious time which could be spent elsewhere.  \n",
    "\n",
    "To grasp the second main function of a view, imagine again that you're in a hypothetical scenario where you have admin access to important customer data on a database that is also sensitive. Here, in order to keep this data safe, you might want someone else working on the database to only be able to explore non-confidential aspects of the data, while other tables are restricted. A view allows the administrator to _control security access of the database_ by only allowing a view of certain selected data. "
   ]
  },
  {
   "cell_type": "markdown",
   "metadata": {},
   "source": [
    "## Exploring Views and Different View Types\n",
    "\n",
    "With some intuition under our belts, in this section, you will get the opportunity to see how views can be created and dropped. You will also get to see the different types of views used in practice. "
   ]
  },
  {
   "cell_type": "markdown",
   "metadata": {},
   "source": [
    "#### Let's get an overview of the database"
   ]
  },
  {
   "cell_type": "code",
   "execution_count": 1,
   "metadata": {},
   "outputs": [],
   "source": [
    "#Load the SQL extension to use magic commands.\n",
    "%load_ext sql"
   ]
  },
  {
   "cell_type": "code",
   "execution_count": 2,
   "metadata": {},
   "outputs": [],
   "source": [
    "# Load SQLite database\n",
    "%sql sqlite:///chinook.db"
   ]
  },
  {
   "cell_type": "markdown",
   "metadata": {},
   "source": [
    "Below are all the different tables in the database:"
   ]
  },
  {
   "cell_type": "code",
   "execution_count": 3,
   "metadata": {},
   "outputs": [
    {
     "name": "stdout",
     "output_type": "stream",
     "text": [
      " * sqlite:///chinook.db\n",
      "Done.\n"
     ]
    },
    {
     "data": {
      "text/html": [
       "<table>\n",
       "    <tr>\n",
       "        <th>name</th>\n",
       "    </tr>\n",
       "    <tr>\n",
       "        <td>albums</td>\n",
       "    </tr>\n",
       "    <tr>\n",
       "        <td>artists</td>\n",
       "    </tr>\n",
       "    <tr>\n",
       "        <td>customers</td>\n",
       "    </tr>\n",
       "    <tr>\n",
       "        <td>employees</td>\n",
       "    </tr>\n",
       "    <tr>\n",
       "        <td>genres</td>\n",
       "    </tr>\n",
       "    <tr>\n",
       "        <td>invoice_items</td>\n",
       "    </tr>\n",
       "    <tr>\n",
       "        <td>invoices</td>\n",
       "    </tr>\n",
       "    <tr>\n",
       "        <td>media_types</td>\n",
       "    </tr>\n",
       "    <tr>\n",
       "        <td>playlist_track</td>\n",
       "    </tr>\n",
       "    <tr>\n",
       "        <td>playlists</td>\n",
       "    </tr>\n",
       "    <tr>\n",
       "        <td>tracks</td>\n",
       "    </tr>\n",
       "</table>"
      ],
      "text/plain": [
       "[('albums',),\n",
       " ('artists',),\n",
       " ('customers',),\n",
       " ('employees',),\n",
       " ('genres',),\n",
       " ('invoice_items',),\n",
       " ('invoices',),\n",
       " ('media_types',),\n",
       " ('playlist_track',),\n",
       " ('playlists',),\n",
       " ('tracks',)]"
      ]
     },
     "execution_count": 3,
     "metadata": {},
     "output_type": "execute_result"
    }
   ],
   "source": [
    "%%sql\n",
    "\n",
    "SELECT name FROM sqlite_master WHERE type IN ('table','view') AND name NOT LIKE 'sqlite_%' ORDER BY 1"
   ]
  },
  {
   "cell_type": "markdown",
   "metadata": {},
   "source": [
    "As a refresher, lets have a quick look at the data within the 'Employees' and 'customers' tables:"
   ]
  },
  {
   "cell_type": "code",
   "execution_count": 4,
   "metadata": {},
   "outputs": [
    {
     "name": "stdout",
     "output_type": "stream",
     "text": [
      " * sqlite:///chinook.db\n",
      "Done.\n"
     ]
    },
    {
     "data": {
      "text/html": [
       "<table>\n",
       "    <tr>\n",
       "        <th>EmployeeId</th>\n",
       "        <th>LastName</th>\n",
       "        <th>FirstName</th>\n",
       "        <th>Title</th>\n",
       "        <th>ReportsTo</th>\n",
       "        <th>BirthDate</th>\n",
       "        <th>HireDate</th>\n",
       "        <th>Address</th>\n",
       "        <th>City</th>\n",
       "        <th>State</th>\n",
       "        <th>Country</th>\n",
       "        <th>PostalCode</th>\n",
       "        <th>Phone</th>\n",
       "        <th>Fax</th>\n",
       "        <th>Email</th>\n",
       "    </tr>\n",
       "    <tr>\n",
       "        <td>1</td>\n",
       "        <td>Adams</td>\n",
       "        <td>Andrew</td>\n",
       "        <td>General Manager</td>\n",
       "        <td>None</td>\n",
       "        <td>1962-02-18 00:00:00</td>\n",
       "        <td>2002-08-14 00:00:00</td>\n",
       "        <td>11120 Jasper Ave NW</td>\n",
       "        <td>Edmonton</td>\n",
       "        <td>AB</td>\n",
       "        <td>Canada</td>\n",
       "        <td>T5K 2N1</td>\n",
       "        <td>+1 (780) 428-9482</td>\n",
       "        <td>+1 (780) 428-3457</td>\n",
       "        <td>andrew@chinookcorp.com</td>\n",
       "    </tr>\n",
       "    <tr>\n",
       "        <td>2</td>\n",
       "        <td>Edwards</td>\n",
       "        <td>Nancy</td>\n",
       "        <td>Sales Manager</td>\n",
       "        <td>1</td>\n",
       "        <td>1958-12-08 00:00:00</td>\n",
       "        <td>2002-05-01 00:00:00</td>\n",
       "        <td>825 8 Ave SW</td>\n",
       "        <td>Calgary</td>\n",
       "        <td>AB</td>\n",
       "        <td>Canada</td>\n",
       "        <td>T2P 2T3</td>\n",
       "        <td>+1 (403) 262-3443</td>\n",
       "        <td>+1 (403) 262-3322</td>\n",
       "        <td>nancy@chinookcorp.com</td>\n",
       "    </tr>\n",
       "    <tr>\n",
       "        <td>3</td>\n",
       "        <td>Peacock</td>\n",
       "        <td>Jane</td>\n",
       "        <td>Sales Support Agent</td>\n",
       "        <td>2</td>\n",
       "        <td>1973-08-29 00:00:00</td>\n",
       "        <td>2002-04-01 00:00:00</td>\n",
       "        <td>1111 6 Ave SW</td>\n",
       "        <td>Calgary</td>\n",
       "        <td>AB</td>\n",
       "        <td>Canada</td>\n",
       "        <td>T2P 5M5</td>\n",
       "        <td>+1 (403) 262-3443</td>\n",
       "        <td>+1 (403) 262-6712</td>\n",
       "        <td>jane@chinookcorp.com</td>\n",
       "    </tr>\n",
       "    <tr>\n",
       "        <td>4</td>\n",
       "        <td>Park</td>\n",
       "        <td>Margaret</td>\n",
       "        <td>Sales Support Agent</td>\n",
       "        <td>2</td>\n",
       "        <td>1947-09-19 00:00:00</td>\n",
       "        <td>2003-05-03 00:00:00</td>\n",
       "        <td>683 10 Street SW</td>\n",
       "        <td>Calgary</td>\n",
       "        <td>AB</td>\n",
       "        <td>Canada</td>\n",
       "        <td>T2P 5G3</td>\n",
       "        <td>+1 (403) 263-4423</td>\n",
       "        <td>+1 (403) 263-4289</td>\n",
       "        <td>margaret@chinookcorp.com</td>\n",
       "    </tr>\n",
       "    <tr>\n",
       "        <td>5</td>\n",
       "        <td>Johnson</td>\n",
       "        <td>Steve</td>\n",
       "        <td>Sales Support Agent</td>\n",
       "        <td>2</td>\n",
       "        <td>1965-03-03 00:00:00</td>\n",
       "        <td>2003-10-17 00:00:00</td>\n",
       "        <td>7727B 41 Ave</td>\n",
       "        <td>Calgary</td>\n",
       "        <td>AB</td>\n",
       "        <td>Canada</td>\n",
       "        <td>T3B 1Y7</td>\n",
       "        <td>1 (780) 836-9987</td>\n",
       "        <td>1 (780) 836-9543</td>\n",
       "        <td>steve@chinookcorp.com</td>\n",
       "    </tr>\n",
       "</table>"
      ],
      "text/plain": [
       "[(1, 'Adams', 'Andrew', 'General Manager', None, '1962-02-18 00:00:00', '2002-08-14 00:00:00', '11120 Jasper Ave NW', 'Edmonton', 'AB', 'Canada', 'T5K 2N1', '+1 (780) 428-9482', '+1 (780) 428-3457', 'andrew@chinookcorp.com'),\n",
       " (2, 'Edwards', 'Nancy', 'Sales Manager', 1, '1958-12-08 00:00:00', '2002-05-01 00:00:00', '825 8 Ave SW', 'Calgary', 'AB', 'Canada', 'T2P 2T3', '+1 (403) 262-3443', '+1 (403) 262-3322', 'nancy@chinookcorp.com'),\n",
       " (3, 'Peacock', 'Jane', 'Sales Support Agent', 2, '1973-08-29 00:00:00', '2002-04-01 00:00:00', '1111 6 Ave SW', 'Calgary', 'AB', 'Canada', 'T2P 5M5', '+1 (403) 262-3443', '+1 (403) 262-6712', 'jane@chinookcorp.com'),\n",
       " (4, 'Park', 'Margaret', 'Sales Support Agent', 2, '1947-09-19 00:00:00', '2003-05-03 00:00:00', '683 10 Street SW', 'Calgary', 'AB', 'Canada', 'T2P 5G3', '+1 (403) 263-4423', '+1 (403) 263-4289', 'margaret@chinookcorp.com'),\n",
       " (5, 'Johnson', 'Steve', 'Sales Support Agent', 2, '1965-03-03 00:00:00', '2003-10-17 00:00:00', '7727B 41 Ave', 'Calgary', 'AB', 'Canada', 'T3B 1Y7', '1 (780) 836-9987', '1 (780) 836-9543', 'steve@chinookcorp.com')]"
      ]
     },
     "execution_count": 4,
     "metadata": {},
     "output_type": "execute_result"
    }
   ],
   "source": [
    "%%sql\n",
    "\n",
    "SELECT * FROM Employees\n",
    "LIMIT 5;"
   ]
  },
  {
   "cell_type": "markdown",
   "metadata": {},
   "source": [
    "Remember that the `LIMIT` keyword restricts the number of results returned from our queries to make them more readable. "
   ]
  },
  {
   "cell_type": "code",
   "execution_count": 5,
   "metadata": {},
   "outputs": [
    {
     "name": "stdout",
     "output_type": "stream",
     "text": [
      " * sqlite:///chinook.db\n",
      "Done.\n"
     ]
    },
    {
     "data": {
      "text/html": [
       "<table>\n",
       "    <tr>\n",
       "        <th>CustomerId</th>\n",
       "        <th>FirstName</th>\n",
       "        <th>LastName</th>\n",
       "        <th>Company</th>\n",
       "        <th>Address</th>\n",
       "        <th>City</th>\n",
       "        <th>State</th>\n",
       "        <th>Country</th>\n",
       "        <th>PostalCode</th>\n",
       "        <th>Phone</th>\n",
       "        <th>Fax</th>\n",
       "        <th>Email</th>\n",
       "        <th>SupportRepId</th>\n",
       "    </tr>\n",
       "    <tr>\n",
       "        <td>1</td>\n",
       "        <td>Luís</td>\n",
       "        <td>Gonçalves</td>\n",
       "        <td>Embraer - Empresa Brasileira de Aeronáutica S.A.</td>\n",
       "        <td>Av. Brigadeiro Faria Lima, 2170</td>\n",
       "        <td>São José dos Campos</td>\n",
       "        <td>SP</td>\n",
       "        <td>Brazil</td>\n",
       "        <td>12227-000</td>\n",
       "        <td>+55 (12) 3923-5555</td>\n",
       "        <td>+55 (12) 3923-5566</td>\n",
       "        <td>luisg@embraer.com.br</td>\n",
       "        <td>3</td>\n",
       "    </tr>\n",
       "    <tr>\n",
       "        <td>2</td>\n",
       "        <td>Leonie</td>\n",
       "        <td>Köhler</td>\n",
       "        <td>None</td>\n",
       "        <td>Theodor-Heuss-Straße 34</td>\n",
       "        <td>Stuttgart</td>\n",
       "        <td>None</td>\n",
       "        <td>Germany</td>\n",
       "        <td>70174</td>\n",
       "        <td>+49 0711 2842222</td>\n",
       "        <td>None</td>\n",
       "        <td>leonekohler@surfeu.de</td>\n",
       "        <td>5</td>\n",
       "    </tr>\n",
       "    <tr>\n",
       "        <td>3</td>\n",
       "        <td>François</td>\n",
       "        <td>Tremblay</td>\n",
       "        <td>None</td>\n",
       "        <td>1498 rue Bélanger</td>\n",
       "        <td>Montréal</td>\n",
       "        <td>QC</td>\n",
       "        <td>Canada</td>\n",
       "        <td>H2G 1A7</td>\n",
       "        <td>+1 (514) 721-4711</td>\n",
       "        <td>None</td>\n",
       "        <td>ftremblay@gmail.com</td>\n",
       "        <td>3</td>\n",
       "    </tr>\n",
       "    <tr>\n",
       "        <td>4</td>\n",
       "        <td>Bjørn</td>\n",
       "        <td>Hansen</td>\n",
       "        <td>None</td>\n",
       "        <td>Ullevålsveien 14</td>\n",
       "        <td>Oslo</td>\n",
       "        <td>None</td>\n",
       "        <td>Norway</td>\n",
       "        <td>0171</td>\n",
       "        <td>+47 22 44 22 22</td>\n",
       "        <td>None</td>\n",
       "        <td>bjorn.hansen@yahoo.no</td>\n",
       "        <td>4</td>\n",
       "    </tr>\n",
       "    <tr>\n",
       "        <td>5</td>\n",
       "        <td>František</td>\n",
       "        <td>Wichterlová</td>\n",
       "        <td>JetBrains s.r.o.</td>\n",
       "        <td>Klanova 9/506</td>\n",
       "        <td>Prague</td>\n",
       "        <td>None</td>\n",
       "        <td>Czech Republic</td>\n",
       "        <td>14700</td>\n",
       "        <td>+420 2 4172 5555</td>\n",
       "        <td>+420 2 4172 5555</td>\n",
       "        <td>frantisekw@jetbrains.com</td>\n",
       "        <td>4</td>\n",
       "    </tr>\n",
       "</table>"
      ],
      "text/plain": [
       "[(1, 'Luís', 'Gonçalves', 'Embraer - Empresa Brasileira de Aeronáutica S.A.', 'Av. Brigadeiro Faria Lima, 2170', 'São José dos Campos', 'SP', 'Brazil', '12227-000', '+55 (12) 3923-5555', '+55 (12) 3923-5566', 'luisg@embraer.com.br', 3),\n",
       " (2, 'Leonie', 'Köhler', None, 'Theodor-Heuss-Straße 34', 'Stuttgart', None, 'Germany', '70174', '+49 0711 2842222', None, 'leonekohler@surfeu.de', 5),\n",
       " (3, 'François', 'Tremblay', None, '1498 rue Bélanger', 'Montréal', 'QC', 'Canada', 'H2G 1A7', '+1 (514) 721-4711', None, 'ftremblay@gmail.com', 3),\n",
       " (4, 'Bjørn', 'Hansen', None, 'Ullevålsveien 14', 'Oslo', None, 'Norway', '0171', '+47 22 44 22 22', None, 'bjorn.hansen@yahoo.no', 4),\n",
       " (5, 'František', 'Wichterlová', 'JetBrains s.r.o.', 'Klanova 9/506', 'Prague', None, 'Czech Republic', '14700', '+420 2 4172 5555', '+420 2 4172 5555', 'frantisekw@jetbrains.com', 4)]"
      ]
     },
     "execution_count": 5,
     "metadata": {},
     "output_type": "execute_result"
    }
   ],
   "source": [
    "%%sql\n",
    "\n",
    "SELECT * FROM customers\n",
    "LIMIT 5;"
   ]
  },
  {
   "cell_type": "markdown",
   "metadata": {},
   "source": [
    "### CREATE a View\n",
    "\n",
    "Let's quickly focus on the syntax used to create a view. \n",
    "\n",
    "Use the `CREATE VIEW` SQL command to set up a view. Your syntax will be as follows:\n",
    "\n",
    "```CREATE VIEW```    _ViewName_ ```AS``` <br>\n",
    "```SELECT```         _column_names_ <br>\n",
    "```FROM```           _table_name_; <br>\n",
    "\n",
    "Let's give this a try:"
   ]
  },
  {
   "cell_type": "code",
   "execution_count": 6,
   "metadata": {},
   "outputs": [
    {
     "name": "stdout",
     "output_type": "stream",
     "text": [
      " * sqlite:///chinook.db\n",
      "Done.\n"
     ]
    },
    {
     "data": {
      "text/plain": [
       "[]"
      ]
     },
     "execution_count": 6,
     "metadata": {},
     "output_type": "execute_result"
    }
   ],
   "source": [
    "%%sql\n",
    "\n",
    "CREATE VIEW Customer_View AS                 \n",
    "SELECT FirstName, LastName, Company, Email\n",
    "FROM customers ;"
   ]
  },
  {
   "cell_type": "code",
   "execution_count": 7,
   "metadata": {},
   "outputs": [
    {
     "name": "stdout",
     "output_type": "stream",
     "text": [
      " * sqlite:///chinook.db\n",
      "Done.\n"
     ]
    },
    {
     "data": {
      "text/html": [
       "<table>\n",
       "    <tr>\n",
       "        <th>FirstName</th>\n",
       "        <th>LastName</th>\n",
       "        <th>Company</th>\n",
       "        <th>Email</th>\n",
       "    </tr>\n",
       "    <tr>\n",
       "        <td>Luís</td>\n",
       "        <td>Gonçalves</td>\n",
       "        <td>Embraer - Empresa Brasileira de Aeronáutica S.A.</td>\n",
       "        <td>luisg@embraer.com.br</td>\n",
       "    </tr>\n",
       "    <tr>\n",
       "        <td>Leonie</td>\n",
       "        <td>Köhler</td>\n",
       "        <td>None</td>\n",
       "        <td>leonekohler@surfeu.de</td>\n",
       "    </tr>\n",
       "    <tr>\n",
       "        <td>François</td>\n",
       "        <td>Tremblay</td>\n",
       "        <td>None</td>\n",
       "        <td>ftremblay@gmail.com</td>\n",
       "    </tr>\n",
       "    <tr>\n",
       "        <td>Bjørn</td>\n",
       "        <td>Hansen</td>\n",
       "        <td>None</td>\n",
       "        <td>bjorn.hansen@yahoo.no</td>\n",
       "    </tr>\n",
       "    <tr>\n",
       "        <td>František</td>\n",
       "        <td>Wichterlová</td>\n",
       "        <td>JetBrains s.r.o.</td>\n",
       "        <td>frantisekw@jetbrains.com</td>\n",
       "    </tr>\n",
       "    <tr>\n",
       "        <td>Helena</td>\n",
       "        <td>Holý</td>\n",
       "        <td>None</td>\n",
       "        <td>hholy@gmail.com</td>\n",
       "    </tr>\n",
       "    <tr>\n",
       "        <td>Astrid</td>\n",
       "        <td>Gruber</td>\n",
       "        <td>None</td>\n",
       "        <td>astrid.gruber@apple.at</td>\n",
       "    </tr>\n",
       "    <tr>\n",
       "        <td>Daan</td>\n",
       "        <td>Peeters</td>\n",
       "        <td>None</td>\n",
       "        <td>daan_peeters@apple.be</td>\n",
       "    </tr>\n",
       "    <tr>\n",
       "        <td>Kara</td>\n",
       "        <td>Nielsen</td>\n",
       "        <td>None</td>\n",
       "        <td>kara.nielsen@jubii.dk</td>\n",
       "    </tr>\n",
       "    <tr>\n",
       "        <td>Eduardo</td>\n",
       "        <td>Martins</td>\n",
       "        <td>Woodstock Discos</td>\n",
       "        <td>eduardo@woodstock.com.br</td>\n",
       "    </tr>\n",
       "</table>"
      ],
      "text/plain": [
       "[('Luís', 'Gonçalves', 'Embraer - Empresa Brasileira de Aeronáutica S.A.', 'luisg@embraer.com.br'),\n",
       " ('Leonie', 'Köhler', None, 'leonekohler@surfeu.de'),\n",
       " ('François', 'Tremblay', None, 'ftremblay@gmail.com'),\n",
       " ('Bjørn', 'Hansen', None, 'bjorn.hansen@yahoo.no'),\n",
       " ('František', 'Wichterlová', 'JetBrains s.r.o.', 'frantisekw@jetbrains.com'),\n",
       " ('Helena', 'Holý', None, 'hholy@gmail.com'),\n",
       " ('Astrid', 'Gruber', None, 'astrid.gruber@apple.at'),\n",
       " ('Daan', 'Peeters', None, 'daan_peeters@apple.be'),\n",
       " ('Kara', 'Nielsen', None, 'kara.nielsen@jubii.dk'),\n",
       " ('Eduardo', 'Martins', 'Woodstock Discos', 'eduardo@woodstock.com.br')]"
      ]
     },
     "execution_count": 7,
     "metadata": {},
     "output_type": "execute_result"
    }
   ],
   "source": [
    "%%sql\n",
    "\n",
    "SELECT * FROM Customer_View\n",
    "LIMIT 10;                   "
   ]
  },
  {
   "cell_type": "markdown",
   "metadata": {},
   "source": [
    "## Different types of Views\n",
    "\n",
    "There are three different types of views available in SQL: \n",
    "\n",
    "- Look Up View\n",
    "- Join View\n",
    "- Aggregating View\n",
    "\n",
    "We'll investigate these respectively within the sections below."
   ]
  },
  {
   "cell_type": "markdown",
   "metadata": {},
   "source": [
    "### Look Up View\n",
    "\n",
    "A look up view allows the user to select a certain number of columns from a single table. \n",
    "\n",
    "Below is a diagram of a view being created from selected columns in a table. In a hypothetical situation regarding bank account details, we might want to only look at specific variables/columns in the data. For example, we are only interested in the account number (\"Acc. #\"), \"Surname\" and \"Name\" of a particular customer. Our view would look similar to the diagram below.\n",
    "\n"
   ]
  },
  {
   "cell_type": "markdown",
   "metadata": {},
   "source": [
    "![SQL Look Up View](https://github.com/Explore-AI/Public-Data/blob/master/Notebook-images/lookup_view.jpg?raw=true)"
   ]
  },
  {
   "cell_type": "markdown",
   "metadata": {},
   "source": [
    "#### Here are some practical examples of a Look Up View using the Chinook database."
   ]
  },
  {
   "cell_type": "code",
   "execution_count": 8,
   "metadata": {},
   "outputs": [
    {
     "name": "stdout",
     "output_type": "stream",
     "text": [
      " * sqlite:///chinook.db\n",
      "Done.\n"
     ]
    },
    {
     "data": {
      "text/plain": [
       "[]"
      ]
     },
     "execution_count": 8,
     "metadata": {},
     "output_type": "execute_result"
    }
   ],
   "source": [
    "%%sql\n",
    "\n",
    "CREATE VIEW Employee_View AS \n",
    "SELECT LastName, FirstName, Title, Country\n",
    "FROM Employees"
   ]
  },
  {
   "cell_type": "markdown",
   "metadata": {},
   "source": [
    "As defined above, we might only be required to view the surname, first name, title and country of an employee. Our view would then look like the following:"
   ]
  },
  {
   "cell_type": "code",
   "execution_count": 9,
   "metadata": {},
   "outputs": [
    {
     "name": "stdout",
     "output_type": "stream",
     "text": [
      " * sqlite:///chinook.db\n",
      "Done.\n"
     ]
    },
    {
     "data": {
      "text/html": [
       "<table>\n",
       "    <tr>\n",
       "        <th>LastName</th>\n",
       "        <th>FirstName</th>\n",
       "        <th>Title</th>\n",
       "        <th>Country</th>\n",
       "    </tr>\n",
       "    <tr>\n",
       "        <td>Adams</td>\n",
       "        <td>Andrew</td>\n",
       "        <td>General Manager</td>\n",
       "        <td>Canada</td>\n",
       "    </tr>\n",
       "    <tr>\n",
       "        <td>Edwards</td>\n",
       "        <td>Nancy</td>\n",
       "        <td>Sales Manager</td>\n",
       "        <td>Canada</td>\n",
       "    </tr>\n",
       "    <tr>\n",
       "        <td>Peacock</td>\n",
       "        <td>Jane</td>\n",
       "        <td>Sales Support Agent</td>\n",
       "        <td>Canada</td>\n",
       "    </tr>\n",
       "    <tr>\n",
       "        <td>Park</td>\n",
       "        <td>Margaret</td>\n",
       "        <td>Sales Support Agent</td>\n",
       "        <td>Canada</td>\n",
       "    </tr>\n",
       "    <tr>\n",
       "        <td>Johnson</td>\n",
       "        <td>Steve</td>\n",
       "        <td>Sales Support Agent</td>\n",
       "        <td>Canada</td>\n",
       "    </tr>\n",
       "    <tr>\n",
       "        <td>Mitchell</td>\n",
       "        <td>Michael</td>\n",
       "        <td>IT Manager</td>\n",
       "        <td>Canada</td>\n",
       "    </tr>\n",
       "    <tr>\n",
       "        <td>King</td>\n",
       "        <td>Robert</td>\n",
       "        <td>IT Staff</td>\n",
       "        <td>Canada</td>\n",
       "    </tr>\n",
       "    <tr>\n",
       "        <td>Callahan</td>\n",
       "        <td>Laura</td>\n",
       "        <td>IT Staff</td>\n",
       "        <td>Canada</td>\n",
       "    </tr>\n",
       "</table>"
      ],
      "text/plain": [
       "[('Adams', 'Andrew', 'General Manager', 'Canada'),\n",
       " ('Edwards', 'Nancy', 'Sales Manager', 'Canada'),\n",
       " ('Peacock', 'Jane', 'Sales Support Agent', 'Canada'),\n",
       " ('Park', 'Margaret', 'Sales Support Agent', 'Canada'),\n",
       " ('Johnson', 'Steve', 'Sales Support Agent', 'Canada'),\n",
       " ('Mitchell', 'Michael', 'IT Manager', 'Canada'),\n",
       " ('King', 'Robert', 'IT Staff', 'Canada'),\n",
       " ('Callahan', 'Laura', 'IT Staff', 'Canada')]"
      ]
     },
     "execution_count": 9,
     "metadata": {},
     "output_type": "execute_result"
    }
   ],
   "source": [
    "%%sql \n",
    "\n",
    "SELECT * FROM Employee_View"
   ]
  },
  {
   "cell_type": "markdown",
   "metadata": {},
   "source": [
    "A view can also be filtered. For instance, we might want to see the sales team, so we can use the wildcard operators and the `LIKE` query to filter all the employees in the specified view:"
   ]
  },
  {
   "cell_type": "code",
   "execution_count": 10,
   "metadata": {},
   "outputs": [
    {
     "name": "stdout",
     "output_type": "stream",
     "text": [
      " * sqlite:///chinook.db\n",
      "Done.\n"
     ]
    },
    {
     "data": {
      "text/html": [
       "<table>\n",
       "    <tr>\n",
       "        <th>LastName</th>\n",
       "        <th>FirstName</th>\n",
       "        <th>Title</th>\n",
       "        <th>Country</th>\n",
       "    </tr>\n",
       "    <tr>\n",
       "        <td>Edwards</td>\n",
       "        <td>Nancy</td>\n",
       "        <td>Sales Manager</td>\n",
       "        <td>Canada</td>\n",
       "    </tr>\n",
       "    <tr>\n",
       "        <td>Peacock</td>\n",
       "        <td>Jane</td>\n",
       "        <td>Sales Support Agent</td>\n",
       "        <td>Canada</td>\n",
       "    </tr>\n",
       "    <tr>\n",
       "        <td>Park</td>\n",
       "        <td>Margaret</td>\n",
       "        <td>Sales Support Agent</td>\n",
       "        <td>Canada</td>\n",
       "    </tr>\n",
       "    <tr>\n",
       "        <td>Johnson</td>\n",
       "        <td>Steve</td>\n",
       "        <td>Sales Support Agent</td>\n",
       "        <td>Canada</td>\n",
       "    </tr>\n",
       "</table>"
      ],
      "text/plain": [
       "[('Edwards', 'Nancy', 'Sales Manager', 'Canada'),\n",
       " ('Peacock', 'Jane', 'Sales Support Agent', 'Canada'),\n",
       " ('Park', 'Margaret', 'Sales Support Agent', 'Canada'),\n",
       " ('Johnson', 'Steve', 'Sales Support Agent', 'Canada')]"
      ]
     },
     "execution_count": 10,
     "metadata": {},
     "output_type": "execute_result"
    }
   ],
   "source": [
    "%%sql\n",
    "\n",
    "SELECT * FROM Employee_View\n",
    "WHERE Title LIKE '%Sales%'"
   ]
  },
  {
   "cell_type": "markdown",
   "metadata": {},
   "source": [
    "### Join View\n",
    "\n",
    "A join view comprises of two or more tables that have a relationship through a key where a ```JOIN``` statement can be implemented. A join view can display selected variables/columns from multiple tables at once. \n",
    "\n",
    "Below is a diagram illustrating the join view. Here, for example, we have a customers table containing all the personal data of store patrons (Table 1), and another table with corresponding customer account details (Table 2). We might only want to see a customer's surname, account number (\"Acc. #\") and a balance in their account (assuming a credit balance). \n",
    "\n",
    "To do this, we would create a view in conjunction with  ```SELECT``` and ```JOIN``` statements.\n",
    "\n",
    "![SQL Join View](https://github.com/Explore-AI/Public-Data/blob/master/Notebook-images/join_view.jpg?raw=true)"
   ]
  },
  {
   "cell_type": "markdown",
   "metadata": {},
   "source": [
    "#### Here is an example of creating a Join view using the Chinook Database.\n",
    "\n",
    "Let's say we want to link up all the customers with the support staff assisting them. We want to view the following:\n",
    "\n",
    "- First of the customer.\n",
    "- Last name (surname) of the customer.\n",
    "- The country where the customer resides.\n",
    "- SupportRepId.\n",
    "- EmployeeId.\n",
    "- Last name of the employee.\n",
    "- FirstName of the employee.\n",
    "- Job title of the employee. \n",
    "- The country where the employee operated from."
   ]
  },
  {
   "cell_type": "code",
   "execution_count": 11,
   "metadata": {},
   "outputs": [
    {
     "name": "stdout",
     "output_type": "stream",
     "text": [
      " * sqlite:///chinook.db\n",
      "Done.\n"
     ]
    },
    {
     "data": {
      "text/plain": [
       "[]"
      ]
     },
     "execution_count": 11,
     "metadata": {},
     "output_type": "execute_result"
    }
   ],
   "source": [
    "%%sql\n",
    "\n",
    "CREATE VIEW Customer_Support_View AS\n",
    "SELECT c.FirstName Customer_Name, c.LastName Customer_Surname, c.Country Customer_Country, c.SupportRepId, e.EmployeeId, e.LastName Employee_surname, e.FirstName Employee_first_name, e.Title Employee_job_title, e.Country Employee_Country\n",
    "FROM customers c \n",
    "INNER JOIN employees e\n",
    "ON c.SupportRepId = e.EmployeeId"
   ]
  },
  {
   "cell_type": "code",
   "execution_count": 12,
   "metadata": {},
   "outputs": [
    {
     "name": "stdout",
     "output_type": "stream",
     "text": [
      " * sqlite:///chinook.db\n",
      "Done.\n"
     ]
    },
    {
     "data": {
      "text/html": [
       "<table>\n",
       "    <tr>\n",
       "        <th>Customer_Name</th>\n",
       "        <th>Customer_Surname</th>\n",
       "        <th>Customer_Country</th>\n",
       "        <th>SupportRepId</th>\n",
       "        <th>EmployeeId</th>\n",
       "        <th>Employee_surname</th>\n",
       "        <th>Employee_first_name</th>\n",
       "        <th>Employee_job_title</th>\n",
       "        <th>Employee_Country</th>\n",
       "    </tr>\n",
       "    <tr>\n",
       "        <td>Luís</td>\n",
       "        <td>Gonçalves</td>\n",
       "        <td>Brazil</td>\n",
       "        <td>3</td>\n",
       "        <td>3</td>\n",
       "        <td>Peacock</td>\n",
       "        <td>Jane</td>\n",
       "        <td>Sales Support Agent</td>\n",
       "        <td>Canada</td>\n",
       "    </tr>\n",
       "    <tr>\n",
       "        <td>Leonie</td>\n",
       "        <td>Köhler</td>\n",
       "        <td>Germany</td>\n",
       "        <td>5</td>\n",
       "        <td>5</td>\n",
       "        <td>Johnson</td>\n",
       "        <td>Steve</td>\n",
       "        <td>Sales Support Agent</td>\n",
       "        <td>Canada</td>\n",
       "    </tr>\n",
       "    <tr>\n",
       "        <td>François</td>\n",
       "        <td>Tremblay</td>\n",
       "        <td>Canada</td>\n",
       "        <td>3</td>\n",
       "        <td>3</td>\n",
       "        <td>Peacock</td>\n",
       "        <td>Jane</td>\n",
       "        <td>Sales Support Agent</td>\n",
       "        <td>Canada</td>\n",
       "    </tr>\n",
       "    <tr>\n",
       "        <td>Bjørn</td>\n",
       "        <td>Hansen</td>\n",
       "        <td>Norway</td>\n",
       "        <td>4</td>\n",
       "        <td>4</td>\n",
       "        <td>Park</td>\n",
       "        <td>Margaret</td>\n",
       "        <td>Sales Support Agent</td>\n",
       "        <td>Canada</td>\n",
       "    </tr>\n",
       "    <tr>\n",
       "        <td>František</td>\n",
       "        <td>Wichterlová</td>\n",
       "        <td>Czech Republic</td>\n",
       "        <td>4</td>\n",
       "        <td>4</td>\n",
       "        <td>Park</td>\n",
       "        <td>Margaret</td>\n",
       "        <td>Sales Support Agent</td>\n",
       "        <td>Canada</td>\n",
       "    </tr>\n",
       "    <tr>\n",
       "        <td>Helena</td>\n",
       "        <td>Holý</td>\n",
       "        <td>Czech Republic</td>\n",
       "        <td>5</td>\n",
       "        <td>5</td>\n",
       "        <td>Johnson</td>\n",
       "        <td>Steve</td>\n",
       "        <td>Sales Support Agent</td>\n",
       "        <td>Canada</td>\n",
       "    </tr>\n",
       "    <tr>\n",
       "        <td>Astrid</td>\n",
       "        <td>Gruber</td>\n",
       "        <td>Austria</td>\n",
       "        <td>5</td>\n",
       "        <td>5</td>\n",
       "        <td>Johnson</td>\n",
       "        <td>Steve</td>\n",
       "        <td>Sales Support Agent</td>\n",
       "        <td>Canada</td>\n",
       "    </tr>\n",
       "    <tr>\n",
       "        <td>Daan</td>\n",
       "        <td>Peeters</td>\n",
       "        <td>Belgium</td>\n",
       "        <td>4</td>\n",
       "        <td>4</td>\n",
       "        <td>Park</td>\n",
       "        <td>Margaret</td>\n",
       "        <td>Sales Support Agent</td>\n",
       "        <td>Canada</td>\n",
       "    </tr>\n",
       "    <tr>\n",
       "        <td>Kara</td>\n",
       "        <td>Nielsen</td>\n",
       "        <td>Denmark</td>\n",
       "        <td>4</td>\n",
       "        <td>4</td>\n",
       "        <td>Park</td>\n",
       "        <td>Margaret</td>\n",
       "        <td>Sales Support Agent</td>\n",
       "        <td>Canada</td>\n",
       "    </tr>\n",
       "    <tr>\n",
       "        <td>Eduardo</td>\n",
       "        <td>Martins</td>\n",
       "        <td>Brazil</td>\n",
       "        <td>4</td>\n",
       "        <td>4</td>\n",
       "        <td>Park</td>\n",
       "        <td>Margaret</td>\n",
       "        <td>Sales Support Agent</td>\n",
       "        <td>Canada</td>\n",
       "    </tr>\n",
       "</table>"
      ],
      "text/plain": [
       "[('Luís', 'Gonçalves', 'Brazil', 3, 3, 'Peacock', 'Jane', 'Sales Support Agent', 'Canada'),\n",
       " ('Leonie', 'Köhler', 'Germany', 5, 5, 'Johnson', 'Steve', 'Sales Support Agent', 'Canada'),\n",
       " ('François', 'Tremblay', 'Canada', 3, 3, 'Peacock', 'Jane', 'Sales Support Agent', 'Canada'),\n",
       " ('Bjørn', 'Hansen', 'Norway', 4, 4, 'Park', 'Margaret', 'Sales Support Agent', 'Canada'),\n",
       " ('František', 'Wichterlová', 'Czech Republic', 4, 4, 'Park', 'Margaret', 'Sales Support Agent', 'Canada'),\n",
       " ('Helena', 'Holý', 'Czech Republic', 5, 5, 'Johnson', 'Steve', 'Sales Support Agent', 'Canada'),\n",
       " ('Astrid', 'Gruber', 'Austria', 5, 5, 'Johnson', 'Steve', 'Sales Support Agent', 'Canada'),\n",
       " ('Daan', 'Peeters', 'Belgium', 4, 4, 'Park', 'Margaret', 'Sales Support Agent', 'Canada'),\n",
       " ('Kara', 'Nielsen', 'Denmark', 4, 4, 'Park', 'Margaret', 'Sales Support Agent', 'Canada'),\n",
       " ('Eduardo', 'Martins', 'Brazil', 4, 4, 'Park', 'Margaret', 'Sales Support Agent', 'Canada')]"
      ]
     },
     "execution_count": 12,
     "metadata": {},
     "output_type": "execute_result"
    }
   ],
   "source": [
    "%%sql\n",
    "\n",
    "SELECT * FROM Customer_Support_View\n",
    "LIMIT 10"
   ]
  },
  {
   "cell_type": "markdown",
   "metadata": {},
   "source": [
    "Tada!"
   ]
  },
  {
   "cell_type": "markdown",
   "metadata": {},
   "source": [
    "### Aggregating View\n",
    "\n",
    "An aggregating view utilises summary metrics (such as average, median, count, etc.) to create a column within the view that aggregates the data. An aggregating view is useful when you need to select parts of a table with summary statistics describing the data. \n",
    "\n",
    "Below is a diagram illustrating an aggregating view. Here we once again suppose a hypothetical scenario where we need to get an average of customers' balance (assuming a credit balance), where there are multiple inputs of transactional recordings. To do this we create a view with a column of the average of the balance, and group by the customer id. \n",
    "\n",
    "![SQL Aggregate View](https://github.com/Explore-AI/Public-Data/blob/master/Notebook-images/agg_view.jpg?raw=true)"
   ]
  },
  {
   "cell_type": "markdown",
   "metadata": {},
   "source": [
    "#### Below are some practical examples of an aggregating view. \n",
    "\n",
    "In the example below, we intend on investigating how many customers are currently being serviced per country. \n",
    "\n",
    "To create the view, we would use the following SQL query:"
   ]
  },
  {
   "cell_type": "code",
   "execution_count": 13,
   "metadata": {},
   "outputs": [
    {
     "name": "stdout",
     "output_type": "stream",
     "text": [
      " * sqlite:///chinook.db\n",
      "Done.\n"
     ]
    },
    {
     "data": {
      "text/plain": [
       "[]"
      ]
     },
     "execution_count": 13,
     "metadata": {},
     "output_type": "execute_result"
    }
   ],
   "source": [
    "%%sql\n",
    "\n",
    "CREATE VIEW Customer_per_Country_View AS \n",
    "SELECT COUNT (CustomerId), Country\n",
    "FROM customers\n",
    "GROUP BY Country;\n"
   ]
  },
  {
   "cell_type": "markdown",
   "metadata": {},
   "source": [
    "This gives us:"
   ]
  },
  {
   "cell_type": "code",
   "execution_count": 15,
   "metadata": {},
   "outputs": [
    {
     "name": "stdout",
     "output_type": "stream",
     "text": [
      " * sqlite:///chinook.db\n",
      "Done.\n"
     ]
    },
    {
     "data": {
      "text/html": [
       "<table>\n",
       "    <tr>\n",
       "        <th>COUNT (CustomerId)</th>\n",
       "        <th>Country</th>\n",
       "    </tr>\n",
       "    <tr>\n",
       "        <td>1</td>\n",
       "        <td>Argentina</td>\n",
       "    </tr>\n",
       "    <tr>\n",
       "        <td>1</td>\n",
       "        <td>Australia</td>\n",
       "    </tr>\n",
       "    <tr>\n",
       "        <td>1</td>\n",
       "        <td>Austria</td>\n",
       "    </tr>\n",
       "    <tr>\n",
       "        <td>1</td>\n",
       "        <td>Belgium</td>\n",
       "    </tr>\n",
       "    <tr>\n",
       "        <td>5</td>\n",
       "        <td>Brazil</td>\n",
       "    </tr>\n",
       "    <tr>\n",
       "        <td>8</td>\n",
       "        <td>Canada</td>\n",
       "    </tr>\n",
       "    <tr>\n",
       "        <td>1</td>\n",
       "        <td>Chile</td>\n",
       "    </tr>\n",
       "    <tr>\n",
       "        <td>2</td>\n",
       "        <td>Czech Republic</td>\n",
       "    </tr>\n",
       "    <tr>\n",
       "        <td>1</td>\n",
       "        <td>Denmark</td>\n",
       "    </tr>\n",
       "    <tr>\n",
       "        <td>1</td>\n",
       "        <td>Finland</td>\n",
       "    </tr>\n",
       "</table>"
      ],
      "text/plain": [
       "[(1, 'Argentina'),\n",
       " (1, 'Australia'),\n",
       " (1, 'Austria'),\n",
       " (1, 'Belgium'),\n",
       " (5, 'Brazil'),\n",
       " (8, 'Canada'),\n",
       " (1, 'Chile'),\n",
       " (2, 'Czech Republic'),\n",
       " (1, 'Denmark'),\n",
       " (1, 'Finland')]"
      ]
     },
     "execution_count": 15,
     "metadata": {},
     "output_type": "execute_result"
    }
   ],
   "source": [
    "%%sql\n",
    "\n",
    "SELECT * FROM Customer_per_Country_View\n",
    "LIMIT 10;"
   ]
  },
  {
   "cell_type": "markdown",
   "metadata": {},
   "source": [
    "In the next example, we will explore how to combine an aggregating view and join view. \n",
    "\n",
    "In this scenario, we want to investigate how many customers each support employee services, along with the name of the employee. \n",
    "\n",
    "To do this we would need to:\n",
    "- Create a view.\n",
    "- Join the customer table and employee table.\n",
    "- Use ```COUNT``` and ```GROUP BY``` functions to aggregate the number of employees serviced by each employee. \n",
    "\n",
    "The SQL query would look as follows:"
   ]
  },
  {
   "cell_type": "code",
   "execution_count": 16,
   "metadata": {},
   "outputs": [
    {
     "name": "stdout",
     "output_type": "stream",
     "text": [
      " * sqlite:///chinook.db\n",
      "Done.\n"
     ]
    },
    {
     "data": {
      "text/plain": [
       "[]"
      ]
     },
     "execution_count": 16,
     "metadata": {},
     "output_type": "execute_result"
    }
   ],
   "source": [
    "%%sql\n",
    "\n",
    "CREATE VIEW Support_Person_Stats AS\n",
    "SELECT COUNT(c.SupportRepId) Count_of_Customers_Serviced , e.EmployeeId, e.LastName\n",
    "FROM customers c \n",
    "INNER JOIN employees e\n",
    "ON c.SupportRepId = e.EmployeeId\n",
    "GROUP BY e.Lastname"
   ]
  },
  {
   "cell_type": "code",
   "execution_count": 17,
   "metadata": {},
   "outputs": [
    {
     "name": "stdout",
     "output_type": "stream",
     "text": [
      " * sqlite:///chinook.db\n",
      "Done.\n"
     ]
    },
    {
     "data": {
      "text/html": [
       "<table>\n",
       "    <tr>\n",
       "        <th>Count_of_Customers_Serviced</th>\n",
       "        <th>EmployeeId</th>\n",
       "        <th>LastName</th>\n",
       "    </tr>\n",
       "    <tr>\n",
       "        <td>18</td>\n",
       "        <td>5</td>\n",
       "        <td>Johnson</td>\n",
       "    </tr>\n",
       "    <tr>\n",
       "        <td>20</td>\n",
       "        <td>4</td>\n",
       "        <td>Park</td>\n",
       "    </tr>\n",
       "    <tr>\n",
       "        <td>21</td>\n",
       "        <td>3</td>\n",
       "        <td>Peacock</td>\n",
       "    </tr>\n",
       "</table>"
      ],
      "text/plain": [
       "[(18, 5, 'Johnson'), (20, 4, 'Park'), (21, 3, 'Peacock')]"
      ]
     },
     "execution_count": 17,
     "metadata": {},
     "output_type": "execute_result"
    }
   ],
   "source": [
    "%%sql\n",
    "\n",
    "SELECT * FROM Support_Person_Stats"
   ]
  },
  {
   "cell_type": "markdown",
   "metadata": {},
   "source": [
    "## DROP a View\n",
    "\n",
    "In many cases, you will need to delete a view either before creating a new one, or when there are changes to the schema of the database. In these scenarios, it is best practice to delete and remake a view, rather than changing an existing one. This corrects and accounts for any security and/or complexity changes.\n",
    "\n",
    "Use the `DROP` query to drop a view created. Your syntax will be as follows:\n",
    "\n",
    "```SQL\n",
    "DROP VIEW _view_name_\n",
    "```\n",
    "\n",
    "Let's practice this dropping a bit:"
   ]
  },
  {
   "cell_type": "code",
   "execution_count": 18,
   "metadata": {},
   "outputs": [
    {
     "name": "stdout",
     "output_type": "stream",
     "text": [
      " * sqlite:///chinook.db\n",
      "Done.\n"
     ]
    },
    {
     "data": {
      "text/plain": [
       "[]"
      ]
     },
     "execution_count": 18,
     "metadata": {},
     "output_type": "execute_result"
    }
   ],
   "source": [
    "%%sql\n",
    "\n",
    "CREATE VIEW mistake_view AS \n",
    "SELECT FirstName, LastName, Company, Email\n",
    "FROM customers "
   ]
  },
  {
   "cell_type": "code",
   "execution_count": 19,
   "metadata": {},
   "outputs": [
    {
     "name": "stdout",
     "output_type": "stream",
     "text": [
      " * sqlite:///chinook.db\n",
      "Done.\n"
     ]
    },
    {
     "data": {
      "text/plain": [
       "[]"
      ]
     },
     "execution_count": 19,
     "metadata": {},
     "output_type": "execute_result"
    }
   ],
   "source": [
    "%%sql\n",
    "\n",
    "DROP VIEW mistake_view"
   ]
  },
  {
   "cell_type": "code",
   "execution_count": 20,
   "metadata": {},
   "outputs": [
    {
     "name": "stdout",
     "output_type": "stream",
     "text": [
      " * sqlite:///chinook.db\n",
      "(sqlite3.OperationalError) no such table: mistake_view\n",
      "[SQL: SELECT * FROM mistake_view]\n",
      "(Background on this error at: http://sqlalche.me/e/e3q8)\n"
     ]
    }
   ],
   "source": [
    "%%sql\n",
    "\n",
    "SELECT * FROM mistake_view"
   ]
  },
  {
   "cell_type": "markdown",
   "metadata": {},
   "source": [
    "From the output error above, we can see that our created view was successfully removed from the database."
   ]
  },
  {
   "cell_type": "markdown",
   "metadata": {},
   "source": [
    "## Best Practices when Creating Views\n",
    "\n",
    "Below are some guidelines and standards when dealing with views within a database:\n",
    "\n",
    "- The tables used to create the view must be from the same relational database.\n",
    "- A view must differ at some level to the table it is referencing or any other table in the database.\n",
    "- The order of the columns should be logically coherent, mirroring the sequence of its constituent table/tables.\n",
    "- The naming convention of a view needs to differ from all other tables but should also reflect the data it presents.\n",
    "- A view should be deleted rather than updated to ensure that complexity and security issues for the database are addressed."
   ]
  },
  {
   "cell_type": "markdown",
   "metadata": {},
   "source": [
    "---\n",
    "\n",
    "## Practice Questions\n",
    "\n",
    "You now have the opportunity to test your understanding of views with some practical questions!\n",
    "\n",
    "If you need to restart the exercise, run the following code:\n",
    "\n",
    "```SQL\n",
    "%%sql\n",
    "\n",
    "DROP VIEW <view_name>\n",
    "```\n",
    "\n",
    "Ready... Set... EXPLORE!!!\n",
    "\n",
    "We first overview some data from the 'invoice_items' and 'invoices' tables:"
   ]
  },
  {
   "cell_type": "code",
   "execution_count": 21,
   "metadata": {},
   "outputs": [
    {
     "name": "stdout",
     "output_type": "stream",
     "text": [
      " * sqlite:///chinook.db\n",
      "Done.\n"
     ]
    },
    {
     "data": {
      "text/html": [
       "<table>\n",
       "    <tr>\n",
       "        <th>InvoiceLineId</th>\n",
       "        <th>InvoiceId</th>\n",
       "        <th>TrackId</th>\n",
       "        <th>UnitPrice</th>\n",
       "        <th>Quantity</th>\n",
       "    </tr>\n",
       "    <tr>\n",
       "        <td>1</td>\n",
       "        <td>1</td>\n",
       "        <td>2</td>\n",
       "        <td>0.99</td>\n",
       "        <td>1</td>\n",
       "    </tr>\n",
       "    <tr>\n",
       "        <td>2</td>\n",
       "        <td>1</td>\n",
       "        <td>4</td>\n",
       "        <td>0.99</td>\n",
       "        <td>1</td>\n",
       "    </tr>\n",
       "    <tr>\n",
       "        <td>3</td>\n",
       "        <td>2</td>\n",
       "        <td>6</td>\n",
       "        <td>0.99</td>\n",
       "        <td>1</td>\n",
       "    </tr>\n",
       "    <tr>\n",
       "        <td>4</td>\n",
       "        <td>2</td>\n",
       "        <td>8</td>\n",
       "        <td>0.99</td>\n",
       "        <td>1</td>\n",
       "    </tr>\n",
       "    <tr>\n",
       "        <td>5</td>\n",
       "        <td>2</td>\n",
       "        <td>10</td>\n",
       "        <td>0.99</td>\n",
       "        <td>1</td>\n",
       "    </tr>\n",
       "    <tr>\n",
       "        <td>6</td>\n",
       "        <td>2</td>\n",
       "        <td>12</td>\n",
       "        <td>0.99</td>\n",
       "        <td>1</td>\n",
       "    </tr>\n",
       "    <tr>\n",
       "        <td>7</td>\n",
       "        <td>3</td>\n",
       "        <td>16</td>\n",
       "        <td>0.99</td>\n",
       "        <td>1</td>\n",
       "    </tr>\n",
       "    <tr>\n",
       "        <td>8</td>\n",
       "        <td>3</td>\n",
       "        <td>20</td>\n",
       "        <td>0.99</td>\n",
       "        <td>1</td>\n",
       "    </tr>\n",
       "    <tr>\n",
       "        <td>9</td>\n",
       "        <td>3</td>\n",
       "        <td>24</td>\n",
       "        <td>0.99</td>\n",
       "        <td>1</td>\n",
       "    </tr>\n",
       "    <tr>\n",
       "        <td>10</td>\n",
       "        <td>3</td>\n",
       "        <td>28</td>\n",
       "        <td>0.99</td>\n",
       "        <td>1</td>\n",
       "    </tr>\n",
       "</table>"
      ],
      "text/plain": [
       "[(1, 1, 2, 0.99, 1),\n",
       " (2, 1, 4, 0.99, 1),\n",
       " (3, 2, 6, 0.99, 1),\n",
       " (4, 2, 8, 0.99, 1),\n",
       " (5, 2, 10, 0.99, 1),\n",
       " (6, 2, 12, 0.99, 1),\n",
       " (7, 3, 16, 0.99, 1),\n",
       " (8, 3, 20, 0.99, 1),\n",
       " (9, 3, 24, 0.99, 1),\n",
       " (10, 3, 28, 0.99, 1)]"
      ]
     },
     "execution_count": 21,
     "metadata": {},
     "output_type": "execute_result"
    }
   ],
   "source": [
    "%%sql\n",
    "\n",
    "SELECT * FROM invoice_items\n",
    "LIMIT 10;"
   ]
  },
  {
   "cell_type": "code",
   "execution_count": 23,
   "metadata": {},
   "outputs": [
    {
     "name": "stdout",
     "output_type": "stream",
     "text": [
      " * sqlite:///chinook.db\n",
      "Done.\n"
     ]
    },
    {
     "data": {
      "text/html": [
       "<table>\n",
       "    <tr>\n",
       "        <th>InvoiceId</th>\n",
       "        <th>CustomerId</th>\n",
       "        <th>InvoiceDate</th>\n",
       "        <th>BillingAddress</th>\n",
       "        <th>BillingCity</th>\n",
       "        <th>BillingState</th>\n",
       "        <th>BillingCountry</th>\n",
       "        <th>BillingPostalCode</th>\n",
       "        <th>Total</th>\n",
       "    </tr>\n",
       "    <tr>\n",
       "        <td>1</td>\n",
       "        <td>2</td>\n",
       "        <td>2009-01-01 00:00:00</td>\n",
       "        <td>Theodor-Heuss-Straße 34</td>\n",
       "        <td>Stuttgart</td>\n",
       "        <td>None</td>\n",
       "        <td>Germany</td>\n",
       "        <td>70174</td>\n",
       "        <td>1.98</td>\n",
       "    </tr>\n",
       "    <tr>\n",
       "        <td>2</td>\n",
       "        <td>4</td>\n",
       "        <td>2009-01-02 00:00:00</td>\n",
       "        <td>Ullevålsveien 14</td>\n",
       "        <td>Oslo</td>\n",
       "        <td>None</td>\n",
       "        <td>Norway</td>\n",
       "        <td>0171</td>\n",
       "        <td>3.96</td>\n",
       "    </tr>\n",
       "    <tr>\n",
       "        <td>3</td>\n",
       "        <td>8</td>\n",
       "        <td>2009-01-03 00:00:00</td>\n",
       "        <td>Grétrystraat 63</td>\n",
       "        <td>Brussels</td>\n",
       "        <td>None</td>\n",
       "        <td>Belgium</td>\n",
       "        <td>1000</td>\n",
       "        <td>5.94</td>\n",
       "    </tr>\n",
       "    <tr>\n",
       "        <td>4</td>\n",
       "        <td>14</td>\n",
       "        <td>2009-01-06 00:00:00</td>\n",
       "        <td>8210 111 ST NW</td>\n",
       "        <td>Edmonton</td>\n",
       "        <td>AB</td>\n",
       "        <td>Canada</td>\n",
       "        <td>T6G 2C7</td>\n",
       "        <td>8.91</td>\n",
       "    </tr>\n",
       "    <tr>\n",
       "        <td>5</td>\n",
       "        <td>23</td>\n",
       "        <td>2009-01-11 00:00:00</td>\n",
       "        <td>69 Salem Street</td>\n",
       "        <td>Boston</td>\n",
       "        <td>MA</td>\n",
       "        <td>USA</td>\n",
       "        <td>2113</td>\n",
       "        <td>13.86</td>\n",
       "    </tr>\n",
       "    <tr>\n",
       "        <td>6</td>\n",
       "        <td>37</td>\n",
       "        <td>2009-01-19 00:00:00</td>\n",
       "        <td>Berger Straße 10</td>\n",
       "        <td>Frankfurt</td>\n",
       "        <td>None</td>\n",
       "        <td>Germany</td>\n",
       "        <td>60316</td>\n",
       "        <td>0.99</td>\n",
       "    </tr>\n",
       "    <tr>\n",
       "        <td>7</td>\n",
       "        <td>38</td>\n",
       "        <td>2009-02-01 00:00:00</td>\n",
       "        <td>Barbarossastraße 19</td>\n",
       "        <td>Berlin</td>\n",
       "        <td>None</td>\n",
       "        <td>Germany</td>\n",
       "        <td>10779</td>\n",
       "        <td>1.98</td>\n",
       "    </tr>\n",
       "    <tr>\n",
       "        <td>8</td>\n",
       "        <td>40</td>\n",
       "        <td>2009-02-01 00:00:00</td>\n",
       "        <td>8, Rue Hanovre</td>\n",
       "        <td>Paris</td>\n",
       "        <td>None</td>\n",
       "        <td>France</td>\n",
       "        <td>75002</td>\n",
       "        <td>1.98</td>\n",
       "    </tr>\n",
       "    <tr>\n",
       "        <td>9</td>\n",
       "        <td>42</td>\n",
       "        <td>2009-02-02 00:00:00</td>\n",
       "        <td>9, Place Louis Barthou</td>\n",
       "        <td>Bordeaux</td>\n",
       "        <td>None</td>\n",
       "        <td>France</td>\n",
       "        <td>33000</td>\n",
       "        <td>3.96</td>\n",
       "    </tr>\n",
       "    <tr>\n",
       "        <td>10</td>\n",
       "        <td>46</td>\n",
       "        <td>2009-02-03 00:00:00</td>\n",
       "        <td>3 Chatham Street</td>\n",
       "        <td>Dublin</td>\n",
       "        <td>Dublin</td>\n",
       "        <td>Ireland</td>\n",
       "        <td>None</td>\n",
       "        <td>5.94</td>\n",
       "    </tr>\n",
       "</table>"
      ],
      "text/plain": [
       "[(1, 2, '2009-01-01 00:00:00', 'Theodor-Heuss-Straße 34', 'Stuttgart', None, 'Germany', '70174', 1.98),\n",
       " (2, 4, '2009-01-02 00:00:00', 'Ullevålsveien 14', 'Oslo', None, 'Norway', '0171', 3.96),\n",
       " (3, 8, '2009-01-03 00:00:00', 'Grétrystraat 63', 'Brussels', None, 'Belgium', '1000', 5.94),\n",
       " (4, 14, '2009-01-06 00:00:00', '8210 111 ST NW', 'Edmonton', 'AB', 'Canada', 'T6G 2C7', 8.91),\n",
       " (5, 23, '2009-01-11 00:00:00', '69 Salem Street', 'Boston', 'MA', 'USA', '2113', 13.86),\n",
       " (6, 37, '2009-01-19 00:00:00', 'Berger Straße 10', 'Frankfurt', None, 'Germany', '60316', 0.99),\n",
       " (7, 38, '2009-02-01 00:00:00', 'Barbarossastraße 19', 'Berlin', None, 'Germany', '10779', 1.98),\n",
       " (8, 40, '2009-02-01 00:00:00', '8, Rue Hanovre', 'Paris', None, 'France', '75002', 1.98),\n",
       " (9, 42, '2009-02-02 00:00:00', '9, Place Louis Barthou', 'Bordeaux', None, 'France', '33000', 3.96),\n",
       " (10, 46, '2009-02-03 00:00:00', '3 Chatham Street', 'Dublin', 'Dublin', 'Ireland', None, 5.94)]"
      ]
     },
     "execution_count": 23,
     "metadata": {},
     "output_type": "execute_result"
    }
   ],
   "source": [
    "%%sql\n",
    "\n",
    "SELECT * FROM invoices\n",
    "LIMIT 10;"
   ]
  },
  {
   "cell_type": "markdown",
   "metadata": {},
   "source": [
    "### Question 1: \n",
    "\n",
    "Your manager needs to present details from the Chinook database to new clients. However, she is wary of releasing too much information. She has requested a few tasks to be completed using the \"invoices\" table, where all customer invoices need to be assessed:\n",
    "\n",
    "1. She would like to view the invoice date, billing city, billing country and the total spent on each invoice. Set up a view called \"Billing_View\" to display these specific columns only.\n",
    "2. She would then need to get a view on the average spending for each country. She only wants to see the billing country and the aggregated average total amount spent. Set up a view called \"Billing_View_per_Country\" to display these averages.\n",
    "3. She is also interested in seeing the most profitable years. She needs to see the years and the sum of the amount spent each year. Set up a view called \"Yearly_Billing\" to display the total spend for each year. HINT: use the \"strftime\" function to convert the invoice date."
   ]
  },
  {
   "cell_type": "code",
   "execution_count": 24,
   "metadata": {},
   "outputs": [],
   "source": [
    "# Answer Question 1.1 here"
   ]
  },
  {
   "cell_type": "markdown",
   "metadata": {},
   "source": [
    "#### _Expected Outcome:_\n",
    "\n",
    "<img src=\"https://github.com/Explore-AI/Public-Data/blob/master/Notebook-images/q1_1.png?raw=true\" alt=\"drawing\" width=\"400\"/>"
   ]
  },
  {
   "cell_type": "code",
   "execution_count": 25,
   "metadata": {},
   "outputs": [],
   "source": [
    "# Answer Question 1.2 here"
   ]
  },
  {
   "cell_type": "markdown",
   "metadata": {},
   "source": [
    "#### _Expected Outcome:_\n",
    "\n",
    "<img src=\"https://github.com/Explore-AI/Public-Data/blob/master/Notebook-images/q1_2.png?raw=true\" alt=\"drawing\" width=\"250\"/>"
   ]
  },
  {
   "cell_type": "code",
   "execution_count": 26,
   "metadata": {},
   "outputs": [],
   "source": [
    "# Answer Question 1.3 here"
   ]
  },
  {
   "cell_type": "markdown",
   "metadata": {},
   "source": [
    "#### _Expected Outcome:_\n",
    "\n",
    "<img src=\"https://github.com/Explore-AI/Public-Data/blob/master/Notebook-images/q1_3.png?raw=true\" alt=\"drawing\" width=\"250\"/>"
   ]
  },
  {
   "cell_type": "markdown",
   "metadata": {},
   "source": [
    "### Question 2: \n",
    "\n",
    "Your manager is satisfied with the first set of views you created - Horay! Unfortunately, she would like to go into the more granular detail of the customers and their spending. The final task requires you to link the \"customers\" table with the \"invoices\" table. She has asked for the following views:\n",
    "\n",
    "2.1. The billing country stated on the invoice, the total spent on the invoice, the last name of each customer, and their country of residence. \n",
    "    - This view should only have the billing country, total spent, last name the customer and their country of residence as columns. Call this view \"Customer_Billing_View\".\n",
    "\n",
    "2.2. The sum of the total amount spent by each customer in the latest year (2013). \n",
    "    - The view should only contain the customers' surname, the sum of the total invoice amount and the year as columns. Call this view \"Customer_Billing_2013_View\". \n",
    "    \n",
    "Hint: the invoice date column should be treated as a string; use the \"strftime\" function."
   ]
  },
  {
   "cell_type": "code",
   "execution_count": 27,
   "metadata": {},
   "outputs": [],
   "source": [
    "#Answer Question 2.1 here"
   ]
  },
  {
   "cell_type": "markdown",
   "metadata": {},
   "source": [
    "#### _Expected Outcome:_\n",
    "\n",
    "<img src=\"https://github.com/Explore-AI/Public-Data/blob/master/Notebook-images/q2_1.png?raw=true\" alt=\"drawing\" width=\"350\"/>"
   ]
  },
  {
   "cell_type": "code",
   "execution_count": 28,
   "metadata": {},
   "outputs": [],
   "source": [
    "#Answer Question 2.2 here"
   ]
  },
  {
   "cell_type": "markdown",
   "metadata": {},
   "source": [
    "#### _Expected Outcome:_\n",
    "\n",
    "<img src=\"https://github.com/Explore-AI/Public-Data/blob/master/Notebook-images/q2_2.png?raw=true\" alt=\"drawing\" width=\"300\"/>"
   ]
  },
  {
   "cell_type": "markdown",
   "metadata": {},
   "source": [
    "## Conclusion\n",
    "\n",
    "Views are useful when trying to display a snapshot of selected data from a database. They also come in handy when allowing certain columns to be accessed by a viewer. Views can be made from aggregations, joins and filtering; they can also be used in conjunction with multiple operations and commands. \n",
    "\n",
    "Till next time!"
   ]
  },
  {
   "cell_type": "markdown",
   "metadata": {},
   "source": [
    "## Appendix\n",
    "\n",
    "#### References:\n",
    "\n",
    "- [Rules and guidelines for SQL views](https://docs.informatica.com/data-integration/powercenter/10-2/data-validation-option-user-guide/sql-views/rules-and-guidelines-for-sql-views.html)\n",
    "- [Tutorial: Views in SQL](https://www.datacamp.com/community/tutorials/views-in-sql)"
   ]
  }
 ],
 "metadata": {
  "kernelspec": {
   "display_name": "Python 3 (ipykernel)",
   "language": "python",
   "name": "python3"
  },
  "language_info": {
   "codemirror_mode": {
    "name": "ipython",
    "version": 3
   },
   "file_extension": ".py",
   "mimetype": "text/x-python",
   "name": "python",
   "nbconvert_exporter": "python",
   "pygments_lexer": "ipython3",
   "version": "3.9.13"
  }
 },
 "nbformat": 4,
 "nbformat_minor": 2
}
