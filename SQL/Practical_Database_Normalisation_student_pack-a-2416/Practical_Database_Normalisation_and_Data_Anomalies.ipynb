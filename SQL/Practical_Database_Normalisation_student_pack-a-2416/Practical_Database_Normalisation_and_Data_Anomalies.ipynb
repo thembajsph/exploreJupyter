{
 "cells": [
  {
   "cell_type": "markdown",
   "metadata": {},
   "source": [
    "# Practical Database Normalisation and Data Anomalies\n",
    "© Explore Data Science Academy\n",
    "\n",
    "## Learning Objectives\n",
    "In this train, you will learn how to:\n",
    "* Normalize a database up to the $ 3^{rd} $ Normal Form.\n",
    "* Understand data anomalies and how database normalisation reduces the likelihood of their occurrence. \n",
    "\n",
    "\n",
    "\n",
    "## Outline\n",
    "\n",
    "This train is structured as follows: \n",
    "\n",
    "* Data Anomalies\n",
    "* Imports and DB Connections\n",
    "* Denormalised Table\n",
    "* Convert to $1^{st}$ Normal Form\n",
    "* Convert to $2^{nd}$ Normal Form\n",
    "* Convert to $3^{rd}$ Normal Form\n",
    "\n",
    "## Introduction\n",
    "\n",
    "In this train we will give a practical example of database normalisation. Database normalisation is design technique for decoupling table structures to ***reduce*** data redundancies. We will use the tools and techniques that we have learned throughout the course to achieve this result. At each step along the normalisation process, we will reflect on the data anomalies which are being addressed, and how normalisation attempts to remedy their  state. \n"
   ]
  },
  {
   "cell_type": "markdown",
   "metadata": {},
   "source": [
    "## Data Anomalies\n",
    "\n",
    "Data anomalies are issues that present themselves in poorly structured or denormalised databases. The following are examples of commonly occuring anomalies which you may find: \n",
    "\n",
    " - **Deletion Anomaly**: The deletion of record that leads to the unintentional removal of another required attribute from the database. \n",
    " - **Insertion Anomaly**: The inability to insert a record as it requires an additional data which may presently not be available.\n",
    " - **Update Anomaly**: This occurs when we have duplicated data; if we were to update the affected rows and a single row gets missed, this will lead to a data inconsistency.\n",
    "\n"
   ]
  },
  {
   "cell_type": "markdown",
   "metadata": {},
   "source": [
    "## Imports and DB Connections\n",
    "\n",
    "Please use the below command to install **`sql_magic`** if you do not already have it, this is the package that will assist you with SQL syntax hightlighting.\n",
    "* `pip install sql_magic`\n",
    "\n",
    "Remember to start each new cell with:  **`%%read_sql`**\n"
   ]
  },
  {
   "cell_type": "code",
   "execution_count": 1,
   "metadata": {},
   "outputs": [
    {
     "data": {
      "application/javascript": [
       "\n",
       "    require(['notebook/js/codecell'], function(codecell) {\n",
       "      // https://github.com/jupyter/notebook/issues/2453\n",
       "      codecell.CodeCell.options_default.highlight_modes['magic_text/x-sql'] = {'reg':[/^%read_sql/, /.*=\\s*%read_sql/,\n",
       "                                                                                      /^%%read_sql/]};\n",
       "      Jupyter.notebook.events.one('kernel_ready.Kernel', function(){\n",
       "          console.log('BBBBB');\n",
       "          Jupyter.notebook.get_cells().map(function(cell){\n",
       "              if (cell.cell_type == 'code'){ cell.auto_highlight(); } }) ;\n",
       "      });\n",
       "    });\n",
       "    "
      ]
     },
     "metadata": {},
     "output_type": "display_data"
    }
   ],
   "source": [
    "import sqlite3\n",
    "import csv\n",
    "from sqlalchemy import create_engine\n",
    "%load_ext sql_magic\n",
    "\n",
    "# create engine instance using sqlalchemy\n",
    "engine = create_engine(\"sqlite:///SoftDevEmployees.db\")\n",
    "%config SQL.conn_name = 'engine'\n",
    "\n",
    "# create connection object using sqlite3\n",
    "conn = sqlite3.connect('SoftDevEmployees.db')\n",
    "cursor = conn.cursor()"
   ]
  },
  {
   "cell_type": "markdown",
   "metadata": {},
   "source": [
    "## Denormalised Database\n",
    "\n",
    "Let us have a look at the **SoftDevEmployees.db** database which contains a single table called **Employees**. Here we can observe, as depicted in the ERD sketch below, that the database is in its denormalised form. Our goal within this train, however, is to transform this database to conform to the $3^{rd}$ Normal Form. \n",
    "\n",
    "\n",
    "<img src=\"DenoramlizedEmployeesTable.png\" alt=\"Update Anomaly\" border=\"0\">"
   ]
  },
  {
   "cell_type": "markdown",
   "metadata": {},
   "source": [
    "## The $1^{st}$ Normal Form - 1NF\n",
    "\n",
    "To convert our database to the $1^{st}$  normal form we need to make sure that we meet the following conditions: \n",
    "\n",
    "1. A cell cannot hold multiple values; it can only hold a single (atomic) value.\n",
    "2. Values stored in one column should be of the same [domain](https://en.wikipedia.org/wiki/Attribute_domain).\n",
    "3. The order in which data is stored should not matter.\n",
    "4. The column names are unique."
   ]
  },
  {
   "cell_type": "markdown",
   "metadata": {},
   "source": [
    "Looking at the contents of the database it is clear that the **`Employee`** table is not in the first normal form. The columns **`FullName`**, **`Role`** and **`Department`** do not have single (atomic) values as required by the first normal form. \n",
    "\n",
    "Let us a write a small query where we can see all the non-atomic items in the cells."
   ]
  },
  {
   "cell_type": "code",
   "execution_count": 2,
   "metadata": {
    "scrolled": true
   },
   "outputs": [
    {
     "name": "stdout",
     "output_type": "stream",
     "text": [
      "Query started at 07:35:41 AM SAST; Query executed in 0.00 m"
     ]
    },
    {
     "data": {
      "text/html": [
       "<div>\n",
       "<style scoped>\n",
       "    .dataframe tbody tr th:only-of-type {\n",
       "        vertical-align: middle;\n",
       "    }\n",
       "\n",
       "    .dataframe tbody tr th {\n",
       "        vertical-align: top;\n",
       "    }\n",
       "\n",
       "    .dataframe thead th {\n",
       "        text-align: right;\n",
       "    }\n",
       "</style>\n",
       "<table border=\"1\" class=\"dataframe\">\n",
       "  <thead>\n",
       "    <tr style=\"text-align: right;\">\n",
       "      <th></th>\n",
       "      <th>FullName</th>\n",
       "      <th>Title</th>\n",
       "      <th>Role</th>\n",
       "      <th>OccupationBand</th>\n",
       "      <th>Salary</th>\n",
       "      <th>Department</th>\n",
       "    </tr>\n",
       "  </thead>\n",
       "  <tbody>\n",
       "    <tr>\n",
       "      <th>0</th>\n",
       "      <td>Dumisani,     Thwala</td>\n",
       "      <td>Mr</td>\n",
       "      <td>Back-End Developer</td>\n",
       "      <td>Graduate</td>\n",
       "      <td>52171</td>\n",
       "      <td>Web Applications, Mobile Applications</td>\n",
       "    </tr>\n",
       "    <tr>\n",
       "      <th>1</th>\n",
       "      <td>Dirk,Banda</td>\n",
       "      <td>Mr</td>\n",
       "      <td>Business Analyst</td>\n",
       "      <td>Intern</td>\n",
       "      <td>37601</td>\n",
       "      <td>Web Applications,Mobile Applications</td>\n",
       "    </tr>\n",
       "    <tr>\n",
       "      <th>2</th>\n",
       "      <td>barend,Edwards</td>\n",
       "      <td>MR</td>\n",
       "      <td>Database Analyst</td>\n",
       "      <td>Intern</td>\n",
       "      <td>13163</td>\n",
       "      <td>Web Applications, Mobile Applications</td>\n",
       "    </tr>\n",
       "    <tr>\n",
       "      <th>3</th>\n",
       "      <td>kelly            ,Manuel</td>\n",
       "      <td>Ms</td>\n",
       "      <td>Full-Stack Developer</td>\n",
       "      <td>Intern</td>\n",
       "      <td>47442</td>\n",
       "      <td>Web Applications, Mobile Applications</td>\n",
       "    </tr>\n",
       "    <tr>\n",
       "      <th>4</th>\n",
       "      <td>Janet,Patel</td>\n",
       "      <td>Ms</td>\n",
       "      <td>Systems Analyst</td>\n",
       "      <td>Intern</td>\n",
       "      <td>39081</td>\n",
       "      <td>Web Applications, Mobile Applications</td>\n",
       "    </tr>\n",
       "    <tr>\n",
       "      <th>5</th>\n",
       "      <td>Christopher,     Walker</td>\n",
       "      <td>Mr</td>\n",
       "      <td>Back-End Developer</td>\n",
       "      <td>Junior</td>\n",
       "      <td>122894</td>\n",
       "      <td>Web Applications, Mobile Applications</td>\n",
       "    </tr>\n",
       "    <tr>\n",
       "      <th>6</th>\n",
       "      <td>Marco              ,    Morris</td>\n",
       "      <td>prof</td>\n",
       "      <td>Back-End Developer</td>\n",
       "      <td>Mid-Level</td>\n",
       "      <td>110506</td>\n",
       "      <td>Web Applications, Mobile Applications</td>\n",
       "    </tr>\n",
       "    <tr>\n",
       "      <th>7</th>\n",
       "      <td>Danie   ,Campbell</td>\n",
       "      <td>Mrs</td>\n",
       "      <td>Business Analyst</td>\n",
       "      <td>Mid-Level</td>\n",
       "      <td>205621</td>\n",
       "      <td>Web Applications, Mobile Applications</td>\n",
       "    </tr>\n",
       "    <tr>\n",
       "      <th>8</th>\n",
       "      <td>Jessica          ,Mchunu</td>\n",
       "      <td>miss</td>\n",
       "      <td>Full-Stack Developer, Scrum Master</td>\n",
       "      <td>Mid-Level</td>\n",
       "      <td>70741</td>\n",
       "      <td>Web Applications</td>\n",
       "    </tr>\n",
       "    <tr>\n",
       "      <th>9</th>\n",
       "      <td>Laura,Makhanya</td>\n",
       "      <td>Ms</td>\n",
       "      <td>Full-Stack Developer, Team Lead</td>\n",
       "      <td>Senior</td>\n",
       "      <td>293352</td>\n",
       "      <td>Mobile Applications</td>\n",
       "    </tr>\n",
       "    <tr>\n",
       "      <th>10</th>\n",
       "      <td>Nico,Mthembu</td>\n",
       "      <td>Mr</td>\n",
       "      <td>Systems Analyst, Project Manager</td>\n",
       "      <td>Senior</td>\n",
       "      <td>97673</td>\n",
       "      <td>Mobile Applications</td>\n",
       "    </tr>\n",
       "  </tbody>\n",
       "</table>\n",
       "</div>"
      ],
      "text/plain": [
       "                          FullName Title                                Role  \\\n",
       "0             Dumisani,     Thwala    Mr                  Back-End Developer   \n",
       "1                       Dirk,Banda    Mr                    Business Analyst   \n",
       "2                   barend,Edwards    MR                    Database Analyst   \n",
       "3         kelly            ,Manuel    Ms                Full-Stack Developer   \n",
       "4                      Janet,Patel    Ms                     Systems Analyst   \n",
       "5          Christopher,     Walker    Mr                  Back-End Developer   \n",
       "6   Marco              ,    Morris  prof                  Back-End Developer   \n",
       "7                Danie   ,Campbell   Mrs                    Business Analyst   \n",
       "8         Jessica          ,Mchunu  miss  Full-Stack Developer, Scrum Master   \n",
       "9                   Laura,Makhanya    Ms     Full-Stack Developer, Team Lead   \n",
       "10                    Nico,Mthembu    Mr    Systems Analyst, Project Manager   \n",
       "\n",
       "   OccupationBand  Salary                             Department  \n",
       "0        Graduate   52171  Web Applications, Mobile Applications  \n",
       "1          Intern   37601   Web Applications,Mobile Applications  \n",
       "2          Intern   13163  Web Applications, Mobile Applications  \n",
       "3          Intern   47442  Web Applications, Mobile Applications  \n",
       "4          Intern   39081  Web Applications, Mobile Applications  \n",
       "5          Junior  122894  Web Applications, Mobile Applications  \n",
       "6       Mid-Level  110506  Web Applications, Mobile Applications  \n",
       "7       Mid-Level  205621  Web Applications, Mobile Applications  \n",
       "8       Mid-Level   70741                       Web Applications  \n",
       "9          Senior  293352                    Mobile Applications  \n",
       "10         Senior   97673                    Mobile Applications  "
      ]
     },
     "execution_count": 2,
     "metadata": {},
     "output_type": "execute_result"
    }
   ],
   "source": [
    "%%read_sql\n",
    "SELECT * \n",
    "FROM employees\n",
    "WHERE Role LIKE '%,%'    -- we use the LIKE keyword to search for the comma \",\" delimiter\n",
    "OR Department LIKE '%,%' -- we use the LIKE keyword to search for the comma \",\" delimiter"
   ]
  },
  {
   "cell_type": "markdown",
   "metadata": {},
   "source": [
    "### Steps required to convert to 1NF\n",
    "To convert the table to the first normal form, we will need to do two things: \n",
    "\n",
    "1. The first step is to reduce the content in each cell to insure that we only store a single (atomic) value. Looking at the **`FullName`** column we see that it is in the form: ***Name,Surname***  so it is logical to split the column into two new columns.\n",
    "\n",
    "2. Secondly, we need to split the content for the **`Role`** and **`Department`** columns as employees can have more than one role, or belong to multiple departments. For this change we will duplicate the row and insert the correct 'Role' or 'Department' attribute values required.\n",
    "\n",
    "<img src =\"https://raw.githubusercontent.com/Explore-AI/Pictures/master/SQL4DS/Practical_Normalization/1NF.png\" alt=\"first Normal Form\" >\n",
    "\n",
    "Let's get to it by first creating the required table. In our case we will drop **`FullName`** column and introduce the **`Name`** and **`Surname`** columns:"
   ]
  },
  {
   "cell_type": "code",
   "execution_count": 3,
   "metadata": {},
   "outputs": [
    {
     "name": "stdout",
     "output_type": "stream",
     "text": [
      "Query started at 07:35:41 AM SAST; Query executed in 0.00 m"
     ]
    },
    {
     "data": {
      "text/plain": [
       "<sql_magic.exceptions.EmptyResult at 0x7f3dda7e9190>"
      ]
     },
     "execution_count": 3,
     "metadata": {},
     "output_type": "execute_result"
    }
   ],
   "source": [
    "%%read_sql\n",
    "\n",
    "DROP TABLE IF EXISTS Employees_1NF; -- We delete our table for convenience when re-running this cell. \n",
    "\n",
    "CREATE TABLE Employees_1NF (\n",
    "    Name VARCHAR NOT NULL, \n",
    "    Surname VARCHAR NOT NULL,\n",
    "    Role VARCHAR NOT NULL,\n",
    "    Department VARCHAR NOT NULL,\n",
    "    Title VARCHAR,\n",
    "    OccupationBand VARCHAR,\n",
    "    Salary REAL,\n",
    "    PRIMARY KEY(Name, Surname, Role, Department) \n",
    ");"
   ]
  },
  {
   "cell_type": "markdown",
   "metadata": {},
   "source": [
    "Before we move on to inserting values in our newly created table, let us write a few simple queries that will guide the insertion of data. Firstly, let us take a moment to consider how we will split the content in the cells such that each cell only contains one piece of data."
   ]
  },
  {
   "cell_type": "code",
   "execution_count": 4,
   "metadata": {},
   "outputs": [
    {
     "name": "stdout",
     "output_type": "stream",
     "text": [
      "Query started at 07:35:41 AM SAST; Query executed in 0.00 m"
     ]
    },
    {
     "data": {
      "text/html": [
       "<div>\n",
       "<style scoped>\n",
       "    .dataframe tbody tr th:only-of-type {\n",
       "        vertical-align: middle;\n",
       "    }\n",
       "\n",
       "    .dataframe tbody tr th {\n",
       "        vertical-align: top;\n",
       "    }\n",
       "\n",
       "    .dataframe thead th {\n",
       "        text-align: right;\n",
       "    }\n",
       "</style>\n",
       "<table border=\"1\" class=\"dataframe\">\n",
       "  <thead>\n",
       "    <tr style=\"text-align: right;\">\n",
       "      <th></th>\n",
       "      <th>FullName</th>\n",
       "      <th>Name</th>\n",
       "      <th>Surname</th>\n",
       "    </tr>\n",
       "  </thead>\n",
       "  <tbody>\n",
       "    <tr>\n",
       "      <th>0</th>\n",
       "      <td>Dumisani,     Thwala</td>\n",
       "      <td>Dumisani</td>\n",
       "      <td>Thwala</td>\n",
       "    </tr>\n",
       "    <tr>\n",
       "      <th>1</th>\n",
       "      <td>Tony,   Horn</td>\n",
       "      <td>Tony</td>\n",
       "      <td>Horn</td>\n",
       "    </tr>\n",
       "    <tr>\n",
       "      <th>2</th>\n",
       "      <td>Vuyokazi,barnes</td>\n",
       "      <td>Vuyokazi</td>\n",
       "      <td>barnes</td>\n",
       "    </tr>\n",
       "    <tr>\n",
       "      <th>3</th>\n",
       "      <td>sello  ,Details</td>\n",
       "      <td>sello</td>\n",
       "      <td>Details</td>\n",
       "    </tr>\n",
       "    <tr>\n",
       "      <th>4</th>\n",
       "      <td>Jacqueline       ,fredericks</td>\n",
       "      <td>Jacqueline</td>\n",
       "      <td>fredericks</td>\n",
       "    </tr>\n",
       "  </tbody>\n",
       "</table>\n",
       "</div>"
      ],
      "text/plain": [
       "                       FullName        Name     Surname\n",
       "0          Dumisani,     Thwala    Dumisani      Thwala\n",
       "1                  Tony,   Horn        Tony        Horn\n",
       "2               Vuyokazi,barnes    Vuyokazi      barnes\n",
       "3               sello  ,Details       sello     Details\n",
       "4  Jacqueline       ,fredericks  Jacqueline  fredericks"
      ]
     },
     "execution_count": 4,
     "metadata": {},
     "output_type": "execute_result"
    }
   ],
   "source": [
    "%%read_sql\n",
    "SELECT \n",
    "    FullName,\n",
    "    TRIM(SUBSTR(FullName,1,INSTR(FullName,',')-1)) AS Name, --Get substring before comma\n",
    "    TRIM(SUBSTR(FullName,INSTR(FullName,',')+1)) AS Surname --Get substring after comma\n",
    "FROM Employees\n",
    "LIMIT 5;"
   ]
  },
  {
   "cell_type": "markdown",
   "metadata": {},
   "source": [
    "Now let us take a moment to understand this query, by unpacking the string manipulation functions being employed. We will take the first row as an example where **`FullName`** = '*Dumisani, Twala*':\n",
    "\n",
    "```sql\n",
    "    TRIM(SUBSTR('Dumisani, Twala',1,INSTR('Dumisani, Twala',,',')-1))\n",
    "```\n",
    "The first function call determines the index position of the comma: **`INSTR('Dumisani, Twala',,',')`** = 9.\n",
    "\n",
    "The second function call returns the substring that appears before the comma: **`SUBSTR('Dumisani, Twala',1,9-1)`** = '   Dumisani'.\n",
    "\n",
    "The third function call removes any potential whitespaces that might appear at the extremities of our substring **`TRIM('Dumisani')`** = 'Dumisani'\n",
    "\n",
    "The same explanation will hold true for the creation of the Surname, except that we are looking for the substring after the comma.\n",
    "\n",
    "\n",
    "**Try it yourself: Write a similar query for the `Role` and `Department` Columns**"
   ]
  },
  {
   "cell_type": "code",
   "execution_count": 5,
   "metadata": {},
   "outputs": [],
   "source": [
    "%%read_sql\n",
    "--Write your query here\n"
   ]
  },
  {
   "cell_type": "markdown",
   "metadata": {},
   "source": [
    "You may have realised after attempting the above that for the **`Role`** and **`Department`** columns, we can not naively split them into multiple columns. This would require us to create `Role_1`, `Role_2`, ..., `Role_n` columns (the same is true for `Department`) - which is not ideal. If we do this, we are going to potentially introduce multiple null values within the table. Furthermore, we ideally want to grow the table on a row basis as it does not require a change in the table structure, unlike growing the table by its columns/attributes.\n",
    "\n",
    "So for the next step let's see how we are going to split the contents of the cell and create a duplicate entry for it. We will approach the problem by creating three logical sets and joining them together using a union.\n",
    "\n",
    "1. The set of all entries containing the first **`Role`** or **`Department`** for all non-atomic cells.\n",
    "2. The set of all entries containing the second **`Role`**  or **`Department`** for all non-atomic cells.\n",
    "3. The set of all entries that only contain atomic cells.\n",
    "\n",
    "**Note:** There are more efficient ways of doing this task, such as using a programming language which will inherently have more data structures available for use. However, for the purposes of this train, we will assume that SQL is the only tool available. So let us flex our SQL Ninja skills to get this done!"
   ]
  },
  {
   "cell_type": "code",
   "execution_count": 36,
   "metadata": {},
   "outputs": [
    {
     "name": "stdout",
     "output_type": "stream",
     "text": [
      "Query started at 08:19:53 AM SAST; Query executed in 0.00 m"
     ]
    },
    {
     "data": {
      "text/plain": [
       "<sql_magic.exceptions.EmptyResult at 0x7f3dda4c6d90>"
      ]
     },
     "execution_count": 36,
     "metadata": {},
     "output_type": "execute_result"
    }
   ],
   "source": [
    "%%read_sql\n",
    "--Below is the INSERT query for the first normal form.\n",
    "DELETE FROM Employees_1NF;\n",
    "INSERT INTO Employees_1NF (Name,Surname,Title,Role,OccupationBand,Salary,Department)\n",
    "/*SET #1 ======================================================================================\n",
    "   The set of all entries containing the first `Role` or `Department` for all non-atomic cells. \n",
    "==============================================================================================*/\n",
    "SELECT \n",
    "    TRIM(SUBSTR(FullName,1,INSTR(FullName,',')-1)) AS Name,     -- Splitting FullName to obtain Name,\n",
    "    TRIM(SUBSTR(FullName,INSTR(FullName,',')+1)) AS Surname,    -- Splitting FullName to obtain Surname\n",
    "    UPPER(SUBSTR(Title,1,1)) || LOWER(SUBSTR(Title,2)) AS Title, -- Standardizing all Titles to start with a Capital letter\n",
    "    TRIM(SUBSTR(Role,1,INSTR(Role,',')-1))  AS Role,       --return the first Role (substring before comma)\n",
    "    OccupationBand,\n",
    "    Salary,\n",
    "    Department\n",
    "FROM\n",
    "    Employees\n",
    "WHERE Role LIKE '%,%'-- Target all entries that have non-atomic values Role Column\n",
    "\n",
    "UNION \n",
    "\n",
    "SELECT \n",
    "    TRIM(SUBSTR(FullName,1,INSTR(FullName,',')-1)) AS Name,     -- Splitting FullName to obtain Name,\n",
    "    TRIM(SUBSTR(FullName,INSTR(FullName,',')+1)) AS Surname,    -- Splitting FullName to obtain Surname\n",
    "    UPPER(SUBSTR(Title,1,1)) || LOWER(SUBSTR(Title,2)) AS Title, -- Standardizing all Titles to start with a Capital letter\n",
    "    Role,\n",
    "    OccupationBand,\n",
    "    Salary,\n",
    "    TRIM(SUBSTR(Department,1,INSTR(Department,',')-1)) AS Department--return the first Department (substring before comma)\n",
    "     \n",
    "FROM\n",
    "    Employees\n",
    "WHERE Department LIKE '%,%' -- Target all entries that have non-atomic values in the Department column\n",
    "\n",
    "UNION\n",
    "\n",
    "/*SET #2 ======================================================================================\n",
    "   The set of all entries containing the second `Role` or `Department` for all non-atomic cells. \n",
    "==============================================================================================*/\n",
    "\n",
    "SELECT\n",
    "    TRIM(SUBSTR(FullName,1,INSTR(FullName,',')-1)) AS Name,     -- Splitting FullName to obtain Name,\n",
    "    TRIM(SUBSTR(FullName,INSTR(FullName,',')+1)) AS Surname,    -- Splitting FullName to obtain Surname\n",
    "    UPPER(SUBSTR(Title,1,1)) || LOWER(SUBSTR(Title,2)) AS Title, -- Standardizing all Titles to start with a Capital letter\n",
    "    TRIM(SUBSTR(Role,INSTR(Role,',')+1))  AS Role,      --return the second Role (substring after comma)\n",
    "    OccupationBand,\n",
    "    Salary,\n",
    "    Department\n",
    "FROM\n",
    "    Employees\n",
    "WHERE Role LIKE '%,%' -- Target all entries that have non-atomic values in the Role column\n",
    "\n",
    "UNION\n",
    "\n",
    "SELECT \n",
    "    TRIM(SUBSTR(FullName,1,INSTR(FullName,',')-1)) AS Name,     -- Splitting FullName to obtain Name,\n",
    "    TRIM(SUBSTR(FullName,INSTR(FullName,',')+1)) AS Surname,    -- Splitting FullName to obtain Surname\n",
    "    UPPER(SUBSTR(Title,1,1)) || LOWER(SUBSTR(Title,2)) AS Title, -- Standardizing all Titles to start with a Capital letter\n",
    "    Role,\n",
    "    OccupationBand,\n",
    "    Salary,\n",
    "    TRIM(SUBSTR(Department,INSTR(Department,',')+1)) AS Department --return the second Department (substring after comma)\n",
    "     \n",
    "FROM\n",
    "    Employees\n",
    "WHERE Department LIKE '%,%' -- Target all entries that have non-atomic values in the Department column\n",
    "\n",
    "UNION\n",
    "/*SET #3 ====================================================================================\n",
    "   The set of all entries that only contain atomic cells. \n",
    "============================================================================================*/\n",
    "SELECT \n",
    "    TRIM(SUBSTR(FullName,1,INSTR(FullName,',')-1)) AS Name,     --Splitting FullName to obtain Name,\n",
    "    TRIM(SUBSTR(FullName,INSTR(FullName,',')+1)) AS Surname,    --Splitting FullName to obtain Surname\n",
    "    UPPER(SUBSTR(Title,1,1)) ||LOWER(SUBSTR(Title,2)) AS Title, --Standardizing all Title to start with a Capital letter\n",
    "    Role,\n",
    "    OccupationBand,\n",
    "    Salary,\n",
    "    Department\n",
    "FROM\n",
    "    Employees\n",
    "WHERE  ROLE NOT LIKE '%,%' AND Department NOT LIKE '%,%' --Targets only the atomic values\n",
    "    \n"
   ]
  },
  {
   "cell_type": "markdown",
   "metadata": {},
   "source": [
    "### Cement your understanding: Explore the query\n",
    "\n",
    "Take time to reflect on the query given in the previous cell. Use the below cell to play around with certain chunks of the query to cement your understanding. Explore the following elements of the query:\n",
    "\n",
    "1. Explore the individual sets\n",
    "2. Make sure you understand the ***WHERE*** clause conditions for sets 1 and 2\n",
    "3. Make sure you understand the ***WHERE*** clause conditions for set 3\n",
    "\n",
    "**NOTE:** You are not restricted to the one cell below, you can create as many cells as you wish."
   ]
  },
  {
   "cell_type": "code",
   "execution_count": 7,
   "metadata": {},
   "outputs": [],
   "source": [
    "%%read_sql\n",
    "\n",
    "-- Write your experimental queries here"
   ]
  },
  {
   "cell_type": "markdown",
   "metadata": {},
   "source": [
    "### Exercise: Rewrite the above query in a more compact manner:\n",
    "\n",
    "The above query was naively written and as a result consists of four unions, this can actually be reduced to only two unions. This is because set 1 consists of two smaller subsets, the same is true for set 2. Your task is to ensure that we only have three pure sets (instead of the five that are present in our current query).\n",
    "\n",
    "<img src=\"https://raw.githubusercontent.com/Explore-AI/Pictures/master/SQL4DS/Practical_Normalization/Sets.png\" alt=\"Second Normal Form\">\n",
    "\n"
   ]
  },
  {
   "cell_type": "code",
   "execution_count": null,
   "metadata": {},
   "outputs": [],
   "source": [
    "%%read_sql\n",
    "--Write your query here.\n"
   ]
  },
  {
   "cell_type": "markdown",
   "metadata": {},
   "source": [
    "### Checkpoint: Data Anomalies\n",
    "\n",
    "You can think of 1NF as the \"*common sense*\" form which will allow you to write meaningful SQL queries without too much hassle.\n",
    "\n",
    "Although we have transformed the table to its first normal form, data anomalies still exist however: \n",
    "\n",
    " - **Deletion Anomaly**: If we delete Jessica Mchunu from the table, the **Scrum Master** role will be removed from the database as well.\n",
    "\n",
    " - **Update Anomaly**: Christopher's name appears twice in the table. If he were to get a raise and only one entry was updated and the other one missed, it would cause a data inconsistency -  making it seem as if he is getting two different salaries.\n",
    "\n",
    " - **Insertion Anomaly**: Some companies like to hire talent but not necessarily assign them to a department or role as they want them to rotate through out the company until they find their niche. This database will not allow them to capture that information as it is required that all employees belong to a department and have at least one role.\n",
    "\n"
   ]
  },
  {
   "cell_type": "markdown",
   "metadata": {},
   "source": [
    "## Converting to the $2^{nd}$ Normal Form\n",
    "\n",
    "To convert to the $2^{nd}$  normal form we need to make sure that we meet the following conditions: \n",
    "\n",
    "1. The table needs to be in the $1^{st}$ normal form\n",
    "2. ***The table should not contain any partial dependencies.***\n",
    "\n",
    "Point number two simply means that every non key attribute should be fully dependent on the primary key. This translates to each table serving a single purpose. Therefore, the strategy to \"employ\" here is to create new tables such that each table serves a single purpose. Have a look at the ERD sketch given below.\n",
    "\n",
    "<img src=\"https://raw.githubusercontent.com/Explore-AI/Pictures/master/SQL4DS/Practical_Normalization/2NF.png\" alt=\"Second Normal Form\">\n",
    "\n",
    "Note that most of the heavy lifting was performed when setting up the $1^{st}$ normal form. So we will use this table to create the required fields for the $2^{nd}$  normal form. To start off, we will create the tables required. For each table we will pay special attention to relationships that exist between tables, this will enable us to create foreign keys appropriately to maintain the [referential integrity](https://en.wikipedia.org/wiki/Referential_integrity) of the tables."
   ]
  },
  {
   "cell_type": "code",
   "execution_count": 8,
   "metadata": {},
   "outputs": [
    {
     "name": "stdout",
     "output_type": "stream",
     "text": [
      "Query started at 07:35:42 AM SAST; Query executed in 0.00 m"
     ]
    },
    {
     "data": {
      "text/plain": [
       "<sql_magic.exceptions.EmptyResult at 0x7f3dda71af10>"
      ]
     },
     "execution_count": 8,
     "metadata": {},
     "output_type": "execute_result"
    }
   ],
   "source": [
    "%%read_sql\n",
    "\n",
    "DROP TABLE IF EXISTS Employees_2NF;\n",
    "DROP TABLE IF EXISTS Titles_2NF;\n",
    "DROP TABLE IF EXISTS Roles_2NF;\n",
    "DROP TABLE IF EXISTS Departments_2NF;\n",
    "DROP TABLE IF EXISTS Employee_Department_2NF;\n",
    "DROP TABLE IF EXISTS Employee_Role_2NF;\n",
    "\n",
    "CREATE TABLE Employees_2NF (\n",
    "    EmployeeID INTEGER NOT NULL,\n",
    "    Name VARCHAR, \n",
    "    Surname VARCHAR,\n",
    "    Salary REAL,\n",
    "    OccupationBand VARCHAR,\n",
    "    TitleID INTEGER,\n",
    "    FOREIGN KEY(TitleID) REFERENCES Titles_2NF (TitleID), \n",
    "    PRIMARY KEY(EmployeeID AUTOINCREMENT)\n",
    ");\n",
    "\n",
    "CREATE TABLE Titles_2NF (\n",
    "    TitleID INTEGER NOT NULL,\n",
    "    Title VARCHAR,\n",
    "    PRIMARY KEY(TitleID AUTOINCREMENT)\n",
    ");\n",
    "\n",
    "\n",
    "CREATE TABLE Employee_Role_2NF(\n",
    "    EmployeeID INTEGER NOT NULL,\n",
    "    RoleID INTEGER NOT NULL,\n",
    "    FOREIGN KEY (EmployeeID) REFERENCES Employees_2NF (EmployeeID),\n",
    "    FOREIGN KEY (RoleID) REFERENCES Roles_2NF (RoleID),\n",
    "    PRIMARY KEY(EmployeeID, RoleID)\n",
    ");\n",
    "\n",
    "CREATE TABLE Employee_Department_2NF(\n",
    "    EmployeeID INTEGER NOT NULL,\n",
    "    DepartmentID INTEGER NOT NULL,\n",
    "    FOREIGN KEY (EmployeeID) REFERENCES Employees_2NF (EmployeeID),\n",
    "    FOREIGN KEY (DepartmentID) REFERENCES Departments_2NF (DepartmentID),\n",
    "    PRIMARY KEY(EmployeeID, DepartmentID)\n",
    ");\n",
    "\n",
    "CREATE TABLE Roles_2NF (\n",
    "    RoleID INTEGER NOT NULL,\n",
    "    Role VARCHAR,\n",
    "    PRIMARY KEY(RoleID AUTOINCREMENT)\n",
    ");\n",
    "\n",
    "CREATE TABLE  Departments_2NF (\n",
    "    DepartmentID INTEGER NOT NULL,\n",
    "    Department VARCHAR,\n",
    "    PRIMARY KEY(DepartmentID AUTOINCREMENT)\n",
    ");\n"
   ]
  },
  {
   "cell_type": "markdown",
   "metadata": {},
   "source": [
    "## Populating tables for the $2^{nd}$ Normal Form\n",
    "\n",
    "Let us proceed to populate the **Titles_2NF, Roles_2NF** and **Departments_2NF** as the queries for these insertions are fairly trivial. They all consist of a simple SELECT DISTINCT queries using the **Employees_1NF** table "
   ]
  },
  {
   "cell_type": "code",
   "execution_count": 9,
   "metadata": {},
   "outputs": [
    {
     "name": "stdout",
     "output_type": "stream",
     "text": [
      "Query started at 07:35:42 AM SAST; Query executed in 0.00 m"
     ]
    },
    {
     "data": {
      "text/plain": [
       "<sql_magic.exceptions.EmptyResult at 0x7f3dda739250>"
      ]
     },
     "execution_count": 9,
     "metadata": {},
     "output_type": "execute_result"
    }
   ],
   "source": [
    "%%read_sql\n",
    "DELETE FROM Titles_2NF;\n",
    "DELETE FROM Roles_2NF;\n",
    "DELETE FROM Departments_2NF;\n",
    "\n",
    "INSERT INTO Titles_2NF (Title)\n",
    "SELECT \n",
    "    DISTINCT Title \n",
    "FROM Employees_1NF \n",
    "WHERE Title <> '';\n",
    "\n",
    "INSERT INTO Roles_2NF (Role)\n",
    "SELECT \n",
    "    DISTINCT Role\n",
    "FROM Employees_1NF\n",
    "WHERE Role <>'';\n",
    "\n",
    "INSERT INTO Departments_2NF (Department)\n",
    "SELECT\n",
    "    DISTINCT Department\n",
    "FROM Employees_1NF\n",
    "WHERE Department <>'';"
   ]
  },
  {
   "cell_type": "markdown",
   "metadata": {},
   "source": [
    "Now we move onto the **Employees_2NF** table. This is where we start to take the foreign keys into account. Note that we said that the **`TitleID`** attribute referenced the **`TitleID`** column in the **Titles_2NF** table. This gives us a hint as the table we need to join with inorder to populate the **`TitleID`** such that we maintain referential integrity."
   ]
  },
  {
   "cell_type": "code",
   "execution_count": 10,
   "metadata": {
    "scrolled": true
   },
   "outputs": [
    {
     "name": "stdout",
     "output_type": "stream",
     "text": [
      "Query started at 07:35:42 AM SAST; Query executed in 0.00 m"
     ]
    },
    {
     "data": {
      "text/plain": [
       "<sql_magic.exceptions.EmptyResult at 0x7f3dda701090>"
      ]
     },
     "execution_count": 10,
     "metadata": {},
     "output_type": "execute_result"
    }
   ],
   "source": [
    "%%read_sql\n",
    "DELETE FROM Employees_2NF;\n",
    "\n",
    "INSERT INTO Employees_2NF (Name, Surname, Salary, OccupationBand, TitleID)\n",
    "SELECT DISTINCT\n",
    "    EMP.Name,\n",
    "    EMP.Surname,\n",
    "    EMP.Salary,\n",
    "    EMP.OccupationBand,\n",
    "    T.TitleID\n",
    "FROM Employees_1NF AS EMP\n",
    "JOIN Titles_2NF AS T ON T.Title = EMP.Title;\n"
   ]
  },
  {
   "cell_type": "markdown",
   "metadata": {},
   "source": [
    "Now we move onto the contents of **Employee_Department_2NF** and **Employee_Role_2NF**. These tables are usually called 'mapping tables' and are usually made up of foreign keys. The logic on the joins used to populate these structures is again reliant on the foreign key references that we made during the tables' creation stage."
   ]
  },
  {
   "cell_type": "code",
   "execution_count": 11,
   "metadata": {},
   "outputs": [
    {
     "name": "stdout",
     "output_type": "stream",
     "text": [
      "Query started at 07:35:42 AM SAST; Query executed in 0.00 m"
     ]
    },
    {
     "data": {
      "text/plain": [
       "<sql_magic.exceptions.EmptyResult at 0x7f3e02bca690>"
      ]
     },
     "execution_count": 11,
     "metadata": {},
     "output_type": "execute_result"
    }
   ],
   "source": [
    "%%read_sql\n",
    "DELETE FROM Employee_Department_2NF;\n",
    "DELETE FROM Employee_Role_2NF;\n",
    "\n",
    "INSERT INTO Employee_Department_2NF (EmployeeID,DepartmentID)\n",
    "SELECT DISTINCT\n",
    "    EMP2.EmployeeID,\n",
    "    DPT.DepartmentID\n",
    "FROM Employees_1NF AS EMP1\n",
    "JOIN Employees_2NF AS EMP2 ON EMP1.Name = EMP2.Name AND EMP1.Surname = EMP2.Surname\n",
    "JOIN Departments_2NF AS DPT ON EMP1.Department = DPT.Department;\n",
    "    \n",
    "\n",
    "INSERT INTO Employee_Role_2NF (EmployeeID,RoleID)\n",
    "SELECT DISTINCT\n",
    "    EMP2.EmployeeID,\n",
    "    R.RoleID\n",
    "FROM Employees_1NF AS EMP1\n",
    "JOIN Employees_2NF AS EMP2 ON EMP1.Name = EMP2.Name AND EMP1.Surname = EMP2.Surname\n",
    "JOIN Roles_2NF AS R ON EMP1.Role = R.Role"
   ]
  },
  {
   "cell_type": "markdown",
   "metadata": {},
   "source": [
    "### Checkpoint: Data Anomalies\n",
    "\n",
    " - **Deletion Anomaly**: We have eliminated the deletion anomalies that could occur on the **`Roles`**, **`Departments`** and **`Titles`** columns by creating separate tables for them. For example, if Jessica Mchunu get's deleted from the **Employees_2NF** table the **Scrum Master** role will continue to persist in the **Roles_2NF** table.\n",
    "\n",
    " - **Update Anomaly**: Christoper only appears once in the **Employees_2NF**, so should he get a raise we only need to change his salary information in one place. This reduces the chances of having any data inconsistencies.\n",
    "\n",
    " - **Insertion Anomaly**: Now we can insert new graduates into the database without having to define a role or place them in a specific department."
   ]
  },
  {
   "cell_type": "markdown",
   "metadata": {},
   "source": [
    "## Converting to the $3^{rd}$ Normal Form\n",
    "\n",
    "For the tables to be in the $3^{rd}$ normal form we require the following conditions to be met:\n",
    "\n",
    "1. The database needs to be in $2^{nd}$ normal form.\n",
    "2. There should be no **transitive** dependencies on the **Primary Key**\n",
    "\n",
    "<img src=\"https://raw.githubusercontent.com/Explore-AI/Pictures/master/SQL4DS/Practical_Normalization/3NF.png\" alt = \"Third Normal Form\"/>\n",
    "\n",
    "Generally speaking, one's salary is related to their occupation band. i.e. we do not expect a graduate to be earning a similar salary to their senior counterparts. So in this case we find ourselves with transitive relation between **`EmployeeID`** , **`Salary`** and **`OccupationBand`**. The *occupation band* is dependent on the *salary* and the *salary* is dependent on the *employee's id*. So we can say that the **`OccupationBand`** is transitively dependent on the Primary Key (**`EmployeeID`** ) through the **`Salary`** column.\n",
    "\n",
    "Most of the tables required for the third normal form are already available from our second normal form, so we will simply make a copy of these tables."
   ]
  },
  {
   "cell_type": "code",
   "execution_count": 12,
   "metadata": {},
   "outputs": [
    {
     "name": "stdout",
     "output_type": "stream",
     "text": [
      "Query started at 07:35:42 AM SAST; Query executed in 0.00 m"
     ]
    },
    {
     "data": {
      "text/plain": [
       "<sql_magic.exceptions.EmptyResult at 0x7f3dda74aa90>"
      ]
     },
     "execution_count": 12,
     "metadata": {},
     "output_type": "execute_result"
    }
   ],
   "source": [
    "%%read_sql\n",
    "DROP TABLE IF EXISTS Departments_3NF;\n",
    "DROP TABLE IF EXISTS Employee_Department_3NF;\n",
    "DROP TABLE IF EXISTS Employee_Role_3NF;\n",
    "DROP TABLE IF EXISTS Roles_3NF;\n",
    "DROP TABLE IF EXISTS Titles_3NF;\n",
    "\n",
    "CREATE TABLE Departments_3NF AS\n",
    "SELECT * FROM Departments_2NF;\n",
    "\n",
    "CREATE TABLE Employee_Department_3NF AS\n",
    "SELECT * FROM Employee_Department_2NF;\n",
    "\n",
    "CREATE TABLE Employee_Role_3NF AS\n",
    "SELECT * FROM Employee_Role_2NF;\n",
    "\n",
    "CREATE TABLE Roles_3NF AS\n",
    "SELECT * FROM Roles_2NF;\n",
    "\n",
    "CREATE TABLE Titles_3NF AS\n",
    "SELECT * FROM Titles_2NF;\n",
    "\n"
   ]
  },
  {
   "cell_type": "markdown",
   "metadata": {},
   "source": [
    "For the last step, we need to create two new tables for **Salaries** and **Occupation Bands**, and then modify the **Employees** table."
   ]
  },
  {
   "cell_type": "code",
   "execution_count": 13,
   "metadata": {},
   "outputs": [
    {
     "name": "stdout",
     "output_type": "stream",
     "text": [
      "Query started at 07:35:43 AM SAST; Query executed in 0.00 m"
     ]
    },
    {
     "data": {
      "text/plain": [
       "<sql_magic.exceptions.EmptyResult at 0x7f3dda77b9d0>"
      ]
     },
     "execution_count": 13,
     "metadata": {},
     "output_type": "execute_result"
    }
   ],
   "source": [
    "%%read_sql\n",
    "DROP TABLE IF EXISTS Employees_3NF;\n",
    "DROP TABLE IF EXISTS Salaries_3NF;\n",
    "DROP TABLE IF EXISTS OccupationBands_3NF;\n",
    "\n",
    "CREATE TABLE Employees_3NF (\n",
    "    EmployeeID INTEGER NOT NULL,\n",
    "    Name VARCHAR,\n",
    "    Surname VARCHAR,\n",
    "    TitleID INTEGER,\n",
    "    SalaryID INTEGER,\n",
    "    FOREIGN KEY(TitleID) REFERENCES Titles_3NF (TitleID)\n",
    "    FOREIGN KEY(SalaryID) REFERENCES Salaries_3NF (SalaryID)\n",
    "    PRIMARY KEY(EmployeeID AUTOINCREMENT)\n",
    ");\n",
    "\n",
    "CREATE TABLE Salaries_3NF(\n",
    "    SalaryID INTEGER NOT NULL,\n",
    "    Salary REAL,\n",
    "    BandID INTEGER,\n",
    "    FOREIGN KEY(BandID) REFERENCES OccupationBands (BandID),\n",
    "    PRIMARY KEY(SalaryID AUTOINCREMENT)\n",
    ");\n",
    "\n",
    "CREATE TABLE OccupationBands_3NF (\n",
    "    BandID INTEGER NOT NULL,\n",
    "    OccupationBand VARCHAR,\n",
    "    PRIMARY KEY(BandID AUTOINCREMENT)\n",
    ");"
   ]
  },
  {
   "cell_type": "markdown",
   "metadata": {},
   "source": [
    "## Populating tables for the $3^{rd}$ Normal Form\n",
    "\n",
    "Having populated the tables for the $2^{nd}$ normal form will make it easier to populate tables for the the $3^{rd}$ normal form. We will also fall back on the same logic when it comes to populating the foreign key columns to maintain referential integrity - nothing changes. All joins will be dependent on the foreign key references we made when creating the tables."
   ]
  },
  {
   "cell_type": "code",
   "execution_count": 14,
   "metadata": {},
   "outputs": [
    {
     "name": "stdout",
     "output_type": "stream",
     "text": [
      "Query started at 07:35:43 AM SAST; Query executed in 0.00 m"
     ]
    },
    {
     "data": {
      "text/plain": [
       "<sql_magic.exceptions.EmptyResult at 0x7f3dda7c0c90>"
      ]
     },
     "execution_count": 14,
     "metadata": {},
     "output_type": "execute_result"
    }
   ],
   "source": [
    "%%read_sql\n",
    "\n",
    "DELETE FROM OccupationBands_3NF;\n",
    "DELETE FROM Salaries_3NF;\n",
    "DELETE FROM Employees_3NF;\n",
    "\n",
    "INSERT INTO OccupationBands_3NF (OccupationBand)\n",
    "SELECT DISTINCT \n",
    "    OccupationBand\n",
    "FROM Employees_2NF;\n",
    "\n",
    "INSERT INTO Salaries_3NF (Salary,BandID)\n",
    "SELECT \n",
    "    Salary,\n",
    "    OB.BandID\n",
    "FROM Employees_2NF AS EMP\n",
    "JOIN OccupationBands_3NF AS OB ON OB.OccupationBand = EMP.OccupationBand;\n",
    "\n",
    "INSERT INTO Employees_3NF (Name,Surname,TitleID, SalaryID)\n",
    "SELECT \n",
    "    Name,\n",
    "    Surname,\n",
    "    TitleID,\n",
    "    SalaryID\n",
    "FROM Employees_2NF AS EMP\n",
    "JOIN Salaries_3NF AS S ON EMP.Salary = S.Salary; \n",
    "    "
   ]
  },
  {
   "cell_type": "markdown",
   "metadata": {},
   "source": [
    "With our data now in the $3^{rd}$ normal form, we encourage you to explore the data schema and to look at the contents of the various tables in order to solidify your understanding of the transformations which have taken place. "
   ]
  },
  {
   "cell_type": "code",
   "execution_count": 15,
   "metadata": {},
   "outputs": [],
   "source": [
    "%%read_sql\n",
    "\n",
    "--Write your experimental queries here."
   ]
  },
  {
   "cell_type": "markdown",
   "metadata": {},
   "source": [
    "### Checkpoint: Data Anomalies\n",
    "\n",
    "**Deletion Anomaly**: We have eliminated the deletion anomalies that could occur on the **`OccupationBand`**. If all Graduates were promoted to Juniors, the \"*Graduate*\" occupation band would still exist in the table - ready to be used when new graduates are hired.\n",
    "\n",
    "All the **update** and **insertion** anomalies were catered for in the $2^{nd}$ normal form.\n",
    "\n"
   ]
  },
  {
   "cell_type": "markdown",
   "metadata": {},
   "source": [
    "## Conclusion\n",
    "\n",
    "We have now completed the normalisation process. From this train you should expect to have a better understanding of some data anomalies which can occur in practice, and how they can be mitigated through database normalisation. However, it is important to note it is sometimes not possible to eliminate all redundancies and data anomalies - we can only minimize them.\n",
    "\n",
    "This design paradigm will assist you in creating relational databases which have minimized data redundancies and avoid data anomalies. Referential Integrity plays a key role in understanding the relationships between tables - which are usually underpinned by business rules. Take time to understand these [business rules](http://etutorials.org/SQL/Database+design+for+mere+mortals/Part+II+The+Design+Process/Chapter+11.+Business+Rules/What+Are+Business+Rules/) when creating your database. This effort will serve you well for organising your data as a future Data Scientist.\n"
   ]
  },
  {
   "source": [
    "## Appendix\n",
    "\n",
    "<a href=\"https://www.studytonight.com/dbms/database-normalization.php\">Database Normalisation</a>\n",
    "\n",
    "<a href=\"https://www.essentialsql.com/get-ready-to-learn-sql-11-database-third-normal-form-explained-in-simple-english/\">Third Normal Form - Transitive dependency explained</a>\n",
    "\n",
    "<a href=\"https://databasemanagement.fandom.com/wiki/Data_Anomalies\">Data Anomalies</a>"
   ],
   "cell_type": "markdown",
   "metadata": {}
  },
  {
   "cell_type": "markdown",
   "metadata": {},
   "source": [
    "### Excercise Solution: Rewrite your query in a more compact manner\n",
    "\n",
    "The following code provides a solution to the excercise we encountered earlier in the train. **Once you've attempted the exercise on your own**, we encourage you to compare your solution with this one to enhance your learning!   \n"
   ]
  },
  {
   "cell_type": "code",
   "execution_count": 38,
   "metadata": {},
   "outputs": [
    {
     "name": "stdout",
     "output_type": "stream",
     "text": [
      "Query started at 08:55:02 AM SAST; Query executed in 0.00 m"
     ]
    },
    {
     "data": {
      "text/html": [
       "<div>\n",
       "<style scoped>\n",
       "    .dataframe tbody tr th:only-of-type {\n",
       "        vertical-align: middle;\n",
       "    }\n",
       "\n",
       "    .dataframe tbody tr th {\n",
       "        vertical-align: top;\n",
       "    }\n",
       "\n",
       "    .dataframe thead th {\n",
       "        text-align: right;\n",
       "    }\n",
       "</style>\n",
       "<table border=\"1\" class=\"dataframe\">\n",
       "  <thead>\n",
       "    <tr style=\"text-align: right;\">\n",
       "      <th></th>\n",
       "      <th>Name</th>\n",
       "      <th>Surname</th>\n",
       "      <th>Title</th>\n",
       "      <th>Role</th>\n",
       "      <th>OccupationBand</th>\n",
       "      <th>Salary</th>\n",
       "      <th>Department</th>\n",
       "    </tr>\n",
       "  </thead>\n",
       "  <tbody>\n",
       "    <tr>\n",
       "      <th>0</th>\n",
       "      <td>André</td>\n",
       "      <td>gerber</td>\n",
       "      <td>Mrs</td>\n",
       "      <td>Front-End Developer</td>\n",
       "      <td>Junior</td>\n",
       "      <td>52357</td>\n",
       "      <td>Web Applications</td>\n",
       "    </tr>\n",
       "    <tr>\n",
       "      <th>1</th>\n",
       "      <td>Antoinette</td>\n",
       "      <td>Van Der Berg</td>\n",
       "      <td>Dr</td>\n",
       "      <td>UI/UX Developer</td>\n",
       "      <td>Junior</td>\n",
       "      <td>118731</td>\n",
       "      <td>Mobile Applications</td>\n",
       "    </tr>\n",
       "    <tr>\n",
       "      <th>2</th>\n",
       "      <td>Bronwyn</td>\n",
       "      <td>Swartz</td>\n",
       "      <td>Miss</td>\n",
       "      <td>UI/UX Developer</td>\n",
       "      <td>Graduate</td>\n",
       "      <td>34350</td>\n",
       "      <td>Mobile Applications</td>\n",
       "    </tr>\n",
       "    <tr>\n",
       "      <th>3</th>\n",
       "      <td>Christopher</td>\n",
       "      <td>Walker</td>\n",
       "      <td>Mr</td>\n",
       "      <td>Back-End Developer</td>\n",
       "      <td>Junior</td>\n",
       "      <td>122894</td>\n",
       "      <td>Mobile Applications</td>\n",
       "    </tr>\n",
       "    <tr>\n",
       "      <th>4</th>\n",
       "      <td>Christopher</td>\n",
       "      <td>Walker</td>\n",
       "      <td>Mr</td>\n",
       "      <td>Back-End Developer</td>\n",
       "      <td>Junior</td>\n",
       "      <td>122894</td>\n",
       "      <td>Web Applications</td>\n",
       "    </tr>\n",
       "    <tr>\n",
       "      <th>...</th>\n",
       "      <td>...</td>\n",
       "      <td>...</td>\n",
       "      <td>...</td>\n",
       "      <td>...</td>\n",
       "      <td>...</td>\n",
       "      <td>...</td>\n",
       "      <td>...</td>\n",
       "    </tr>\n",
       "    <tr>\n",
       "      <th>56</th>\n",
       "      <td>marthinus</td>\n",
       "      <td>ngobeni</td>\n",
       "      <td>Ms</td>\n",
       "      <td>Back-End Developer</td>\n",
       "      <td>Senior</td>\n",
       "      <td>354298</td>\n",
       "      <td>Web Applications</td>\n",
       "    </tr>\n",
       "    <tr>\n",
       "      <th>57</th>\n",
       "      <td>nicole</td>\n",
       "      <td>Ebrahim</td>\n",
       "      <td>Dr</td>\n",
       "      <td>Database Analyst</td>\n",
       "      <td>Senior</td>\n",
       "      <td>180919</td>\n",
       "      <td>Mobile Applications</td>\n",
       "    </tr>\n",
       "    <tr>\n",
       "      <th>58</th>\n",
       "      <td>phumzile</td>\n",
       "      <td>motsepe</td>\n",
       "      <td>Prof</td>\n",
       "      <td>Systems Analyst</td>\n",
       "      <td>Junior</td>\n",
       "      <td>129627</td>\n",
       "      <td>Mobile Applications</td>\n",
       "    </tr>\n",
       "    <tr>\n",
       "      <th>59</th>\n",
       "      <td>sello</td>\n",
       "      <td>Details</td>\n",
       "      <td>Mr</td>\n",
       "      <td>Database Analyst</td>\n",
       "      <td>Graduate</td>\n",
       "      <td>54945</td>\n",
       "      <td>Mobile Applications</td>\n",
       "    </tr>\n",
       "    <tr>\n",
       "      <th>60</th>\n",
       "      <td>takalani</td>\n",
       "      <td>Richards</td>\n",
       "      <td>Mr</td>\n",
       "      <td>Systems Analyst</td>\n",
       "      <td>Graduate</td>\n",
       "      <td>57906</td>\n",
       "      <td>Web Applications</td>\n",
       "    </tr>\n",
       "  </tbody>\n",
       "</table>\n",
       "<p>61 rows × 7 columns</p>\n",
       "</div>"
      ],
      "text/plain": [
       "           Name       Surname Title                 Role OccupationBand  \\\n",
       "0         André        gerber   Mrs  Front-End Developer         Junior   \n",
       "1    Antoinette  Van Der Berg    Dr      UI/UX Developer         Junior   \n",
       "2       Bronwyn        Swartz  Miss      UI/UX Developer       Graduate   \n",
       "3   Christopher        Walker    Mr   Back-End Developer         Junior   \n",
       "4   Christopher        Walker    Mr   Back-End Developer         Junior   \n",
       "..          ...           ...   ...                  ...            ...   \n",
       "56    marthinus       ngobeni    Ms   Back-End Developer         Senior   \n",
       "57       nicole       Ebrahim    Dr     Database Analyst         Senior   \n",
       "58     phumzile       motsepe  Prof      Systems Analyst         Junior   \n",
       "59        sello       Details    Mr     Database Analyst       Graduate   \n",
       "60     takalani      Richards    Mr      Systems Analyst       Graduate   \n",
       "\n",
       "    Salary           Department  \n",
       "0    52357     Web Applications  \n",
       "1   118731  Mobile Applications  \n",
       "2    34350  Mobile Applications  \n",
       "3   122894  Mobile Applications  \n",
       "4   122894     Web Applications  \n",
       "..     ...                  ...  \n",
       "56  354298     Web Applications  \n",
       "57  180919  Mobile Applications  \n",
       "58  129627  Mobile Applications  \n",
       "59   54945  Mobile Applications  \n",
       "60   57906     Web Applications  \n",
       "\n",
       "[61 rows x 7 columns]"
      ]
     },
     "execution_count": 38,
     "metadata": {},
     "output_type": "execute_result"
    }
   ],
   "source": [
    "%%read_sql\n",
    "--Below is the INSERT query for the first normal form.\n",
    "--DELETE FROM Employees_1NF;\n",
    "--INSERT INTO Employees_1NF (Name,Surname,Title,Role,OccupationBand,Salary,Department)\n",
    "\n",
    "/*SET #1 ======================================================================================\n",
    "   The set of all entries containing the first `Role` or `Department` for all non-atomic cells. \n",
    "==============================================================================================*/\n",
    "SELECT \n",
    "    TRIM(SUBSTR(FullName,1,INSTR(FullName,',')-1)) AS Name,     -- Splitting FullName to obtain Name,\n",
    "    TRIM(SUBSTR(FullName,INSTR(FullName,',')+1)) AS Surname,    -- Splitting FullName to obtain Surname\n",
    "    UPPER(SUBSTR(Title,1,1)) || LOWER(SUBSTR(Title,2)) AS Title, -- Standardizing all Titles to start with a Capital letter\n",
    "    \n",
    "    CASE WHEN -- To make sure that we don't have blank values when creating duplicate entries due to multiple Departments\n",
    "        TRIM(SUBSTR(Role,1,INSTR(Role,',')-1))='' THEN Role -- return original role if function calls return a blank\n",
    "        ELSE TRIM(SUBSTR(Role,1,INSTR(Role,',')-1))         -- return the result of the function calls if it's not blank (substring before comma)\n",
    "    END AS Role,\n",
    "\n",
    "    OccupationBand,\n",
    "    Salary,\n",
    "    CASE WHEN --To make sure that we don't have blank values when creating duplicate entries due to multiple Roles\n",
    "        TRIM(SUBSTR(Department,1,INSTR(Department,',')-1))='' THEN Department -- return original department if function calls return a blank\n",
    "    ELSE TRIM(SUBSTR(Department,1,INSTR(Department,',')-1))                   -- return the result of the function calls if it's not blank (substring before comma)\n",
    "    END AS Department\n",
    "FROM\n",
    "    Employees\n",
    "WHERE Role LIKE '%,%' OR Department LIKE '%,%' -- Target all entries that have non-atomic values in the two respective columns\n",
    "\n",
    "UNION\n",
    "\n",
    "\n",
    "/*SET #2 ======================================================================================\n",
    "   The set of all entries containing the second `Role` or `Department` for all non-atomic cells. \n",
    "==============================================================================================*/\n",
    "SELECT \n",
    "    TRIM(SUBSTR(FullName,1,INSTR(FullName,',')-1)) AS Name,    --Splitting FullName to obtain Name,\n",
    "    TRIM(SUBSTR(FullName,INSTR(FullName,',')+1)) AS Surname,   --Splitting FullName to obtain Surname\n",
    "    UPPER(SUBSTR(Title,1,1)) ||LOWER(SUBSTR(Title,2)) AS Title,--Standardizing all Title to start with a Capital letter\n",
    "    TRIM(SUBSTR(Role,INSTR(Role,',')+1)) AS Role,              --Return the substring after the comma\n",
    "    OccupationBand,\n",
    "    Salary,\n",
    "    TRIM(SUBSTR(Department,INSTR(Department,',')+1)) AS Department -- return the substring after the comma\n",
    "FROM\n",
    "    Employees\n",
    "WHERE Role LIKE '%,%' OR Department LIKE '%,%' -- Target all entries that have non-atomic values in the two respective columns\n",
    "\n",
    "\n",
    "UNION \n",
    "\n",
    "\n",
    "/*SET #3 ====================================================================================\n",
    "   The set of all entries that only contain atomic cells. \n",
    "============================================================================================*/\n",
    "SELECT \n",
    "    TRIM(SUBSTR(FullName,1,INSTR(FullName,',')-1)) AS Name,     --Splitting FullName to obtain Name,\n",
    "    TRIM(SUBSTR(FullName,INSTR(FullName,',')+1)) AS Surname,    --Splitting FullName to obtain Surname\n",
    "    UPPER(SUBSTR(Title,1,1)) ||LOWER(SUBSTR(Title,2)) AS Title, --Standardizing all Title to start with a Capital letter\n",
    "    Role,\n",
    "    OccupationBand,\n",
    "    Salary,\n",
    "    Department\n",
    "FROM\n",
    "    Employees\n",
    "WHERE  \n",
    "       LENGTH (TRIM(SUBSTR(Role,1,INSTR(Role,',')-1)))=0\n",
    "    AND LENGTH (TRIM(SUBSTR(Department,1,INSTR(Department,',')-1)))=0\n",
    "    \n",
    "/*The above WHERE clause uses the knowledge that TRIM(SUBSTR(Role,1,INSTR(Role,',')-1)) could possibly \n",
    " produce a blank string if a column contains an atomic value. Thus we use use this property to identify all rows that\n",
    " only contain atomic values in their columns by computing their LENGTH\n",
    "*/\n"
   ]
  },
  {
   "cell_type": "code",
   "execution_count": null,
   "metadata": {},
   "outputs": [],
   "source": []
  }
 ],
 "metadata": {
  "kernelspec": {
   "display_name": "Python 3",
   "language": "python",
   "name": "python3"
  },
  "language_info": {
   "codemirror_mode": {
    "name": "ipython",
    "version": 3
   },
   "file_extension": ".py",
   "mimetype": "text/x-python",
   "name": "python",
   "nbconvert_exporter": "python",
   "pygments_lexer": "ipython3",
   "version": "3.7.9"
  }
 },
 "nbformat": 4,
 "nbformat_minor": 4
}