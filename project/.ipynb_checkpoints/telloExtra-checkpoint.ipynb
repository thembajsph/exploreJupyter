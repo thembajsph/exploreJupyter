{
 "cells": [
  {
   "cell_type": "code",
   "execution_count": null,
   "id": "d461380a",
   "metadata": {},
   "outputs": [],
   "source": [
    "# sorted and grouped list\n"
   ]
  },
  {
   "cell_type": "code",
   "execution_count": null,
   "id": "9c196c57",
   "metadata": {},
   "outputs": [],
   "source": [
    "# read rna"
   ]
  },
  {
   "cell_type": "code",
   "execution_count": null,
   "id": "3b397407",
   "metadata": {},
   "outputs": [],
   "source": [
    "# remove adjacent"
   ]
  },
  {
   "cell_type": "code",
   "execution_count": 3,
   "id": "62428553",
   "metadata": {},
   "outputs": [
    {
     "data": {
      "text/plain": [
       "[4, 16, 36]"
      ]
     },
     "execution_count": 3,
     "metadata": {},
     "output_type": "execute_result"
    }
   ],
   "source": [
    "# square the odd number\n",
    "def square_odd(data): \n",
    "    result = [ i * i for i in data if i % 2 == 0]\n",
    "    return result\n",
    "    \n",
    "    \n",
    "    \n",
    "square_odd([1,2,3,4,5,6,7])\n",
    "    "
   ]
  },
  {
   "cell_type": "code",
   "execution_count": null,
   "id": "1b6dc436",
   "metadata": {},
   "outputs": [],
   "source": [
    "# symmetric sum"
   ]
  }
 ],
 "metadata": {
  "kernelspec": {
   "display_name": "Python 3 (ipykernel)",
   "language": "python",
   "name": "python3"
  },
  "language_info": {
   "codemirror_mode": {
    "name": "ipython",
    "version": 3
   },
   "file_extension": ".py",
   "mimetype": "text/x-python",
   "name": "python",
   "nbconvert_exporter": "python",
   "pygments_lexer": "ipython3",
   "version": "3.9.13"
  }
 },
 "nbformat": 4,
 "nbformat_minor": 5
}
