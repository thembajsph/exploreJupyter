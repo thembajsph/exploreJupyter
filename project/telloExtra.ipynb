{
 "cells": [
  {
   "cell_type": "code",
   "execution_count": null,
   "id": "d461380a",
   "metadata": {},
   "outputs": [],
   "source": [
    "# sorted and grouped list\n",
    "df.groupy['job'].apply(lambda x : (x.groupby(\"source\").sum().sort_values(\"count\", ascending = false)).head(3))"
   ]
  },
  {
   "cell_type": "code",
   "execution_count": null,
   "id": "9c196c57",
   "metadata": {},
   "outputs": [],
   "source": [
    "# read rna"
   ]
  },
  {
   "cell_type": "code",
   "execution_count": 1,
   "id": "3b397407",
   "metadata": {},
   "outputs": [
    {
     "ename": "SyntaxError",
     "evalue": "invalid syntax (3517612282.py, line 8)",
     "output_type": "error",
     "traceback": [
      "\u001b[0;36m  File \u001b[0;32m\"/tmp/ipykernel_15290/3517612282.py\"\u001b[0;36m, line \u001b[0;32m8\u001b[0m\n\u001b[0;31m    if != dupli_item:\u001b[0m\n\u001b[0m       ^\u001b[0m\n\u001b[0;31mSyntaxError\u001b[0m\u001b[0;31m:\u001b[0m invalid syntax\n"
     ]
    }
   ],
   "source": [
    "# remove adjacent\n",
    "# first function\n",
    "def firstAdjacent():\n",
    "    dupli_item = set()\n",
    "    unique_item = []\n",
    "    \n",
    "    for i in items:\n",
    "        if != dupli_item:\n",
    "            unique_item.append(x)\n",
    "            dipli_item.add(x)\n",
    "    return dupli_item"
   ]
  },
  {
   "cell_type": "code",
   "execution_count": 11,
   "id": "ca575841",
   "metadata": {},
   "outputs": [
    {
     "data": {
      "text/plain": [
       "'b'"
      ]
     },
     "execution_count": 11,
     "metadata": {},
     "output_type": "execute_result"
    }
   ],
   "source": [
    "#second adjacent function\n",
    "def removeDuplicates( s: str, k: int):\n",
    "    \n",
    "    stack = [] #char, count\n",
    "    \n",
    "    for i in s:\n",
    "        if stack and stack[-1][0] == i:\n",
    "            stack[-1][1] += 1\n",
    "            \n",
    "        else:\n",
    "            stack.append([i, 1])\n",
    "            \n",
    "        if stack[-1][1] == k:\n",
    "            stack.pop()\n",
    "            \n",
    "    res = \"\"\n",
    "    for char, count in stack:\n",
    "        res += (char * count)\n",
    "        return res\n",
    "        \n",
    "\n",
    "        \n",
    "removeDuplicates(\"c,a,a,b,b,b,a,c,c\", 3)"
   ]
  },
  {
   "cell_type": "code",
   "execution_count": 19,
   "id": "92678ecc",
   "metadata": {},
   "outputs": [
    {
     "data": {
      "text/plain": [
       "[2, 3]"
      ]
     },
     "execution_count": 19,
     "metadata": {},
     "output_type": "execute_result"
    }
   ],
   "source": [
    "#third adjacent\n",
    "def remove_adjacent(nums):\n",
    "    previous = \"\"\n",
    "    for i in nums[:]:\n",
    "        \n",
    "        if i == previous:\n",
    "            \n",
    "            nums.remove(i)\n",
    "        else:\n",
    "            previous = i\n",
    "    \n",
    "    return nums\n",
    "\n",
    "\n",
    "remove_adjacent([2,2,3,3,3])"
   ]
  },
  {
   "cell_type": "code",
   "execution_count": 3,
   "id": "62428553",
   "metadata": {},
   "outputs": [
    {
     "data": {
      "text/plain": [
       "[4, 16, 36]"
      ]
     },
     "execution_count": 3,
     "metadata": {},
     "output_type": "execute_result"
    }
   ],
   "source": [
    "# square the odd number\n",
    "def square_odd(data): \n",
    "    result = [ i * i for i in data if i % 2 == 0]\n",
    "    return result\n",
    "    \n",
    "    \n",
    "    \n",
    "square_odd([1,2,3,4,5,6,7])\n",
    "    "
   ]
  },
  {
   "cell_type": "code",
   "execution_count": null,
   "id": "1b6dc436",
   "metadata": {},
   "outputs": [],
   "source": [
    "# symmetric sum\n",
    "s1 + s2"
   ]
  }
 ],
 "metadata": {
  "kernelspec": {
   "display_name": "Python 3 (ipykernel)",
   "language": "python",
   "name": "python3"
  },
  "language_info": {
   "codemirror_mode": {
    "name": "ipython",
    "version": 3
   },
   "file_extension": ".py",
   "mimetype": "text/x-python",
   "name": "python",
   "nbconvert_exporter": "python",
   "pygments_lexer": "ipython3",
   "version": "3.9.13"
  }
 },
 "nbformat": 4,
 "nbformat_minor": 5
}
