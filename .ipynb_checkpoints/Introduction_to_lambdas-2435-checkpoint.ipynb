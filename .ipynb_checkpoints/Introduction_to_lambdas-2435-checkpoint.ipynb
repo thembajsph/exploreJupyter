{
 "cells": [
  {
   "cell_type": "markdown",
   "metadata": {
    "id": "-wLBoOzuICV2"
   },
   "source": [
    "# Lambda Functions\n",
    "\n",
    "© EXPLORE Data Science Academy"
   ]
  },
  {
   "cell_type": "markdown",
   "metadata": {
    "id": "NwMQexsVICV5"
   },
   "source": [
    "## Learning objectives:\n",
    "\n",
    "In this train you will:\n",
    "\n",
    "* Learn how to define lambda functions;\n",
    "* Build and code lambda functions; and\n",
    "* Apply lamda functions to iterable sequences using the `map` and `filter` functions."
   ]
  },
  {
   "cell_type": "markdown",
   "metadata": {
    "id": "2Wm-7GKPPlvK"
   },
   "source": [
    "## Outline\n",
    "\n",
    "This train is structured as follows:\n",
    "\n",
    "* Introduction to lambda functions.\n",
    "* Syntax.\n",
    "* Map function.\n",
    "* Filter function."
   ]
  },
  {
   "cell_type": "markdown",
   "metadata": {
    "id": "r7uKNrwPIuS0"
   },
   "source": [
    "## Introduction\n",
    "\n",
    "Lambda functions, sometimes called Lambda expressions, are small, anonymous functions that can be expressed in a single line. Unlike standard python functions which are defined using the `def` keyword, a function name, a function body, and a `return` statement, lambda functions are defined using:\n",
    "\n",
    "* The `lambda` keyword\n",
    "* The function expression\n",
    "* The function arguments\n",
    "\n",
    "<br>\n",
    "\n",
    "Lambda functions make it easier to create quick function to improve code readability. Imagine creating a set of small functions to be called within another function; lambda functions allow a user to create these smaller functions in a single line without having to make a separate set of functions to be called.\n"
   ]
  },
  {
   "cell_type": "markdown",
   "metadata": {
    "id": "wNZDhdX6IuTJ"
   },
   "source": [
    "## Syntax\n",
    "\n",
    "In this section, we review syntax for various forms lambda expressions we can form in Python.\n",
    "\n",
    "Lambda functions are made up of:\n",
    "* the `lambda` keyword, declaring an inline anonymous function, \n",
    "* the variable/s that will be passed to the function, and \n",
    "* the lambda expression\n",
    "\n",
    "This syntax is given below: \n",
    "\n",
    "```python\n",
    "    lambda arguments : expression\n",
    "```"
   ]
  },
  {
   "cell_type": "markdown",
   "metadata": {
    "id": "rAIJT4jtshNF"
   },
   "source": [
    "### Example 1: Doubling the input value\n",
    "\n",
    "A normal function for doubling the input (i.e. multiplying by 2) would look like this:"
   ]
  },
  {
   "cell_type": "code",
   "execution_count": 1,
   "metadata": {
    "id": "s4m9I4ilshNN"
   },
   "outputs": [],
   "source": [
    "def double (x): # Classic function to multiply an input by 2\n",
    "    return x*2"
   ]
  },
  {
   "cell_type": "markdown",
   "metadata": {
    "id": "aQhMHLG8shNb"
   },
   "source": [
    "Expressed with a lambda function:"
   ]
  },
  {
   "cell_type": "code",
   "execution_count": 3,
   "metadata": {
    "colab": {
     "base_uri": "https://localhost:8080/"
    },
    "id": "qEpT-84pshNd",
    "outputId": "40b7e15e-41bc-4cb9-d7e3-547f8e285986"
   },
   "outputs": [
    {
     "data": {
      "text/plain": [
       "<function __main__.<lambda>(x)>"
      ]
     },
     "execution_count": 3,
     "metadata": {},
     "output_type": "execute_result"
    }
   ],
   "source": [
    "\n",
    "# Lambda expression interpretation:\n",
    "# For any input vale x, compute and return x times 2. \n",
    "# We assign this function to the variable 'd'\n",
    "d = lambda x: x*2\n",
    "\n",
    "# When printing out 'd', we are only given a reference to its presence within memory. \n",
    "# We see in the following cell how to call our lambda function to evaluate an input. \n",
    "d"
   ]
  },
  {
   "cell_type": "markdown",
   "metadata": {
    "id": "Dxsrlr9yshNk"
   },
   "source": [
    "The following cell demonstrates calling the two functions double(x) and d(x) respectively:"
   ]
  },
  {
   "cell_type": "code",
   "execution_count": 4,
   "metadata": {
    "colab": {
     "base_uri": "https://localhost:8080/"
    },
    "id": "TBk0MnTsshNm",
    "outputId": "1f3e8f7c-05c2-4c36-f411-7357fa3118a3"
   },
   "outputs": [
    {
     "name": "stdout",
     "output_type": "stream",
     "text": [
      "Double of 7 using the function \"double\": 14\n",
      "Double of 7 using a lambda function: 14\n"
     ]
    }
   ],
   "source": [
    "print(\"Double of 7 using the function \\\"double\\\": \" + str(double(7)) )\n",
    "print(\"Double of 7 using a lambda function: \" + str(d(7)))"
   ]
  },
  {
   "cell_type": "markdown",
   "metadata": {
    "id": "XHZ0FhvUshNt"
   },
   "source": [
    "We can also call lambda function as follows:"
   ]
  },
  {
   "cell_type": "code",
   "execution_count": 5,
   "metadata": {
    "colab": {
     "base_uri": "https://localhost:8080/"
    },
    "id": "UstPQlcrshNu",
    "outputId": "f19c54d4-0930-4ced-f914-d76704aa60ff"
   },
   "outputs": [
    {
     "data": {
      "text/plain": [
       "10"
      ]
     },
     "execution_count": 5,
     "metadata": {},
     "output_type": "execute_result"
    }
   ],
   "source": [
    "(lambda x:x * 2)(5) # Note the use of additional brackets straight after the lambda definition. "
   ]
  },
  {
   "cell_type": "markdown",
   "metadata": {},
   "source": [
    "Here the use of brackets right after the lambda definition allows function to be called with the specified output immediately. \n",
    "\n",
    "We now briefly review other forms and data structures with which lambdas can operate: "
   ]
  },
  {
   "cell_type": "markdown",
   "metadata": {
    "id": "DiubClc4shNz"
   },
   "source": [
    "### Example 2: Squaring the input value"
   ]
  },
  {
   "cell_type": "code",
   "execution_count": 8,
   "metadata": {
    "id": "aEfQ5Lk1shN1"
   },
   "outputs": [],
   "source": [
    "s = lambda x: x**2 # \"**2\" indicates an exponent --> x^2"
   ]
  },
  {
   "cell_type": "code",
   "execution_count": 9,
   "metadata": {
    "colab": {
     "base_uri": "https://localhost:8080/",
     "height": 35
    },
    "id": "EbWxfxE0shN6",
    "outputId": "7c018075-afc0-4cdf-aff5-ce01cd72fad8"
   },
   "outputs": [
    {
     "name": "stdout",
     "output_type": "stream",
     "text": [
      "25\n"
     ]
    }
   ],
   "source": [
    "print(s(5))"
   ]
  },
  {
   "cell_type": "markdown",
   "metadata": {
    "id": "N3SqHoUhshOB"
   },
   "source": [
    "### Example 3: Raising input $x$ to power of input $y$\n",
    "\n",
    "In this example, we illustrate the ability of Lambda functions to use multiple input variables. "
   ]
  },
  {
   "cell_type": "code",
   "execution_count": 12,
   "metadata": {
    "id": "KMKOEog7shOB"
   },
   "outputs": [],
   "source": [
    "p = lambda x, y: x**y # With lambdas, you can specifiy multiple arguments"
   ]
  },
  {
   "cell_type": "code",
   "execution_count": 13,
   "metadata": {
    "colab": {
     "base_uri": "https://localhost:8080/",
     "height": 35
    },
    "id": "rrlwRVSxshOH",
    "outputId": "4e97afa0-4e78-4a20-ee42-562f168bcf3f"
   },
   "outputs": [
    {
     "name": "stdout",
     "output_type": "stream",
     "text": [
      "9\n"
     ]
    }
   ],
   "source": [
    "print(p(3,2))"
   ]
  },
  {
   "cell_type": "markdown",
   "metadata": {
    "id": "5lJVqKlIshOX"
   },
   "source": [
    "## Mapping\n",
    "\n",
    "We can apply our lambda function to every element in an iterable sequence by using the in-built ```map``` function provided by Python.\n",
    "\n",
    "A full review around the syntax and use of the map function in Python can be found [here](https://www.w3schools.com/python/ref_func_map.asp), with some example code given below:\n",
    "\n",
    "```python\n",
    "    map (lambda v1: expression, iterable-sequences) \n",
    "```"
   ]
  },
  {
   "cell_type": "markdown",
   "metadata": {
    "id": "7JuR_7DJshOb"
   },
   "source": [
    "### Example: Square each element in a list"
   ]
  },
  {
   "cell_type": "code",
   "execution_count": 1,
   "metadata": {
    "colab": {
     "base_uri": "https://localhost:8080/",
     "height": 35
    },
    "id": "ghm46aVcshOc",
    "outputId": "739626dd-5000-4e06-f6d4-3bf9c16c036b"
   },
   "outputs": [
    {
     "data": {
      "text/plain": [
       "[4, 9, 16, 25]"
      ]
     },
     "execution_count": 1,
     "metadata": {},
     "output_type": "execute_result"
    }
   ],
   "source": [
    "numbers = [2,3,4,5]\n",
    "\n",
    "list(map(lambda a: a**2, numbers)) # We are mapping the lambda function to iterate over the list `numbers`"
   ]
  },
  {
   "cell_type": "markdown",
   "metadata": {
    "id": "sHXkeqeUshOh"
   },
   "source": [
    "Remember, we must cast the result as a \"list\" to return a list of elements as the output. Try running the above cell without the \"list( )\" function to see what happens. "
   ]
  },
  {
   "cell_type": "markdown",
   "metadata": {
    "id": "jbXhYpyHshOh"
   },
   "source": [
    "## Filtering"
   ]
  },
  {
   "cell_type": "markdown",
   "metadata": {
    "id": "zN_2tI5YshOj"
   },
   "source": [
    "Unlike the `map` function which applies a lmbda function to all elements in a list, the `filter` function is used to select particular elements (i.e. meeting some condition) from a sequence of elements. This sequence can be any iterator like lists, sets, tuples, etc. The `filter` function can be applied to `lambda` functions as follows:\n",
    "\n",
    "\n",
    "```python\n",
    "    filter (lambda parameter: expression, iterable-sequence)\n",
    "```\n",
    "\n",
    "Further documentation around the `filter` function can be found [here](https://www.programiz.com/python-programming/methods/built-in/filter)"
   ]
  },
  {
   "cell_type": "code",
   "execution_count": 85,
   "metadata": {},
   "outputs": [
    {
     "ename": "TypeError",
     "evalue": "'list' object is not callable",
     "output_type": "error",
     "traceback": [
      "\u001b[0;31m---------------------------------------------------------------------------\u001b[0m",
      "\u001b[0;31mTypeError\u001b[0m                                 Traceback (most recent call last)",
      "\u001b[0;32m/tmp/ipykernel_13658/2538362175.py\u001b[0m in \u001b[0;36m<module>\u001b[0;34m\u001b[0m\n\u001b[1;32m      5\u001b[0m \u001b[0;34m\u001b[0m\u001b[0m\n\u001b[1;32m      6\u001b[0m \u001b[0;31m# converting to list\u001b[0m\u001b[0;34m\u001b[0m\u001b[0;34m\u001b[0m\u001b[0m\n\u001b[0;32m----> 7\u001b[0;31m \u001b[0meven_numbers\u001b[0m \u001b[0;34m=\u001b[0m \u001b[0mlist\u001b[0m\u001b[0;34m(\u001b[0m\u001b[0meven_numbers_iterator\u001b[0m\u001b[0;34m)\u001b[0m\u001b[0;34m\u001b[0m\u001b[0;34m\u001b[0m\u001b[0m\n\u001b[0m\u001b[1;32m      8\u001b[0m \u001b[0;34m\u001b[0m\u001b[0m\n\u001b[1;32m      9\u001b[0m \u001b[0mprint\u001b[0m\u001b[0;34m(\u001b[0m\u001b[0meven_numbers\u001b[0m\u001b[0;34m)\u001b[0m\u001b[0;34m\u001b[0m\u001b[0;34m\u001b[0m\u001b[0m\n",
      "\u001b[0;31mTypeError\u001b[0m: 'list' object is not callable"
     ]
    }
   ],
   "source": [
    "numbers = [1, 2, 3, 4, 5, 6, 7]\n",
    "\n",
    "# the lambda function returns True for even numbers \n",
    "even_numbers_iterator = filter(lambda x: (x%2 == 0), numbers)\n",
    "\n",
    "# converting to list\n",
    "even_numbers = list(even_numbers_iterator)\n",
    "\n",
    "print(even_numbers)\n"
   ]
  },
  {
   "cell_type": "markdown",
   "metadata": {
    "id": "2aLTeEOMshOm"
   },
   "source": [
    "### Example: Return true for list values greater than 4"
   ]
  },
  {
   "cell_type": "code",
   "execution_count": 86,
   "metadata": {
    "colab": {
     "base_uri": "https://localhost:8080/"
    },
    "id": "IInhpfusshOn",
    "outputId": "509448d3-fd5e-454e-e264-f3ea0eeab576"
   },
   "outputs": [
    {
     "ename": "TypeError",
     "evalue": "'list' object is not callable",
     "output_type": "error",
     "traceback": [
      "\u001b[0;31m---------------------------------------------------------------------------\u001b[0m",
      "\u001b[0;31mTypeError\u001b[0m                                 Traceback (most recent call last)",
      "\u001b[0;32m/tmp/ipykernel_13658/3427926524.py\u001b[0m in \u001b[0;36m<module>\u001b[0;34m\u001b[0m\n\u001b[1;32m      3\u001b[0m \u001b[0mfiltered_result\u001b[0m \u001b[0;34m=\u001b[0m \u001b[0mfilter\u001b[0m\u001b[0;34m(\u001b[0m\u001b[0;32mlambda\u001b[0m \u001b[0mx\u001b[0m\u001b[0;34m:\u001b[0m \u001b[0mx\u001b[0m \u001b[0;34m>\u001b[0m \u001b[0;36m4\u001b[0m\u001b[0;34m,\u001b[0m \u001b[0msequences\u001b[0m\u001b[0;34m)\u001b[0m \u001b[0;31m# Filter takes an argument/function and an iteratable/sequence; in this case, the lambda acts as the filtering argument\u001b[0m\u001b[0;34m\u001b[0m\u001b[0;34m\u001b[0m\u001b[0m\n\u001b[1;32m      4\u001b[0m \u001b[0;34m\u001b[0m\u001b[0m\n\u001b[0;32m----> 5\u001b[0;31m \u001b[0mprint\u001b[0m\u001b[0;34m(\u001b[0m\u001b[0mlist\u001b[0m\u001b[0;34m(\u001b[0m\u001b[0mfiltered_result\u001b[0m\u001b[0;34m)\u001b[0m\u001b[0;34m)\u001b[0m\u001b[0;34m\u001b[0m\u001b[0;34m\u001b[0m\u001b[0m\n\u001b[0m",
      "\u001b[0;31mTypeError\u001b[0m: 'list' object is not callable"
     ]
    }
   ],
   "source": [
    "sequences = [10,2,8,7,5,4,3,11,0, 1]\n",
    "\n",
    "filtered_result = filter(lambda x: x > 4, sequences) # Filter takes an argument/function and an iteratable/sequence; in this case, the lambda acts as the filtering argument \n",
    "\n",
    "print(list(filtered_result))"
   ]
  },
  {
   "cell_type": "markdown",
   "metadata": {
    "id": "81k6dLl8ICWl"
   },
   "source": []
  },
  {
   "cell_type": "markdown",
   "metadata": {
    "id": "MhfKBYMeICWl"
   },
   "source": [
    "## Exercises:\n",
    "\n",
    "### Question 1\n",
    "\n",
    "Use the given exercises below to test out your new-found knowledge of `lambda` functions, or to jog your memory for this important programing device within Python."
   ]
  },
  {
   "cell_type": "markdown",
   "metadata": {
    "id": "ACHVysE3ICWm"
   },
   "source": [
    "For the function below, create a lambda function which returns the $y^{th}$ root of a number $x$ ."
   ]
  },
  {
   "cell_type": "code",
   "execution_count": 18,
   "metadata": {
    "id": "drXVvaMbICWn"
   },
   "outputs": [],
   "source": [
    "def root(x,y):\n",
    "    return x**(1/y)"
   ]
  },
  {
   "cell_type": "markdown",
   "metadata": {
    "id": "9CsgPUVMICW0"
   },
   "source": [
    "Create an equivalent lambda function below and Name it `y_root`."
   ]
  },
  {
   "cell_type": "code",
   "execution_count": 1,
   "metadata": {
    "id": "-bPAzJ_EICW1"
   },
   "outputs": [
    {
     "name": "stdout",
     "output_type": "stream",
     "text": [
      "5.0\n",
      "2.0\n"
     ]
    }
   ],
   "source": [
    "# your code here\n",
    "y_root = lambda x, y: x**(1/y)\n",
    "\n",
    "\n",
    "print(y_root(25,2))\n",
    "print(y_root(8,3))"
   ]
  },
  {
   "cell_type": "markdown",
   "metadata": {
    "id": "WDjLRvsqJHgw"
   },
   "source": [
    "Expected Output:\n",
    "\n",
    "```\n",
    "y_root(25,2)== 5.0\n",
    "y_root(8,3) == 2.0\n",
    "```"
   ]
  },
  {
   "cell_type": "markdown",
   "metadata": {
    "id": "SGUJVGYCICXE"
   },
   "source": [
    "### Question 2 \n",
    "\n",
    "Create a lambda function named `sort` to sort a list of numbers in an ascending order."
   ]
  },
  {
   "cell_type": "code",
   "execution_count": 68,
   "metadata": {
    "id": "6U5XqaXfICXG"
   },
   "outputs": [
    {
     "ename": "TypeError",
     "evalue": "'function' object is not iterable",
     "output_type": "error",
     "traceback": [
      "\u001b[0;31m---------------------------------------------------------------------------\u001b[0m",
      "\u001b[0;31mTypeError\u001b[0m                                 Traceback (most recent call last)",
      "\u001b[0;32m/tmp/ipykernel_13658/310067049.py\u001b[0m in \u001b[0;36m<module>\u001b[0;34m\u001b[0m\n\u001b[1;32m      1\u001b[0m \u001b[0;31m# your code here\u001b[0m\u001b[0;34m\u001b[0m\u001b[0;34m\u001b[0m\u001b[0m\n\u001b[1;32m      2\u001b[0m \u001b[0ma\u001b[0m \u001b[0;34m=\u001b[0m \u001b[0;34m[\u001b[0m\u001b[0;34m]\u001b[0m\u001b[0;34m\u001b[0m\u001b[0;34m\u001b[0m\u001b[0m\n\u001b[0;32m----> 3\u001b[0;31m \u001b[0msorts\u001b[0m \u001b[0;34m=\u001b[0m\u001b[0;34m(\u001b[0m\u001b[0msorted\u001b[0m\u001b[0;34m(\u001b[0m\u001b[0;32mlambda\u001b[0m \u001b[0ma\u001b[0m\u001b[0;34m:\u001b[0m\u001b[0ma\u001b[0m\u001b[0;34m)\u001b[0m\u001b[0;34m)\u001b[0m \u001b[0;31m# We are mapping the lambda function to iterate over the list `numbers`\u001b[0m\u001b[0;34m\u001b[0m\u001b[0;34m\u001b[0m\u001b[0m\n\u001b[0m\u001b[1;32m      4\u001b[0m \u001b[0;31m# sort = sorted(lambda a: a) # We are mapping the lambda function to iterate over the list `numbers`\u001b[0m\u001b[0;34m\u001b[0m\u001b[0;34m\u001b[0m\u001b[0m\n\u001b[1;32m      5\u001b[0m \u001b[0;34m\u001b[0m\u001b[0m\n",
      "\u001b[0;31mTypeError\u001b[0m: 'function' object is not iterable"
     ]
    }
   ],
   "source": [
    "# your code here\n",
    "a = []\n",
    "sorts =(sorted(lambda a:a)) # We are mapping the lambda function to iterate over the list `numbers`\n",
    "# sort = sorted(lambda a: a) # We are mapping the lambda function to iterate over the list `numbers`\n",
    "\n",
    "print(sorts([6,2,3,9,1,5]))"
   ]
  },
  {
   "cell_type": "code",
   "execution_count": 76,
   "metadata": {},
   "outputs": [
    {
     "name": "stdout",
     "output_type": "stream",
     "text": [
      "[1, 5, 6, 19, 37, 50]\n"
     ]
    }
   ],
   "source": [
    "\n",
    "# Create list with numbers\n",
    "sorty = [6, 2, 3, 9, 1, 5]\n",
    "\n",
    "\n",
    "# Using sort() with lambda\n",
    "sorty.sort(key=lambda x:x)\n",
    "print(sort)\n"
   ]
  },
  {
   "cell_type": "code",
   "execution_count": 71,
   "metadata": {},
   "outputs": [
    {
     "ename": "TypeError",
     "evalue": "'list' object is not callable",
     "output_type": "error",
     "traceback": [
      "\u001b[0;31m---------------------------------------------------------------------------\u001b[0m",
      "\u001b[0;31mTypeError\u001b[0m                                 Traceback (most recent call last)",
      "\u001b[0;32m/tmp/ipykernel_13658/3042290738.py\u001b[0m in \u001b[0;36m<module>\u001b[0;34m\u001b[0m\n\u001b[1;32m      5\u001b[0m \u001b[0;31m# Print the sorted list\u001b[0m\u001b[0;34m\u001b[0m\u001b[0;34m\u001b[0m\u001b[0m\n\u001b[1;32m      6\u001b[0m \u001b[0;34m\u001b[0m\u001b[0m\n\u001b[0;32m----> 7\u001b[0;31m \u001b[0mprint\u001b[0m\u001b[0;34m(\u001b[0m\u001b[0msort\u001b[0m\u001b[0;34m(\u001b[0m\u001b[0mlist\u001b[0m\u001b[0;34m)\u001b[0m\u001b[0;34m)\u001b[0m\u001b[0;34m\u001b[0m\u001b[0;34m\u001b[0m\u001b[0m\n\u001b[0m",
      "\u001b[0;31mTypeError\u001b[0m: 'list' object is not callable"
     ]
    }
   ],
   "source": [
    " list = [6, 50, 5, 1, 37, 19]\n",
    "\n",
    "# Sort the list using lambda and sorted function\n",
    "sort = sorted(list, key=lambda x: list)\n",
    "# Print the sorted list\n",
    "\n",
    "print(sort(list))"
   ]
  },
  {
   "cell_type": "markdown",
   "metadata": {
    "id": "dlcrh63wjRW1"
   },
   "source": [
    "Expected Output:\n",
    "```\n",
    "sort([6,2,3,9,1,5]) == [1, 2, 3, 5, 6, 9]\n",
    "```"
   ]
  },
  {
   "cell_type": "markdown",
   "metadata": {
    "id": "FeVoK5jxKeFf"
   },
   "source": [
    "### Question 3\n",
    "\n",
    "Use the ```filter()``` function to output a ```list``` of intergers that are greater than 9 from the given list."
   ]
  },
  {
   "cell_type": "code",
   "execution_count": 10,
   "metadata": {
    "id": "21bhPXiUL_bX"
   },
   "outputs": [
    {
     "name": "stdout",
     "output_type": "stream",
     "text": [
      "[10, 11, 12, 13, 17, 21]\n"
     ]
    }
   ],
   "source": [
    "list1 = [2, 6, 8, 10, 11, 4, 12, 7, 13, 17, 0, 3, 21]\n",
    "\n",
    "# uncomment the lines below and complete the lambda function\n",
    "\n",
    "filtered_list = filter(lambda a: a > 9, list1)\n",
    "print(list(filtered_list))"
   ]
  },
  {
   "cell_type": "markdown",
   "metadata": {
    "id": "PwJfGIM0NaRp"
   },
   "source": [
    "Expected Output:\n",
    "\n",
    "```\n",
    "[10, 11, 12, 13, 17, 21]\n",
    "```\n"
   ]
  },
  {
   "cell_type": "markdown",
   "metadata": {
    "id": "AdZdnBRJNoWn"
   },
   "source": [
    "### Question 4\n",
    "\n",
    "Use the ```map()``` function to output the remainder after dividing each number in ```list2``` by 2."
   ]
  },
  {
   "cell_type": "code",
   "execution_count": 7,
   "metadata": {
    "id": "CQg5NiupNo9F"
   },
   "outputs": [
    {
     "name": "stdout",
     "output_type": "stream",
     "text": [
      "[0, 0, 0, 0, 1, 0, 0, 1, 1, 1, 0, 1, 1]\n"
     ]
    }
   ],
   "source": [
    "list2 = [2, 6, 8, 10, 11, 4, 12, 7, 13, 17, 0, 3, 21]\n",
    "\n",
    "# uncomment the lines below and complete the lambda function\n",
    "\n",
    "mapped_list = map(lambda a: a%2, list2)\n",
    "\n",
    "print(list(mapped_list))"
   ]
  },
  {
   "cell_type": "markdown",
   "metadata": {
    "id": "Rw8S0BHXICXM"
   },
   "source": [
    "Expected output: \n",
    "\n",
    "```\n",
    "[0, 0, 0, 0, 1, 0, 0, 1, 1, 1, 0, 1, 1]\n",
    "```"
   ]
  },
  {
   "cell_type": "markdown",
   "metadata": {
    "id": "sZ6aeuSoIuV8"
   },
   "source": [
    "\n",
    "## Conclusion\n",
    "\n",
    "Lambda functions are neat addition to our Python programming arsenal, allowing us to write simple functions with minimal code. However, just because they require fewer lines of code, this does not necessarily mean that they are the optimal choice when writing functions.   \n",
    "\n",
    "There is huge value in writing functions with detailed docstrings that other people can understand when looking at your code. When using a lambda function, put yourself in the shoes of another person viewing your code. \n",
    "\n",
    "Before using a lambda function ask yourself \"Will the shortened lambda function really add value to someone else reading my code or is it just going to add confusion?\"\n",
    "\n",
    "### Happy coding!\n",
    "\n",
    "\n",
    "\n"
   ]
  },
  {
   "cell_type": "markdown",
   "metadata": {
    "id": "wbmeSykMJnOt"
   },
   "source": [
    "# Appendix"
   ]
  },
  {
   "cell_type": "markdown",
   "metadata": {
    "id": "nr-OIaSYIuWD"
   },
   "source": [
    "Useful links:\n",
    "* [Real python - A comprehensive guide to lambda functions and functional programming](https://realpython.com/python-lambda/)\n",
    "* [Guru99 - Exploring lamda functions](https://www.guru99.com/python-lambda-function.html)\n",
    "* [w3schools - Practical examples of lambda syntax](https://www.w3schools.com/python/python_lambda.asp)\n"
   ]
  }
 ],
 "metadata": {
  "colab": {
   "collapsed_sections": [],
   "name": "lambda_functions.ipynb",
   "provenance": []
  },
  "kernelspec": {
   "display_name": "Python 3 (ipykernel)",
   "language": "python",
   "name": "python3"
  },
  "language_info": {
   "codemirror_mode": {
    "name": "ipython",
    "version": 3
   },
   "file_extension": ".py",
   "mimetype": "text/x-python",
   "name": "python",
   "nbconvert_exporter": "python",
   "pygments_lexer": "ipython3",
   "version": "3.9.13"
  },
  "varInspector": {
   "cols": {
    "lenName": 16,
    "lenType": 16,
    "lenVar": 40
   },
   "kernels_config": {
    "python": {
     "delete_cmd_postfix": "",
     "delete_cmd_prefix": "del ",
     "library": "var_list.py",
     "varRefreshCmd": "print(var_dic_list())"
    },
    "r": {
     "delete_cmd_postfix": ") ",
     "delete_cmd_prefix": "rm(",
     "library": "var_list.r",
     "varRefreshCmd": "cat(var_dic_list()) "
    }
   },
   "types_to_exclude": [
    "module",
    "function",
    "builtin_function_or_method",
    "instance",
    "_Feature"
   ],
   "window_display": false
  }
 },
 "nbformat": 4,
 "nbformat_minor": 1
}
