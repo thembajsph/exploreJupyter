{
 "cells": [
  {
   "cell_type": "markdown",
   "metadata": {
    "id": "FyKUjlZHfHhi"
   },
   "source": [
    "# Working with Numpy and Pandas\n",
    "Numpy and Pandas are packages in Python that are used for handling data.\n",
    "\n",
    "Numpy is short form of \"Numerical python\" and it is used in working with mostly number arrays. [Array](https://www.google.com/search?q=array+meaning&rlz=1C1JZAP_enZA940ZA941&sxsrf=APq-WBujNrnurYoExFDjmDcCx32Uxr5uiQ%3A1646675346735&ei=kkUmYpmcLI-T8gKo6bC4DQ&ved=0ahUKEwiZrejYx7T2AhWPiVwKHag0DNcQ4dUDCA4&uact=5&oq=array+meaning&gs_lcp=Cgdnd3Mtd2l6EAMyBwgjELADECcyBwgAEEcQsAMyBwgAEEcQsAMyBwgAEEcQsAMyBwgAEEcQsAMyBwgAEEcQsAMyBwgAEEcQsAMyBwgAEEcQsAMyBwgAEEcQsAMyBwgAELADEENKBAhBGABKBAhGGABQAFgAYMsLaAFwAXgAgAEAiAEAkgEAmAEAyAEKwAEB&sclient=gws-wiz)s are by definition an ordered series or arrangement of a particular type of thing. This means that when using Numpy we will mostly be using a collection of numbers.\n",
    "\n",
    "Python has lists and dictionaries and tuples and sets and series built in so why do we need to use Numpy?\n",
    "\n",
    "![why](https://media2.giphy.com/media/457NTDOuMmDfO/200.webp?cid=ecf05e47frkycyosf46393rdqpk2u4yjpgyefcka67enc6nf&rid=200.webp&ct=g)\n",
    "\n",
    "Well there are a number of advantages one of which is speed especially when dealing with a numerical collection of numbers. Also we would need to use it for it's strong ability to slice through multi dimensional arrays and [matrices](https://www.google.com/search?q=matrix+definition+programming&rlz=1C1JZAP_enZA940ZA941&sxsrf=APq-WBv8LnFJtPFox0s2VzLEVKiup5axzA%3A1646676706997&ei=4komYoqNPIqGhbIPi9-A-AI&oq=matrix+definition+pro&gs_lcp=Cgdnd3Mtd2l6EAMYADIGCAAQFhAeMgYIABAWEB4yBggAEBYQHjIGCAAQFhAeMgYIABAWEB4yBggAEBYQHjIGCAAQFhAeMgYIABAWEB4yBggAEBYQHjIGCAAQFhAeOgcIIxCwAxAnOgcIABBHELADOgcIABCwAxBDOgoIABDkAhCwAxgAOg8ILhDUAhDIAxCwAxBDGAE6DAguEMgDELADEEMYAToECCMQJzoFCAAQgARKBAhBGABKBAhGGAFQtilYqjNg8kJoAXABeACAAZACiAHsB5IBAzItNJgBAKABAcgBE8ABAdoBBggAEAEYCdoBBggBEAEYCA&sclient=gws-wiz). This means that there is some advantage to working with Numpy as opposed to working with Python's built-in list functionality.\n",
    "\n",
    "So we can understand that when working with numpy we would have to have this package added to Python which will allow us to use it. To do this we will need to [pip](https://www.knowledgehut.com/blog/programming/what-is-pip-in-python) install import the package into the notebook."
   ]
  },
  {
   "cell_type": "code",
   "execution_count": null,
   "metadata": {
    "colab": {
     "base_uri": "https://localhost:8080/"
    },
    "id": "gFt3M7-iV3jw",
    "outputId": "aaf2ff40-0eb9-45f5-c909-8d37f4fa95b8"
   },
   "outputs": [
    {
     "name": "stdout",
     "output_type": "stream",
     "text": [
      "Looking in indexes: https://pypi.org/simple, https://us-python.pkg.dev/colab-wheels/public/simple/\n",
      "Requirement already satisfied: numpy in /usr/local/lib/python3.8/dist-packages (1.22.4)\n"
     ]
    }
   ],
   "source": [
    "# When importing packages in a notebook we add the exclamation mark before pip\n",
    "!pip install numpy"
   ]
  },
  {
   "cell_type": "markdown",
   "metadata": {
    "id": "BykBDKakut4c"
   },
   "source": [
    "It is important to note that we installed the package in this notebook and not in the whole of python. So this means that if you were to use another python notebook you would need to install the package again. There is method to this madness. When we use some other packages that are far larger and not as common we would need to manage the size of the python files as this could impact the general speed at which python operates under.\n",
    "\n",
    "So with the package installed we now have to try and use and to do that we will use the import function. "
   ]
  },
  {
   "cell_type": "code",
   "execution_count": null,
   "metadata": {
    "id": "RopRtKb4cgbF"
   },
   "outputs": [],
   "source": [
    "import numpy as np # this helps in making it easier to type"
   ]
  },
  {
   "cell_type": "code",
   "execution_count": null,
   "metadata": {
    "id": "AcODJoaFc6gi"
   },
   "outputs": [],
   "source": [
    "# Create an array of numbers\n",
    "arr = np.array([11,21,43,4,15,67,7])"
   ]
  },
  {
   "cell_type": "code",
   "execution_count": null,
   "metadata": {
    "colab": {
     "base_uri": "https://localhost:8080/"
    },
    "id": "RZvL4fFldHgc",
    "outputId": "8c9b2926-efcb-4db9-cce2-4f8950f29d89"
   },
   "outputs": [
    {
     "name": "stdout",
     "output_type": "stream",
     "text": [
      "[11 21 43  4 15 67  7]\n"
     ]
    }
   ],
   "source": [
    "# Print out the array\n",
    "print(arr)"
   ]
  },
  {
   "cell_type": "code",
   "execution_count": null,
   "metadata": {
    "colab": {
     "base_uri": "https://localhost:8080/"
    },
    "id": "cUji09v3a06x",
    "outputId": "1f9da51b-7774-4b07-ddd5-1e5111302d0e"
   },
   "outputs": [
    {
     "data": {
      "text/plain": [
       "array([ 1.10000000e+01,  2.10000000e+01,  4.30000000e+01,  4.00000000e+00,\n",
       "        1.50000000e+01,  6.70000000e+01,  7.00000000e+00,  1.01230000e+01,\n",
       "        2.17326372e+01,  1.24340000e+02, -1.20000000e+01,  1.12100000e-01,\n",
       "       -2.13324000e+01, -2.13324000e+01])"
      ]
     },
     "execution_count": 4,
     "metadata": {},
     "output_type": "execute_result"
    }
   ],
   "source": [
    "# Add some elements to the array\n",
    "arr = np.append(arr, [10.123,21.7326372, 124.34,-12,0.1121,-21.3324,-21.3324])\n",
    "arr"
   ]
  },
  {
   "cell_type": "code",
   "execution_count": null,
   "metadata": {
    "colab": {
     "base_uri": "https://localhost:8080/"
    },
    "id": "0zSMooMRzVWM",
    "outputId": "d1a92291-4649-4c48-873a-4f6fcc25035f"
   },
   "outputs": [
    {
     "data": {
      "text/plain": [
       "array([ 1.10000000e+01,  2.10000000e+01,  4.30000000e+01,  4.00000000e+00,\n",
       "        1.50000000e+01,  6.70000000e+01,  7.00000000e+00,  1.01230000e+01,\n",
       "        2.17326372e+01,  1.24340000e+02, -1.20000000e+01,  1.12100000e-01,\n",
       "       -2.13324000e+01, -2.13324000e+01])"
      ]
     },
     "execution_count": 5,
     "metadata": {},
     "output_type": "execute_result"
    }
   ],
   "source": [
    "arr\n",
    "# newarr"
   ]
  },
  {
   "cell_type": "code",
   "execution_count": null,
   "metadata": {
    "colab": {
     "base_uri": "https://localhost:8080/"
    },
    "id": "Vac5FRfsdiFC",
    "outputId": "d512e0b0-e773-4e21-d75e-96037f5000d1"
   },
   "outputs": [
    {
     "data": {
      "text/plain": [
       "array([ 11,  21,  43,   4,  15,  67,   7,  10,  21, 124, -12,   0, -21,\n",
       "       -21])"
      ]
     },
     "execution_count": 6,
     "metadata": {},
     "output_type": "execute_result"
    }
   ],
   "source": [
    "# Copy the array and display the array has elements of the same type (no floats just int)\n",
    "newarr = arr.astype(int)\n",
    "newarr"
   ]
  },
  {
   "cell_type": "code",
   "execution_count": null,
   "metadata": {
    "colab": {
     "base_uri": "https://localhost:8080/"
    },
    "id": "JPQ0ImsKei5K",
    "outputId": "f0bc54ba-0f0e-4f52-9fef-9b157804d29e"
   },
   "outputs": [
    {
     "data": {
      "text/plain": [
       "array([ 1.1000e+01,  2.1000e+01,  4.3000e+01,  4.0000e+00,  1.5000e+01,\n",
       "        6.7000e+01,  7.0000e+00,  1.0120e+01,  2.1730e+01,  1.2434e+02,\n",
       "       -1.2000e+01,  1.1000e-01, -2.1330e+01, -2.1330e+01])"
      ]
     },
     "execution_count": 7,
     "metadata": {},
     "output_type": "execute_result"
    }
   ],
   "source": [
    "# Copy the array and display the array has elements of the same type (no int just float)\n",
    "newarr1 = arr.astype(float)\n",
    "np.round(newarr1,2)"
   ]
  },
  {
   "cell_type": "markdown",
   "metadata": {
    "id": "bkKoOYpmU9RN"
   },
   "source": [
    "So let's get just one element in the array. Let's use the index in the array to access it. It is important to remember that in Python we use 0 which means that the item in the first position is 0 and second item is 1 and so on. The last item in an array with length 'n' will be 'n-1' and the second last will be n-2 and so on."
   ]
  },
  {
   "cell_type": "code",
   "execution_count": null,
   "metadata": {
    "colab": {
     "base_uri": "https://localhost:8080/"
    },
    "id": "i2O1-UoYdJtE",
    "outputId": "e86660d3-d042-4d47-afc1-d34f3945771b"
   },
   "outputs": [
    {
     "name": "stdout",
     "output_type": "stream",
     "text": [
      "0.1121\n"
     ]
    }
   ],
   "source": [
    "print(arr[11])"
   ]
  },
  {
   "cell_type": "code",
   "execution_count": null,
   "metadata": {
    "colab": {
     "base_uri": "https://localhost:8080/"
    },
    "id": "LowBwj7MPi92",
    "outputId": "4286b6be-1dca-4df2-92a0-ceb9ed0ab0bd"
   },
   "outputs": [
    {
     "name": "stdout",
     "output_type": "stream",
     "text": [
      "-21.3324\n"
     ]
    }
   ],
   "source": [
    "print(arr[-2])"
   ]
  },
  {
   "cell_type": "code",
   "execution_count": null,
   "metadata": {
    "colab": {
     "base_uri": "https://localhost:8080/"
    },
    "id": "28W8k0QsXWFw",
    "outputId": "a41a5e77-5500-4716-9bc1-820a90668725"
   },
   "outputs": [
    {
     "data": {
      "text/plain": [
       "(14,)"
      ]
     },
     "execution_count": 10,
     "metadata": {},
     "output_type": "execute_result"
    }
   ],
   "source": [
    "arr.shape"
   ]
  },
  {
   "cell_type": "code",
   "execution_count": null,
   "metadata": {
    "colab": {
     "base_uri": "https://localhost:8080/"
    },
    "id": "0EcCvfI1XpHC",
    "outputId": "fef7e702-5a5d-432d-e380-3c8593106ded"
   },
   "outputs": [
    {
     "data": {
      "text/plain": [
       "14"
      ]
     },
     "execution_count": 11,
     "metadata": {},
     "output_type": "execute_result"
    }
   ],
   "source": [
    "arr.size"
   ]
  },
  {
   "cell_type": "code",
   "execution_count": null,
   "metadata": {
    "colab": {
     "base_uri": "https://localhost:8080/"
    },
    "id": "zrvSBiC5YDSD",
    "outputId": "fefe5b19-6227-4c72-ced7-44aea75631cf"
   },
   "outputs": [
    {
     "data": {
      "text/plain": [
       "array([-2.13324000e+01, -2.13324000e+01, -1.20000000e+01,  1.12100000e-01,\n",
       "        4.00000000e+00,  7.00000000e+00,  1.01230000e+01,  1.10000000e+01,\n",
       "        1.50000000e+01,  2.10000000e+01,  2.17326372e+01,  4.30000000e+01,\n",
       "        6.70000000e+01,  1.24340000e+02])"
      ]
     },
     "execution_count": 12,
     "metadata": {},
     "output_type": "execute_result"
    }
   ],
   "source": [
    "# Order the array in ascending order (smallest to biggest)\n",
    "arr.sort()\n",
    "arr"
   ]
  },
  {
   "cell_type": "code",
   "execution_count": null,
   "metadata": {
    "colab": {
     "base_uri": "https://localhost:8080/"
    },
    "id": "9VWiEI0VYW1D",
    "outputId": "474ffdc8-2b63-487f-d2c5-0bebadcaca35"
   },
   "outputs": [
    {
     "data": {
      "text/plain": [
       "9"
      ]
     },
     "execution_count": 13,
     "metadata": {},
     "output_type": "execute_result"
    }
   ],
   "source": [
    "# Find the location of the largest element in the array\n",
    "np.argmax(newarr1)"
   ]
  },
  {
   "cell_type": "code",
   "execution_count": null,
   "metadata": {
    "colab": {
     "base_uri": "https://localhost:8080/"
    },
    "id": "xGwqtPdaZTm-",
    "outputId": "f1fc0104-9ff4-4ced-8acf-c763479299a9"
   },
   "outputs": [
    {
     "data": {
      "text/plain": [
       "0"
      ]
     },
     "execution_count": 14,
     "metadata": {},
     "output_type": "execute_result"
    }
   ],
   "source": [
    "# Find the location of the smallest element in the array\n",
    "np.argmin(arr)"
   ]
  },
  {
   "cell_type": "code",
   "execution_count": null,
   "metadata": {
    "colab": {
     "base_uri": "https://localhost:8080/"
    },
    "id": "hJRgpRJgZ10w",
    "outputId": "9d305f37-95a2-409f-cebc-430ab4e739a4"
   },
   "outputs": [
    {
     "data": {
      "text/plain": [
       "5"
      ]
     },
     "execution_count": 15,
     "metadata": {},
     "output_type": "execute_result"
    }
   ],
   "source": [
    "# Find where the element in the argument would go when inserted into a sorted array\n",
    "np.searchsorted(arr,7)"
   ]
  },
  {
   "cell_type": "markdown",
   "metadata": {
    "id": "GiaXcbCoPkdE"
   },
   "source": [
    "Awesome so we did some basic functions with an array in Numpy! This is a simple 1-D array. It also still look like a list and all that we did is farily similar to what we can do to a list. Nothing special really right? Perhaps it might be time to...\n",
    "\n",
    "![Level up](https://media1.giphy.com/media/St3iie3VZ65VHkobqc/200w.webp?cid=ecf05e47l1dzvpbdfbljta5woqedwyf5ysy8aqhyg9pxky7j&rid=200w.webp&ct=g)\n",
    "\n",
    "Let's look at what Numpy cooler than the built in.\n",
    "### Multi Dimensional Array\n",
    "OK, but first let's undertsand what a dimension is. An array is a collection of stuff (in Numpy stuff is numerical stuff) and that stuff looks like a list. What if we added more stuff which in fact was a collection of numerical stuff. That is still a collection of stuff but we have just added levels to the stuff, those levels are dimensions. We can have multiple dimensions but we usually think of stuff as having 3 dimensions. \n",
    "\n"
   ]
  },
  {
   "cell_type": "code",
   "execution_count": null,
   "metadata": {
    "colab": {
     "base_uri": "https://localhost:8080/"
    },
    "id": "nsXDk2oxDoQM",
    "outputId": "d208464e-6780-4399-bec6-c1ee343ed9e4"
   },
   "outputs": [
    {
     "data": {
      "text/plain": [
       "array([ 1,  2,  3,  4,  5,  6,  7,  8,  9, 10, 11, 12, 13, 14, 15, 16, 17,\n",
       "       18, 19, 20, 21, 22, 23, 24, 25, 26, 27, 28, 29, 30, 31, 32, 33, 34,\n",
       "       35, 36, 37, 38, 39, 40, 41, 42, 43, 44, 45, 46, 47, 48, 49, 50, 51,\n",
       "       52, 53, 54, 55, 56, 57, 58, 59, 60, 61, 62, 63, 64, 65, 66, 67, 68,\n",
       "       69, 70, 71, 72, 73, 74, 75, 76, 77, 78, 79, 80, 81, 82, 83, 84, 85,\n",
       "       86, 87, 88, 89, 90])"
      ]
     },
     "execution_count": 16,
     "metadata": {},
     "output_type": "execute_result"
    }
   ],
   "source": [
    "arr1 = np.arange(1,91)\n",
    "arr1"
   ]
  },
  {
   "cell_type": "code",
   "execution_count": null,
   "metadata": {
    "colab": {
     "base_uri": "https://localhost:8080/"
    },
    "id": "3YHzxglXKcOZ",
    "outputId": "b4956b16-3b85-4f05-b81a-1ae7997bda0e"
   },
   "outputs": [
    {
     "data": {
      "text/plain": [
       "(90,)"
      ]
     },
     "execution_count": 17,
     "metadata": {},
     "output_type": "execute_result"
    }
   ],
   "source": [
    "arr1.shape"
   ]
  },
  {
   "cell_type": "code",
   "execution_count": null,
   "metadata": {
    "colab": {
     "base_uri": "https://localhost:8080/"
    },
    "id": "_gOeDJiMdeJS",
    "outputId": "b309c102-2dbf-4184-8ba9-cefe0b4bc5ae"
   },
   "outputs": [
    {
     "data": {
      "text/plain": [
       "array([[ 1,  2,  3,  4,  5,  6,  7,  8,  9, 10],\n",
       "       [11, 12, 13, 14, 15, 16, 17, 18, 19, 20],\n",
       "       [21, 22, 23, 24, 25, 26, 27, 28, 29, 30],\n",
       "       [31, 32, 33, 34, 35, 36, 37, 38, 39, 40],\n",
       "       [41, 42, 43, 44, 45, 46, 47, 48, 49, 50],\n",
       "       [51, 52, 53, 54, 55, 56, 57, 58, 59, 60],\n",
       "       [61, 62, 63, 64, 65, 66, 67, 68, 69, 70],\n",
       "       [71, 72, 73, 74, 75, 76, 77, 78, 79, 80],\n",
       "       [81, 82, 83, 84, 85, 86, 87, 88, 89, 90]])"
      ]
     },
     "execution_count": 18,
     "metadata": {},
     "output_type": "execute_result"
    }
   ],
   "source": [
    "arr2 = np.arange(1,91).reshape(9,10)\n",
    "arr2"
   ]
  },
  {
   "cell_type": "code",
   "execution_count": null,
   "metadata": {
    "colab": {
     "base_uri": "https://localhost:8080/"
    },
    "id": "QCoUFRv4KXEu",
    "outputId": "8dad6b85-bd67-45b0-f592-6ecf6847b5b1"
   },
   "outputs": [
    {
     "data": {
      "text/plain": [
       "(9, 10)"
      ]
     },
     "execution_count": 19,
     "metadata": {},
     "output_type": "execute_result"
    }
   ],
   "source": [
    "arr2.shape"
   ]
  },
  {
   "cell_type": "code",
   "execution_count": null,
   "metadata": {
    "colab": {
     "base_uri": "https://localhost:8080/"
    },
    "id": "R7z-bFc-eDXZ",
    "outputId": "40e000d8-9ac8-4fed-c9d7-17f49a598a92"
   },
   "outputs": [
    {
     "data": {
      "text/plain": [
       "array([[[ 1,  2,  3,  4,  5,  6,  7,  8,  9, 10],\n",
       "        [11, 12, 13, 14, 15, 16, 17, 18, 19, 20],\n",
       "        [21, 22, 23, 24, 25, 26, 27, 28, 29, 30]],\n",
       "\n",
       "       [[31, 32, 33, 34, 35, 36, 37, 38, 39, 40],\n",
       "        [41, 42, 43, 44, 45, 46, 47, 48, 49, 50],\n",
       "        [51, 52, 53, 54, 55, 56, 57, 58, 59, 60]],\n",
       "\n",
       "       [[61, 62, 63, 64, 65, 66, 67, 68, 69, 70],\n",
       "        [71, 72, 73, 74, 75, 76, 77, 78, 79, 80],\n",
       "        [81, 82, 83, 84, 85, 86, 87, 88, 89, 90]]])"
      ]
     },
     "execution_count": 20,
     "metadata": {},
     "output_type": "execute_result"
    }
   ],
   "source": [
    "arr3 = np.arange(1,91).reshape(3,3,10)\n",
    "arr3"
   ]
  },
  {
   "cell_type": "code",
   "execution_count": null,
   "metadata": {
    "colab": {
     "base_uri": "https://localhost:8080/"
    },
    "id": "FxpFF60Ij6VT",
    "outputId": "d6ad7421-09f1-4206-eebd-40899eb96be3"
   },
   "outputs": [
    {
     "data": {
      "text/plain": [
       "(3, 3, 10)"
      ]
     },
     "execution_count": 21,
     "metadata": {},
     "output_type": "execute_result"
    }
   ],
   "source": [
    "arr3.shape"
   ]
  },
  {
   "cell_type": "code",
   "execution_count": null,
   "metadata": {
    "colab": {
     "base_uri": "https://localhost:8080/"
    },
    "id": "8QT3GOb8BztV",
    "outputId": "cc3a6c2e-f4c3-4937-ab9d-059770c7e869"
   },
   "outputs": [
    {
     "data": {
      "text/plain": [
       "array([ 1,  2,  3,  4,  5,  6,  7,  8,  9, 10, 11, 12, 13, 14, 15, 16, 17,\n",
       "       18, 19, 20, 21, 22, 23, 24, 25, 26, 27, 28, 29, 30, 31, 32, 33, 34,\n",
       "       35, 36, 37, 38, 39, 40, 41, 42, 43, 44, 45, 46, 47, 48, 49, 50, 51,\n",
       "       52, 53, 54, 55, 56, 57, 58, 59, 60, 61, 62, 63, 64, 65, 66, 67, 68,\n",
       "       69, 70, 71, 72, 73, 74, 75, 76, 77, 78, 79, 80, 81, 82, 83, 84, 85,\n",
       "       86, 87, 88, 89, 90])"
      ]
     },
     "execution_count": 22,
     "metadata": {},
     "output_type": "execute_result"
    }
   ],
   "source": [
    "arr3 = np.arange(1,91)\n",
    "arr3"
   ]
  },
  {
   "cell_type": "code",
   "execution_count": null,
   "metadata": {
    "colab": {
     "base_uri": "https://localhost:8080/"
    },
    "id": "Hd6_8jF6_LtR",
    "outputId": "40588bcb-41b5-4ad1-8d9d-53ab6dadd2ba"
   },
   "outputs": [
    {
     "data": {
      "text/plain": [
       "array([[ 1,  2,  3,  4,  5,  6,  7,  8,  9],\n",
       "       [10, 11, 12, 13, 14, 15, 16, 17, 18],\n",
       "       [19, 20, 21, 22, 23, 24, 25, 26, 27],\n",
       "       [28, 29, 30, 31, 32, 33, 34, 35, 36],\n",
       "       [37, 38, 39, 40, 41, 42, 43, 44, 45],\n",
       "       [46, 47, 48, 49, 50, 51, 52, 53, 54],\n",
       "       [55, 56, 57, 58, 59, 60, 61, 62, 63],\n",
       "       [64, 65, 66, 67, 68, 69, 70, 71, 72],\n",
       "       [73, 74, 75, 76, 77, 78, 79, 80, 81],\n",
       "       [82, 83, 84, 85, 86, 87, 88, 89, 90]])"
      ]
     },
     "execution_count": 23,
     "metadata": {},
     "output_type": "execute_result"
    }
   ],
   "source": [
    "arr3 = np.arange(1,91).reshape(10,9)\n",
    "arr3"
   ]
  },
  {
   "cell_type": "markdown",
   "metadata": {
    "id": "YGbot9zaL-4V"
   },
   "source": [
    "So arrays and especially multi-dimesnional arrays are useful in visualising data. We more often than not use 2-D arrays in a matrix which helps in mathematical and scientific calculations.\n",
    "\n",
    "![3D-Array](https://miro.medium.com/max/1200/1*sxnhgeSptW8Jfol8XUyP-Q.png)"
   ]
  },
  {
   "cell_type": "code",
   "execution_count": null,
   "metadata": {
    "colab": {
     "base_uri": "https://localhost:8080/"
    },
    "id": "w9PLElX6qaw8",
    "outputId": "21565502-38dc-4da3-a4ec-22171aa3d8ce"
   },
   "outputs": [
    {
     "data": {
      "text/plain": [
       "array([ 1,  2,  3,  4,  5,  6,  7,  8,  9, 10, 11, 12, 13, 14, 15, 16, 17,\n",
       "       18, 19, 20, 21, 22, 23, 24, 25, 26, 27, 28, 29, 30, 31, 32, 33, 34,\n",
       "       35, 36, 37, 38, 39, 40, 41, 42, 43, 44, 45, 46, 47, 48, 49, 50, 51,\n",
       "       52, 53, 54, 55, 56, 57, 58, 59, 60, 61, 62, 63, 64, 65, 66, 67, 68,\n",
       "       69, 70, 71, 72, 73, 74, 75, 76, 77, 78, 79, 80, 81, 82, 83, 84, 85,\n",
       "       86, 87, 88, 89, 90])"
      ]
     },
     "execution_count": 24,
     "metadata": {},
     "output_type": "execute_result"
    }
   ],
   "source": [
    "arr3.flatten()"
   ]
  },
  {
   "cell_type": "code",
   "execution_count": null,
   "metadata": {
    "colab": {
     "base_uri": "https://localhost:8080/"
    },
    "id": "eJ8DRAmEKnv9",
    "outputId": "83e2e3a7-51ae-4828-b165-314130306982"
   },
   "outputs": [
    {
     "data": {
      "text/plain": [
       "array([11])"
      ]
     },
     "execution_count": 25,
     "metadata": {},
     "output_type": "execute_result"
    }
   ],
   "source": [
    "arr3[1:3:2,1]"
   ]
  },
  {
   "cell_type": "markdown",
   "metadata": {
    "id": "oVQ3uzIC3Ygj"
   },
   "source": [
    "OK so we have gone down the numpy path a bit. You can check out some of the other routines, modules and functions on this [link](https://numpy.org/doc/stable/reference/index.html)\n",
    "\n",
    "You can also do some tutorials with the package [here](https://numpy.org/numpy-tutorials/).\n",
    "\n",
    "![well done](https://c.tenor.com/qeZMLpa-G0MAAAAC/deadpool-clapping.gif)\n"
   ]
  },
  {
   "cell_type": "markdown",
   "metadata": {
    "id": "ner38ZrOpqtC"
   },
   "source": [
    "Let's figure out some trickier concepts with this package. \n",
    "## Can it do Stats?\n",
    "![I_dunno](https://www.wired.com/wp-content/uploads/2015/03/855.gif)\n",
    "\n",
    "Yeah, well, the simple answer is yes **YOU CAN** do stats using Numpy. Afterall it is named **NUM**erical **PY**thon for a reason. So how about we see some of the built-in functions that can help you do some descriptive statistics.\n",
    "\n",
    "**What Are Descriptive Statistics?**\n",
    "\n",
    "Descriptive statistics are brief informational coefficients that summarize a given data set, which can be either a representation of the entire population or a sample of a population. Descriptive statistics are broken down into measures of central tendency and measures of variability (spread). Measures of central tendency include the mean, median, and mode, while measures of variability include standard deviation, variance, minimum and maximum variables, kurtosis, and skewness."
   ]
  },
  {
   "cell_type": "markdown",
   "metadata": {
    "id": "Hp-9_so-P-2A"
   },
   "source": [
    "### **Central Tendancy Measures**\n",
    "Centrality measures show the central or middle values of datasets. There are several definitions of what’s considered to be the center of a dataset. The three major measures of center include the mean, median, and mode.\n",
    "\n",
    "![central_tendancy](https://cdn.corporatefinanceinstitute.com/assets/central-tendency4.png)"
   ]
  },
  {
   "cell_type": "markdown",
   "metadata": {
    "id": "utiHWyafR4k8"
   },
   "source": [
    "The mean is often the sum of all the values divided by the number of values in a distribution. We can also refer to it as the average.\n",
    "\n",
    "![I_mean](https://media.tenor.com/Uc7IWZFXI4gAAAAM/i-mean-gif.gif)"
   ]
  },
  {
   "cell_type": "code",
   "execution_count": null,
   "metadata": {
    "colab": {
     "base_uri": "https://localhost:8080/"
    },
    "id": "uD1SrEARtJI7",
    "outputId": "f8507771-b678-4a92-8993-76f5fb4af932"
   },
   "outputs": [
    {
     "data": {
      "text/plain": [
       "45.5"
      ]
     },
     "execution_count": 26,
     "metadata": {},
     "output_type": "execute_result"
    }
   ],
   "source": [
    "# Mean\n",
    "np.mean(arr3)"
   ]
  },
  {
   "cell_type": "markdown",
   "metadata": {
    "id": "m3QB1QtvS7Ea"
   },
   "source": [
    "**The median** is the *middle value* of a sorted data set.\n",
    "To calculate the median, arrange the data points in the increasing order and the middle value is the median. It is easy to find out the middle value if there is an odd number of data points. If the collection is even, then the median is the arithmetic mean of the two values in the middle.\n",
    "\n",
    "![](data:image/jpeg;base64,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)"
   ]
  },
  {
   "cell_type": "code",
   "execution_count": null,
   "metadata": {
    "colab": {
     "base_uri": "https://localhost:8080/"
    },
    "id": "FxpyvjeNtI17",
    "outputId": "efdb5752-8cd2-4016-857a-915856c9c3a6"
   },
   "outputs": [
    {
     "data": {
      "text/plain": [
       "45.5"
      ]
     },
     "execution_count": 27,
     "metadata": {},
     "output_type": "execute_result"
    }
   ],
   "source": [
    "# Median\n",
    "np.median(arr3)"
   ]
  },
  {
   "cell_type": "markdown",
   "metadata": {
    "id": "APLXdkSSgwtW"
   },
   "source": [
    "**The mode** refers to the most repeating element in the array. \n",
    "\n",
    "![Mode](data:image/jpeg;base64,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)\n",
    "\n",
    "If there isn’t a single such value, then the set is multimodal since it has multiple modal values."
   ]
  },
  {
   "cell_type": "code",
   "execution_count": null,
   "metadata": {
    "id": "xyosNirX-v3H"
   },
   "outputs": [],
   "source": [
    "from statistics import mode"
   ]
  },
  {
   "cell_type": "code",
   "execution_count": null,
   "metadata": {
    "id": "2C7nrWqOtIXi"
   },
   "outputs": [],
   "source": [
    "# Mode\n",
    "array = np.array([2,5,621,21,3,8,9,7,9,8,7,775,5,8])"
   ]
  },
  {
   "cell_type": "code",
   "execution_count": null,
   "metadata": {
    "colab": {
     "base_uri": "https://localhost:8080/"
    },
    "id": "cgX21U9BATrB",
    "outputId": "54b4581d-7c31-4ba0-f9b0-345f826a485c"
   },
   "outputs": [
    {
     "data": {
      "text/plain": [
       "array([  2,   3,   5,   7,   8,   9,  21, 621, 775])"
      ]
     },
     "execution_count": 30,
     "metadata": {},
     "output_type": "execute_result"
    }
   ],
   "source": [
    "vals,counts = np.unique(array, return_counts=True)\n",
    "vals"
   ]
  },
  {
   "cell_type": "code",
   "execution_count": null,
   "metadata": {
    "colab": {
     "base_uri": "https://localhost:8080/"
    },
    "id": "XIZPSR4CAarA",
    "outputId": "e866e01e-62b3-4d09-9541-da70327fcb51"
   },
   "outputs": [
    {
     "data": {
      "text/plain": [
       "array([1, 1, 2, 2, 3, 2, 1, 1, 1])"
      ]
     },
     "execution_count": 31,
     "metadata": {},
     "output_type": "execute_result"
    }
   ],
   "source": [
    "counts"
   ]
  },
  {
   "cell_type": "code",
   "execution_count": null,
   "metadata": {
    "colab": {
     "base_uri": "https://localhost:8080/"
    },
    "id": "ewB1FiEFATnx",
    "outputId": "63b012c0-6931-40b5-9dc1-a219ca122b48"
   },
   "outputs": [
    {
     "data": {
      "text/plain": [
       "4"
      ]
     },
     "execution_count": 32,
     "metadata": {},
     "output_type": "execute_result"
    }
   ],
   "source": [
    "mode = np.argmax(counts)\n",
    "mode"
   ]
  },
  {
   "cell_type": "code",
   "execution_count": null,
   "metadata": {
    "colab": {
     "base_uri": "https://localhost:8080/"
    },
    "id": "eCH0Yy2hATfJ",
    "outputId": "4ff4da11-efa6-4cdc-e319-b5db61a12d8d"
   },
   "outputs": [
    {
     "name": "stdout",
     "output_type": "stream",
     "text": [
      "8\n"
     ]
    }
   ],
   "source": [
    "print(vals[mode])"
   ]
  },
  {
   "cell_type": "code",
   "execution_count": null,
   "metadata": {
    "colab": {
     "base_uri": "https://localhost:8080/"
    },
    "id": "gFNRG8vjBD5G",
    "outputId": "ff5d25aa-f268-4756-e255-7d9337e1043b"
   },
   "outputs": [
    {
     "name": "stdout",
     "output_type": "stream",
     "text": [
      "ModeResult(mode=array([8]), count=array([3]))\n"
     ]
    }
   ],
   "source": [
    "from scipy import stats as st\n",
    "print(st.mode(array))"
   ]
  },
  {
   "cell_type": "markdown",
   "metadata": {
    "id": "STga2wxXRO-L"
   },
   "source": [
    "![](https://i.imgflip.com/6e0y2v.jpg)\n",
    "\n",
    "There is a difference in between these measures which is often not always noticed but exists.\n",
    "\n",
    "1. The *median* is a better choice when the indicator *can be affected by some outliers*.\n",
    "2. The *median* is the middle value which is *not affected by these outliers*.\n",
    "3. The *mean is* a better choice when there are *no extreme values that can affect it*.\n",
    "4. The *mean is* a better summary because the *information from every data point is included* rather than median, which is just the middle value.\n",
    "5. The *mode* is the *value that occurs the most number of times* in our data set.\n",
    "\n",
    "\n",
    "![central_tendancy_distribution](https://miro.medium.com/max/651/0*BicwQ6RD8k3YTByX)\n",
    "\n"
   ]
  },
  {
   "cell_type": "code",
   "execution_count": null,
   "metadata": {
    "colab": {
     "base_uri": "https://localhost:8080/"
    },
    "id": "-OXZTXtMjhab",
    "outputId": "eb8336a7-7549-4efa-9f92-ef24fb377055"
   },
   "outputs": [
    {
     "data": {
      "text/plain": [
       "8.0"
      ]
     },
     "execution_count": 35,
     "metadata": {},
     "output_type": "execute_result"
    }
   ],
   "source": [
    "np.median(array)"
   ]
  },
  {
   "cell_type": "code",
   "execution_count": null,
   "metadata": {
    "colab": {
     "base_uri": "https://localhost:8080/"
    },
    "id": "h4Ql7oTYkRIS",
    "outputId": "160af0ca-857c-411a-847d-6a941eabc9f9"
   },
   "outputs": [
    {
     "data": {
      "text/plain": [
       "106.28571428571429"
      ]
     },
     "execution_count": 36,
     "metadata": {},
     "output_type": "execute_result"
    }
   ],
   "source": [
    "np.mean(array)"
   ]
  },
  {
   "cell_type": "code",
   "execution_count": null,
   "metadata": {
    "colab": {
     "base_uri": "https://localhost:8080/"
    },
    "id": "p7opN-ATkaqQ",
    "outputId": "6c842160-0c66-405d-e829-c730ebb3a709"
   },
   "outputs": [
    {
     "data": {
      "text/plain": [
       "ModeResult(mode=array([8]), count=array([3]))"
      ]
     },
     "execution_count": 37,
     "metadata": {},
     "output_type": "execute_result"
    }
   ],
   "source": [
    "st.mode(array)"
   ]
  },
  {
   "cell_type": "markdown",
   "metadata": {
    "id": "Da4i2Vltm4LO"
   },
   "source": [
    "### **Variability Measures**\n",
    "\n",
    "Variability measures are values that describe how the data varies. It gives us a sense of how much the data tends to diverge from the typical value. These include\n",
    "- Range\n",
    "- Percentiles\n",
    "- Variance\n",
    "- Standard Deviation\n",
    "- Skewness\n",
    "\n",
    "![deviation](https://y.yarn.co/c0442378-c20e-42cb-8510-7019c4a908c0_text.gif)"
   ]
  },
  {
   "cell_type": "markdown",
   "metadata": {
    "id": "jv7gVIABr_bR"
   },
   "source": [
    "**Range** is just the largest number minus the smallest number. The range gives a quick sense of the spread of the distribution to those who require only a rough indication of the data. The major drawback is it does not give any information of the data in between maximum and minimum."
   ]
  },
  {
   "cell_type": "code",
   "execution_count": null,
   "metadata": {
    "colab": {
     "base_uri": "https://localhost:8080/"
    },
    "id": "TvdHMbX7tPPU",
    "outputId": "c301cfa7-8581-460a-e0fd-4e411e8023cb"
   },
   "outputs": [
    {
     "data": {
      "text/plain": [
       "773"
      ]
     },
     "execution_count": 38,
     "metadata": {},
     "output_type": "execute_result"
    }
   ],
   "source": [
    "np.ptp(array)"
   ]
  },
  {
   "cell_type": "markdown",
   "metadata": {
    "id": "R4WpRdBMtDvI"
   },
   "source": [
    "**Percentile** is a measure which is a number where a certain percentage of scores fall below that number. In other words it is a value on a scale of one hundred that indicates the percent of a distribution that is equal to or below it."
   ]
  },
  {
   "cell_type": "code",
   "execution_count": null,
   "metadata": {
    "colab": {
     "base_uri": "https://localhost:8080/"
    },
    "id": "m9Sf3_RkY2ND",
    "outputId": "457f90da-6215-416f-9633-a3383001468e"
   },
   "outputs": [
    {
     "data": {
      "text/plain": [
       "3.6"
      ]
     },
     "execution_count": 39,
     "metadata": {},
     "output_type": "execute_result"
    }
   ],
   "source": [
    "# Tenth percentile\n",
    "np.percentile(array, 10)"
   ]
  },
  {
   "cell_type": "code",
   "execution_count": null,
   "metadata": {
    "colab": {
     "base_uri": "https://localhost:8080/"
    },
    "id": "lrA2xV6SY14C",
    "outputId": "2d3247fb-0b4c-43d9-9f54-e3f754eec64c"
   },
   "outputs": [
    {
     "data": {
      "text/plain": [
       "4.640000000000001"
      ]
     },
     "execution_count": 40,
     "metadata": {},
     "output_type": "execute_result"
    }
   ],
   "source": [
    "# Fourteenth percentile\n",
    "np.percentile(array, 14)"
   ]
  },
  {
   "cell_type": "code",
   "execution_count": null,
   "metadata": {
    "colab": {
     "base_uri": "https://localhost:8080/"
    },
    "id": "WdVB6dbnTAio",
    "outputId": "0c4b92e5-af03-4057-8122-8da993f14f7e"
   },
   "outputs": [
    {
     "data": {
      "text/plain": [
       "5.5"
      ]
     },
     "execution_count": 41,
     "metadata": {},
     "output_type": "execute_result"
    }
   ],
   "source": [
    "# Q1\n",
    "np.percentile(array, 25)"
   ]
  },
  {
   "cell_type": "code",
   "execution_count": null,
   "metadata": {
    "colab": {
     "base_uri": "https://localhost:8080/"
    },
    "id": "PesduMufTwYC",
    "outputId": "3c908b60-bb83-4696-f7a0-8ddb42a886e9"
   },
   "outputs": [
    {
     "data": {
      "text/plain": [
       "8.0"
      ]
     },
     "execution_count": 42,
     "metadata": {},
     "output_type": "execute_result"
    }
   ],
   "source": [
    "# Q2\n",
    "np.percentile(array, 50)"
   ]
  },
  {
   "cell_type": "code",
   "execution_count": null,
   "metadata": {
    "colab": {
     "base_uri": "https://localhost:8080/"
    },
    "id": "QDSSPYyeT0n4",
    "outputId": "5a832734-ab1c-427d-e8bc-bb9be0f14763"
   },
   "outputs": [
    {
     "data": {
      "text/plain": [
       "9.0"
      ]
     },
     "execution_count": 43,
     "metadata": {},
     "output_type": "execute_result"
    }
   ],
   "source": [
    "# Q3\n",
    "np.percentile(array, 75)"
   ]
  },
  {
   "cell_type": "code",
   "execution_count": null,
   "metadata": {
    "colab": {
     "base_uri": "https://localhost:8080/"
    },
    "id": "yrqtbyn5tPIq",
    "outputId": "6e9e74f0-26e8-4ed4-8d0d-56db01b9510b"
   },
   "outputs": [
    {
     "data": {
      "text/plain": [
       "array([5.5, 8. , 9. ])"
      ]
     },
     "execution_count": 44,
     "metadata": {},
     "output_type": "execute_result"
    }
   ],
   "source": [
    "# Percentiles as a list\n",
    "np.percentile(array, [25,50,75])"
   ]
  },
  {
   "cell_type": "markdown",
   "metadata": {
    "id": "Zy7Sbm9qS904"
   },
   "source": [
    "**Quantiles** are cut points dividing the range of a probability distribution into continuous intervals with equal probabilities, or dividing the observations in a sample in the same way. In simple terms, a quantile is where a sample is divided into equal-sized, adjacent, subgroups. We use decimals to indicate the percentages that we want."
   ]
  },
  {
   "cell_type": "code",
   "execution_count": null,
   "metadata": {
    "colab": {
     "base_uri": "https://localhost:8080/"
    },
    "id": "Wv-gxzA2aEUQ",
    "outputId": "28fb498d-e77a-405c-99b7-68fb0e714983"
   },
   "outputs": [
    {
     "data": {
      "text/plain": [
       "3.6"
      ]
     },
     "execution_count": 46,
     "metadata": {},
     "output_type": "execute_result"
    }
   ],
   "source": [
    "np.quantile(array, 0.1)"
   ]
  },
  {
   "cell_type": "code",
   "execution_count": null,
   "metadata": {
    "colab": {
     "base_uri": "https://localhost:8080/"
    },
    "id": "S8r7a2iIaEII",
    "outputId": "9baf2b83-7842-420d-c8ed-05c7f3ea8e69"
   },
   "outputs": [
    {
     "data": {
      "text/plain": [
       "4.640000000000001"
      ]
     },
     "execution_count": 48,
     "metadata": {},
     "output_type": "execute_result"
    }
   ],
   "source": [
    "np.quantile(array, 0.14)"
   ]
  },
  {
   "cell_type": "code",
   "execution_count": null,
   "metadata": {
    "colab": {
     "base_uri": "https://localhost:8080/"
    },
    "id": "mfQctWMFajpH",
    "outputId": "6b0e31dd-777f-4b83-f5c6-a85b55ccefd5"
   },
   "outputs": [
    {
     "data": {
      "text/plain": [
       "5.5"
      ]
     },
     "execution_count": 49,
     "metadata": {},
     "output_type": "execute_result"
    }
   ],
   "source": [
    "np.quantile(array, 0.25)"
   ]
  },
  {
   "cell_type": "code",
   "execution_count": null,
   "metadata": {
    "colab": {
     "base_uri": "https://localhost:8080/"
    },
    "id": "Y0I1tthSsvmL",
    "outputId": "a26a8082-7090-47ae-9f05-1aa31d135b71"
   },
   "outputs": [
    {
     "data": {
      "text/plain": [
       "array([5.5, 8. , 9. ])"
      ]
     },
     "execution_count": 40,
     "metadata": {},
     "output_type": "execute_result"
    }
   ],
   "source": [
    "# Quantile\n",
    "np.quantile(array, [0.25,0.5,0.75])"
   ]
  },
  {
   "cell_type": "markdown",
   "metadata": {
    "id": "7CO-3i2ga7hR"
   },
   "source": []
  },
  {
   "cell_type": "code",
   "execution_count": null,
   "metadata": {
    "id": "iAFVZummPtDn"
   },
   "outputs": [],
   "source": []
  },
  {
   "cell_type": "markdown",
   "metadata": {
    "id": "A21B3Nghpms3"
   },
   "source": [
    "\n",
    "## Pandas\n",
    "So we have gotten this far and it means we can look at the next package which we use quite often used alongside Numpy...**Pandas** *cue the song [Panda](https://www.youtube.com/watch?v=E5ONTXHS2mM&ab_channel=DesiignerVEVO)* \n",
    "\n",
    "So Pandas is a package that is built on top of Numpy and it is a way of working with data in a tabular format. So we get to see data in a format very similar to an array where it has columns and rows and the data falls within this structure.\n",
    "\n",
    "![pandas](https://miro.medium.com/max/819/1*Dss7A8Z-M4x8LD9ccgw7pQ.png)\n",
    "\n",
    "When the data is in this format we refer to it as a dataframe and this dataframe is then a set of data which can be imported, analysed, cleaned and manipulated. The process of manipulating the data is a way in which we make the data readable and have relevance and use. We can see things such as correlation, averages, mean, min and relations. \n",
    "\n",
    "Like Numpy we have to instal the package first."
   ]
  },
  {
   "cell_type": "code",
   "execution_count": null,
   "metadata": {
    "colab": {
     "base_uri": "https://localhost:8080/"
    },
    "id": "9gFnXMqUeciD",
    "outputId": "681a8827-16fd-4574-a559-b559100a080d"
   },
   "outputs": [
    {
     "name": "stdout",
     "output_type": "stream",
     "text": [
      "Looking in indexes: https://pypi.org/simple, https://us-python.pkg.dev/colab-wheels/public/simple/\n",
      "Requirement already satisfied: pandas in /usr/local/lib/python3.8/dist-packages (1.3.5)\n",
      "Requirement already satisfied: python-dateutil>=2.7.3 in /usr/local/lib/python3.8/dist-packages (from pandas) (2.8.2)\n",
      "Requirement already satisfied: numpy>=1.17.3 in /usr/local/lib/python3.8/dist-packages (from pandas) (1.22.4)\n",
      "Requirement already satisfied: pytz>=2017.3 in /usr/local/lib/python3.8/dist-packages (from pandas) (2022.7.1)\n",
      "Requirement already satisfied: six>=1.5 in /usr/local/lib/python3.8/dist-packages (from python-dateutil>=2.7.3->pandas) (1.15.0)\n"
     ]
    }
   ],
   "source": [
    "!pip install pandas"
   ]
  },
  {
   "cell_type": "code",
   "execution_count": null,
   "metadata": {
    "id": "FEXjS05Xfg_Y"
   },
   "outputs": [],
   "source": [
    "import numpy as np\n",
    "import pandas as pd"
   ]
  },
  {
   "cell_type": "code",
   "execution_count": null,
   "metadata": {
    "colab": {
     "base_uri": "https://localhost:8080/"
    },
    "id": "VJzb7P4cfmEZ",
    "outputId": "ba9c8f38-18c3-4a1f-b167-f0fc73abc2d9"
   },
   "outputs": [
    {
     "data": {
      "text/plain": [
       "{'Students': ['Name1', 'Name2', 'Name3'],\n",
       " 'StudentAlt': ['NameAlt1', 'NameAlt2', 'NameAlt3']}"
      ]
     },
     "execution_count": 3,
     "metadata": {},
     "output_type": "execute_result"
    }
   ],
   "source": [
    "test_table = {\n",
    "    'Students' : ['Name1', 'Name2', 'Name3'],\n",
    "    'StudentAlt' : ['NameAlt1','NameAlt2','NameAlt3']\n",
    "}\n",
    "test_table"
   ]
  },
  {
   "cell_type": "code",
   "execution_count": null,
   "metadata": {
    "id": "cTgtSzMAgcyK"
   },
   "outputs": [],
   "source": [
    "df = pd.DataFrame(test_table)"
   ]
  },
  {
   "cell_type": "code",
   "execution_count": null,
   "metadata": {
    "colab": {
     "base_uri": "https://localhost:8080/",
     "height": 143
    },
    "id": "uuv1HZCOgnqZ",
    "outputId": "4822a4c7-27fc-4a5c-903f-54e644651e60"
   },
   "outputs": [
    {
     "data": {
      "text/html": [
       "\n",
       "  <div id=\"df-e57ebe01-67bd-4bf2-bf4b-85ce8fa7759b\">\n",
       "    <div class=\"colab-df-container\">\n",
       "      <div>\n",
       "<style scoped>\n",
       "    .dataframe tbody tr th:only-of-type {\n",
       "        vertical-align: middle;\n",
       "    }\n",
       "\n",
       "    .dataframe tbody tr th {\n",
       "        vertical-align: top;\n",
       "    }\n",
       "\n",
       "    .dataframe thead th {\n",
       "        text-align: right;\n",
       "    }\n",
       "</style>\n",
       "<table border=\"1\" class=\"dataframe\">\n",
       "  <thead>\n",
       "    <tr style=\"text-align: right;\">\n",
       "      <th></th>\n",
       "      <th>Students</th>\n",
       "      <th>StudentAlt</th>\n",
       "    </tr>\n",
       "  </thead>\n",
       "  <tbody>\n",
       "    <tr>\n",
       "      <th>0</th>\n",
       "      <td>Name1</td>\n",
       "      <td>NameAlt1</td>\n",
       "    </tr>\n",
       "    <tr>\n",
       "      <th>1</th>\n",
       "      <td>Name2</td>\n",
       "      <td>NameAlt2</td>\n",
       "    </tr>\n",
       "    <tr>\n",
       "      <th>2</th>\n",
       "      <td>Name3</td>\n",
       "      <td>NameAlt3</td>\n",
       "    </tr>\n",
       "  </tbody>\n",
       "</table>\n",
       "</div>\n",
       "      <button class=\"colab-df-convert\" onclick=\"convertToInteractive('df-e57ebe01-67bd-4bf2-bf4b-85ce8fa7759b')\"\n",
       "              title=\"Convert this dataframe to an interactive table.\"\n",
       "              style=\"display:none;\">\n",
       "        \n",
       "  <svg xmlns=\"http://www.w3.org/2000/svg\" height=\"24px\"viewBox=\"0 0 24 24\"\n",
       "       width=\"24px\">\n",
       "    <path d=\"M0 0h24v24H0V0z\" fill=\"none\"/>\n",
       "    <path d=\"M18.56 5.44l.94 2.06.94-2.06 2.06-.94-2.06-.94-.94-2.06-.94 2.06-2.06.94zm-11 1L8.5 8.5l.94-2.06 2.06-.94-2.06-.94L8.5 2.5l-.94 2.06-2.06.94zm10 10l.94 2.06.94-2.06 2.06-.94-2.06-.94-.94-2.06-.94 2.06-2.06.94z\"/><path d=\"M17.41 7.96l-1.37-1.37c-.4-.4-.92-.59-1.43-.59-.52 0-1.04.2-1.43.59L10.3 9.45l-7.72 7.72c-.78.78-.78 2.05 0 2.83L4 21.41c.39.39.9.59 1.41.59.51 0 1.02-.2 1.41-.59l7.78-7.78 2.81-2.81c.8-.78.8-2.07 0-2.86zM5.41 20L4 18.59l7.72-7.72 1.47 1.35L5.41 20z\"/>\n",
       "  </svg>\n",
       "      </button>\n",
       "      \n",
       "  <style>\n",
       "    .colab-df-container {\n",
       "      display:flex;\n",
       "      flex-wrap:wrap;\n",
       "      gap: 12px;\n",
       "    }\n",
       "\n",
       "    .colab-df-convert {\n",
       "      background-color: #E8F0FE;\n",
       "      border: none;\n",
       "      border-radius: 50%;\n",
       "      cursor: pointer;\n",
       "      display: none;\n",
       "      fill: #1967D2;\n",
       "      height: 32px;\n",
       "      padding: 0 0 0 0;\n",
       "      width: 32px;\n",
       "    }\n",
       "\n",
       "    .colab-df-convert:hover {\n",
       "      background-color: #E2EBFA;\n",
       "      box-shadow: 0px 1px 2px rgba(60, 64, 67, 0.3), 0px 1px 3px 1px rgba(60, 64, 67, 0.15);\n",
       "      fill: #174EA6;\n",
       "    }\n",
       "\n",
       "    [theme=dark] .colab-df-convert {\n",
       "      background-color: #3B4455;\n",
       "      fill: #D2E3FC;\n",
       "    }\n",
       "\n",
       "    [theme=dark] .colab-df-convert:hover {\n",
       "      background-color: #434B5C;\n",
       "      box-shadow: 0px 1px 3px 1px rgba(0, 0, 0, 0.15);\n",
       "      filter: drop-shadow(0px 1px 2px rgba(0, 0, 0, 0.3));\n",
       "      fill: #FFFFFF;\n",
       "    }\n",
       "  </style>\n",
       "\n",
       "      <script>\n",
       "        const buttonEl =\n",
       "          document.querySelector('#df-e57ebe01-67bd-4bf2-bf4b-85ce8fa7759b button.colab-df-convert');\n",
       "        buttonEl.style.display =\n",
       "          google.colab.kernel.accessAllowed ? 'block' : 'none';\n",
       "\n",
       "        async function convertToInteractive(key) {\n",
       "          const element = document.querySelector('#df-e57ebe01-67bd-4bf2-bf4b-85ce8fa7759b');\n",
       "          const dataTable =\n",
       "            await google.colab.kernel.invokeFunction('convertToInteractive',\n",
       "                                                     [key], {});\n",
       "          if (!dataTable) return;\n",
       "\n",
       "          const docLinkHtml = 'Like what you see? Visit the ' +\n",
       "            '<a target=\"_blank\" href=https://colab.research.google.com/notebooks/data_table.ipynb>data table notebook</a>'\n",
       "            + ' to learn more about interactive tables.';\n",
       "          element.innerHTML = '';\n",
       "          dataTable['output_type'] = 'display_data';\n",
       "          await google.colab.output.renderOutput(dataTable, element);\n",
       "          const docLink = document.createElement('div');\n",
       "          docLink.innerHTML = docLinkHtml;\n",
       "          element.appendChild(docLink);\n",
       "        }\n",
       "      </script>\n",
       "    </div>\n",
       "  </div>\n",
       "  "
      ],
      "text/plain": [
       "  Students StudentAlt\n",
       "0    Name1   NameAlt1\n",
       "1    Name2   NameAlt2\n",
       "2    Name3   NameAlt3"
      ]
     },
     "execution_count": 5,
     "metadata": {},
     "output_type": "execute_result"
    }
   ],
   "source": [
    "df"
   ]
  },
  {
   "cell_type": "code",
   "execution_count": null,
   "metadata": {
    "id": "qEm4cIJ1O1Sy"
   },
   "outputs": [],
   "source": [
    "df.insert(2,'RegistrationDate',['2002-28-23','testing','to see if it works'])"
   ]
  },
  {
   "cell_type": "code",
   "execution_count": null,
   "metadata": {
    "colab": {
     "base_uri": "https://localhost:8080/",
     "height": 143
    },
    "id": "ev1iVW8LShV8",
    "outputId": "dec1d5ae-b92c-46db-8e9c-b1aa1f76822a"
   },
   "outputs": [
    {
     "data": {
      "text/html": [
       "\n",
       "  <div id=\"df-1bff0b5d-250e-4af6-be45-5ffacd802b01\">\n",
       "    <div class=\"colab-df-container\">\n",
       "      <div>\n",
       "<style scoped>\n",
       "    .dataframe tbody tr th:only-of-type {\n",
       "        vertical-align: middle;\n",
       "    }\n",
       "\n",
       "    .dataframe tbody tr th {\n",
       "        vertical-align: top;\n",
       "    }\n",
       "\n",
       "    .dataframe thead th {\n",
       "        text-align: right;\n",
       "    }\n",
       "</style>\n",
       "<table border=\"1\" class=\"dataframe\">\n",
       "  <thead>\n",
       "    <tr style=\"text-align: right;\">\n",
       "      <th></th>\n",
       "      <th>Students</th>\n",
       "      <th>StudentAlt</th>\n",
       "      <th>RegistrationDate</th>\n",
       "    </tr>\n",
       "  </thead>\n",
       "  <tbody>\n",
       "    <tr>\n",
       "      <th>0</th>\n",
       "      <td>Name1</td>\n",
       "      <td>NameAlt1</td>\n",
       "      <td>2002-28-23</td>\n",
       "    </tr>\n",
       "    <tr>\n",
       "      <th>1</th>\n",
       "      <td>Name2</td>\n",
       "      <td>NameAlt2</td>\n",
       "      <td>testing</td>\n",
       "    </tr>\n",
       "    <tr>\n",
       "      <th>2</th>\n",
       "      <td>Name3</td>\n",
       "      <td>NameAlt3</td>\n",
       "      <td>to see if it works</td>\n",
       "    </tr>\n",
       "  </tbody>\n",
       "</table>\n",
       "</div>\n",
       "      <button class=\"colab-df-convert\" onclick=\"convertToInteractive('df-1bff0b5d-250e-4af6-be45-5ffacd802b01')\"\n",
       "              title=\"Convert this dataframe to an interactive table.\"\n",
       "              style=\"display:none;\">\n",
       "        \n",
       "  <svg xmlns=\"http://www.w3.org/2000/svg\" height=\"24px\"viewBox=\"0 0 24 24\"\n",
       "       width=\"24px\">\n",
       "    <path d=\"M0 0h24v24H0V0z\" fill=\"none\"/>\n",
       "    <path d=\"M18.56 5.44l.94 2.06.94-2.06 2.06-.94-2.06-.94-.94-2.06-.94 2.06-2.06.94zm-11 1L8.5 8.5l.94-2.06 2.06-.94-2.06-.94L8.5 2.5l-.94 2.06-2.06.94zm10 10l.94 2.06.94-2.06 2.06-.94-2.06-.94-.94-2.06-.94 2.06-2.06.94z\"/><path d=\"M17.41 7.96l-1.37-1.37c-.4-.4-.92-.59-1.43-.59-.52 0-1.04.2-1.43.59L10.3 9.45l-7.72 7.72c-.78.78-.78 2.05 0 2.83L4 21.41c.39.39.9.59 1.41.59.51 0 1.02-.2 1.41-.59l7.78-7.78 2.81-2.81c.8-.78.8-2.07 0-2.86zM5.41 20L4 18.59l7.72-7.72 1.47 1.35L5.41 20z\"/>\n",
       "  </svg>\n",
       "      </button>\n",
       "      \n",
       "  <style>\n",
       "    .colab-df-container {\n",
       "      display:flex;\n",
       "      flex-wrap:wrap;\n",
       "      gap: 12px;\n",
       "    }\n",
       "\n",
       "    .colab-df-convert {\n",
       "      background-color: #E8F0FE;\n",
       "      border: none;\n",
       "      border-radius: 50%;\n",
       "      cursor: pointer;\n",
       "      display: none;\n",
       "      fill: #1967D2;\n",
       "      height: 32px;\n",
       "      padding: 0 0 0 0;\n",
       "      width: 32px;\n",
       "    }\n",
       "\n",
       "    .colab-df-convert:hover {\n",
       "      background-color: #E2EBFA;\n",
       "      box-shadow: 0px 1px 2px rgba(60, 64, 67, 0.3), 0px 1px 3px 1px rgba(60, 64, 67, 0.15);\n",
       "      fill: #174EA6;\n",
       "    }\n",
       "\n",
       "    [theme=dark] .colab-df-convert {\n",
       "      background-color: #3B4455;\n",
       "      fill: #D2E3FC;\n",
       "    }\n",
       "\n",
       "    [theme=dark] .colab-df-convert:hover {\n",
       "      background-color: #434B5C;\n",
       "      box-shadow: 0px 1px 3px 1px rgba(0, 0, 0, 0.15);\n",
       "      filter: drop-shadow(0px 1px 2px rgba(0, 0, 0, 0.3));\n",
       "      fill: #FFFFFF;\n",
       "    }\n",
       "  </style>\n",
       "\n",
       "      <script>\n",
       "        const buttonEl =\n",
       "          document.querySelector('#df-1bff0b5d-250e-4af6-be45-5ffacd802b01 button.colab-df-convert');\n",
       "        buttonEl.style.display =\n",
       "          google.colab.kernel.accessAllowed ? 'block' : 'none';\n",
       "\n",
       "        async function convertToInteractive(key) {\n",
       "          const element = document.querySelector('#df-1bff0b5d-250e-4af6-be45-5ffacd802b01');\n",
       "          const dataTable =\n",
       "            await google.colab.kernel.invokeFunction('convertToInteractive',\n",
       "                                                     [key], {});\n",
       "          if (!dataTable) return;\n",
       "\n",
       "          const docLinkHtml = 'Like what you see? Visit the ' +\n",
       "            '<a target=\"_blank\" href=https://colab.research.google.com/notebooks/data_table.ipynb>data table notebook</a>'\n",
       "            + ' to learn more about interactive tables.';\n",
       "          element.innerHTML = '';\n",
       "          dataTable['output_type'] = 'display_data';\n",
       "          await google.colab.output.renderOutput(dataTable, element);\n",
       "          const docLink = document.createElement('div');\n",
       "          docLink.innerHTML = docLinkHtml;\n",
       "          element.appendChild(docLink);\n",
       "        }\n",
       "      </script>\n",
       "    </div>\n",
       "  </div>\n",
       "  "
      ],
      "text/plain": [
       "  Students StudentAlt    RegistrationDate\n",
       "0    Name1   NameAlt1          2002-28-23\n",
       "1    Name2   NameAlt2             testing\n",
       "2    Name3   NameAlt3  to see if it works"
      ]
     },
     "execution_count": 7,
     "metadata": {},
     "output_type": "execute_result"
    }
   ],
   "source": [
    "df"
   ]
  },
  {
   "cell_type": "code",
   "execution_count": null,
   "metadata": {
    "id": "JoIR4LGDhvYH"
   },
   "outputs": [],
   "source": [
    "import datetime\n",
    "import random"
   ]
  },
  {
   "cell_type": "code",
   "execution_count": null,
   "metadata": {
    "id": "Q3V8Af5dm_Lh"
   },
   "outputs": [],
   "source": [
    "df1 = df.drop(columns = ['RegistrationDate'])"
   ]
  },
  {
   "cell_type": "code",
   "execution_count": null,
   "metadata": {
    "colab": {
     "base_uri": "https://localhost:8080/",
     "height": 143
    },
    "id": "DNVJ9qJl3wpp",
    "outputId": "c944869d-fcb6-487c-bed7-5eb240b091fb"
   },
   "outputs": [
    {
     "data": {
      "text/html": [
       "\n",
       "  <div id=\"df-acadc4d8-2786-48e4-a0f1-f61c5d7c3fcd\">\n",
       "    <div class=\"colab-df-container\">\n",
       "      <div>\n",
       "<style scoped>\n",
       "    .dataframe tbody tr th:only-of-type {\n",
       "        vertical-align: middle;\n",
       "    }\n",
       "\n",
       "    .dataframe tbody tr th {\n",
       "        vertical-align: top;\n",
       "    }\n",
       "\n",
       "    .dataframe thead th {\n",
       "        text-align: right;\n",
       "    }\n",
       "</style>\n",
       "<table border=\"1\" class=\"dataframe\">\n",
       "  <thead>\n",
       "    <tr style=\"text-align: right;\">\n",
       "      <th></th>\n",
       "      <th>Students</th>\n",
       "      <th>StudentAlt</th>\n",
       "      <th>RegistrationDate</th>\n",
       "    </tr>\n",
       "  </thead>\n",
       "  <tbody>\n",
       "    <tr>\n",
       "      <th>0</th>\n",
       "      <td>Name1</td>\n",
       "      <td>NameAlt1</td>\n",
       "      <td>2002-28-23</td>\n",
       "    </tr>\n",
       "    <tr>\n",
       "      <th>1</th>\n",
       "      <td>Name2</td>\n",
       "      <td>NameAlt2</td>\n",
       "      <td>testing</td>\n",
       "    </tr>\n",
       "    <tr>\n",
       "      <th>2</th>\n",
       "      <td>Name3</td>\n",
       "      <td>NameAlt3</td>\n",
       "      <td>to see if it works</td>\n",
       "    </tr>\n",
       "  </tbody>\n",
       "</table>\n",
       "</div>\n",
       "      <button class=\"colab-df-convert\" onclick=\"convertToInteractive('df-acadc4d8-2786-48e4-a0f1-f61c5d7c3fcd')\"\n",
       "              title=\"Convert this dataframe to an interactive table.\"\n",
       "              style=\"display:none;\">\n",
       "        \n",
       "  <svg xmlns=\"http://www.w3.org/2000/svg\" height=\"24px\"viewBox=\"0 0 24 24\"\n",
       "       width=\"24px\">\n",
       "    <path d=\"M0 0h24v24H0V0z\" fill=\"none\"/>\n",
       "    <path d=\"M18.56 5.44l.94 2.06.94-2.06 2.06-.94-2.06-.94-.94-2.06-.94 2.06-2.06.94zm-11 1L8.5 8.5l.94-2.06 2.06-.94-2.06-.94L8.5 2.5l-.94 2.06-2.06.94zm10 10l.94 2.06.94-2.06 2.06-.94-2.06-.94-.94-2.06-.94 2.06-2.06.94z\"/><path d=\"M17.41 7.96l-1.37-1.37c-.4-.4-.92-.59-1.43-.59-.52 0-1.04.2-1.43.59L10.3 9.45l-7.72 7.72c-.78.78-.78 2.05 0 2.83L4 21.41c.39.39.9.59 1.41.59.51 0 1.02-.2 1.41-.59l7.78-7.78 2.81-2.81c.8-.78.8-2.07 0-2.86zM5.41 20L4 18.59l7.72-7.72 1.47 1.35L5.41 20z\"/>\n",
       "  </svg>\n",
       "      </button>\n",
       "      \n",
       "  <style>\n",
       "    .colab-df-container {\n",
       "      display:flex;\n",
       "      flex-wrap:wrap;\n",
       "      gap: 12px;\n",
       "    }\n",
       "\n",
       "    .colab-df-convert {\n",
       "      background-color: #E8F0FE;\n",
       "      border: none;\n",
       "      border-radius: 50%;\n",
       "      cursor: pointer;\n",
       "      display: none;\n",
       "      fill: #1967D2;\n",
       "      height: 32px;\n",
       "      padding: 0 0 0 0;\n",
       "      width: 32px;\n",
       "    }\n",
       "\n",
       "    .colab-df-convert:hover {\n",
       "      background-color: #E2EBFA;\n",
       "      box-shadow: 0px 1px 2px rgba(60, 64, 67, 0.3), 0px 1px 3px 1px rgba(60, 64, 67, 0.15);\n",
       "      fill: #174EA6;\n",
       "    }\n",
       "\n",
       "    [theme=dark] .colab-df-convert {\n",
       "      background-color: #3B4455;\n",
       "      fill: #D2E3FC;\n",
       "    }\n",
       "\n",
       "    [theme=dark] .colab-df-convert:hover {\n",
       "      background-color: #434B5C;\n",
       "      box-shadow: 0px 1px 3px 1px rgba(0, 0, 0, 0.15);\n",
       "      filter: drop-shadow(0px 1px 2px rgba(0, 0, 0, 0.3));\n",
       "      fill: #FFFFFF;\n",
       "    }\n",
       "  </style>\n",
       "\n",
       "      <script>\n",
       "        const buttonEl =\n",
       "          document.querySelector('#df-acadc4d8-2786-48e4-a0f1-f61c5d7c3fcd button.colab-df-convert');\n",
       "        buttonEl.style.display =\n",
       "          google.colab.kernel.accessAllowed ? 'block' : 'none';\n",
       "\n",
       "        async function convertToInteractive(key) {\n",
       "          const element = document.querySelector('#df-acadc4d8-2786-48e4-a0f1-f61c5d7c3fcd');\n",
       "          const dataTable =\n",
       "            await google.colab.kernel.invokeFunction('convertToInteractive',\n",
       "                                                     [key], {});\n",
       "          if (!dataTable) return;\n",
       "\n",
       "          const docLinkHtml = 'Like what you see? Visit the ' +\n",
       "            '<a target=\"_blank\" href=https://colab.research.google.com/notebooks/data_table.ipynb>data table notebook</a>'\n",
       "            + ' to learn more about interactive tables.';\n",
       "          element.innerHTML = '';\n",
       "          dataTable['output_type'] = 'display_data';\n",
       "          await google.colab.output.renderOutput(dataTable, element);\n",
       "          const docLink = document.createElement('div');\n",
       "          docLink.innerHTML = docLinkHtml;\n",
       "          element.appendChild(docLink);\n",
       "        }\n",
       "      </script>\n",
       "    </div>\n",
       "  </div>\n",
       "  "
      ],
      "text/plain": [
       "  Students StudentAlt    RegistrationDate\n",
       "0    Name1   NameAlt1          2002-28-23\n",
       "1    Name2   NameAlt2             testing\n",
       "2    Name3   NameAlt3  to see if it works"
      ]
     },
     "execution_count": 17,
     "metadata": {},
     "output_type": "execute_result"
    }
   ],
   "source": [
    "df"
   ]
  },
  {
   "cell_type": "code",
   "execution_count": null,
   "metadata": {
    "colab": {
     "base_uri": "https://localhost:8080/",
     "height": 143
    },
    "id": "8E1IqjQJ3P40",
    "outputId": "ce9c0802-5d1d-410f-8333-102d9044a58e"
   },
   "outputs": [
    {
     "data": {
      "text/html": [
       "\n",
       "  <div id=\"df-e059e49e-269e-4f3b-9298-f0845828c07d\">\n",
       "    <div class=\"colab-df-container\">\n",
       "      <div>\n",
       "<style scoped>\n",
       "    .dataframe tbody tr th:only-of-type {\n",
       "        vertical-align: middle;\n",
       "    }\n",
       "\n",
       "    .dataframe tbody tr th {\n",
       "        vertical-align: top;\n",
       "    }\n",
       "\n",
       "    .dataframe thead th {\n",
       "        text-align: right;\n",
       "    }\n",
       "</style>\n",
       "<table border=\"1\" class=\"dataframe\">\n",
       "  <thead>\n",
       "    <tr style=\"text-align: right;\">\n",
       "      <th></th>\n",
       "      <th>Students</th>\n",
       "      <th>StudentAlt</th>\n",
       "    </tr>\n",
       "  </thead>\n",
       "  <tbody>\n",
       "    <tr>\n",
       "      <th>0</th>\n",
       "      <td>Name1</td>\n",
       "      <td>NameAlt1</td>\n",
       "    </tr>\n",
       "    <tr>\n",
       "      <th>1</th>\n",
       "      <td>Name2</td>\n",
       "      <td>NameAlt2</td>\n",
       "    </tr>\n",
       "    <tr>\n",
       "      <th>2</th>\n",
       "      <td>Name3</td>\n",
       "      <td>NameAlt3</td>\n",
       "    </tr>\n",
       "  </tbody>\n",
       "</table>\n",
       "</div>\n",
       "      <button class=\"colab-df-convert\" onclick=\"convertToInteractive('df-e059e49e-269e-4f3b-9298-f0845828c07d')\"\n",
       "              title=\"Convert this dataframe to an interactive table.\"\n",
       "              style=\"display:none;\">\n",
       "        \n",
       "  <svg xmlns=\"http://www.w3.org/2000/svg\" height=\"24px\"viewBox=\"0 0 24 24\"\n",
       "       width=\"24px\">\n",
       "    <path d=\"M0 0h24v24H0V0z\" fill=\"none\"/>\n",
       "    <path d=\"M18.56 5.44l.94 2.06.94-2.06 2.06-.94-2.06-.94-.94-2.06-.94 2.06-2.06.94zm-11 1L8.5 8.5l.94-2.06 2.06-.94-2.06-.94L8.5 2.5l-.94 2.06-2.06.94zm10 10l.94 2.06.94-2.06 2.06-.94-2.06-.94-.94-2.06-.94 2.06-2.06.94z\"/><path d=\"M17.41 7.96l-1.37-1.37c-.4-.4-.92-.59-1.43-.59-.52 0-1.04.2-1.43.59L10.3 9.45l-7.72 7.72c-.78.78-.78 2.05 0 2.83L4 21.41c.39.39.9.59 1.41.59.51 0 1.02-.2 1.41-.59l7.78-7.78 2.81-2.81c.8-.78.8-2.07 0-2.86zM5.41 20L4 18.59l7.72-7.72 1.47 1.35L5.41 20z\"/>\n",
       "  </svg>\n",
       "      </button>\n",
       "      \n",
       "  <style>\n",
       "    .colab-df-container {\n",
       "      display:flex;\n",
       "      flex-wrap:wrap;\n",
       "      gap: 12px;\n",
       "    }\n",
       "\n",
       "    .colab-df-convert {\n",
       "      background-color: #E8F0FE;\n",
       "      border: none;\n",
       "      border-radius: 50%;\n",
       "      cursor: pointer;\n",
       "      display: none;\n",
       "      fill: #1967D2;\n",
       "      height: 32px;\n",
       "      padding: 0 0 0 0;\n",
       "      width: 32px;\n",
       "    }\n",
       "\n",
       "    .colab-df-convert:hover {\n",
       "      background-color: #E2EBFA;\n",
       "      box-shadow: 0px 1px 2px rgba(60, 64, 67, 0.3), 0px 1px 3px 1px rgba(60, 64, 67, 0.15);\n",
       "      fill: #174EA6;\n",
       "    }\n",
       "\n",
       "    [theme=dark] .colab-df-convert {\n",
       "      background-color: #3B4455;\n",
       "      fill: #D2E3FC;\n",
       "    }\n",
       "\n",
       "    [theme=dark] .colab-df-convert:hover {\n",
       "      background-color: #434B5C;\n",
       "      box-shadow: 0px 1px 3px 1px rgba(0, 0, 0, 0.15);\n",
       "      filter: drop-shadow(0px 1px 2px rgba(0, 0, 0, 0.3));\n",
       "      fill: #FFFFFF;\n",
       "    }\n",
       "  </style>\n",
       "\n",
       "      <script>\n",
       "        const buttonEl =\n",
       "          document.querySelector('#df-e059e49e-269e-4f3b-9298-f0845828c07d button.colab-df-convert');\n",
       "        buttonEl.style.display =\n",
       "          google.colab.kernel.accessAllowed ? 'block' : 'none';\n",
       "\n",
       "        async function convertToInteractive(key) {\n",
       "          const element = document.querySelector('#df-e059e49e-269e-4f3b-9298-f0845828c07d');\n",
       "          const dataTable =\n",
       "            await google.colab.kernel.invokeFunction('convertToInteractive',\n",
       "                                                     [key], {});\n",
       "          if (!dataTable) return;\n",
       "\n",
       "          const docLinkHtml = 'Like what you see? Visit the ' +\n",
       "            '<a target=\"_blank\" href=https://colab.research.google.com/notebooks/data_table.ipynb>data table notebook</a>'\n",
       "            + ' to learn more about interactive tables.';\n",
       "          element.innerHTML = '';\n",
       "          dataTable['output_type'] = 'display_data';\n",
       "          await google.colab.output.renderOutput(dataTable, element);\n",
       "          const docLink = document.createElement('div');\n",
       "          docLink.innerHTML = docLinkHtml;\n",
       "          element.appendChild(docLink);\n",
       "        }\n",
       "      </script>\n",
       "    </div>\n",
       "  </div>\n",
       "  "
      ],
      "text/plain": [
       "  Students StudentAlt\n",
       "0    Name1   NameAlt1\n",
       "1    Name2   NameAlt2\n",
       "2    Name3   NameAlt3"
      ]
     },
     "execution_count": 16,
     "metadata": {},
     "output_type": "execute_result"
    }
   ],
   "source": [
    "df1"
   ]
  },
  {
   "cell_type": "code",
   "execution_count": null,
   "metadata": {
    "id": "yBXj9rw7n1BB"
   },
   "outputs": [],
   "source": [
    "import pandas as pd\n",
    "import numpy as np\n",
    "import datetime\n",
    "import random"
   ]
  },
  {
   "cell_type": "code",
   "execution_count": null,
   "metadata": {
    "id": "mUFhTAebqJsz"
   },
   "outputs": [],
   "source": [
    "acc = np.random.randint(1000000000000000,1111111111999999,50)\n",
    "card = np.random.randint(1000000000000000,1111111111999999,50)\n",
    "dates = [np.random.choice(pd.date_range(datetime.datetime(2020,1,1),datetime.datetime(2021,3,31))) for i in range(400)]\n",
    "money = np.random.randint(-300,72000,300)"
   ]
  },
  {
   "cell_type": "code",
   "execution_count": null,
   "metadata": {
    "id": "-JzI8z6LqJpb"
   },
   "outputs": [],
   "source": [
    "dftest= pd.DataFrame({'Acc' : [np.random.choice(acc) for i in range(50)],\n",
    "    'dates': [np.random.choice(pd.date_range(datetime.datetime(2020,1,1),datetime.datetime(2021,3,31))) for i in range(50)],\n",
    "    'accountId' : [np.random.choice(acc)for _ in range(50)],\n",
    "                   'cardNumber': np.random.randint(1000000000000000,1111111111999999,50),\n",
    "                   'ActivationDate' : [np.random.choice(dates) for i in range(50)],\n",
    "                   'Income' : [np.random.choice(money)for _ in range(50)]})"
   ]
  },
  {
   "cell_type": "code",
   "execution_count": null,
   "metadata": {
    "colab": {
     "base_uri": "https://localhost:8080/",
     "height": 1000
    },
    "id": "KkAAxSlSqJlk",
    "outputId": "a40b83ea-2f45-4007-cf53-96055577d797"
   },
   "outputs": [
    {
     "data": {
      "text/html": [
       "\n",
       "  <div id=\"df-7ebc8af8-3d18-4dcc-a2f7-99a788dd6601\">\n",
       "    <div class=\"colab-df-container\">\n",
       "      <div>\n",
       "<style scoped>\n",
       "    .dataframe tbody tr th:only-of-type {\n",
       "        vertical-align: middle;\n",
       "    }\n",
       "\n",
       "    .dataframe tbody tr th {\n",
       "        vertical-align: top;\n",
       "    }\n",
       "\n",
       "    .dataframe thead th {\n",
       "        text-align: right;\n",
       "    }\n",
       "</style>\n",
       "<table border=\"1\" class=\"dataframe\">\n",
       "  <thead>\n",
       "    <tr style=\"text-align: right;\">\n",
       "      <th></th>\n",
       "      <th>Acc</th>\n",
       "      <th>dates</th>\n",
       "      <th>accountId</th>\n",
       "      <th>cardNumber</th>\n",
       "      <th>ActivationDate</th>\n",
       "      <th>Income</th>\n",
       "    </tr>\n",
       "  </thead>\n",
       "  <tbody>\n",
       "    <tr>\n",
       "      <th>0</th>\n",
       "      <td>1067598676087352</td>\n",
       "      <td>2020-09-10</td>\n",
       "      <td>1025615326966060</td>\n",
       "      <td>1058800362847787</td>\n",
       "      <td>2020-02-19</td>\n",
       "      <td>65040</td>\n",
       "    </tr>\n",
       "    <tr>\n",
       "      <th>1</th>\n",
       "      <td>1068617439624400</td>\n",
       "      <td>2020-11-20</td>\n",
       "      <td>1025615326966060</td>\n",
       "      <td>1029705418456659</td>\n",
       "      <td>2020-07-29</td>\n",
       "      <td>4322</td>\n",
       "    </tr>\n",
       "    <tr>\n",
       "      <th>2</th>\n",
       "      <td>1040709398052014</td>\n",
       "      <td>2020-07-07</td>\n",
       "      <td>1081794524678825</td>\n",
       "      <td>1039664751375175</td>\n",
       "      <td>2020-01-18</td>\n",
       "      <td>46445</td>\n",
       "    </tr>\n",
       "    <tr>\n",
       "      <th>3</th>\n",
       "      <td>1065124359547665</td>\n",
       "      <td>2020-04-06</td>\n",
       "      <td>1075820882411561</td>\n",
       "      <td>1002738693038927</td>\n",
       "      <td>2020-01-22</td>\n",
       "      <td>53029</td>\n",
       "    </tr>\n",
       "    <tr>\n",
       "      <th>4</th>\n",
       "      <td>1040892379023789</td>\n",
       "      <td>2021-01-07</td>\n",
       "      <td>1085864929927123</td>\n",
       "      <td>1052624628145579</td>\n",
       "      <td>2020-08-04</td>\n",
       "      <td>18565</td>\n",
       "    </tr>\n",
       "    <tr>\n",
       "      <th>5</th>\n",
       "      <td>1016111475041355</td>\n",
       "      <td>2020-02-18</td>\n",
       "      <td>1028531210828742</td>\n",
       "      <td>1001274584875124</td>\n",
       "      <td>2021-01-29</td>\n",
       "      <td>4674</td>\n",
       "    </tr>\n",
       "    <tr>\n",
       "      <th>6</th>\n",
       "      <td>1067598676087352</td>\n",
       "      <td>2020-12-13</td>\n",
       "      <td>1039093834731484</td>\n",
       "      <td>1013098209198973</td>\n",
       "      <td>2020-01-11</td>\n",
       "      <td>36</td>\n",
       "    </tr>\n",
       "    <tr>\n",
       "      <th>7</th>\n",
       "      <td>1079271296469502</td>\n",
       "      <td>2020-10-07</td>\n",
       "      <td>1055970040922182</td>\n",
       "      <td>1061416505077620</td>\n",
       "      <td>2020-11-17</td>\n",
       "      <td>38781</td>\n",
       "    </tr>\n",
       "    <tr>\n",
       "      <th>8</th>\n",
       "      <td>1079271296469502</td>\n",
       "      <td>2020-01-15</td>\n",
       "      <td>1054833935159968</td>\n",
       "      <td>1025173798721578</td>\n",
       "      <td>2020-02-23</td>\n",
       "      <td>2618</td>\n",
       "    </tr>\n",
       "    <tr>\n",
       "      <th>9</th>\n",
       "      <td>1014217100008397</td>\n",
       "      <td>2020-06-04</td>\n",
       "      <td>1025615326966060</td>\n",
       "      <td>1042636053112457</td>\n",
       "      <td>2020-09-16</td>\n",
       "      <td>42929</td>\n",
       "    </tr>\n",
       "    <tr>\n",
       "      <th>10</th>\n",
       "      <td>1023332658544169</td>\n",
       "      <td>2020-09-30</td>\n",
       "      <td>1108640557611791</td>\n",
       "      <td>1057948243657401</td>\n",
       "      <td>2020-08-09</td>\n",
       "      <td>62545</td>\n",
       "    </tr>\n",
       "    <tr>\n",
       "      <th>11</th>\n",
       "      <td>1040709398052014</td>\n",
       "      <td>2020-09-29</td>\n",
       "      <td>1005519661008787</td>\n",
       "      <td>1065679730874334</td>\n",
       "      <td>2021-01-30</td>\n",
       "      <td>38241</td>\n",
       "    </tr>\n",
       "    <tr>\n",
       "      <th>12</th>\n",
       "      <td>1085864929927123</td>\n",
       "      <td>2021-01-02</td>\n",
       "      <td>1065124359547665</td>\n",
       "      <td>1059800961794283</td>\n",
       "      <td>2020-11-03</td>\n",
       "      <td>2149</td>\n",
       "    </tr>\n",
       "    <tr>\n",
       "      <th>13</th>\n",
       "      <td>1016111475041355</td>\n",
       "      <td>2020-04-25</td>\n",
       "      <td>1081794524678825</td>\n",
       "      <td>1075650575477516</td>\n",
       "      <td>2020-07-28</td>\n",
       "      <td>61338</td>\n",
       "    </tr>\n",
       "    <tr>\n",
       "      <th>14</th>\n",
       "      <td>1049684743824984</td>\n",
       "      <td>2020-07-23</td>\n",
       "      <td>1027256123677014</td>\n",
       "      <td>1089305878812906</td>\n",
       "      <td>2020-07-18</td>\n",
       "      <td>69677</td>\n",
       "    </tr>\n",
       "    <tr>\n",
       "      <th>15</th>\n",
       "      <td>1075820882411561</td>\n",
       "      <td>2021-01-18</td>\n",
       "      <td>1059301695582106</td>\n",
       "      <td>1051024182602935</td>\n",
       "      <td>2020-09-06</td>\n",
       "      <td>68654</td>\n",
       "    </tr>\n",
       "    <tr>\n",
       "      <th>16</th>\n",
       "      <td>1065124359547665</td>\n",
       "      <td>2020-10-25</td>\n",
       "      <td>1016111475041355</td>\n",
       "      <td>1062687093339870</td>\n",
       "      <td>2020-08-03</td>\n",
       "      <td>42929</td>\n",
       "    </tr>\n",
       "    <tr>\n",
       "      <th>17</th>\n",
       "      <td>1102516018052031</td>\n",
       "      <td>2020-04-22</td>\n",
       "      <td>1084507996980791</td>\n",
       "      <td>1091814500458769</td>\n",
       "      <td>2020-07-18</td>\n",
       "      <td>-182</td>\n",
       "    </tr>\n",
       "    <tr>\n",
       "      <th>18</th>\n",
       "      <td>1110654702553345</td>\n",
       "      <td>2020-11-10</td>\n",
       "      <td>1107593045398036</td>\n",
       "      <td>1080505175633712</td>\n",
       "      <td>2020-01-09</td>\n",
       "      <td>53019</td>\n",
       "    </tr>\n",
       "    <tr>\n",
       "      <th>19</th>\n",
       "      <td>1090165543626765</td>\n",
       "      <td>2020-09-28</td>\n",
       "      <td>1051880161265727</td>\n",
       "      <td>1025836993329391</td>\n",
       "      <td>2020-01-14</td>\n",
       "      <td>54978</td>\n",
       "    </tr>\n",
       "    <tr>\n",
       "      <th>20</th>\n",
       "      <td>1040892379023789</td>\n",
       "      <td>2021-01-26</td>\n",
       "      <td>1014588055166581</td>\n",
       "      <td>1029734086583348</td>\n",
       "      <td>2020-12-10</td>\n",
       "      <td>3975</td>\n",
       "    </tr>\n",
       "    <tr>\n",
       "      <th>21</th>\n",
       "      <td>1029706847423553</td>\n",
       "      <td>2020-07-07</td>\n",
       "      <td>1087832919517606</td>\n",
       "      <td>1100168878132414</td>\n",
       "      <td>2021-03-07</td>\n",
       "      <td>63973</td>\n",
       "    </tr>\n",
       "    <tr>\n",
       "      <th>22</th>\n",
       "      <td>1025615326966060</td>\n",
       "      <td>2020-03-05</td>\n",
       "      <td>1105962505785938</td>\n",
       "      <td>1095660503290324</td>\n",
       "      <td>2020-05-31</td>\n",
       "      <td>19720</td>\n",
       "    </tr>\n",
       "    <tr>\n",
       "      <th>23</th>\n",
       "      <td>1081794524678825</td>\n",
       "      <td>2020-04-28</td>\n",
       "      <td>1065124359547665</td>\n",
       "      <td>1097947881777625</td>\n",
       "      <td>2020-02-26</td>\n",
       "      <td>4811</td>\n",
       "    </tr>\n",
       "    <tr>\n",
       "      <th>24</th>\n",
       "      <td>1084507996980791</td>\n",
       "      <td>2020-01-17</td>\n",
       "      <td>1107593045398036</td>\n",
       "      <td>1029449234334434</td>\n",
       "      <td>2020-03-02</td>\n",
       "      <td>27720</td>\n",
       "    </tr>\n",
       "    <tr>\n",
       "      <th>25</th>\n",
       "      <td>1049949414058110</td>\n",
       "      <td>2020-01-28</td>\n",
       "      <td>1080584749485331</td>\n",
       "      <td>1013883197190899</td>\n",
       "      <td>2020-05-15</td>\n",
       "      <td>36123</td>\n",
       "    </tr>\n",
       "    <tr>\n",
       "      <th>26</th>\n",
       "      <td>1007607074063246</td>\n",
       "      <td>2020-05-01</td>\n",
       "      <td>1110125558656018</td>\n",
       "      <td>1080825888743691</td>\n",
       "      <td>2020-10-02</td>\n",
       "      <td>43552</td>\n",
       "    </tr>\n",
       "    <tr>\n",
       "      <th>27</th>\n",
       "      <td>1070340832755890</td>\n",
       "      <td>2020-11-03</td>\n",
       "      <td>1025615326966060</td>\n",
       "      <td>1083226143080418</td>\n",
       "      <td>2020-05-19</td>\n",
       "      <td>54644</td>\n",
       "    </tr>\n",
       "    <tr>\n",
       "      <th>28</th>\n",
       "      <td>1070340832755890</td>\n",
       "      <td>2020-02-02</td>\n",
       "      <td>1029706847423553</td>\n",
       "      <td>1001155606668770</td>\n",
       "      <td>2020-03-15</td>\n",
       "      <td>36986</td>\n",
       "    </tr>\n",
       "    <tr>\n",
       "      <th>29</th>\n",
       "      <td>1079271296469502</td>\n",
       "      <td>2020-07-09</td>\n",
       "      <td>1075820882411561</td>\n",
       "      <td>1057921585234681</td>\n",
       "      <td>2020-08-26</td>\n",
       "      <td>10141</td>\n",
       "    </tr>\n",
       "    <tr>\n",
       "      <th>30</th>\n",
       "      <td>1058458472647698</td>\n",
       "      <td>2020-10-09</td>\n",
       "      <td>1102516018052031</td>\n",
       "      <td>1022123805667001</td>\n",
       "      <td>2020-11-04</td>\n",
       "      <td>28726</td>\n",
       "    </tr>\n",
       "    <tr>\n",
       "      <th>31</th>\n",
       "      <td>1082549487327559</td>\n",
       "      <td>2020-05-13</td>\n",
       "      <td>1110125558656018</td>\n",
       "      <td>1071940382259835</td>\n",
       "      <td>2020-10-26</td>\n",
       "      <td>459</td>\n",
       "    </tr>\n",
       "    <tr>\n",
       "      <th>32</th>\n",
       "      <td>1070639771233054</td>\n",
       "      <td>2020-09-19</td>\n",
       "      <td>1014217100008397</td>\n",
       "      <td>1011437448446609</td>\n",
       "      <td>2020-04-12</td>\n",
       "      <td>70762</td>\n",
       "    </tr>\n",
       "    <tr>\n",
       "      <th>33</th>\n",
       "      <td>1054833935159968</td>\n",
       "      <td>2021-01-09</td>\n",
       "      <td>1003148745485144</td>\n",
       "      <td>1019532453218097</td>\n",
       "      <td>2020-01-06</td>\n",
       "      <td>43987</td>\n",
       "    </tr>\n",
       "    <tr>\n",
       "      <th>34</th>\n",
       "      <td>1054833935159968</td>\n",
       "      <td>2020-06-27</td>\n",
       "      <td>1007966279108308</td>\n",
       "      <td>1092005977950168</td>\n",
       "      <td>2020-02-19</td>\n",
       "      <td>50633</td>\n",
       "    </tr>\n",
       "    <tr>\n",
       "      <th>35</th>\n",
       "      <td>1068617439624400</td>\n",
       "      <td>2020-06-23</td>\n",
       "      <td>1055970040922182</td>\n",
       "      <td>1073290359634665</td>\n",
       "      <td>2020-07-04</td>\n",
       "      <td>65184</td>\n",
       "    </tr>\n",
       "    <tr>\n",
       "      <th>36</th>\n",
       "      <td>1085864929927123</td>\n",
       "      <td>2020-04-15</td>\n",
       "      <td>1040892379023789</td>\n",
       "      <td>1005911719818303</td>\n",
       "      <td>2020-07-21</td>\n",
       "      <td>1876</td>\n",
       "    </tr>\n",
       "    <tr>\n",
       "      <th>37</th>\n",
       "      <td>1079589781829232</td>\n",
       "      <td>2020-09-01</td>\n",
       "      <td>1067598676087352</td>\n",
       "      <td>1091056515838963</td>\n",
       "      <td>2020-03-10</td>\n",
       "      <td>2697</td>\n",
       "    </tr>\n",
       "    <tr>\n",
       "      <th>38</th>\n",
       "      <td>1105962505785938</td>\n",
       "      <td>2020-01-18</td>\n",
       "      <td>1067598676087352</td>\n",
       "      <td>1003484858763905</td>\n",
       "      <td>2020-12-06</td>\n",
       "      <td>7933</td>\n",
       "    </tr>\n",
       "    <tr>\n",
       "      <th>39</th>\n",
       "      <td>1067598676087352</td>\n",
       "      <td>2020-12-11</td>\n",
       "      <td>1107593045398036</td>\n",
       "      <td>1027392144401383</td>\n",
       "      <td>2020-08-12</td>\n",
       "      <td>27771</td>\n",
       "    </tr>\n",
       "    <tr>\n",
       "      <th>40</th>\n",
       "      <td>1036813970475766</td>\n",
       "      <td>2020-10-10</td>\n",
       "      <td>1039093834731484</td>\n",
       "      <td>1075454560036366</td>\n",
       "      <td>2021-03-16</td>\n",
       "      <td>47064</td>\n",
       "    </tr>\n",
       "    <tr>\n",
       "      <th>41</th>\n",
       "      <td>1075820882411561</td>\n",
       "      <td>2020-09-15</td>\n",
       "      <td>1003148745485144</td>\n",
       "      <td>1006079311330960</td>\n",
       "      <td>2020-12-29</td>\n",
       "      <td>64381</td>\n",
       "    </tr>\n",
       "    <tr>\n",
       "      <th>42</th>\n",
       "      <td>1110654702553345</td>\n",
       "      <td>2020-04-02</td>\n",
       "      <td>1039093834731484</td>\n",
       "      <td>1060623453043162</td>\n",
       "      <td>2021-01-18</td>\n",
       "      <td>35239</td>\n",
       "    </tr>\n",
       "    <tr>\n",
       "      <th>43</th>\n",
       "      <td>1084507996980791</td>\n",
       "      <td>2021-02-27</td>\n",
       "      <td>1110125558656018</td>\n",
       "      <td>1102863661187141</td>\n",
       "      <td>2020-11-19</td>\n",
       "      <td>62425</td>\n",
       "    </tr>\n",
       "    <tr>\n",
       "      <th>44</th>\n",
       "      <td>1054833935159968</td>\n",
       "      <td>2020-05-28</td>\n",
       "      <td>1023332658544169</td>\n",
       "      <td>1002832198091049</td>\n",
       "      <td>2020-09-22</td>\n",
       "      <td>58528</td>\n",
       "    </tr>\n",
       "    <tr>\n",
       "      <th>45</th>\n",
       "      <td>1049684743824984</td>\n",
       "      <td>2020-02-27</td>\n",
       "      <td>1023332658544169</td>\n",
       "      <td>1034735103424451</td>\n",
       "      <td>2020-02-16</td>\n",
       "      <td>34236</td>\n",
       "    </tr>\n",
       "    <tr>\n",
       "      <th>46</th>\n",
       "      <td>1002804011600756</td>\n",
       "      <td>2020-11-20</td>\n",
       "      <td>1055970040922182</td>\n",
       "      <td>1077930940178503</td>\n",
       "      <td>2020-06-08</td>\n",
       "      <td>15311</td>\n",
       "    </tr>\n",
       "    <tr>\n",
       "      <th>47</th>\n",
       "      <td>1025615326966060</td>\n",
       "      <td>2020-08-18</td>\n",
       "      <td>1080584749485331</td>\n",
       "      <td>1101253167412788</td>\n",
       "      <td>2020-08-26</td>\n",
       "      <td>64381</td>\n",
       "    </tr>\n",
       "    <tr>\n",
       "      <th>48</th>\n",
       "      <td>1059301695582106</td>\n",
       "      <td>2020-01-24</td>\n",
       "      <td>1090165543626765</td>\n",
       "      <td>1040090440390899</td>\n",
       "      <td>2021-03-21</td>\n",
       "      <td>62901</td>\n",
       "    </tr>\n",
       "    <tr>\n",
       "      <th>49</th>\n",
       "      <td>1059301695582106</td>\n",
       "      <td>2020-11-12</td>\n",
       "      <td>1092854205714718</td>\n",
       "      <td>1026946345810752</td>\n",
       "      <td>2020-03-30</td>\n",
       "      <td>48213</td>\n",
       "    </tr>\n",
       "  </tbody>\n",
       "</table>\n",
       "</div>\n",
       "      <button class=\"colab-df-convert\" onclick=\"convertToInteractive('df-7ebc8af8-3d18-4dcc-a2f7-99a788dd6601')\"\n",
       "              title=\"Convert this dataframe to an interactive table.\"\n",
       "              style=\"display:none;\">\n",
       "        \n",
       "  <svg xmlns=\"http://www.w3.org/2000/svg\" height=\"24px\"viewBox=\"0 0 24 24\"\n",
       "       width=\"24px\">\n",
       "    <path d=\"M0 0h24v24H0V0z\" fill=\"none\"/>\n",
       "    <path d=\"M18.56 5.44l.94 2.06.94-2.06 2.06-.94-2.06-.94-.94-2.06-.94 2.06-2.06.94zm-11 1L8.5 8.5l.94-2.06 2.06-.94-2.06-.94L8.5 2.5l-.94 2.06-2.06.94zm10 10l.94 2.06.94-2.06 2.06-.94-2.06-.94-.94-2.06-.94 2.06-2.06.94z\"/><path d=\"M17.41 7.96l-1.37-1.37c-.4-.4-.92-.59-1.43-.59-.52 0-1.04.2-1.43.59L10.3 9.45l-7.72 7.72c-.78.78-.78 2.05 0 2.83L4 21.41c.39.39.9.59 1.41.59.51 0 1.02-.2 1.41-.59l7.78-7.78 2.81-2.81c.8-.78.8-2.07 0-2.86zM5.41 20L4 18.59l7.72-7.72 1.47 1.35L5.41 20z\"/>\n",
       "  </svg>\n",
       "      </button>\n",
       "      \n",
       "  <style>\n",
       "    .colab-df-container {\n",
       "      display:flex;\n",
       "      flex-wrap:wrap;\n",
       "      gap: 12px;\n",
       "    }\n",
       "\n",
       "    .colab-df-convert {\n",
       "      background-color: #E8F0FE;\n",
       "      border: none;\n",
       "      border-radius: 50%;\n",
       "      cursor: pointer;\n",
       "      display: none;\n",
       "      fill: #1967D2;\n",
       "      height: 32px;\n",
       "      padding: 0 0 0 0;\n",
       "      width: 32px;\n",
       "    }\n",
       "\n",
       "    .colab-df-convert:hover {\n",
       "      background-color: #E2EBFA;\n",
       "      box-shadow: 0px 1px 2px rgba(60, 64, 67, 0.3), 0px 1px 3px 1px rgba(60, 64, 67, 0.15);\n",
       "      fill: #174EA6;\n",
       "    }\n",
       "\n",
       "    [theme=dark] .colab-df-convert {\n",
       "      background-color: #3B4455;\n",
       "      fill: #D2E3FC;\n",
       "    }\n",
       "\n",
       "    [theme=dark] .colab-df-convert:hover {\n",
       "      background-color: #434B5C;\n",
       "      box-shadow: 0px 1px 3px 1px rgba(0, 0, 0, 0.15);\n",
       "      filter: drop-shadow(0px 1px 2px rgba(0, 0, 0, 0.3));\n",
       "      fill: #FFFFFF;\n",
       "    }\n",
       "  </style>\n",
       "\n",
       "      <script>\n",
       "        const buttonEl =\n",
       "          document.querySelector('#df-7ebc8af8-3d18-4dcc-a2f7-99a788dd6601 button.colab-df-convert');\n",
       "        buttonEl.style.display =\n",
       "          google.colab.kernel.accessAllowed ? 'block' : 'none';\n",
       "\n",
       "        async function convertToInteractive(key) {\n",
       "          const element = document.querySelector('#df-7ebc8af8-3d18-4dcc-a2f7-99a788dd6601');\n",
       "          const dataTable =\n",
       "            await google.colab.kernel.invokeFunction('convertToInteractive',\n",
       "                                                     [key], {});\n",
       "          if (!dataTable) return;\n",
       "\n",
       "          const docLinkHtml = 'Like what you see? Visit the ' +\n",
       "            '<a target=\"_blank\" href=https://colab.research.google.com/notebooks/data_table.ipynb>data table notebook</a>'\n",
       "            + ' to learn more about interactive tables.';\n",
       "          element.innerHTML = '';\n",
       "          dataTable['output_type'] = 'display_data';\n",
       "          await google.colab.output.renderOutput(dataTable, element);\n",
       "          const docLink = document.createElement('div');\n",
       "          docLink.innerHTML = docLinkHtml;\n",
       "          element.appendChild(docLink);\n",
       "        }\n",
       "      </script>\n",
       "    </div>\n",
       "  </div>\n",
       "  "
      ],
      "text/plain": [
       "                 Acc      dates         accountId        cardNumber  \\\n",
       "0   1067598676087352 2020-09-10  1025615326966060  1058800362847787   \n",
       "1   1068617439624400 2020-11-20  1025615326966060  1029705418456659   \n",
       "2   1040709398052014 2020-07-07  1081794524678825  1039664751375175   \n",
       "3   1065124359547665 2020-04-06  1075820882411561  1002738693038927   \n",
       "4   1040892379023789 2021-01-07  1085864929927123  1052624628145579   \n",
       "5   1016111475041355 2020-02-18  1028531210828742  1001274584875124   \n",
       "6   1067598676087352 2020-12-13  1039093834731484  1013098209198973   \n",
       "7   1079271296469502 2020-10-07  1055970040922182  1061416505077620   \n",
       "8   1079271296469502 2020-01-15  1054833935159968  1025173798721578   \n",
       "9   1014217100008397 2020-06-04  1025615326966060  1042636053112457   \n",
       "10  1023332658544169 2020-09-30  1108640557611791  1057948243657401   \n",
       "11  1040709398052014 2020-09-29  1005519661008787  1065679730874334   \n",
       "12  1085864929927123 2021-01-02  1065124359547665  1059800961794283   \n",
       "13  1016111475041355 2020-04-25  1081794524678825  1075650575477516   \n",
       "14  1049684743824984 2020-07-23  1027256123677014  1089305878812906   \n",
       "15  1075820882411561 2021-01-18  1059301695582106  1051024182602935   \n",
       "16  1065124359547665 2020-10-25  1016111475041355  1062687093339870   \n",
       "17  1102516018052031 2020-04-22  1084507996980791  1091814500458769   \n",
       "18  1110654702553345 2020-11-10  1107593045398036  1080505175633712   \n",
       "19  1090165543626765 2020-09-28  1051880161265727  1025836993329391   \n",
       "20  1040892379023789 2021-01-26  1014588055166581  1029734086583348   \n",
       "21  1029706847423553 2020-07-07  1087832919517606  1100168878132414   \n",
       "22  1025615326966060 2020-03-05  1105962505785938  1095660503290324   \n",
       "23  1081794524678825 2020-04-28  1065124359547665  1097947881777625   \n",
       "24  1084507996980791 2020-01-17  1107593045398036  1029449234334434   \n",
       "25  1049949414058110 2020-01-28  1080584749485331  1013883197190899   \n",
       "26  1007607074063246 2020-05-01  1110125558656018  1080825888743691   \n",
       "27  1070340832755890 2020-11-03  1025615326966060  1083226143080418   \n",
       "28  1070340832755890 2020-02-02  1029706847423553  1001155606668770   \n",
       "29  1079271296469502 2020-07-09  1075820882411561  1057921585234681   \n",
       "30  1058458472647698 2020-10-09  1102516018052031  1022123805667001   \n",
       "31  1082549487327559 2020-05-13  1110125558656018  1071940382259835   \n",
       "32  1070639771233054 2020-09-19  1014217100008397  1011437448446609   \n",
       "33  1054833935159968 2021-01-09  1003148745485144  1019532453218097   \n",
       "34  1054833935159968 2020-06-27  1007966279108308  1092005977950168   \n",
       "35  1068617439624400 2020-06-23  1055970040922182  1073290359634665   \n",
       "36  1085864929927123 2020-04-15  1040892379023789  1005911719818303   \n",
       "37  1079589781829232 2020-09-01  1067598676087352  1091056515838963   \n",
       "38  1105962505785938 2020-01-18  1067598676087352  1003484858763905   \n",
       "39  1067598676087352 2020-12-11  1107593045398036  1027392144401383   \n",
       "40  1036813970475766 2020-10-10  1039093834731484  1075454560036366   \n",
       "41  1075820882411561 2020-09-15  1003148745485144  1006079311330960   \n",
       "42  1110654702553345 2020-04-02  1039093834731484  1060623453043162   \n",
       "43  1084507996980791 2021-02-27  1110125558656018  1102863661187141   \n",
       "44  1054833935159968 2020-05-28  1023332658544169  1002832198091049   \n",
       "45  1049684743824984 2020-02-27  1023332658544169  1034735103424451   \n",
       "46  1002804011600756 2020-11-20  1055970040922182  1077930940178503   \n",
       "47  1025615326966060 2020-08-18  1080584749485331  1101253167412788   \n",
       "48  1059301695582106 2020-01-24  1090165543626765  1040090440390899   \n",
       "49  1059301695582106 2020-11-12  1092854205714718  1026946345810752   \n",
       "\n",
       "   ActivationDate  Income  \n",
       "0      2020-02-19   65040  \n",
       "1      2020-07-29    4322  \n",
       "2      2020-01-18   46445  \n",
       "3      2020-01-22   53029  \n",
       "4      2020-08-04   18565  \n",
       "5      2021-01-29    4674  \n",
       "6      2020-01-11      36  \n",
       "7      2020-11-17   38781  \n",
       "8      2020-02-23    2618  \n",
       "9      2020-09-16   42929  \n",
       "10     2020-08-09   62545  \n",
       "11     2021-01-30   38241  \n",
       "12     2020-11-03    2149  \n",
       "13     2020-07-28   61338  \n",
       "14     2020-07-18   69677  \n",
       "15     2020-09-06   68654  \n",
       "16     2020-08-03   42929  \n",
       "17     2020-07-18    -182  \n",
       "18     2020-01-09   53019  \n",
       "19     2020-01-14   54978  \n",
       "20     2020-12-10    3975  \n",
       "21     2021-03-07   63973  \n",
       "22     2020-05-31   19720  \n",
       "23     2020-02-26    4811  \n",
       "24     2020-03-02   27720  \n",
       "25     2020-05-15   36123  \n",
       "26     2020-10-02   43552  \n",
       "27     2020-05-19   54644  \n",
       "28     2020-03-15   36986  \n",
       "29     2020-08-26   10141  \n",
       "30     2020-11-04   28726  \n",
       "31     2020-10-26     459  \n",
       "32     2020-04-12   70762  \n",
       "33     2020-01-06   43987  \n",
       "34     2020-02-19   50633  \n",
       "35     2020-07-04   65184  \n",
       "36     2020-07-21    1876  \n",
       "37     2020-03-10    2697  \n",
       "38     2020-12-06    7933  \n",
       "39     2020-08-12   27771  \n",
       "40     2021-03-16   47064  \n",
       "41     2020-12-29   64381  \n",
       "42     2021-01-18   35239  \n",
       "43     2020-11-19   62425  \n",
       "44     2020-09-22   58528  \n",
       "45     2020-02-16   34236  \n",
       "46     2020-06-08   15311  \n",
       "47     2020-08-26   64381  \n",
       "48     2021-03-21   62901  \n",
       "49     2020-03-30   48213  "
      ]
     },
     "execution_count": 24,
     "metadata": {},
     "output_type": "execute_result"
    }
   ],
   "source": [
    "dftest"
   ]
  },
  {
   "cell_type": "code",
   "execution_count": null,
   "metadata": {
    "id": "bCZQcfs65jMH"
   },
   "outputs": [],
   "source": [
    "name = ('Naomi','Christine','Chris','Andile','Siphiwe','Mpho','Itumeleng','Thandanani','Lesego','Luthando','Lebogang','Charmaine','Teballo','Lauren',\n",
    "        'Lynn','Tebogo','Trevor','Wayne','Paballo','Mark','Nicollette','Angela','Nick','Ben','Warren','Fransisco','Charlotte','Lisette','Annelise',\n",
    "        'Mariska','Ettiene','Martinus','Jacqueline','Usman','Aisha','Maryam','Yakubu','Taiwo','Emeka','Halima','Ifeoma','Kehinde','Chinyere','Chioma',\n",
    "        'Wanjiru','Mwangi','Odhiambo','Ochieng','William','Ahmed','Onyango','Felo','Nneka','Abdullahi','Amina','Kemunto','Wambui','Njoroge','Wanjiku',\n",
    "        'Monica','Lawrence','Caleb','Denise','Dennis','Raphael')\n",
    "surname = ('Wilson','Barnes','van der Linde','Tomlin','Hemmingway','Horton','Bleecher','Skosana','Ngwenya','Ngcobo','Mothapo','Letsoalo',\n",
    "           'Kubeka','Dlamini','Sedumedi','Hobbs','Motsepe','Zulu','Van Rooyen','Williams','Pieterson','Moloi','Wu','Vos','De Villiers',\n",
    "           'De Vos','Viljoen','van den Berg','Otieno','Mohamed','Mwangi','Odhiambo','Maina','Ochieng','Ali','Onyango','Juma','Wambui','Njeri',\n",
    "           'Kariuki','Akinyi','Achieng','Muthoni','Kimani','Adhiambo','Njuguna','Macharia','Barasa','Cheruiyot','Ibrahim','Musa','Abubakar',\n",
    "           'Isah','Yakubu','Aminu','Yahaya','Shehu','Okafor','Okeke','Adebayo','Okoro','Okon','Chukwu','Nwachukwu','Nwankwo','Okoye','Ogbonna',\n",
    "           'Adeyemi','Yunusa','Balogun','Nwafor','Effiong','Amadu','Sanusi','Anyanwu','Danjuma','Ohakwu','Opara','Taiwo','Onuoha','Babatunde') \n",
    "# cellnumber = ()\n",
    "password = ('1','2','3','4','5','6','7','8','9','0','!@#$%^&*()_+><,.;=','aqwsxcderfvbgtyhnmjyukliop')\n",
    "address = ('1234567890!@#$%^&*()_+><,.;=aqwsxcderfvbgtyhnmjyukliop')\n",
    "domain = ('@yahoo.com','@gmail.com','@outlook.com','@icloud.com')\n",
    "# area=('Kibler Park','Rispark','Mayfield park','Aspen Hills nature-estate','Glenvista','Oakdene','Raceview','New Redruth',\n",
    "# 'Verwoerdpark','Hazel Park','Abmarie','Winford','Tedderfield','Mulbarton','Liefde en vrede','Kenilworth','Roodekop','Palm Ridge',\n",
    "# 'Albertsdal','Mayberry Park','Southfork','General Alberspark','Mimosa Park','Florentia','Eye of Africa','Elsiehof','Duduza',\n",
    "# 'Olifantsvlei','South Hills','Welfare Park','Forest hill','Haddon','Towerby','Pennylane','Alrode','Rosettenville','Kwa-Thema',\n",
    "# 'Union','Roxton','Townsview','Linmeyer','South Crest','Elandspark','Tulisa Park','Steeledale','The Hill','Parkhill Gardens',\n",
    "# 'Electron','Randhart','Elandsfontien','Albemarie','Alberante','Moffat veiw','Roseacre','Klipriversberg','Regents Park Estate')\n",
    "province=('Gauteng','Free State')\n"
   ]
  },
  {
   "cell_type": "code",
   "execution_count": null,
   "metadata": {
    "id": "L7fC1QU25nX1"
   },
   "outputs": [],
   "source": [
    "retail=(\n",
    "    'Chelino Baby', 'Cardies', 'CNA', 'CUM Books','Exclusive Books','Musica','Cell C','Gadget Candy',\n",
    "    'MTN','Samsung','Vodacom 4U','weFix','Accessorize','Converse','Earthchild','GenX','Guess Kids',\n",
    "    'Hugo Boss','Keedo','Kids Emporium','Naartjie Clothing','Dion Wired','hp store','Incredible Connection',\n",
    "    'Da Vinci Ice Cream','Haagen-Dazs','Krispy Kreme','Lindt','Milky Lane','Sweets From Heaven','Bean Tree',\n",
    "    'Biltong Box','Bread Ahead','Burger King','Chicken Licken','Cinnabon','Debonairs','Fish Aways','Hero Pies',\n",
    "    'Hot Dog Café','Kauai','KFC','McDonalds','Mi-Vama','My Diners Express','Romans Pizza','Sausage Saloon',\n",
    "    'Steers','The Flaming Teppan & Tandoor','Wrap it up Cafe','Babies R Us','Edgars','Game','Hub','Verimark',\n",
    "    'Woolworths','Action Bowling','Action Karting','be.UP Park','Dodgems Cars','Electric Avenue','Galaxy Bingo',\n",
    "    'Mr Funtubbles','S.O.C.A  Sport on Court','Snow Wonderland','Ster-Kinekor','XD Theatre Dark Ride','Nu Metro',\n",
    "    'Execuspecs','Specsavers','Sunglass Hut','Aca Joe','Ackermans','Armani Exchange','Bogart Man','Cotton On',\n",
    "    'Country Road','Diesel Emporium','Exact','Donna','Fabiani','Factorie','Fashion Fusion','Forever New','Foschini',\n",
    "    'Guess','H&M','Hilton Weiner','Identity','Jet','John Craig','Kingsmead Shoes','Lacoste','Legit','Levis',\n",
    "    'Miladys','Mr Price Apparell','Old Khaki','Pick n Pay Clothing','Poetry','Polo','Pringle of Scotland','PUMA',\n",
    "    'Queenspark','Refinery','Replay','Rockport','Sissy Boy','Soviet','Superdry','Tommy Hilfiger','Truworths','YDE',\n",
    "    'Uzzi','Vans','Zara','Typo','Zoggy’s Tabacconist Store','Aldo','Brazilia Designer Shoe Outlet','Crocs',\n",
    "    'Europa Art','Green Cross','Havaianas','Shoe City','Skechers','Shoeperama','Spitz','Steve Madden','Superga',\n",
    "    'Topshelf','Tread + Miller','Boardmans','Essops Home','Home Etc.','Hyper House & Home','Mr Price Home',\n",
    "    'Rugs Original','Sheet Street','Virgin Active','Sports and Fitness Centre','S.W.E.A.T','Arthur Ford','Clicks',\n",
    "    'Calypso Hair & Beauty','Dis-Chem','Gerald Wells','Kryolan','LOccitane','Red Square','Dream Nails','Sorbet',\n",
    "    'The Body Shop','The Original Barber','XTreme Nutrition','DNA Therapy','Fragrance Boutique','M.A.C',\n",
    "    'Road Lodge Hotel','Holiday Inn','Afrokwazi','American Swiss','Arthur Kaplan','Bellagio','Browns The Diamond Store',\n",
    "    'Fossil','Golden Jewellers','Guess Accessories','Lovisa','Mont Blanc','NWJ','Sterns','Swarovski','Swatch',\n",
    "    'Tag Heuer','Adega','Barcelos Flame Grilled Chicken','Burger Rack','Cacao Chocolate Bar','Calistos',\n",
    "    'Cape Town Fish Market','Chateau Gateaux Patisserie','Colcacchio','Cuba Lounge','Cubana','Dros Family Restaurant',\n",
    "    'Galitos','Jimmys Killer Prawns','John Dorys','Mimmos','Mochachos','Mugg & Bean','Nandos','Panarottis',\n",
    "    'Primi','RocoMamas','Simply Asia','Starbucks','Tashas','Wimpy','Xpresso','Absolute Pets','Auto Car Express',\n",
    "    'Cobblers Heel & Key','Security Hyperstore','Fidelity ADT','National Security','Blades & Triggers',\n",
    "    'Cajees','Cool Collectables','Electric Eye Tattoos','Elna Home Products','Game Liquor','Pick n Pay Liquor',\n",
    "    'Rare Earth Crystals','Nespresso','Spice Emporium','Reach for A dream Foundation','The Crazy Store','The Scoin Shop',\n",
    "    'The Vape Shop','Twisp','Cape Union Mart','Crossover','Le Coq Sportif','Mr Price Sport','Quicksilver','Sportscene',\n",
    "    'Sportsmans Warehouse','The Cross Trainer','Totalsports','Under Armour','Checkers Hyper','Superspar','Tops Liquors',\n",
    "    'Pick n Pay','Flight Centre','Pentravel','Metrobus','Putco','Wonga','Cash Crusaders Pay Day Advance','Addide Supermarket',\n",
    "    'Ajayi Supermarkets','Best Choice Supermarket','Bimta Supermarkets','Genesis Supermarkets','Homebiz Supermarkets',\n",
    "    'Jara Superstore','Prince Ebeano Supermarkets','TwinsFaja Supermarkets','Wetin dey Stores','Blenco supermarkets',\n",
    "    \"Chanrai's Supermarket & Departmental Store\",'Eastmatt Supermarkets','Maathai Supermarkets',\"Khetia's Supermarkets\",\n",
    "    'Naivas Limited','Mobius Motors','Uchumi Supermarkets','Rea Vipingo Sisal Estate','Lacoste Boutique','De-Paragon Collections',\n",
    "    'Netz','Abari Bamboo Sunglasses','Yesidefashionstore.com','Laredo Super Store','Naijabuynsell','Bakan Gizo Pharmacy & Stores',\n",
    "    'Svengali Designs','Fredwud Advanced Furniture','Meridien View Nigeria','Jovic Furniture','Fedsons Group','Vava Furniture'\n",
    "       )\n",
    "trancat=('POSPurchase','FeesAndInterest','AccountCredit')\n",
    "ttype=('CREDIT', 'DEBIT','REWARDS')\n",
    "area=('Benoni','Boksburg','Brakpan','Carletonville','Germiston','Johannesburg','Krugersdorp','Pretoria','Randburg',\n",
    "'Randfontein','Roodepoort','Soweto','Springs','Vanderbijlpark','Vereeniging','Alexandra','Lenasia','Midrand','Sandton',\n",
    "'Mshengu','Klipfontienview','Orange Farm','Alberton','Germiston','Clayville','Daveyton','Devon','Duduza','Edenvale',\n",
    "'Ennerdale','Impumelelo','Isando','Katlehong','Kempton Park','KwaThema','Nigel','Olifantsfontein','Reiger Park',\n",
    "'Tembisa','Thokoza','Tsakane','Vosloorus','Wattville','Atteridgeville','Bronberg','Bronkhorstspruit','Centurion',\n",
    "'Cullinan','Ekangala','Ga-Rankuwa','Hammanskraal','Irene','Mabopane','Mamelodi','Rayton','Refilwe','Soshanguve',\n",
    "'Zithobeni','Boipatong','Bophelong','Evaton','Sebokeng','Sharpeville','Meyerton','Carletonville','Khutsong',\n",
    "'Fochville','Kokosi','Greenspark','Wedela','Welverdiend','Blybank','Kagiso','Krugersdorp', 'Kabarak Estate',\n",
    "'Lekki','Ojota','Victoria Island','Otukpo','Alagbado','Yaba','Ogba','Asokoro','Nicon Town','Ibara','Kamukunji Estate',\n",
    "'Alimosho','Okota','Gwarrinpa','Ikoyi','Arochukwu','Katagum','Dikwa','Portharcourt','Karen','Langata','Kyuna',\n",
    "'Enugu','Nsukka','Gombe','Kaduna','Emaa','Banana Island Ikoyi','Maitama','Jabi','Alalubosa','Gigiri','Kilimani',\n",
    "'Runda','Kitisuru','Kyuna','Lower Kabete','Kileleshwa','Muthaiga','Gigiri','Bahati Estate','Bamburi Estate',\n",
    "'Mombasa Island','Nakuru','Kisumu','Eldoret','Konza City','Tatu City','Nakuru','Migosi Estate','Milimani Estate',)"
   ]
  },
  {
   "cell_type": "code",
   "execution_count": null,
   "metadata": {
    "colab": {
     "base_uri": "https://localhost:8080/",
     "height": 1000
    },
    "id": "JQbq1XFQqJh5",
    "outputId": "646429b7-dd47-4ad8-b9d9-5f98dae58804"
   },
   "outputs": [
    {
     "data": {
      "text/html": [
       "\n",
       "  <div id=\"df-8043e149-8939-4b82-8df3-9ca48de68441\">\n",
       "    <div class=\"colab-df-container\">\n",
       "      <div>\n",
       "<style scoped>\n",
       "    .dataframe tbody tr th:only-of-type {\n",
       "        vertical-align: middle;\n",
       "    }\n",
       "\n",
       "    .dataframe tbody tr th {\n",
       "        vertical-align: top;\n",
       "    }\n",
       "\n",
       "    .dataframe thead th {\n",
       "        text-align: right;\n",
       "    }\n",
       "</style>\n",
       "<table border=\"1\" class=\"dataframe\">\n",
       "  <thead>\n",
       "    <tr style=\"text-align: right;\">\n",
       "      <th></th>\n",
       "      <th>Name</th>\n",
       "      <th>Surname</th>\n",
       "      <th>City</th>\n",
       "      <th>accountId</th>\n",
       "      <th>cardNumber</th>\n",
       "      <th>ActivationDate</th>\n",
       "      <th>Income</th>\n",
       "    </tr>\n",
       "  </thead>\n",
       "  <tbody>\n",
       "    <tr>\n",
       "      <th>0</th>\n",
       "      <td>Fransisco</td>\n",
       "      <td>Moloi</td>\n",
       "      <td>Jabi</td>\n",
       "      <td>1082549487327559</td>\n",
       "      <td>1100658304827521</td>\n",
       "      <td>2020-09-05</td>\n",
       "      <td>54162</td>\n",
       "    </tr>\n",
       "    <tr>\n",
       "      <th>1</th>\n",
       "      <td>Njoroge</td>\n",
       "      <td>Sedumedi</td>\n",
       "      <td>Meyerton</td>\n",
       "      <td>1089105313261920</td>\n",
       "      <td>1029060900071894</td>\n",
       "      <td>2021-01-30</td>\n",
       "      <td>58243</td>\n",
       "    </tr>\n",
       "    <tr>\n",
       "      <th>2</th>\n",
       "      <td>Monica</td>\n",
       "      <td>Anyanwu</td>\n",
       "      <td>Kabarak Estate</td>\n",
       "      <td>1054833935159968</td>\n",
       "      <td>1037944868692576</td>\n",
       "      <td>2020-08-24</td>\n",
       "      <td>23892</td>\n",
       "    </tr>\n",
       "    <tr>\n",
       "      <th>3</th>\n",
       "      <td>Thandanani</td>\n",
       "      <td>Dlamini</td>\n",
       "      <td>Welverdiend</td>\n",
       "      <td>1007607074063246</td>\n",
       "      <td>1086226454679595</td>\n",
       "      <td>2021-03-05</td>\n",
       "      <td>1903</td>\n",
       "    </tr>\n",
       "    <tr>\n",
       "      <th>4</th>\n",
       "      <td>Lawrence</td>\n",
       "      <td>Njuguna</td>\n",
       "      <td>Fochville</td>\n",
       "      <td>1085864929927123</td>\n",
       "      <td>1101339287348625</td>\n",
       "      <td>2020-01-25</td>\n",
       "      <td>69677</td>\n",
       "    </tr>\n",
       "    <tr>\n",
       "      <th>5</th>\n",
       "      <td>Luthando</td>\n",
       "      <td>Opara</td>\n",
       "      <td>Jabi</td>\n",
       "      <td>1092854205714718</td>\n",
       "      <td>1025140240119969</td>\n",
       "      <td>2020-08-25</td>\n",
       "      <td>2618</td>\n",
       "    </tr>\n",
       "    <tr>\n",
       "      <th>6</th>\n",
       "      <td>Lauren</td>\n",
       "      <td>Macharia</td>\n",
       "      <td>Tsakane</td>\n",
       "      <td>1068617439624400</td>\n",
       "      <td>1025253025758157</td>\n",
       "      <td>2021-03-04</td>\n",
       "      <td>33533</td>\n",
       "    </tr>\n",
       "    <tr>\n",
       "      <th>7</th>\n",
       "      <td>Wanjiku</td>\n",
       "      <td>Cheruiyot</td>\n",
       "      <td>Welverdiend</td>\n",
       "      <td>1102516018052031</td>\n",
       "      <td>1026030797526118</td>\n",
       "      <td>2020-09-06</td>\n",
       "      <td>3104</td>\n",
       "    </tr>\n",
       "    <tr>\n",
       "      <th>8</th>\n",
       "      <td>Caleb</td>\n",
       "      <td>Ngcobo</td>\n",
       "      <td>Orange Farm</td>\n",
       "      <td>1079271296469502</td>\n",
       "      <td>1014185979774596</td>\n",
       "      <td>2020-08-11</td>\n",
       "      <td>48314</td>\n",
       "    </tr>\n",
       "    <tr>\n",
       "      <th>9</th>\n",
       "      <td>Martinus</td>\n",
       "      <td>van der Linde</td>\n",
       "      <td>Blybank</td>\n",
       "      <td>1003148745485144</td>\n",
       "      <td>1008651820112292</td>\n",
       "      <td>2020-09-06</td>\n",
       "      <td>4603</td>\n",
       "    </tr>\n",
       "    <tr>\n",
       "      <th>10</th>\n",
       "      <td>Mariska</td>\n",
       "      <td>Achieng</td>\n",
       "      <td>Thokoza</td>\n",
       "      <td>1016111475041355</td>\n",
       "      <td>1083973982543573</td>\n",
       "      <td>2021-01-26</td>\n",
       "      <td>58528</td>\n",
       "    </tr>\n",
       "    <tr>\n",
       "      <th>11</th>\n",
       "      <td>Thandanani</td>\n",
       "      <td>Babatunde</td>\n",
       "      <td>Konza City</td>\n",
       "      <td>1080584749485331</td>\n",
       "      <td>1039824304519430</td>\n",
       "      <td>2020-08-25</td>\n",
       "      <td>69677</td>\n",
       "    </tr>\n",
       "    <tr>\n",
       "      <th>12</th>\n",
       "      <td>Chinyere</td>\n",
       "      <td>Williams</td>\n",
       "      <td>Katlehong</td>\n",
       "      <td>1068617439624400</td>\n",
       "      <td>1011761719773835</td>\n",
       "      <td>2020-01-17</td>\n",
       "      <td>44273</td>\n",
       "    </tr>\n",
       "    <tr>\n",
       "      <th>13</th>\n",
       "      <td>Nicollette</td>\n",
       "      <td>Kimani</td>\n",
       "      <td>Wattville</td>\n",
       "      <td>1070639771233054</td>\n",
       "      <td>1016632529370204</td>\n",
       "      <td>2020-05-21</td>\n",
       "      <td>41912</td>\n",
       "    </tr>\n",
       "    <tr>\n",
       "      <th>14</th>\n",
       "      <td>Yakubu</td>\n",
       "      <td>Nwafor</td>\n",
       "      <td>Enugu</td>\n",
       "      <td>1025615326966060</td>\n",
       "      <td>1074072561403899</td>\n",
       "      <td>2020-02-19</td>\n",
       "      <td>28303</td>\n",
       "    </tr>\n",
       "    <tr>\n",
       "      <th>15</th>\n",
       "      <td>William</td>\n",
       "      <td>De Villiers</td>\n",
       "      <td>Ibara</td>\n",
       "      <td>1054833935159968</td>\n",
       "      <td>1095987763226551</td>\n",
       "      <td>2020-04-23</td>\n",
       "      <td>39760</td>\n",
       "    </tr>\n",
       "    <tr>\n",
       "      <th>16</th>\n",
       "      <td>Tebogo</td>\n",
       "      <td>Barnes</td>\n",
       "      <td>Irene</td>\n",
       "      <td>1040709398052014</td>\n",
       "      <td>1057525364600814</td>\n",
       "      <td>2020-04-26</td>\n",
       "      <td>59216</td>\n",
       "    </tr>\n",
       "    <tr>\n",
       "      <th>17</th>\n",
       "      <td>Martinus</td>\n",
       "      <td>Vos</td>\n",
       "      <td>Kitisuru</td>\n",
       "      <td>1085864929927123</td>\n",
       "      <td>1029625492810787</td>\n",
       "      <td>2020-02-12</td>\n",
       "      <td>62511</td>\n",
       "    </tr>\n",
       "    <tr>\n",
       "      <th>18</th>\n",
       "      <td>Caleb</td>\n",
       "      <td>Nwankwo</td>\n",
       "      <td>Mombasa Island</td>\n",
       "      <td>1079271296469502</td>\n",
       "      <td>1059371307652220</td>\n",
       "      <td>2020-08-29</td>\n",
       "      <td>66260</td>\n",
       "    </tr>\n",
       "    <tr>\n",
       "      <th>19</th>\n",
       "      <td>Taiwo</td>\n",
       "      <td>Njuguna</td>\n",
       "      <td>Duduza</td>\n",
       "      <td>1105962505785938</td>\n",
       "      <td>1077902911937331</td>\n",
       "      <td>2020-08-27</td>\n",
       "      <td>16535</td>\n",
       "    </tr>\n",
       "    <tr>\n",
       "      <th>20</th>\n",
       "      <td>Luthando</td>\n",
       "      <td>Williams</td>\n",
       "      <td>Carletonville</td>\n",
       "      <td>1108640557611791</td>\n",
       "      <td>1078818361770458</td>\n",
       "      <td>2020-01-20</td>\n",
       "      <td>9723</td>\n",
       "    </tr>\n",
       "    <tr>\n",
       "      <th>21</th>\n",
       "      <td>Felo</td>\n",
       "      <td>Williams</td>\n",
       "      <td>Gigiri</td>\n",
       "      <td>1082549487327559</td>\n",
       "      <td>1044219919699284</td>\n",
       "      <td>2021-03-18</td>\n",
       "      <td>28726</td>\n",
       "    </tr>\n",
       "    <tr>\n",
       "      <th>22</th>\n",
       "      <td>Jacqueline</td>\n",
       "      <td>Vos</td>\n",
       "      <td>Victoria Island</td>\n",
       "      <td>1051880161265727</td>\n",
       "      <td>1013516213764010</td>\n",
       "      <td>2020-11-04</td>\n",
       "      <td>6896</td>\n",
       "    </tr>\n",
       "    <tr>\n",
       "      <th>23</th>\n",
       "      <td>Angela</td>\n",
       "      <td>Njuguna</td>\n",
       "      <td>Mamelodi</td>\n",
       "      <td>1027256123677014</td>\n",
       "      <td>1088359626128518</td>\n",
       "      <td>2020-09-09</td>\n",
       "      <td>28120</td>\n",
       "    </tr>\n",
       "    <tr>\n",
       "      <th>24</th>\n",
       "      <td>Usman</td>\n",
       "      <td>Onuoha</td>\n",
       "      <td>Lekki</td>\n",
       "      <td>1080584749485331</td>\n",
       "      <td>1040198217411296</td>\n",
       "      <td>2021-01-07</td>\n",
       "      <td>67608</td>\n",
       "    </tr>\n",
       "    <tr>\n",
       "      <th>25</th>\n",
       "      <td>Aisha</td>\n",
       "      <td>Odhiambo</td>\n",
       "      <td>Randburg</td>\n",
       "      <td>1079589781829232</td>\n",
       "      <td>1074432125237035</td>\n",
       "      <td>2020-07-04</td>\n",
       "      <td>50633</td>\n",
       "    </tr>\n",
       "    <tr>\n",
       "      <th>26</th>\n",
       "      <td>Taiwo</td>\n",
       "      <td>Kariuki</td>\n",
       "      <td>Nicon Town</td>\n",
       "      <td>1110125558656018</td>\n",
       "      <td>1065140214825611</td>\n",
       "      <td>2021-03-22</td>\n",
       "      <td>18053</td>\n",
       "    </tr>\n",
       "    <tr>\n",
       "      <th>27</th>\n",
       "      <td>Angela</td>\n",
       "      <td>Nwachukwu</td>\n",
       "      <td>Clayville</td>\n",
       "      <td>1006429553997749</td>\n",
       "      <td>1071648867435194</td>\n",
       "      <td>2020-07-11</td>\n",
       "      <td>40964</td>\n",
       "    </tr>\n",
       "    <tr>\n",
       "      <th>28</th>\n",
       "      <td>Mark</td>\n",
       "      <td>Ibrahim</td>\n",
       "      <td>Portharcourt</td>\n",
       "      <td>1087832919517606</td>\n",
       "      <td>1109935031518595</td>\n",
       "      <td>2020-02-23</td>\n",
       "      <td>47281</td>\n",
       "    </tr>\n",
       "    <tr>\n",
       "      <th>29</th>\n",
       "      <td>Wayne</td>\n",
       "      <td>Nwankwo</td>\n",
       "      <td>Fochville</td>\n",
       "      <td>1036813970475766</td>\n",
       "      <td>1035802720452537</td>\n",
       "      <td>2020-12-11</td>\n",
       "      <td>38161</td>\n",
       "    </tr>\n",
       "    <tr>\n",
       "      <th>30</th>\n",
       "      <td>Caleb</td>\n",
       "      <td>Sedumedi</td>\n",
       "      <td>Kileleshwa</td>\n",
       "      <td>1054833935159968</td>\n",
       "      <td>1057971598580862</td>\n",
       "      <td>2020-11-29</td>\n",
       "      <td>64381</td>\n",
       "    </tr>\n",
       "    <tr>\n",
       "      <th>31</th>\n",
       "      <td>Maryam</td>\n",
       "      <td>Nwachukwu</td>\n",
       "      <td>Alimosho</td>\n",
       "      <td>1055970040922182</td>\n",
       "      <td>1074349745722534</td>\n",
       "      <td>2020-06-24</td>\n",
       "      <td>70989</td>\n",
       "    </tr>\n",
       "    <tr>\n",
       "      <th>32</th>\n",
       "      <td>Lebogang</td>\n",
       "      <td>Motsepe</td>\n",
       "      <td>Gigiri</td>\n",
       "      <td>1110125558656018</td>\n",
       "      <td>1021921301861162</td>\n",
       "      <td>2020-07-18</td>\n",
       "      <td>19223</td>\n",
       "    </tr>\n",
       "    <tr>\n",
       "      <th>33</th>\n",
       "      <td>Thandanani</td>\n",
       "      <td>Horton</td>\n",
       "      <td>Kitisuru</td>\n",
       "      <td>1082549487327559</td>\n",
       "      <td>1013961524498842</td>\n",
       "      <td>2020-10-22</td>\n",
       "      <td>69191</td>\n",
       "    </tr>\n",
       "    <tr>\n",
       "      <th>34</th>\n",
       "      <td>Thandanani</td>\n",
       "      <td>Yahaya</td>\n",
       "      <td>Evaton</td>\n",
       "      <td>1054833935159968</td>\n",
       "      <td>1035821274649401</td>\n",
       "      <td>2021-01-01</td>\n",
       "      <td>36986</td>\n",
       "    </tr>\n",
       "    <tr>\n",
       "      <th>35</th>\n",
       "      <td>Denise</td>\n",
       "      <td>Ngcobo</td>\n",
       "      <td>Devon</td>\n",
       "      <td>1082549487327559</td>\n",
       "      <td>1034392910294656</td>\n",
       "      <td>2020-08-16</td>\n",
       "      <td>9891</td>\n",
       "    </tr>\n",
       "    <tr>\n",
       "      <th>36</th>\n",
       "      <td>Fransisco</td>\n",
       "      <td>Otieno</td>\n",
       "      <td>Bophelong</td>\n",
       "      <td>1014217100008397</td>\n",
       "      <td>1032570570962209</td>\n",
       "      <td>2020-03-13</td>\n",
       "      <td>66289</td>\n",
       "    </tr>\n",
       "    <tr>\n",
       "      <th>37</th>\n",
       "      <td>Usman</td>\n",
       "      <td>Abubakar</td>\n",
       "      <td>Zithobeni</td>\n",
       "      <td>1014588055166581</td>\n",
       "      <td>1011472844537640</td>\n",
       "      <td>2020-08-25</td>\n",
       "      <td>45014</td>\n",
       "    </tr>\n",
       "    <tr>\n",
       "      <th>38</th>\n",
       "      <td>Trevor</td>\n",
       "      <td>Cheruiyot</td>\n",
       "      <td>Langata</td>\n",
       "      <td>1070639771233054</td>\n",
       "      <td>1107481961368279</td>\n",
       "      <td>2020-02-21</td>\n",
       "      <td>35549</td>\n",
       "    </tr>\n",
       "    <tr>\n",
       "      <th>39</th>\n",
       "      <td>Dennis</td>\n",
       "      <td>Nwankwo</td>\n",
       "      <td>Kokosi</td>\n",
       "      <td>1014588055166581</td>\n",
       "      <td>1099437726872833</td>\n",
       "      <td>2021-03-18</td>\n",
       "      <td>26341</td>\n",
       "    </tr>\n",
       "    <tr>\n",
       "      <th>40</th>\n",
       "      <td>Abdullahi</td>\n",
       "      <td>Dlamini</td>\n",
       "      <td>Johannesburg</td>\n",
       "      <td>1004224275741703</td>\n",
       "      <td>1003929278290886</td>\n",
       "      <td>2020-07-21</td>\n",
       "      <td>4062</td>\n",
       "    </tr>\n",
       "    <tr>\n",
       "      <th>41</th>\n",
       "      <td>Mpho</td>\n",
       "      <td>Dlamini</td>\n",
       "      <td>Ibara</td>\n",
       "      <td>1040709398052014</td>\n",
       "      <td>1092701892261164</td>\n",
       "      <td>2020-01-17</td>\n",
       "      <td>4811</td>\n",
       "    </tr>\n",
       "    <tr>\n",
       "      <th>42</th>\n",
       "      <td>Mpho</td>\n",
       "      <td>Wambui</td>\n",
       "      <td>Irene</td>\n",
       "      <td>1090165543626765</td>\n",
       "      <td>1098465180345313</td>\n",
       "      <td>2020-02-17</td>\n",
       "      <td>16535</td>\n",
       "    </tr>\n",
       "    <tr>\n",
       "      <th>43</th>\n",
       "      <td>Trevor</td>\n",
       "      <td>Zulu</td>\n",
       "      <td>Duduza</td>\n",
       "      <td>1014217100008397</td>\n",
       "      <td>1044337659626089</td>\n",
       "      <td>2020-12-11</td>\n",
       "      <td>68659</td>\n",
       "    </tr>\n",
       "    <tr>\n",
       "      <th>44</th>\n",
       "      <td>Annelise</td>\n",
       "      <td>Horton</td>\n",
       "      <td>Bophelong</td>\n",
       "      <td>1016111475041355</td>\n",
       "      <td>1054956422242437</td>\n",
       "      <td>2020-05-22</td>\n",
       "      <td>6896</td>\n",
       "    </tr>\n",
       "    <tr>\n",
       "      <th>45</th>\n",
       "      <td>Itumeleng</td>\n",
       "      <td>Yahaya</td>\n",
       "      <td>Vanderbijlpark</td>\n",
       "      <td>1110654702553345</td>\n",
       "      <td>1085114438119399</td>\n",
       "      <td>2020-06-24</td>\n",
       "      <td>5205</td>\n",
       "    </tr>\n",
       "    <tr>\n",
       "      <th>46</th>\n",
       "      <td>Lesego</td>\n",
       "      <td>Moloi</td>\n",
       "      <td>Ogba</td>\n",
       "      <td>1036813970475766</td>\n",
       "      <td>1021141204840784</td>\n",
       "      <td>2020-04-26</td>\n",
       "      <td>53218</td>\n",
       "    </tr>\n",
       "    <tr>\n",
       "      <th>47</th>\n",
       "      <td>Ben</td>\n",
       "      <td>Ochieng</td>\n",
       "      <td>Alagbado</td>\n",
       "      <td>1058278825593051</td>\n",
       "      <td>1083341879487026</td>\n",
       "      <td>2021-01-02</td>\n",
       "      <td>11622</td>\n",
       "    </tr>\n",
       "    <tr>\n",
       "      <th>48</th>\n",
       "      <td>Wayne</td>\n",
       "      <td>Okon</td>\n",
       "      <td>Kileleshwa</td>\n",
       "      <td>1016111475041355</td>\n",
       "      <td>1020575297644444</td>\n",
       "      <td>2020-02-26</td>\n",
       "      <td>1782</td>\n",
       "    </tr>\n",
       "    <tr>\n",
       "      <th>49</th>\n",
       "      <td>William</td>\n",
       "      <td>Okeke</td>\n",
       "      <td>Otukpo</td>\n",
       "      <td>1003148745485144</td>\n",
       "      <td>1018852822656831</td>\n",
       "      <td>2020-07-10</td>\n",
       "      <td>4322</td>\n",
       "    </tr>\n",
       "  </tbody>\n",
       "</table>\n",
       "</div>\n",
       "      <button class=\"colab-df-convert\" onclick=\"convertToInteractive('df-8043e149-8939-4b82-8df3-9ca48de68441')\"\n",
       "              title=\"Convert this dataframe to an interactive table.\"\n",
       "              style=\"display:none;\">\n",
       "        \n",
       "  <svg xmlns=\"http://www.w3.org/2000/svg\" height=\"24px\"viewBox=\"0 0 24 24\"\n",
       "       width=\"24px\">\n",
       "    <path d=\"M0 0h24v24H0V0z\" fill=\"none\"/>\n",
       "    <path d=\"M18.56 5.44l.94 2.06.94-2.06 2.06-.94-2.06-.94-.94-2.06-.94 2.06-2.06.94zm-11 1L8.5 8.5l.94-2.06 2.06-.94-2.06-.94L8.5 2.5l-.94 2.06-2.06.94zm10 10l.94 2.06.94-2.06 2.06-.94-2.06-.94-.94-2.06-.94 2.06-2.06.94z\"/><path d=\"M17.41 7.96l-1.37-1.37c-.4-.4-.92-.59-1.43-.59-.52 0-1.04.2-1.43.59L10.3 9.45l-7.72 7.72c-.78.78-.78 2.05 0 2.83L4 21.41c.39.39.9.59 1.41.59.51 0 1.02-.2 1.41-.59l7.78-7.78 2.81-2.81c.8-.78.8-2.07 0-2.86zM5.41 20L4 18.59l7.72-7.72 1.47 1.35L5.41 20z\"/>\n",
       "  </svg>\n",
       "      </button>\n",
       "      \n",
       "  <style>\n",
       "    .colab-df-container {\n",
       "      display:flex;\n",
       "      flex-wrap:wrap;\n",
       "      gap: 12px;\n",
       "    }\n",
       "\n",
       "    .colab-df-convert {\n",
       "      background-color: #E8F0FE;\n",
       "      border: none;\n",
       "      border-radius: 50%;\n",
       "      cursor: pointer;\n",
       "      display: none;\n",
       "      fill: #1967D2;\n",
       "      height: 32px;\n",
       "      padding: 0 0 0 0;\n",
       "      width: 32px;\n",
       "    }\n",
       "\n",
       "    .colab-df-convert:hover {\n",
       "      background-color: #E2EBFA;\n",
       "      box-shadow: 0px 1px 2px rgba(60, 64, 67, 0.3), 0px 1px 3px 1px rgba(60, 64, 67, 0.15);\n",
       "      fill: #174EA6;\n",
       "    }\n",
       "\n",
       "    [theme=dark] .colab-df-convert {\n",
       "      background-color: #3B4455;\n",
       "      fill: #D2E3FC;\n",
       "    }\n",
       "\n",
       "    [theme=dark] .colab-df-convert:hover {\n",
       "      background-color: #434B5C;\n",
       "      box-shadow: 0px 1px 3px 1px rgba(0, 0, 0, 0.15);\n",
       "      filter: drop-shadow(0px 1px 2px rgba(0, 0, 0, 0.3));\n",
       "      fill: #FFFFFF;\n",
       "    }\n",
       "  </style>\n",
       "\n",
       "      <script>\n",
       "        const buttonEl =\n",
       "          document.querySelector('#df-8043e149-8939-4b82-8df3-9ca48de68441 button.colab-df-convert');\n",
       "        buttonEl.style.display =\n",
       "          google.colab.kernel.accessAllowed ? 'block' : 'none';\n",
       "\n",
       "        async function convertToInteractive(key) {\n",
       "          const element = document.querySelector('#df-8043e149-8939-4b82-8df3-9ca48de68441');\n",
       "          const dataTable =\n",
       "            await google.colab.kernel.invokeFunction('convertToInteractive',\n",
       "                                                     [key], {});\n",
       "          if (!dataTable) return;\n",
       "\n",
       "          const docLinkHtml = 'Like what you see? Visit the ' +\n",
       "            '<a target=\"_blank\" href=https://colab.research.google.com/notebooks/data_table.ipynb>data table notebook</a>'\n",
       "            + ' to learn more about interactive tables.';\n",
       "          element.innerHTML = '';\n",
       "          dataTable['output_type'] = 'display_data';\n",
       "          await google.colab.output.renderOutput(dataTable, element);\n",
       "          const docLink = document.createElement('div');\n",
       "          docLink.innerHTML = docLinkHtml;\n",
       "          element.appendChild(docLink);\n",
       "        }\n",
       "      </script>\n",
       "    </div>\n",
       "  </div>\n",
       "  "
      ],
      "text/plain": [
       "          Name        Surname             City         accountId  \\\n",
       "0    Fransisco          Moloi             Jabi  1082549487327559   \n",
       "1      Njoroge       Sedumedi         Meyerton  1089105313261920   \n",
       "2       Monica        Anyanwu   Kabarak Estate  1054833935159968   \n",
       "3   Thandanani        Dlamini      Welverdiend  1007607074063246   \n",
       "4     Lawrence        Njuguna        Fochville  1085864929927123   \n",
       "5     Luthando          Opara             Jabi  1092854205714718   \n",
       "6       Lauren       Macharia          Tsakane  1068617439624400   \n",
       "7      Wanjiku      Cheruiyot      Welverdiend  1102516018052031   \n",
       "8        Caleb         Ngcobo      Orange Farm  1079271296469502   \n",
       "9     Martinus  van der Linde          Blybank  1003148745485144   \n",
       "10     Mariska        Achieng          Thokoza  1016111475041355   \n",
       "11  Thandanani      Babatunde       Konza City  1080584749485331   \n",
       "12    Chinyere       Williams        Katlehong  1068617439624400   \n",
       "13  Nicollette         Kimani        Wattville  1070639771233054   \n",
       "14      Yakubu         Nwafor            Enugu  1025615326966060   \n",
       "15     William    De Villiers            Ibara  1054833935159968   \n",
       "16      Tebogo         Barnes            Irene  1040709398052014   \n",
       "17    Martinus            Vos         Kitisuru  1085864929927123   \n",
       "18       Caleb        Nwankwo   Mombasa Island  1079271296469502   \n",
       "19       Taiwo        Njuguna           Duduza  1105962505785938   \n",
       "20    Luthando       Williams    Carletonville  1108640557611791   \n",
       "21        Felo       Williams           Gigiri  1082549487327559   \n",
       "22  Jacqueline            Vos  Victoria Island  1051880161265727   \n",
       "23      Angela        Njuguna         Mamelodi  1027256123677014   \n",
       "24       Usman         Onuoha            Lekki  1080584749485331   \n",
       "25       Aisha       Odhiambo         Randburg  1079589781829232   \n",
       "26       Taiwo        Kariuki       Nicon Town  1110125558656018   \n",
       "27      Angela      Nwachukwu        Clayville  1006429553997749   \n",
       "28        Mark        Ibrahim     Portharcourt  1087832919517606   \n",
       "29       Wayne        Nwankwo        Fochville  1036813970475766   \n",
       "30       Caleb       Sedumedi       Kileleshwa  1054833935159968   \n",
       "31      Maryam      Nwachukwu         Alimosho  1055970040922182   \n",
       "32    Lebogang        Motsepe           Gigiri  1110125558656018   \n",
       "33  Thandanani         Horton         Kitisuru  1082549487327559   \n",
       "34  Thandanani         Yahaya           Evaton  1054833935159968   \n",
       "35      Denise         Ngcobo            Devon  1082549487327559   \n",
       "36   Fransisco         Otieno        Bophelong  1014217100008397   \n",
       "37       Usman       Abubakar        Zithobeni  1014588055166581   \n",
       "38      Trevor      Cheruiyot          Langata  1070639771233054   \n",
       "39      Dennis        Nwankwo           Kokosi  1014588055166581   \n",
       "40   Abdullahi        Dlamini     Johannesburg  1004224275741703   \n",
       "41        Mpho        Dlamini            Ibara  1040709398052014   \n",
       "42        Mpho         Wambui            Irene  1090165543626765   \n",
       "43      Trevor           Zulu           Duduza  1014217100008397   \n",
       "44    Annelise         Horton        Bophelong  1016111475041355   \n",
       "45   Itumeleng         Yahaya   Vanderbijlpark  1110654702553345   \n",
       "46      Lesego          Moloi             Ogba  1036813970475766   \n",
       "47         Ben        Ochieng         Alagbado  1058278825593051   \n",
       "48       Wayne           Okon       Kileleshwa  1016111475041355   \n",
       "49     William          Okeke           Otukpo  1003148745485144   \n",
       "\n",
       "          cardNumber ActivationDate  Income  \n",
       "0   1100658304827521     2020-09-05   54162  \n",
       "1   1029060900071894     2021-01-30   58243  \n",
       "2   1037944868692576     2020-08-24   23892  \n",
       "3   1086226454679595     2021-03-05    1903  \n",
       "4   1101339287348625     2020-01-25   69677  \n",
       "5   1025140240119969     2020-08-25    2618  \n",
       "6   1025253025758157     2021-03-04   33533  \n",
       "7   1026030797526118     2020-09-06    3104  \n",
       "8   1014185979774596     2020-08-11   48314  \n",
       "9   1008651820112292     2020-09-06    4603  \n",
       "10  1083973982543573     2021-01-26   58528  \n",
       "11  1039824304519430     2020-08-25   69677  \n",
       "12  1011761719773835     2020-01-17   44273  \n",
       "13  1016632529370204     2020-05-21   41912  \n",
       "14  1074072561403899     2020-02-19   28303  \n",
       "15  1095987763226551     2020-04-23   39760  \n",
       "16  1057525364600814     2020-04-26   59216  \n",
       "17  1029625492810787     2020-02-12   62511  \n",
       "18  1059371307652220     2020-08-29   66260  \n",
       "19  1077902911937331     2020-08-27   16535  \n",
       "20  1078818361770458     2020-01-20    9723  \n",
       "21  1044219919699284     2021-03-18   28726  \n",
       "22  1013516213764010     2020-11-04    6896  \n",
       "23  1088359626128518     2020-09-09   28120  \n",
       "24  1040198217411296     2021-01-07   67608  \n",
       "25  1074432125237035     2020-07-04   50633  \n",
       "26  1065140214825611     2021-03-22   18053  \n",
       "27  1071648867435194     2020-07-11   40964  \n",
       "28  1109935031518595     2020-02-23   47281  \n",
       "29  1035802720452537     2020-12-11   38161  \n",
       "30  1057971598580862     2020-11-29   64381  \n",
       "31  1074349745722534     2020-06-24   70989  \n",
       "32  1021921301861162     2020-07-18   19223  \n",
       "33  1013961524498842     2020-10-22   69191  \n",
       "34  1035821274649401     2021-01-01   36986  \n",
       "35  1034392910294656     2020-08-16    9891  \n",
       "36  1032570570962209     2020-03-13   66289  \n",
       "37  1011472844537640     2020-08-25   45014  \n",
       "38  1107481961368279     2020-02-21   35549  \n",
       "39  1099437726872833     2021-03-18   26341  \n",
       "40  1003929278290886     2020-07-21    4062  \n",
       "41  1092701892261164     2020-01-17    4811  \n",
       "42  1098465180345313     2020-02-17   16535  \n",
       "43  1044337659626089     2020-12-11   68659  \n",
       "44  1054956422242437     2020-05-22    6896  \n",
       "45  1085114438119399     2020-06-24    5205  \n",
       "46  1021141204840784     2020-04-26   53218  \n",
       "47  1083341879487026     2021-01-02   11622  \n",
       "48  1020575297644444     2020-02-26    1782  \n",
       "49  1018852822656831     2020-07-10    4322  "
      ]
     },
     "execution_count": 27,
     "metadata": {},
     "output_type": "execute_result"
    }
   ],
   "source": [
    "Accdf =  pd.DataFrame({'Name' : [random.choice(name)for _ in range(50)],\n",
    "                   'Surname' : [random.choice(surname)for _ in range(50)],\n",
    "                   'City': [random.choice(area)for _ in range(50)],\n",
    "                   'accountId' : [np.random.choice(acc)for _ in range(50)],\n",
    "                   'cardNumber': np.random.randint(1000000000000000,1111111111999999,50),\n",
    "                   'ActivationDate' : [np.random.choice(dates) for i in range(50)],\n",
    "                   'Income' : [np.random.choice(money)for _ in range(50)]})\n",
    "Accdf"
   ]
  },
  {
   "cell_type": "code",
   "execution_count": null,
   "metadata": {
    "colab": {
     "base_uri": "https://localhost:8080/",
     "height": 424
    },
    "id": "Jm2M4i5K6Jd-",
    "outputId": "dce4393e-d166-468c-8fc9-4215cf141994"
   },
   "outputs": [
    {
     "data": {
      "text/html": [
       "\n",
       "  <div id=\"df-654da835-6b40-4ae4-ac83-8d322135bb40\">\n",
       "    <div class=\"colab-df-container\">\n",
       "      <div>\n",
       "<style scoped>\n",
       "    .dataframe tbody tr th:only-of-type {\n",
       "        vertical-align: middle;\n",
       "    }\n",
       "\n",
       "    .dataframe tbody tr th {\n",
       "        vertical-align: top;\n",
       "    }\n",
       "\n",
       "    .dataframe thead th {\n",
       "        text-align: right;\n",
       "    }\n",
       "</style>\n",
       "<table border=\"1\" class=\"dataframe\">\n",
       "  <thead>\n",
       "    <tr style=\"text-align: right;\">\n",
       "      <th></th>\n",
       "      <th>Name</th>\n",
       "      <th>Surname</th>\n",
       "      <th>City</th>\n",
       "      <th>accountId</th>\n",
       "      <th>cardNumber</th>\n",
       "      <th>ActivationDate</th>\n",
       "      <th>Income</th>\n",
       "    </tr>\n",
       "  </thead>\n",
       "  <tbody>\n",
       "    <tr>\n",
       "      <th>0</th>\n",
       "      <td>Fransisco</td>\n",
       "      <td>Moloi</td>\n",
       "      <td>Jabi</td>\n",
       "      <td>1082549487327559</td>\n",
       "      <td>1100658304827521</td>\n",
       "      <td>2020-09-05</td>\n",
       "      <td>54162</td>\n",
       "    </tr>\n",
       "    <tr>\n",
       "      <th>1</th>\n",
       "      <td>Njoroge</td>\n",
       "      <td>Sedumedi</td>\n",
       "      <td>Meyerton</td>\n",
       "      <td>1089105313261920</td>\n",
       "      <td>1029060900071894</td>\n",
       "      <td>2021-01-30</td>\n",
       "      <td>58243</td>\n",
       "    </tr>\n",
       "    <tr>\n",
       "      <th>2</th>\n",
       "      <td>Monica</td>\n",
       "      <td>Anyanwu</td>\n",
       "      <td>Kabarak Estate</td>\n",
       "      <td>1054833935159968</td>\n",
       "      <td>1037944868692576</td>\n",
       "      <td>2020-08-24</td>\n",
       "      <td>23892</td>\n",
       "    </tr>\n",
       "    <tr>\n",
       "      <th>3</th>\n",
       "      <td>Thandanani</td>\n",
       "      <td>Dlamini</td>\n",
       "      <td>Welverdiend</td>\n",
       "      <td>1007607074063246</td>\n",
       "      <td>1086226454679595</td>\n",
       "      <td>2021-03-05</td>\n",
       "      <td>1903</td>\n",
       "    </tr>\n",
       "    <tr>\n",
       "      <th>4</th>\n",
       "      <td>Lawrence</td>\n",
       "      <td>Njuguna</td>\n",
       "      <td>Fochville</td>\n",
       "      <td>1085864929927123</td>\n",
       "      <td>1101339287348625</td>\n",
       "      <td>2020-01-25</td>\n",
       "      <td>69677</td>\n",
       "    </tr>\n",
       "    <tr>\n",
       "      <th>...</th>\n",
       "      <td>...</td>\n",
       "      <td>...</td>\n",
       "      <td>...</td>\n",
       "      <td>...</td>\n",
       "      <td>...</td>\n",
       "      <td>...</td>\n",
       "      <td>...</td>\n",
       "    </tr>\n",
       "    <tr>\n",
       "      <th>3195</th>\n",
       "      <td>Itumeleng</td>\n",
       "      <td>Yahaya</td>\n",
       "      <td>Vanderbijlpark</td>\n",
       "      <td>1110654702553345</td>\n",
       "      <td>1085114438119399</td>\n",
       "      <td>2020-06-24</td>\n",
       "      <td>5205</td>\n",
       "    </tr>\n",
       "    <tr>\n",
       "      <th>3196</th>\n",
       "      <td>Lesego</td>\n",
       "      <td>Moloi</td>\n",
       "      <td>Ogba</td>\n",
       "      <td>1036813970475766</td>\n",
       "      <td>1021141204840784</td>\n",
       "      <td>2020-04-26</td>\n",
       "      <td>53218</td>\n",
       "    </tr>\n",
       "    <tr>\n",
       "      <th>3197</th>\n",
       "      <td>Ben</td>\n",
       "      <td>Ochieng</td>\n",
       "      <td>Alagbado</td>\n",
       "      <td>1058278825593051</td>\n",
       "      <td>1083341879487026</td>\n",
       "      <td>2021-01-02</td>\n",
       "      <td>11622</td>\n",
       "    </tr>\n",
       "    <tr>\n",
       "      <th>3198</th>\n",
       "      <td>Wayne</td>\n",
       "      <td>Okon</td>\n",
       "      <td>Kileleshwa</td>\n",
       "      <td>1016111475041355</td>\n",
       "      <td>1020575297644444</td>\n",
       "      <td>2020-02-26</td>\n",
       "      <td>1782</td>\n",
       "    </tr>\n",
       "    <tr>\n",
       "      <th>3199</th>\n",
       "      <td>William</td>\n",
       "      <td>Okeke</td>\n",
       "      <td>Otukpo</td>\n",
       "      <td>1003148745485144</td>\n",
       "      <td>1018852822656831</td>\n",
       "      <td>2020-07-10</td>\n",
       "      <td>4322</td>\n",
       "    </tr>\n",
       "  </tbody>\n",
       "</table>\n",
       "<p>3200 rows × 7 columns</p>\n",
       "</div>\n",
       "      <button class=\"colab-df-convert\" onclick=\"convertToInteractive('df-654da835-6b40-4ae4-ac83-8d322135bb40')\"\n",
       "              title=\"Convert this dataframe to an interactive table.\"\n",
       "              style=\"display:none;\">\n",
       "        \n",
       "  <svg xmlns=\"http://www.w3.org/2000/svg\" height=\"24px\"viewBox=\"0 0 24 24\"\n",
       "       width=\"24px\">\n",
       "    <path d=\"M0 0h24v24H0V0z\" fill=\"none\"/>\n",
       "    <path d=\"M18.56 5.44l.94 2.06.94-2.06 2.06-.94-2.06-.94-.94-2.06-.94 2.06-2.06.94zm-11 1L8.5 8.5l.94-2.06 2.06-.94-2.06-.94L8.5 2.5l-.94 2.06-2.06.94zm10 10l.94 2.06.94-2.06 2.06-.94-2.06-.94-.94-2.06-.94 2.06-2.06.94z\"/><path d=\"M17.41 7.96l-1.37-1.37c-.4-.4-.92-.59-1.43-.59-.52 0-1.04.2-1.43.59L10.3 9.45l-7.72 7.72c-.78.78-.78 2.05 0 2.83L4 21.41c.39.39.9.59 1.41.59.51 0 1.02-.2 1.41-.59l7.78-7.78 2.81-2.81c.8-.78.8-2.07 0-2.86zM5.41 20L4 18.59l7.72-7.72 1.47 1.35L5.41 20z\"/>\n",
       "  </svg>\n",
       "      </button>\n",
       "      \n",
       "  <style>\n",
       "    .colab-df-container {\n",
       "      display:flex;\n",
       "      flex-wrap:wrap;\n",
       "      gap: 12px;\n",
       "    }\n",
       "\n",
       "    .colab-df-convert {\n",
       "      background-color: #E8F0FE;\n",
       "      border: none;\n",
       "      border-radius: 50%;\n",
       "      cursor: pointer;\n",
       "      display: none;\n",
       "      fill: #1967D2;\n",
       "      height: 32px;\n",
       "      padding: 0 0 0 0;\n",
       "      width: 32px;\n",
       "    }\n",
       "\n",
       "    .colab-df-convert:hover {\n",
       "      background-color: #E2EBFA;\n",
       "      box-shadow: 0px 1px 2px rgba(60, 64, 67, 0.3), 0px 1px 3px 1px rgba(60, 64, 67, 0.15);\n",
       "      fill: #174EA6;\n",
       "    }\n",
       "\n",
       "    [theme=dark] .colab-df-convert {\n",
       "      background-color: #3B4455;\n",
       "      fill: #D2E3FC;\n",
       "    }\n",
       "\n",
       "    [theme=dark] .colab-df-convert:hover {\n",
       "      background-color: #434B5C;\n",
       "      box-shadow: 0px 1px 3px 1px rgba(0, 0, 0, 0.15);\n",
       "      filter: drop-shadow(0px 1px 2px rgba(0, 0, 0, 0.3));\n",
       "      fill: #FFFFFF;\n",
       "    }\n",
       "  </style>\n",
       "\n",
       "      <script>\n",
       "        const buttonEl =\n",
       "          document.querySelector('#df-654da835-6b40-4ae4-ac83-8d322135bb40 button.colab-df-convert');\n",
       "        buttonEl.style.display =\n",
       "          google.colab.kernel.accessAllowed ? 'block' : 'none';\n",
       "\n",
       "        async function convertToInteractive(key) {\n",
       "          const element = document.querySelector('#df-654da835-6b40-4ae4-ac83-8d322135bb40');\n",
       "          const dataTable =\n",
       "            await google.colab.kernel.invokeFunction('convertToInteractive',\n",
       "                                                     [key], {});\n",
       "          if (!dataTable) return;\n",
       "\n",
       "          const docLinkHtml = 'Like what you see? Visit the ' +\n",
       "            '<a target=\"_blank\" href=https://colab.research.google.com/notebooks/data_table.ipynb>data table notebook</a>'\n",
       "            + ' to learn more about interactive tables.';\n",
       "          element.innerHTML = '';\n",
       "          dataTable['output_type'] = 'display_data';\n",
       "          await google.colab.output.renderOutput(dataTable, element);\n",
       "          const docLink = document.createElement('div');\n",
       "          docLink.innerHTML = docLinkHtml;\n",
       "          element.appendChild(docLink);\n",
       "        }\n",
       "      </script>\n",
       "    </div>\n",
       "  </div>\n",
       "  "
      ],
      "text/plain": [
       "            Name   Surname            City         accountId  \\\n",
       "0      Fransisco     Moloi            Jabi  1082549487327559   \n",
       "1        Njoroge  Sedumedi        Meyerton  1089105313261920   \n",
       "2         Monica   Anyanwu  Kabarak Estate  1054833935159968   \n",
       "3     Thandanani   Dlamini     Welverdiend  1007607074063246   \n",
       "4       Lawrence   Njuguna       Fochville  1085864929927123   \n",
       "...          ...       ...             ...               ...   \n",
       "3195   Itumeleng    Yahaya  Vanderbijlpark  1110654702553345   \n",
       "3196      Lesego     Moloi            Ogba  1036813970475766   \n",
       "3197         Ben   Ochieng        Alagbado  1058278825593051   \n",
       "3198       Wayne      Okon      Kileleshwa  1016111475041355   \n",
       "3199     William     Okeke          Otukpo  1003148745485144   \n",
       "\n",
       "            cardNumber ActivationDate  Income  \n",
       "0     1100658304827521     2020-09-05   54162  \n",
       "1     1029060900071894     2021-01-30   58243  \n",
       "2     1037944868692576     2020-08-24   23892  \n",
       "3     1086226454679595     2021-03-05    1903  \n",
       "4     1101339287348625     2020-01-25   69677  \n",
       "...                ...            ...     ...  \n",
       "3195  1085114438119399     2020-06-24    5205  \n",
       "3196  1021141204840784     2020-04-26   53218  \n",
       "3197  1083341879487026     2021-01-02   11622  \n",
       "3198  1020575297644444     2020-02-26    1782  \n",
       "3199  1018852822656831     2020-07-10    4322  \n",
       "\n",
       "[3200 rows x 7 columns]"
      ]
     },
     "execution_count": 28,
     "metadata": {},
     "output_type": "execute_result"
    }
   ],
   "source": [
    "for i in range(6):\n",
    "  Accdf = Accdf.append(Accdf,ignore_index=True)\n",
    "Accdf"
   ]
  },
  {
   "cell_type": "code",
   "execution_count": null,
   "metadata": {
    "colab": {
     "base_uri": "https://localhost:8080/",
     "height": 424
    },
    "id": "eufyJN7AqJes",
    "outputId": "93d90b60-ab07-4416-b8ea-ae584486acfa"
   },
   "outputs": [
    {
     "data": {
      "text/html": [
       "\n",
       "  <div id=\"df-2bf6ee94-6f20-42d4-85d1-eb0dd370df9d\">\n",
       "    <div class=\"colab-df-container\">\n",
       "      <div>\n",
       "<style scoped>\n",
       "    .dataframe tbody tr th:only-of-type {\n",
       "        vertical-align: middle;\n",
       "    }\n",
       "\n",
       "    .dataframe tbody tr th {\n",
       "        vertical-align: top;\n",
       "    }\n",
       "\n",
       "    .dataframe thead th {\n",
       "        text-align: right;\n",
       "    }\n",
       "</style>\n",
       "<table border=\"1\" class=\"dataframe\">\n",
       "  <thead>\n",
       "    <tr style=\"text-align: right;\">\n",
       "      <th></th>\n",
       "      <th>Transaction_Description</th>\n",
       "      <th>Transaction_Date</th>\n",
       "      <th>Amount</th>\n",
       "    </tr>\n",
       "  </thead>\n",
       "  <tbody>\n",
       "    <tr>\n",
       "      <th>1819</th>\n",
       "      <td>Wetin dey Stores</td>\n",
       "      <td>2020-04-01</td>\n",
       "      <td>1781</td>\n",
       "    </tr>\n",
       "    <tr>\n",
       "      <th>2828</th>\n",
       "      <td>Boardmans</td>\n",
       "      <td>2020-04-01</td>\n",
       "      <td>1684</td>\n",
       "    </tr>\n",
       "    <tr>\n",
       "      <th>1935</th>\n",
       "      <td>Romans Pizza</td>\n",
       "      <td>2020-04-01</td>\n",
       "      <td>388</td>\n",
       "    </tr>\n",
       "    <tr>\n",
       "      <th>855</th>\n",
       "      <td>Mr Funtubbles</td>\n",
       "      <td>2020-04-01</td>\n",
       "      <td>1777</td>\n",
       "    </tr>\n",
       "    <tr>\n",
       "      <th>2991</th>\n",
       "      <td>Sausage Saloon</td>\n",
       "      <td>2020-04-01</td>\n",
       "      <td>591</td>\n",
       "    </tr>\n",
       "    <tr>\n",
       "      <th>...</th>\n",
       "      <td>...</td>\n",
       "      <td>...</td>\n",
       "      <td>...</td>\n",
       "    </tr>\n",
       "    <tr>\n",
       "      <th>2137</th>\n",
       "      <td>National Security</td>\n",
       "      <td>2021-03-31</td>\n",
       "      <td>229</td>\n",
       "    </tr>\n",
       "    <tr>\n",
       "      <th>2195</th>\n",
       "      <td>Converse</td>\n",
       "      <td>2021-03-31</td>\n",
       "      <td>2336</td>\n",
       "    </tr>\n",
       "    <tr>\n",
       "      <th>2204</th>\n",
       "      <td>Tashas</td>\n",
       "      <td>2021-03-31</td>\n",
       "      <td>2446</td>\n",
       "    </tr>\n",
       "    <tr>\n",
       "      <th>3053</th>\n",
       "      <td>Donna</td>\n",
       "      <td>2021-03-31</td>\n",
       "      <td>5669</td>\n",
       "    </tr>\n",
       "    <tr>\n",
       "      <th>1176</th>\n",
       "      <td>The Body Shop</td>\n",
       "      <td>2021-03-31</td>\n",
       "      <td>5471</td>\n",
       "    </tr>\n",
       "  </tbody>\n",
       "</table>\n",
       "<p>3200 rows × 3 columns</p>\n",
       "</div>\n",
       "      <button class=\"colab-df-convert\" onclick=\"convertToInteractive('df-2bf6ee94-6f20-42d4-85d1-eb0dd370df9d')\"\n",
       "              title=\"Convert this dataframe to an interactive table.\"\n",
       "              style=\"display:none;\">\n",
       "        \n",
       "  <svg xmlns=\"http://www.w3.org/2000/svg\" height=\"24px\"viewBox=\"0 0 24 24\"\n",
       "       width=\"24px\">\n",
       "    <path d=\"M0 0h24v24H0V0z\" fill=\"none\"/>\n",
       "    <path d=\"M18.56 5.44l.94 2.06.94-2.06 2.06-.94-2.06-.94-.94-2.06-.94 2.06-2.06.94zm-11 1L8.5 8.5l.94-2.06 2.06-.94-2.06-.94L8.5 2.5l-.94 2.06-2.06.94zm10 10l.94 2.06.94-2.06 2.06-.94-2.06-.94-.94-2.06-.94 2.06-2.06.94z\"/><path d=\"M17.41 7.96l-1.37-1.37c-.4-.4-.92-.59-1.43-.59-.52 0-1.04.2-1.43.59L10.3 9.45l-7.72 7.72c-.78.78-.78 2.05 0 2.83L4 21.41c.39.39.9.59 1.41.59.51 0 1.02-.2 1.41-.59l7.78-7.78 2.81-2.81c.8-.78.8-2.07 0-2.86zM5.41 20L4 18.59l7.72-7.72 1.47 1.35L5.41 20z\"/>\n",
       "  </svg>\n",
       "      </button>\n",
       "      \n",
       "  <style>\n",
       "    .colab-df-container {\n",
       "      display:flex;\n",
       "      flex-wrap:wrap;\n",
       "      gap: 12px;\n",
       "    }\n",
       "\n",
       "    .colab-df-convert {\n",
       "      background-color: #E8F0FE;\n",
       "      border: none;\n",
       "      border-radius: 50%;\n",
       "      cursor: pointer;\n",
       "      display: none;\n",
       "      fill: #1967D2;\n",
       "      height: 32px;\n",
       "      padding: 0 0 0 0;\n",
       "      width: 32px;\n",
       "    }\n",
       "\n",
       "    .colab-df-convert:hover {\n",
       "      background-color: #E2EBFA;\n",
       "      box-shadow: 0px 1px 2px rgba(60, 64, 67, 0.3), 0px 1px 3px 1px rgba(60, 64, 67, 0.15);\n",
       "      fill: #174EA6;\n",
       "    }\n",
       "\n",
       "    [theme=dark] .colab-df-convert {\n",
       "      background-color: #3B4455;\n",
       "      fill: #D2E3FC;\n",
       "    }\n",
       "\n",
       "    [theme=dark] .colab-df-convert:hover {\n",
       "      background-color: #434B5C;\n",
       "      box-shadow: 0px 1px 3px 1px rgba(0, 0, 0, 0.15);\n",
       "      filter: drop-shadow(0px 1px 2px rgba(0, 0, 0, 0.3));\n",
       "      fill: #FFFFFF;\n",
       "    }\n",
       "  </style>\n",
       "\n",
       "      <script>\n",
       "        const buttonEl =\n",
       "          document.querySelector('#df-2bf6ee94-6f20-42d4-85d1-eb0dd370df9d button.colab-df-convert');\n",
       "        buttonEl.style.display =\n",
       "          google.colab.kernel.accessAllowed ? 'block' : 'none';\n",
       "\n",
       "        async function convertToInteractive(key) {\n",
       "          const element = document.querySelector('#df-2bf6ee94-6f20-42d4-85d1-eb0dd370df9d');\n",
       "          const dataTable =\n",
       "            await google.colab.kernel.invokeFunction('convertToInteractive',\n",
       "                                                     [key], {});\n",
       "          if (!dataTable) return;\n",
       "\n",
       "          const docLinkHtml = 'Like what you see? Visit the ' +\n",
       "            '<a target=\"_blank\" href=https://colab.research.google.com/notebooks/data_table.ipynb>data table notebook</a>'\n",
       "            + ' to learn more about interactive tables.';\n",
       "          element.innerHTML = '';\n",
       "          dataTable['output_type'] = 'display_data';\n",
       "          await google.colab.output.renderOutput(dataTable, element);\n",
       "          const docLink = document.createElement('div');\n",
       "          docLink.innerHTML = docLinkHtml;\n",
       "          element.appendChild(docLink);\n",
       "        }\n",
       "      </script>\n",
       "    </div>\n",
       "  </div>\n",
       "  "
      ],
      "text/plain": [
       "     Transaction_Description Transaction_Date  Amount\n",
       "1819        Wetin dey Stores       2020-04-01    1781\n",
       "2828               Boardmans       2020-04-01    1684\n",
       "1935            Romans Pizza       2020-04-01     388\n",
       "855            Mr Funtubbles       2020-04-01    1777\n",
       "2991          Sausage Saloon       2020-04-01     591\n",
       "...                      ...              ...     ...\n",
       "2137       National Security       2021-03-31     229\n",
       "2195                Converse       2021-03-31    2336\n",
       "2204                  Tashas       2021-03-31    2446\n",
       "3053                   Donna       2021-03-31    5669\n",
       "1176           The Body Shop       2021-03-31    5471\n",
       "\n",
       "[3200 rows x 3 columns]"
      ]
     },
     "execution_count": 30,
     "metadata": {},
     "output_type": "execute_result"
    }
   ],
   "source": [
    "transactdates = [np.random.choice(pd.date_range(datetime.datetime(2020,4,1,0),datetime.datetime(2021,3,31,0))) for i in range(366)]\n",
    "transactdf = pd.DataFrame({'Transaction_Description' : [random.choice(retail)for _ in range(3200)],\n",
    "                   'Transaction_Date' : [np.random.choice(transactdates) for i in range(3200)],\n",
    "                   'Amount' : np.random.randint(1,6000,3200)})\n",
    "transactdf.sort_values(by=['Transaction_Date'])"
   ]
  },
  {
   "cell_type": "code",
   "execution_count": null,
   "metadata": {
    "id": "EyaOQVY9qJWZ"
   },
   "outputs": [],
   "source": [
    "# df1.merge(df2, left_on='lkey', right_on='rkey')\n",
    "# Accdf.merge(transactdf)\n",
    "df = Accdf.join(transactdf)"
   ]
  },
  {
   "cell_type": "code",
   "execution_count": null,
   "metadata": {
    "colab": {
     "base_uri": "https://localhost:8080/",
     "height": 468
    },
    "id": "pOYiav6NqJTH",
    "outputId": "fc49e058-8fe5-4a01-81e1-4615fe112c92"
   },
   "outputs": [
    {
     "data": {
      "text/html": [
       "\n",
       "  <div id=\"df-af40ef30-f10b-47e8-a139-8aed682ddfb0\">\n",
       "    <div class=\"colab-df-container\">\n",
       "      <div>\n",
       "<style scoped>\n",
       "    .dataframe tbody tr th:only-of-type {\n",
       "        vertical-align: middle;\n",
       "    }\n",
       "\n",
       "    .dataframe tbody tr th {\n",
       "        vertical-align: top;\n",
       "    }\n",
       "\n",
       "    .dataframe thead th {\n",
       "        text-align: right;\n",
       "    }\n",
       "</style>\n",
       "<table border=\"1\" class=\"dataframe\">\n",
       "  <thead>\n",
       "    <tr style=\"text-align: right;\">\n",
       "      <th></th>\n",
       "      <th>Name</th>\n",
       "      <th>Surname</th>\n",
       "      <th>City</th>\n",
       "      <th>accountId</th>\n",
       "      <th>cardNumber</th>\n",
       "      <th>ActivationDate</th>\n",
       "      <th>Income</th>\n",
       "      <th>Transaction_Description</th>\n",
       "      <th>Transaction_Date</th>\n",
       "      <th>Amount</th>\n",
       "    </tr>\n",
       "  </thead>\n",
       "  <tbody>\n",
       "    <tr>\n",
       "      <th>0</th>\n",
       "      <td>Fransisco</td>\n",
       "      <td>Moloi</td>\n",
       "      <td>Jabi</td>\n",
       "      <td>1082549487327559</td>\n",
       "      <td>1100658304827521</td>\n",
       "      <td>2020-09-05</td>\n",
       "      <td>54162</td>\n",
       "      <td>Earthchild</td>\n",
       "      <td>2020-04-29</td>\n",
       "      <td>485</td>\n",
       "    </tr>\n",
       "    <tr>\n",
       "      <th>1</th>\n",
       "      <td>Njoroge</td>\n",
       "      <td>Sedumedi</td>\n",
       "      <td>Meyerton</td>\n",
       "      <td>1089105313261920</td>\n",
       "      <td>1029060900071894</td>\n",
       "      <td>2021-01-30</td>\n",
       "      <td>58243</td>\n",
       "      <td>XD Theatre Dark Ride</td>\n",
       "      <td>2020-07-29</td>\n",
       "      <td>635</td>\n",
       "    </tr>\n",
       "    <tr>\n",
       "      <th>2</th>\n",
       "      <td>Monica</td>\n",
       "      <td>Anyanwu</td>\n",
       "      <td>Kabarak Estate</td>\n",
       "      <td>1054833935159968</td>\n",
       "      <td>1037944868692576</td>\n",
       "      <td>2020-08-24</td>\n",
       "      <td>23892</td>\n",
       "      <td>TwinsFaja Supermarkets</td>\n",
       "      <td>2021-03-25</td>\n",
       "      <td>5250</td>\n",
       "    </tr>\n",
       "    <tr>\n",
       "      <th>3</th>\n",
       "      <td>Thandanani</td>\n",
       "      <td>Dlamini</td>\n",
       "      <td>Welverdiend</td>\n",
       "      <td>1007607074063246</td>\n",
       "      <td>1086226454679595</td>\n",
       "      <td>2021-03-05</td>\n",
       "      <td>1903</td>\n",
       "      <td>Factorie</td>\n",
       "      <td>2020-07-29</td>\n",
       "      <td>101</td>\n",
       "    </tr>\n",
       "    <tr>\n",
       "      <th>4</th>\n",
       "      <td>Lawrence</td>\n",
       "      <td>Njuguna</td>\n",
       "      <td>Fochville</td>\n",
       "      <td>1085864929927123</td>\n",
       "      <td>1101339287348625</td>\n",
       "      <td>2020-01-25</td>\n",
       "      <td>69677</td>\n",
       "      <td>Boardmans</td>\n",
       "      <td>2020-05-04</td>\n",
       "      <td>4662</td>\n",
       "    </tr>\n",
       "    <tr>\n",
       "      <th>...</th>\n",
       "      <td>...</td>\n",
       "      <td>...</td>\n",
       "      <td>...</td>\n",
       "      <td>...</td>\n",
       "      <td>...</td>\n",
       "      <td>...</td>\n",
       "      <td>...</td>\n",
       "      <td>...</td>\n",
       "      <td>...</td>\n",
       "      <td>...</td>\n",
       "    </tr>\n",
       "    <tr>\n",
       "      <th>3195</th>\n",
       "      <td>Itumeleng</td>\n",
       "      <td>Yahaya</td>\n",
       "      <td>Vanderbijlpark</td>\n",
       "      <td>1110654702553345</td>\n",
       "      <td>1085114438119399</td>\n",
       "      <td>2020-06-24</td>\n",
       "      <td>5205</td>\n",
       "      <td>NWJ</td>\n",
       "      <td>2020-10-23</td>\n",
       "      <td>5709</td>\n",
       "    </tr>\n",
       "    <tr>\n",
       "      <th>3196</th>\n",
       "      <td>Lesego</td>\n",
       "      <td>Moloi</td>\n",
       "      <td>Ogba</td>\n",
       "      <td>1036813970475766</td>\n",
       "      <td>1021141204840784</td>\n",
       "      <td>2020-04-26</td>\n",
       "      <td>53218</td>\n",
       "      <td>Fabiani</td>\n",
       "      <td>2020-10-06</td>\n",
       "      <td>1568</td>\n",
       "    </tr>\n",
       "    <tr>\n",
       "      <th>3197</th>\n",
       "      <td>Ben</td>\n",
       "      <td>Ochieng</td>\n",
       "      <td>Alagbado</td>\n",
       "      <td>1058278825593051</td>\n",
       "      <td>1083341879487026</td>\n",
       "      <td>2021-01-02</td>\n",
       "      <td>11622</td>\n",
       "      <td>Burger King</td>\n",
       "      <td>2020-09-07</td>\n",
       "      <td>3610</td>\n",
       "    </tr>\n",
       "    <tr>\n",
       "      <th>3198</th>\n",
       "      <td>Wayne</td>\n",
       "      <td>Okon</td>\n",
       "      <td>Kileleshwa</td>\n",
       "      <td>1016111475041355</td>\n",
       "      <td>1020575297644444</td>\n",
       "      <td>2020-02-26</td>\n",
       "      <td>1782</td>\n",
       "      <td>Mochachos</td>\n",
       "      <td>2020-10-03</td>\n",
       "      <td>1999</td>\n",
       "    </tr>\n",
       "    <tr>\n",
       "      <th>3199</th>\n",
       "      <td>William</td>\n",
       "      <td>Okeke</td>\n",
       "      <td>Otukpo</td>\n",
       "      <td>1003148745485144</td>\n",
       "      <td>1018852822656831</td>\n",
       "      <td>2020-07-10</td>\n",
       "      <td>4322</td>\n",
       "      <td>Cash Crusaders Pay Day Advance</td>\n",
       "      <td>2020-04-12</td>\n",
       "      <td>1292</td>\n",
       "    </tr>\n",
       "  </tbody>\n",
       "</table>\n",
       "<p>3200 rows × 10 columns</p>\n",
       "</div>\n",
       "      <button class=\"colab-df-convert\" onclick=\"convertToInteractive('df-af40ef30-f10b-47e8-a139-8aed682ddfb0')\"\n",
       "              title=\"Convert this dataframe to an interactive table.\"\n",
       "              style=\"display:none;\">\n",
       "        \n",
       "  <svg xmlns=\"http://www.w3.org/2000/svg\" height=\"24px\"viewBox=\"0 0 24 24\"\n",
       "       width=\"24px\">\n",
       "    <path d=\"M0 0h24v24H0V0z\" fill=\"none\"/>\n",
       "    <path d=\"M18.56 5.44l.94 2.06.94-2.06 2.06-.94-2.06-.94-.94-2.06-.94 2.06-2.06.94zm-11 1L8.5 8.5l.94-2.06 2.06-.94-2.06-.94L8.5 2.5l-.94 2.06-2.06.94zm10 10l.94 2.06.94-2.06 2.06-.94-2.06-.94-.94-2.06-.94 2.06-2.06.94z\"/><path d=\"M17.41 7.96l-1.37-1.37c-.4-.4-.92-.59-1.43-.59-.52 0-1.04.2-1.43.59L10.3 9.45l-7.72 7.72c-.78.78-.78 2.05 0 2.83L4 21.41c.39.39.9.59 1.41.59.51 0 1.02-.2 1.41-.59l7.78-7.78 2.81-2.81c.8-.78.8-2.07 0-2.86zM5.41 20L4 18.59l7.72-7.72 1.47 1.35L5.41 20z\"/>\n",
       "  </svg>\n",
       "      </button>\n",
       "      \n",
       "  <style>\n",
       "    .colab-df-container {\n",
       "      display:flex;\n",
       "      flex-wrap:wrap;\n",
       "      gap: 12px;\n",
       "    }\n",
       "\n",
       "    .colab-df-convert {\n",
       "      background-color: #E8F0FE;\n",
       "      border: none;\n",
       "      border-radius: 50%;\n",
       "      cursor: pointer;\n",
       "      display: none;\n",
       "      fill: #1967D2;\n",
       "      height: 32px;\n",
       "      padding: 0 0 0 0;\n",
       "      width: 32px;\n",
       "    }\n",
       "\n",
       "    .colab-df-convert:hover {\n",
       "      background-color: #E2EBFA;\n",
       "      box-shadow: 0px 1px 2px rgba(60, 64, 67, 0.3), 0px 1px 3px 1px rgba(60, 64, 67, 0.15);\n",
       "      fill: #174EA6;\n",
       "    }\n",
       "\n",
       "    [theme=dark] .colab-df-convert {\n",
       "      background-color: #3B4455;\n",
       "      fill: #D2E3FC;\n",
       "    }\n",
       "\n",
       "    [theme=dark] .colab-df-convert:hover {\n",
       "      background-color: #434B5C;\n",
       "      box-shadow: 0px 1px 3px 1px rgba(0, 0, 0, 0.15);\n",
       "      filter: drop-shadow(0px 1px 2px rgba(0, 0, 0, 0.3));\n",
       "      fill: #FFFFFF;\n",
       "    }\n",
       "  </style>\n",
       "\n",
       "      <script>\n",
       "        const buttonEl =\n",
       "          document.querySelector('#df-af40ef30-f10b-47e8-a139-8aed682ddfb0 button.colab-df-convert');\n",
       "        buttonEl.style.display =\n",
       "          google.colab.kernel.accessAllowed ? 'block' : 'none';\n",
       "\n",
       "        async function convertToInteractive(key) {\n",
       "          const element = document.querySelector('#df-af40ef30-f10b-47e8-a139-8aed682ddfb0');\n",
       "          const dataTable =\n",
       "            await google.colab.kernel.invokeFunction('convertToInteractive',\n",
       "                                                     [key], {});\n",
       "          if (!dataTable) return;\n",
       "\n",
       "          const docLinkHtml = 'Like what you see? Visit the ' +\n",
       "            '<a target=\"_blank\" href=https://colab.research.google.com/notebooks/data_table.ipynb>data table notebook</a>'\n",
       "            + ' to learn more about interactive tables.';\n",
       "          element.innerHTML = '';\n",
       "          dataTable['output_type'] = 'display_data';\n",
       "          await google.colab.output.renderOutput(dataTable, element);\n",
       "          const docLink = document.createElement('div');\n",
       "          docLink.innerHTML = docLinkHtml;\n",
       "          element.appendChild(docLink);\n",
       "        }\n",
       "      </script>\n",
       "    </div>\n",
       "  </div>\n",
       "  "
      ],
      "text/plain": [
       "            Name   Surname            City         accountId  \\\n",
       "0      Fransisco     Moloi            Jabi  1082549487327559   \n",
       "1        Njoroge  Sedumedi        Meyerton  1089105313261920   \n",
       "2         Monica   Anyanwu  Kabarak Estate  1054833935159968   \n",
       "3     Thandanani   Dlamini     Welverdiend  1007607074063246   \n",
       "4       Lawrence   Njuguna       Fochville  1085864929927123   \n",
       "...          ...       ...             ...               ...   \n",
       "3195   Itumeleng    Yahaya  Vanderbijlpark  1110654702553345   \n",
       "3196      Lesego     Moloi            Ogba  1036813970475766   \n",
       "3197         Ben   Ochieng        Alagbado  1058278825593051   \n",
       "3198       Wayne      Okon      Kileleshwa  1016111475041355   \n",
       "3199     William     Okeke          Otukpo  1003148745485144   \n",
       "\n",
       "            cardNumber ActivationDate  Income         Transaction_Description  \\\n",
       "0     1100658304827521     2020-09-05   54162                      Earthchild   \n",
       "1     1029060900071894     2021-01-30   58243            XD Theatre Dark Ride   \n",
       "2     1037944868692576     2020-08-24   23892          TwinsFaja Supermarkets   \n",
       "3     1086226454679595     2021-03-05    1903                        Factorie   \n",
       "4     1101339287348625     2020-01-25   69677                       Boardmans   \n",
       "...                ...            ...     ...                             ...   \n",
       "3195  1085114438119399     2020-06-24    5205                             NWJ   \n",
       "3196  1021141204840784     2020-04-26   53218                         Fabiani   \n",
       "3197  1083341879487026     2021-01-02   11622                     Burger King   \n",
       "3198  1020575297644444     2020-02-26    1782                       Mochachos   \n",
       "3199  1018852822656831     2020-07-10    4322  Cash Crusaders Pay Day Advance   \n",
       "\n",
       "     Transaction_Date  Amount  \n",
       "0          2020-04-29     485  \n",
       "1          2020-07-29     635  \n",
       "2          2021-03-25    5250  \n",
       "3          2020-07-29     101  \n",
       "4          2020-05-04    4662  \n",
       "...               ...     ...  \n",
       "3195       2020-10-23    5709  \n",
       "3196       2020-10-06    1568  \n",
       "3197       2020-09-07    3610  \n",
       "3198       2020-10-03    1999  \n",
       "3199       2020-04-12    1292  \n",
       "\n",
       "[3200 rows x 10 columns]"
      ]
     },
     "execution_count": 33,
     "metadata": {},
     "output_type": "execute_result"
    }
   ],
   "source": [
    "df"
   ]
  },
  {
   "cell_type": "code",
   "execution_count": null,
   "metadata": {
    "id": "T3x3RpnD8xS8"
   },
   "outputs": [],
   "source": [
    "df['Transportation'] = df.Income * 0.23\n",
    "df['Accounts'] = df.Income * 0.08\n",
    "df['Grocery'] = df.Income * 0.09\n",
    "df['Entertainment'] = df.Income * 0.03\n",
    "df['Emergency'] = df.Income * 0.03\n",
    "df['Housing'] = df.Income * 0.4\n",
    "df['Budget'] = df['Accounts'] + df['Grocery'] +df['Entertainment'] + df['Emergency'] + df['Housing'] + df['Transportation']"
   ]
  },
  {
   "cell_type": "code",
   "execution_count": null,
   "metadata": {
    "colab": {
     "base_uri": "https://localhost:8080/",
     "height": 522
    },
    "id": "Wvvq3oZl9mtY",
    "outputId": "9105045b-1425-4460-dcfc-7c1efbf0a7c4"
   },
   "outputs": [
    {
     "data": {
      "text/html": [
       "\n",
       "  <div id=\"df-5e1cd2ea-b750-4f63-a8e5-982e91803e1a\">\n",
       "    <div class=\"colab-df-container\">\n",
       "      <div>\n",
       "<style scoped>\n",
       "    .dataframe tbody tr th:only-of-type {\n",
       "        vertical-align: middle;\n",
       "    }\n",
       "\n",
       "    .dataframe tbody tr th {\n",
       "        vertical-align: top;\n",
       "    }\n",
       "\n",
       "    .dataframe thead th {\n",
       "        text-align: right;\n",
       "    }\n",
       "</style>\n",
       "<table border=\"1\" class=\"dataframe\">\n",
       "  <thead>\n",
       "    <tr style=\"text-align: right;\">\n",
       "      <th></th>\n",
       "      <th>Name</th>\n",
       "      <th>Surname</th>\n",
       "      <th>City</th>\n",
       "      <th>accountId</th>\n",
       "      <th>cardNumber</th>\n",
       "      <th>ActivationDate</th>\n",
       "      <th>Income</th>\n",
       "      <th>Transaction_Description</th>\n",
       "      <th>Transaction_Date</th>\n",
       "      <th>Amount</th>\n",
       "      <th>Transportation</th>\n",
       "      <th>Accounts</th>\n",
       "      <th>Grocery</th>\n",
       "      <th>Entertainment</th>\n",
       "      <th>Emergency</th>\n",
       "      <th>Housing</th>\n",
       "    </tr>\n",
       "  </thead>\n",
       "  <tbody>\n",
       "    <tr>\n",
       "      <th>0</th>\n",
       "      <td>Fransisco</td>\n",
       "      <td>Moloi</td>\n",
       "      <td>Jabi</td>\n",
       "      <td>1082549487327559</td>\n",
       "      <td>1100658304827521</td>\n",
       "      <td>2020-09-05</td>\n",
       "      <td>54162</td>\n",
       "      <td>Earthchild</td>\n",
       "      <td>2020-04-29</td>\n",
       "      <td>485</td>\n",
       "      <td>12457.26</td>\n",
       "      <td>4332.96</td>\n",
       "      <td>4874.58</td>\n",
       "      <td>1624.86</td>\n",
       "      <td>1624.86</td>\n",
       "      <td>21664.8</td>\n",
       "    </tr>\n",
       "    <tr>\n",
       "      <th>1</th>\n",
       "      <td>Njoroge</td>\n",
       "      <td>Sedumedi</td>\n",
       "      <td>Meyerton</td>\n",
       "      <td>1089105313261920</td>\n",
       "      <td>1029060900071894</td>\n",
       "      <td>2021-01-30</td>\n",
       "      <td>58243</td>\n",
       "      <td>XD Theatre Dark Ride</td>\n",
       "      <td>2020-07-29</td>\n",
       "      <td>635</td>\n",
       "      <td>13395.89</td>\n",
       "      <td>4659.44</td>\n",
       "      <td>5241.87</td>\n",
       "      <td>1747.29</td>\n",
       "      <td>1747.29</td>\n",
       "      <td>23297.2</td>\n",
       "    </tr>\n",
       "    <tr>\n",
       "      <th>2</th>\n",
       "      <td>Monica</td>\n",
       "      <td>Anyanwu</td>\n",
       "      <td>Kabarak Estate</td>\n",
       "      <td>1054833935159968</td>\n",
       "      <td>1037944868692576</td>\n",
       "      <td>2020-08-24</td>\n",
       "      <td>23892</td>\n",
       "      <td>TwinsFaja Supermarkets</td>\n",
       "      <td>2021-03-25</td>\n",
       "      <td>5250</td>\n",
       "      <td>5495.16</td>\n",
       "      <td>1911.36</td>\n",
       "      <td>2150.28</td>\n",
       "      <td>716.76</td>\n",
       "      <td>716.76</td>\n",
       "      <td>9556.8</td>\n",
       "    </tr>\n",
       "    <tr>\n",
       "      <th>3</th>\n",
       "      <td>Thandanani</td>\n",
       "      <td>Dlamini</td>\n",
       "      <td>Welverdiend</td>\n",
       "      <td>1007607074063246</td>\n",
       "      <td>1086226454679595</td>\n",
       "      <td>2021-03-05</td>\n",
       "      <td>1903</td>\n",
       "      <td>Factorie</td>\n",
       "      <td>2020-07-29</td>\n",
       "      <td>101</td>\n",
       "      <td>437.69</td>\n",
       "      <td>152.24</td>\n",
       "      <td>171.27</td>\n",
       "      <td>57.09</td>\n",
       "      <td>57.09</td>\n",
       "      <td>761.2</td>\n",
       "    </tr>\n",
       "    <tr>\n",
       "      <th>4</th>\n",
       "      <td>Lawrence</td>\n",
       "      <td>Njuguna</td>\n",
       "      <td>Fochville</td>\n",
       "      <td>1085864929927123</td>\n",
       "      <td>1101339287348625</td>\n",
       "      <td>2020-01-25</td>\n",
       "      <td>69677</td>\n",
       "      <td>Boardmans</td>\n",
       "      <td>2020-05-04</td>\n",
       "      <td>4662</td>\n",
       "      <td>16025.71</td>\n",
       "      <td>5574.16</td>\n",
       "      <td>6270.93</td>\n",
       "      <td>2090.31</td>\n",
       "      <td>2090.31</td>\n",
       "      <td>27870.8</td>\n",
       "    </tr>\n",
       "    <tr>\n",
       "      <th>...</th>\n",
       "      <td>...</td>\n",
       "      <td>...</td>\n",
       "      <td>...</td>\n",
       "      <td>...</td>\n",
       "      <td>...</td>\n",
       "      <td>...</td>\n",
       "      <td>...</td>\n",
       "      <td>...</td>\n",
       "      <td>...</td>\n",
       "      <td>...</td>\n",
       "      <td>...</td>\n",
       "      <td>...</td>\n",
       "      <td>...</td>\n",
       "      <td>...</td>\n",
       "      <td>...</td>\n",
       "      <td>...</td>\n",
       "    </tr>\n",
       "    <tr>\n",
       "      <th>3195</th>\n",
       "      <td>Itumeleng</td>\n",
       "      <td>Yahaya</td>\n",
       "      <td>Vanderbijlpark</td>\n",
       "      <td>1110654702553345</td>\n",
       "      <td>1085114438119399</td>\n",
       "      <td>2020-06-24</td>\n",
       "      <td>5205</td>\n",
       "      <td>NWJ</td>\n",
       "      <td>2020-10-23</td>\n",
       "      <td>5709</td>\n",
       "      <td>1197.15</td>\n",
       "      <td>416.40</td>\n",
       "      <td>468.45</td>\n",
       "      <td>156.15</td>\n",
       "      <td>156.15</td>\n",
       "      <td>2082.0</td>\n",
       "    </tr>\n",
       "    <tr>\n",
       "      <th>3196</th>\n",
       "      <td>Lesego</td>\n",
       "      <td>Moloi</td>\n",
       "      <td>Ogba</td>\n",
       "      <td>1036813970475766</td>\n",
       "      <td>1021141204840784</td>\n",
       "      <td>2020-04-26</td>\n",
       "      <td>53218</td>\n",
       "      <td>Fabiani</td>\n",
       "      <td>2020-10-06</td>\n",
       "      <td>1568</td>\n",
       "      <td>12240.14</td>\n",
       "      <td>4257.44</td>\n",
       "      <td>4789.62</td>\n",
       "      <td>1596.54</td>\n",
       "      <td>1596.54</td>\n",
       "      <td>21287.2</td>\n",
       "    </tr>\n",
       "    <tr>\n",
       "      <th>3197</th>\n",
       "      <td>Ben</td>\n",
       "      <td>Ochieng</td>\n",
       "      <td>Alagbado</td>\n",
       "      <td>1058278825593051</td>\n",
       "      <td>1083341879487026</td>\n",
       "      <td>2021-01-02</td>\n",
       "      <td>11622</td>\n",
       "      <td>Burger King</td>\n",
       "      <td>2020-09-07</td>\n",
       "      <td>3610</td>\n",
       "      <td>2673.06</td>\n",
       "      <td>929.76</td>\n",
       "      <td>1045.98</td>\n",
       "      <td>348.66</td>\n",
       "      <td>348.66</td>\n",
       "      <td>4648.8</td>\n",
       "    </tr>\n",
       "    <tr>\n",
       "      <th>3198</th>\n",
       "      <td>Wayne</td>\n",
       "      <td>Okon</td>\n",
       "      <td>Kileleshwa</td>\n",
       "      <td>1016111475041355</td>\n",
       "      <td>1020575297644444</td>\n",
       "      <td>2020-02-26</td>\n",
       "      <td>1782</td>\n",
       "      <td>Mochachos</td>\n",
       "      <td>2020-10-03</td>\n",
       "      <td>1999</td>\n",
       "      <td>409.86</td>\n",
       "      <td>142.56</td>\n",
       "      <td>160.38</td>\n",
       "      <td>53.46</td>\n",
       "      <td>53.46</td>\n",
       "      <td>712.8</td>\n",
       "    </tr>\n",
       "    <tr>\n",
       "      <th>3199</th>\n",
       "      <td>William</td>\n",
       "      <td>Okeke</td>\n",
       "      <td>Otukpo</td>\n",
       "      <td>1003148745485144</td>\n",
       "      <td>1018852822656831</td>\n",
       "      <td>2020-07-10</td>\n",
       "      <td>4322</td>\n",
       "      <td>Cash Crusaders Pay Day Advance</td>\n",
       "      <td>2020-04-12</td>\n",
       "      <td>1292</td>\n",
       "      <td>994.06</td>\n",
       "      <td>345.76</td>\n",
       "      <td>388.98</td>\n",
       "      <td>129.66</td>\n",
       "      <td>129.66</td>\n",
       "      <td>1728.8</td>\n",
       "    </tr>\n",
       "  </tbody>\n",
       "</table>\n",
       "<p>3200 rows × 16 columns</p>\n",
       "</div>\n",
       "      <button class=\"colab-df-convert\" onclick=\"convertToInteractive('df-5e1cd2ea-b750-4f63-a8e5-982e91803e1a')\"\n",
       "              title=\"Convert this dataframe to an interactive table.\"\n",
       "              style=\"display:none;\">\n",
       "        \n",
       "  <svg xmlns=\"http://www.w3.org/2000/svg\" height=\"24px\"viewBox=\"0 0 24 24\"\n",
       "       width=\"24px\">\n",
       "    <path d=\"M0 0h24v24H0V0z\" fill=\"none\"/>\n",
       "    <path d=\"M18.56 5.44l.94 2.06.94-2.06 2.06-.94-2.06-.94-.94-2.06-.94 2.06-2.06.94zm-11 1L8.5 8.5l.94-2.06 2.06-.94-2.06-.94L8.5 2.5l-.94 2.06-2.06.94zm10 10l.94 2.06.94-2.06 2.06-.94-2.06-.94-.94-2.06-.94 2.06-2.06.94z\"/><path d=\"M17.41 7.96l-1.37-1.37c-.4-.4-.92-.59-1.43-.59-.52 0-1.04.2-1.43.59L10.3 9.45l-7.72 7.72c-.78.78-.78 2.05 0 2.83L4 21.41c.39.39.9.59 1.41.59.51 0 1.02-.2 1.41-.59l7.78-7.78 2.81-2.81c.8-.78.8-2.07 0-2.86zM5.41 20L4 18.59l7.72-7.72 1.47 1.35L5.41 20z\"/>\n",
       "  </svg>\n",
       "      </button>\n",
       "      \n",
       "  <style>\n",
       "    .colab-df-container {\n",
       "      display:flex;\n",
       "      flex-wrap:wrap;\n",
       "      gap: 12px;\n",
       "    }\n",
       "\n",
       "    .colab-df-convert {\n",
       "      background-color: #E8F0FE;\n",
       "      border: none;\n",
       "      border-radius: 50%;\n",
       "      cursor: pointer;\n",
       "      display: none;\n",
       "      fill: #1967D2;\n",
       "      height: 32px;\n",
       "      padding: 0 0 0 0;\n",
       "      width: 32px;\n",
       "    }\n",
       "\n",
       "    .colab-df-convert:hover {\n",
       "      background-color: #E2EBFA;\n",
       "      box-shadow: 0px 1px 2px rgba(60, 64, 67, 0.3), 0px 1px 3px 1px rgba(60, 64, 67, 0.15);\n",
       "      fill: #174EA6;\n",
       "    }\n",
       "\n",
       "    [theme=dark] .colab-df-convert {\n",
       "      background-color: #3B4455;\n",
       "      fill: #D2E3FC;\n",
       "    }\n",
       "\n",
       "    [theme=dark] .colab-df-convert:hover {\n",
       "      background-color: #434B5C;\n",
       "      box-shadow: 0px 1px 3px 1px rgba(0, 0, 0, 0.15);\n",
       "      filter: drop-shadow(0px 1px 2px rgba(0, 0, 0, 0.3));\n",
       "      fill: #FFFFFF;\n",
       "    }\n",
       "  </style>\n",
       "\n",
       "      <script>\n",
       "        const buttonEl =\n",
       "          document.querySelector('#df-5e1cd2ea-b750-4f63-a8e5-982e91803e1a button.colab-df-convert');\n",
       "        buttonEl.style.display =\n",
       "          google.colab.kernel.accessAllowed ? 'block' : 'none';\n",
       "\n",
       "        async function convertToInteractive(key) {\n",
       "          const element = document.querySelector('#df-5e1cd2ea-b750-4f63-a8e5-982e91803e1a');\n",
       "          const dataTable =\n",
       "            await google.colab.kernel.invokeFunction('convertToInteractive',\n",
       "                                                     [key], {});\n",
       "          if (!dataTable) return;\n",
       "\n",
       "          const docLinkHtml = 'Like what you see? Visit the ' +\n",
       "            '<a target=\"_blank\" href=https://colab.research.google.com/notebooks/data_table.ipynb>data table notebook</a>'\n",
       "            + ' to learn more about interactive tables.';\n",
       "          element.innerHTML = '';\n",
       "          dataTable['output_type'] = 'display_data';\n",
       "          await google.colab.output.renderOutput(dataTable, element);\n",
       "          const docLink = document.createElement('div');\n",
       "          docLink.innerHTML = docLinkHtml;\n",
       "          element.appendChild(docLink);\n",
       "        }\n",
       "      </script>\n",
       "    </div>\n",
       "  </div>\n",
       "  "
      ],
      "text/plain": [
       "            Name   Surname            City         accountId  \\\n",
       "0      Fransisco     Moloi            Jabi  1082549487327559   \n",
       "1        Njoroge  Sedumedi        Meyerton  1089105313261920   \n",
       "2         Monica   Anyanwu  Kabarak Estate  1054833935159968   \n",
       "3     Thandanani   Dlamini     Welverdiend  1007607074063246   \n",
       "4       Lawrence   Njuguna       Fochville  1085864929927123   \n",
       "...          ...       ...             ...               ...   \n",
       "3195   Itumeleng    Yahaya  Vanderbijlpark  1110654702553345   \n",
       "3196      Lesego     Moloi            Ogba  1036813970475766   \n",
       "3197         Ben   Ochieng        Alagbado  1058278825593051   \n",
       "3198       Wayne      Okon      Kileleshwa  1016111475041355   \n",
       "3199     William     Okeke          Otukpo  1003148745485144   \n",
       "\n",
       "            cardNumber ActivationDate  Income         Transaction_Description  \\\n",
       "0     1100658304827521     2020-09-05   54162                      Earthchild   \n",
       "1     1029060900071894     2021-01-30   58243            XD Theatre Dark Ride   \n",
       "2     1037944868692576     2020-08-24   23892          TwinsFaja Supermarkets   \n",
       "3     1086226454679595     2021-03-05    1903                        Factorie   \n",
       "4     1101339287348625     2020-01-25   69677                       Boardmans   \n",
       "...                ...            ...     ...                             ...   \n",
       "3195  1085114438119399     2020-06-24    5205                             NWJ   \n",
       "3196  1021141204840784     2020-04-26   53218                         Fabiani   \n",
       "3197  1083341879487026     2021-01-02   11622                     Burger King   \n",
       "3198  1020575297644444     2020-02-26    1782                       Mochachos   \n",
       "3199  1018852822656831     2020-07-10    4322  Cash Crusaders Pay Day Advance   \n",
       "\n",
       "     Transaction_Date  Amount  Transportation  Accounts  Grocery  \\\n",
       "0          2020-04-29     485        12457.26   4332.96  4874.58   \n",
       "1          2020-07-29     635        13395.89   4659.44  5241.87   \n",
       "2          2021-03-25    5250         5495.16   1911.36  2150.28   \n",
       "3          2020-07-29     101          437.69    152.24   171.27   \n",
       "4          2020-05-04    4662        16025.71   5574.16  6270.93   \n",
       "...               ...     ...             ...       ...      ...   \n",
       "3195       2020-10-23    5709         1197.15    416.40   468.45   \n",
       "3196       2020-10-06    1568        12240.14   4257.44  4789.62   \n",
       "3197       2020-09-07    3610         2673.06    929.76  1045.98   \n",
       "3198       2020-10-03    1999          409.86    142.56   160.38   \n",
       "3199       2020-04-12    1292          994.06    345.76   388.98   \n",
       "\n",
       "      Entertainment  Emergency  Housing  \n",
       "0           1624.86    1624.86  21664.8  \n",
       "1           1747.29    1747.29  23297.2  \n",
       "2            716.76     716.76   9556.8  \n",
       "3             57.09      57.09    761.2  \n",
       "4           2090.31    2090.31  27870.8  \n",
       "...             ...        ...      ...  \n",
       "3195         156.15     156.15   2082.0  \n",
       "3196        1596.54    1596.54  21287.2  \n",
       "3197         348.66     348.66   4648.8  \n",
       "3198          53.46      53.46    712.8  \n",
       "3199         129.66     129.66   1728.8  \n",
       "\n",
       "[3200 rows x 16 columns]"
      ]
     },
     "execution_count": 39,
     "metadata": {},
     "output_type": "execute_result"
    }
   ],
   "source": [
    "df.round(2)"
   ]
  },
  {
   "cell_type": "code",
   "execution_count": null,
   "metadata": {
    "id": "EXKcEOSG93yC"
   },
   "outputs": [],
   "source": [
    "df['RunningBalance'] = df['Budget'] - df['Income']"
   ]
  },
  {
   "cell_type": "code",
   "execution_count": null,
   "metadata": {
    "colab": {
     "base_uri": "https://localhost:8080/",
     "height": 522
    },
    "id": "MxWibOSb_KWM",
    "outputId": "9d17b12b-67da-4e28-84ba-16f4821000cb"
   },
   "outputs": [
    {
     "data": {
      "text/html": [
       "\n",
       "  <div id=\"df-99c09595-81d0-43b8-a541-0d8a90245319\">\n",
       "    <div class=\"colab-df-container\">\n",
       "      <div>\n",
       "<style scoped>\n",
       "    .dataframe tbody tr th:only-of-type {\n",
       "        vertical-align: middle;\n",
       "    }\n",
       "\n",
       "    .dataframe tbody tr th {\n",
       "        vertical-align: top;\n",
       "    }\n",
       "\n",
       "    .dataframe thead th {\n",
       "        text-align: right;\n",
       "    }\n",
       "</style>\n",
       "<table border=\"1\" class=\"dataframe\">\n",
       "  <thead>\n",
       "    <tr style=\"text-align: right;\">\n",
       "      <th></th>\n",
       "      <th>Name</th>\n",
       "      <th>Surname</th>\n",
       "      <th>City</th>\n",
       "      <th>accountId</th>\n",
       "      <th>cardNumber</th>\n",
       "      <th>ActivationDate</th>\n",
       "      <th>Income</th>\n",
       "      <th>Transaction_Description</th>\n",
       "      <th>Transaction_Date</th>\n",
       "      <th>Amount</th>\n",
       "      <th>Transportation</th>\n",
       "      <th>Accounts</th>\n",
       "      <th>Grocery</th>\n",
       "      <th>Entertainment</th>\n",
       "      <th>Emergency</th>\n",
       "      <th>Housing</th>\n",
       "      <th>Budget</th>\n",
       "      <th>RunningBalance</th>\n",
       "    </tr>\n",
       "  </thead>\n",
       "  <tbody>\n",
       "    <tr>\n",
       "      <th>0</th>\n",
       "      <td>Fransisco</td>\n",
       "      <td>Moloi</td>\n",
       "      <td>Jabi</td>\n",
       "      <td>1082549487327559</td>\n",
       "      <td>1100658304827521</td>\n",
       "      <td>2020-09-05</td>\n",
       "      <td>54162</td>\n",
       "      <td>Earthchild</td>\n",
       "      <td>2020-04-29</td>\n",
       "      <td>485</td>\n",
       "      <td>12457.26</td>\n",
       "      <td>4332.96</td>\n",
       "      <td>4874.58</td>\n",
       "      <td>1624.86</td>\n",
       "      <td>1624.86</td>\n",
       "      <td>21664.8</td>\n",
       "      <td>46579.32</td>\n",
       "      <td>-7582.68</td>\n",
       "    </tr>\n",
       "    <tr>\n",
       "      <th>1</th>\n",
       "      <td>Njoroge</td>\n",
       "      <td>Sedumedi</td>\n",
       "      <td>Meyerton</td>\n",
       "      <td>1089105313261920</td>\n",
       "      <td>1029060900071894</td>\n",
       "      <td>2021-01-30</td>\n",
       "      <td>58243</td>\n",
       "      <td>XD Theatre Dark Ride</td>\n",
       "      <td>2020-07-29</td>\n",
       "      <td>635</td>\n",
       "      <td>13395.89</td>\n",
       "      <td>4659.44</td>\n",
       "      <td>5241.87</td>\n",
       "      <td>1747.29</td>\n",
       "      <td>1747.29</td>\n",
       "      <td>23297.2</td>\n",
       "      <td>50088.98</td>\n",
       "      <td>-8154.02</td>\n",
       "    </tr>\n",
       "    <tr>\n",
       "      <th>2</th>\n",
       "      <td>Monica</td>\n",
       "      <td>Anyanwu</td>\n",
       "      <td>Kabarak Estate</td>\n",
       "      <td>1054833935159968</td>\n",
       "      <td>1037944868692576</td>\n",
       "      <td>2020-08-24</td>\n",
       "      <td>23892</td>\n",
       "      <td>TwinsFaja Supermarkets</td>\n",
       "      <td>2021-03-25</td>\n",
       "      <td>5250</td>\n",
       "      <td>5495.16</td>\n",
       "      <td>1911.36</td>\n",
       "      <td>2150.28</td>\n",
       "      <td>716.76</td>\n",
       "      <td>716.76</td>\n",
       "      <td>9556.8</td>\n",
       "      <td>20547.12</td>\n",
       "      <td>-3344.88</td>\n",
       "    </tr>\n",
       "    <tr>\n",
       "      <th>3</th>\n",
       "      <td>Thandanani</td>\n",
       "      <td>Dlamini</td>\n",
       "      <td>Welverdiend</td>\n",
       "      <td>1007607074063246</td>\n",
       "      <td>1086226454679595</td>\n",
       "      <td>2021-03-05</td>\n",
       "      <td>1903</td>\n",
       "      <td>Factorie</td>\n",
       "      <td>2020-07-29</td>\n",
       "      <td>101</td>\n",
       "      <td>437.69</td>\n",
       "      <td>152.24</td>\n",
       "      <td>171.27</td>\n",
       "      <td>57.09</td>\n",
       "      <td>57.09</td>\n",
       "      <td>761.2</td>\n",
       "      <td>1636.58</td>\n",
       "      <td>-266.42</td>\n",
       "    </tr>\n",
       "    <tr>\n",
       "      <th>4</th>\n",
       "      <td>Lawrence</td>\n",
       "      <td>Njuguna</td>\n",
       "      <td>Fochville</td>\n",
       "      <td>1085864929927123</td>\n",
       "      <td>1101339287348625</td>\n",
       "      <td>2020-01-25</td>\n",
       "      <td>69677</td>\n",
       "      <td>Boardmans</td>\n",
       "      <td>2020-05-04</td>\n",
       "      <td>4662</td>\n",
       "      <td>16025.71</td>\n",
       "      <td>5574.16</td>\n",
       "      <td>6270.93</td>\n",
       "      <td>2090.31</td>\n",
       "      <td>2090.31</td>\n",
       "      <td>27870.8</td>\n",
       "      <td>59922.22</td>\n",
       "      <td>-9754.78</td>\n",
       "    </tr>\n",
       "    <tr>\n",
       "      <th>...</th>\n",
       "      <td>...</td>\n",
       "      <td>...</td>\n",
       "      <td>...</td>\n",
       "      <td>...</td>\n",
       "      <td>...</td>\n",
       "      <td>...</td>\n",
       "      <td>...</td>\n",
       "      <td>...</td>\n",
       "      <td>...</td>\n",
       "      <td>...</td>\n",
       "      <td>...</td>\n",
       "      <td>...</td>\n",
       "      <td>...</td>\n",
       "      <td>...</td>\n",
       "      <td>...</td>\n",
       "      <td>...</td>\n",
       "      <td>...</td>\n",
       "      <td>...</td>\n",
       "    </tr>\n",
       "    <tr>\n",
       "      <th>3195</th>\n",
       "      <td>Itumeleng</td>\n",
       "      <td>Yahaya</td>\n",
       "      <td>Vanderbijlpark</td>\n",
       "      <td>1110654702553345</td>\n",
       "      <td>1085114438119399</td>\n",
       "      <td>2020-06-24</td>\n",
       "      <td>5205</td>\n",
       "      <td>NWJ</td>\n",
       "      <td>2020-10-23</td>\n",
       "      <td>5709</td>\n",
       "      <td>1197.15</td>\n",
       "      <td>416.40</td>\n",
       "      <td>468.45</td>\n",
       "      <td>156.15</td>\n",
       "      <td>156.15</td>\n",
       "      <td>2082.0</td>\n",
       "      <td>4476.30</td>\n",
       "      <td>-728.70</td>\n",
       "    </tr>\n",
       "    <tr>\n",
       "      <th>3196</th>\n",
       "      <td>Lesego</td>\n",
       "      <td>Moloi</td>\n",
       "      <td>Ogba</td>\n",
       "      <td>1036813970475766</td>\n",
       "      <td>1021141204840784</td>\n",
       "      <td>2020-04-26</td>\n",
       "      <td>53218</td>\n",
       "      <td>Fabiani</td>\n",
       "      <td>2020-10-06</td>\n",
       "      <td>1568</td>\n",
       "      <td>12240.14</td>\n",
       "      <td>4257.44</td>\n",
       "      <td>4789.62</td>\n",
       "      <td>1596.54</td>\n",
       "      <td>1596.54</td>\n",
       "      <td>21287.2</td>\n",
       "      <td>45767.48</td>\n",
       "      <td>-7450.52</td>\n",
       "    </tr>\n",
       "    <tr>\n",
       "      <th>3197</th>\n",
       "      <td>Ben</td>\n",
       "      <td>Ochieng</td>\n",
       "      <td>Alagbado</td>\n",
       "      <td>1058278825593051</td>\n",
       "      <td>1083341879487026</td>\n",
       "      <td>2021-01-02</td>\n",
       "      <td>11622</td>\n",
       "      <td>Burger King</td>\n",
       "      <td>2020-09-07</td>\n",
       "      <td>3610</td>\n",
       "      <td>2673.06</td>\n",
       "      <td>929.76</td>\n",
       "      <td>1045.98</td>\n",
       "      <td>348.66</td>\n",
       "      <td>348.66</td>\n",
       "      <td>4648.8</td>\n",
       "      <td>9994.92</td>\n",
       "      <td>-1627.08</td>\n",
       "    </tr>\n",
       "    <tr>\n",
       "      <th>3198</th>\n",
       "      <td>Wayne</td>\n",
       "      <td>Okon</td>\n",
       "      <td>Kileleshwa</td>\n",
       "      <td>1016111475041355</td>\n",
       "      <td>1020575297644444</td>\n",
       "      <td>2020-02-26</td>\n",
       "      <td>1782</td>\n",
       "      <td>Mochachos</td>\n",
       "      <td>2020-10-03</td>\n",
       "      <td>1999</td>\n",
       "      <td>409.86</td>\n",
       "      <td>142.56</td>\n",
       "      <td>160.38</td>\n",
       "      <td>53.46</td>\n",
       "      <td>53.46</td>\n",
       "      <td>712.8</td>\n",
       "      <td>1532.52</td>\n",
       "      <td>-249.48</td>\n",
       "    </tr>\n",
       "    <tr>\n",
       "      <th>3199</th>\n",
       "      <td>William</td>\n",
       "      <td>Okeke</td>\n",
       "      <td>Otukpo</td>\n",
       "      <td>1003148745485144</td>\n",
       "      <td>1018852822656831</td>\n",
       "      <td>2020-07-10</td>\n",
       "      <td>4322</td>\n",
       "      <td>Cash Crusaders Pay Day Advance</td>\n",
       "      <td>2020-04-12</td>\n",
       "      <td>1292</td>\n",
       "      <td>994.06</td>\n",
       "      <td>345.76</td>\n",
       "      <td>388.98</td>\n",
       "      <td>129.66</td>\n",
       "      <td>129.66</td>\n",
       "      <td>1728.8</td>\n",
       "      <td>3716.92</td>\n",
       "      <td>-605.08</td>\n",
       "    </tr>\n",
       "  </tbody>\n",
       "</table>\n",
       "<p>3200 rows × 18 columns</p>\n",
       "</div>\n",
       "      <button class=\"colab-df-convert\" onclick=\"convertToInteractive('df-99c09595-81d0-43b8-a541-0d8a90245319')\"\n",
       "              title=\"Convert this dataframe to an interactive table.\"\n",
       "              style=\"display:none;\">\n",
       "        \n",
       "  <svg xmlns=\"http://www.w3.org/2000/svg\" height=\"24px\"viewBox=\"0 0 24 24\"\n",
       "       width=\"24px\">\n",
       "    <path d=\"M0 0h24v24H0V0z\" fill=\"none\"/>\n",
       "    <path d=\"M18.56 5.44l.94 2.06.94-2.06 2.06-.94-2.06-.94-.94-2.06-.94 2.06-2.06.94zm-11 1L8.5 8.5l.94-2.06 2.06-.94-2.06-.94L8.5 2.5l-.94 2.06-2.06.94zm10 10l.94 2.06.94-2.06 2.06-.94-2.06-.94-.94-2.06-.94 2.06-2.06.94z\"/><path d=\"M17.41 7.96l-1.37-1.37c-.4-.4-.92-.59-1.43-.59-.52 0-1.04.2-1.43.59L10.3 9.45l-7.72 7.72c-.78.78-.78 2.05 0 2.83L4 21.41c.39.39.9.59 1.41.59.51 0 1.02-.2 1.41-.59l7.78-7.78 2.81-2.81c.8-.78.8-2.07 0-2.86zM5.41 20L4 18.59l7.72-7.72 1.47 1.35L5.41 20z\"/>\n",
       "  </svg>\n",
       "      </button>\n",
       "      \n",
       "  <style>\n",
       "    .colab-df-container {\n",
       "      display:flex;\n",
       "      flex-wrap:wrap;\n",
       "      gap: 12px;\n",
       "    }\n",
       "\n",
       "    .colab-df-convert {\n",
       "      background-color: #E8F0FE;\n",
       "      border: none;\n",
       "      border-radius: 50%;\n",
       "      cursor: pointer;\n",
       "      display: none;\n",
       "      fill: #1967D2;\n",
       "      height: 32px;\n",
       "      padding: 0 0 0 0;\n",
       "      width: 32px;\n",
       "    }\n",
       "\n",
       "    .colab-df-convert:hover {\n",
       "      background-color: #E2EBFA;\n",
       "      box-shadow: 0px 1px 2px rgba(60, 64, 67, 0.3), 0px 1px 3px 1px rgba(60, 64, 67, 0.15);\n",
       "      fill: #174EA6;\n",
       "    }\n",
       "\n",
       "    [theme=dark] .colab-df-convert {\n",
       "      background-color: #3B4455;\n",
       "      fill: #D2E3FC;\n",
       "    }\n",
       "\n",
       "    [theme=dark] .colab-df-convert:hover {\n",
       "      background-color: #434B5C;\n",
       "      box-shadow: 0px 1px 3px 1px rgba(0, 0, 0, 0.15);\n",
       "      filter: drop-shadow(0px 1px 2px rgba(0, 0, 0, 0.3));\n",
       "      fill: #FFFFFF;\n",
       "    }\n",
       "  </style>\n",
       "\n",
       "      <script>\n",
       "        const buttonEl =\n",
       "          document.querySelector('#df-99c09595-81d0-43b8-a541-0d8a90245319 button.colab-df-convert');\n",
       "        buttonEl.style.display =\n",
       "          google.colab.kernel.accessAllowed ? 'block' : 'none';\n",
       "\n",
       "        async function convertToInteractive(key) {\n",
       "          const element = document.querySelector('#df-99c09595-81d0-43b8-a541-0d8a90245319');\n",
       "          const dataTable =\n",
       "            await google.colab.kernel.invokeFunction('convertToInteractive',\n",
       "                                                     [key], {});\n",
       "          if (!dataTable) return;\n",
       "\n",
       "          const docLinkHtml = 'Like what you see? Visit the ' +\n",
       "            '<a target=\"_blank\" href=https://colab.research.google.com/notebooks/data_table.ipynb>data table notebook</a>'\n",
       "            + ' to learn more about interactive tables.';\n",
       "          element.innerHTML = '';\n",
       "          dataTable['output_type'] = 'display_data';\n",
       "          await google.colab.output.renderOutput(dataTable, element);\n",
       "          const docLink = document.createElement('div');\n",
       "          docLink.innerHTML = docLinkHtml;\n",
       "          element.appendChild(docLink);\n",
       "        }\n",
       "      </script>\n",
       "    </div>\n",
       "  </div>\n",
       "  "
      ],
      "text/plain": [
       "            Name   Surname            City         accountId  \\\n",
       "0      Fransisco     Moloi            Jabi  1082549487327559   \n",
       "1        Njoroge  Sedumedi        Meyerton  1089105313261920   \n",
       "2         Monica   Anyanwu  Kabarak Estate  1054833935159968   \n",
       "3     Thandanani   Dlamini     Welverdiend  1007607074063246   \n",
       "4       Lawrence   Njuguna       Fochville  1085864929927123   \n",
       "...          ...       ...             ...               ...   \n",
       "3195   Itumeleng    Yahaya  Vanderbijlpark  1110654702553345   \n",
       "3196      Lesego     Moloi            Ogba  1036813970475766   \n",
       "3197         Ben   Ochieng        Alagbado  1058278825593051   \n",
       "3198       Wayne      Okon      Kileleshwa  1016111475041355   \n",
       "3199     William     Okeke          Otukpo  1003148745485144   \n",
       "\n",
       "            cardNumber ActivationDate  Income         Transaction_Description  \\\n",
       "0     1100658304827521     2020-09-05   54162                      Earthchild   \n",
       "1     1029060900071894     2021-01-30   58243            XD Theatre Dark Ride   \n",
       "2     1037944868692576     2020-08-24   23892          TwinsFaja Supermarkets   \n",
       "3     1086226454679595     2021-03-05    1903                        Factorie   \n",
       "4     1101339287348625     2020-01-25   69677                       Boardmans   \n",
       "...                ...            ...     ...                             ...   \n",
       "3195  1085114438119399     2020-06-24    5205                             NWJ   \n",
       "3196  1021141204840784     2020-04-26   53218                         Fabiani   \n",
       "3197  1083341879487026     2021-01-02   11622                     Burger King   \n",
       "3198  1020575297644444     2020-02-26    1782                       Mochachos   \n",
       "3199  1018852822656831     2020-07-10    4322  Cash Crusaders Pay Day Advance   \n",
       "\n",
       "     Transaction_Date  Amount  Transportation  Accounts  Grocery  \\\n",
       "0          2020-04-29     485        12457.26   4332.96  4874.58   \n",
       "1          2020-07-29     635        13395.89   4659.44  5241.87   \n",
       "2          2021-03-25    5250         5495.16   1911.36  2150.28   \n",
       "3          2020-07-29     101          437.69    152.24   171.27   \n",
       "4          2020-05-04    4662        16025.71   5574.16  6270.93   \n",
       "...               ...     ...             ...       ...      ...   \n",
       "3195       2020-10-23    5709         1197.15    416.40   468.45   \n",
       "3196       2020-10-06    1568        12240.14   4257.44  4789.62   \n",
       "3197       2020-09-07    3610         2673.06    929.76  1045.98   \n",
       "3198       2020-10-03    1999          409.86    142.56   160.38   \n",
       "3199       2020-04-12    1292          994.06    345.76   388.98   \n",
       "\n",
       "      Entertainment  Emergency  Housing    Budget  RunningBalance  \n",
       "0           1624.86    1624.86  21664.8  46579.32        -7582.68  \n",
       "1           1747.29    1747.29  23297.2  50088.98        -8154.02  \n",
       "2            716.76     716.76   9556.8  20547.12        -3344.88  \n",
       "3             57.09      57.09    761.2   1636.58         -266.42  \n",
       "4           2090.31    2090.31  27870.8  59922.22        -9754.78  \n",
       "...             ...        ...      ...       ...             ...  \n",
       "3195         156.15     156.15   2082.0   4476.30         -728.70  \n",
       "3196        1596.54    1596.54  21287.2  45767.48        -7450.52  \n",
       "3197         348.66     348.66   4648.8   9994.92        -1627.08  \n",
       "3198          53.46      53.46    712.8   1532.52         -249.48  \n",
       "3199         129.66     129.66   1728.8   3716.92         -605.08  \n",
       "\n",
       "[3200 rows x 18 columns]"
      ]
     },
     "execution_count": 42,
     "metadata": {},
     "output_type": "execute_result"
    }
   ],
   "source": [
    "df"
   ]
  },
  {
   "cell_type": "code",
   "execution_count": null,
   "metadata": {
    "colab": {
     "base_uri": "https://localhost:8080/"
    },
    "id": "TwnQJS-S_Lqn",
    "outputId": "44bdf8bb-dafa-4550-ef54-459c00b2854d"
   },
   "outputs": [
    {
     "data": {
      "text/plain": [
       "0                          Andilechild\n",
       "1                 XD Theatre Dark Ride\n",
       "2               TwinsFaja Supermarkets\n",
       "3                             Factorie\n",
       "4                            Boardmans\n",
       "                     ...              \n",
       "3195                               NWJ\n",
       "3196                           Fabiani\n",
       "3197                       Burger King\n",
       "3198                         Mochachos\n",
       "3199    Cash Crusaders Pay Day Advance\n",
       "Name: Transaction_Description, Length: 3200, dtype: object"
      ]
     },
     "execution_count": 44,
     "metadata": {},
     "output_type": "execute_result"
    }
   ],
   "source": [
    "pd.Series(df['Transaction_Description']).str.replace('Earth', 'Andile', regex=True)"
   ]
  },
  {
   "cell_type": "code",
   "execution_count": null,
   "metadata": {
    "id": "IHyqV585AJaq"
   },
   "outputs": [],
   "source": []
  }
 ],
 "metadata": {
  "colab": {
   "provenance": []
  },
  "kernelspec": {
   "display_name": "Python 3 (ipykernel)",
   "language": "python",
   "name": "python3"
  },
  "language_info": {
   "codemirror_mode": {
    "name": "ipython",
    "version": 3
   },
   "file_extension": ".py",
   "mimetype": "text/x-python",
   "name": "python",
   "nbconvert_exporter": "python",
   "pygments_lexer": "ipython3",
   "version": "3.9.13"
  }
 },
 "nbformat": 4,
 "nbformat_minor": 1
}
