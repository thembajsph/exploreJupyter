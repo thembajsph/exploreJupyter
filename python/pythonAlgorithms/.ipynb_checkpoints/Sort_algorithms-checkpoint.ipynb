{
 "cells": [
  {
   "cell_type": "markdown",
   "metadata": {
    "id": "-wFNCAa3CSnt"
   },
   "source": [
    "# Sort Algorithms\n",
    "\n",
    "© Explore Data Science Academy "
   ]
  },
  {
   "cell_type": "markdown",
   "metadata": {
    "id": "mtAcgdOKCVpW"
   },
   "source": [
    "## Learning objectives\n",
    "\n",
    "By the end of this train, you should be able to:\n",
    "\n",
    "* understand the concepts of sorting algorithms and their complexity; and\n",
    "* write pseudocode for sorting algorithms."
   ]
  },
  {
   "cell_type": "markdown",
   "metadata": {},
   "source": [
    "## Outline\n",
    "\n",
    "In this train, we will discuss various sorting algorithms, their implementation, and complexity, including:\n",
    "\n",
    "* bubble sort;\n",
    "* insertion sort;\n",
    "* merge sort; and\n",
    "* quicksort.\n"
   ]
  },
  {
   "cell_type": "markdown",
   "metadata": {
    "id": "uFViZIo6CxTV"
   },
   "source": [
    "## Sorting in Python\n",
    "\n",
    "A sorting algorithm is an algorithm that puts elements of a list in a certain logical order. There are many different sorting techniques and applications.\n",
    "\n",
    "Applying sorting techniques are especially useful in the following cases:\n",
    "* **Searching** algorithms are much quicker on sorted lists.\n",
    "* **Selecting** items based on a specific characteristic, such as the k<sup>th</sup> smallest or largest value.\n",
    "* Finding **duplicates** in a list is much easier if the list is sorted.\n",
    "\n",
    "\n",
    "\n",
    "Because Python is a high-level programming language, we can also use built-in functions such as `sorted()`. However, writing your own sorting algorithms provides greater flexibility, and in some cases, greater efficiency."
   ]
  },
  {
   "cell_type": "markdown",
   "metadata": {},
   "source": [
    "Before we get into specific sorting algorithms it should be noted that it is possible to have various implementations and variations of each. Two characteristics can be used to distinguish between them: *in-place* and *stability*.\n",
    "\n",
    "An **in-place** sorting algorithm refers to one that sorts the input using no additional data structures. In other words, the sorting algorithm modifies the input list directly instead of creating a new list for the sorted output. The in-place characteristic often indicates the space complexity of an algorithm.\n",
    "\n",
    "A **stable** sorting algorithm refers to one that leaves list elements that have equal sorting keys at the *same relative positions* as they were in the input list. So, a stable algorithm preserves the original order of the input list. If we had duplicate elements in the list, the output list would contain these duplicate elements with the same relative order.\n",
    "\n",
    "Stability is only of concern when duplicate elements are distinguishable. For example, if the list or collection already has a specific order, then preserving that order when sorting is imperative.\n",
    "\n",
    "In the following examples, we'll discuss these two characteristics for each sorting implementation."
   ]
  },
  {
   "cell_type": "markdown",
   "metadata": {
    "id": "AmuZW51MDDIt"
   },
   "source": [
    "Let's cover some of the more common sorting algorithms."
   ]
  },
  {
   "cell_type": "markdown",
   "metadata": {},
   "source": [
    "> 💡 Note\n",
    ">\n",
    "> If you are struggling with the implementation of these sort functions, remember to use `print()` statements to see if you are getting the correct intermediate results as in the figures."
   ]
  },
  {
   "cell_type": "markdown",
   "metadata": {
    "id": "qj9J3NeWC5mp"
   },
   "source": [
    "## Bubble sort\n",
    "\n",
    "Bubble sort is a basic sorting algorithm that is relatively simple. The idea is to 'bubble up' the largest element within a list to the end of the list, then the second-largest to the second-last position in the list, and so on. Each bubble up takes a full sweep through the list. "
   ]
  },
  {
   "cell_type": "markdown",
   "metadata": {
    "id": "_j82dXFTDTcI"
   },
   "source": [
    "Let's consider a standard implementation of bubble sort, where we start looking at each item in the list one by one and compare it to the subsequent value. With each iteration, the number of items we consider decreases because the other items have already been sorted. Since we swap elements within the input list and return the same list in this bubble sort implementation, we know it is an *in-place* algorithm. It is also a *stable* algorithm by nature."
   ]
  },
  {
   "cell_type": "code",
   "execution_count": 9,
   "metadata": {
    "id": "EqVCpS6hC7bh"
   },
   "outputs": [],
   "source": [
    "def bubble_sort(items):\n",
    "    \"\"\" Implementation of bubble sort.\"\"\"\n",
    "    \n",
    "    for i in range(len(items)):\n",
    "        for j in range(len(items)-1-i):\n",
    "\n",
    "            if items[j] > items[j+1]:\n",
    "                items[j], items[j+1] = items[j+1], items[j]     # Swap!\n",
    "          \n",
    "    return items"
   ]
  },
  {
   "cell_type": "code",
   "execution_count": 10,
   "metadata": {
    "colab": {
     "base_uri": "https://localhost:8080/"
    },
    "executionInfo": {
     "elapsed": 425,
     "status": "ok",
     "timestamp": 1636366865764,
     "user": {
      "displayName": "Carmen Lewis",
      "photoUrl": "https://lh3.googleusercontent.com/a-/AOh14Gj7u6P2tPNjY-iE8Zwb3ieh6TZTE4-igJVYEn12=s64",
      "userId": "02744010333164437336"
     },
     "user_tz": -120
    },
    "id": "Ers4q9WiEJes",
    "outputId": "92001adc-db0c-4dca-e679-06e5ea6e632a"
   },
   "outputs": [
    {
     "data": {
      "text/plain": [
       "[11, 17, 18, 23, 26]"
      ]
     },
     "execution_count": 10,
     "metadata": {},
     "output_type": "execute_result"
    }
   ],
   "source": [
    "bubble_sort([11, 17, 18, 26, 23])"
   ]
  },
  {
   "cell_type": "markdown",
   "metadata": {
    "id": "PBCUT7k6LMXt"
   },
   "source": [
    "In the first iteration where $i=0$, we compare the first two elements of the list, 11 and 17. Since 11 is smaller, we do not swap. Similarly, when our inner loop $j$ is equal to 1 and 2, we do not swap any elements. Only when our inner loop has $j=3$ do we see that the 26 and 23 need to swap.\n",
    "\n",
    "On our second iteration ($i=1$), we need to compare the list from the beginning. However, we see that the entire list is already sorted, similarly for the other outer loop iterations."
   ]
  },
  {
   "cell_type": "markdown",
   "metadata": {
    "id": "hrBUgSjrEPRU"
   },
   "source": [
    "\n",
    "<div align=\"center\" style=\" text-align: center; margin: 0 auto\">\n",
    "<img src=\"https://github.com/Explore-AI/Pictures/blob/d845b3f720905851d6d7ecf81a0501ab9d7c2e6a/bubble_sort.jpg?raw=True\"\n",
    "     alt=\"Bubble sort\"\n",
    "     style=\"padding-bottom=0.5em\"\n",
    "     width=800px/>\n",
    "     <br>\n",
    "     <em>Figure 1. Visualisation of a standard bubble sort of a list of integers. </em>\n",
    "</div>"
   ]
  },
  {
   "cell_type": "markdown",
   "metadata": {
    "id": "DVnZjjKOF9ku"
   },
   "source": [
    "However, because the standard bubble sort algorithm takes a full sweep of the list, it will continue to iterate through the list even if all numbers are already sorted. This means that even if you provide the function with a list that is already sorted, it will have to iterate and compare all list elements."
   ]
  },
  {
   "cell_type": "markdown",
   "metadata": {
    "id": "vpyHP_RaGch1"
   },
   "source": [
    "An easy way to modify our bubble sort function is to incorporate a flag that will tell us that nothing swapped on the previous sweep. Here is the pseudocode and visualisation of this modified implementation of bubble sort:\n",
    "\n",
    "```python\n",
    "# Pseudocode\n",
    "procedure bubble_sort( input A --> which is a list of sortable items )\n",
    "    n = length(A)\n",
    "    repeat \n",
    "        swapped = false\n",
    "        for i = 1 to n-1 inclusive do\n",
    "            # if this pair is out of order\n",
    "            if A[i-1] > A[i] then\n",
    "                # swap them and remember something changed\n",
    "                swap( A[i-1], A[i] )\n",
    "                swapped = true\n",
    "            end if\n",
    "        end for\n",
    "    until not swapped\n",
    "end procedure\n",
    "```"
   ]
  },
  {
   "cell_type": "markdown",
   "metadata": {
    "id": "pqxffoS8HDkh"
   },
   "source": [
    "<div align=\"center\" style=\" text-align: center; margin: 0 auto\">\n",
    "<img src=\"https://github.com/Explore-AI/Pictures/blob/96a2e655f93be8239e585e1be9be1e4669efd44f/bubble_sort_modified.jpg?raw=True\"\n",
    "     alt=\"Modified bubble sort\"\n",
    "     style=\"padding-bottom=0.5em\"\n",
    "     width=600px/>\n",
    "     <br>\n",
    "     <em>Figure 2. Visualisation of a modified bubble sort of a list of integers. </em>\n",
    "</div>"
   ]
  },
  {
   "cell_type": "markdown",
   "metadata": {
    "id": "_yDsCAJYG8As"
   },
   "source": [
    "> 🚩 **Exercise**\n",
    "> \n",
    "> Write a bubble sort function that includes a flag that will allow the function to terminate when there is nothing left to sort.\n",
    ">\n",
    "> *Use the above pseudocode as a guide to this implementation.*"
   ]
  },
  {
   "cell_type": "code",
   "execution_count": 5,
   "metadata": {
    "id": "0Eh1ylZIGb80"
   },
   "outputs": [
    {
     "name": "stdout",
     "output_type": "stream",
     "text": [
      "Nothing left to sort\n",
      "[11, 17, 23, 26, 18, 23]\n"
     ]
    }
   ],
   "source": [
    "#TODO: Write your code here.\n",
    "def bubble_sort2(items):\n",
    "    \"\"\" Implementation of bubble sort.\"\"\"\n",
    "    \n",
    "    for i in range(len(items)):\n",
    "        for j in range(len(items)-1-i):\n",
    "\n",
    "            if items[j] > items[j+1]:\n",
    "                items[j], items[j+1] = items[j+1], items[j]    # Swap!\n",
    "                break\n",
    "    print('Nothing left to sort')     \n",
    "    return items\n",
    "\n",
    "\n",
    "print(bubble_sort2([23,26,11,17,18,23]))"
   ]
  },
  {
   "cell_type": "markdown",
   "metadata": {
    "id": "lbPbgFMmNtSu"
   },
   "source": [
    "> 🚩 **Exercise**\n",
    "> \n",
    "> Write a bubble sort function that has the ability to reverse the order of the sorting through an additional parameter.\n",
    ">\n",
    "> *Have the default sorting order as ascending.*"
   ]
  },
  {
   "cell_type": "code",
   "execution_count": 4,
   "metadata": {
    "id": "1db2JpzYOXB_"
   },
   "outputs": [
    {
     "name": "stdout",
     "output_type": "stream",
     "text": [
      "[26, 23, 23, 18, 17, 11]\n"
     ]
    }
   ],
   "source": [
    "#TODO: Write your code here.\n",
    "def bubble_sort1(items, ascending=True):\n",
    "    \"\"\" Implementation of bubble sort.\"\"\"\n",
    "    \n",
    "    for i in range(len(items)):\n",
    "        for j in range(len(items)-1-i):\n",
    "            \n",
    "            if ascending:\n",
    "                \n",
    "                if items[j] > items[j+1]:\n",
    "                    items[j], items[j+1] = items[j+1], items[j]     # Swap!\n",
    "                    \n",
    "            else:\n",
    "                \n",
    "                if items[j] < items[j+1]:\n",
    "                    items[j], items[j+1] = items[j+1], items[j]     # Swap!\n",
    "          \n",
    "    return items\n",
    "\n",
    "\n",
    "\n",
    "print(bubble_sort1([23,26,11,17,18,23]))"
   ]
  },
  {
   "cell_type": "markdown",
   "metadata": {},
   "source": [
    "### Time complexity\n",
    "\n",
    "Regardless of modifications to the bubble sort algorithm, we fundamentally have two nested loops within the function. This means that we have *quadratic time complexity* $O(n^2)$. However, this will only be the case if both loops iterate, which, with the addition of the flag to terminate early, might not always be the case.\n",
    "\n",
    "So, we need to consider the best, worst, and average time complexities of bubble sort.\n",
    "\n",
    "**Best case**\n",
    "\n",
    "In the best case, the bubble sort algorithm is implemented on a list that is already sorted in ascending order, for example, `[1, 2, 3, 4, 5]`. This means that we only need a single iteration for the algorithm to determine that none of the elements needs to be swapped. So, $n-1$ comparisons are required, with $n$ the number of list elements and the *best-case time complexity* is *linear time* $O(n)$.\n",
    "\n",
    "**Worst case**\n",
    "\n",
    "In the worst-case scenario, the list is in the reverse order, for example, `[5, 4, 3, 2, 1]`. This means that the algorithm would have to swap every list element to sort it in ascending order. In the first iteration, the largest element moves from the left to the right, and the swapping pairs are `5/4, 5/3, 5/2, 5/1`. In the second iteration, the swapping pairs are `4/3, 4/2, 4/1`, in the third `3/2, 3/1`, and in the fourth iteration, we only have a single pair `2/1`. \n",
    "\n",
    "In other words, we have 10 comparison and swapping operations for this list of five elements in the reverse order. Our biggest operation was moving `5` to the right side, which took four operations, and on average, we divide by two because half of the elements are compared and swapped:\n",
    "\n",
    "$10 = 5 \\times 4 \\times 1/2 = 20 \\times 1/2$.\n",
    "\n",
    "Now we can substitute our number of elements in, which is $n = 5$:\n",
    "\n",
    "$5 \\times 4 \\times 1/2 = n \\times (n-1) \\times 1/2 = 1/2 (n^2 - n)$.\n",
    "\n",
    "Since the highest power of $n$ is $n^2$ in the equation above, we can assume that our *worst-case time complexity* is *quadratic time* $O(n^2)$ for bubble sort.\n",
    "\n",
    "**Average case**\n",
    "\n",
    "Illustrating the average time complexity of bubble sort is more complex without going into the math. We could simply assume that on average, half of our elements are already in place, which means we have:\n",
    "\n",
    "$n \\times (n-1) \\times 1/2 \\times 1/2 = 1/4 (n^2 - n)$.\n",
    "\n",
    "Again, the highest power of $n$ is $n^2$, and we can assume that our *average time complexity* is *quadratic time* $O(n^2)$ for bubble sort."
   ]
  },
  {
   "cell_type": "markdown",
   "metadata": {
    "id": "WaQSab1dKdlv"
   },
   "source": [
    "## Insertion sort\n",
    "\n",
    "The insertion sort algorithm works by taking elements from an unsorted list and inserting them at the right place in this same list. Typically, insertion sort is done *in-place* by iterating through the list and adding the sorted sublist at the head of the same list. If it is not done in-place, the sorted elements are added to an empty sorted list. Since the total number of elements in the new and old list stays the same, we can use the same list to represent the sorted and the unsorted sections.\n",
    "\n",
    "Insertion algorithms are also usually *stable* since the order of duplicates will be preserved because a swap only occurs when an element is strictly larger than the key. "
   ]
  },
  {
   "cell_type": "markdown",
   "metadata": {
    "id": "xLFntDI8R-kS"
   },
   "source": [
    "Let's first consider the pseudocode for an insertion sort algorithm:\n",
    "\n",
    "```python\n",
    "# Pseudocode\n",
    "procedure insertion_sort( input A --> which is a list of sortable items )\n",
    "    for i = 1 to n-1 inclusive do\n",
    "        key = A[i]\n",
    "        j = i - 1\n",
    "        while j >= 0 and key < A[j] do\n",
    "            shift A[j] to the left\n",
    "            j = j - 1\n",
    "        end while\n",
    "        A[j + 1] = key\n",
    "    end while\n",
    "end procedure\n",
    "```"
   ]
  },
  {
   "cell_type": "markdown",
   "metadata": {
    "id": "7ocLGN__YPLN"
   },
   "source": [
    "Every iteration of the sorting algorithm *inserts* an element from the input list in the correct position of the sorted list. So, on each pass, an element is checked against all elements in the sorted list, similar to how you would sort a deck of cards."
   ]
  },
  {
   "cell_type": "markdown",
   "metadata": {
    "id": "svZ9zzAgkvUP"
   },
   "source": [
    "Consider a list `[11, 2, 26, 18, 23]`. We assume that the first element with the value 11 is already in the sorted list on the left. \n",
    "\n",
    "So, on our first iteration, $i=1$ and the `key` value is 2. We compare this `key` value with each value on the left. Since 2 < 11, we shift 2 to the left to position $j=0$.\n",
    "\n",
    "On our second iteration, $i=2$, `key=26`. Again, we compare it to the values to the left of it. Since 26 > 11 > 2, we add 26 to the sorted list in the same position.\n",
    "\n",
    "On our third iteration, $i=3$, `key=18`. We compare it to the values on the left. Since 18 < 26 but 18 > 11, we shift it to $j=2$. We do not have to compare the `key` to any values to the left of $j=1$ because we already know that the sublist to the left is sorted.\n",
    "\n",
    "Finally, on our fourth iteration, $i=4$, `key=23`. Since 23 < 26 but 23 > 18, we shift it to $j=3$. As in the previous iteration, we do not have to compare it to the values 11 and 2 because they have already been sorted. However, if the `key` was also smaller than 18 then we would compare it to the value left of 18 too."
   ]
  },
  {
   "cell_type": "markdown",
   "metadata": {
    "id": "7mmV8JF9kFjj"
   },
   "source": [
    "<div align=\"center\" style=\" text-align: center; margin: 0 auto\">\n",
    "<img src=\"https://github.com/Explore-AI/Pictures/blob/f8cc8c8a740e4cf483c00a93ac5bc422a4ed022d/insertion_sort.jpg?raw=True\"\n",
    "     alt=\"Insertion sort\"\n",
    "     style=\"padding-bottom=0.5em\"\n",
    "     width=900px/>\n",
    "     <br>\n",
    "     <em>Figure 3. Visualisation of an insertion sort of a list of integers. </em>\n",
    "<div>"
   ]
  },
  {
   "cell_type": "markdown",
   "metadata": {
    "id": "ZzYMGUKCbxeH"
   },
   "source": [
    "> 🚩 **Exercise**\n",
    "> \n",
    "> Complete the insertion sort function below.\n",
    ">\n",
    "> *Use the above explanation and pseudocode as a guide to this implementation.*"
   ]
  },
  {
   "cell_type": "code",
   "execution_count": 41,
   "metadata": {
    "id": "64U9mjGSVsNk"
   },
   "outputs": [
    {
     "name": "stdout",
     "output_type": "stream",
     "text": [
      "[28, 9, 29, 7, 2, 15, 28]\n"
     ]
    }
   ],
   "source": [
    "#TODO: Complete this function.\n",
    "\n",
    "def insertion_sort(items):\n",
    "    \n",
    "     \"\"\" Implementation of an insertion sort function.\"\"\"\n",
    "        \n",
    "        \n",
    "\n",
    "    # iterate from the second to the last item of the list\n",
    "    \n",
    "     for i in range(1, len(items)):\n",
    "\n",
    "        # remember what was in position i of the list\n",
    "        # key = #TODO \n",
    "        anchor = items[i]\n",
    "        # initialise a variable `j` that will indicate the position of the element\n",
    "        # we want to position – we only look to the left of i\n",
    "        # j = #TODO\n",
    "        j = 0\n",
    "        j = j - 1\n",
    "        \n",
    "        # compare `key` with each element on the left of it until a smaller \n",
    "        # element is found\n",
    "        # remember, we can't position an element at an index smaller than 0      \n",
    "        # while #TODO\n",
    "        while j >= 0 and anchor < items[j]:\n",
    "            \n",
    "          # shift the value to the left\n",
    "          #TODO\n",
    "            items[j+1] = items[j]\n",
    "          # point the position variable to the next element\n",
    "          #TODO\n",
    "            j = j - 1\n",
    "        # place the element in its correct position by shifting the element\n",
    "        # one position to the right\n",
    "        #TODO\n",
    "        items[j+1] = anchor\n",
    "        \n",
    "     return items   \n",
    "\n",
    "\n",
    "\n",
    "\n",
    "\n",
    "    \n",
    "    \n",
    "print(insertion_sort([11,9,29,7,2,15,28]))\n"
   ]
  },
  {
   "cell_type": "code",
   "execution_count": 40,
   "metadata": {},
   "outputs": [
    {
     "name": "stdout",
     "output_type": "stream",
     "text": [
      "[2, 7, 9, 11, 15, 28, 29]\n"
     ]
    }
   ],
   "source": [
    "def insertion_sort(elements):\n",
    "    for i in range(1, len(elements)):\n",
    "        anchor = elements[i]\n",
    "        j = i - 1\n",
    "        while j>=0 and anchor < elements[j]:\n",
    "            elements[j+1] = elements[j]\n",
    "            j = j - 1\n",
    "        elements[j+1] = anchor\n",
    "\n",
    "if __name__ == '__main__':\n",
    "    elements = [11,9,29,7,2,15,28]\n",
    "    insertion_sort(elements)\n",
    "    print(elements)\n",
    "    #\n"
   ]
  },
  {
   "cell_type": "markdown",
   "metadata": {},
   "source": [
    "### Time complexity\n",
    "\n",
    "As in bubble sort, insertion sort also has two nested loops, therefore, the *worst-case* and *average time complexity* for insertion sort can still be assumed as *quadratic time* $O(n^2)$. Furthermore, if the list is already sorted, the insertion sort algorithm will compare once in the inner loop but swap nothing. This means that the *best-case time complexity* for insertion sort will be *linear time* $O(n)$, similar to the best-case for bubble sort.\n",
    "\n",
    "Although the best, worst, and average time complexities for insertion and bubble are the same, insertion sort algorithms are generally faster than bubble sort algorithms. Remember, when considering these time complexities we are referring to the overall complexity, which doesn't consider the number of elements, programming language, etc. In other words, only the highest level of complexity counts toward the time complexity classification."
   ]
  },
  {
   "cell_type": "markdown",
   "metadata": {
    "id": "Jd30SLHmm_MG"
   },
   "source": [
    "## Merge sort\n",
    "\n",
    "Merge sort is an algorithm that works by first recursively dividing an unsorted list into sublists, thus breaking down its elements until each is placed within an individual sublist. A recursive process is then followed to merge neighbouring sublists in an ordered manner, ultimately yielding a fully sorted list.\n",
    "\n",
    "Although merge sort algorithms are generally *stable* by nature, they are not commonly implemented to sort *in-place*, in other words, a second list (or other data structure) is required to store the sorted list in, which requires more memory.\n",
    "\n",
    "> 💡 Note\n",
    ">\n",
    "> The merge sort algorithm is often implemented through two functions: a function (`merge()`) that merges the two halves to produce a sorted array, and a function (`merge_sort()`) that recursively splits the list in half."
   ]
  },
  {
   "cell_type": "markdown",
   "metadata": {
    "id": "fgSziyBnspgG"
   },
   "source": [
    "The function `merge()` receives two sublists that are sorted. Before merging the two lists, we first check if either of these lists is empty. If either is empty then there is nothing to merge and we return to the `merge_sort()` function. We stay in this list while looping in `merge()` until there is nothing left in either of the lists. We compare the element at the front of each list, select the smaller value of the two lists, and combine their elements.\n",
    "\n",
    "Then, if either list has any elements left (but the other list does not), our new list simply absorbs those elements."
   ]
  },
  {
   "cell_type": "markdown",
   "metadata": {
    "id": "fLsh6bpQZovM"
   },
   "source": [
    "Consider a list `[11, 2, 26, 18, 23]`. The first call of `merge_sort()` will split the list so that `left = [11, 2]` and `right = [26, 18, 23]` with `[26]` as the midpoint. Because Python executes lines of code sequentially, `left` is considered first. Now `left = [11]` and `right = [2]`. `merge()` now combines the left and right values into the correct order as `[2, 11]` and returns it to `merge_sort()`. \n",
    "\n",
    "The other half of the list [`26, 18, 23]` is also recursively split up with `left = [26]` and `right = [18, 23]`. Then right is again split up into `left = [18]` and `right = [23]`. Each time the list is split until a single element remains, it is added to the resulting list in the correct order until all elements have been evaluated."
   ]
  },
  {
   "cell_type": "markdown",
   "metadata": {
    "id": "e8z2yaPc7TbX"
   },
   "source": [
    "<div align=\"center\" style=\" text-align: center; margin: 0 auto\">\n",
    "<img src=\"https://github.com/Explore-AI/Pictures/blob/7f8c19688a9001c2d332a6e8f6d5f1e7d28801e2/merge_sort.jpg?raw=True\"\n",
    "     alt=\"Merge sort\"\n",
    "     style=\"padding-bottom=0.5em\"\n",
    "     width=400px/>\n",
    "     <br>\n",
    "     <em>Figure 4. Visualisation of a merge sort of a list of integers. </em>\n",
    "</div>"
   ]
  },
  {
   "cell_type": "markdown",
   "metadata": {
    "id": "uebPoJP4o7pA"
   },
   "source": [
    "Let's first consider pseudocode for the function that merges the two halves.\n",
    "\n",
    "``` python\n",
    "# Pseudocode\n",
    "function merge(left, right)\n",
    "    result starts as an empty list\n",
    "\n",
    "    while left is not empty and right is not empty do\n",
    "        if left[0] ≤ right[0] then\n",
    "            result = result + left[0] \n",
    "            left = left[1:]\n",
    "        else\n",
    "            result = result + right[0]\n",
    "            right = right[1:]\n",
    "\n",
    "    # Either left or right may have elements left; consume them.\n",
    "    # (Only one of the following loops will actually be entered.)\n",
    "    while left is not empty do\n",
    "        result = result + left[0]\n",
    "        left = left[1:]\n",
    "        \n",
    "    while right is not empty do\n",
    "        result = result + right[0]\n",
    "        right = right[1:]\n",
    "    return result\n",
    "```"
   ]
  },
  {
   "cell_type": "markdown",
   "metadata": {
    "id": "SoPwynptubkT"
   },
   "source": [
    "Next, we take a look at the `merge_sort()` function that recursively splits the list in half and uses the previous `merge()` function to return the final sorted list."
   ]
  },
  {
   "cell_type": "markdown",
   "metadata": {
    "id": "k4YfA1WMuhqG"
   },
   "source": [
    "```python\n",
    "# Pseudocode\n",
    "function merge_sort(list m)\n",
    "    # Base case. A list of zero or one element is sorted, by definition.\n",
    "    if length of m ≤ 1 then\n",
    "        return m\n",
    "\n",
    "    # Recursive case. First, divide the list into equal-sized sublists\n",
    "    # consisting of the first half and second half of the list.\n",
    "    # This assumes lists start at index 0.\n",
    "    left starts as an empty list\n",
    "    right starts as an  empty list\n",
    "    for each x with index i in m do\n",
    "        if i < (length of m)/2 then\n",
    "            left = left + x\n",
    "        else\n",
    "            right = right + x\n",
    "\n",
    "    # Recursively sort both sublists.\n",
    "    left = merge_sort(left)\n",
    "    right = merge_sort(right)\n",
    "\n",
    "    # Then merge the sorted sublists.\n",
    "    return merge(left, right)\n",
    "```"
   ]
  },
  {
   "cell_type": "markdown",
   "metadata": {
    "id": "DS9ZEVyTu3Ap"
   },
   "source": [
    "> 🚩 **Exercise**\n",
    "> \n",
    "> Complete the `merge()` and `merge_sort()` functions below.\n",
    ">\n",
    "> *Use the above explanation and pseudocode as a guide to this implementation.*"
   ]
  },
  {
   "cell_type": "code",
   "execution_count": 5,
   "metadata": {
    "id": "CJ7Lk-_1u7Ut"
   },
   "outputs": [],
   "source": [
    "\n",
    "    \n",
    "def merge(A, B):  \n",
    "    \"\"\" The merge function used in merge sort \"\"\"\n",
    "    \n",
    "# create a new empty list\n",
    "\n",
    "    new_list = []\n",
    "    \n",
    "# iterate while both lists A and B contains at least one element\n",
    "\n",
    "    while len(A) > 0 and len(B) > 0:\n",
    "        \n",
    "# conditional statement to determine whether the first element\n",
    "# in list A is smaller than the first element in B\n",
    "\n",
    "        if A[0] < B[0]: \n",
    "        \n",
    "#TODO add the first element of list A to the new list\n",
    "#TODO remove the element from the input list A\n",
    "\n",
    "            new_list.append(A[0])\n",
    "            A.pop(0)\n",
    "        \n",
    "# if the first element in B is smaller\n",
    "#TODO add the first element of list B to the new list\n",
    "#TODO remove the element from the input list B\n",
    "\n",
    "        else:\n",
    "            new_list.append(B[0])\n",
    "            B.pop(0)\n",
    "            \n",
    "# two conditional statements to determine whether \n",
    "# list A or B has zero elements left\n",
    "# if zero elements in one list, add the remaining elements\n",
    "# of the other list to the new list   \n",
    "\n",
    "    if len(A) == 0:\n",
    "        new_list = new_list + B    \n",
    "    if len(B) == 0:\n",
    "        new_list = new_list + A\n",
    "        \n",
    "    return new_list     \n",
    "\n",
    "\n",
    "\n",
    "\n",
    "\n"
   ]
  },
  {
   "cell_type": "code",
   "execution_count": 6,
   "metadata": {
    "id": "GsuAqgp2u95l"
   },
   "outputs": [
    {
     "name": "stdout",
     "output_type": "stream",
     "text": [
      "[3, 7, 8, 10, 15, 23, 29, 98]\n"
     ]
    }
   ],
   "source": [
    "\n",
    "\n",
    "def merge_sort(items):\n",
    "    \"\"\" Implementation of merge sort \"\"\"  \n",
    "# create a variable that keeps the length of the input list\n",
    "\n",
    "    len_i = len(items)\n",
    "    \n",
    "# conditional statement to determine whether the list is already\n",
    "# sorted because a list of one element is by default \"sorted\"\n",
    "    if len_i == 1:\n",
    "        return items\n",
    "    \n",
    "#TODO find the middle point (in integer) of the input list\n",
    "    mid_point = int(len_i / 2)\n",
    "    \n",
    "#TODO call function merge_sort on the first half of the input list\n",
    "    #TODO call function merge_sort on the second half of the input list  \n",
    "    i1 = merge_sort(items[:mid_point])\n",
    "    i2 = merge_sort(items[mid_point:])       \n",
    "    \n",
    "    return merge(i1, i2)   \n",
    "\n",
    "\n",
    "\n",
    "print(merge_sort([10,3,15,7,8,23,98,29]))"
   ]
  },
  {
   "cell_type": "code",
   "execution_count": 56,
   "metadata": {},
   "outputs": [
    {
     "name": "stdout",
     "output_type": "stream",
     "text": [
      "[3, 7, 8, 10, 15, 23, 29, 98]\n",
      "[]\n",
      "[3]\n",
      "[2, 7, 8, 9]\n",
      "[1, 2, 3, 4, 5]\n"
     ]
    }
   ],
   "source": [
    "def merge_sort(arr):\n",
    "    if len(arr) <= 1:\n",
    "        return\n",
    "\n",
    "    mid = len(arr)//2\n",
    "\n",
    "    left = arr[:mid]\n",
    "    right = arr[mid:]\n",
    "\n",
    "    merge_sort(left)\n",
    "    merge_sort(right)\n",
    "\n",
    "    merge_two_sorted_lists(left, right, arr)\n",
    "\n",
    "def merge_two_sorted_lists(a,b,arr):\n",
    "    len_a = len(a)\n",
    "    len_b = len(b)\n",
    "\n",
    "    i = j = k = 0\n",
    "\n",
    "    while i < len_a and j < len_b:\n",
    "        if a[i] <= b[j]:\n",
    "            arr[k] = a[i]\n",
    "            i+=1\n",
    "        else:\n",
    "            arr[k] = b[j]\n",
    "            j+=1\n",
    "        k+=1\n",
    "\n",
    "    while i < len_a:\n",
    "        arr[k] = a[i]\n",
    "        i+=1\n",
    "        k+=1\n",
    "\n",
    "    while j < len_b:\n",
    "        arr[k] = b[j]\n",
    "        j+=1\n",
    "        k+=1\n",
    "\n",
    "if __name__ == '__main__':\n",
    "    test_cases = [\n",
    "        [10, 3, 15, 7, 8, 23, 98, 29],\n",
    "        [],\n",
    "        [3],\n",
    "        [9,8,7,2],\n",
    "        [1,2,3,4,5]\n",
    "    ]\n",
    "\n",
    "    for arr in test_cases:\n",
    "        merge_sort(arr)\n",
    "        print(arr)"
   ]
  },
  {
   "cell_type": "markdown",
   "metadata": {},
   "source": [
    "### Time complexity\n",
    "\n",
    "Since we recursively split the lists into half, we only require one additional recursion if the number of list elements doubles, as observed in the figure below.\n",
    "\n",
    "<div align=\"center\" style=\" text-align: center; margin: 0 auto\">\n",
    "<img src=\"https://github.com/Explore-AI/Pictures/blob/82a4b201f0bc420901150b2c762d213fca5ffe13/merge_sort_timecomplex.jpg?raw=True\"\n",
    "     alt=\"Merge sort time complexity\"\n",
    "     style=\"padding-bottom=0.5em\"\n",
    "     width=500px/>\n",
    "     <br>\n",
    "     <em>Figure 5. Visualisation of the number of division stages in a merge sort algorithm. </em>\n",
    "</div>\n",
    "\n",
    "In other words, the *time complexity* of our division stages is $\\log_2 n$.\n",
    "\n",
    "When we merge the sublists, we have a total $n$ elements at any of the levels, no matter the number of elements to merge. The *time complexity* of our merge operation is therefore *linear* $n$.\n",
    "\n",
    "Our highest level of complexity for merge sort in total is, therefore, *linearithmic time* $O(n \\log n)$, regardless of how many elements within the list are sorted or not."
   ]
  },
  {
   "cell_type": "markdown",
   "metadata": {
    "id": "2e-QKKRE3xT0"
   },
   "source": [
    "## Quicksort\n",
    "\n",
    "The quicksort algorithm is a recursive algorithm where we pick a pivot value from the key values in the list by which we can divide the list. In other words, two lists are created, one containing elements lower and the other elements higher than the pivot. The algorithm then sorts the two lists and joins them with the pivot in between.\n",
    "\n",
    "Similar to the process in merge sort, the quicksort algorithm will continue to divide the list until each sublist contains a single list element. Because the sublists are created by dividing around the pivot element, the sublists are already sorted and can simply be combined to return the sorted list.\n",
    "\n",
    "However, unlike any of the previous sorting algorithms, quicksort is generally *unstable* but can be modified with additional space to preserve stability. Perhaps not as obvious, but quicksort can either be *in-place* or *out-place*, depending on the variation. This characteristic will influence the space complexity of the implementation."
   ]
  },
  {
   "cell_type": "markdown",
   "metadata": {
    "id": "B9yh6RYhh24n"
   },
   "source": [
    "There are various ways to choose the pivot element. Ideally, this pivot element would be the median value of the whole list value, however, calculating the median value could be a time-consuming process if the list contains many elements. Another way is to choose the pivot as the last element of the list (at the right side of the list).\n",
    "\n"
   ]
  },
  {
   "cell_type": "markdown",
   "metadata": {
    "id": "eqU87-uXplz-"
   },
   "source": [
    "Consider a list `[11, 2, 26, 18, 23]` with a pivot value equal to the element at the highest index, in other words, `[23]`. From index 0 (the left), each element is compared to the pivot element. Since 11 < 23, and 2 < 23, they are added to a sublist `small`. Since 26 > 23, 26 is added to a sublist `large`. Again, since 18 < 23, 18 is added to `small` right after the previous value of 2. \n",
    "\n",
    "Now `small = [11, 2, 18]`, `large = [26]` and 23 is a \"duplicate\" value since we already know that everything to the left of 23 is smaller and everything to the right is large.\n",
    "\n",
    "Then, following the same process, the `small` sublist is recursively divided in the same way, with 18 as the next pivot element, followed by 2 as the pivot element.\n",
    "\n",
    "Since the `large` sublist only contains a single element, we already know that it is sorted. Finally, we can add our sublists and duplicates.\n",
    "\n",
    "If by chance our first pivot element is the median value, as in the example below with the list `[11, 2, 26, 18, 13]`, then fewer recursions are required because each sublist contains fewer elements to be compared."
   ]
  },
  {
   "cell_type": "markdown",
   "metadata": {
    "id": "Wh8zjlLxrzhP"
   },
   "source": [
    "<div align=\"center\" style=\" text-align: center; margin: 0 auto\">\n",
    "<img src=\"https://github.com/Explore-AI/Pictures/blob/0d3c385cc1714b46652d513b22f2a617c488ab06/quicksort.jpg?raw=True\"\n",
    "     alt=\"Quicksort\"\n",
    "     style=\"padding-bottom=0.5em\"\n",
    "     width=400px/>\n",
    "     <br>\n",
    "     <em>Figure 6. Visualisation of a quicksort of a list of integers. </em>\n",
    "</div>"
   ]
  },
  {
   "cell_type": "markdown",
   "metadata": {
    "id": "3Z9UD1g2htf8"
   },
   "source": [
    "Nevertheless, assuming the pivot as the last element of each list allows us to ignore the pivot element in comparison and swap operations because it is already on the right, in other words, larger than any element on the left.\n",
    "\n",
    "Let's consider the pseudocode for a right-side pivot element implementation. \n",
    "\n",
    "```Python\n",
    "# Pseudocode\n",
    "function quick_sort(arr, high_index)\n",
    "\n",
    "    if the arr has one or fewer elements\n",
    "        return the arr\n",
    "\n",
    "    # The pivot element is to the right of a joined list\n",
    "    pivot_element = arr[high_index]\n",
    "\n",
    "    small is an empty list\n",
    "    large is an empty list\n",
    "    duplicate is an empty list\n",
    "    \n",
    "    for each element in the input arr\n",
    "        if the element is smaller than the pivot\n",
    "            append it to the small list\n",
    "        else if the element is bigger than the pivot\n",
    "            append it to the large list\n",
    "        else if the element is equal to the pivot\n",
    "            append it to the duplicate list\n",
    "\n",
    "    small = quick_sort(small)\n",
    "    large = quick_sort(large)\n",
    "\n",
    "    return small + duplicate + large\n",
    "```\n",
    "\n",
    ">🚩 **Exercise**\n",
    ">\n",
    ">Complete the quicksort function below.\n",
    ">\n",
    ">*Use the above explanation and pseudocode as a guide to this implementation.*"
   ]
  },
  {
   "cell_type": "code",
   "execution_count": 8,
   "metadata": {
    "id": "NNvf03iKi4Jw"
   },
   "outputs": [
    {
     "name": "stdout",
     "output_type": "stream",
     "text": [
      "[3, 7, 8, 10, 15, 23, 29, 98]\n"
     ]
    }
   ],
   "source": [
    "\n",
    "def quick_sort(items, index=-1):\n",
    "    \"\"\" Implementation of quick sort \"\"\"\n",
    "    \n",
    "# find the length of the list `items`\n",
    "    len_i = len(items)\n",
    "    \n",
    "# determine if the list has one or fewer elements\n",
    "# and return the list\n",
    "    if len_i <= 1:\n",
    "        return items\n",
    "    \n",
    "# initialise the pivot element from the list\n",
    "# with the index parameter\n",
    "    pivot = items[index]\n",
    "    \n",
    "#TODO initialise empty list for small values\n",
    "#TODO initialise empty list for large values\n",
    "#TODO initialise empty list for duplicates (pivot elements)\n",
    "    small = []\n",
    "    large = []\n",
    "    dup = []\n",
    "    \n",
    "#TODO iterate over all items in the list\n",
    "#TODO conditional statement to append small, large,\n",
    "# and duplicate values to the different sublists\n",
    "    for i in items:\n",
    "        if i < pivot:\n",
    "            small.append(i)\n",
    "        elif i > pivot:\n",
    "            large.append(i)\n",
    "        elif i == pivot:\n",
    "            dup.append(i)\n",
    "            \n",
    "#TODO recursively assign to the small sublist\n",
    "#TODO recursively assign to the large sublist\n",
    "\n",
    "    small = quick_sort(small)\n",
    "    large = quick_sort(large)\n",
    "\n",
    "    return small + dup + large\n",
    "\n",
    "\n",
    "print(quick_sort([10,3,15,7,8,23,98,29], index=-1))"
   ]
  },
  {
   "cell_type": "code",
   "execution_count": 57,
   "metadata": {},
   "outputs": [
    {
     "name": "stdout",
     "output_type": "stream",
     "text": [
      "[2, 7, 9, 11, 15, 28, 29]\n",
      "sorted array: [2, 7, 9, 11, 15, 28, 29]\n",
      "sorted array: [3, 7, 9, 11]\n",
      "sorted array: [10, 21, 22, 25]\n",
      "sorted array: [15, 28, 29]\n",
      "sorted array: []\n",
      "sorted array: [6]\n"
     ]
    }
   ],
   "source": [
    "def swap(a, b, arr):\n",
    "    if a!=b:\n",
    "        tmp = arr[a]\n",
    "        arr[a] = arr[b]\n",
    "        arr[b] = tmp\n",
    "\n",
    "def quick_sort(elements, start, end):\n",
    "    if start < end:\n",
    "        pi = partition(elements, start, end)\n",
    "        quick_sort(elements, start, pi-1)\n",
    "        quick_sort(elements, pi+1, end)\n",
    "\n",
    "def partition(elements, start, end):\n",
    "    pivot_index = start\n",
    "    pivot = elements[pivot_index]\n",
    "\n",
    "    while start < end:\n",
    "        while start < len(elements) and elements[start] <= pivot:\n",
    "            start+=1\n",
    "\n",
    "        while elements[end] > pivot:\n",
    "            end-=1\n",
    "\n",
    "        if start < end:\n",
    "            swap(start, end, elements)\n",
    "\n",
    "    swap(pivot_index, end, elements)\n",
    "\n",
    "    return end\n",
    "\n",
    "\n",
    "if __name__ == '__main__':\n",
    "    elements = [11,9,29,7,2,15,28]\n",
    "    # elements = [\"mona\", \"dhaval\", \"aamir\", \"tina\", \"chang\"]\n",
    "    quick_sort(elements, 0, len(elements)-1)\n",
    "    print(elements)\n",
    "\n",
    "    tests = [\n",
    "        [11,9,29,7,2,15,28],\n",
    "        [3, 7, 9, 11],\n",
    "        [25, 22, 21, 10],\n",
    "        [29, 15, 28],\n",
    "        [],\n",
    "        [6]\n",
    "    ]\n",
    "\n",
    "    for elements in tests:\n",
    "        quick_sort(elements, 0, len(elements)-1)\n",
    "        print(f'sorted array: {elements}')"
   ]
  },
  {
   "cell_type": "markdown",
   "metadata": {},
   "source": [
    "### Time complexity\n",
    "\n",
    "From the previous figure, we can already deduce that our best-case time complexity will occur when the (sub)lists are split into two equal parts, or if the pivot element is the median value.\n",
    "\n",
    "If we split the lists into halves, as in merge sort, then we again only require one additional recursion for every doubling of the number of list elements. Therefore, as in merge sort, the **best-case** time complexity of our division stages is $\\log_2 n$. Furthermore, the addition of the various sublists is *linear time complexity* $n$, as addition always is. This leaves us with an overall *best-case time complexity* that is *linearithmic time*, $O(n \\log n)$.\n",
    "\n",
    "Deriving the **average** time complexity is slightly more complicated, but we can still assume an overall *average time complexity* that is *linearithmic time*, $O(n \\log n)$.\n",
    "\n",
    "The **worst-case** time complexity would occur if the pivot element is always the largest or smallest element of the (sub_list). This means that the sublists would not be of equal length since one sublist would have zero elements and the other $n-1$ elements. The division effort would decrease with each level, in other words, $n-1$, $n-2$, $n-3$, ..., $0$. Therefore, with $n$ division levels and effort $1/2 n$ (and $n$ number of elements): $n \\times 1/2 n = 1/2 n^2$, our overall *worst-case time complexity* is *quadratic*, $O(n^2)$."
   ]
  },
  {
   "cell_type": "markdown",
   "metadata": {},
   "source": [
    "## Sorting algorithms comparison\n",
    "\n",
    "Now that we have worked through the multiple sorting algorithms, to add to our discussion it is time to visualise some of the complexities that we referred to in the above sections. To visualise the time complexities of the algorithms, we will conduct a simple experiment to obtain empirical evidence of the claimed  complexities. In the experiment, we will generate lists of varying lengths and observe the time it takes to fully sort a random list of integers.\n",
    "\n",
    "The experiment takes the following form: \n",
    "1. For each sorting algorithm:\n",
    "   1. Generate a random list of integers – the size of the list is varied.\n",
    "   2. For each list size, execute the sort algorithm multiple times to obtain an average execution time.\n",
    "   3. Store the execution times in a list so we can plot the results.\n",
    "\n",
    "To run the described experiments, please make sure that you download the following files from the public academy repo and place them in your current working directory: \n",
    "\n",
    "* Compiled Python file that will call the appropriate algorithms: [algorithms.py](https://github.com/Explore-AI/Public-Data/blob/master/algorithms.py)\n",
    "* Python script that contains code to facilitate the above experiment: [sort_time_complexity.py](https://github.com/Explore-AI/Public-Data/blob/master/sort_time_complexity.py)\n"
   ]
  },
  {
   "cell_type": "code",
   "execution_count": null,
   "metadata": {},
   "outputs": [
    {
     "name": "stderr",
     "output_type": "stream",
     "text": [
      "Experiment Progress (Bubble Sort): 100%|██████████| 11/11 [04:06<00:00, 22.44s/it]\n",
      "Experiment Progress (Insertion Sort): 100%|██████████| 11/11 [00:22<00:00,  2.09s/it]\n",
      "Experiment Progress (Merge Sort): 100%|██████████| 11/11 [00:04<00:00,  2.67it/s]\n",
      "Experiment Progress (Quicksort): 100%|██████████| 11/11 [00:00<00:00, 11.31it/s]\n"
     ]
    }
   ],
   "source": [
    "import sort_time_complexity as tc\n",
    "import matplotlib.pyplot as plt\n",
    "import algorithms as alg\n",
    "\n",
    "#=================================================================================================\n",
    "# Initialise a list to reference the appropriate algorithm.\n",
    "# Initialise a dictionary to store the experimental results.\n",
    "#=================================================================================================\n",
    "\n",
    "sort_algorithms=['Bubble Sort','Insertion Sort','Merge Sort','Quicksort']\n",
    "table_of_results = {'Bubble Sort':{},'Insertion Sort':{},'Merge Sort':{},'Quicksort':{}}\n",
    "\n",
    "#=================================================================================================\n",
    "# We make use of the functions found in the time_complexity package to generate experimental \n",
    "# results that will be used for plotting the graphs.\n",
    "#=================================================================================================\n",
    "def generate_experiment_results(sort_algorithm,table_of_results,STEP=1000, REPS_PER_ARR=10, MAX_ARR_LEN=10000):\n",
    "    \n",
    "    if sort_algorithm == 'Bubble Sort':\n",
    "        exec_times, len_of_arrays = tc.run_experiment(alg.bubble_sort,sort_algorithm,STEP,REPS_PER_ARR,MAX_ARR_LEN)\n",
    "    elif sort_algorithm == 'Insertion Sort':\n",
    "        exec_times, len_of_arrays = tc.run_experiment(alg.insertion_sort,sort_algorithm,STEP,REPS_PER_ARR,MAX_ARR_LEN)\n",
    "    elif sort_algorithm == 'Merge Sort':\n",
    "        exec_times, len_of_arrays = tc.run_experiment(alg.merge_sort,sort_algorithm,STEP,REPS_PER_ARR,MAX_ARR_LEN)\n",
    "    elif sort_algorithm == 'Quicksort':\n",
    "        exec_times, len_of_arrays = tc.run_experiment(alg.quick_sort,sort_algorithm,STEP,REPS_PER_ARR,MAX_ARR_LEN)\n",
    "\n",
    "    table_of_results[sort_algorithm]['exec_times'] = exec_times\n",
    "    table_of_results[sort_algorithm]['len_of_arrays'] = len_of_arrays\n",
    "    return table_of_results\n",
    "\n",
    "#=================================================================================================\n",
    "# Execute the function defined above to populate the dictionary with experimental results.\n",
    "# Note that the bubble sort execution will take a while to execute.\n",
    "#=================================================================================================\n",
    "table_of_results = generate_experiment_results('Bubble Sort',table_of_results)\n",
    "table_of_results = generate_experiment_results('Insertion Sort',table_of_results)\n",
    "table_of_results = generate_experiment_results('Merge Sort',table_of_results)\n",
    "table_of_results = generate_experiment_results('Quicksort',table_of_results)\n"
   ]
  },
  {
   "cell_type": "code",
   "execution_count": null,
   "metadata": {},
   "outputs": [
    {
     "data": {
      "text/plain": [
       "<matplotlib.legend.Legend at 0x1ff48643f70>"
      ]
     },
     "execution_count": 8,
     "metadata": {},
     "output_type": "execute_result"
    },
    {
     "data": {
      "image/png": "[encoded data removed]",
      "text/plain": [
       "<Figure size 648x432 with 1 Axes>"
      ]
     },
     "metadata": {
      "needs_background": "light"
     },
     "output_type": "display_data"
    }
   ],
   "source": [
    "#=================================================================================================\n",
    "# Use the populated dictionary to plot the time complexities associated with each sorting\n",
    "# algorithm.\n",
    "#=================================================================================================\n",
    "plt.rcParams['figure.figsize'] = (9, 6)\n",
    "plt.plot(table_of_results['Bubble Sort']['exec_times'],table_of_results['Bubble Sort']['len_of_arrays'])\n",
    "plt.plot(table_of_results['Insertion Sort']['exec_times'],table_of_results['Insertion Sort']['len_of_arrays'])\n",
    "plt.plot(table_of_results['Merge Sort']['exec_times'],table_of_results['Merge Sort']['len_of_arrays'])\n",
    "plt.plot(table_of_results['Quicksort']['exec_times'],table_of_results['Quicksort']['len_of_arrays'])\n",
    "plt.ylabel('Execution Time (sec)')\n",
    "plt.xlabel('Length of list')\n",
    "plt.title('Time complexity')\n",
    "plt.legend(sort_algorithms)\n"
   ]
  },
  {
   "cell_type": "markdown",
   "metadata": {},
   "source": [
    "Looking at the graph, we can see the time complexity of each algorithm taking shape. Let's first discuss the two quadratic complexities of bubble sort and insertion sort.\n",
    "\n",
    "Although both are quadratic, one is obviously more efficient than the other by some factor. This stark difference is introduced by how we traverse the given list. Remember, in bubble sort we iterate exactly $n^2$ every time, regardless if items become sorted halfway through the algorithm. Whereas, with insertion sort, we look for a specific location to insert the correct item at the correct index. This will not always span that entire list, thus we save some time on the inner loop.\n",
    "\n",
    "The other two algorithms that are linearithmic in nature may look like they are executing in constant time, but this is not the case. This appearance can be attributed to the relatively long execution times of the less efficient sorting algorithms. \n",
    "\n",
    "In the cell below we'll remove bubble sort so we can better visualise the other complexities. You should be able to see that the quadratic complexity of the insertion sort is more pronounced, and the two recursive functions are not constant but, in fact, linearithmic. The mere fact that we have to plot these separately should inform you of how using the correct algorithms can greatly improve the execution times. "
   ]
  },
  {
   "cell_type": "code",
   "execution_count": 15,
   "metadata": {},
   "outputs": [
    {
     "data": {
      "text/plain": [
       "<matplotlib.legend.Legend at 0x1ff48dbed30>"
      ]
     },
     "execution_count": 15,
     "metadata": {},
     "output_type": "execute_result"
    },
    {
     "data": {
      "image/png": "[encoded data removed]",
      "text/plain": [
       "<Figure size 648x432 with 1 Axes>"
      ]
     },
     "metadata": {
      "needs_background": "light"
     },
     "output_type": "display_data"
    }
   ],
   "source": [
    "plt.plot(table_of_results['Insertion Sort']['exec_times'],table_of_results['Insertion Sort']['len_of_arrays'])\n",
    "plt.plot(table_of_results['Merge Sort']['exec_times'],table_of_results['Merge Sort']['len_of_arrays'])\n",
    "plt.plot(table_of_results['Quicksort']['exec_times'],table_of_results['Quicksort']['len_of_arrays'])\n",
    "plt.ylabel('Execution Time (sec)')\n",
    "plt.xlabel('Length of list')\n",
    "plt.title('Time complexity')\n",
    "plt.legend(sort_algorithms[1:])"
   ]
  },
  {
   "cell_type": "markdown",
   "metadata": {},
   "source": [
    "## Conclusion\n",
    "Although only some sorting algorithms are presented in this train, many others exist with various modifications, often with the aim to be more efficient. Having an intuition for big O notation and time complexity is useful in the initial analysis of selecting appropriate sorting algorithms."
   ]
  },
  {
   "cell_type": "code",
   "execution_count": null,
   "metadata": {},
   "outputs": [],
   "source": []
  }
 ],
 "metadata": {
  "colab": {
   "authorship_tag": "ABX9TyMIyW3BAt2QepN9WcCbahO0",
   "collapsed_sections": [],
   "name": "Sort_algorithms.ipynb",
   "provenance": [],
   "toc_visible": true
  },
  "interpreter": {
   "hash": "6b5ebbc2c6bde2831bc6c0426f75aca8137ccfc69d329557556ed73faee126ae"
  },
  "kernelspec": {
   "display_name": "Python 3 (ipykernel)",
   "language": "python",
   "name": "python3"
  },
  "language_info": {
   "codemirror_mode": {
    "name": "ipython",
    "version": 3
   },
   "file_extension": ".py",
   "mimetype": "text/x-python",
   "name": "python",
   "nbconvert_exporter": "python",
   "pygments_lexer": "ipython3",
   "version": "3.9.13"
  }
 },
 "nbformat": 4,
 "nbformat_minor": 1
}
