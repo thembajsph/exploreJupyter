{
 "cells": [
  {
   "cell_type": "markdown",
   "metadata": {
    "colab_type": "text",
    "id": "imi--_B4ZCO9"
   },
   "source": [
    "# Big-O Notation & Sorting Algorithms\n",
    "\n",
    "© Explore Data Science Academy"
   ]
  },
  {
   "cell_type": "markdown",
   "metadata": {
    "colab_type": "text",
    "id": "xyKdGxh8ZCPA"
   },
   "source": [
    "## Learning Objectives\n",
    "By the end of this train, you should be able to:\n",
    "\n",
    "* Understand the concepts of big-O Notation,\n",
    "* Understand the concepts of Sorting Algorithms and their complexity, and\n",
    "* Write pseudocode for sorting algorithms.\n",
    "\n",
    "## Outline\n",
    "In this train we will:\n",
    "\n",
    "* Explain computational complexity and big-O Notation, and\n",
    "* Work through several sorting algorithms to characterise their complexity."
   ]
  },
  {
   "cell_type": "markdown",
   "metadata": {
    "colab_type": "text",
    "id": "OhDZJevPZCPZ"
   },
   "source": [
    "## Complexity and Big-O Notation\n",
    "\n",
    "Big-O notation is a formal mathematical language which helps us define the performance or complexity of a given algorithm. It is defined as the asymptotic upper limit of a function. In plain English, this means it is a notation which helps us know what the maximum space (storage) or time (speed) requirements are when running a piece of code. This notation helps us predict worst-case performance, and allows for various algorithms to be compared. \n",
    "\n",
    "When looking at big-O notation, there are two aspects to its syntax.\n",
    "\n",
    "To help us understand the syntax of big-O notation, let's say that we characterise an algorithm as being $O(x)$ in nature. Here the $O$ refers to the 'order' of the algorithm, and the quantity inside the brackets ($x$ in our case) is this associated growth rate or order. We often express this growth rate in terms of $n$, or the *number of elements* upon which the algorithm needs to act. \n",
    "\n",
    "We can use the figure below to help us visually compare the growth rates for some of the complexity categories described by Big O notation. As seen, the order of an algorithm can lead to significantly different complexities being realised with only a small number of input elements.    "
   ]
  },
  {
   "cell_type": "markdown",
   "metadata": {},
   "source": [
    "![Image](https://raw.githubusercontent.com/Explore-AI/Pictures/master/Big_O_notation.png)"
   ]
  },
  {
   "cell_type": "markdown",
   "metadata": {
    "colab_type": "text",
    "id": "f2_W3IakZCPn"
   },
   "source": [
    "To see the relevance of big-O notation, consider how often there is more than one way to solve a problem. We need to learn how to compare the performance of different algorithms and choose the most efficient way to solve the problem. While analysing an algorithm, we mostly consider time complexity and space complexity. \n",
    "\n",
    "* The **Time complexity** of an algorithm represents the amount of time an algorithm takes to complete and is dependent on the size of the input.\n",
    "\n",
    "* The **Space complexity** of an algorithm represents the amount of space or memory an algorithm requires during operation and is dependent on the size of the input.\n",
    "\n",
    "To gain an understanding of the basics of big-O notation, let's work through a few examples of the most common growth rates. \n",
    "\n",
    "We first import the packages we'll need to compare these methods:"
   ]
  },
  {
   "cell_type": "code",
   "execution_count": 68,
   "metadata": {
    "colab": {},
    "colab_type": "code",
    "id": "mf7riQupZCPN"
   },
   "outputs": [],
   "source": [
    "import random\n",
    "from time import time\n",
    "from timeit import timeit\n",
    "import numpy as np\n",
    "import matplotlib.pyplot as plt\n",
    "import warnings\n",
    "warnings.filterwarnings('ignore')\n",
    "%matplotlib inline"
   ]
  },
  {
   "cell_type": "markdown",
   "metadata": {},
   "source": [
    "Note: the following implementations were obtained from [A beginner guide of Big O notation.](https://sites.google.com/site/mingchangliu1980/algorithms/a-beginner-guide-of-big-o-notation)"
   ]
  },
  {
   "cell_type": "markdown",
   "metadata": {
    "colab_type": "text",
    "id": "vX6ZH-7UZCPr"
   },
   "source": [
    "### O(1)\n",
    "\n",
    "O(1), named Constant Time, represents an algorithm which will always execute in the same time, or space, independant of the size of the input."
   ]
  },
  {
   "cell_type": "code",
   "execution_count": 69,
   "metadata": {
    "colab": {},
    "colab_type": "code",
    "id": "XvrbQp_6ZCPt"
   },
   "outputs": [],
   "source": [
    "def is_first_element_null(elements):\n",
    "    return elements[0] == None"
   ]
  },
  {
   "cell_type": "markdown",
   "metadata": {},
   "source": [
    "In this example above, regardless of the number of elements we pass to our function, we will always require a constant number of operations to index and return the element. "
   ]
  },
  {
   "cell_type": "markdown",
   "metadata": {
    "colab_type": "text",
    "id": "Fl-HQXcRZCPx"
   },
   "source": [
    "### O(N)\n",
    "\n",
    "O(N), named Linear Time, represents an algorithm whose performance will grow linearly and in direct proportion to the size of the input. \n",
    "\n",
    "The example below also demonstrates how big-O favours the worst-case performance scenario. A matching string could be found during any iteration of the `for loop` and the function would return early, but big-O will always assume the upper limit where the algorithm will perform the maximum number of iterations."
   ]
  },
  {
   "cell_type": "code",
   "execution_count": 70,
   "metadata": {
    "colab": {},
    "colab_type": "code",
    "id": "WvL4V0UjZCPz"
   },
   "outputs": [],
   "source": [
    "def contains_value(elements, string_value):\n",
    "    \"\"\"Run through all elements in the list and compare to string_value.\"\"\"\n",
    "    for e in elements:\n",
    "        if e == string_value:\n",
    "            return True\n",
    "    return False"
   ]
  },
  {
   "cell_type": "markdown",
   "metadata": {
    "colab_type": "text",
    "id": "nXzhEir8ZCP5"
   },
   "source": [
    "### O(N$^2$)\n",
    "\n",
    "O(N$^2$), known as Quadratic Time, represents an algorithm whose performance is directly proportional to the square of the size of the input. \n",
    "\n",
    "This is common with algorithms that involve nested iterations over the data set. Deeper nested iterations will result in O(N$^3$), O(N$^4$), etc."
   ]
  },
  {
   "cell_type": "code",
   "execution_count": 71,
   "metadata": {
    "colab": {},
    "colab_type": "code",
    "id": "aA5UNkf5ZCP8"
   },
   "outputs": [],
   "source": [
    "def contains_duplicates(elements):\n",
    "    \"\"\"Check if any element in a list occurs more than once\"\"\"\n",
    "    for i, e1 in enumerate(elements):\n",
    "        for j, e2 in enumerate(elements):\n",
    "            \"\"\"return a true if the elements indices are different and the elements are the same\"\"\"\n",
    "            if ((i != j) & (e1 == e2)):\n",
    "                return True\n",
    "    return False"
   ]
  },
  {
   "cell_type": "markdown",
   "metadata": {
    "colab_type": "text",
    "id": "-MjPBK1JZCQC"
   },
   "source": [
    "### O(2$^N$)\n",
    "\n",
    "O(2$^N$), named Exponential Time, denotes an algorithm whose growth doubles with each addition to the input data set. The growth curve of an O(2$^N$) function is exponential - starting off shallow, then rising meteorically. \n",
    "\n",
    "An example of an O(2$^N$) function is the recursive calculation of Fibonacci numbers:"
   ]
  },
  {
   "cell_type": "code",
   "execution_count": 72,
   "metadata": {
    "colab": {},
    "colab_type": "code",
    "id": "xIhSHGekZCQD"
   },
   "outputs": [],
   "source": [
    "def fibonacci(number):\n",
    "    \"\"\"\n",
    "    The Fibonacci sequence is characterized by the fact that every number \n",
    "    after the first two is the sum of the two preceding ones        \n",
    "    \"\"\"\n",
    "    if number <= 1:\n",
    "        return 1\n",
    "    return fibonacci(number - 2) + fibonacci(number - 1)"
   ]
  },
  {
   "cell_type": "markdown",
   "metadata": {
    "colab_type": "text",
    "id": "foawUGvVZCQK"
   },
   "source": [
    "### O(logN)\n",
    "\n",
    "Logarithms are slightly trickier to explain. O(logN) means that time increases linearly whilst _n_ increases exponentially. This complexity occurs with \"divide and conquer\" algorithms like binary search as seen in the figure below."
   ]
  },
  {
   "cell_type": "markdown",
   "metadata": {
    "colab_type": "text",
    "id": "8Yul3Nk6ZCQM"
   },
   "source": [
    "![binary-search.png](https://github.com/Explore-AI/Pictures/blob/master/binary-search.png?raw=true)"
   ]
  },
  {
   "cell_type": "markdown",
   "metadata": {
    "colab_type": "text",
    "id": "7O1xXxwnZCQN"
   },
   "source": [
    "The recursion continues until the array examined consists of only one element. Courtesy of Luke Francl."
   ]
  },
  {
   "cell_type": "code",
   "execution_count": 73,
   "metadata": {
    "colab": {},
    "colab_type": "code",
    "id": "Bryavkr5ZCQO"
   },
   "outputs": [],
   "source": [
    "def binary_search(elements, string_val):\n",
    "\n",
    "    if len(elements) == 1:\n",
    "        return 0 if elements[0] == string_val else None\n",
    "    \n",
    "    mid = len(elements) // 2\n",
    "    if string_val == elements[mid]:\n",
    "        return mid\n",
    "    \n",
    "    if string_val < elements[mid]:\n",
    "        return binary_search(elements[:mid], string_val)\n",
    "    else:\n",
    "        return mid + binary_search(elements[mid:], string_val)"
   ]
  },
  {
   "cell_type": "code",
   "execution_count": 74,
   "metadata": {
    "colab": {
     "base_uri": "https://localhost:8080/",
     "height": 36
    },
    "colab_type": "code",
    "id": "i71TGjFnZCQU",
    "outputId": "2f52ee89-a930-4f18-9def-e43c953b0b93"
   },
   "outputs": [
    {
     "data": {
      "text/plain": [
       "4"
      ]
     },
     "execution_count": 74,
     "metadata": {},
     "output_type": "execute_result"
    }
   ],
   "source": [
    "binary_search([1, 2, 3, 4, 5, 6, 7, 8, 9, 10], 5)"
   ]
  },
  {
   "cell_type": "markdown",
   "metadata": {
    "colab_type": "text",
    "collapsed": true,
    "id": "Cic_NUCaZCQY"
   },
   "source": [
    "## Sorting Algorithms\n",
    "\n",
    "A sorting algorithm is an algorithm that puts elements of a list in a certain logical order. \n",
    "\n",
    "Here let's cover some of the more common sorting algorithms.\n",
    "\n",
    "### Bubble Sort\n",
    "\n",
    "Bubble sort is a basic sorting algorithm that is the relatively simple to understand. The basic idea is to 'bubble' up the largest (or smallest) element within a list to its beginning, then the 2nd largest element and the 3rd and so on to the end of the list. Each bubble up takes a full sweep through the list. The following implementation of bubble sort was obtained from [Teach Yourself Python](www.teachyourselfpython.com/)"
   ]
  },
  {
   "cell_type": "markdown",
   "metadata": {
    "colab_type": "text",
    "id": "LkxqB-4JZCQk"
   },
   "source": [
    "```python\n",
    "# Pseudo Code\n",
    "procedure bubble_sort( input A --> which is a list of sortable items )\n",
    "    n = length(A)\n",
    "    repeat \n",
    "        swapped = false\n",
    "        for i = 1 to n-1 inclusive do\n",
    "            # if this pair is out of order\n",
    "            if A[i-1] > A[i] then\n",
    "                # swap them and remember something changed\n",
    "                swap( A[i-1], A[i] )\n",
    "                swapped = true\n",
    "            end if\n",
    "        end for\n",
    "    until not swapped\n",
    "end procedure\n",
    "```"
   ]
  },
  {
   "cell_type": "code",
   "execution_count": 75,
   "metadata": {
    "colab": {},
    "colab_type": "code",
    "id": "eBFzP76oZCQn"
   },
   "outputs": [],
   "source": [
    "def bubble_sort(items):\n",
    "    \"\"\" Implementation of bubble sort \"\"\"\n",
    "    out = items.copy() # in place protection on items\n",
    "    for i in range(len(out)):\n",
    "        for j in range(len(out)-1-i):\n",
    "            if out[j] > out[j+1]:\n",
    "                out[j], out[j+1] = out[j+1], out[j]     # Swap!\n",
    "    \n",
    "    return out"
   ]
  },
  {
   "cell_type": "markdown",
   "metadata": {
    "colab_type": "text",
    "id": "O3wyZmzBZCQu"
   },
   "source": [
    "### Insertion Sort\n",
    "\n",
    "The Insertion Sort algorithm works by taking elements from an unsorted list and inserting them at the right place in a new sorted list. The sorted list is empty in the beginning. Since the total number of elements in the new and old list stays the same, we can use the same list to represent the sorted and the unsorted sections. \n",
    "\n",
    "Implementation for insertion sort can be found at [Geeks for geeks](https://www.geeksforgeeks.org/insertion-sort/)"
   ]
  },
  {
   "cell_type": "markdown",
   "metadata": {
    "colab_type": "text",
    "id": "api5BVG8ZCQx"
   },
   "source": [
    "```python\n",
    "# Pseudo Code\n",
    "i = 1\n",
    "while i < length(A)\n",
    "    j = i\n",
    "    while j > 0 and A[j-1] > A[j]\n",
    "        swap A[j] and A[j-1]\n",
    "        j = j - 1\n",
    "    end while\n",
    "    i = i + 1\n",
    "end while\n",
    "```"
   ]
  },
  {
   "cell_type": "code",
   "execution_count": 76,
   "metadata": {
    "colab": {},
    "colab_type": "code",
    "id": "Rv7XwfdcZCQ6"
   },
   "outputs": [],
   "source": [
    "def insertion_sort(items):\n",
    "    \"\"\" Implementation of insertion sort \"\"\"\n",
    "    new_list = [items[0]]    \n",
    "    for x in items[1:]:\n",
    "        i = 0\n",
    "        while (i < len(new_list)) and (x > new_list[i]):\n",
    "            i += 1\n",
    "        new_list.insert(i, x)            \n",
    "    return new_list"
   ]
  },
  {
   "cell_type": "markdown",
   "metadata": {
    "colab_type": "text",
    "id": "MiNJYPlKZCRD"
   },
   "source": [
    "### Merge Sort\n",
    "\n",
    "Merge Sort is a parallelizable algorithm which works by first repeatedly dividing an unsorted list into sub-lists; breaking-down its elements until each is placed within an individual sub-list. A recursive process is then followed to merge neighbouring sublists together in an ordered manner, ultimately yielding a fully sorted list.   \n",
    "\n",
    "NOTE: Two functions, `merge` and `merge_sort` are often used to implement the merge sort algorithm. "
   ]
  },
  {
   "cell_type": "markdown",
   "metadata": {
    "colab_type": "text",
    "id": "xRP5EuttZCRK"
   },
   "source": [
    "```python\n",
    "# Pseudo Code\n",
    "function merge_sort(list m)\n",
    "    # Base case. A list of zero or one elements is sorted, by definition.\n",
    "    if length of m <= 1 then\n",
    "        return m\n",
    "\n",
    "    # Recursive case. First, divide the list into equal-sized sublists\n",
    "    # consisting of the first half and second half of the list.\n",
    "    # This assumes lists start at index 0.\n",
    "    left starts as an empty list\n",
    "    right starts as an  empty list\n",
    "    for each x with index i in m do\n",
    "        if i < (length of m)/2 then\n",
    "            left = left + x\n",
    "        else\n",
    "            right = right + x\n",
    "\n",
    "    # Recursively sort both sublists.\n",
    "    left = merge_sort(left)\n",
    "    right = merge_sort(right)\n",
    "\n",
    "    # Then merge the now-sorted sublists.\n",
    "    return merge(left, right)\n",
    "```"
   ]
  },
  {
   "cell_type": "markdown",
   "metadata": {},
   "source": [
    "``` python\n",
    "function merge(left, right)\n",
    "    result starts as an empty list\n",
    "\n",
    "    while left is not empty and right is not empty do\n",
    "        if left[0] <= right[0] then\n",
    "            result = result + left[0] \n",
    "            left = left[1:]\n",
    "        else\n",
    "            result = result + right[0]\n",
    "            right = right[1:]\n",
    "\n",
    "    # Either left or right may have elements left; consume them.\n",
    "    # (Only one of the following loops will actually be entered.)\n",
    "    while left is not empty do\n",
    "        result = result + left[0]\n",
    "        left = left[1:]\n",
    "        \n",
    "    while right is not empty do\n",
    "        result = result + right[0]\n",
    "        right = right[1:]\n",
    "    return result\n",
    "```"
   ]
  },
  {
   "cell_type": "code",
   "execution_count": 77,
   "metadata": {
    "colab": {},
    "colab_type": "code",
    "id": "iuZe9ghVZCRR"
   },
   "outputs": [],
   "source": [
    "def merge(A, B):  \n",
    "    \"\"\" The merge function used in merge sort \"\"\"\n",
    "    new_list = []\n",
    "    while len(A) > 0 and len(B) > 0:\n",
    "        if A[0] < B[0]:\n",
    "            new_list.append(A[0])\n",
    "            A.pop(0)\n",
    "        else:\n",
    "            new_list.append(B[0])\n",
    "            B.pop(0)\n",
    "    \n",
    "    if len(A) == 0:\n",
    "        new_list = new_list + B    \n",
    "    if len(B) == 0:\n",
    "        new_list = new_list + A\n",
    "        \n",
    "    return new_list        \n",
    "            \n",
    "\n",
    "def merge_sort(items):\n",
    "    \"\"\" Implementation of merge sort \"\"\"\n",
    "    len_i = len(items)\n",
    "    if len_i == 1:\n",
    "        return items       \n",
    "        \n",
    "    mid_point = int(len_i / 2)\n",
    "    i1 = merge_sort(items[:mid_point])\n",
    "    i2 = merge_sort(items[mid_point:])       \n",
    "    \n",
    "    return merge(i1, i2)"
   ]
  },
  {
   "cell_type": "markdown",
   "metadata": {
    "colab_type": "text",
    "id": "DvjuUtgmZCRW"
   },
   "source": [
    "### Quick Sort\n",
    "\n",
    "The Quick Sort algorithm works by first selecting a pivot element from an unsorted list. It then creates two lists, one containing elements less than the pivot and the other containing elements higher than the pivot. It then sorts the two lists and joins them with the pivot in between. \n",
    "\n",
    "Implementation for insertion sort can be found at [Geeks for geeks](https://www.geeksforgeeks.org/quick-sort/)"
   ]
  },
  {
   "cell_type": "markdown",
   "metadata": {},
   "source": [
    "```Python\n",
    "# Pseudo Code\n",
    "function quick_sort(arr, low_index, high_index)\n",
    "\n",
    "    # The pivot element is always to the right of a joined list\n",
    "    pivot_element = arr[high_index]\n",
    "    \n",
    "    # Index of the smaller element\n",
    "    i = low_index - 1 \n",
    "    \n",
    "    for j = low_index to high_index -1 inclusive do\n",
    "        # If current element is smaller than the pivot \n",
    "        if arr[j] < pivot_element \n",
    "            i++ #Increase the index of the smaller element\n",
    "            swap arr[i] and arr[j]\n",
    "            \n",
    "    swap arr[i + 1] and arr[high_index]\n",
    "    return (i + 1)\n",
    "```"
   ]
  },
  {
   "cell_type": "code",
   "execution_count": 78,
   "metadata": {
    "colab": {},
    "colab_type": "code",
    "id": "-tngPUNDZCRY"
   },
   "outputs": [],
   "source": [
    "def quick_sort(items, index=-1):\n",
    "    \"\"\" Implementation of quick sort \"\"\"\n",
    "    len_i = len(items)\n",
    "\n",
    "    if len_i <= 1:\n",
    "        return items\n",
    "\n",
    "    pivot = items[index]\n",
    "    small = []\n",
    "    large = []\n",
    "    dup = []\n",
    "    for i in items:\n",
    "        if i < pivot:\n",
    "            small.append(i)\n",
    "        elif i > pivot:\n",
    "            large.append(i)\n",
    "        elif i == pivot:\n",
    "            dup.append(i)\n",
    "\n",
    "    small = quick_sort(small)\n",
    "    large = quick_sort(large)\n",
    "\n",
    "    return small + dup + large\n"
   ]
  },
  {
   "cell_type": "markdown",
   "metadata": {
    "colab_type": "text",
    "id": "MoPZCAZzZCRi"
   },
   "source": [
    "### Exercise: Heap Sort\n",
    "\n",
    "This implementation uses the built-in heap data structures in Python. To truly understand Heap sort, one must implement the heap_sort() function themselves.\n",
    "\n",
    "See if you can code the heapsort algorithm yourself. This is likely to be a challenge."
   ]
  },
  {
   "cell_type": "code",
   "execution_count": 79,
   "metadata": {
    "colab": {},
    "colab_type": "code",
    "id": "GkankAF5ZCRk"
   },
   "outputs": [],
   "source": [
    "def heap_sort(items):\n",
    "    \"\"\"Your implementation of heap sort\"\"\"\n",
    "    # your code here\n",
    "    return"
   ]
  },
  {
   "cell_type": "code",
   "execution_count": 80,
   "metadata": {
    "colab": {
     "base_uri": "https://localhost:8080/",
     "height": 36
    },
    "colab_type": "code",
    "id": "N-FgATIAZCRr",
    "outputId": "1a9166df-a178-40a4-9c31-d4571bb0e04b",
    "scrolled": true
   },
   "outputs": [
    {
     "data": {
      "text/plain": [
       "False"
      ]
     },
     "execution_count": 80,
     "metadata": {},
     "output_type": "execute_result"
    }
   ],
   "source": [
    "# unit test for your heap_sort function\n",
    "# this should return True if you're heap_sort was programmed correctly\n",
    "items = [1, -3, 2, 0, 3, -2, -1]\n",
    "heap_sort(items) == [-3, -2, -1, 0, 1, 2, 3]"
   ]
  },
  {
   "cell_type": "markdown",
   "metadata": {
    "colab_type": "text",
    "id": "7ClLppngZCR2"
   },
   "source": [
    "### Comparison of sorting algorithms\n",
    "Let's visualise the run-time results of these sorting algorithms. Before running the following code blocks, spend some time considering which one you think will run the fastest, and why.\n",
    "\n",
    "We first define some helper functions to help us with our visualisation:"
   ]
  },
  {
   "cell_type": "code",
   "execution_count": 81,
   "metadata": {
    "colab": {},
    "colab_type": "code",
    "id": "In7N1mFIZCR3"
   },
   "outputs": [],
   "source": [
    "def get_time(fn, num_loops=10):\n",
    "    \"\"\"Record the average execution of an input function\"\"\"\n",
    "    output = []\n",
    "    for n in range(num_loops):\n",
    "        start = time()\n",
    "        if type(fn) == str:\n",
    "            eval(fn)\n",
    "        else:\n",
    "            fn\n",
    "        end = time()\n",
    "        output.append(end-start)\n",
    "    output = np.array(output).mean()\n",
    "    return output"
   ]
  },
  {
   "cell_type": "code",
   "execution_count": 82,
   "metadata": {
    "colab": {},
    "colab_type": "code",
    "id": "egO7Dp2PZCR8"
   },
   "outputs": [],
   "source": [
    "def get_all_times(fn=[], items=[], num_loops=100):\n",
    "    \"\"\"Record the individual average execution time for an arrray of input functions\"\"\"\n",
    "    output = np.zeros((len(fn), len(items)))\n",
    "    for x, f in enumerate(fn):              \n",
    "        for y, i in enumerate(items):            \n",
    "            output[x][y] = get_time('{:s}({:s})'.format(f, str(i)), num_loops=num_loops)\n",
    "    return output"
   ]
  },
  {
   "cell_type": "markdown",
   "metadata": {},
   "source": [
    "We now define our experimental parameters. We start out by sorting lists containing 1000 random elements: "
   ]
  },
  {
   "cell_type": "code",
   "execution_count": 83,
   "metadata": {
    "colab": {},
    "colab_type": "code",
    "id": "evo0JXJ2ZCR_"
   },
   "outputs": [],
   "source": [
    "num_items = 1000\n",
    "random_items = [random.randint(-100, 100) for c in range(num_items)]\n",
    "ordered = sorted(random_items)\n",
    "reverse_sort = ordered[::-1]"
   ]
  },
  {
   "cell_type": "markdown",
   "metadata": {},
   "source": [
    "We will compare the following algorithms: \n",
    "   * No sort required --> 'sorted'\n",
    "   * Bubble sort --> 'bubble_sort'\n",
    "   * Insertion sort --> 'insertion_sort'\n",
    "   * Merge sort --> 'merge_sort'\n",
    "   * Quick sort --> 'quick_sort'\n",
    "   * Heap sort --> 'heap_sort'"
   ]
  },
  {
   "cell_type": "code",
   "execution_count": 84,
   "metadata": {
    "colab": {},
    "colab_type": "code",
    "id": "U_e5Ka0EZCSD"
   },
   "outputs": [],
   "source": [
    "fn = ['sorted', 'bubble_sort', 'insertion_sort', 'merge_sort', 'quick_sort', 'heap_sort'] "
   ]
  },
  {
   "cell_type": "code",
   "execution_count": 85,
   "metadata": {
    "colab": {},
    "colab_type": "code",
    "id": "W-Z3hRADZCSL"
   },
   "outputs": [],
   "source": [
    "items = ['random_items', 'ordered', 'reverse_sort']"
   ]
  },
  {
   "cell_type": "markdown",
   "metadata": {},
   "source": [
    "With everything set up, let's run our experiment. Note that depending on the specifications of your machine, this may take a while to run.  "
   ]
  },
  {
   "cell_type": "code",
   "execution_count": 86,
   "metadata": {
    "colab": {},
    "colab_type": "code",
    "id": "ppW7uIKMZCSQ"
   },
   "outputs": [],
   "source": [
    "compare = get_all_times(fn=fn, items=items)"
   ]
  },
  {
   "cell_type": "markdown",
   "metadata": {},
   "source": [
    "Let's plot out collected results:"
   ]
  },
  {
   "cell_type": "code",
   "execution_count": 87,
   "metadata": {
    "colab": {
     "base_uri": "https://localhost:8080/",
     "height": 608
    },
    "colab_type": "code",
    "id": "DSwbB2l-ZCSR",
    "outputId": "8eaea628-d333-4646-c47a-67c4a8a0e7b2"
   },
   "outputs": [
    {
     "data": {
      "image/png": "[encoded data removed]",
      "text/plain": [
       "<Figure size 720x720 with 3 Axes>"
      ]
     },
     "metadata": {
      "needs_background": "light"
     },
     "output_type": "display_data"
    }
   ],
   "source": [
    "fig, ax = plt.subplots(3, 1, figsize=(10,10), gridspec_kw={'hspace': 0.3})\n",
    "max_out = compare.max() * 1.2\n",
    "min_out = 0\n",
    "for i, a, f in zip(range(len(items)), ax, items):    \n",
    "    a.bar(x=range(len(fn)), height=compare[:,i])\n",
    "    a.set_title(f)\n",
    "    a.set_ylim(bottom=min_out, top=max_out)\n",
    "    a.set_xticklabels([''] + fn, ha=\"center\")\n",
    "    a.set_ylabel('time (s)')\n",
    "    for j, h in zip(range(len(fn)), compare[:, i]):\n",
    "        a.text(j, h + 0.01, '%.5f' %h, ha='center')\n",
    "plt.show()"
   ]
  },
  {
   "cell_type": "markdown",
   "metadata": {},
   "source": [
    "Even though we're speaking about millisecond run-times, we can still see how inefficient the bubble-sort algorithm is compared to its peers, having on average the worst performance. \n",
    "\n",
    "What results did you obtain from the heap sort algorithm, and were these in line with your initial intuition?    "
   ]
  },
  {
   "cell_type": "markdown",
   "metadata": {
    "colab_type": "text",
    "id": "i6wNYCZkZCSV"
   },
   "source": [
    "### Performance characteristics as input size increases\n",
    "Let's now see how the performance changes as we vary the number of elements over multiple runs. We perform this for lists in the range of 1 to 5000 elements:"
   ]
  },
  {
   "cell_type": "code",
   "execution_count": 88,
   "metadata": {
    "colab": {},
    "colab_type": "code",
    "id": "Vi1HGT2NZCSV"
   },
   "outputs": [],
   "source": [
    "n_runs = [1, 5, 10, 25, 50, 100, 250, 500, 1000, 2000, 3000, 4000, 5000]\n",
    "n_random = [[random.randint(-100, 100) for c in range(n)] for n in n_runs]"
   ]
  },
  {
   "cell_type": "markdown",
   "metadata": {},
   "source": [
    "Again, the following code may take some time to run. "
   ]
  },
  {
   "cell_type": "code",
   "execution_count": 89,
   "metadata": {
    "colab": {},
    "colab_type": "code",
    "id": "tFukWd8yZCSY"
   },
   "outputs": [],
   "source": [
    "scale = get_all_times(fn=fn, items=n_random, num_loops=1)"
   ]
  },
  {
   "cell_type": "code",
   "execution_count": 90,
   "metadata": {
    "colab": {
     "base_uri": "https://localhost:8080/",
     "height": 592
    },
    "colab_type": "code",
    "id": "xazf9fDtZCSc",
    "outputId": "aeb9515f-7716-4214-f2fe-f361bcacc613"
   },
   "outputs": [
    {
     "data": {
      "image/png": "[encoded data removed]",
      "text/plain": [
       "<Figure size 1080x720 with 1 Axes>"
      ]
     },
     "metadata": {
      "needs_background": "light"
     },
     "output_type": "display_data"
    }
   ],
   "source": [
    "fig, ax = plt.subplots(1, 1, figsize=(15,10))\n",
    "max_out = compare.max() * 1.2\n",
    "min_out = 0\n",
    "for i, f in enumerate(fn):    \n",
    "    ax.plot(n_runs, scale[i], label=f)\n",
    "    ax.legend()\n",
    "    ax.set_xlabel('Number of elements')\n",
    "    ax.set_ylabel('Execution time (s)')\n",
    "fig.show()"
   ]
  },
  {
   "cell_type": "markdown",
   "metadata": {},
   "source": [
    "We once again get a similar intuition of the complexity of the various sorting algorithms, with bubble sort being significantly more expensive compared to the rest. This result aligns with theory, as the naive versions of the bubble sort algorithm typically have $O(n^2)$ time complexity. \n",
    "\n",
    "Alternatively, the quick sort algorithm is seen to have one of the lowest computational costs. Again the theory has our backs here, with the average time complexity of this algorithm being linearithmic with $O(n \\log n)$. "
   ]
  },
  {
   "cell_type": "markdown",
   "metadata": {
    "colab_type": "text",
    "id": "5NbYcOXKxRGf"
   },
   "source": [
    "## Conclusion\n",
    "\n",
    "Understanding the time and space complexity of your algorithm will ensure that you create solutions that are not only accurate but are efficient as well. This train only presents a simple introduction into these concepts and the reader is encouraged to read up further on these concepts."
   ]
  },
  {
   "cell_type": "markdown",
   "metadata": {
    "colab_type": "text",
    "id": "m8zrNGGNZCSe"
   },
   "source": [
    "## Appendix\n",
    "\n",
    "- [Basic sorting algorithms in python\n",
    "](http://danishmujeeb.com/blog/2014/01/basic-sorting-algorithms-implemented-in-python/?lipi=urn%3Ali%3Apage%3Ad_flagship3_feed%3BCu6nF%2FUCRO2Yz9VwNtpJOg%3D%3D) "
   ]
  }
 ],
 "metadata": {
  "colab": {
   "collapsed_sections": [
    "Fl-HQXcRZCPx",
    "nXzhEir8ZCP5",
    "-MjPBK1JZCQC",
    "OokQ6qX6ZCQc",
    "O3wyZmzBZCQu",
    "MiNJYPlKZCRD",
    "DvjuUtgmZCRW"
   ],
   "name": "V2_Big_O_Notation_and_Sorting_Algorithms.ipynb",
   "provenance": []
  },
  "kernelspec": {
   "display_name": "Python 3 (ipykernel)",
   "language": "python",
   "name": "python3"
  },
  "language_info": {
   "codemirror_mode": {
    "name": "ipython",
    "version": 3
   },
   "file_extension": ".py",
   "mimetype": "text/x-python",
   "name": "python",
   "nbconvert_exporter": "python",
   "pygments_lexer": "ipython3",
   "version": "3.9.13"
  }
 },
 "nbformat": 4,
 "nbformat_minor": 1
}
