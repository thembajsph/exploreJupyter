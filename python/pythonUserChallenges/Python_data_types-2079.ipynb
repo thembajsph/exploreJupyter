{
 "cells": [
  {
   "cell_type": "markdown",
   "metadata": {
    "colab_type": "text",
    "id": "QWZu0IjksmYM"
   },
   "source": [
    "#  Python Data Types\n",
    "© Explore Data Science Academy\n",
    "\n",
    "## Learning Objectives\n",
    "By the end of this train, you should be able to:\n",
    " \n",
    "* Be aware of the different types of primitive data types;\n",
    "* Understand the basic operation of each data type; and\n",
    "* Understand how to assign variables to represent data in your code.\n",
    "\n",
    "## Outline\n",
    "In this train we will:\n",
    "\n",
    "* Highlight the use of each data type;\n",
    "* Implement the use of built-in functions and methods on different data types;\n",
    "* Learn how to assign a value to a variable; and\n",
    "* Understand the naming conventions used for variables."
   ]
  },
  {
   "cell_type": "markdown",
   "metadata": {},
   "source": [
    "## Introduction\n",
    "\n",
    "Python is globally a very popular programming language, used across fields such as software development, data science,  and AI. These use cases require data to be stored efficiently, and in a way that means it can be accessed in a timely manner. Python achieves this with its primary data types. These are the basic building blocks essential for data manipulation and consist of simple values of data. \n",
    "\n",
    "**Python makes use of four primitive variable types**:\n",
    "* Integers\n",
    "* Floats \n",
    "* Strings\n",
    "* Booleans\n",
    "\n",
    "Like other programming languages, variables in Python have values and types. Data types dictate what kind of data a variable can store and in some cases, the amount of memory allocated to it. Allocating variable types allows us to make assumptions about the kind of operations that can be applied to a given variable. "
   ]
  },
  {
   "cell_type": "markdown",
   "metadata": {
    "colab_type": "text",
    "id": "61IGm6IwcuX8"
   },
   "source": [
    "## Numbers\n",
    "\n",
    "Two main data types exist to store numerical data, for example: `5, 6.21, -5000, 0.002, 9877777`. Numbers can be stored as **integers** or **floats**."
   ]
  },
  {
   "cell_type": "markdown",
   "metadata": {
    "colab_type": "text",
    "id": "AjvHQdQfSe2s"
   },
   "source": [
    "### Integers\n",
    "Integers, or ints, in Python, are positive or negative whole numbers with no fractional components. By using built-in functions in Python, such as  `type`,  we can determine if a number is an integer or float, as well as convert between the two.\n",
    "\n",
    "### Floats\n",
    "The float is another type of numerical data type which is used to represent real numbers. A decimal point is used to divide the integer and fractional components of the value."
   ]
  },
  {
   "cell_type": "markdown",
   "metadata": {},
   "source": [
    "**Check data type**"
   ]
  },
  {
   "cell_type": "code",
   "execution_count": 2,
   "metadata": {},
   "outputs": [
    {
     "data": {
      "text/plain": [
       "int"
      ]
     },
     "execution_count": 2,
     "metadata": {},
     "output_type": "execute_result"
    }
   ],
   "source": [
    "type(5)"
   ]
  },
  {
   "cell_type": "code",
   "execution_count": 3,
   "metadata": {
    "colab": {
     "base_uri": "https://localhost:8080/",
     "height": 35
    },
    "colab_type": "code",
    "id": "Iw_f3oroSe2u",
    "outputId": "140c525d-168a-491b-e046-8a1fa3fe4527"
   },
   "outputs": [
    {
     "data": {
      "text/plain": [
       "float"
      ]
     },
     "execution_count": 3,
     "metadata": {},
     "output_type": "execute_result"
    }
   ],
   "source": [
    "type(4.9)"
   ]
  },
  {
   "cell_type": "markdown",
   "metadata": {},
   "source": [
    "**Integer to Float** "
   ]
  },
  {
   "cell_type": "code",
   "execution_count": 7,
   "metadata": {
    "colab": {
     "base_uri": "https://localhost:8080/",
     "height": 35
    },
    "colab_type": "code",
    "id": "uIvpxnI6m0sC",
    "outputId": "688389cb-8033-4a27-9683-e09d5731e7b1"
   },
   "outputs": [
    {
     "data": {
      "text/plain": [
       "5.0"
      ]
     },
     "execution_count": 7,
     "metadata": {},
     "output_type": "execute_result"
    }
   ],
   "source": [
    "float(5)"
   ]
  },
  {
   "cell_type": "markdown",
   "metadata": {},
   "source": [
    "**Float to Integer**"
   ]
  },
  {
   "cell_type": "code",
   "execution_count": 6,
   "metadata": {},
   "outputs": [
    {
     "data": {
      "text/plain": [
       "4"
      ]
     },
     "execution_count": 6,
     "metadata": {},
     "output_type": "execute_result"
    }
   ],
   "source": [
    "int(4.9)"
   ]
  },
  {
   "cell_type": "markdown",
   "metadata": {
    "colab_type": "text",
    "id": "ubQ49o29SBGH"
   },
   "source": [
    "### Mathematical operations with numbers\n",
    "Let's look at how we perform mathematical operations with numbers in Python. You will notice that when we have a mathematical operation with an `int` and a `float` the result is always a `float`. This may be due to the conversion that Python performs converting the `int` to a `float` in those cases.\n",
    "\n",
    "The following numerical operators can be used to perform mathematical operations:\n",
    "* **Addition**: `+`\n",
    "* **Subtraction**:  `-`\n",
    "* **Multiplication**: `*`\n",
    "* **Division**: `/`\n",
    "* **Round division**: `//`\n",
    "* **Exponentiation**: `**`\n",
    "\n",
    "The code below shows how these operators are used:"
   ]
  },
  {
   "cell_type": "code",
   "execution_count": 8,
   "metadata": {
    "colab": {
     "base_uri": "https://localhost:8080/",
     "height": 35
    },
    "colab_type": "code",
    "id": "EvgNeoqrSBGJ",
    "outputId": "0f9c5874-0f8b-43d5-cd3a-7d1a82373843"
   },
   "outputs": [
    {
     "data": {
      "text/plain": [
       "6"
      ]
     },
     "execution_count": 8,
     "metadata": {},
     "output_type": "execute_result"
    }
   ],
   "source": [
    "#Addition\n",
    "3 + 3"
   ]
  },
  {
   "cell_type": "code",
   "execution_count": 9,
   "metadata": {
    "colab": {
     "base_uri": "https://localhost:8080/",
     "height": 35
    },
    "colab_type": "code",
    "id": "j7TEX8hZSBGN",
    "outputId": "cf47f9a6-e807-4b12-bb62-c998fba22515"
   },
   "outputs": [
    {
     "data": {
      "text/plain": [
       "0.5"
      ]
     },
     "execution_count": 9,
     "metadata": {},
     "output_type": "execute_result"
    }
   ],
   "source": [
    "#Subtraction\n",
    "3 - 2.5"
   ]
  },
  {
   "cell_type": "code",
   "execution_count": 10,
   "metadata": {
    "colab": {
     "base_uri": "https://localhost:8080/",
     "height": 35
    },
    "colab_type": "code",
    "id": "GJnl-AtmSBGR",
    "outputId": "e1fc5998-a0f5-4cfd-9398-b4916b2548f9"
   },
   "outputs": [
    {
     "data": {
      "text/plain": [
       "10.5"
      ]
     },
     "execution_count": 10,
     "metadata": {},
     "output_type": "execute_result"
    }
   ],
   "source": [
    "#Multiplication\n",
    "3 * 3.5"
   ]
  },
  {
   "cell_type": "code",
   "execution_count": 11,
   "metadata": {
    "colab": {
     "base_uri": "https://localhost:8080/",
     "height": 35
    },
    "colab_type": "code",
    "id": "mhFcGLnMSBGV",
    "outputId": "88b1ddb5-586d-4f84-95fa-ee72172a134b"
   },
   "outputs": [
    {
     "data": {
      "text/plain": [
       "1.5"
      ]
     },
     "execution_count": 11,
     "metadata": {},
     "output_type": "execute_result"
    }
   ],
   "source": [
    "#Division\n",
    "3 / 2"
   ]
  },
  {
   "cell_type": "code",
   "execution_count": 12,
   "metadata": {
    "colab": {
     "base_uri": "https://localhost:8080/",
     "height": 35
    },
    "colab_type": "code",
    "id": "yoBC6m31qHhF",
    "outputId": "9ae42750-e181-4eab-d3de-a57c4c5d416b"
   },
   "outputs": [
    {
     "data": {
      "text/plain": [
       "1"
      ]
     },
     "execution_count": 12,
     "metadata": {},
     "output_type": "execute_result"
    }
   ],
   "source": [
    "#Round division\n",
    "3 // 2"
   ]
  },
  {
   "cell_type": "code",
   "execution_count": 48,
   "metadata": {
    "colab": {
     "base_uri": "https://localhost:8080/",
     "height": 35
    },
    "colab_type": "code",
    "id": "1PD-IoBuSBGZ",
    "outputId": "39027020-b32e-425b-e039-22cf39eea7f7"
   },
   "outputs": [
    {
     "data": {
      "text/plain": [
       "0.0625"
      ]
     },
     "execution_count": 48,
     "metadata": {},
     "output_type": "execute_result"
    }
   ],
   "source": [
    "#Exponentiation\n",
    "4 ** 2"
   ]
  },
  {
   "cell_type": "markdown",
   "metadata": {
    "colab_type": "text",
    "id": "mlVr1_MFSBGh"
   },
   "source": [
    "### BODMAS\n",
    "Python follows the traditional mathematical rules of precedence, by using the basic order of operations when performing a mathematical calculation (i.e. brackets first, then division and multiplication, and only after that comes addition and subtraction).\n",
    " \n",
    " **BODMAS** is an abbreviation for the following:\n",
    "- **B**rackets\n",
    "- **O**f\n",
    "- **D**ivision\n",
    "- **M**ultiplication\n",
    "- **A**ddition\n",
    "- **S**ubtraction\n",
    "\n",
    "In the example below, Python will first calculate the term  `3 * 3 / 3 `  (which is equal to `3`).  Only then will it add the `3` at the start, and then subtract `2`*(1)*. In order to specify the order of operations - just like at school - we need to make use of brackets*(2)*."
   ]
  },
  {
   "cell_type": "code",
   "execution_count": 14,
   "metadata": {
    "colab": {
     "base_uri": "https://localhost:8080/",
     "height": 35
    },
    "colab_type": "code",
    "id": "RUFKsAFISBGj",
    "outputId": "e24e9223-d86f-4d4d-dfaa-6466f4fa6b53"
   },
   "outputs": [
    {
     "data": {
      "text/plain": [
       "4.0"
      ]
     },
     "execution_count": 14,
     "metadata": {},
     "output_type": "execute_result"
    }
   ],
   "source": [
    "3 + 3 * 3 / 3 - 2 #(1)"
   ]
  },
  {
   "cell_type": "code",
   "execution_count": 15,
   "metadata": {
    "colab": {
     "base_uri": "https://localhost:8080/",
     "height": 35
    },
    "colab_type": "code",
    "id": "w_D0vBFcSBGn",
    "outputId": "754e527d-ed26-4337-90a2-c243a128a2e7"
   },
   "outputs": [
    {
     "data": {
      "text/plain": [
       "18.0"
      ]
     },
     "execution_count": 15,
     "metadata": {},
     "output_type": "execute_result"
    }
   ],
   "source": [
    "(3 + 3) * 3/(3 - 2) #(2)"
   ]
  },
  {
   "cell_type": "markdown",
   "metadata": {
    "colab_type": "text",
    "id": "VvdwpnMDSBGr"
   },
   "source": [
    "### Modulo\n",
    "Modulo - `%` is the only operator you might not be familiar with from High School. Modulo calculates the remainder when the number on the left is divided by the number on the right of the modulo."
   ]
  },
  {
   "cell_type": "code",
   "execution_count": 16,
   "metadata": {
    "colab": {
     "base_uri": "https://localhost:8080/",
     "height": 35
    },
    "colab_type": "code",
    "id": "ajL8Hya2SBGr",
    "outputId": "8dcd3a13-503e-47bf-e952-a9175b55185b"
   },
   "outputs": [
    {
     "data": {
      "text/plain": [
       "2"
      ]
     },
     "execution_count": 16,
     "metadata": {},
     "output_type": "execute_result"
    }
   ],
   "source": [
    "11 % 3"
   ]
  },
  {
   "cell_type": "markdown",
   "metadata": {
    "colab_type": "text",
    "id": "QobQO0WySBGt"
   },
   "source": [
    "`11 % 3` gives 2 as a result.\n",
    "This is because the number `3` goes into `11` three times (3 x 3 = 9), with 2 left over (11 - 9 = 2).\n",
    "*** We often use modulo to determine whether a number is even:*** \n",
    "\n",
    "* **Even number**: if you divide a number by 2 and the result is `0`, the number is *even* \n",
    "* **Odd number**: if you divide a number by 2 and the result is not `0`, the number is *odd*"
   ]
  },
  {
   "cell_type": "code",
   "execution_count": 17,
   "metadata": {
    "colab": {
     "base_uri": "https://localhost:8080/",
     "height": 35
    },
    "colab_type": "code",
    "id": "eLPUgZu9SBGv",
    "outputId": "dee672cc-aab0-4fe4-caca-e09c7a4bf842"
   },
   "outputs": [
    {
     "data": {
      "text/plain": [
       "0"
      ]
     },
     "execution_count": 17,
     "metadata": {},
     "output_type": "execute_result"
    }
   ],
   "source": [
    "#Even number \n",
    "10 % 2"
   ]
  },
  {
   "cell_type": "code",
   "execution_count": 18,
   "metadata": {
    "colab": {
     "base_uri": "https://localhost:8080/",
     "height": 35
    },
    "colab_type": "code",
    "id": "O1FWpaDnSBGz",
    "outputId": "6e064001-4372-459f-e941-bf88c817449b"
   },
   "outputs": [
    {
     "data": {
      "text/plain": [
       "1"
      ]
     },
     "execution_count": 18,
     "metadata": {},
     "output_type": "execute_result"
    }
   ],
   "source": [
    "#Odd number\n",
    "11 % 2"
   ]
  },
  {
   "cell_type": "markdown",
   "metadata": {
    "colab_type": "text",
    "id": "-DnbIs2vrG4-"
   },
   "source": [
    "### Round\n",
    "**`round(number, ndigits)`**\n",
    "\n",
    "We also have a built-in Python function to `round` numbers up/down.For example, to round $\\ 3.14159265359\\ $(`number`) to $2$ (`digits`) decimals as seen in *(1)*. However, rounding in Python can give unexpected results, for example rounding the float $2.675\\ $ to $2\\ $ digits, would give $2.67 \\ $ and not $\\ 2.68\\ $ as you would expect *(2)*."
   ]
  },
  {
   "cell_type": "code",
   "execution_count": 19,
   "metadata": {
    "colab": {
     "base_uri": "https://localhost:8080/",
     "height": 35
    },
    "colab_type": "code",
    "id": "gsw0Zi27rU7y",
    "outputId": "267641de-f86a-453e-f85f-c70c4ba98625"
   },
   "outputs": [
    {
     "data": {
      "text/plain": [
       "3.14"
      ]
     },
     "execution_count": 19,
     "metadata": {},
     "output_type": "execute_result"
    }
   ],
   "source": [
    "round(3.14159265359, 2) #(1)"
   ]
  },
  {
   "cell_type": "code",
   "execution_count": 20,
   "metadata": {
    "colab": {
     "base_uri": "https://localhost:8080/",
     "height": 35
    },
    "colab_type": "code",
    "id": "sGPKlxSXsUf0",
    "outputId": "4514fd72-7d9d-446d-8db6-a85b443b361d"
   },
   "outputs": [
    {
     "data": {
      "text/plain": [
       "2.67"
      ]
     },
     "execution_count": 20,
     "metadata": {},
     "output_type": "execute_result"
    }
   ],
   "source": [
    "round(2.675, 2) #(2)"
   ]
  },
  {
   "cell_type": "markdown",
   "metadata": {
    "colab_type": "text",
    "id": "961-O1XWtaXo"
   },
   "source": [
    "This is not an error. It's just a result of the way computers do math.\n",
    "\n",
    "Check out https://docs.python.org/3.3/tutorial/floatingpoint.html#tut-fp-issues for more."
   ]
  },
  {
   "cell_type": "markdown",
   "metadata": {
    "colab_type": "text",
    "id": "kv6GotTGSe4U"
   },
   "source": [
    "## Strings\n",
    "\n",
    "A ``string``  is a sequence of characters. Anything inside quotes is considered a string in Python, and you can use single (' ') or double (\" \") quotes around your string. \n",
    "\n",
    "`\"This is considered a string.\"`\n",
    "\n",
    "`'This is also considered as a string.'`\n",
    "\n",
    "This versatility of strings enables the use of additional quotes and apostrophes within your strings (1). There are other ways of using strings one of these ways is by adding the `string`s (2):"
   ]
  },
  {
   "cell_type": "code",
   "execution_count": 21,
   "metadata": {},
   "outputs": [
    {
     "data": {
      "text/plain": [
       "'Python is my favourite subject, Oh wait is it even a subject!'"
      ]
     },
     "execution_count": 21,
     "metadata": {},
     "output_type": "execute_result"
    }
   ],
   "source": [
    "'Python is my favourite subject, Oh wait is it even a subject!' #(1)"
   ]
  },
  {
   "cell_type": "code",
   "execution_count": 22,
   "metadata": {
    "colab": {
     "base_uri": "https://localhost:8080/",
     "height": 35
    },
    "colab_type": "code",
    "id": "Gi4Vm2P0Se4b",
    "outputId": "28f97d87-c1e3-4320-ccad-7cf58e7b5498"
   },
   "outputs": [
    {
     "data": {
      "text/plain": [
       "'Financial Calculator'"
      ]
     },
     "execution_count": 22,
     "metadata": {},
     "output_type": "execute_result"
    }
   ],
   "source": [
    "'Financial' + ' ' + 'Calculator' #(2)"
   ]
  },
  {
   "cell_type": "code",
   "execution_count": 2,
   "metadata": {
    "colab": {
     "base_uri": "https://localhost:8080/",
     "height": 493
    },
    "colab_type": "code",
    "id": "Vv88RUlKSj_X",
    "outputId": "c409fe1c-c013-4fcd-f45f-590b6ed0443f"
   },
   "outputs": [
    {
     "data": {
      "text/html": [
       "\n",
       "        <iframe\n",
       "            width=\"840\"\n",
       "            height=\"472\"\n",
       "            src=\"https://www.youtube.com/embed/QZ3heFMU3oE\"\n",
       "            frameborder=\"0\"\n",
       "            allowfullscreen\n",
       "        ></iframe>\n",
       "        "
      ],
      "text/plain": [
       "<IPython.lib.display.IFrame at 0x22bf2dc1f08>"
      ]
     },
     "execution_count": 2,
     "metadata": {},
     "output_type": "execute_result"
    }
   ],
   "source": [
    "from IPython.display import IFrame\n",
    "\n",
    "# Youtube\n",
    "IFrame(width=\"840\", height=\"472\", src=\"https://www.youtube.com/embed/QZ3heFMU3oE\")"
   ]
  },
  {
   "cell_type": "markdown",
   "metadata": {
    "colab_type": "text",
    "id": "UqvAGUN8Se4i"
   },
   "source": [
    "### Differentiating between numbers and strings\n",
    "\n",
    "When dealing with strings in Python we always need to enclose them in quotation marks, in order to clarify that we want Python to see them as strings. This differentiates them from variable names and numbers."
   ]
  },
  {
   "cell_type": "code",
   "execution_count": 24,
   "metadata": {
    "colab": {
     "base_uri": "https://localhost:8080/",
     "height": 35
    },
    "colab_type": "code",
    "id": "x3zr_rRcSe4k",
    "outputId": "aa4f51b7-c44a-4e07-b0a3-0f26405f7ace"
   },
   "outputs": [
    {
     "data": {
      "text/plain": [
       "21"
      ]
     },
     "execution_count": 24,
     "metadata": {},
     "output_type": "execute_result"
    }
   ],
   "source": [
    "#add numbers\n",
    "7 + 7 + 7"
   ]
  },
  {
   "cell_type": "code",
   "execution_count": 25,
   "metadata": {
    "colab": {
     "base_uri": "https://localhost:8080/",
     "height": 35
    },
    "colab_type": "code",
    "id": "I6SxFArWSe4o",
    "outputId": "698c785b-ed61-434c-aa3c-520ab0ab4737"
   },
   "outputs": [
    {
     "data": {
      "text/plain": [
       "'777'"
      ]
     },
     "execution_count": 25,
     "metadata": {},
     "output_type": "execute_result"
    }
   ],
   "source": [
    "#add strings\n",
    "'7' + '7' + '7'"
   ]
  },
  {
   "cell_type": "code",
   "execution_count": 26,
   "metadata": {
    "colab": {
     "base_uri": "https://localhost:8080/",
     "height": 35
    },
    "colab_type": "code",
    "id": "dLmVlrmSSe4t",
    "outputId": "a3ef39a7-bce9-4446-f217-7b2c4da9a14f"
   },
   "outputs": [
    {
     "data": {
      "text/plain": [
       "21"
      ]
     },
     "execution_count": 26,
     "metadata": {},
     "output_type": "execute_result"
    }
   ],
   "source": [
    "#multiply variables\n",
    "7 * 3"
   ]
  },
  {
   "cell_type": "code",
   "execution_count": 27,
   "metadata": {
    "colab": {
     "base_uri": "https://localhost:8080/",
     "height": 35
    },
    "colab_type": "code",
    "id": "_SKLFmJ-Se4z",
    "outputId": "d75e49fd-ad5a-4f75-a513-01ba853d2624"
   },
   "outputs": [
    {
     "data": {
      "text/plain": [
       "'777'"
      ]
     },
     "execution_count": 27,
     "metadata": {},
     "output_type": "execute_result"
    }
   ],
   "source": [
    "#Here we just add the string to itself 3 times \n",
    "'7' * 3"
   ]
  },
  {
   "cell_type": "markdown",
   "metadata": {
    "colab_type": "text",
    "id": "xVK3LaqTSe44"
   },
   "source": [
    "### Applying Methods on Strings\n",
    "\n",
    "**`len`** is a method that can be used to work out the length of a `string`, by using **`len( <<YOUR OWN STRING HERE>> )`** *(1)*. You can also use the len function to calculate the total length of multiple strings at once in the same cell *(2)*. \n",
    "\n",
    "**`upper` & `lower`** are methods that be used to convert a string to either `upper` or `lower` case. We can convert a `string` to `upper`case, by using **`<<YOUR OWN STRING HERE>>.upper()`** *(3)*, or we can convert to `lower` case by using **`<<YOUR OWN STRING HERE>>.lower()`** *(4)*.  "
   ]
  },
  {
   "cell_type": "code",
   "execution_count": 28,
   "metadata": {
    "colab": {
     "base_uri": "https://localhost:8080/",
     "height": 35
    },
    "colab_type": "code",
    "id": "jh-CLU0nSe45",
    "outputId": "d8c59fb3-4e99-433e-e59a-2c3fa7c5cf7b"
   },
   "outputs": [
    {
     "data": {
      "text/plain": [
       "9"
      ]
     },
     "execution_count": 28,
     "metadata": {},
     "output_type": "execute_result"
    }
   ],
   "source": [
    "len('Financial') #(1)"
   ]
  },
  {
   "cell_type": "code",
   "execution_count": 29,
   "metadata": {
    "colab": {
     "base_uri": "https://localhost:8080/",
     "height": 35
    },
    "colab_type": "code",
    "id": "ZKczGFSFpq8E",
    "outputId": "d4790eba-011f-40c9-c36f-da52a041f5ec"
   },
   "outputs": [
    {
     "data": {
      "text/plain": [
       "19"
      ]
     },
     "execution_count": 29,
     "metadata": {},
     "output_type": "execute_result"
    }
   ],
   "source": [
    "len('The' + 'driver' + 'has' + 'arrived') #(2)"
   ]
  },
  {
   "cell_type": "code",
   "execution_count": 30,
   "metadata": {
    "colab": {
     "base_uri": "https://localhost:8080/"
    },
    "colab_type": "code",
    "id": "0mrVYjKoSe4_",
    "outputId": "25fc4a73-35d0-47d2-d400-c14b2544ba88"
   },
   "outputs": [
    {
     "data": {
      "text/plain": [
       "'CALCULATOR'"
      ]
     },
     "execution_count": 30,
     "metadata": {},
     "output_type": "execute_result"
    }
   ],
   "source": [
    "\"Calculator\".upper() #(3)"
   ]
  },
  {
   "cell_type": "code",
   "execution_count": 31,
   "metadata": {
    "colab": {
     "base_uri": "https://localhost:8080/"
    },
    "colab_type": "code",
    "id": "BHtE3kVcSe5D",
    "outputId": "f13d8175-cfbf-4c86-82be-9101f13bb5f4"
   },
   "outputs": [
    {
     "data": {
      "text/plain": [
       "'calculator'"
      ]
     },
     "execution_count": 31,
     "metadata": {},
     "output_type": "execute_result"
    }
   ],
   "source": [
    "\"CALCULATOR\".lower() #(4)"
   ]
  },
  {
   "cell_type": "markdown",
   "metadata": {
    "colab_type": "text",
    "id": "Rcpi9TqhTqrd"
   },
   "source": [
    "### Booleans\n",
    "\n",
    "In this section we cover **Booleans**, which are built-in data types capable of taking on the values: `True` and `False`. This data type is integral in conditional and comparison expressions and is interchangeable with the integers 1 and 0. Booleans control the flow of a program and are used to make comparisons, showing that despite the fancy name (nicknamed `bool` in Python) they play an integral role. \n",
    "\n",
    "Boolean data types can be used with `comparison` and `logical` operators: \n",
    "\n",
    "**Comparison operators** \n",
    "\n",
    "**==** : Equal to\n",
    "\n",
    "**!=** : Not Equal to\n",
    "\n",
    "**<**  : Less than \n",
    "\n",
    "**>**  : Greater than\n",
    "\n",
    "**<=** : Less than or equal to\n",
    "\n",
    "**>=** : Greater than or equal to \n",
    "\n",
    "**Logical operators**\n",
    "\n",
    "**and** : True if both are true(`x and y`), this operator is used to check whether both conditions are true\n",
    "\n",
    "**or**  : True if at least one is true (`x or y`), this operator is used check is either of the conditions is true \n",
    "\n",
    "**not** : True only if false (`not x`), this operator is used to check for inequality\n",
    "\n",
    "These Boolean operators will either equate to `True` if the condition is met, or `False` is the condition is not. "
   ]
  },
  {
   "cell_type": "code",
   "execution_count": 3,
   "metadata": {
    "colab": {
     "base_uri": "https://localhost:8080/",
     "height": 493
    },
    "colab_type": "code",
    "id": "JKVxaRLFS14f",
    "outputId": "e4f2fb25-d04b-495a-f9b9-90fa98454224"
   },
   "outputs": [
    {
     "data": {
      "text/html": [
       "\n",
       "        <iframe\n",
       "            width=\"840\"\n",
       "            height=\"472\"\n",
       "            src=\"https://www.youtube.com/embed/7h5kKIGWWds\"\n",
       "            frameborder=\"0\"\n",
       "            allowfullscreen\n",
       "        ></iframe>\n",
       "        "
      ],
      "text/plain": [
       "<IPython.lib.display.IFrame at 0x22bf2dce4c8>"
      ]
     },
     "execution_count": 3,
     "metadata": {},
     "output_type": "execute_result"
    }
   ],
   "source": [
    "from IPython.display import IFrame\n",
    "\n",
    "# Youtube\n",
    "IFrame(width=\"840\", height=\"472\", src=\"https://www.youtube.com/embed/7h5kKIGWWds\")"
   ]
  },
  {
   "cell_type": "markdown",
   "metadata": {},
   "source": [
    "#### Comparison operators\n",
    "\n",
    "Below are some comparison operators that are used to check each condition, run these cells and let's see what you get!"
   ]
  },
  {
   "cell_type": "code",
   "execution_count": 33,
   "metadata": {
    "colab": {
     "base_uri": "https://localhost:8080/",
     "height": 35
    },
    "colab_type": "code",
    "id": "3nD6r9IVMCQ0",
    "outputId": "60321300-a3db-4b3a-9839-18b69ba5c588"
   },
   "outputs": [
    {
     "data": {
      "text/plain": [
       "False"
      ]
     },
     "execution_count": 33,
     "metadata": {},
     "output_type": "execute_result"
    }
   ],
   "source": [
    "5 < 3"
   ]
  },
  {
   "cell_type": "code",
   "execution_count": 34,
   "metadata": {
    "colab": {
     "base_uri": "https://localhost:8080/",
     "height": 35
    },
    "colab_type": "code",
    "id": "3VyVh-cLMCQ7",
    "outputId": "19601a39-224c-4cc0-d1a2-116a041c787d"
   },
   "outputs": [
    {
     "data": {
      "text/plain": [
       "True"
      ]
     },
     "execution_count": 34,
     "metadata": {},
     "output_type": "execute_result"
    }
   ],
   "source": [
    "5 > 3"
   ]
  },
  {
   "cell_type": "code",
   "execution_count": 35,
   "metadata": {
    "colab": {
     "base_uri": "https://localhost:8080/",
     "height": 35
    },
    "colab_type": "code",
    "id": "iPhXLoG3MCRA",
    "outputId": "3d8d9488-574b-4b61-a65e-bb0eb7c85db4"
   },
   "outputs": [
    {
     "data": {
      "text/plain": [
       "True"
      ]
     },
     "execution_count": 35,
     "metadata": {},
     "output_type": "execute_result"
    }
   ],
   "source": [
    "1 + 1 == 2"
   ]
  },
  {
   "cell_type": "code",
   "execution_count": 36,
   "metadata": {
    "colab": {
     "base_uri": "https://localhost:8080/",
     "height": 35
    },
    "colab_type": "code",
    "id": "Ndhr6w9wMCRI",
    "outputId": "a2e4f426-22c2-4853-ee30-d6580030d57c"
   },
   "outputs": [
    {
     "data": {
      "text/plain": [
       "False"
      ]
     },
     "execution_count": 36,
     "metadata": {},
     "output_type": "execute_result"
    }
   ],
   "source": [
    "'apples' == 'oranges'"
   ]
  },
  {
   "cell_type": "markdown",
   "metadata": {},
   "source": [
    "**Logical operators**\n",
    "\n",
    "Below we will be testing some conditions using logical operators"
   ]
  },
  {
   "cell_type": "code",
   "execution_count": 37,
   "metadata": {
    "colab": {
     "base_uri": "https://localhost:8080/",
     "height": 35
    },
    "colab_type": "code",
    "id": "OPmcyZGLf4lu",
    "outputId": "844a2be8-8e8a-4ca6-dc93-47870675b889"
   },
   "outputs": [
    {
     "data": {
      "text/plain": [
       "False"
      ]
     },
     "execution_count": 37,
     "metadata": {},
     "output_type": "execute_result"
    }
   ],
   "source": [
    "not 1+1 == 2"
   ]
  },
  {
   "cell_type": "code",
   "execution_count": 38,
   "metadata": {
    "colab": {
     "base_uri": "https://localhost:8080/",
     "height": 35
    },
    "colab_type": "code",
    "id": "WdyD9UD-klH6",
    "outputId": "ae83d58e-8ee6-45fe-9373-c27f524e09ac"
   },
   "outputs": [
    {
     "data": {
      "text/plain": [
       "False"
      ]
     },
     "execution_count": 38,
     "metadata": {},
     "output_type": "execute_result"
    }
   ],
   "source": [
    "1+1 != 2"
   ]
  },
  {
   "cell_type": "code",
   "execution_count": 39,
   "metadata": {
    "colab": {
     "base_uri": "https://localhost:8080/",
     "height": 35
    },
    "colab_type": "code",
    "id": "7XHnVib7MCRE",
    "outputId": "95dbdb61-572d-4437-bfca-eee87c2e2ab3"
   },
   "outputs": [
    {
     "data": {
      "text/plain": [
       "True"
      ]
     },
     "execution_count": 39,
     "metadata": {},
     "output_type": "execute_result"
    }
   ],
   "source": [
    "'apples' != 'oranges'"
   ]
  },
  {
   "cell_type": "code",
   "execution_count": 40,
   "metadata": {
    "colab": {
     "base_uri": "https://localhost:8080/",
     "height": 35
    },
    "colab_type": "code",
    "id": "fFJMAS2eMCRN",
    "outputId": "0e5fb2b9-e395-407c-bae6-0fbace33d712"
   },
   "outputs": [
    {
     "data": {
      "text/plain": [
       "False"
      ]
     },
     "execution_count": 40,
     "metadata": {},
     "output_type": "execute_result"
    }
   ],
   "source": [
    "4 > 2 and 3 > 5"
   ]
  },
  {
   "cell_type": "code",
   "execution_count": 41,
   "metadata": {
    "colab": {
     "base_uri": "https://localhost:8080/",
     "height": 35
    },
    "colab_type": "code",
    "id": "VIOyXhe4MCRS",
    "outputId": "86b9c47a-96b3-4faa-c552-912200c4d4c9"
   },
   "outputs": [
    {
     "data": {
      "text/plain": [
       "True"
      ]
     },
     "execution_count": 41,
     "metadata": {},
     "output_type": "execute_result"
    }
   ],
   "source": [
    "True and True"
   ]
  },
  {
   "cell_type": "code",
   "execution_count": 42,
   "metadata": {
    "colab": {
     "base_uri": "https://localhost:8080/",
     "height": 35
    },
    "colab_type": "code",
    "id": "4dMfxwFNMCRX",
    "outputId": "b9e82210-365b-4d57-9ead-920f5d801ed5"
   },
   "outputs": [
    {
     "data": {
      "text/plain": [
       "False"
      ]
     },
     "execution_count": 42,
     "metadata": {},
     "output_type": "execute_result"
    }
   ],
   "source": [
    "True and False"
   ]
  },
  {
   "cell_type": "code",
   "execution_count": 43,
   "metadata": {
    "colab": {
     "base_uri": "https://localhost:8080/",
     "height": 35
    },
    "colab_type": "code",
    "id": "7H7etY2EMCRa",
    "outputId": "fec1c6ad-5203-4a3b-ef4d-3123797503ed"
   },
   "outputs": [
    {
     "data": {
      "text/plain": [
       "False"
      ]
     },
     "execution_count": 43,
     "metadata": {},
     "output_type": "execute_result"
    }
   ],
   "source": [
    "False and True"
   ]
  },
  {
   "cell_type": "code",
   "execution_count": 44,
   "metadata": {
    "colab": {
     "base_uri": "https://localhost:8080/",
     "height": 35
    },
    "colab_type": "code",
    "id": "yJv9oMeEMCRe",
    "outputId": "c2831bf2-ccc9-466d-84fb-db29e7d5128b"
   },
   "outputs": [
    {
     "data": {
      "text/plain": [
       "False"
      ]
     },
     "execution_count": 44,
     "metadata": {},
     "output_type": "execute_result"
    }
   ],
   "source": [
    "False and False"
   ]
  },
  {
   "cell_type": "code",
   "execution_count": 45,
   "metadata": {
    "colab": {
     "base_uri": "https://localhost:8080/",
     "height": 35
    },
    "colab_type": "code",
    "id": "qrJ85SA0MCRi",
    "outputId": "a06c02af-bd2d-4a3d-829d-28534cc59ac8"
   },
   "outputs": [
    {
     "data": {
      "text/plain": [
       "True"
      ]
     },
     "execution_count": 45,
     "metadata": {},
     "output_type": "execute_result"
    }
   ],
   "source": [
    "4 > 2 or 3 > 5"
   ]
  },
  {
   "cell_type": "code",
   "execution_count": 46,
   "metadata": {
    "colab": {
     "base_uri": "https://localhost:8080/",
     "height": 35
    },
    "colab_type": "code",
    "id": "-FO-wow-MCRo",
    "outputId": "489bf84b-8abd-4644-85e7-2e68426c8e57"
   },
   "outputs": [
    {
     "data": {
      "text/plain": [
       "True"
      ]
     },
     "execution_count": 46,
     "metadata": {},
     "output_type": "execute_result"
    }
   ],
   "source": [
    "True or True"
   ]
  },
  {
   "cell_type": "code",
   "execution_count": 47,
   "metadata": {
    "colab": {
     "base_uri": "https://localhost:8080/",
     "height": 35
    },
    "colab_type": "code",
    "id": "1p72Jv2QMCRr",
    "outputId": "a3796ced-ce8e-47b7-b7da-b8b7acb92689"
   },
   "outputs": [
    {
     "data": {
      "text/plain": [
       "True"
      ]
     },
     "execution_count": 47,
     "metadata": {},
     "output_type": "execute_result"
    }
   ],
   "source": [
    "True or False"
   ]
  },
  {
   "cell_type": "code",
   "execution_count": 48,
   "metadata": {
    "colab": {
     "base_uri": "https://localhost:8080/",
     "height": 35
    },
    "colab_type": "code",
    "id": "CjD-G-xFMCRv",
    "outputId": "4daade38-68b9-4c3b-9db0-c678e3b82f7a"
   },
   "outputs": [
    {
     "data": {
      "text/plain": [
       "True"
      ]
     },
     "execution_count": 48,
     "metadata": {},
     "output_type": "execute_result"
    }
   ],
   "source": [
    "False or True"
   ]
  },
  {
   "cell_type": "code",
   "execution_count": 49,
   "metadata": {
    "colab": {
     "base_uri": "https://localhost:8080/",
     "height": 35
    },
    "colab_type": "code",
    "id": "TdH35i7JMCRz",
    "outputId": "f8822111-d499-42d3-dab0-7e1bbb6ff423"
   },
   "outputs": [
    {
     "data": {
      "text/plain": [
       "False"
      ]
     },
     "execution_count": 49,
     "metadata": {},
     "output_type": "execute_result"
    }
   ],
   "source": [
    "False or False"
   ]
  },
  {
   "cell_type": "markdown",
   "metadata": {
    "colab_type": "text",
    "id": "PI-7jPIqTqtT"
   },
   "source": [
    "## Variables\n",
    "\n",
    "We use variables to hold some value (that might change later on). It's often best to imagine variables as \"virtual storage boxes\" in which we can store stuff. To use our \"virtual storage box\" we need to give it a name (e.g. 'x') and set it equal to some value (e.g. 253) *(1)*.\n",
    "\n",
    "When we look below we can see our variable `x` has been assigned to a value. Now we can perform operations with it, e.g. we can multiply it by some other value *(2)*. Variables can store any of the Python data types you have already covered such as; `Integer`, `Float`, `String` and even `Boolean` values. *(3)*. We can even go on and create a variable called 'is_y_greater', that holds the Boolean value to determine whether y is greater than x. *(4)*\n",
    "\n",
    "#### What is the purpose of using Variables in Python ?\n",
    "\n",
    "Variables enable us to write flexible programs. Rather than \"hard-coding\" the data directly into a program, a programmer can use variables to represent the data. Then, when we run the program, the variables are replaced with real data. This makes it possible for the same program to process different sets of data.\n"
   ]
  },
  {
   "cell_type": "code",
   "execution_count": 50,
   "metadata": {
    "colab": {},
    "colab_type": "code",
    "collapsed": true,
    "id": "gvw1RY7ATqtW",
    "jupyter": {
     "outputs_hidden": true
    }
   },
   "outputs": [],
   "source": [
    "x = 253 #(1)"
   ]
  },
  {
   "cell_type": "code",
   "execution_count": 51,
   "metadata": {
    "colab": {
     "base_uri": "https://localhost:8080/",
     "height": 35
    },
    "colab_type": "code",
    "id": "FmYITj9hTqtd",
    "outputId": "a0c7c0ca-0f6d-442a-b279-a2940a3801c3"
   },
   "outputs": [
    {
     "data": {
      "text/plain": [
       "759"
      ]
     },
     "execution_count": 51,
     "metadata": {},
     "output_type": "execute_result"
    }
   ],
   "source": [
    "3 * x #(2)"
   ]
  },
  {
   "cell_type": "code",
   "execution_count": 52,
   "metadata": {
    "colab": {
     "base_uri": "https://localhost:8080/",
     "height": 35
    },
    "colab_type": "code",
    "id": "50WkmKZjTqti",
    "outputId": "43bef23f-092b-41b0-c460-de558b2162ac"
   },
   "outputs": [
    {
     "data": {
      "text/plain": [
       "64009"
      ]
     },
     "execution_count": 52,
     "metadata": {},
     "output_type": "execute_result"
    }
   ],
   "source": [
    "#We can find x squared\n",
    "x ** 2"
   ]
  },
  {
   "cell_type": "code",
   "execution_count": 4,
   "metadata": {
    "colab": {
     "base_uri": "https://localhost:8080/",
     "height": 35
    },
    "colab_type": "code",
    "id": "s_dbKb2QTqtm",
    "outputId": "43cdbbdb-5d9c-46e4-830e-80ea659dc97a"
   },
   "outputs": [
    {
     "data": {
      "text/plain": [
       "'I love Maths I love Maths I love Maths I love Maths I love Maths '"
      ]
     },
     "execution_count": 4,
     "metadata": {},
     "output_type": "execute_result"
    }
   ],
   "source": [
    "calculator = \"I love Maths \"\n",
    "calculator * 5"
   ]
  },
  {
   "cell_type": "code",
   "execution_count": 54,
   "metadata": {
    "colab": {},
    "colab_type": "code",
    "collapsed": true,
    "id": "dRIafBxnTqtq",
    "jupyter": {
     "outputs_hidden": true
    }
   },
   "outputs": [],
   "source": [
    "y = 100"
   ]
  },
  {
   "cell_type": "code",
   "execution_count": 55,
   "metadata": {
    "colab": {},
    "colab_type": "code",
    "collapsed": true,
    "id": "IX27A0--Tqtw",
    "jupyter": {
     "outputs_hidden": true
    }
   },
   "outputs": [],
   "source": [
    "is_y_greater = y > x"
   ]
  },
  {
   "cell_type": "code",
   "execution_count": 56,
   "metadata": {
    "colab": {
     "base_uri": "https://localhost:8080/",
     "height": 35
    },
    "colab_type": "code",
    "id": "btGNb7O0Tqt0",
    "outputId": "0fbab394-ea60-4b1b-c49b-dc68713d4e1b"
   },
   "outputs": [
    {
     "data": {
      "text/plain": [
       "False"
      ]
     },
     "execution_count": 56,
     "metadata": {},
     "output_type": "execute_result"
    }
   ],
   "source": [
    "is_y_greater"
   ]
  },
  {
   "cell_type": "code",
   "execution_count": 57,
   "metadata": {
    "colab": {
     "base_uri": "https://localhost:8080/",
     "height": 35
    },
    "colab_type": "code",
    "id": "VwGwS9AoTqt7",
    "outputId": "028ea337-87f7-445f-fe57-e4c2f1433db8"
   },
   "outputs": [
    {
     "data": {
      "text/plain": [
       "353"
      ]
     },
     "execution_count": 57,
     "metadata": {},
     "output_type": "execute_result"
    }
   ],
   "source": [
    "x + y"
   ]
  },
  {
   "cell_type": "code",
   "execution_count": 58,
   "metadata": {
    "colab": {},
    "colab_type": "code",
    "collapsed": true,
    "id": "dCBbWhFiTquA",
    "jupyter": {
     "outputs_hidden": true
    }
   },
   "outputs": [],
   "source": [
    "a = 2\n",
    "b = 3\n",
    "c = a**b"
   ]
  },
  {
   "cell_type": "code",
   "execution_count": 59,
   "metadata": {
    "colab": {
     "base_uri": "https://localhost:8080/",
     "height": 35
    },
    "colab_type": "code",
    "id": "hZhkLz3iTquD",
    "outputId": "d8409097-bfcd-42af-8b98-5c2ada7cdd76"
   },
   "outputs": [
    {
     "data": {
      "text/plain": [
       "8"
      ]
     },
     "execution_count": 59,
     "metadata": {},
     "output_type": "execute_result"
    }
   ],
   "source": [
    "c"
   ]
  },
  {
   "cell_type": "markdown",
   "metadata": {
    "colab_type": "text",
    "id": "MxHuAiaDTquH"
   },
   "source": [
    "### Overwriting Variables\n",
    "A variable will always contain the ***last value*** that you assigned to it.\n",
    "\n",
    "Remember good old **`x`**? (From the very first code line?)\n",
    "\n",
    "If we decide to change its value from 253 to, say, 5; its as easy as setting **`x`** equal to 5:"
   ]
  },
  {
   "cell_type": "code",
   "execution_count": 60,
   "metadata": {
    "colab": {},
    "colab_type": "code",
    "collapsed": true,
    "id": "KNLfOvwFTquJ",
    "jupyter": {
     "outputs_hidden": true
    }
   },
   "outputs": [],
   "source": [
    "x = 5"
   ]
  },
  {
   "cell_type": "code",
   "execution_count": 61,
   "metadata": {
    "colab": {
     "base_uri": "https://localhost:8080/"
    },
    "colab_type": "code",
    "id": "ZZ_HMXViTquK",
    "outputId": "55e6b187-cb3d-45eb-bb8c-615c59397ffe"
   },
   "outputs": [
    {
     "data": {
      "text/plain": [
       "5"
      ]
     },
     "execution_count": 61,
     "metadata": {},
     "output_type": "execute_result"
    }
   ],
   "source": [
    "x"
   ]
  },
  {
   "cell_type": "code",
   "execution_count": 62,
   "metadata": {
    "colab": {
     "base_uri": "https://localhost:8080/"
    },
    "colab_type": "code",
    "id": "Ln90RLLFTquN",
    "outputId": "dd5f08ee-b905-452f-d28f-c247d4f7b430"
   },
   "outputs": [
    {
     "data": {
      "text/plain": [
       "15"
      ]
     },
     "execution_count": 62,
     "metadata": {},
     "output_type": "execute_result"
    }
   ],
   "source": [
    "x * 3"
   ]
  },
  {
   "cell_type": "markdown",
   "metadata": {
    "colab_type": "text",
    "id": "CR_pLE2FTquQ"
   },
   "source": [
    "### Name conventions used for Variables\n",
    "A variable can have a short name (like x and y) or can be defined using a more descriptive name that relates to the variable that you would like to store examples including; `name`, `vehicle` or `total_mass`.\n",
    "\n",
    "There are some rules to naming variables in Python:\n",
    "\n",
    "  - A variable name must **start** with a **letter** or the **underscore** character and **cannot a begin with a number**  \n",
    "  - A variable name can **only contain alpha-numeric characters** and **underscores** (A-z, 0-9, and _ )\n",
    "  - Variable names are **case-sensitive** (age, Age and AGE are three different variables)\n",
    "  - Variable names can only be **one word**. Spaces won't do:"
   ]
  },
  {
   "cell_type": "code",
   "execution_count": 63,
   "metadata": {
    "colab": {
     "base_uri": "https://localhost:8080/",
     "height": 134
    },
    "colab_type": "code",
    "id": "g3agTMccTquR",
    "outputId": "1e63e371-4916-447c-eef5-f0824dde5dc9"
   },
   "outputs": [
    {
     "ename": "SyntaxError",
     "evalue": "invalid syntax (<ipython-input-63-5a6006b67b5d>, line 1)",
     "output_type": "error",
     "traceback": [
      "\u001b[1;36m  File \u001b[1;32m\"<ipython-input-63-5a6006b67b5d>\"\u001b[1;36m, line \u001b[1;32m1\u001b[0m\n\u001b[1;33m    vari able = 2\u001b[0m\n\u001b[1;37m            ^\u001b[0m\n\u001b[1;31mSyntaxError\u001b[0m\u001b[1;31m:\u001b[0m invalid syntax\n"
     ]
    }
   ],
   "source": [
    "vari able = 2"
   ]
  },
  {
   "cell_type": "code",
   "execution_count": 64,
   "metadata": {
    "colab": {
     "base_uri": "https://localhost:8080/",
     "height": 134
    },
    "colab_type": "code",
    "id": "qaAYcdqJTquU",
    "outputId": "63117d8a-dee6-47c5-f035-bdc22af99553"
   },
   "outputs": [
    {
     "ename": "SyntaxError",
     "evalue": "invalid syntax (<ipython-input-64-715d504b74e7>, line 1)",
     "output_type": "error",
     "traceback": [
      "\u001b[1;36m  File \u001b[1;32m\"<ipython-input-64-715d504b74e7>\"\u001b[1;36m, line \u001b[1;32m1\u001b[0m\n\u001b[1;33m    3variable = 3\u001b[0m\n\u001b[1;37m            ^\u001b[0m\n\u001b[1;31mSyntaxError\u001b[0m\u001b[1;31m:\u001b[0m invalid syntax\n"
     ]
    }
   ],
   "source": [
    "3variable = 3"
   ]
  },
  {
   "cell_type": "markdown",
   "metadata": {
    "colab_type": "text",
    "id": "dGWMRrIiTquW"
   },
   "source": [
    "### Assigning Multiple Variables at Once\n",
    "In Python, you're even able to assign multiple variables at once. *(1)*. You can also assign the same value to multiple variables in one line. *(2)*"
   ]
  },
  {
   "cell_type": "code",
   "execution_count": 65,
   "metadata": {
    "colab": {},
    "colab_type": "code",
    "collapsed": true,
    "id": "TqYow2LZTquW",
    "jupyter": {
     "outputs_hidden": true
    }
   },
   "outputs": [],
   "source": [
    "three, five, seven = 3, 5, 7"
   ]
  },
  {
   "cell_type": "code",
   "execution_count": 66,
   "metadata": {
    "colab": {
     "base_uri": "https://localhost:8080/",
     "height": 72
    },
    "colab_type": "code",
    "id": "B6KabyalTquc",
    "outputId": "f2605d92-b7c0-40bb-ff54-d73041232bd7"
   },
   "outputs": [
    {
     "name": "stdout",
     "output_type": "stream",
     "text": [
      "3\n",
      "5\n",
      "7\n"
     ]
    }
   ],
   "source": [
    "print(three)\n",
    "print(five)\n",
    "print(seven)"
   ]
  },
  {
   "cell_type": "code",
   "execution_count": 67,
   "metadata": {},
   "outputs": [
    {
     "name": "stdout",
     "output_type": "stream",
     "text": [
      "Banana\n",
      "Kiwi\n",
      "Strawberry\n"
     ]
    }
   ],
   "source": [
    "a, b, c = \"Banana\", \"Kiwi\", \"Strawberry\"\n",
    "print(a)\n",
    "print(b)\n",
    "print(c)"
   ]
  },
  {
   "cell_type": "code",
   "execution_count": 68,
   "metadata": {},
   "outputs": [
    {
     "name": "stdout",
     "output_type": "stream",
     "text": [
      "Banana\n",
      "Banana\n",
      "Banana\n"
     ]
    }
   ],
   "source": [
    "a = b =c = \"Banana\"\n",
    "print(a)\n",
    "print(b)\n",
    "print(c)"
   ]
  },
  {
   "cell_type": "code",
   "execution_count": 69,
   "metadata": {
    "colab": {},
    "colab_type": "code",
    "collapsed": true,
    "id": "6Li8PHopTquf",
    "jupyter": {
     "outputs_hidden": true
    }
   },
   "outputs": [],
   "source": [
    "x=32\n",
    "y=130/5\n",
    "z=6*7"
   ]
  },
  {
   "cell_type": "code",
   "execution_count": 70,
   "metadata": {
    "colab": {
     "base_uri": "https://localhost:8080/",
     "height": 35
    },
    "colab_type": "code",
    "id": "daDwCKOoTquj",
    "outputId": "3219d865-e79e-4513-eece-f0518d1410ca"
   },
   "outputs": [
    {
     "data": {
      "text/plain": [
       "32"
      ]
     },
     "execution_count": 70,
     "metadata": {},
     "output_type": "execute_result"
    }
   ],
   "source": [
    "x"
   ]
  },
  {
   "cell_type": "code",
   "execution_count": 71,
   "metadata": {
    "colab": {
     "base_uri": "https://localhost:8080/",
     "height": 35
    },
    "colab_type": "code",
    "id": "cgHyTDy9Tqul",
    "outputId": "5d12f40c-5b28-46f4-cde8-4b3534ada337"
   },
   "outputs": [
    {
     "data": {
      "text/plain": [
       "26.0"
      ]
     },
     "execution_count": 71,
     "metadata": {},
     "output_type": "execute_result"
    }
   ],
   "source": [
    "y"
   ]
  },
  {
   "cell_type": "code",
   "execution_count": 72,
   "metadata": {
    "colab": {
     "base_uri": "https://localhost:8080/",
     "height": 35
    },
    "colab_type": "code",
    "id": "BD7fSB9lTqup",
    "outputId": "dd6441bf-c1f3-4085-b1fc-228504bbd141"
   },
   "outputs": [
    {
     "data": {
      "text/plain": [
       "42"
      ]
     },
     "execution_count": 72,
     "metadata": {},
     "output_type": "execute_result"
    }
   ],
   "source": [
    "z"
   ]
  },
  {
   "cell_type": "markdown",
   "metadata": {
    "colab_type": "text",
    "id": "aLYU7y_SaUDm"
   },
   "source": [
    "## Exercises"
   ]
  },
  {
   "cell_type": "markdown",
   "metadata": {
    "colab_type": "text",
    "id": "fP9CCxiiO9RC"
   },
   "source": [
    "### Exercise 1\n",
    "Express the following math expressions in Python:"
   ]
  },
  {
   "cell_type": "markdown",
   "metadata": {
    "colab_type": "text",
    "id": "E27HNANcPGL7"
   },
   "source": [
    "**a). $\\mathbf{3 \\times 3}$**"
   ]
  },
  {
   "cell_type": "code",
   "execution_count": 1,
   "metadata": {
    "colab": {},
    "colab_type": "code",
    "id": "VqaRi_RYPBS3",
    "jupyter": {
     "outputs_hidden": true
    }
   },
   "outputs": [
    {
     "data": {
      "text/plain": [
       "9"
      ]
     },
     "execution_count": 1,
     "metadata": {},
     "output_type": "execute_result"
    }
   ],
   "source": [
    "3*3"
   ]
  },
  {
   "cell_type": "markdown",
   "metadata": {
    "colab_type": "text",
    "id": "SgHz-xMGUySk"
   },
   "source": [
    "9"
   ]
  },
  {
   "cell_type": "markdown",
   "metadata": {
    "colab_type": "text",
    "id": "syc65IxzPMQL"
   },
   "source": [
    "**b). $\\mathbf{\\frac{144}{12}}$**"
   ]
  },
  {
   "cell_type": "code",
   "execution_count": 2,
   "metadata": {
    "colab": {},
    "colab_type": "code",
    "id": "tneGKUiiWLbT",
    "jupyter": {
     "outputs_hidden": true
    }
   },
   "outputs": [
    {
     "data": {
      "text/plain": [
       "12.0"
      ]
     },
     "execution_count": 2,
     "metadata": {},
     "output_type": "execute_result"
    }
   ],
   "source": [
    "144/12"
   ]
  },
  {
   "cell_type": "markdown",
   "metadata": {
    "colab_type": "text",
    "id": "O2nWRcjwUySs"
   },
   "source": [
    "12"
   ]
  },
  {
   "cell_type": "markdown",
   "metadata": {
    "colab_type": "text",
    "id": "jCdo4HtwPMbu"
   },
   "source": [
    "**c). The remainder after we divide $\\mathbf{1565}$ by $\\mathbf{3}$**"
   ]
  },
  {
   "cell_type": "code",
   "execution_count": 3,
   "metadata": {
    "colab": {},
    "colab_type": "code",
    "id": "eW79xHavPdhF",
    "jupyter": {
     "outputs_hidden": true
    }
   },
   "outputs": [
    {
     "data": {
      "text/plain": [
       "2"
      ]
     },
     "execution_count": 3,
     "metadata": {},
     "output_type": "execute_result"
    }
   ],
   "source": [
    "1565%3"
   ]
  },
  {
   "cell_type": "markdown",
   "metadata": {
    "colab_type": "text",
    "id": "npMf9bBTUyS2"
   },
   "source": [
    "2"
   ]
  },
  {
   "cell_type": "markdown",
   "metadata": {
    "colab_type": "text",
    "id": "kBTeJvuCPMlA"
   },
   "source": [
    "**d). $\\mathbf{\\sqrt{\\pi}}\\ \\ $  *->    you can use the approximation to $\\mathbf{\\pi}$ as  $\\mathbf{\\frac{22}{7}}$***"
   ]
  },
  {
   "cell_type": "code",
   "execution_count": 47,
   "metadata": {
    "colab": {},
    "colab_type": "code",
    "id": "2bOpg-ivPMlC",
    "jupyter": {
     "outputs_hidden": true
    }
   },
   "outputs": [
    {
     "data": {
      "text/plain": [
       "0.1014239928597509"
      ]
     },
     "execution_count": 47,
     "metadata": {},
     "output_type": "execute_result"
    }
   ],
   "source": [
    "(3.14) ** -2"
   ]
  },
  {
   "cell_type": "markdown",
   "metadata": {
    "colab_type": "text",
    "id": "mqKEqh2KUyTE"
   },
   "source": [
    "1.7728105208558367"
   ]
  },
  {
   "cell_type": "markdown",
   "metadata": {
    "colab_type": "text",
    "id": "b1KtyUIVPxBR"
   },
   "source": [
    "**e). $\\mathbf{\\left(\\frac{22}{7} + 3.14^{2}\\right) \\times \\frac{3}{0.025}}$**"
   ]
  },
  {
   "cell_type": "code",
   "execution_count": 11,
   "metadata": {
    "colab": {},
    "colab_type": "code",
    "id": "Ha6o2ie4PxBV",
    "jupyter": {
     "outputs_hidden": true
    }
   },
   "outputs": [
    {
     "data": {
      "text/plain": [
       "1560.2948571428572"
      ]
     },
     "execution_count": 11,
     "metadata": {},
     "output_type": "execute_result"
    }
   ],
   "source": [
    "(22/7 + (3.14)** 2) * (3/0.025)"
   ]
  },
  {
   "cell_type": "markdown",
   "metadata": {
    "colab_type": "text",
    "id": "On-QW8QMUyTQ"
   },
   "source": [
    "1560.2948571428572"
   ]
  },
  {
   "cell_type": "markdown",
   "metadata": {
    "colab_type": "text",
    "id": "z-hnVzV1PxBj"
   },
   "source": [
    "**f). $\\mathbf{\\left[\\left(\\frac{3}{\\sqrt{11}}\\right)^{2} \\times 0.5 \\times \\frac{7}{9}  \\right]^{-1}}$, rounded to 2 decimal places**"
   ]
  },
  {
   "cell_type": "code",
   "execution_count": 23,
   "metadata": {
    "colab": {},
    "colab_type": "code",
    "id": "yM4usD_0PxBu",
    "jupyter": {
     "outputs_hidden": true
    }
   },
   "outputs": [
    {
     "data": {
      "text/plain": [
       "0"
      ]
     },
     "execution_count": 23,
     "metadata": {},
     "output_type": "execute_result"
    }
   ],
   "source": [
    "round((((3/11) ** -4) * (0.5 * 7/9)) ** -1)"
   ]
  },
  {
   "cell_type": "markdown",
   "metadata": {
    "colab_type": "text",
    "id": "3c-oXjt0UyTU"
   },
   "source": [
    "3.14"
   ]
  },
  {
   "cell_type": "markdown",
   "metadata": {
    "colab_type": "text",
    "id": "Li3vNWgLSe5i"
   },
   "source": [
    "### Exercise 2\n",
    "Print out your name 500 times by using the `*` in Python:\n",
    "Make sure that there are spaces between the 500 names."
   ]
  },
  {
   "cell_type": "code",
   "execution_count": 45,
   "metadata": {
    "colab": {},
    "colab_type": "code",
    "id": "VTU0vq6iSe5j",
    "jupyter": {
     "outputs_hidden": true
    }
   },
   "outputs": [
    {
     "data": {
      "text/plain": [
       "'Themba Themba Themba Themba Themba Themba Themba Themba Themba Themba Themba Themba Themba Themba Themba Themba Themba Themba Themba Themba Themba Themba Themba Themba Themba Themba Themba Themba Themba Themba Themba Themba Themba Themba Themba Themba Themba Themba Themba Themba Themba Themba Themba Themba Themba Themba Themba Themba Themba Themba Themba Themba Themba Themba Themba Themba Themba Themba Themba Themba Themba Themba Themba Themba Themba Themba Themba Themba Themba Themba Themba Themba Themba Themba Themba Themba Themba Themba Themba Themba Themba Themba Themba Themba Themba Themba Themba Themba Themba Themba Themba Themba Themba Themba Themba Themba Themba Themba Themba Themba Themba Themba Themba Themba Themba Themba Themba Themba Themba Themba Themba Themba Themba Themba Themba Themba Themba Themba Themba Themba Themba Themba Themba Themba Themba Themba Themba Themba Themba Themba Themba Themba Themba Themba Themba Themba Themba Themba Themba Themba Themba Themba Themba Themba Themba Themba Themba Themba Themba Themba Themba Themba Themba Themba Themba Themba Themba Themba Themba Themba Themba Themba Themba Themba Themba Themba Themba Themba Themba Themba Themba Themba Themba Themba Themba Themba Themba Themba Themba Themba Themba Themba Themba Themba Themba Themba Themba Themba Themba Themba Themba Themba Themba Themba Themba Themba Themba Themba Themba Themba Themba Themba Themba Themba Themba Themba Themba Themba Themba Themba Themba Themba Themba Themba Themba Themba Themba Themba Themba Themba Themba Themba Themba Themba Themba Themba Themba Themba Themba Themba Themba Themba Themba Themba Themba Themba Themba Themba Themba Themba Themba Themba Themba Themba Themba Themba Themba Themba Themba Themba Themba Themba Themba Themba Themba Themba Themba Themba Themba Themba Themba Themba Themba Themba Themba Themba Themba Themba Themba Themba Themba Themba Themba Themba Themba Themba Themba Themba Themba Themba Themba Themba Themba Themba Themba Themba Themba Themba Themba Themba Themba Themba Themba Themba Themba Themba Themba Themba Themba Themba Themba Themba Themba Themba Themba Themba Themba Themba Themba Themba Themba Themba Themba Themba Themba Themba Themba Themba Themba Themba Themba Themba Themba Themba Themba Themba Themba Themba Themba Themba Themba Themba Themba Themba Themba Themba Themba Themba Themba Themba Themba Themba Themba Themba Themba Themba Themba Themba Themba Themba Themba Themba Themba Themba Themba Themba Themba Themba Themba Themba Themba Themba Themba Themba Themba Themba Themba Themba Themba Themba Themba Themba Themba Themba Themba Themba Themba Themba Themba Themba Themba Themba Themba Themba Themba Themba Themba Themba Themba Themba Themba Themba Themba Themba Themba Themba Themba Themba Themba Themba Themba Themba Themba Themba Themba Themba Themba Themba Themba Themba Themba Themba Themba Themba Themba Themba Themba Themba Themba Themba Themba Themba Themba Themba Themba Themba Themba Themba Themba Themba Themba Themba Themba Themba Themba Themba Themba Themba Themba Themba Themba Themba Themba Themba Themba Themba Themba Themba Themba Themba Themba Themba Themba Themba Themba Themba Themba Themba Themba Themba Themba Themba Themba Themba Themba Themba Themba Themba Themba Themba Themba Themba Themba Themba Themba Themba Themba Themba Themba Themba Themba Themba Themba Themba Themba Themba Themba Themba Themba Themba Themba Themba Themba Themba Themba Themba Themba Themba Themba Themba '"
      ]
     },
     "execution_count": 45,
     "metadata": {},
     "output_type": "execute_result"
    }
   ],
   "source": [
    "calculator = \"Themba \"\n",
    "calculator * 500"
   ]
  },
  {
   "cell_type": "markdown",
   "metadata": {
    "colab_type": "text",
    "id": "8i0aiK1RSe5l"
   },
   "source": [
    "### Exercise 3\n",
    "Print out the whole part of $\\ \\frac{22}{7}$"
   ]
  },
  {
   "cell_type": "code",
   "execution_count": 24,
   "metadata": {
    "colab": {},
    "colab_type": "code",
    "id": "I5iRNSf3Se5l",
    "jupyter": {
     "outputs_hidden": true
    }
   },
   "outputs": [
    {
     "data": {
      "text/plain": [
       "3"
      ]
     },
     "execution_count": 24,
     "metadata": {},
     "output_type": "execute_result"
    }
   ],
   "source": [
    "22// 7"
   ]
  },
  {
   "cell_type": "markdown",
   "metadata": {
    "colab_type": "text",
    "id": "_8rbMhYZUyTe"
   },
   "source": [
    "3"
   ]
  },
  {
   "cell_type": "markdown",
   "metadata": {
    "colab_type": "text",
    "id": "zueKCs_cSe5n"
   },
   "source": [
    "### Exercise 4\n",
    "Add together: your name in `lower`case and your surname in `upper`case\n",
    "(Do this by using the `upper` and `lower` functions, and make sure there's a space in the middle)\n",
    "\n",
    "e.g. `'rendani EMANUEL'`"
   ]
  },
  {
   "cell_type": "code",
   "execution_count": 28,
   "metadata": {
    "colab": {},
    "colab_type": "code",
    "id": "NfIaK7MzSe5n",
    "jupyter": {
     "outputs_hidden": true
    }
   },
   "outputs": [
    {
     "data": {
      "text/plain": [
       "'themba MDLULI'"
      ]
     },
     "execution_count": 28,
     "metadata": {},
     "output_type": "execute_result"
    }
   ],
   "source": [
    "'Themba'.lower() + ' ' + 'Mdluli'.upper()"
   ]
  },
  {
   "cell_type": "markdown",
   "metadata": {
    "colab_type": "text",
    "id": "68bs73YmSe5p"
   },
   "source": [
    "### Exercise 5\n",
    "Calculate the `len`gth of your own name (number of characters):"
   ]
  },
  {
   "cell_type": "code",
   "execution_count": 26,
   "metadata": {
    "colab": {},
    "colab_type": "code",
    "id": "WuVTadqdSe5q",
    "jupyter": {
     "outputs_hidden": true
    }
   },
   "outputs": [
    {
     "data": {
      "text/plain": [
       "6"
      ]
     },
     "execution_count": 26,
     "metadata": {},
     "output_type": "execute_result"
    }
   ],
   "source": [
    "name = \"themba\"\n",
    "\n",
    "len(name)\n"
   ]
  },
  {
   "cell_type": "markdown",
   "metadata": {
    "colab_type": "text",
    "id": "PtA3olmqTqur"
   },
   "source": [
    "### Exercise 6\n",
    "Compute the following boolean expressions given:\n",
    "\n",
    "$x = 2^5$, $y = \\frac{130}{5}$ and $z = 6 \\times 7$ \n"
   ]
  },
  {
   "cell_type": "markdown",
   "metadata": {
    "colab_type": "text",
    "id": "MIVIYPyDTquu"
   },
   "source": [
    "#### a). y == z"
   ]
  },
  {
   "cell_type": "code",
   "execution_count": 41,
   "metadata": {
    "colab": {},
    "colab_type": "code",
    "id": "C9TdQNI6Tquv",
    "jupyter": {
     "outputs_hidden": true
    }
   },
   "outputs": [
    {
     "data": {
      "text/plain": [
       "False"
      ]
     },
     "execution_count": 41,
     "metadata": {},
     "output_type": "execute_result"
    }
   ],
   "source": [
    "x = 2 ** 5\n",
    "y = 130/5\n",
    "z = 6*7\n",
    "\n",
    "y==z"
   ]
  },
  {
   "cell_type": "markdown",
   "metadata": {
    "colab_type": "text",
    "id": "KK8q7rhqTquy"
   },
   "source": [
    "#### b). (y > x) and (z > y)"
   ]
  },
  {
   "cell_type": "code",
   "execution_count": 31,
   "metadata": {
    "colab": {},
    "colab_type": "code",
    "id": "k-n-rcC-Tquy",
    "jupyter": {
     "outputs_hidden": true
    }
   },
   "outputs": [
    {
     "data": {
      "text/plain": [
       "False"
      ]
     },
     "execution_count": 31,
     "metadata": {},
     "output_type": "execute_result"
    }
   ],
   "source": [
    "( y > x) & (z>y)"
   ]
  },
  {
   "cell_type": "markdown",
   "metadata": {
    "colab_type": "text",
    "id": "Dkrkx251Tqu1"
   },
   "source": [
    "#### c).  x > (y or z)"
   ]
  },
  {
   "cell_type": "code",
   "execution_count": 32,
   "metadata": {
    "colab": {},
    "colab_type": "code",
    "id": "LANkscgSTqu1",
    "jupyter": {
     "outputs_hidden": true
    }
   },
   "outputs": [
    {
     "data": {
      "text/plain": [
       "True"
      ]
     },
     "execution_count": 32,
     "metadata": {},
     "output_type": "execute_result"
    }
   ],
   "source": [
    "x > (y // z)"
   ]
  },
  {
   "cell_type": "markdown",
   "metadata": {
    "colab_type": "text",
    "id": "AUdtsi14Tqu2"
   },
   "source": [
    "#### d). (2x > 3y - 5) or (-y < z - 2x)"
   ]
  },
  {
   "cell_type": "code",
   "execution_count": 42,
   "metadata": {
    "colab": {},
    "colab_type": "code",
    "id": "8_o7t4QeTqu3",
    "jupyter": {
     "outputs_hidden": true
    }
   },
   "outputs": [
    {
     "ename": "SyntaxError",
     "evalue": "invalid syntax (118837672.py, line 1)",
     "output_type": "error",
     "traceback": [
      "\u001b[0;36m  File \u001b[0;32m\"/tmp/ipykernel_12830/118837672.py\"\u001b[0;36m, line \u001b[0;32m1\u001b[0m\n\u001b[0;31m    (2x > 3y - 5) // (-y < z - 2x)\u001b[0m\n\u001b[0m      ^\u001b[0m\n\u001b[0;31mSyntaxError\u001b[0m\u001b[0;31m:\u001b[0m invalid syntax\n"
     ]
    }
   ],
   "source": [
    "(2x > 3y - 5) // (-y < z - 2x)"
   ]
  },
  {
   "cell_type": "markdown",
   "metadata": {
    "colab_type": "text",
    "id": "1qYZEIifTqu5"
   },
   "source": [
    "### Exercise 7\n",
    "Which of the following are valid variable names?\n",
    "#### a). variable 3"
   ]
  },
  {
   "cell_type": "code",
   "execution_count": 38,
   "metadata": {
    "colab": {},
    "colab_type": "code",
    "id": "_Yr_vQGOTqu6",
    "jupyter": {
     "outputs_hidden": true
    }
   },
   "outputs": [
    {
     "ename": "SyntaxError",
     "evalue": "invalid syntax (2268733288.py, line 1)",
     "output_type": "error",
     "traceback": [
      "\u001b[0;36m  File \u001b[0;32m\"/tmp/ipykernel_12830/2268733288.py\"\u001b[0;36m, line \u001b[0;32m1\u001b[0m\n\u001b[0;31m    variable 3 = 2\u001b[0m\n\u001b[0m             ^\u001b[0m\n\u001b[0;31mSyntaxError\u001b[0m\u001b[0;31m:\u001b[0m invalid syntax\n"
     ]
    }
   ],
   "source": [
    "variable 3 = 2"
   ]
  },
  {
   "cell_type": "markdown",
   "metadata": {
    "colab_type": "text",
    "id": "86G0WdQ3TqvG"
   },
   "source": [
    "#### b). variable_3"
   ]
  },
  {
   "cell_type": "code",
   "execution_count": 37,
   "metadata": {
    "colab": {},
    "colab_type": "code",
    "id": "A1XicbaBTqvG",
    "jupyter": {
     "outputs_hidden": true
    }
   },
   "outputs": [],
   "source": [
    "variable_3 =2"
   ]
  },
  {
   "cell_type": "markdown",
   "metadata": {
    "colab_type": "text",
    "id": "1X2u9ehjTqvI"
   },
   "source": [
    "#### c). variable3"
   ]
  },
  {
   "cell_type": "code",
   "execution_count": 36,
   "metadata": {
    "colab": {},
    "colab_type": "code",
    "id": "IPyYuXhhTqvI",
    "jupyter": {
     "outputs_hidden": true
    }
   },
   "outputs": [],
   "source": [
    "variable3 = 2"
   ]
  },
  {
   "cell_type": "markdown",
   "metadata": {
    "colab_type": "text",
    "id": "od6OgKLiTqvP"
   },
   "source": [
    "## Conclusion\n",
    "\n",
    "We have now learnt what primitive data types exist in python. We have also learnt about built-in functions and methods and how they can be used on the different data types.  You should now have a good understanding of the use of variables when writing code in Python as well as how to assign different data types to variables, and the naming conventions used for variables. "
   ]
  },
  {
   "cell_type": "markdown",
   "metadata": {},
   "source": [
    "## Appendix \n",
    "\n",
    "- [Built-in types in Python](https://docs.python.org/3/library/stdtypes.html)\n",
    "\n",
    "- [Getting started with data](https://runestone.academy/runestone/books/published/pythonds/Introduction/GettingStartedwithData.html#built-in-atomic-data-types)"
   ]
  }
 ],
 "metadata": {
  "colab": {
   "collapsed_sections": [
    "xLPCzU5HSe49",
    "MxHuAiaDTquH",
    "yx4LvK4CdZEd",
    "fP9CCxiiO9RC",
    "E27HNANcPGL7",
    "jCdo4HtwPMbu",
    "kBTeJvuCPMlA",
    "b1KtyUIVPxBR",
    "z-hnVzV1PxBj",
    "zueKCs_cSe5n",
    "68bs73YmSe5p",
    "PtA3olmqTqur",
    "MIVIYPyDTquu",
    "KK8q7rhqTquy",
    "Dkrkx251Tqu1",
    "AUdtsi14Tqu2",
    "1qYZEIifTqu5",
    "86G0WdQ3TqvG",
    "1X2u9ehjTqvI"
   ],
   "name": "6b_primitive_data_types.ipynb",
   "provenance": []
  },
  "kernelspec": {
   "display_name": "Python 3 (ipykernel)",
   "language": "python",
   "name": "python3"
  },
  "language_info": {
   "codemirror_mode": {
    "name": "ipython",
    "version": 3
   },
   "file_extension": ".py",
   "mimetype": "text/x-python",
   "name": "python",
   "nbconvert_exporter": "python",
   "pygments_lexer": "ipython3",
   "version": "3.9.13"
  }
 },
 "nbformat": 4,
 "nbformat_minor": 4
}
