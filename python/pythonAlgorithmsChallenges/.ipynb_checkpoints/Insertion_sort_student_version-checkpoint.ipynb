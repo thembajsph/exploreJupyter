{
 "cells": [
  {
   "cell_type": "markdown",
   "metadata": {},
   "source": [
    "# Insertion Sort\n",
    "\n",
    "© Explore Data Science Academy \n",
    "\n",
    "## Instructions to students\n",
    "- **Do not add or remove cells in this notebook. Do not edit or remove the `### START FUNCTION` or `### END FUNCTION` comments. Do not add any code outside of the functions you are required to edit. Doing any of this will lead to a mark of 0%!**\n",
    "- Answer the questions according to the specifications provided.\n",
    "- Use the given cell in each question to see if your function matches the expected outputs.\n",
    "- Do not hard-code answers to the questions.\n",
    "- The use of Stack Overflow, Google, and other online tools are permitted. However, copying fellow students' code is not permissible and is considered a breach of the Honour Code below. Doing this will result in a mark of 0%.\n",
    "- Good luck, and may the force be with you!\n",
    "\n",
    "## Honour Code\n",
    "\n",
    "I **YOUR NAME YOUR SURNAME** confirm, by submitting this document, that the solutions in this notebook are a result of my own work and that I abide by the   <a href=\"https://drive.google.com/open?id=1FXCIf425JLRx3JQi-ltSWppj8BCF3Np1\" target=\"_blank\">EDSA Student Manifesto</a>. Non-compliance with the honour code constitutes a material breach of contract.\n",
    "\n",
    "## Import required packages for coding challenge\n"
   ]
  },
  {
   "cell_type": "code",
   "execution_count": 1,
   "metadata": {},
   "outputs": [],
   "source": [
    "import numpy as np"
   ]
  },
  {
   "cell_type": "markdown",
   "metadata": {},
   "source": [
    "## Challenge\n",
    "\n",
    "You are required to investigate the number of comparisons that take place during the execution of an insertion sort. Given a list of $N$ unsorted integers, use insertion sort to count the number of comparisons that it takes to arrive at the sorted list. Your insertion sort should execute from left to right.\n",
    "\n",
    "**Function specifications**\n",
    "\n",
    "*Argument(s):*\n",
    "- **integers** `(list)` $\\rightarrow$ a list of unsorted integers.\n",
    "\n",
    "*Return:*\n",
    "- **comparisons** `(int)` $\\rightarrow$ return the number of comparisons made to arrive at the sorted list.\n",
    "\n"
   ]
  },
  {
   "cell_type": "code",
   "execution_count": 6,
   "metadata": {},
   "outputs": [],
   "source": [
    "### START FUNCTION\n",
    "\n",
    "def insertion_sort(integers):\n",
    "    k = 0\n",
    "    n = len(integers) - 1\n",
    "    comparisons = 0\n",
    "    while k+1 <= n:\n",
    "        \n",
    "        i = k+1\n",
    "        curr_val = integers[i]\n",
    "        #comparisons += 1\n",
    "        while i>0 and integers[i-1] > curr_val:\n",
    "            \n",
    "            integers[i] = integers[i-1]\n",
    "            i=i-1\n",
    "            comparisons += 1\n",
    "        integers[i] = curr_val\n",
    "        k = k + 1\n",
    "        \n",
    "    return comparisons\n",
    "\n",
    "### END FUNCTION"
   ]
  },
  {
   "cell_type": "code",
   "execution_count": 10,
   "metadata": {},
   "outputs": [
    {
     "data": {
      "text/plain": [
       "25"
      ]
     },
     "execution_count": 10,
     "metadata": {},
     "output_type": "execute_result"
    }
   ],
   "source": [
    "integers = [15,  1,  2, 16, 12, 16,  9,  2,  0, 11]\n",
    "insertion_sort(integers.copy())"
   ]
  },
  {
   "cell_type": "markdown",
   "metadata": {},
   "source": [
    "***Expected output***\n",
    "```python\n",
    "integers = [15,  1,  2, 16, 12, 16,  9,  2,  0, 11]\n",
    "insertion_sort(integers) == 25\n",
    "\n",
    "integers = [16,  9,  9, 12,  7, 13, 18,  1, 16, 11,  6, 15, 11, 18,  4]\n",
    "insertion_sort(integers) == 52\n",
    "\n",
    "integers = [26,  2, 40, 36, 13, 16,  5, 25,  9, 31, 30, 32, 30, 33, 11, 48, 21, 41, 45, 47]\n",
    "insertion_sort(integers) == 59\n",
    "```"
   ]
  }
 ],
 "metadata": {
  "interpreter": {
   "hash": "6b5ebbc2c6bde2831bc6c0426f75aca8137ccfc69d329557556ed73faee126ae"
  },
  "kernelspec": {
   "display_name": "Python 3 (ipykernel)",
   "language": "python",
   "name": "python3"
  },
  "language_info": {
   "codemirror_mode": {
    "name": "ipython",
    "version": 3
   },
   "file_extension": ".py",
   "mimetype": "text/x-python",
   "name": "python",
   "nbconvert_exporter": "python",
   "pygments_lexer": "ipython3",
   "version": "3.9.13"
  }
 },
 "nbformat": 4,
 "nbformat_minor": 4
}
