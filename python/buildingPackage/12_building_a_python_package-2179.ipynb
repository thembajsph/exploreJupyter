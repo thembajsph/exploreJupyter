{
 "cells": [
  {
   "cell_type": "markdown",
   "metadata": {},
   "source": [
    "# Build your own Python Package\n",
    "\n",
    "© Explore Data Science Academy\n",
    "\n",
    "## Learning Objectives\n",
    "By the end of this train, you should be able to:\n",
    "\n",
    "* Understand how Python packages work;\n",
    "* Create your own Python package; and\n",
    "* Gain experience using Git.\n",
    "\n",
    "## Outline\n",
    "In this train we will:\n",
    "\n",
    "* Build a modular Python package;\n",
    "* Publish this package to GitHub; and\n",
    "* Share this package with others.\n"
   ]
  },
  {
   "cell_type": "markdown",
   "metadata": {},
   "source": [
    "## Introduction\n",
    "\n",
    "By now, you will have made use of some very popular Python packages such as `numpy` and `pandas`. You will struggle to find a Data Scientist who hasn't, at the very least, *heard* of either of these packages. One of the great features of Python is that it is an open source programing language, with an active community of developers who have helped, and continue to help, make it so user-friendly and versatile. Numpy and Pandas are just two examples of useful packages that you will come across on your data science journey. There are thousands of Python packages out there, and today we are going to learn how to build our own!\n",
    "\n",
    "### Requirements\n",
    "\n",
    "Before you get started, here are a few things you will need to do:\n",
    "\n",
    "  - Install the [Atom IDE](https://atom.io/)\n",
    "  - Install [Git](https://git-scm.com/downloads)\n",
    "  - Sign up for a [free GitHub account](https://github.com/)\n",
    "  \n",
    "It is also recommended that you be familiar with GitHub and know how to use Git. So if these words mean nothing to you, then you should take time to familiarize yourself with these tools."
   ]
  },
  {
   "cell_type": "markdown",
   "metadata": {},
   "source": [
    "## Let's get started!\n",
    "Once all of the necessary software has been installed, we will need to set up our project working directory. Let's work through this process step by step to create our file structure and each of the files we will need.\n",
    "\n",
    "### File structure\n",
    "\n",
    "Navigate to a familiar location in your computer's file system and create a new folder. You may name the folder whatever you like, but it will be easier to follow this tutorial if you name your folder **`mypackage`**. From here on, we will refer to this new folder as your project's **root folder**.\n",
    "\n",
    "Note: the naming convention for Python packages is to use short, all-lowercase names. Underscores are permissible, but discouraged.\n",
    "\n",
    "<img src=\"https://github.com/Explore-AI/Pictures/blob/master/mypackage.jpg?raw=true\" alt=\"Python package root folder - Windows\" style=\"width: 60%;\"/>\n",
    "\n",
    "If you are using a Mac, your folder will look similar to this:\n",
    "\n",
    "<img src=\"https://github.com/Explore-AI/Pictures/blob/master/mypackage-mac.png?raw=true\" alt=\"Python package root folder - Mac\" style=\"width: 60%;\"/>\n",
    "\n",
    "The end goal of this tutorial is to make our package _pip installable_. For this to be possible, we will need to structure our files in a very particular way. "
   ]
  },
  {
   "cell_type": "markdown",
   "metadata": {},
   "source": [
    "### Setup files\n",
    "Now let's create our files. We will do this using the Atom IDE we installed earlier. Open up Atom text then click on:    \n",
    "**`File`** -> **`Add Project Folder...`**. Select the root folder we created in the previous step.\n",
    "\n",
    "Atom has a built-in file browser that allows you to create new files and folders. You can toggle **Tree View** in Atom by using `Ctrl+\\` (Windows) or `Cmd+\\` (OS X). This will reveal the file browser on the left of your screen.\n",
    "\n",
    "Our next step is to create two new folders within your project's root folder, named **`mypackage`** and **`tests`**.\n",
    "\n",
    "<img src=\"https://github.com/James-Leslie/example-python-package/blob/master/images/2.0_new_folder.png?raw=true\" width=\"400\">\n",
    "\n",
    "Within the **`mypackage`** folder, create two Python files named **`myModule.py`** and **`__init__.py`**. The **`myModule.py`** file is where we will write our function - the task we wish our package to do. The **`__init__.py`** file is used so that Python knows the directory is a module.\n",
    "\n",
    "Within the **`tests`** folder, create one Python file named **`test.py`**. This file will be our unit test, to ensure our module is working correctly before we publish our package.\n",
    "\n",
    "Your project directory should now look like this:   \n",
    "\n",
    "<img src=\"https://github.com/James-Leslie/example-python-package/blob/master/images/2.2_file_structure.png?raw=true\">"
   ]
  },
  {
   "cell_type": "markdown",
   "metadata": {},
   "source": [
    "## Build your package\n",
    "Now that we have our folder structure set out, we can start writing some code! We will need to do three things:\n",
    "\n",
    "- Create our function;\n",
    "- Test our function; and\n",
    "- Write some documentation for our package.\n",
    "  \n",
    "### Create our function\n",
    "The function we are going to create will perform the task of returning the top-n items in an array, in descending order. To do this, we will create an algorithm not too dissimilar to the Bubble sort algorithm.\n",
    "\n",
    "#### Docstrings\n",
    "All good programmers need to know how to write clean, concise and descriptive [docstrings](https://www.python.org/dev/peps/pep-0257/#:~:text=A%20docstring%20is%20a%20string,module%20should%20also%20have%20docstrings.) for their functions. This is where we will start. Here is an example of a well-documented function:"
   ]
  },
  {
   "cell_type": "code",
   "execution_count": 1,
   "metadata": {},
   "outputs": [],
   "source": [
    "def fibonacci(n):\n",
    "\n",
    "    \"\"\"\n",
    "    Calculate nth term in fibonacci sequence\n",
    "    \n",
    "    Args:\n",
    "        n (int): nth term in fibonacci sequence to calculate\n",
    "    \n",
    "    Returns:\n",
    "        int: nth term of fibonacci sequence,\n",
    "             equal to sum of previous two terms\n",
    "    \n",
    "    Examples:\n",
    "        >>> fibonacci(1)\n",
    "        1        \n",
    "        >> fibonacci(2)\n",
    "        1\n",
    "        >> fibonacci(3)\n",
    "        2\n",
    "    \"\"\"\n",
    "\n",
    "    if n <= 1:\n",
    "        return n\n",
    "\n",
    "    else:\n",
    "        return fibonacci(n - 1) + fibonacci(n - 2)"
   ]
  },
  {
   "cell_type": "markdown",
   "metadata": {},
   "source": [
    "We'll do the same for our function. Add the following code into the **`myModule.py`** file. Having this level of documentation will help anyone who uses your function to properly understand how the function works."
   ]
  },
  {
   "cell_type": "code",
   "execution_count": 2,
   "metadata": {},
   "outputs": [],
   "source": [
    "def top_n(items, n):\n",
    "    \"\"\"Return the top n items in an array, in descending order.\n",
    "\n",
    "    Args:\n",
    "        items (array): list or array-like object containing numerical values.\n",
    "        n (int): number of top items to return.\n",
    "\n",
    "    Returns:\n",
    "        array: top n items, in descending order.\n",
    "\n",
    "    Examples:\n",
    "        >>> top_n([8, 3, 2, 7, 4], 3)\n",
    "        [8, 7, 3]\n",
    "    \"\"\""
   ]
  },
  {
   "cell_type": "markdown",
   "metadata": {},
   "source": [
    "#### Function body\n",
    "Now add the body of the function just below the docstring."
   ]
  },
  {
   "cell_type": "code",
   "execution_count": 3,
   "metadata": {},
   "outputs": [],
   "source": [
    "def top_n(items, n):\n",
    "    \"\"\"\n",
    "    docstring goes here\n",
    "    \"\"\"\n",
    "\n",
    "    for i in range(n):  # Keep sorting until we have the top n items\n",
    "        for j in range(len(items)-1-i):\n",
    "\n",
    "            if items[j] > items[j+1]:  # If this item is bigger than next the item..\n",
    "                items[j], items[j+1] = items[j+1], items[j]  # swap the two!\n",
    "                \n",
    "    # Get last two items\n",
    "    top_n = items[-n:]\n",
    "    \n",
    "    # Return in descending order\n",
    "    return top_n[::-1]"
   ]
  },
  {
   "cell_type": "code",
   "execution_count": 4,
   "metadata": {},
   "outputs": [
    {
     "data": {
      "text/plain": [
       "[8, 7, 4]"
      ]
     },
     "execution_count": 4,
     "metadata": {},
     "output_type": "execute_result"
    }
   ],
   "source": [
    "# check function works\n",
    "top_n([8, 3, 2, 7, 4], 3)"
   ]
  },
  {
   "cell_type": "markdown",
   "metadata": {},
   "source": [
    "This is what it should look like in Atom. Do you understand what this function is doing?\n",
    "\n",
    "\n",
    "<img src=\"https://github.com/James-Leslie/example-python-package/blob/master/images/3_function_body.png?raw=true\" alt=\"View of our code in Atom\" style=\"width: 65%;\"/>"
   ]
  },
  {
   "cell_type": "markdown",
   "metadata": {},
   "source": [
    "Now add the following to the **`__init__.py`** file. Ensure that you save your files - you have been spoiled by Jupyter Notebook's autosave functionality!\n",
    "\n",
    "<br>\n",
    "\n",
    "```python\n",
    "from . import myModule\n",
    "```"
   ]
  },
  {
   "cell_type": "markdown",
   "metadata": {},
   "source": [
    "### Testing\n",
    "You should always write some tests for every function you create. Can you think why this is a good practice?\n",
    "\n",
    "In **`test.py`**, add the following:"
   ]
  },
  {
   "cell_type": "code",
   "execution_count": null,
   "metadata": {},
   "outputs": [],
   "source": [
    "from mypackage import myModule\n",
    "\n",
    "def test_top_n():\n",
    "    \"\"\"\n",
    "    make sure top_n works correctly\n",
    "    \"\"\"\n",
    "    \n",
    "    assert myModule.top_n([8, 3, 2, 7, 4], 3) == [8, 7, 4], 'incorrect'\n",
    "    assert myModule.top_n([10, 1, 12, 9, 2], 2) == [12, 10], 'incorrect'\n",
    "    assert myModule.top_n([1, 2, 3, 4, 5], 5) == [5, 4, 3, 2, 1], 'incorrect'"
   ]
  },
  {
   "cell_type": "markdown",
   "metadata": {},
   "source": [
    "### Supporting files\n",
    "\n",
    "Next, we will need to create another file named **`setup.py`** which describes your package. This setup file is what makes your package installable. In your package's root directory, create **`setup.py`** and add the following code. Replace the 'url', 'author', and 'author_email' value fields with what is relevant to your package."
   ]
  },
  {
   "cell_type": "code",
   "execution_count": null,
   "metadata": {},
   "outputs": [],
   "source": [
    "from setuptools import setup, find_packages\n",
    "\n",
    "setup(\n",
    "    name='mypackage',\n",
    "    version='0.1',\n",
    "    packages=find_packages(exclude=['tests*']),\n",
    "    license='MIT',\n",
    "    description='EDSA example python package',\n",
    "    long_description=open('README.md').read(),\n",
    "    install_requires=['numpy'],\n",
    "    url='https://github.com/<username>/<package-name>',\n",
    "    author='<Your Name>',\n",
    "    author_email='<Your Email>'\n",
    ")"
   ]
  },
  {
   "cell_type": "markdown",
   "metadata": {},
   "source": [
    "Consult the table below for some additional information on the parameters in `setup.py`.\n",
    "\n",
    "| Parameter | Comments |\n",
    "|---|---|\n",
    "| name | The name package managers will use for your project, like `numpy` or `pandas` |\n",
    "| version | The current version number of your project |\n",
    "| license | Name of the [license](https://opensource.org/licenses/) you chose |\n",
    "| description | One-sentence description of your package |\n",
    "| install_requires | List of all other packages this package depends on; package managers will install these automatically as needed |"
   ]
  },
  {
   "cell_type": "markdown",
   "metadata": {},
   "source": [
    "Lastly, create a **`README.md`** file in your project's root folder, and add anything you'd like to describe your package in more detail. Go to [this website](https://www.makeareadme.com/) for some helpful info on how to make a proper README file.\n",
    "\n",
    "<img src=\"https://github.com/James-Leslie/example-python-package/blob/master/images/4.0_readme.png?raw=true\" alt=\"Completed code in Atom\" style=\"width: 65%;\"/>\n",
    "\n",
    "\n",
    "## Wrap It Up!\n",
    "You are now ready to ship your package. Let's package it up and distribute it on GitHub.\n",
    "\n",
    "### Package it locally\n",
    "When you are ready, run the following in the command line:\n",
    "\n",
    "```bash\n",
    "python setup.py sdist\n",
    "```\n",
    "\n",
    "You should see a new folder named **`dist`** that has been created in your project's root directory.\n",
    "\n",
    "_NOTE:_ You should also see a folder named **`mypackage.egg-info`** that has been created.   \n",
    "\n",
    "This latter file doesn't need to be included, so you can add it to a **`.gitignore`** file in the root folder of your project as shown in the image below:\n",
    "\n",
    "<img src=\"https://github.com/James-Leslie/example-python-package/blob/master/images/4.1_gitignore.png?raw=true\" alt=\"View of our code in Atom\" style=\"width: 65%;\"/>"
   ]
  },
  {
   "cell_type": "markdown",
   "metadata": {},
   "source": [
    "### Distribute to GitHub\n",
    "We now want to publish our package so that anyone else can download and use it! This is done by publishing your package to GitHub (there are other ways to publish a python package, can you find out how?).\n",
    "\n",
    "#### Initialize local Git repository\n",
    "Using any terminal, navigate to your project's root folder and issue the following commands, one line at a time.\n",
    "\n",
    "```bash\n",
    "git init\n",
    "git add .\n",
    "git commit -m \"First commit\"\n",
    "```\n",
    "\n",
    "#### Create remote repository\n",
    "Log into GitHub and create a new repository. The following image depicts this process, where the GitHub user 'James-Leslie' is creating a new repository. Ensure that your repository is marked as Public.\n",
    "\n",
    "<img src=\"https://github.com/James-Leslie/example-python-package/blob/master/images/4.2_new_repo.png?raw=true\" width=\"700\">\n",
    "\n",
    "\n",
    "#### Push to GitHub\n",
    "Copy the URL for the remote repository and issue the following commands. The image below shows where you can obtain the URL.\n",
    "\n",
    "```bash\n",
    "git remote add origin <remoteURL>\n",
    "git push origin master\n",
    "```\n",
    "\n",
    "<img src=\"https://github.com/James-Leslie/example-python-package/blob/master/images/5_new_repo.png?raw=true\" width=\"700\">"
   ]
  },
  {
   "cell_type": "markdown",
   "metadata": {},
   "source": [
    "### Install from GitHub\n",
    "You can now install your package onto any computer (with internet access)!  \n",
    "\n",
    "Issue the command below to install your package from GitHub - make sure to replace `your-name` and `your-repo` with the appropriate text.  \n",
    "\n",
    "```\n",
    "pip install git+https://github.com/your-name/your-repo.git\n",
    "```\n",
    "\n",
    "If you need to install a later version of your package, then use:  \n",
    "\n",
    "```\n",
    "pip install --upgrade git+https://github.com/your-name/your-repo.git\n",
    "```"
   ]
  },
  {
   "cell_type": "markdown",
   "metadata": {},
   "source": [
    "## Maintaining your package\n",
    "You now have a version 0.1 of your first Python package! With this being done, you're in a position to make improvements and expand on its scope.\n",
    "\n",
    "### Package development workflow\n",
    "Follow these steps when making changes to your package:\n",
    "\n",
    "1. Make changes locally\n",
    "2. Push changes to GitHub\n",
    "3. Install updated version\n",
    "\n",
    "We outline these steps briefly below:\n",
    "    \n",
    "#### 1) Make changes locally\n",
    "Your package consists of a number of interdependent files. It is important to keep all of these dependencies in check.   \n",
    "\n",
    "A likely workflow will look something like this:\n",
    "\n",
    "- add new functions, or improve existing functions\n",
    "- update `test.py` if needed\n",
    "- update `__init__.py` if needed\n",
    "- update `setup.py` if needed (make sure to update the version number)\n",
    "    \n",
    "Once you have tested your functions, and you are happy to push the new version, run the same setup command as before:   \n",
    "```\n",
    "python setup.py sdist\n",
    "```\n",
    "\n",
    "#### 2) Push changes to GitHub\n",
    "When you are ready to publish your updated package, follow the commands below:\n",
    "\n",
    "```\n",
    "git status\n",
    "git add .\n",
    "git commit -m 'make sure to include an appropriate commit message'\n",
    "git push\n",
    "```\n",
    "\n",
    "#### 3) Install updated version\n",
    "The last step is to install your updated version, using the command below: \n",
    "\n",
    "```\n",
    "pip install --upgrade git+https://github.com/your-name/your-repo.git\n",
    "```\n",
    "\n",
    "## Conclusion\n",
    "\n",
    "You have now built a modular Python package and published this package to GitHub. You should now understand how Python packages work and have gained more experience using Git. Storing your projects on GitHub is a great way to share your portfolio of work with potential employers. For an example of a working package, check out [this repository](https://github.com/James-Leslie/example-python-package). \n",
    "\n",
    "If you are up for a challenge, follow Step 5 and 6 in this [article](https://towardsdatascience.com/how-to-build-your-first-python-package-6a00b02635c9) to deploy your package to PyPI.\n",
    "\n",
    "## Appendix\n",
    "\n",
    "[Packaging Python Projects](https://packaging.python.org/tutorials/packaging-projects/)\n",
    "\n",
    "[How to Build Your First Python Package](https://towardsdatascience.com/how-to-build-your-first-python-package-6a00b02635c9)"
   ]
  }
 ],
 "metadata": {
  "kernelspec": {
   "display_name": "Python 3",
   "language": "python",
   "name": "python3"
  },
  "language_info": {
   "codemirror_mode": {
    "name": "ipython",
    "version": 3
   },
   "file_extension": ".py",
   "mimetype": "text/x-python",
   "name": "python",
   "nbconvert_exporter": "python",
   "pygments_lexer": "ipython3",
   "version": "3.7.4"
  }
 },
 "nbformat": 4,
 "nbformat_minor": 4
}
