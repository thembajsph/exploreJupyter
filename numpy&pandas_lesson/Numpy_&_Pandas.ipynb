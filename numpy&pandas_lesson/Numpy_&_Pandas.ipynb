{
  "nbformat": 4,
  "nbformat_minor": 0,
  "metadata": {
    "colab": {
      "provenance": []
    },
    "kernelspec": {
      "name": "python3",
      "display_name": "Python 3"
    },
    "language_info": {
      "name": "python"
    }
  },
  "cells": [
    {
      "cell_type": "markdown",
      "source": [
        "# Working with Numpy and Pandas\n",
        "Numpy and Pandas are packages in Python that are used for handling data.\n",
        "\n",
        "Numpy is short form of \"Numerical python\" and it is used in working with mostly number arrays. [Array](https://www.google.com/search?q=array+meaning&rlz=1C1JZAP_enZA940ZA941&sxsrf=APq-WBujNrnurYoExFDjmDcCx32Uxr5uiQ%3A1646675346735&ei=kkUmYpmcLI-T8gKo6bC4DQ&ved=0ahUKEwiZrejYx7T2AhWPiVwKHag0DNcQ4dUDCA4&uact=5&oq=array+meaning&gs_lcp=Cgdnd3Mtd2l6EAMyBwgjELADECcyBwgAEEcQsAMyBwgAEEcQsAMyBwgAEEcQsAMyBwgAEEcQsAMyBwgAEEcQsAMyBwgAEEcQsAMyBwgAEEcQsAMyBwgAEEcQsAMyBwgAELADEENKBAhBGABKBAhGGABQAFgAYMsLaAFwAXgAgAEAiAEAkgEAmAEAyAEKwAEB&sclient=gws-wiz)s are by definition an ordered series or arrangement of a particular type of thing. This means that when using Numpy we will mostly be using a collection of numbers.\n",
        "\n",
        "Python has lists and dictionaries and tuples and sets and series built in so why do we need to use Numpy?\n",
        "\n",
        "![why](https://media2.giphy.com/media/457NTDOuMmDfO/200.webp?cid=ecf05e47frkycyosf46393rdqpk2u4yjpgyefcka67enc6nf&rid=200.webp&ct=g)\n",
        "\n",
        "Well there are a number of advantages one of which is speed especially when dealing with a numerical collection of numbers. Also we would need to use it for it's strong ability to slice through multi dimensional arrays and [matrices](https://www.google.com/search?q=matrix+definition+programming&rlz=1C1JZAP_enZA940ZA941&sxsrf=APq-WBv8LnFJtPFox0s2VzLEVKiup5axzA%3A1646676706997&ei=4komYoqNPIqGhbIPi9-A-AI&oq=matrix+definition+pro&gs_lcp=Cgdnd3Mtd2l6EAMYADIGCAAQFhAeMgYIABAWEB4yBggAEBYQHjIGCAAQFhAeMgYIABAWEB4yBggAEBYQHjIGCAAQFhAeMgYIABAWEB4yBggAEBYQHjIGCAAQFhAeOgcIIxCwAxAnOgcIABBHELADOgcIABCwAxBDOgoIABDkAhCwAxgAOg8ILhDUAhDIAxCwAxBDGAE6DAguEMgDELADEEMYAToECCMQJzoFCAAQgARKBAhBGABKBAhGGAFQtilYqjNg8kJoAXABeACAAZACiAHsB5IBAzItNJgBAKABAcgBE8ABAdoBBggAEAEYCdoBBggBEAEYCA&sclient=gws-wiz). This means that there is some advantage to working with Numpy as opposed to working with Python's built-in list functionality.\n",
        "\n",
        "So we can understand that when working with numpy we would have to have this package added to Python which will allow us to use it. To do this we will need to [pip](https://www.knowledgehut.com/blog/programming/what-is-pip-in-python) install import the package into the notebook."
      ],
      "metadata": {
        "id": "FyKUjlZHfHhi"
      }
    },
    {
      "cell_type": "code",
      "execution_count": null,
      "metadata": {
        "colab": {
          "base_uri": "https://localhost:8080/"
        },
        "id": "gFt3M7-iV3jw",
        "outputId": "aaf2ff40-0eb9-45f5-c909-8d37f4fa95b8"
      },
      "outputs": [
        {
          "output_type": "stream",
          "name": "stdout",
          "text": [
            "Looking in indexes: https://pypi.org/simple, https://us-python.pkg.dev/colab-wheels/public/simple/\n",
            "Requirement already satisfied: numpy in /usr/local/lib/python3.8/dist-packages (1.22.4)\n"
          ]
        }
      ],
      "source": [
        "# When importing packages in a notebook we add the exclamation mark before pip\n",
        "!pip install numpy"
      ]
    },
    {
      "cell_type": "markdown",
      "source": [
        "It is important to note that we installed the package in this notebook and not in the whole of python. So this means that if you were to use another python notebook you would need to install the package again. There is method to this madness. When we use some other packages that are far larger and not as common we would need to manage the size of the python files as this could impact the general speed at which python operates under.\n",
        "\n",
        "So with the package installed we now have to try and use and to do that we will use the import function. "
      ],
      "metadata": {
        "id": "BykBDKakut4c"
      }
    },
    {
      "cell_type": "code",
      "source": [
        "import numpy as np # this helps in making it easier to type"
      ],
      "metadata": {
        "id": "RopRtKb4cgbF"
      },
      "execution_count": null,
      "outputs": []
    },
    {
      "cell_type": "code",
      "source": [
        "# Create an array of numbers\n",
        "arr = np.array([11,21,43,4,15,67,7])"
      ],
      "metadata": {
        "id": "AcODJoaFc6gi"
      },
      "execution_count": null,
      "outputs": []
    },
    {
      "cell_type": "code",
      "source": [
        "# Print out the array\n",
        "print(arr)"
      ],
      "metadata": {
        "colab": {
          "base_uri": "https://localhost:8080/"
        },
        "id": "RZvL4fFldHgc",
        "outputId": "8c9b2926-efcb-4db9-cce2-4f8950f29d89"
      },
      "execution_count": null,
      "outputs": [
        {
          "output_type": "stream",
          "name": "stdout",
          "text": [
            "[11 21 43  4 15 67  7]\n"
          ]
        }
      ]
    },
    {
      "cell_type": "code",
      "source": [
        "# Add some elements to the array\n",
        "arr = np.append(arr, [10.123,21.7326372, 124.34,-12,0.1121,-21.3324,-21.3324])\n",
        "arr"
      ],
      "metadata": {
        "colab": {
          "base_uri": "https://localhost:8080/"
        },
        "id": "cUji09v3a06x",
        "outputId": "1f9da51b-7774-4b07-ddd5-1e5111302d0e"
      },
      "execution_count": null,
      "outputs": [
        {
          "output_type": "execute_result",
          "data": {
            "text/plain": [
              "array([ 1.10000000e+01,  2.10000000e+01,  4.30000000e+01,  4.00000000e+00,\n",
              "        1.50000000e+01,  6.70000000e+01,  7.00000000e+00,  1.01230000e+01,\n",
              "        2.17326372e+01,  1.24340000e+02, -1.20000000e+01,  1.12100000e-01,\n",
              "       -2.13324000e+01, -2.13324000e+01])"
            ]
          },
          "metadata": {},
          "execution_count": 4
        }
      ]
    },
    {
      "cell_type": "code",
      "source": [
        "arr\n",
        "# newarr"
      ],
      "metadata": {
        "colab": {
          "base_uri": "https://localhost:8080/"
        },
        "id": "0zSMooMRzVWM",
        "outputId": "d1a92291-4649-4c48-873a-4f6fcc25035f"
      },
      "execution_count": null,
      "outputs": [
        {
          "output_type": "execute_result",
          "data": {
            "text/plain": [
              "array([ 1.10000000e+01,  2.10000000e+01,  4.30000000e+01,  4.00000000e+00,\n",
              "        1.50000000e+01,  6.70000000e+01,  7.00000000e+00,  1.01230000e+01,\n",
              "        2.17326372e+01,  1.24340000e+02, -1.20000000e+01,  1.12100000e-01,\n",
              "       -2.13324000e+01, -2.13324000e+01])"
            ]
          },
          "metadata": {},
          "execution_count": 5
        }
      ]
    },
    {
      "cell_type": "code",
      "source": [
        "# Copy the array and display the array has elements of the same type (no floats just int)\n",
        "newarr = arr.astype(int)\n",
        "newarr"
      ],
      "metadata": {
        "colab": {
          "base_uri": "https://localhost:8080/"
        },
        "id": "Vac5FRfsdiFC",
        "outputId": "d512e0b0-e773-4e21-d75e-96037f5000d1"
      },
      "execution_count": null,
      "outputs": [
        {
          "output_type": "execute_result",
          "data": {
            "text/plain": [
              "array([ 11,  21,  43,   4,  15,  67,   7,  10,  21, 124, -12,   0, -21,\n",
              "       -21])"
            ]
          },
          "metadata": {},
          "execution_count": 6
        }
      ]
    },
    {
      "cell_type": "code",
      "source": [
        "# Copy the array and display the array has elements of the same type (no int just float)\n",
        "newarr1 = arr.astype(float)\n",
        "np.round(newarr1,2)"
      ],
      "metadata": {
        "colab": {
          "base_uri": "https://localhost:8080/"
        },
        "id": "JPQ0ImsKei5K",
        "outputId": "f0bc54ba-0f0e-4f52-9fef-9b157804d29e"
      },
      "execution_count": null,
      "outputs": [
        {
          "output_type": "execute_result",
          "data": {
            "text/plain": [
              "array([ 1.1000e+01,  2.1000e+01,  4.3000e+01,  4.0000e+00,  1.5000e+01,\n",
              "        6.7000e+01,  7.0000e+00,  1.0120e+01,  2.1730e+01,  1.2434e+02,\n",
              "       -1.2000e+01,  1.1000e-01, -2.1330e+01, -2.1330e+01])"
            ]
          },
          "metadata": {},
          "execution_count": 7
        }
      ]
    },
    {
      "cell_type": "markdown",
      "source": [
        "So let's get just one element in the array. Let's use the index in the array to access it. It is important to remember that in Python we use 0 which means that the item in the first position is 0 and second item is 1 and so on. The last item in an array with length 'n' will be 'n-1' and the second last will be n-2 and so on."
      ],
      "metadata": {
        "id": "bkKoOYpmU9RN"
      }
    },
    {
      "cell_type": "code",
      "source": [
        "print(arr[11])"
      ],
      "metadata": {
        "colab": {
          "base_uri": "https://localhost:8080/"
        },
        "id": "i2O1-UoYdJtE",
        "outputId": "e86660d3-d042-4d47-afc1-d34f3945771b"
      },
      "execution_count": null,
      "outputs": [
        {
          "output_type": "stream",
          "name": "stdout",
          "text": [
            "0.1121\n"
          ]
        }
      ]
    },
    {
      "cell_type": "code",
      "source": [
        "print(arr[-2])"
      ],
      "metadata": {
        "colab": {
          "base_uri": "https://localhost:8080/"
        },
        "id": "LowBwj7MPi92",
        "outputId": "4286b6be-1dca-4df2-92a0-ceb9ed0ab0bd"
      },
      "execution_count": null,
      "outputs": [
        {
          "output_type": "stream",
          "name": "stdout",
          "text": [
            "-21.3324\n"
          ]
        }
      ]
    },
    {
      "cell_type": "code",
      "source": [
        "arr.shape"
      ],
      "metadata": {
        "colab": {
          "base_uri": "https://localhost:8080/"
        },
        "id": "28W8k0QsXWFw",
        "outputId": "a41a5e77-5500-4716-9bc1-820a90668725"
      },
      "execution_count": null,
      "outputs": [
        {
          "output_type": "execute_result",
          "data": {
            "text/plain": [
              "(14,)"
            ]
          },
          "metadata": {},
          "execution_count": 10
        }
      ]
    },
    {
      "cell_type": "code",
      "source": [
        "arr.size"
      ],
      "metadata": {
        "colab": {
          "base_uri": "https://localhost:8080/"
        },
        "id": "0EcCvfI1XpHC",
        "outputId": "fef7e702-5a5d-432d-e380-3c8593106ded"
      },
      "execution_count": null,
      "outputs": [
        {
          "output_type": "execute_result",
          "data": {
            "text/plain": [
              "14"
            ]
          },
          "metadata": {},
          "execution_count": 11
        }
      ]
    },
    {
      "cell_type": "code",
      "source": [
        "# Order the array in ascending order (smallest to biggest)\n",
        "arr.sort()\n",
        "arr"
      ],
      "metadata": {
        "colab": {
          "base_uri": "https://localhost:8080/"
        },
        "id": "zrvSBiC5YDSD",
        "outputId": "fefe5b19-6227-4c72-ced7-44aea75631cf"
      },
      "execution_count": null,
      "outputs": [
        {
          "output_type": "execute_result",
          "data": {
            "text/plain": [
              "array([-2.13324000e+01, -2.13324000e+01, -1.20000000e+01,  1.12100000e-01,\n",
              "        4.00000000e+00,  7.00000000e+00,  1.01230000e+01,  1.10000000e+01,\n",
              "        1.50000000e+01,  2.10000000e+01,  2.17326372e+01,  4.30000000e+01,\n",
              "        6.70000000e+01,  1.24340000e+02])"
            ]
          },
          "metadata": {},
          "execution_count": 12
        }
      ]
    },
    {
      "cell_type": "code",
      "source": [
        "# Find the location of the largest element in the array\n",
        "np.argmax(newarr1)"
      ],
      "metadata": {
        "colab": {
          "base_uri": "https://localhost:8080/"
        },
        "id": "9VWiEI0VYW1D",
        "outputId": "474ffdc8-2b63-487f-d2c5-0bebadcaca35"
      },
      "execution_count": null,
      "outputs": [
        {
          "output_type": "execute_result",
          "data": {
            "text/plain": [
              "9"
            ]
          },
          "metadata": {},
          "execution_count": 13
        }
      ]
    },
    {
      "cell_type": "code",
      "source": [
        "# Find the location of the smallest element in the array\n",
        "np.argmin(arr)"
      ],
      "metadata": {
        "colab": {
          "base_uri": "https://localhost:8080/"
        },
        "id": "xGwqtPdaZTm-",
        "outputId": "f1fc0104-9ff4-4ced-8acf-c763479299a9"
      },
      "execution_count": null,
      "outputs": [
        {
          "output_type": "execute_result",
          "data": {
            "text/plain": [
              "0"
            ]
          },
          "metadata": {},
          "execution_count": 14
        }
      ]
    },
    {
      "cell_type": "code",
      "source": [
        "# Find where the element in the argument would go when inserted into a sorted array\n",
        "np.searchsorted(arr,7)"
      ],
      "metadata": {
        "colab": {
          "base_uri": "https://localhost:8080/"
        },
        "id": "hJRgpRJgZ10w",
        "outputId": "9d305f37-95a2-409f-cebc-430ab4e739a4"
      },
      "execution_count": null,
      "outputs": [
        {
          "output_type": "execute_result",
          "data": {
            "text/plain": [
              "5"
            ]
          },
          "metadata": {},
          "execution_count": 15
        }
      ]
    },
    {
      "cell_type": "markdown",
      "source": [
        "Awesome so we did some basic functions with an array in Numpy! This is a simple 1-D array. It also still look like a list and all that we did is farily similar to what we can do to a list. Nothing special really right? Perhaps it might be time to...\n",
        "\n",
        "![Level up](https://media1.giphy.com/media/St3iie3VZ65VHkobqc/200w.webp?cid=ecf05e47l1dzvpbdfbljta5woqedwyf5ysy8aqhyg9pxky7j&rid=200w.webp&ct=g)\n",
        "\n",
        "Let's look at what Numpy cooler than the built in.\n",
        "### Multi Dimensional Array\n",
        "OK, but first let's undertsand what a dimension is. An array is a collection of stuff (in Numpy stuff is numerical stuff) and that stuff looks like a list. What if we added more stuff which in fact was a collection of numerical stuff. That is still a collection of stuff but we have just added levels to the stuff, those levels are dimensions. We can have multiple dimensions but we usually think of stuff as having 3 dimensions. \n",
        "\n"
      ],
      "metadata": {
        "id": "GiaXcbCoPkdE"
      }
    },
    {
      "cell_type": "code",
      "source": [
        "arr1 = np.arange(1,91)\n",
        "arr1"
      ],
      "metadata": {
        "colab": {
          "base_uri": "https://localhost:8080/"
        },
        "id": "nsXDk2oxDoQM",
        "outputId": "d208464e-6780-4399-bec6-c1ee343ed9e4"
      },
      "execution_count": null,
      "outputs": [
        {
          "output_type": "execute_result",
          "data": {
            "text/plain": [
              "array([ 1,  2,  3,  4,  5,  6,  7,  8,  9, 10, 11, 12, 13, 14, 15, 16, 17,\n",
              "       18, 19, 20, 21, 22, 23, 24, 25, 26, 27, 28, 29, 30, 31, 32, 33, 34,\n",
              "       35, 36, 37, 38, 39, 40, 41, 42, 43, 44, 45, 46, 47, 48, 49, 50, 51,\n",
              "       52, 53, 54, 55, 56, 57, 58, 59, 60, 61, 62, 63, 64, 65, 66, 67, 68,\n",
              "       69, 70, 71, 72, 73, 74, 75, 76, 77, 78, 79, 80, 81, 82, 83, 84, 85,\n",
              "       86, 87, 88, 89, 90])"
            ]
          },
          "metadata": {},
          "execution_count": 16
        }
      ]
    },
    {
      "cell_type": "code",
      "source": [
        "arr1.shape"
      ],
      "metadata": {
        "colab": {
          "base_uri": "https://localhost:8080/"
        },
        "id": "3YHzxglXKcOZ",
        "outputId": "b4956b16-3b85-4f05-b81a-1ae7997bda0e"
      },
      "execution_count": null,
      "outputs": [
        {
          "output_type": "execute_result",
          "data": {
            "text/plain": [
              "(90,)"
            ]
          },
          "metadata": {},
          "execution_count": 17
        }
      ]
    },
    {
      "cell_type": "code",
      "source": [
        "arr2 = np.arange(1,91).reshape(9,10)\n",
        "arr2"
      ],
      "metadata": {
        "colab": {
          "base_uri": "https://localhost:8080/"
        },
        "id": "_gOeDJiMdeJS",
        "outputId": "b309c102-2dbf-4184-8ba9-cefe0b4bc5ae"
      },
      "execution_count": null,
      "outputs": [
        {
          "output_type": "execute_result",
          "data": {
            "text/plain": [
              "array([[ 1,  2,  3,  4,  5,  6,  7,  8,  9, 10],\n",
              "       [11, 12, 13, 14, 15, 16, 17, 18, 19, 20],\n",
              "       [21, 22, 23, 24, 25, 26, 27, 28, 29, 30],\n",
              "       [31, 32, 33, 34, 35, 36, 37, 38, 39, 40],\n",
              "       [41, 42, 43, 44, 45, 46, 47, 48, 49, 50],\n",
              "       [51, 52, 53, 54, 55, 56, 57, 58, 59, 60],\n",
              "       [61, 62, 63, 64, 65, 66, 67, 68, 69, 70],\n",
              "       [71, 72, 73, 74, 75, 76, 77, 78, 79, 80],\n",
              "       [81, 82, 83, 84, 85, 86, 87, 88, 89, 90]])"
            ]
          },
          "metadata": {},
          "execution_count": 18
        }
      ]
    },
    {
      "cell_type": "code",
      "source": [
        "arr2.shape"
      ],
      "metadata": {
        "colab": {
          "base_uri": "https://localhost:8080/"
        },
        "id": "QCoUFRv4KXEu",
        "outputId": "8dad6b85-bd67-45b0-f592-6ecf6847b5b1"
      },
      "execution_count": null,
      "outputs": [
        {
          "output_type": "execute_result",
          "data": {
            "text/plain": [
              "(9, 10)"
            ]
          },
          "metadata": {},
          "execution_count": 19
        }
      ]
    },
    {
      "cell_type": "code",
      "source": [
        "arr3 = np.arange(1,91).reshape(3,3,10)\n",
        "arr3"
      ],
      "metadata": {
        "colab": {
          "base_uri": "https://localhost:8080/"
        },
        "id": "R7z-bFc-eDXZ",
        "outputId": "40e000d8-9ac8-4fed-c9d7-17f49a598a92"
      },
      "execution_count": null,
      "outputs": [
        {
          "output_type": "execute_result",
          "data": {
            "text/plain": [
              "array([[[ 1,  2,  3,  4,  5,  6,  7,  8,  9, 10],\n",
              "        [11, 12, 13, 14, 15, 16, 17, 18, 19, 20],\n",
              "        [21, 22, 23, 24, 25, 26, 27, 28, 29, 30]],\n",
              "\n",
              "       [[31, 32, 33, 34, 35, 36, 37, 38, 39, 40],\n",
              "        [41, 42, 43, 44, 45, 46, 47, 48, 49, 50],\n",
              "        [51, 52, 53, 54, 55, 56, 57, 58, 59, 60]],\n",
              "\n",
              "       [[61, 62, 63, 64, 65, 66, 67, 68, 69, 70],\n",
              "        [71, 72, 73, 74, 75, 76, 77, 78, 79, 80],\n",
              "        [81, 82, 83, 84, 85, 86, 87, 88, 89, 90]]])"
            ]
          },
          "metadata": {},
          "execution_count": 20
        }
      ]
    },
    {
      "cell_type": "code",
      "source": [
        "arr3.shape"
      ],
      "metadata": {
        "colab": {
          "base_uri": "https://localhost:8080/"
        },
        "id": "FxpFF60Ij6VT",
        "outputId": "d6ad7421-09f1-4206-eebd-40899eb96be3"
      },
      "execution_count": null,
      "outputs": [
        {
          "output_type": "execute_result",
          "data": {
            "text/plain": [
              "(3, 3, 10)"
            ]
          },
          "metadata": {},
          "execution_count": 21
        }
      ]
    },
    {
      "cell_type": "code",
      "source": [
        "arr3 = np.arange(1,91)\n",
        "arr3"
      ],
      "metadata": {
        "colab": {
          "base_uri": "https://localhost:8080/"
        },
        "id": "8QT3GOb8BztV",
        "outputId": "cc3a6c2e-f4c3-4937-ab9d-059770c7e869"
      },
      "execution_count": null,
      "outputs": [
        {
          "output_type": "execute_result",
          "data": {
            "text/plain": [
              "array([ 1,  2,  3,  4,  5,  6,  7,  8,  9, 10, 11, 12, 13, 14, 15, 16, 17,\n",
              "       18, 19, 20, 21, 22, 23, 24, 25, 26, 27, 28, 29, 30, 31, 32, 33, 34,\n",
              "       35, 36, 37, 38, 39, 40, 41, 42, 43, 44, 45, 46, 47, 48, 49, 50, 51,\n",
              "       52, 53, 54, 55, 56, 57, 58, 59, 60, 61, 62, 63, 64, 65, 66, 67, 68,\n",
              "       69, 70, 71, 72, 73, 74, 75, 76, 77, 78, 79, 80, 81, 82, 83, 84, 85,\n",
              "       86, 87, 88, 89, 90])"
            ]
          },
          "metadata": {},
          "execution_count": 22
        }
      ]
    },
    {
      "cell_type": "code",
      "source": [
        "arr3 = np.arange(1,91).reshape(10,9)\n",
        "arr3"
      ],
      "metadata": {
        "colab": {
          "base_uri": "https://localhost:8080/"
        },
        "id": "Hd6_8jF6_LtR",
        "outputId": "40588bcb-41b5-4ad1-8d9d-53ab6dadd2ba"
      },
      "execution_count": null,
      "outputs": [
        {
          "output_type": "execute_result",
          "data": {
            "text/plain": [
              "array([[ 1,  2,  3,  4,  5,  6,  7,  8,  9],\n",
              "       [10, 11, 12, 13, 14, 15, 16, 17, 18],\n",
              "       [19, 20, 21, 22, 23, 24, 25, 26, 27],\n",
              "       [28, 29, 30, 31, 32, 33, 34, 35, 36],\n",
              "       [37, 38, 39, 40, 41, 42, 43, 44, 45],\n",
              "       [46, 47, 48, 49, 50, 51, 52, 53, 54],\n",
              "       [55, 56, 57, 58, 59, 60, 61, 62, 63],\n",
              "       [64, 65, 66, 67, 68, 69, 70, 71, 72],\n",
              "       [73, 74, 75, 76, 77, 78, 79, 80, 81],\n",
              "       [82, 83, 84, 85, 86, 87, 88, 89, 90]])"
            ]
          },
          "metadata": {},
          "execution_count": 23
        }
      ]
    },
    {
      "cell_type": "markdown",
      "source": [
        "So arrays and especially multi-dimesnional arrays are useful in visualising data. We more often than not use 2-D arrays in a matrix which helps in mathematical and scientific calculations.\n",
        "\n",
        "![3D-Array](https://miro.medium.com/max/1200/1*sxnhgeSptW8Jfol8XUyP-Q.png)"
      ],
      "metadata": {
        "id": "YGbot9zaL-4V"
      }
    },
    {
      "cell_type": "code",
      "source": [
        "arr3.flatten()"
      ],
      "metadata": {
        "colab": {
          "base_uri": "https://localhost:8080/"
        },
        "id": "w9PLElX6qaw8",
        "outputId": "21565502-38dc-4da3-a4ec-22171aa3d8ce"
      },
      "execution_count": null,
      "outputs": [
        {
          "output_type": "execute_result",
          "data": {
            "text/plain": [
              "array([ 1,  2,  3,  4,  5,  6,  7,  8,  9, 10, 11, 12, 13, 14, 15, 16, 17,\n",
              "       18, 19, 20, 21, 22, 23, 24, 25, 26, 27, 28, 29, 30, 31, 32, 33, 34,\n",
              "       35, 36, 37, 38, 39, 40, 41, 42, 43, 44, 45, 46, 47, 48, 49, 50, 51,\n",
              "       52, 53, 54, 55, 56, 57, 58, 59, 60, 61, 62, 63, 64, 65, 66, 67, 68,\n",
              "       69, 70, 71, 72, 73, 74, 75, 76, 77, 78, 79, 80, 81, 82, 83, 84, 85,\n",
              "       86, 87, 88, 89, 90])"
            ]
          },
          "metadata": {},
          "execution_count": 24
        }
      ]
    },
    {
      "cell_type": "code",
      "source": [
        "arr3[1:3:2,1]"
      ],
      "metadata": {
        "colab": {
          "base_uri": "https://localhost:8080/"
        },
        "id": "eJ8DRAmEKnv9",
        "outputId": "83e2e3a7-51ae-4828-b165-314130306982"
      },
      "execution_count": null,
      "outputs": [
        {
          "output_type": "execute_result",
          "data": {
            "text/plain": [
              "array([11])"
            ]
          },
          "metadata": {},
          "execution_count": 25
        }
      ]
    },
    {
      "cell_type": "markdown",
      "source": [
        "OK so we have gone down the numpy path a bit. You can check out some of the other routines, modules and functions on this [link](https://numpy.org/doc/stable/reference/index.html)\n",
        "\n",
        "You can also do some tutorials with the package [here](https://numpy.org/numpy-tutorials/).\n",
        "\n",
        "![well done](https://c.tenor.com/qeZMLpa-G0MAAAAC/deadpool-clapping.gif)\n"
      ],
      "metadata": {
        "id": "oVQ3uzIC3Ygj"
      }
    },
    {
      "cell_type": "markdown",
      "source": [
        "Let's figure out some trickier concepts with this package. \n",
        "## Can it do Stats?\n",
        "![I_dunno](https://www.wired.com/wp-content/uploads/2015/03/855.gif)\n",
        "\n",
        "Yeah, well, the simple answer is yes **YOU CAN** do stats using Numpy. Afterall it is named **NUM**erical **PY**thon for a reason. So how about we see some of the built-in functions that can help you do some descriptive statistics.\n",
        "\n",
        "**What Are Descriptive Statistics?**\n",
        "\n",
        "Descriptive statistics are brief informational coefficients that summarize a given data set, which can be either a representation of the entire population or a sample of a population. Descriptive statistics are broken down into measures of central tendency and measures of variability (spread). Measures of central tendency include the mean, median, and mode, while measures of variability include standard deviation, variance, minimum and maximum variables, kurtosis, and skewness."
      ],
      "metadata": {
        "id": "ner38ZrOpqtC"
      }
    },
    {
      "cell_type": "markdown",
      "source": [
        "### **Central Tendancy Measures**\n",
        "Centrality measures show the central or middle values of datasets. There are several definitions of what’s considered to be the center of a dataset. The three major measures of center include the mean, median, and mode.\n",
        "\n",
        "![central_tendancy](https://cdn.corporatefinanceinstitute.com/assets/central-tendency4.png)"
      ],
      "metadata": {
        "id": "Hp-9_so-P-2A"
      }
    },
    {
      "cell_type": "markdown",
      "source": [
        "The mean is often the sum of all the values divided by the number of values in a distribution. We can also refer to it as the average.\n",
        "\n",
        "![I_mean](https://media.tenor.com/Uc7IWZFXI4gAAAAM/i-mean-gif.gif)"
      ],
      "metadata": {
        "id": "utiHWyafR4k8"
      }
    },
    {
      "cell_type": "code",
      "source": [
        "# Mean\n",
        "np.mean(arr3)"
      ],
      "metadata": {
        "colab": {
          "base_uri": "https://localhost:8080/"
        },
        "id": "uD1SrEARtJI7",
        "outputId": "f8507771-b678-4a92-8993-76f5fb4af932"
      },
      "execution_count": null,
      "outputs": [
        {
          "output_type": "execute_result",
          "data": {
            "text/plain": [
              "45.5"
            ]
          },
          "metadata": {},
          "execution_count": 26
        }
      ]
    },
    {
      "cell_type": "markdown",
      "source": [
        "**The median** is the *middle value* of a sorted data set.\n",
        "To calculate the median, arrange the data points in the increasing order and the middle value is the median. It is easy to find out the middle value if there is an odd number of data points. If the collection is even, then the median is the arithmetic mean of the two values in the middle.\n",
        "\n",
        "![](data:image/jpeg;base64,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)"
      ],
      "metadata": {
        "id": "m3QB1QtvS7Ea"
      }
    },
    {
      "cell_type": "code",
      "source": [
        "# Median\n",
        "np.median(arr3)"
      ],
      "metadata": {
        "colab": {
          "base_uri": "https://localhost:8080/"
        },
        "id": "FxpyvjeNtI17",
        "outputId": "efdb5752-8cd2-4016-857a-915856c9c3a6"
      },
      "execution_count": null,
      "outputs": [
        {
          "output_type": "execute_result",
          "data": {
            "text/plain": [
              "45.5"
            ]
          },
          "metadata": {},
          "execution_count": 27
        }
      ]
    },
    {
      "cell_type": "markdown",
      "source": [
        "**The mode** refers to the most repeating element in the array. \n",
        "\n",
        "![Mode](data:image/jpeg;base64,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)\n",
        "\n",
        "If there isn’t a single such value, then the set is multimodal since it has multiple modal values."
      ],
      "metadata": {
        "id": "APLXdkSSgwtW"
      }
    },
    {
      "cell_type": "code",
      "source": [
        "from statistics import mode"
      ],
      "metadata": {
        "id": "xyosNirX-v3H"
      },
      "execution_count": null,
      "outputs": []
    },
    {
      "cell_type": "code",
      "source": [
        "# Mode\n",
        "array = np.array([2,5,621,21,3,8,9,7,9,8,7,775,5,8])"
      ],
      "metadata": {
        "id": "2C7nrWqOtIXi"
      },
      "execution_count": null,
      "outputs": []
    },
    {
      "cell_type": "code",
      "source": [
        "vals,counts = np.unique(array, return_counts=True)\n",
        "vals"
      ],
      "metadata": {
        "colab": {
          "base_uri": "https://localhost:8080/"
        },
        "id": "cgX21U9BATrB",
        "outputId": "54b4581d-7c31-4ba0-f9b0-345f826a485c"
      },
      "execution_count": null,
      "outputs": [
        {
          "output_type": "execute_result",
          "data": {
            "text/plain": [
              "array([  2,   3,   5,   7,   8,   9,  21, 621, 775])"
            ]
          },
          "metadata": {},
          "execution_count": 30
        }
      ]
    },
    {
      "cell_type": "code",
      "source": [
        "counts"
      ],
      "metadata": {
        "colab": {
          "base_uri": "https://localhost:8080/"
        },
        "id": "XIZPSR4CAarA",
        "outputId": "e866e01e-62b3-4d09-9541-da70327fcb51"
      },
      "execution_count": null,
      "outputs": [
        {
          "output_type": "execute_result",
          "data": {
            "text/plain": [
              "array([1, 1, 2, 2, 3, 2, 1, 1, 1])"
            ]
          },
          "metadata": {},
          "execution_count": 31
        }
      ]
    },
    {
      "cell_type": "code",
      "source": [
        "mode = np.argmax(counts)\n",
        "mode"
      ],
      "metadata": {
        "colab": {
          "base_uri": "https://localhost:8080/"
        },
        "id": "ewB1FiEFATnx",
        "outputId": "63b012c0-6931-40b5-9dc1-a219ca122b48"
      },
      "execution_count": null,
      "outputs": [
        {
          "output_type": "execute_result",
          "data": {
            "text/plain": [
              "4"
            ]
          },
          "metadata": {},
          "execution_count": 32
        }
      ]
    },
    {
      "cell_type": "code",
      "source": [
        "print(vals[mode])"
      ],
      "metadata": {
        "colab": {
          "base_uri": "https://localhost:8080/"
        },
        "id": "eCH0Yy2hATfJ",
        "outputId": "4ff4da11-efa6-4cdc-e319-b5db61a12d8d"
      },
      "execution_count": null,
      "outputs": [
        {
          "output_type": "stream",
          "name": "stdout",
          "text": [
            "8\n"
          ]
        }
      ]
    },
    {
      "cell_type": "code",
      "source": [
        "from scipy import stats as st\n",
        "print(st.mode(array))"
      ],
      "metadata": {
        "colab": {
          "base_uri": "https://localhost:8080/"
        },
        "id": "gFNRG8vjBD5G",
        "outputId": "ff5d25aa-f268-4756-e255-7d9337e1043b"
      },
      "execution_count": null,
      "outputs": [
        {
          "output_type": "stream",
          "name": "stdout",
          "text": [
            "ModeResult(mode=array([8]), count=array([3]))\n"
          ]
        }
      ]
    },
    {
      "cell_type": "markdown",
      "source": [
        "![](https://i.imgflip.com/6e0y2v.jpg)\n",
        "\n",
        "There is a difference in between these measures which is often not always noticed but exists.\n",
        "\n",
        "1. The *median* is a better choice when the indicator *can be affected by some outliers*.\n",
        "2. The *median* is the middle value which is *not affected by these outliers*.\n",
        "3. The *mean is* a better choice when there are *no extreme values that can affect it*.\n",
        "4. The *mean is* a better summary because the *information from every data point is included* rather than median, which is just the middle value.\n",
        "5. The *mode* is the *value that occurs the most number of times* in our data set.\n",
        "\n",
        "\n",
        "![central_tendancy_distribution](https://miro.medium.com/max/651/0*BicwQ6RD8k3YTByX)\n",
        "\n"
      ],
      "metadata": {
        "id": "STga2wxXRO-L"
      }
    },
    {
      "cell_type": "code",
      "source": [
        "np.median(array)"
      ],
      "metadata": {
        "colab": {
          "base_uri": "https://localhost:8080/"
        },
        "id": "-OXZTXtMjhab",
        "outputId": "eb8336a7-7549-4efa-9f92-ef24fb377055"
      },
      "execution_count": null,
      "outputs": [
        {
          "output_type": "execute_result",
          "data": {
            "text/plain": [
              "8.0"
            ]
          },
          "metadata": {},
          "execution_count": 35
        }
      ]
    },
    {
      "cell_type": "code",
      "source": [
        "np.mean(array)"
      ],
      "metadata": {
        "colab": {
          "base_uri": "https://localhost:8080/"
        },
        "id": "h4Ql7oTYkRIS",
        "outputId": "160af0ca-857c-411a-847d-6a941eabc9f9"
      },
      "execution_count": null,
      "outputs": [
        {
          "output_type": "execute_result",
          "data": {
            "text/plain": [
              "106.28571428571429"
            ]
          },
          "metadata": {},
          "execution_count": 36
        }
      ]
    },
    {
      "cell_type": "code",
      "source": [
        "st.mode(array)"
      ],
      "metadata": {
        "colab": {
          "base_uri": "https://localhost:8080/"
        },
        "id": "p7opN-ATkaqQ",
        "outputId": "6c842160-0c66-405d-e829-c730ebb3a709"
      },
      "execution_count": null,
      "outputs": [
        {
          "output_type": "execute_result",
          "data": {
            "text/plain": [
              "ModeResult(mode=array([8]), count=array([3]))"
            ]
          },
          "metadata": {},
          "execution_count": 37
        }
      ]
    },
    {
      "cell_type": "markdown",
      "source": [
        "### **Variability Measures**\n",
        "\n",
        "Variability measures are values that describe how the data varies. It gives us a sense of how much the data tends to diverge from the typical value. These include\n",
        "- Range\n",
        "- Percentiles\n",
        "- Variance\n",
        "- Standard Deviation\n",
        "- Skewness\n",
        "\n",
        "![deviation](https://y.yarn.co/c0442378-c20e-42cb-8510-7019c4a908c0_text.gif)"
      ],
      "metadata": {
        "id": "Da4i2Vltm4LO"
      }
    },
    {
      "cell_type": "markdown",
      "source": [
        "**Range** is just the largest number minus the smallest number. The range gives a quick sense of the spread of the distribution to those who require only a rough indication of the data. The major drawback is it does not give any information of the data in between maximum and minimum."
      ],
      "metadata": {
        "id": "jv7gVIABr_bR"
      }
    },
    {
      "cell_type": "code",
      "source": [
        "np.ptp(array)"
      ],
      "metadata": {
        "colab": {
          "base_uri": "https://localhost:8080/"
        },
        "id": "TvdHMbX7tPPU",
        "outputId": "c301cfa7-8581-460a-e0fd-4e411e8023cb"
      },
      "execution_count": null,
      "outputs": [
        {
          "output_type": "execute_result",
          "data": {
            "text/plain": [
              "773"
            ]
          },
          "metadata": {},
          "execution_count": 38
        }
      ]
    },
    {
      "cell_type": "markdown",
      "source": [
        "**Percentile** is a measure which is a number where a certain percentage of scores fall below that number. In other words it is a value on a scale of one hundred that indicates the percent of a distribution that is equal to or below it."
      ],
      "metadata": {
        "id": "R4WpRdBMtDvI"
      }
    },
    {
      "cell_type": "code",
      "source": [
        "# Tenth percentile\n",
        "np.percentile(array, 10)"
      ],
      "metadata": {
        "colab": {
          "base_uri": "https://localhost:8080/"
        },
        "id": "m9Sf3_RkY2ND",
        "outputId": "457f90da-6215-416f-9633-a3383001468e"
      },
      "execution_count": null,
      "outputs": [
        {
          "output_type": "execute_result",
          "data": {
            "text/plain": [
              "3.6"
            ]
          },
          "metadata": {},
          "execution_count": 39
        }
      ]
    },
    {
      "cell_type": "code",
      "source": [
        "# Fourteenth percentile\n",
        "np.percentile(array, 14)"
      ],
      "metadata": {
        "colab": {
          "base_uri": "https://localhost:8080/"
        },
        "id": "lrA2xV6SY14C",
        "outputId": "2d3247fb-0b4c-43d9-9f54-e3f754eec64c"
      },
      "execution_count": null,
      "outputs": [
        {
          "output_type": "execute_result",
          "data": {
            "text/plain": [
              "4.640000000000001"
            ]
          },
          "metadata": {},
          "execution_count": 40
        }
      ]
    },
    {
      "cell_type": "code",
      "source": [
        "# Q1\n",
        "np.percentile(array, 25)"
      ],
      "metadata": {
        "colab": {
          "base_uri": "https://localhost:8080/"
        },
        "id": "WdVB6dbnTAio",
        "outputId": "0c4b92e5-af03-4057-8122-8da993f14f7e"
      },
      "execution_count": null,
      "outputs": [
        {
          "output_type": "execute_result",
          "data": {
            "text/plain": [
              "5.5"
            ]
          },
          "metadata": {},
          "execution_count": 41
        }
      ]
    },
    {
      "cell_type": "code",
      "source": [
        "# Q2\n",
        "np.percentile(array, 50)"
      ],
      "metadata": {
        "colab": {
          "base_uri": "https://localhost:8080/"
        },
        "id": "PesduMufTwYC",
        "outputId": "3c908b60-bb83-4696-f7a0-8ddb42a886e9"
      },
      "execution_count": null,
      "outputs": [
        {
          "output_type": "execute_result",
          "data": {
            "text/plain": [
              "8.0"
            ]
          },
          "metadata": {},
          "execution_count": 42
        }
      ]
    },
    {
      "cell_type": "code",
      "source": [
        "# Q3\n",
        "np.percentile(array, 75)"
      ],
      "metadata": {
        "colab": {
          "base_uri": "https://localhost:8080/"
        },
        "id": "QDSSPYyeT0n4",
        "outputId": "5a832734-ab1c-427d-e8bc-bb9be0f14763"
      },
      "execution_count": null,
      "outputs": [
        {
          "output_type": "execute_result",
          "data": {
            "text/plain": [
              "9.0"
            ]
          },
          "metadata": {},
          "execution_count": 43
        }
      ]
    },
    {
      "cell_type": "code",
      "source": [
        "# Percentiles as a list\n",
        "np.percentile(array, [25,50,75])"
      ],
      "metadata": {
        "colab": {
          "base_uri": "https://localhost:8080/"
        },
        "id": "yrqtbyn5tPIq",
        "outputId": "6e9e74f0-26e8-4ed4-8d0d-56db01b9510b"
      },
      "execution_count": null,
      "outputs": [
        {
          "output_type": "execute_result",
          "data": {
            "text/plain": [
              "array([5.5, 8. , 9. ])"
            ]
          },
          "metadata": {},
          "execution_count": 44
        }
      ]
    },
    {
      "cell_type": "markdown",
      "source": [
        "**Quantiles** are cut points dividing the range of a probability distribution into continuous intervals with equal probabilities, or dividing the observations in a sample in the same way. In simple terms, a quantile is where a sample is divided into equal-sized, adjacent, subgroups. We use decimals to indicate the percentages that we want."
      ],
      "metadata": {
        "id": "Zy7Sbm9qS904"
      }
    },
    {
      "cell_type": "code",
      "source": [
        "np.quantile(array, 0.1)"
      ],
      "metadata": {
        "colab": {
          "base_uri": "https://localhost:8080/"
        },
        "id": "Wv-gxzA2aEUQ",
        "outputId": "28fb498d-e77a-405c-99b7-68fb0e714983"
      },
      "execution_count": null,
      "outputs": [
        {
          "output_type": "execute_result",
          "data": {
            "text/plain": [
              "3.6"
            ]
          },
          "metadata": {},
          "execution_count": 46
        }
      ]
    },
    {
      "cell_type": "code",
      "source": [
        "np.quantile(array, 0.14)"
      ],
      "metadata": {
        "colab": {
          "base_uri": "https://localhost:8080/"
        },
        "id": "S8r7a2iIaEII",
        "outputId": "9baf2b83-7842-420d-c8ed-05c7f3ea8e69"
      },
      "execution_count": null,
      "outputs": [
        {
          "output_type": "execute_result",
          "data": {
            "text/plain": [
              "4.640000000000001"
            ]
          },
          "metadata": {},
          "execution_count": 48
        }
      ]
    },
    {
      "cell_type": "code",
      "source": [
        "np.quantile(array, 0.25)"
      ],
      "metadata": {
        "colab": {
          "base_uri": "https://localhost:8080/"
        },
        "id": "mfQctWMFajpH",
        "outputId": "6b0e31dd-777f-4b83-f5c6-a85b55ccefd5"
      },
      "execution_count": null,
      "outputs": [
        {
          "output_type": "execute_result",
          "data": {
            "text/plain": [
              "5.5"
            ]
          },
          "metadata": {},
          "execution_count": 49
        }
      ]
    },
    {
      "cell_type": "code",
      "source": [
        "# Quantile\n",
        "np.quantile(array, [0.25,0.5,0.75])"
      ],
      "metadata": {
        "colab": {
          "base_uri": "https://localhost:8080/"
        },
        "id": "Y0I1tthSsvmL",
        "outputId": "a26a8082-7090-47ae-9f05-1aa31d135b71"
      },
      "execution_count": null,
      "outputs": [
        {
          "output_type": "execute_result",
          "data": {
            "text/plain": [
              "array([5.5, 8. , 9. ])"
            ]
          },
          "metadata": {},
          "execution_count": 40
        }
      ]
    },
    {
      "cell_type": "markdown",
      "source": [],
      "metadata": {
        "id": "7CO-3i2ga7hR"
      }
    },
    {
      "cell_type": "code",
      "source": [],
      "metadata": {
        "id": "iAFVZummPtDn"
      },
      "execution_count": null,
      "outputs": []
    },
    {
      "cell_type": "markdown",
      "source": [
        "\n",
        "## Pandas\n",
        "So we have gotten this far and it means we can look at the next package which we use quite often used alongside Numpy...**Pandas** *cue the song [Panda](https://www.youtube.com/watch?v=E5ONTXHS2mM&ab_channel=DesiignerVEVO)* \n",
        "\n",
        "So Pandas is a package that is built on top of Numpy and it is a way of working with data in a tabular format. So we get to see data in a format very similar to an array where it has columns and rows and the data falls within this structure.\n",
        "\n",
        "![pandas](https://miro.medium.com/max/819/1*Dss7A8Z-M4x8LD9ccgw7pQ.png)\n",
        "\n",
        "When the data is in this format we refer to it as a dataframe and this dataframe is then a set of data which can be imported, analysed, cleaned and manipulated. The process of manipulating the data is a way in which we make the data readable and have relevance and use. We can see things such as correlation, averages, mean, min and relations. \n",
        "\n",
        "Like Numpy we have to instal the package first."
      ],
      "metadata": {
        "id": "A21B3Nghpms3"
      }
    },
    {
      "cell_type": "code",
      "source": [
        "!pip install pandas"
      ],
      "metadata": {
        "colab": {
          "base_uri": "https://localhost:8080/"
        },
        "id": "9gFnXMqUeciD",
        "outputId": "ea1662af-a176-4562-c1e9-92829c867339"
      },
      "execution_count": null,
      "outputs": [
        {
          "output_type": "stream",
          "name": "stdout",
          "text": [
            "Looking in indexes: https://pypi.org/simple, https://us-python.pkg.dev/colab-wheels/public/simple/\n",
            "Requirement already satisfied: pandas in /usr/local/lib/python3.8/dist-packages (1.3.5)\n",
            "Requirement already satisfied: numpy>=1.17.3 in /usr/local/lib/python3.8/dist-packages (from pandas) (1.22.4)\n",
            "Requirement already satisfied: pytz>=2017.3 in /usr/local/lib/python3.8/dist-packages (from pandas) (2022.7.1)\n",
            "Requirement already satisfied: python-dateutil>=2.7.3 in /usr/local/lib/python3.8/dist-packages (from pandas) (2.8.2)\n",
            "Requirement already satisfied: six>=1.5 in /usr/local/lib/python3.8/dist-packages (from python-dateutil>=2.7.3->pandas) (1.15.0)\n"
          ]
        }
      ]
    },
    {
      "cell_type": "code",
      "source": [
        "import pandas as pd"
      ],
      "metadata": {
        "id": "FEXjS05Xfg_Y"
      },
      "execution_count": null,
      "outputs": []
    },
    {
      "cell_type": "code",
      "source": [
        "test_table = {\n",
        "    'Students' : ['Name1', 'Name2', 'Name3'],\n",
        "    'StudentAlt' : ['NameAlt1','NameAlt2','NameAlt3']\n",
        "}\n",
        "test_table"
      ],
      "metadata": {
        "id": "VJzb7P4cfmEZ",
        "colab": {
          "base_uri": "https://localhost:8080/"
        },
        "outputId": "114a86c6-28da-4c43-bba9-cd57999d1043"
      },
      "execution_count": null,
      "outputs": [
        {
          "output_type": "execute_result",
          "data": {
            "text/plain": [
              "{'Students': ['Name1', 'Name2', 'Name3'],\n",
              " 'StudentAlt': ['NameAlt1', 'NameAlt2', 'NameAlt3']}"
            ]
          },
          "metadata": {},
          "execution_count": 43
        }
      ]
    },
    {
      "cell_type": "code",
      "source": [
        "df = pd.DataFrame(test_table)"
      ],
      "metadata": {
        "id": "cTgtSzMAgcyK"
      },
      "execution_count": null,
      "outputs": []
    },
    {
      "cell_type": "code",
      "source": [
        "df."
      ],
      "metadata": {
        "colab": {
          "base_uri": "https://localhost:8080/",
          "height": 130
        },
        "id": "uuv1HZCOgnqZ",
        "outputId": "8632b374-2c76-45fb-889f-04f216a2453c"
      },
      "execution_count": null,
      "outputs": [
        {
          "output_type": "error",
          "ename": "SyntaxError",
          "evalue": "ignored",
          "traceback": [
            "\u001b[0;36m  File \u001b[0;32m\"<ipython-input-45-38e9e33c87a8>\"\u001b[0;36m, line \u001b[0;32m1\u001b[0m\n\u001b[0;31m    df.\u001b[0m\n\u001b[0m       ^\u001b[0m\n\u001b[0;31mSyntaxError\u001b[0m\u001b[0;31m:\u001b[0m invalid syntax\n"
          ]
        }
      ]
    },
    {
      "cell_type": "code",
      "source": [
        "df.insert(2,'RegistrationDate',['2002-28-23','testing','to see if it works'])"
      ],
      "metadata": {
        "id": "qEm4cIJ1O1Sy"
      },
      "execution_count": null,
      "outputs": []
    },
    {
      "cell_type": "code",
      "source": [
        "df"
      ],
      "metadata": {
        "id": "ev1iVW8LShV8"
      },
      "execution_count": null,
      "outputs": []
    },
    {
      "cell_type": "code",
      "source": [
        "import datetime\n",
        "import random"
      ],
      "metadata": {
        "id": "JoIR4LGDhvYH"
      },
      "execution_count": null,
      "outputs": []
    },
    {
      "cell_type": "code",
      "source": [
        "df.drop(columns = ['RegistrationDate'])"
      ],
      "metadata": {
        "id": "Q3V8Af5dm_Lh"
      },
      "execution_count": null,
      "outputs": []
    },
    {
      "cell_type": "code",
      "source": [
        "import pandas as pd\n",
        "import numpy as np\n",
        "import datetime\n",
        "import random"
      ],
      "metadata": {
        "id": "yBXj9rw7n1BB"
      },
      "execution_count": null,
      "outputs": []
    },
    {
      "cell_type": "code",
      "source": [
        "acc = np.random.randint(1000000000000000,1111111111999999,50)\n",
        "card = np.random.randint(1000000000000000,1111111111999999,50)\n",
        "dates = [np.random.choice(pd.date_range(datetime.datetime(2020,1,1),datetime.datetime(2021,3,31))) for i in range(400)]\n",
        "money = np.random.randint(-300,72000,300)"
      ],
      "metadata": {
        "id": "mUFhTAebqJsz"
      },
      "execution_count": null,
      "outputs": []
    },
    {
      "cell_type": "code",
      "source": [
        "dftest= pd.DataFrame({'Acc' : [np.random.choice(acc) for i in range(50)],\n",
        "    'dates': [np.random.choice(pd.date_range(datetime.datetime(2020,1,1),datetime.datetime(2021,3,31))) for i in range(50)]})"
      ],
      "metadata": {
        "id": "-JzI8z6LqJpb"
      },
      "execution_count": null,
      "outputs": []
    },
    {
      "cell_type": "code",
      "source": [
        "dftest"
      ],
      "metadata": {
        "id": "KkAAxSlSqJlk"
      },
      "execution_count": null,
      "outputs": []
    },
    {
      "cell_type": "code",
      "source": [],
      "metadata": {
        "id": "JQbq1XFQqJh5"
      },
      "execution_count": null,
      "outputs": []
    },
    {
      "cell_type": "code",
      "source": [],
      "metadata": {
        "id": "eufyJN7AqJes"
      },
      "execution_count": null,
      "outputs": []
    },
    {
      "cell_type": "code",
      "source": [],
      "metadata": {
        "id": "EyaOQVY9qJWZ"
      },
      "execution_count": null,
      "outputs": []
    },
    {
      "cell_type": "code",
      "source": [],
      "metadata": {
        "id": "pOYiav6NqJTH"
      },
      "execution_count": null,
      "outputs": []
    }
  ]
}